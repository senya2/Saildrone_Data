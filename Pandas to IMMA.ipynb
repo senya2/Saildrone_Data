{
 "cells": [
  {
   "cell_type": "code",
   "execution_count": 81,
   "metadata": {},
   "outputs": [],
   "source": [
    "import IMMA\n",
    "import pandas as pd\n",
    "import re\n",
    "import numpy as np\n",
    "import csv\n",
    "import pickle\n",
    "import _pickle"
   ]
  },
  {
   "cell_type": "code",
   "execution_count": 80,
   "metadata": {},
   "outputs": [
    {
     "ename": "SyntaxError",
     "evalue": "invalid syntax (<ipython-input-80-b1b74d266192>, line 19)",
     "output_type": "error",
     "traceback": [
      "\u001b[0;36m  File \u001b[0;32m\"<ipython-input-80-b1b74d266192>\"\u001b[0;36m, line \u001b[0;32m19\u001b[0m\n\u001b[0;31m    ds['dir'] = np.arctan2(subset_usv10_nonan.VWND_MEAN,subset_usv10_nonan.UWND_MEAN)*180/pi\u001b[0m\n\u001b[0m     ^\u001b[0m\n\u001b[0;31mSyntaxError\u001b[0m\u001b[0;31m:\u001b[0m invalid syntax\n"
     ]
    }
   ],
   "source": [
    "\n",
    "with open('test1.txt') as csv_file: #open csv file\n",
    "    csv_reader = csv.reader(csv_file, delimiter=',')\n",
    "\n",
    "print(data_description)\n",
    "\n",
    "\n",
    "obs=IMMA.get('IMMA1_sample.imma') #open existing IMMA file and write to it\n",
    "opfile=open('IMMA1_sample.imma','w')\n",
    "for ob in obs:\n",
    "    imma.write(ob,opfile)\n",
    "    \n",
    "    #code to convert CSV into disctionary entries\n",
    "\n",
    "record(#disctionary here)\n",
    "\n",
    " #calculates vectors from U and V (saildrone gives u and v)\n",
    "   ds['spd']=np.sqrt(ds.UWND_MEAN**2+ds.VWND_MEAN**2)\n",
    "   ds['dir'] = np.arctan2(subset_usv10_nonan.VWND_MEAN,subset_usv10_nonan.UWND_MEAN)*180/pi\n",
    "        \n",
    "        "
   ]
  },
  {
   "cell_type": "markdown",
   "metadata": {},
   "source": [
    "Following code is practicing writing to files "
   ]
  },
  {
   "cell_type": "code",
   "execution_count": 112,
   "metadata": {
    "scrolled": true
   },
   "outputs": [
    {
     "ename": "TypeError",
     "evalue": "write() argument must be str, not _io.TextIOWrapper",
     "output_type": "error",
     "traceback": [
      "\u001b[0;31m---------------------------------------------------------------------------\u001b[0m",
      "\u001b[0;31mTypeError\u001b[0m                                 Traceback (most recent call last)",
      "\u001b[0;32m<ipython-input-112-0d0941a86af7>\u001b[0m in \u001b[0;36m<module>\u001b[0;34m\u001b[0m\n\u001b[1;32m      8\u001b[0m        \u001b[0;31m# file1.write(str(dict))\u001b[0m\u001b[0;34m\u001b[0m\u001b[0;34m\u001b[0m\u001b[0;34m\u001b[0m\u001b[0m\n\u001b[1;32m      9\u001b[0m         \u001b[0;31m## stuck on how to write dictionary, dict works but then it gets stuck on doubles\u001b[0m\u001b[0;34m\u001b[0m\u001b[0;34m\u001b[0m\u001b[0;34m\u001b[0m\u001b[0m\n\u001b[0;32m---> 10\u001b[0;31m \u001b[0mfile1\u001b[0m\u001b[0;34m.\u001b[0m\u001b[0mwrite\u001b[0m\u001b[0;34m(\u001b[0m\u001b[0mFile0\u001b[0m\u001b[0;34m)\u001b[0m\u001b[0;34m\u001b[0m\u001b[0;34m\u001b[0m\u001b[0m\n\u001b[0m\u001b[1;32m     11\u001b[0m \u001b[0;34m\u001b[0m\u001b[0m\n\u001b[1;32m     12\u001b[0m \u001b[0;34m\u001b[0m\u001b[0m\n",
      "\u001b[0;31mTypeError\u001b[0m: write() argument must be str, not _io.TextIOWrapper"
     ]
    }
   ],
   "source": [
    "file=IMMA.get('test1.txt') #open existing csv file \n",
    "file1=open('IMMA_write_test.imma','a') #create new imma file to write data to\n",
    "for text in file:\n",
    "    for chars in text:\n",
    "        #if int(chars) == :\n",
    "            #pass\n",
    "        file1.write(str(dict))\n",
    "        ## stuck on how to write dictionary, dict works but then it gets stuck on doubles\n",
    "file1.write(file)\n",
    "\n",
    "    \n",
    "#file = open('imma_write_test.imma','w') #create file to write csv to, hopefully in IMMA\n",
    "#imma.write('test1.txt', 'imma_write_test.imma')"
   ]
  },
  {
   "cell_type": "code",
   "execution_count": null,
   "metadata": {},
   "outputs": [],
   "source": []
  }
 ],
 "metadata": {
  "kernelspec": {
   "display_name": "Python 3",
   "language": "python",
   "name": "python3"
  },
  "language_info": {
   "codemirror_mode": {
    "name": "ipython",
    "version": 3
   },
   "file_extension": ".py",
   "mimetype": "text/x-python",
   "name": "python",
   "nbconvert_exporter": "python",
   "pygments_lexer": "ipython3",
   "version": "3.7.3"
  }
 },
 "nbformat": 4,
 "nbformat_minor": 2
}
