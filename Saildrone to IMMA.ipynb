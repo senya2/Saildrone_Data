{
 "cells": [
  {
   "cell_type": "markdown",
   "metadata": {},
   "source": [
    "## Converting data from netCDF4 to IMMA1 format"
   ]
  },
  {
   "cell_type": "markdown",
   "metadata": {},
   "source": [
    "Developed by Senya Stein (senyarocks11@gmail.com) in July 2019 for use with Saildrone data\n",
    "\n",
    "IMMA documentation is at https://rda.ucar.edu/datasets/ds548.0/#!docs\n",
    "\n",
    "Can be used with conversion from IMMA code developed by Zhankun Wang and Phillip Brohan: https://github.com/oldweather/IMMA/blob/master/Python/IMMA/icoads.py"
   ]
  },
  {
   "cell_type": "code",
   "execution_count": 2,
   "metadata": {},
   "outputs": [],
   "source": [
    "import numpy as np\n",
    "import pandas as pn\n",
    "import xarray as xr\n",
    "import matplotlib.pyplot as plt\n",
    "import datetime as dt\n",
    "import netCDF4"
   ]
  },
  {
   "cell_type": "markdown",
   "metadata": {},
   "source": [
    "Note: IMMA expects specific units and instrumentation, this program assumes the following incoming data, instruments, and country codes:\n",
    "\n",
    "Latitude-Degrees North (to hundredths+)\n",
    "\n",
    "Longitude-Degrees East (to hundredths+)\n",
    "\n",
    "Time-Hours plus minutes\n",
    "\n",
    "Country that recruited ship- United States (C1_var, will need manual change)\n",
    "\n",
    "Wind direction compass precision- Tenths+ of degrees\n",
    "\n",
    "Wind speed units- knots, obtained from anemometer (measured)\n",
    "\n",
    "Sea level pressure- Hpa\n",
    "\n",
    "Sea surface temperature- taken with a through hull sensor ASK IF CORRECT TO IMMA PPL (pumped CTD measurment)\n",
    "\n",
    "Wave period and wave height- don't exist at default but easily added (line 60)\n",
    "\n",
    "\n"
   ]
  },
  {
   "cell_type": "markdown",
   "metadata": {},
   "source": [
    "### Data in xarray form"
   ]
  },
  {
   "cell_type": "code",
   "execution_count": 3,
   "metadata": {},
   "outputs": [
    {
     "data": {
      "text/plain": [
       "<xarray.Dataset>\n",
       "Dimensions:             (obs: 86839, trajectory: 1)\n",
       "Coordinates:\n",
       "  * trajectory          (trajectory) float32 1002.0\n",
       "    time                (trajectory, obs) datetime64[ns] ...\n",
       "    latitude            (trajectory, obs) float64 ...\n",
       "    longitude           (trajectory, obs) float64 ...\n",
       "Dimensions without coordinates: obs\n",
       "Data variables:\n",
       "    SOG                 (trajectory, obs) float64 ...\n",
       "    COG                 (trajectory, obs) float64 ...\n",
       "    HDG                 (trajectory, obs) float64 ...\n",
       "    HDG_WING            (trajectory, obs) float64 ...\n",
       "    BARO_PRES_MEAN      (trajectory, obs) float64 ...\n",
       "    TEMP_AIR_MEAN       (trajectory, obs) float64 ...\n",
       "    RH_MEAN             (trajectory, obs) float64 ...\n",
       "    TEMP_IR_UNCOR_MEAN  (trajectory, obs) float64 ...\n",
       "    UWND_MEAN           (trajectory, obs) float64 ...\n",
       "    VWND_MEAN           (trajectory, obs) float64 ...\n",
       "    WWND_MEAN           (trajectory, obs) float64 ...\n",
       "    WWND_STDDEV         (trajectory, obs) float64 ...\n",
       "    GUST_WND_MEAN       (trajectory, obs) float64 ...\n",
       "    TEMP_CTD_MEAN       (trajectory, obs) float64 ...\n",
       "    COND_MEAN           (trajectory, obs) float64 ...\n",
       "    SAL_MEAN            (trajectory, obs) float64 ...\n",
       "    CDOM_MEAN           (trajectory, obs) float64 ...\n",
       "Attributes:\n",
       "    _NCProperties:             version=1|netcdflibversion=4.4.1.1|hdf5libvers...\n",
       "    title:                     Baja 2018 Near-Real-Time Mission Data\n",
       "    ncei_template_version:     NCEI_NetCDF_Trajectory_Template_v2.0\n",
       "    Conventions:               CF-1.6, ACDD-1.3\n",
       "    netcdf_version:            4.4.1.1\n",
       "    featureType:               trajectory\n",
       "    cdm_data_type:             Trajectory\n",
       "    standard_name_vocabulary:  CF Standard Name Table v58\n",
       "    description:               Saildrone NetCDF Format\n",
       "    creator_name:              Saildrone\n",
       "    platform:                  Saildrone\n",
       "    institution:               Saildrone\n",
       "    creator_email:             support@saildrone.com\n",
       "    creator_url:               http://saildrone.com/\n",
       "    date_created:              2018-08-29T21:02:49.774718Z\n",
       "    interval:                  60.0\n",
       "    time_coverage_resolution:  PT1M\n",
       "    time_coverage_start:       2018-04-11T18:00:00.000000Z\n",
       "    time_coverage_end:         2018-06-11T05:59:59.000000Z\n",
       "    time_coverage_duration:    P60DT11H59M59S\n",
       "    data_mode:                 realtime\n",
       "    drone_id:                  1002\n",
       "    id:                        3860\n",
       "    naming_authority:          com.saildrone\n",
       "    uuid:                      b98a9a81-d9f0-4751-aad6-8ea5b8cea963\n",
       "    geospatial_lat_min:        28.0176832\n",
       "    geospatial_lat_max:        37.8174912\n",
       "    geospatial_lat_units:      degrees_north\n",
       "    geospatial_lon_min:        -125.5529728\n",
       "    geospatial_lon_max:        -115.5226624\n",
       "    geospatial_lon_units:      degrees_east\n",
       "    area:                      Baja California Coast\n",
       "    project:                   baja_2018\n",
       "    product_version:           1\n",
       "    summary:                   The Saildrone unmanned surface vehicle (USV) c..."
      ]
     },
     "execution_count": 3,
     "metadata": {},
     "output_type": "execute_result"
    }
   ],
   "source": [
    "url = 'https://podaac-opendap.jpl.nasa.gov/opendap/hyrax/allData/insitu/L2/saildrone/Baja/saildrone-gen_4-baja_2018-sd1002-20180411T180000-20180611T055959-1_minutes-v1.nc'\n",
    "ds = xr.open_dataset(url, drop_variables = {'WING_ANGLE','BARO_PRES_STDDEV', 'ROLL', 'PITCH', 'TEMP_AIR_STDDEV', 'RH_STDDEV', 'UWND_STDDEV', 'VWND_STDDEV', 'GUST_WND_STDDEV', 'TEMP_CTD_STDDEV', 'COND_STDDEV', 'SAL_STDDEV', 'O2_CONC_UNCOR_MEAN', 'O2_CONC_UNCOR_STDDEV', 'O2_SAT_MEAN', 'O2_SAT_STDDEV', 'TEMP_O2_MEAN', 'TEMP_O2_STDDEV', 'CHLOR_MEAN', 'CHLOR_STDDEV', 'BKSCT_RED_MEAN', 'BKSCT_RED_STDDEV', 'CDOM_STDDEV', ' WWND_STDDEV', 'TEMP_IR_UNCOR_STDDEV' })\n",
    "ds"
   ]
  },
  {
   "cell_type": "code",
   "execution_count": 6,
   "metadata": {},
   "outputs": [
    {
     "name": "stdout",
     "output_type": "stream",
     "text": [
      "<xarray.DataArray 'TEMP_AIR_MEAN' (obs: 86839)>\n",
      "array([12.99, 13.12, 13.08, ...,   nan,   nan,   nan])\n",
      "Coordinates:\n",
      "    trajectory  float32 1002.0\n",
      "    time        (obs) datetime64[ns] ...\n",
      "    latitude    (obs) float64 ...\n",
      "    longitude   (obs) float64 ...\n",
      "Dimensions without coordinates: obs\n",
      "Attributes:\n",
      "    standard_name:              air_temperature\n",
      "    long_name:                  Air temperature\n",
      "    units:                      degrees_c\n",
      "    update_period:              Attribute edlided: Unsupported attribute type...\n",
      "    model_product_page:         \n",
      "    device_name:                Rotronic AT/RH (1053)\n",
      "    installed_date:             2017-10-02T18:47:07Z\n",
      "    nominal_sampling_schedule:  60s on, 240s off, centered at :00\n",
      "    installed_height:           2.4\n",
      "    serial_number:              1053\n",
      "    vendor_name:                Rotronic\n",
      "    model_name:                 HC2-S3\n"
     ]
    }
   ],
   "source": [
    "print(ds.TEMP_AIR_MEAN[0])"
   ]
  },
  {
   "cell_type": "code",
   "execution_count": 47,
   "metadata": {},
   "outputs": [],
   "source": [
    "# swap obs for time\n",
    "ds=ds.isel(trajectory=0)\n",
    "ds = ds.swap_dims({'obs':'time'})\n"
   ]
  },
  {
   "cell_type": "code",
   "execution_count": 48,
   "metadata": {},
   "outputs": [
    {
     "name": "stdout",
     "output_type": "stream",
     "text": [
      "86839\n"
     ]
    }
   ],
   "source": [
    "#resample to make time = 1 hr increments\n",
    "\n",
    "pd_ds = ds.to_dataframe()\n",
    "dshr = pd_ds.set_index('time').groupby(pd.Grouper(freq='1H')).mean()\n",
    "dshr = ds\n",
    "dshr=ds.resample(time='1h', skipna=True, label='left').mean()\n",
    "dshr\n",
    "# does data need to be averaged from beginning of hour to end, or from half way through one hour and half through the other??\n",
    "#for now, we will average hours from beginning of hour to the end, how resample defaults\n",
    "#data showed as 18:00 is data from the hour of 18:00 to 18:59\n",
    " \n",
    "#size = ds['time'].to_data_array()\n",
    "size = int(len(ds['time']))\n",
    "print(size)\n",
    "\n",
    "#size = ds.sizes('time')"
   ]
  },
  {
   "cell_type": "markdown",
   "metadata": {},
   "source": [
    "# Do the math stuff in xarray\n",
    "Then save as a dataframe, then to strings of the data "
   ]
  },
  {
   "cell_type": "code",
   "execution_count": 8,
   "metadata": {},
   "outputs": [
    {
     "ename": "NameError",
     "evalue": "name 'dshr' is not defined",
     "output_type": "error",
     "traceback": [
      "\u001b[0;31m---------------------------------------------------------------------------\u001b[0m",
      "\u001b[0;31mNameError\u001b[0m                                 Traceback (most recent call last)",
      "\u001b[0;32m<ipython-input-8-15e118a4d99c>\u001b[0m in \u001b[0;36m<module>\u001b[0;34m\u001b[0m\n\u001b[0;32m----> 1\u001b[0;31m \u001b[0mtime_shift\u001b[0m \u001b[0;34m=\u001b[0m \u001b[0mdshr\u001b[0m\u001b[0;34m.\u001b[0m\u001b[0mtime\u001b[0m \u001b[0;34m+\u001b[0m \u001b[0mnp\u001b[0m\u001b[0;34m.\u001b[0m\u001b[0mtimedelta64\u001b[0m\u001b[0;34m(\u001b[0m\u001b[0;36m30\u001b[0m\u001b[0;34m,\u001b[0m\u001b[0;34m'm'\u001b[0m\u001b[0;34m)\u001b[0m\u001b[0;34m\u001b[0m\u001b[0;34m\u001b[0m\u001b[0m\n\u001b[0m\u001b[1;32m      2\u001b[0m \u001b[0;34m\u001b[0m\u001b[0m\n\u001b[1;32m      3\u001b[0m \u001b[0;32mfor\u001b[0m \u001b[0mi\u001b[0m \u001b[0;32min\u001b[0m \u001b[0mrange\u001b[0m\u001b[0;34m(\u001b[0m\u001b[0msize\u001b[0m\u001b[0;34m)\u001b[0m\u001b[0;34m:\u001b[0m\u001b[0;34m\u001b[0m\u001b[0;34m\u001b[0m\u001b[0m\n\u001b[1;32m      4\u001b[0m    \u001b[0;31m# HR = str(int(100*(time_shift.dt.hour[i]+time_shift.dt.minute[i]/60)/100))\u001b[0m\u001b[0;34m\u001b[0m\u001b[0;34m\u001b[0m\u001b[0;34m\u001b[0m\u001b[0m\n\u001b[1;32m      5\u001b[0m     \u001b[0;31m#format string output and put hours in correct units (.01hr)\u001b[0m\u001b[0;34m\u001b[0m\u001b[0;34m\u001b[0m\u001b[0;34m\u001b[0m\u001b[0m\n",
      "\u001b[0;31mNameError\u001b[0m: name 'dshr' is not defined"
     ]
    }
   ],
   "source": [
    "time_shift = dshr.time + np.timedelta64(30,'m')\n",
    "\n",
    "for i in range(size):\n",
    "   # HR = str(int(100*(time_shift.dt.hour[i]+time_shift.dt.minute[i]/60)/100))\n",
    "    #format string output and put hours in correct units (.01hr)\n",
    "    HR = '{time_shift.dt.hour[i]+time_shift.dt.minute[i]/60:.2f}'\n",
    "    HR = str(HR)\n",
    "           \n",
    "    time_str = str(time_shift.dt.year[i])+str(time_shift.dt.month[i])+str(time_shift.dt.day[i])+HR\n",
    "    #time_str is YR + MO + DY + HR\n",
    "    \n",
    "\n",
    "#format output to 2 decimal places\n",
    "#ds_hour = str(dshr['time.hour'])\n",
    "#precision = 2\n",
    "#ds_hour = '{ds_hour:.2f}'\n",
    "\n",
    "# do the same for lat and lon \n",
    "lat_shift = ds.latitude\n",
    "lon_shift = ds.longitude\n",
    "\n",
    "# do lat and lon need shifted units or not?\n",
    "for i in range(size): \n",
    "    LAT = '{lat_shift[i]:.2f}'\n",
    "    LON = '{lon_shift[i]:.2f}'\n",
    "    pos_str = str(LAT[i])+str(LON[i])\n",
    "\n",
    "#ds_hour = dshr.resample(time = '.01H', skipna = True, label = 'left')\n",
    "#put it in .01 hour for IMMA, need to do the same for LAT and LON\n",
    "\n",
    "#ds_day = dshr['time.day']\n",
    "#ds_day \n",
    "\n",
    "#ds_month = dshr['time.month']\n",
    "#ds_month\n",
    "\n",
    "#ds_year = dshr['time.year']\n",
    "#ds_year"
   ]
  },
  {
   "cell_type": "code",
   "execution_count": null,
   "metadata": {},
   "outputs": [],
   "source": [
    "for i in range(size):\n",
    "    IM = '01' \n",
    "\n",
    "#ATTC-1 p.19\n",
    "\n",
    "ATTC = ' '\n",
    "#bc saildrone doesnt have the above\n",
    "#rename blank strings to something more intuitive later?\n",
    "\n",
    "\n",
    "TI_var = '2'\n",
    "LI_var = '5'\n",
    "\n",
    "#COG and SOG now\n",
    "DS_var = ds.COG\n",
    "DV_var = ds.SOG\n",
    "    \n",
    "for i in range(size):\n",
    "    DSDV = str(DS_var[i])+str(DV_var[i])\n",
    "    \n",
    "#NID-2 \n",
    "NID = '  '\n",
    "\n",
    "\n",
    "II = '  '#2\n",
    "ID = '         '#9\n",
    "C1 = '02'\n",
    "### C1 is The country that recruited a ship, which may differ from the country of immediate receipt, see page 21, # 16 in IMMA documentation for full list of codes\n"
   ]
  },
  {
   "cell_type": "code",
   "execution_count": 12,
   "metadata": {},
   "outputs": [
    {
     "ename": "NameError",
     "evalue": "name 'size' is not defined",
     "output_type": "error",
     "traceback": [
      "\u001b[0;31m---------------------------------------------------------------------------\u001b[0m",
      "\u001b[0;31mNameError\u001b[0m                                 Traceback (most recent call last)",
      "\u001b[0;32m<ipython-input-12-020bdf565e1b>\u001b[0m in \u001b[0;36m<module>\u001b[0;34m\u001b[0m\n\u001b[0;32m----> 1\u001b[0;31m \u001b[0;32mfor\u001b[0m \u001b[0mi\u001b[0m \u001b[0;32min\u001b[0m \u001b[0mrange\u001b[0m\u001b[0;34m(\u001b[0m\u001b[0msize\u001b[0m\u001b[0;34m)\u001b[0m\u001b[0;34m:\u001b[0m\u001b[0;34m\u001b[0m\u001b[0;34m\u001b[0m\u001b[0m\n\u001b[0m\u001b[1;32m      2\u001b[0m     \u001b[0mDI_var\u001b[0m \u001b[0;34m=\u001b[0m \u001b[0;34m'6'\u001b[0m\u001b[0;34m\u001b[0m\u001b[0;34m\u001b[0m\u001b[0m\n\u001b[1;32m      3\u001b[0m     \u001b[0mD_var\u001b[0m \u001b[0;34m=\u001b[0m \u001b[0mnp\u001b[0m\u001b[0;34m.\u001b[0m\u001b[0marctan2\u001b[0m\u001b[0;34m(\u001b[0m\u001b[0mds\u001b[0m\u001b[0;34m.\u001b[0m\u001b[0mVWND_MEAN\u001b[0m\u001b[0;34m[\u001b[0m\u001b[0mi\u001b[0m\u001b[0;34m]\u001b[0m\u001b[0;34m,\u001b[0m \u001b[0mds\u001b[0m\u001b[0;34m.\u001b[0m\u001b[0mUWND_MEAN\u001b[0m\u001b[0;34m[\u001b[0m\u001b[0mi\u001b[0m\u001b[0;34m]\u001b[0m\u001b[0;34m)\u001b[0m\u001b[0;34m*\u001b[0m\u001b[0;36m180\u001b[0m\u001b[0;34m/\u001b[0m\u001b[0mnp\u001b[0m\u001b[0;34m.\u001b[0m\u001b[0mpi\u001b[0m \u001b[0;31m#this is wind TO direction, i think imma format is wind FROM\u001b[0m\u001b[0;34m\u001b[0m\u001b[0;34m\u001b[0m\u001b[0m\n\u001b[1;32m      4\u001b[0m     \u001b[0mWI_var\u001b[0m \u001b[0;34m=\u001b[0m \u001b[0;34m'4'\u001b[0m\u001b[0;34m\u001b[0m\u001b[0;34m\u001b[0m\u001b[0m\n\u001b[1;32m      5\u001b[0m     \u001b[0mW_var\u001b[0m \u001b[0;34m=\u001b[0m \u001b[0mnp\u001b[0m\u001b[0;34m.\u001b[0m\u001b[0msqrt\u001b[0m\u001b[0;34m(\u001b[0m\u001b[0mds\u001b[0m\u001b[0;34m.\u001b[0m\u001b[0mUWND_MEAN\u001b[0m\u001b[0;34m[\u001b[0m\u001b[0mi\u001b[0m\u001b[0;34m]\u001b[0m\u001b[0;34m**\u001b[0m\u001b[0;36m2\u001b[0m \u001b[0;34m+\u001b[0m \u001b[0mds\u001b[0m\u001b[0;34m.\u001b[0m\u001b[0mVWND_MEAN\u001b[0m\u001b[0;34m[\u001b[0m\u001b[0mi\u001b[0m\u001b[0;34m]\u001b[0m\u001b[0;34m**\u001b[0m\u001b[0;36m2\u001b[0m\u001b[0;34m)\u001b[0m \u001b[0;31m#convert vectors to speed\u001b[0m\u001b[0;34m\u001b[0m\u001b[0;34m\u001b[0m\u001b[0m\n",
      "\u001b[0;31mNameError\u001b[0m: name 'size' is not defined"
     ]
    }
   ],
   "source": [
    "for i in range(size):\n",
    "    DI_var = '6'\n",
    "    D_var = np.arctan2(ds.VWND_MEAN[i], ds.UWND_MEAN[i])*180/np.pi #this is wind TO direction, i think imma format is wind FROM\n",
    "    WI_var = '4'\n",
    "    W_var = np.sqrt(ds.UWND_MEAN[i]**2 + ds.VWND_MEAN[i]**2) #convert vectors to speed\n",
    "    W_var = W_var/1.9444  #unit conversion (kn to .1 m/s)\n",
    "    W_var = '{W_var:.1f}'\n",
    "\n",
    "\n",
    "#is wind speed given at 10m height for IMMA?  -- it doesnt say in pdf -- if so, you need to convert to 10m wind as follows:\n",
    "#WS_height=int(ds.UWND_MEAN.installed_height)\n",
    "#wind_speed_10m = (wind_speed*log(10./1e-4))/log(WS_height/1e-4)\n",
    "\n",
    "\n",
    "#VI-1 VV-2 WW-2 W1- 1\n",
    "VItoW1 = '      '\n",
    "\n",
    "\n",
    "for i in range(size):\n",
    "#reformat the SLP and put in correcnt units\n",
    "    SLP_var = ds.BARO_PRES_MEAN[i]\n",
    "    SLP_var = SLP_var[i]*.1\n",
    "    SLP_var = '{SLP_var:.1f}'\n",
    "\n",
    "#A-1 PPP-3 IT-1\n",
    "AtoIT = '    '\n",
    "\n",
    "\n",
    "for i in range(size):\n",
    "    IT_var = '8'\n",
    "\n",
    "    AT_var = ds.TEMP_AIR_MEAN[i]\n",
    "    AT_var = AT_var*.1\n",
    "    AT_var = '{AT_var:.1f}'\n",
    "\n",
    "#WBTI-1 WBT-4 DPTI-1 DPT-4 \n",
    "WBTItoDPT = '          '\n",
    "\n",
    "SI_var = '04'\n",
    "    \n",
    "for i in range(size):\n",
    "    SST_var = ds.TEMP_CTD_MEAN[i]\n",
    "    SST_var = SST_var*.1\n",
    "    SST_var = '{SST_var:.1f}'\n",
    "\n",
    "#N-1 NH-1 CL-1 HI-1 H-1 CM-1 CH-1 \n",
    "NtoCH = '       '\n",
    "\n",
    "if WAVE_DOMINANT_PERIOD != nan:\n",
    "    for i in range(size):\n",
    "        WD_var = '  '\n",
    "        WP_var = WAVE_DOMINANT_PERIOD\n",
    "        WH_var = WAVE_SIGNIFICANT_HEIGHT\n",
    "else:\n",
    "    #WD-2 WP-2 WH-2\n",
    "    WD_var = '  '\n",
    "    WP_var = '  '\n",
    "    WH_var = '  '\n",
    "\n",
    "\n",
    "#everything beyond that I dont think we use (the lengths of them):\n",
    "##DOUBLE CHECK THIS\n",
    "#1 3 2 3 3 2 2 1 1 1 1 1 2 12 1 6 14 2 1 2 1 1 1 1 1 1 1 1 1 1 1 1 1 1 1 1 1 1 1 1 1 2 1 2 2 2 1 1 1 1 1 1 1 2 2 2 1 2 1 1 1 1 1 1 1 3 1 1 1 20 1 3 3 2 2 3 3 3 8 4 1 1 7 2 2 4 6 1 5 4 4 4 4 4 3 3 5 1 4 4 2 2 2 2 2 2 1 2 2 2 2 3 3 2 2 1 2 3 3 2 3 3 3 3 5 5 2 2 2 5 4 5 4 4 4 4 4 5 4 5 4 3 4 4 4 3 4 4 4 2 4 10 2 2 1 2 1 1 1 2 2 1 3 3 1 1 1 4 4 2 2 2 2 2 2 1 7 7 7 7 7 4 8 1 2 2 2 2 1 6 1 1 6 1 1 6 1 1 6 1 4 8 1 2 2 2 2 1 10 4 8 1 2 2 6 1 1 1 1 1 2 2 1 \n",
    "#1+3+2+3+3+2+2+1+1+1+1+1+2+12+1+6+14+2+1+2+1+1+1+1+1+1+1+1+1+1+1+1+1+1+1+1+1+1+1+1+1+2+1+2+2+2+1+1+1+1+1+1+1+2+2+2+1+2+1+1+1+1+1+1+1+3+1+1+1+20+1+3+3+2+2+3+3+3+8+4+1+1+7+2+2+4+6+1+5+4+4+4+4+4+3+3+5+1+4+4+2+2+2+2+2+2+1+2+2+2+2+3+3+2+2+1+2+3+3+2+3+3+3+3+5+5+2+2+2+5+4+5+4+4+4+4+4+5+4+5+4+3+4+4+4+3+4+4+4+2+4+10+2+2+1+2+1+1+1+2+2+1+3+3+1+1+1+4+4+2+2+2+2+2+2+1+7+7+7+7+7+4+8+1+2+2+2+2+1+6+1+1+6+1+1+6+1+1+6+1+4+8+1+2+2+2+2+1+10+4+8+1+2+2+6+1+1+1+1+1+2+2+1\n",
    "#607+4+6\n",
    "\n",
    "ALL_var = ''\n",
    "for i in range(617):\n",
    "       ALL_var += ' '"
   ]
  },
  {
   "cell_type": "code",
   "execution_count": 7,
   "metadata": {},
   "outputs": [
    {
     "ename": "NameError",
     "evalue": "name 'time_str' is not defined",
     "output_type": "error",
     "traceback": [
      "\u001b[0;31m---------------------------------------------------------------------------\u001b[0m",
      "\u001b[0;31mNameError\u001b[0m                                 Traceback (most recent call last)",
      "\u001b[0;32m<ipython-input-7-bb6148fac786>\u001b[0m in \u001b[0;36m<module>\u001b[0;34m\u001b[0m\n\u001b[1;32m      1\u001b[0m \u001b[0;31m#combine all seperate strings to one string to export to txt file\u001b[0m\u001b[0;34m\u001b[0m\u001b[0;34m\u001b[0m\u001b[0;34m\u001b[0m\u001b[0m\n\u001b[0;32m----> 2\u001b[0;31m \u001b[0mOutput_str\u001b[0m \u001b[0;34m=\u001b[0m \u001b[0mtime_str\u001b[0m \u001b[0;34m+\u001b[0m \u001b[0mpos_str\u001b[0m \u001b[0;34m+\u001b[0m \u001b[0mIM\u001b[0m \u001b[0;34m+\u001b[0m \u001b[0mATTC\u001b[0m \u001b[0;34m+\u001b[0m \u001b[0mTI_var\u001b[0m \u001b[0;34m+\u001b[0m \u001b[0mLI_var\u001b[0m \u001b[0;34m+\u001b[0m \u001b[0mDSDV\u001b[0m \u001b[0;34m+\u001b[0m \u001b[0mNID\u001b[0m \u001b[0;34m+\u001b[0m \u001b[0mII\u001b[0m \u001b[0;34m+\u001b[0m \u001b[0mID\u001b[0m \u001b[0;34m+\u001b[0m \u001b[0mC1\u001b[0m \u001b[0;34m+\u001b[0m \u001b[0mDI_var\u001b[0m \u001b[0;34m+\u001b[0m \u001b[0mD_var\u001b[0m \u001b[0;34m+\u001b[0m \u001b[0mWI_var\u001b[0m \u001b[0;34m+\u001b[0m \u001b[0mW_var\u001b[0m \u001b[0;34m+\u001b[0m \u001b[0mVItoW1\u001b[0m \u001b[0;34m+\u001b[0m \u001b[0mSLP_var\u001b[0m \u001b[0;34m+\u001b[0m \u001b[0mAtoIT\u001b[0m \u001b[0;34m+\u001b[0m \u001b[0mIT_var\u001b[0m \u001b[0;34m+\u001b[0m \u001b[0mAT_var\u001b[0m \u001b[0;34m+\u001b[0m \u001b[0mWBTItoDPT\u001b[0m \u001b[0;34m+\u001b[0m \u001b[0mSI_var\u001b[0m \u001b[0;34m+\u001b[0m \u001b[0mSST_var\u001b[0m \u001b[0;34m+\u001b[0m \u001b[0mNtoCH\u001b[0m \u001b[0;34m+\u001b[0m \u001b[0mWD_var\u001b[0m \u001b[0;34m+\u001b[0m \u001b[0mWP_var\u001b[0m \u001b[0;34m+\u001b[0m \u001b[0mWH_var\u001b[0m \u001b[0;34m+\u001b[0m \u001b[0mALL_var\u001b[0m\u001b[0;34m\u001b[0m\u001b[0;34m\u001b[0m\u001b[0m\n\u001b[0m",
      "\u001b[0;31mNameError\u001b[0m: name 'time_str' is not defined"
     ]
    }
   ],
   "source": []
  },
  {
   "cell_type": "markdown",
   "metadata": {},
   "source": [
    "### Decode and store data as Pandas"
   ]
  },
  {
   "cell_type": "code",
   "execution_count": null,
   "metadata": {},
   "outputs": [],
   "source": [
    "pd_ds = ds.to_dataframe()\n",
    "pd_ds"
   ]
  },
  {
   "cell_type": "code",
   "execution_count": null,
   "metadata": {},
   "outputs": [],
   "source": [
    "pd_ds[['time', 'PITCH']]"
   ]
  },
  {
   "cell_type": "code",
   "execution_count": null,
   "metadata": {},
   "outputs": [],
   "source": [
    "#write dataframe to file\n",
    "pd_ds.to_csv(\"test1.csv\")  \n",
    "#read it back\n",
    "pd.read_csv(\"test1.csv\").head()"
   ]
  },
  {
   "cell_type": "markdown",
   "metadata": {},
   "source": [
    "### Convert new csv file to a text file"
   ]
  },
  {
   "cell_type": "code",
   "execution_count": null,
   "metadata": {},
   "outputs": [],
   "source": [
    "# A simple program to create a formatted text file from a *.csv file.\n",
    "\n",
    "csv_file = input('test1.csv')\n",
    "txt_file = input('test1.txt')\n",
    "\n",
    "try:\n",
    "    my_input_file = open(csv_file, \"r\")\n",
    "except IOError as e:\n",
    "    print(\"I/O error({0}): {1}\".format(e.errno, e.strerror))\n",
    "\n",
    "if not my_input_file.closed:\n",
    "    text_list = [];\n",
    "    for line in my_input_file.readlines():\n",
    "        line = line.split(\",\", 2)\n",
    "        text_list.append(\" \".join(line))\n",
    "    my_input_file.close()\n",
    "\n",
    "try:\n",
    "    my_output_file = open(txt_file, \"w\")\n",
    "except IOError as e:\n",
    "    print(\"I/O error({0}): {1}\".format(e.errno, e.strerror))\n",
    "\n",
    "if not my_output_file.closed:\n",
    "    my_output_file.write(\"#1\\n\")\n",
    "    my_output_file.write(\"double({},{})\\n\".format(len(text_list), 2))\n",
    "    for line in text_list:\n",
    "        my_output_file.write(\"  \" + line)\n",
    "    print('File Successfully written.')\n",
    "    my_output_file.close()"
   ]
  },
  {
   "cell_type": "code",
   "execution_count": null,
   "metadata": {},
   "outputs": [],
   "source": []
  },
  {
   "cell_type": "code",
   "execution_count": null,
   "metadata": {},
   "outputs": [],
   "source": []
  },
  {
   "cell_type": "code",
   "execution_count": null,
   "metadata": {},
   "outputs": [],
   "source": []
  }
 ],
 "metadata": {
  "kernelspec": {
   "display_name": "Python 3",
   "language": "python",
   "name": "python3"
  },
  "language_info": {
   "codemirror_mode": {
    "name": "ipython",
    "version": 3
   },
   "file_extension": ".py",
   "mimetype": "text/x-python",
   "name": "python",
   "nbconvert_exporter": "python",
   "pygments_lexer": "ipython3",
   "version": "3.7.3"
  }
 },
 "nbformat": 4,
 "nbformat_minor": 2
}
