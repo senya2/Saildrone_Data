{
 "cells": [
  {
   "cell_type": "markdown",
   "metadata": {},
   "source": [
    "## IMMA project notes"
   ]
  },
  {
   "cell_type": "markdown",
   "metadata": {},
   "source": [
    "### Helpful links:\n",
    "read/write IMMA with python- http://brohan.org/pyIMMA/module_IMMA.html#IMMA.write \n",
    "\n",
    "stack exhange thread- https://datascience.stackexchange.com/questions/53728/read-pandas-data-and-convert-it-to-imma\n",
    "\n",
    "email abt it with Zhankun Wang- https://mail.google.com/mail/u/0/#inbox/QgrcJHrhsvdZvjQSBRfMcRtjzCCqgcknVHb\n",
    "\n",
    "IMMA conversion github- https://github.com/philip-brohan/pyIMMA\n",
    "\n",
    "Pandas read/write data- https://data36.com/pandas-tutorial-1-basics-reading-data-files-dataframes-data-selection/\n",
    "\n",
    "How to write only certain things to a file- https://stackoverflow.com/questions/15343743/copying-from-one-text-file-to-another-using-python \n",
    "\n",
    "Read/Write CSV files- https://stackabuse.com/reading-and-writing-csv-files-in-python/"
   ]
  },
  {
   "cell_type": "markdown",
   "metadata": {},
   "source": [
    "### Notes:"
   ]
  },
  {
   "cell_type": "markdown",
   "metadata": {},
   "source": [
    "pyIMMA/write.py writes an IMMA file to another IMMA file best I can tell\n",
    "\n",
    "I could also input a CSV to IMMA which may be easier\n",
    "\n",
    "\n",
    "CSV form: Latitude, Longitude, COG, SOG, ?, ?, ?, ?, BARO_PRES_MEAN, TEMP_AIR_MEAN, CTD_TEMP_MEAN\n",
    "\n",
    "IMMA form: LAT, LON, DS, VS, DI, D, WI, W, SLP, AT, SST, (WD, WP, WH may be in more recent data)\n",
    "\n",
    "**check units on all\n",
    "\n",
    "IMMA rounds to hour, CSV file goes to second ... .resample command goes to bottom limit of interval, in IMMA needs to round to middle of interval "
   ]
  },
  {
   "cell_type": "markdown",
   "metadata": {},
   "source": [
    "## Procedure:"
   ]
  },
  {
   "cell_type": "markdown",
   "metadata": {},
   "source": [
    "1) format xarray file\n",
    "\n",
    "2) convert units to IMMA ones in xarray\n",
    "\n",
    "3) convert file to pandas\n",
    "\n",
    "4) create code to write strings formatted to IMMA\n",
    "\n",
    "5) write strings into new file\n",
    "\n",
    "**convert each CSV list into IMMA dictionary then write each dict to IMMA file"
   ]
  },
  {
   "cell_type": "markdown",
   "metadata": {},
   "source": [
    "## Problems to work through:"
   ]
  },
  {
   "cell_type": "markdown",
   "metadata": {},
   "source": [
    "#### Data conversion:\n",
    "- IMMA rounds to hour, CSV file goes to second ...resample command goes to bottom limit of interval, in IMMA needs to round to middle of interval \n",
    "\n",
    "- .resample command takes forever! Find a way to make it run faster, or do we even need to resample the data?\n",
    "    Update: groupby takes just as long, maybe a data issue?"
   ]
  },
  {
   "cell_type": "markdown",
   "metadata": {},
   "source": [
    "## IMMA variable things to ask Chelle/Saildrone"
   ]
  },
  {
   "cell_type": "markdown",
   "metadata": {},
   "source": [
    "-Whats ATTM? (p.19)\n",
    "-Whats our ID? (II too) (p. 20)\n",
    "-Whats our DI (p. 21)\n",
    "-Our WI? (p. 22)\n",
    "-Our IT? (p.27)\n",
    "-SI? (p.28)\n",
    "-What are wave direction, period, and height called in the (newer) saildrone netCDF4?\n",
    "-No swell dir, per, height, correct?\n",
    "-ATTI (p.32)\n",
    "-PT (p. 43)\n",
    "-DUPS (p. 44)\n",
    "-dshr has no attribute size ?? "
   ]
  }
 ],
 "metadata": {
  "kernelspec": {
   "display_name": "Python 3",
   "language": "python",
   "name": "python3"
  },
  "language_info": {
   "codemirror_mode": {
    "name": "ipython",
    "version": 3
   },
   "file_extension": ".py",
   "mimetype": "text/x-python",
   "name": "python",
   "nbconvert_exporter": "python",
   "pygments_lexer": "ipython3",
   "version": "3.7.3"
  }
 },
 "nbformat": 4,
 "nbformat_minor": 2
}
