{
 "cells": [
  {
   "cell_type": "markdown",
   "metadata": {},
   "source": [
    "## IMMA project notes"
   ]
  },
  {
   "cell_type": "markdown",
   "metadata": {},
   "source": [
    "### Helpful links:\n",
    "read/write IMMA with python- http://brohan.org/pyIMMA/module_IMMA.html#IMMA.write \n",
    "\n",
    "stack exhange thread- https://datascience.stackexchange.com/questions/53728/read-pandas-data-and-convert-it-to-imma\n",
    "\n",
    "email abt it with Zhankun Wang- https://mail.google.com/mail/u/0/#inbox/QgrcJHrhsvdZvjQSBRfMcRtjzCCqgcknVHb\n",
    "\n",
    "IMMA conversion github- https://github.com/philip-brohan/pyIMMA\n",
    "\n",
    "Pandas read/write data- https://data36.com/pandas-tutorial-1-basics-reading-data-files-dataframes-data-selection/"
   ]
  },
  {
   "cell_type": "markdown",
   "metadata": {},
   "source": [
    "### Notes:"
   ]
  },
  {
   "cell_type": "markdown",
   "metadata": {},
   "source": [
    "pyIMMA/write.py writes an IMMA file to another IMMA file best I can tell\n",
    "\n",
    "I could also input a CSV to IMMA which may be easier\n",
    "\n",
    "\n",
    "CSV form: Latitude, Longitude, COG, SOG, ?, ?, ?, ?, BARO_PRES_MEAN, TEMP_AIR_MEAN, CTD_TEMP_MEAN\n",
    "IMMA form: LAT, LON, DS, VS, DI, D, WI, W, SLP, AT, SST, (WD, WP, WH may in more recent data)\n",
    "\n",
    "**check units on all"
   ]
  },
  {
   "cell_type": "markdown",
   "metadata": {},
   "source": [
    "## Procedure:"
   ]
  },
  {
   "cell_type": "markdown",
   "metadata": {},
   "source": [
    "1) Read in pandas file\n",
    "\n",
    "2) Convert units/vectors and such using xarray and also time (Avg over one hour, -30, 30)\n",
    "\n",
    "2) Convert file to IMMA\n",
    "\n",
    "3) Write IMMA data to another file\n",
    "\n",
    "\n",
    "**convert each CSV list into IMMA dictionary then write each dict to IMMA file"
   ]
  },
  {
   "cell_type": "code",
   "execution_count": null,
   "metadata": {},
   "outputs": [],
   "source": []
  }
 ],
 "metadata": {
  "kernelspec": {
   "display_name": "Python 3",
   "language": "python",
   "name": "python3"
  },
  "language_info": {
   "codemirror_mode": {
    "name": "ipython",
    "version": 3
   },
   "file_extension": ".py",
   "mimetype": "text/x-python",
   "name": "python",
   "nbconvert_exporter": "python",
   "pygments_lexer": "ipython3",
   "version": "3.7.3"
  }
 },
 "nbformat": 4,
 "nbformat_minor": 2
}
