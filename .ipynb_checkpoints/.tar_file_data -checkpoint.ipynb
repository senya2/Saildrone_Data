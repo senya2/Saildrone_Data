{
 "cells": [
  {
   "cell_type": "code",
   "execution_count": 99,
   "metadata": {},
   "outputs": [],
   "source": [
    "#IF DATA IS A .TAR FILE, USE THIS CODE (this will unzip and run each file, and put all converted data onto one document)\n",
    "import numpy as np\n",
    "import pandas as pn\n",
    "import xarray as xr\n",
    "import matplotlib.pyplot as plt\n",
    "import datetime as dt\n",
    "import netCDF4\n",
    "import tarfile \n",
    "\n",
    "# change the filepath to your data \n",
    "tf = tarfile.open(\"./../../Data/NOAA_west_coast_survey_Saildrone_2018.tar.gz\")\n",
    "#tf.extractall()"
   ]
  },
  {
   "cell_type": "code",
   "execution_count": 101,
   "metadata": {},
   "outputs": [
    {
     "name": "stdout",
     "output_type": "stream",
     "text": [
      "./1024/saildrone-gen_5-west_coast_survey_2018-sd1024-20180917T180000-20180917T195959-1_minutes-v2.1537216216070.nc\n",
      "1\n",
      "./1024/saildrone-gen_5-west_coast_survey_2018-sd1024-20181105T060000-20181105T075959-1_minutes-v2.1541406612044.nc\n"
     ]
    },
    {
     "name": "stderr",
     "output_type": "stream",
     "text": [
      "/Users/senyastein/miniconda3/envs/satenv/lib/python3.7/site-packages/xarray/core/nanops.py:159: RuntimeWarning: Mean of empty slice\n",
      "  return np.nanmean(a, axis=axis, dtype=dtype)\n",
      "/Users/senyastein/miniconda3/envs/satenv/lib/python3.7/site-packages/xarray/core/nanops.py:159: RuntimeWarning: Mean of empty slice\n",
      "  return np.nanmean(a, axis=axis, dtype=dtype)\n"
     ]
    },
    {
     "name": "stdout",
     "output_type": "stream",
     "text": [
      "2\n",
      "./1024/saildrone-gen_5-west_coast_survey_2018-sd1024-20181125T220000-20181125T235959-1_minutes-v2.1543192216419.nc\n",
      "3\n",
      "./1024/saildrone-gen_5-west_coast_survey_2018-sd1024-20181024T080000-20181024T095959-1_minutes-v2.1540377012356.nc\n"
     ]
    },
    {
     "name": "stderr",
     "output_type": "stream",
     "text": [
      "/Users/senyastein/miniconda3/envs/satenv/lib/python3.7/site-packages/xarray/core/nanops.py:159: RuntimeWarning: Mean of empty slice\n",
      "  return np.nanmean(a, axis=axis, dtype=dtype)\n",
      "/Users/senyastein/miniconda3/envs/satenv/lib/python3.7/site-packages/xarray/core/nanops.py:159: RuntimeWarning: Mean of empty slice\n",
      "  return np.nanmean(a, axis=axis, dtype=dtype)\n"
     ]
    },
    {
     "name": "stdout",
     "output_type": "stream",
     "text": [
      "4\n",
      "./1024/saildrone-gen_5-west_coast_survey_2018-sd1024-20180914T220000-20180914T235959-1_minutes-v2.1536971428930.nc\n",
      "5\n",
      "./1024/saildrone-gen_5-west_coast_survey_2018-sd1024-20181010T220000-20181010T235959-1_minutes-v2.1539217813516.nc\n"
     ]
    },
    {
     "name": "stderr",
     "output_type": "stream",
     "text": [
      "/Users/senyastein/miniconda3/envs/satenv/lib/python3.7/site-packages/xarray/core/nanops.py:159: RuntimeWarning: Mean of empty slice\n",
      "  return np.nanmean(a, axis=axis, dtype=dtype)\n",
      "/Users/senyastein/miniconda3/envs/satenv/lib/python3.7/site-packages/xarray/core/nanops.py:159: RuntimeWarning: Mean of empty slice\n",
      "  return np.nanmean(a, axis=axis, dtype=dtype)\n"
     ]
    },
    {
     "name": "stdout",
     "output_type": "stream",
     "text": [
      "6\n",
      "./1024/saildrone-gen_5-west_coast_survey_2018-sd1024-20181020T180000-20181020T195959-1_minutes-v2.1540067412224.nc\n",
      "7\n"
     ]
    },
    {
     "name": "stderr",
     "output_type": "stream",
     "text": [
      "/Users/senyastein/miniconda3/envs/satenv/lib/python3.7/site-packages/xarray/core/nanops.py:159: RuntimeWarning: Mean of empty slice\n",
      "  return np.nanmean(a, axis=axis, dtype=dtype)\n"
     ]
    },
    {
     "name": "stdout",
     "output_type": "stream",
     "text": [
      "./1024/saildrone-gen_5-west_coast_survey_2018-sd1024-20180906T200000-20180906T215959-1_minutes-v2.1536273016794.nc\n"
     ]
    },
    {
     "name": "stderr",
     "output_type": "stream",
     "text": [
      "/Users/senyastein/miniconda3/envs/satenv/lib/python3.7/site-packages/xarray/core/nanops.py:159: RuntimeWarning: Mean of empty slice\n",
      "  return np.nanmean(a, axis=axis, dtype=dtype)\n"
     ]
    },
    {
     "name": "stdout",
     "output_type": "stream",
     "text": [
      "8\n",
      "./1024/saildrone-gen_5-west_coast_survey_2018-sd1024-20181009T100000-20181009T115959-1_minutes-v2.1539088212300.nc\n",
      "9\n",
      "./1024/saildrone-gen_5-west_coast_survey_2018-sd1024-20181104T220000-20181104T235959-1_minutes-v2.1541377812974.nc\n"
     ]
    },
    {
     "name": "stderr",
     "output_type": "stream",
     "text": [
      "/Users/senyastein/miniconda3/envs/satenv/lib/python3.7/site-packages/xarray/core/nanops.py:159: RuntimeWarning: Mean of empty slice\n",
      "  return np.nanmean(a, axis=axis, dtype=dtype)\n",
      "/Users/senyastein/miniconda3/envs/satenv/lib/python3.7/site-packages/xarray/core/nanops.py:159: RuntimeWarning: Mean of empty slice\n",
      "  return np.nanmean(a, axis=axis, dtype=dtype)\n"
     ]
    },
    {
     "name": "stdout",
     "output_type": "stream",
     "text": [
      "10\n",
      "./1024/saildrone-gen_5-west_coast_survey_2018-sd1024-20180807T120000-20180807T175959-1_minutes-v2.1533668433012.nc\n",
      "11\n",
      "./1024/saildrone-gen_5-west_coast_survey_2018-sd1024-20181018T200000-20181018T215959-1_minutes-v2.1539901813871.nc\n",
      "12\n",
      "./1024/saildrone-gen_5-west_coast_survey_2018-sd1024-20180922T120000-20180922T135959-1_minutes-v2.1537626615672.nc\n"
     ]
    },
    {
     "name": "stderr",
     "output_type": "stream",
     "text": [
      "/Users/senyastein/miniconda3/envs/satenv/lib/python3.7/site-packages/xarray/core/nanops.py:159: RuntimeWarning: Mean of empty slice\n",
      "  return np.nanmean(a, axis=axis, dtype=dtype)\n",
      "/Users/senyastein/miniconda3/envs/satenv/lib/python3.7/site-packages/xarray/core/nanops.py:159: RuntimeWarning: Mean of empty slice\n",
      "  return np.nanmean(a, axis=axis, dtype=dtype)\n",
      "/Users/senyastein/miniconda3/envs/satenv/lib/python3.7/site-packages/xarray/core/nanops.py:159: RuntimeWarning: Mean of empty slice\n",
      "  return np.nanmean(a, axis=axis, dtype=dtype)\n",
      "/Users/senyastein/miniconda3/envs/satenv/lib/python3.7/site-packages/xarray/core/nanops.py:159: RuntimeWarning: Mean of empty slice\n",
      "  return np.nanmean(a, axis=axis, dtype=dtype)\n"
     ]
    },
    {
     "name": "stdout",
     "output_type": "stream",
     "text": [
      "13\n",
      "./1024/saildrone-gen_5-west_coast_survey_2018-sd1024-20181022T220000-20181022T235959-1_minutes-v2.1540254612544.nc\n",
      "14\n",
      "./1024/saildrone-gen_5-west_coast_survey_2018-sd1024-20180823T020000-20180823T035959-1_minutes-v2.1534998612267.nc\n"
     ]
    },
    {
     "name": "stderr",
     "output_type": "stream",
     "text": [
      "/Users/senyastein/miniconda3/envs/satenv/lib/python3.7/site-packages/xarray/core/nanops.py:159: RuntimeWarning: Mean of empty slice\n",
      "  return np.nanmean(a, axis=axis, dtype=dtype)\n",
      "/Users/senyastein/miniconda3/envs/satenv/lib/python3.7/site-packages/xarray/core/nanops.py:159: RuntimeWarning: Mean of empty slice\n",
      "  return np.nanmean(a, axis=axis, dtype=dtype)\n"
     ]
    },
    {
     "name": "stdout",
     "output_type": "stream",
     "text": [
      "15\n",
      "./1024/saildrone-gen_5-west_coast_survey_2018-sd1024-20180901T120000-20180901T135959-1_minutes-v2.1535812214874.nc\n",
      "16\n",
      "./1024/saildrone-gen_5-west_coast_survey_2018-sd1024-20181118T060000-20181118T075959-1_minutes-v2.1542529823527.nc\n"
     ]
    },
    {
     "name": "stderr",
     "output_type": "stream",
     "text": [
      "/Users/senyastein/miniconda3/envs/satenv/lib/python3.7/site-packages/xarray/core/nanops.py:159: RuntimeWarning: Mean of empty slice\n",
      "  return np.nanmean(a, axis=axis, dtype=dtype)\n",
      "/Users/senyastein/miniconda3/envs/satenv/lib/python3.7/site-packages/xarray/core/nanops.py:159: RuntimeWarning: Mean of empty slice\n",
      "  return np.nanmean(a, axis=axis, dtype=dtype)\n"
     ]
    },
    {
     "name": "stdout",
     "output_type": "stream",
     "text": [
      "17\n",
      "./1024/saildrone-gen_5-west_coast_survey_2018-sd1024-20181111T200000-20181111T215959-1_minutes-v2.1541975413197.nc\n",
      "18\n",
      "./1024/saildrone-gen_5-west_coast_survey_2018-sd1024-20181101T120000-20181101T135959-1_minutes-v2.1541082612635.nc\n"
     ]
    },
    {
     "name": "stderr",
     "output_type": "stream",
     "text": [
      "/Users/senyastein/miniconda3/envs/satenv/lib/python3.7/site-packages/xarray/core/nanops.py:159: RuntimeWarning: Mean of empty slice\n",
      "  return np.nanmean(a, axis=axis, dtype=dtype)\n",
      "/Users/senyastein/miniconda3/envs/satenv/lib/python3.7/site-packages/xarray/core/nanops.py:159: RuntimeWarning: Mean of empty slice\n",
      "  return np.nanmean(a, axis=axis, dtype=dtype)\n",
      "/Users/senyastein/miniconda3/envs/satenv/lib/python3.7/site-packages/xarray/core/nanops.py:159: RuntimeWarning: Mean of empty slice\n",
      "  return np.nanmean(a, axis=axis, dtype=dtype)\n"
     ]
    },
    {
     "name": "stdout",
     "output_type": "stream",
     "text": [
      "19\n",
      "./1024/saildrone-gen_5-west_coast_survey_2018-sd1024-20180905T200000-20180905T215959-1_minutes-v2.1536186616706.nc\n",
      "20\n",
      "./1024/saildrone-gen_5-west_coast_survey_2018-sd1024-20180907T160000-20180907T175959-1_minutes-v2.1536345015103.nc\n",
      "21\n",
      "./1024/saildrone-gen_5-west_coast_survey_2018-sd1024-20180915T220000-20180915T235959-1_minutes-v2.1537057815363.nc\n",
      "22\n",
      "./1024/saildrone-gen_5-west_coast_survey_2018-sd1024-20180821T060000-20180821T115959-1_minutes-v2.1534856429639.nc\n"
     ]
    },
    {
     "name": "stderr",
     "output_type": "stream",
     "text": [
      "/Users/senyastein/miniconda3/envs/satenv/lib/python3.7/site-packages/xarray/core/nanops.py:159: RuntimeWarning: Mean of empty slice\n",
      "  return np.nanmean(a, axis=axis, dtype=dtype)\n",
      "/Users/senyastein/miniconda3/envs/satenv/lib/python3.7/site-packages/xarray/core/nanops.py:159: RuntimeWarning: Mean of empty slice\n",
      "  return np.nanmean(a, axis=axis, dtype=dtype)\n"
     ]
    },
    {
     "name": "stdout",
     "output_type": "stream",
     "text": [
      "23\n",
      "./1024/saildrone-gen_5-west_coast_survey_2018-sd1024-20181113T080000-20181113T095959-1_minutes-v2.1542105013391.nc\n",
      "24\n",
      "./1024/saildrone-gen_5-west_coast_survey_2018-sd1024-20181015T120000-20181015T135959-1_minutes-v2.1539613812486.nc\n"
     ]
    },
    {
     "name": "stderr",
     "output_type": "stream",
     "text": [
      "/Users/senyastein/miniconda3/envs/satenv/lib/python3.7/site-packages/xarray/core/nanops.py:159: RuntimeWarning: Mean of empty slice\n",
      "  return np.nanmean(a, axis=axis, dtype=dtype)\n",
      "/Users/senyastein/miniconda3/envs/satenv/lib/python3.7/site-packages/xarray/core/nanops.py:159: RuntimeWarning: Mean of empty slice\n",
      "  return np.nanmean(a, axis=axis, dtype=dtype)\n"
     ]
    },
    {
     "name": "stdout",
     "output_type": "stream",
     "text": [
      "25\n",
      "./1024/saildrone-gen_5-west_coast_survey_2018-sd1024-20181109T120000-20181109T135959-1_minutes-v2.1541773813080.nc\n",
      "26\n",
      "./1024/saildrone-gen_5-west_coast_survey_2018-sd1024-20180919T000000-20180919T015959-1_minutes-v2.1537324215029.nc\n"
     ]
    },
    {
     "name": "stderr",
     "output_type": "stream",
     "text": [
      "/Users/senyastein/miniconda3/envs/satenv/lib/python3.7/site-packages/xarray/core/nanops.py:159: RuntimeWarning: Mean of empty slice\n",
      "  return np.nanmean(a, axis=axis, dtype=dtype)\n",
      "/Users/senyastein/miniconda3/envs/satenv/lib/python3.7/site-packages/xarray/core/nanops.py:159: RuntimeWarning: Mean of empty slice\n",
      "  return np.nanmean(a, axis=axis, dtype=dtype)\n"
     ]
    },
    {
     "name": "stdout",
     "output_type": "stream",
     "text": [
      "27\n",
      "./1024/saildrone-gen_5-west_coast_survey_2018-sd1024-20181014T040000-20181014T055959-1_minutes-v2.1539498611946.nc\n",
      "28\n",
      "./1024/saildrone-gen_5-west_coast_survey_2018-sd1024-20180827T080000-20180827T095959-1_minutes-v2.1535365814117.nc\n"
     ]
    },
    {
     "name": "stderr",
     "output_type": "stream",
     "text": [
      "/Users/senyastein/miniconda3/envs/satenv/lib/python3.7/site-packages/xarray/core/nanops.py:159: RuntimeWarning: Mean of empty slice\n",
      "  return np.nanmean(a, axis=axis, dtype=dtype)\n",
      "/Users/senyastein/miniconda3/envs/satenv/lib/python3.7/site-packages/xarray/core/nanops.py:159: RuntimeWarning: Mean of empty slice\n",
      "  return np.nanmean(a, axis=axis, dtype=dtype)\n"
     ]
    },
    {
     "name": "stdout",
     "output_type": "stream",
     "text": [
      "29\n",
      "./1024/saildrone-gen_5-west_coast_survey_2018-sd1024-20181010T020000-20181010T035959-1_minutes-v2.1539145812045.nc\n",
      "30\n",
      "./1024/saildrone-gen_5-west_coast_survey_2018-sd1024-20180826T000000-20180826T015959-1_minutes-v2.1535250615296.nc\n"
     ]
    },
    {
     "name": "stderr",
     "output_type": "stream",
     "text": [
      "/Users/senyastein/miniconda3/envs/satenv/lib/python3.7/site-packages/xarray/core/nanops.py:159: RuntimeWarning: Mean of empty slice\n",
      "  return np.nanmean(a, axis=axis, dtype=dtype)\n",
      "/Users/senyastein/miniconda3/envs/satenv/lib/python3.7/site-packages/xarray/core/nanops.py:159: RuntimeWarning: Mean of empty slice\n",
      "  return np.nanmean(a, axis=axis, dtype=dtype)\n"
     ]
    },
    {
     "name": "stdout",
     "output_type": "stream",
     "text": [
      "31\n",
      "./1024/saildrone-gen_5-west_coast_survey_2018-sd1024-20180828T120000-20180828T135959-1_minutes-v2.1535466615830.nc\n",
      "32\n",
      "./1024/saildrone-gen_5-west_coast_survey_2018-sd1024-20181103T120000-20181103T135959-1_minutes-v2.1541255412779.nc\n"
     ]
    },
    {
     "name": "stderr",
     "output_type": "stream",
     "text": [
      "/Users/senyastein/miniconda3/envs/satenv/lib/python3.7/site-packages/xarray/core/nanops.py:159: RuntimeWarning: Mean of empty slice\n",
      "  return np.nanmean(a, axis=axis, dtype=dtype)\n",
      "/Users/senyastein/miniconda3/envs/satenv/lib/python3.7/site-packages/xarray/core/nanops.py:159: RuntimeWarning: Mean of empty slice\n",
      "  return np.nanmean(a, axis=axis, dtype=dtype)\n"
     ]
    },
    {
     "name": "stdout",
     "output_type": "stream",
     "text": [
      "33\n",
      "./1024/saildrone-gen_5-west_coast_survey_2018-sd1024-20180929T000000-20180929T015959-1_minutes-v2.1538188224629.nc\n",
      "34\n",
      "./1024/saildrone-gen_5-west_coast_survey_2018-sd1024-20181025T020000-20181025T035959-1_minutes-v2.1540441865952.nc\n",
      "35\n",
      "./1024/saildrone-gen_5-west_coast_survey_2018-sd1024-20181123T040000-20181123T055959-1_minutes-v2.1542954615927.nc\n"
     ]
    },
    {
     "name": "stderr",
     "output_type": "stream",
     "text": [
      "/Users/senyastein/miniconda3/envs/satenv/lib/python3.7/site-packages/xarray/core/nanops.py:159: RuntimeWarning: Mean of empty slice\n",
      "  return np.nanmean(a, axis=axis, dtype=dtype)\n",
      "/Users/senyastein/miniconda3/envs/satenv/lib/python3.7/site-packages/xarray/core/nanops.py:159: RuntimeWarning: Mean of empty slice\n",
      "  return np.nanmean(a, axis=axis, dtype=dtype)\n",
      "/Users/senyastein/miniconda3/envs/satenv/lib/python3.7/site-packages/xarray/core/nanops.py:159: RuntimeWarning: Mean of empty slice\n",
      "  return np.nanmean(a, axis=axis, dtype=dtype)\n",
      "/Users/senyastein/miniconda3/envs/satenv/lib/python3.7/site-packages/xarray/core/nanops.py:159: RuntimeWarning: Mean of empty slice\n",
      "  return np.nanmean(a, axis=axis, dtype=dtype)\n",
      "/Users/senyastein/miniconda3/envs/satenv/lib/python3.7/site-packages/xarray/core/nanops.py:159: RuntimeWarning: Mean of empty slice\n",
      "  return np.nanmean(a, axis=axis, dtype=dtype)\n"
     ]
    },
    {
     "name": "stdout",
     "output_type": "stream",
     "text": [
      "36\n",
      "./1024/saildrone-gen_5-west_coast_survey_2018-sd1024-20180722T060000-20180722T115959-1_minutes-v2.1533314597923.nc\n",
      "37\n",
      "./1024/saildrone-gen_5-west_coast_survey_2018-sd1024-20181027T180000-20181027T195959-1_minutes-v2.1540672212517.nc\n",
      "38\n",
      "./1024/saildrone-gen_5-west_coast_survey_2018-sd1024-20180922T180000-20180922T195959-1_minutes-v2.1537648215140.nc\n",
      "39\n",
      "./1024/saildrone-gen_5-west_coast_survey_2018-sd1024-20180908T140000-20180908T155959-1_minutes-v2.1536424214804.nc\n"
     ]
    },
    {
     "name": "stderr",
     "output_type": "stream",
     "text": [
      "/Users/senyastein/miniconda3/envs/satenv/lib/python3.7/site-packages/xarray/core/nanops.py:159: RuntimeWarning: Mean of empty slice\n",
      "  return np.nanmean(a, axis=axis, dtype=dtype)\n",
      "/Users/senyastein/miniconda3/envs/satenv/lib/python3.7/site-packages/xarray/core/nanops.py:159: RuntimeWarning: Mean of empty slice\n",
      "  return np.nanmean(a, axis=axis, dtype=dtype)\n"
     ]
    },
    {
     "name": "stdout",
     "output_type": "stream",
     "text": [
      "40\n",
      "./1024/saildrone-gen_5-west_coast_survey_2018-sd1024-20181123T100000-20181123T115959-1_minutes-v2.1542976215748.nc\n",
      "41\n",
      "./1024/saildrone-gen_5-west_coast_survey_2018-sd1024-20181006T080000-20181006T095959-1_minutes-v2.1538821813119.nc\n"
     ]
    },
    {
     "name": "stderr",
     "output_type": "stream",
     "text": [
      "/Users/senyastein/miniconda3/envs/satenv/lib/python3.7/site-packages/xarray/core/nanops.py:159: RuntimeWarning: Mean of empty slice\n",
      "  return np.nanmean(a, axis=axis, dtype=dtype)\n",
      "/Users/senyastein/miniconda3/envs/satenv/lib/python3.7/site-packages/xarray/core/nanops.py:159: RuntimeWarning: Mean of empty slice\n",
      "  return np.nanmean(a, axis=axis, dtype=dtype)\n"
     ]
    },
    {
     "name": "stdout",
     "output_type": "stream",
     "text": [
      "42\n",
      "./1024/saildrone-gen_5-west_coast_survey_2018-sd1024-20181028T020000-20181028T035959-1_minutes-v2.1540701012483.nc\n"
     ]
    },
    {
     "name": "stderr",
     "output_type": "stream",
     "text": [
      "/Users/senyastein/miniconda3/envs/satenv/lib/python3.7/site-packages/xarray/core/nanops.py:159: RuntimeWarning: Mean of empty slice\n",
      "  return np.nanmean(a, axis=axis, dtype=dtype)\n"
     ]
    },
    {
     "name": "stdout",
     "output_type": "stream",
     "text": [
      "43\n",
      "./1024/saildrone-gen_5-west_coast_survey_2018-sd1024-20181109T180000-20181109T195959-1_minutes-v2.1541795412003.nc\n"
     ]
    },
    {
     "name": "stderr",
     "output_type": "stream",
     "text": [
      "/Users/senyastein/miniconda3/envs/satenv/lib/python3.7/site-packages/xarray/core/nanops.py:159: RuntimeWarning: Mean of empty slice\n",
      "  return np.nanmean(a, axis=axis, dtype=dtype)\n"
     ]
    },
    {
     "name": "stdout",
     "output_type": "stream",
     "text": [
      "44\n",
      "./1024/saildrone-gen_5-west_coast_survey_2018-sd1024-20180920T160000-20180920T175959-1_minutes-v2.1537468216142.nc\n",
      "45\n",
      "./1024/saildrone-gen_5-west_coast_survey_2018-sd1024-20180925T040000-20180925T055959-1_minutes-v2.1537857017121.nc\n",
      "46\n",
      "./1024/saildrone-gen_5-west_coast_survey_2018-sd1024-20180917T080000-20180917T095959-1_minutes-v2.1537180214525.nc\n"
     ]
    },
    {
     "name": "stderr",
     "output_type": "stream",
     "text": [
      "/Users/senyastein/miniconda3/envs/satenv/lib/python3.7/site-packages/xarray/core/nanops.py:159: RuntimeWarning: Mean of empty slice\n",
      "  return np.nanmean(a, axis=axis, dtype=dtype)\n",
      "/Users/senyastein/miniconda3/envs/satenv/lib/python3.7/site-packages/xarray/core/nanops.py:159: RuntimeWarning: Mean of empty slice\n",
      "  return np.nanmean(a, axis=axis, dtype=dtype)\n",
      "/Users/senyastein/miniconda3/envs/satenv/lib/python3.7/site-packages/xarray/core/nanops.py:159: RuntimeWarning: Mean of empty slice\n",
      "  return np.nanmean(a, axis=axis, dtype=dtype)\n"
     ]
    },
    {
     "name": "stdout",
     "output_type": "stream",
     "text": [
      "47\n",
      "./1024/saildrone-gen_5-west_coast_survey_2018-sd1024-20181116T040000-20181116T055959-1_minutes-v2.1542349815543.nc\n",
      "48\n",
      "./1024/saildrone-gen_5-west_coast_survey_2018-sd1024-20180721T180000-20180721T235959-1_minutes-v2.1533314489321.nc\n",
      "49\n",
      "./1024/saildrone-gen_5-west_coast_survey_2018-sd1024-20180927T180000-20180927T195959-1_minutes-v2.1538080228610.nc\n"
     ]
    },
    {
     "name": "stderr",
     "output_type": "stream",
     "text": [
      "/Users/senyastein/miniconda3/envs/satenv/lib/python3.7/site-packages/xarray/core/nanops.py:159: RuntimeWarning: Mean of empty slice\n",
      "  return np.nanmean(a, axis=axis, dtype=dtype)\n",
      "/Users/senyastein/miniconda3/envs/satenv/lib/python3.7/site-packages/xarray/core/nanops.py:159: RuntimeWarning: Mean of empty slice\n",
      "  return np.nanmean(a, axis=axis, dtype=dtype)\n",
      "/Users/senyastein/miniconda3/envs/satenv/lib/python3.7/site-packages/xarray/core/nanops.py:159: RuntimeWarning: Mean of empty slice\n",
      "  return np.nanmean(a, axis=axis, dtype=dtype)\n"
     ]
    },
    {
     "name": "stdout",
     "output_type": "stream",
     "text": [
      "50\n",
      "./1024/saildrone-gen_5-west_coast_survey_2018-sd1024-20181116T000000-20181116T015959-1_minutes-v2.1542335415483.nc\n",
      "51\n",
      "./1024/saildrone-gen_5-west_coast_survey_2018-sd1024-20180918T000000-20180918T015959-1_minutes-v2.1537237819694.nc\n",
      "52\n",
      "./1024/saildrone-gen_5-west_coast_survey_2018-sd1024-20181016T120000-20181016T135959-1_minutes-v2.1539700212085.nc\n"
     ]
    },
    {
     "name": "stderr",
     "output_type": "stream",
     "text": [
      "/Users/senyastein/miniconda3/envs/satenv/lib/python3.7/site-packages/xarray/core/nanops.py:159: RuntimeWarning: Mean of empty slice\n",
      "  return np.nanmean(a, axis=axis, dtype=dtype)\n",
      "/Users/senyastein/miniconda3/envs/satenv/lib/python3.7/site-packages/xarray/core/nanops.py:159: RuntimeWarning: Mean of empty slice\n",
      "  return np.nanmean(a, axis=axis, dtype=dtype)\n",
      "/Users/senyastein/miniconda3/envs/satenv/lib/python3.7/site-packages/xarray/core/nanops.py:159: RuntimeWarning: Mean of empty slice\n",
      "  return np.nanmean(a, axis=axis, dtype=dtype)\n"
     ]
    },
    {
     "name": "stdout",
     "output_type": "stream",
     "text": [
      "53\n",
      "./1024/saildrone-gen_5-west_coast_survey_2018-sd1024-20180801T060000-20180801T115959-1_minutes-v2.1533317096465.nc\n",
      "54\n",
      "./1024/saildrone-gen_5-west_coast_survey_2018-sd1024-20181026T100000-20181026T115959-1_minutes-v2.1540557012534.nc\n",
      "55\n",
      "./1024/saildrone-gen_5-west_coast_survey_2018-sd1024-20180914T100000-20180914T115959-1_minutes-v2.1536928224317.nc\n"
     ]
    },
    {
     "name": "stderr",
     "output_type": "stream",
     "text": [
      "/Users/senyastein/miniconda3/envs/satenv/lib/python3.7/site-packages/xarray/core/nanops.py:159: RuntimeWarning: Mean of empty slice\n",
      "  return np.nanmean(a, axis=axis, dtype=dtype)\n",
      "/Users/senyastein/miniconda3/envs/satenv/lib/python3.7/site-packages/xarray/core/nanops.py:159: RuntimeWarning: Mean of empty slice\n",
      "  return np.nanmean(a, axis=axis, dtype=dtype)\n",
      "/Users/senyastein/miniconda3/envs/satenv/lib/python3.7/site-packages/xarray/core/nanops.py:159: RuntimeWarning: Mean of empty slice\n",
      "  return np.nanmean(a, axis=axis, dtype=dtype)\n"
     ]
    },
    {
     "name": "stdout",
     "output_type": "stream",
     "text": [
      "56\n",
      "./1024/saildrone-gen_5-west_coast_survey_2018-sd1024-20180928T000000-20180928T015959-1_minutes-v2.1538101814001.nc\n",
      "57\n",
      "./1024/saildrone-gen_5-west_coast_survey_2018-sd1024-20180902T180000-20180902T195959-1_minutes-v2.1535920214592.nc\n",
      "58\n",
      "./1024/saildrone-gen_5-west_coast_survey_2018-sd1024-20181114T140000-20181114T155959-1_minutes-v2.1542213019336.nc\n"
     ]
    },
    {
     "name": "stderr",
     "output_type": "stream",
     "text": [
      "/Users/senyastein/miniconda3/envs/satenv/lib/python3.7/site-packages/xarray/core/nanops.py:159: RuntimeWarning: Mean of empty slice\n",
      "  return np.nanmean(a, axis=axis, dtype=dtype)\n",
      "/Users/senyastein/miniconda3/envs/satenv/lib/python3.7/site-packages/xarray/core/nanops.py:159: RuntimeWarning: Mean of empty slice\n",
      "  return np.nanmean(a, axis=axis, dtype=dtype)\n",
      "/Users/senyastein/miniconda3/envs/satenv/lib/python3.7/site-packages/xarray/core/nanops.py:159: RuntimeWarning: Mean of empty slice\n",
      "  return np.nanmean(a, axis=axis, dtype=dtype)\n"
     ]
    },
    {
     "name": "stdout",
     "output_type": "stream",
     "text": [
      "59\n",
      "./1024/saildrone-gen_5-west_coast_survey_2018-sd1024-20181118T100000-20181118T115959-1_minutes-v2.1542544215664.nc\n",
      "60\n",
      "./1024/saildrone-gen_5-west_coast_survey_2018-sd1024-20180826T180000-20180826T195959-1_minutes-v2.1535315414182.nc\n",
      "61\n",
      "./1024/saildrone-gen_5-west_coast_survey_2018-sd1024-20181123T220000-20181123T235959-1_minutes-v2.1543019415166.nc\n"
     ]
    },
    {
     "name": "stderr",
     "output_type": "stream",
     "text": [
      "/Users/senyastein/miniconda3/envs/satenv/lib/python3.7/site-packages/xarray/core/nanops.py:159: RuntimeWarning: Mean of empty slice\n",
      "  return np.nanmean(a, axis=axis, dtype=dtype)\n",
      "/Users/senyastein/miniconda3/envs/satenv/lib/python3.7/site-packages/xarray/core/nanops.py:159: RuntimeWarning: Mean of empty slice\n",
      "  return np.nanmean(a, axis=axis, dtype=dtype)\n",
      "/Users/senyastein/miniconda3/envs/satenv/lib/python3.7/site-packages/xarray/core/nanops.py:159: RuntimeWarning: Mean of empty slice\n",
      "  return np.nanmean(a, axis=axis, dtype=dtype)\n"
     ]
    },
    {
     "name": "stdout",
     "output_type": "stream",
     "text": [
      "62\n",
      "./1024/saildrone-gen_5-west_coast_survey_2018-sd1024-20180816T180000-20180816T235959-1_minutes-v2.1534467619011.nc\n",
      "63\n",
      "./1024/saildrone-gen_5-west_coast_survey_2018-sd1024-20180914T120000-20180914T135959-1_minutes-v2.1536935415623.nc\n",
      "64\n",
      "./1024/saildrone-gen_5-west_coast_survey_2018-sd1024-20181013T180000-20181013T195959-1_minutes-v2.1539462612674.nc\n"
     ]
    },
    {
     "name": "stderr",
     "output_type": "stream",
     "text": [
      "/Users/senyastein/miniconda3/envs/satenv/lib/python3.7/site-packages/xarray/core/nanops.py:159: RuntimeWarning: Mean of empty slice\n",
      "  return np.nanmean(a, axis=axis, dtype=dtype)\n",
      "/Users/senyastein/miniconda3/envs/satenv/lib/python3.7/site-packages/xarray/core/nanops.py:159: RuntimeWarning: Mean of empty slice\n",
      "  return np.nanmean(a, axis=axis, dtype=dtype)\n",
      "/Users/senyastein/miniconda3/envs/satenv/lib/python3.7/site-packages/xarray/core/nanops.py:159: RuntimeWarning: Mean of empty slice\n",
      "  return np.nanmean(a, axis=axis, dtype=dtype)\n"
     ]
    },
    {
     "name": "stdout",
     "output_type": "stream",
     "text": [
      "65\n",
      "./1024/saildrone-gen_5-west_coast_survey_2018-sd1024-20181031T120000-20181031T135959-1_minutes-v2.1540996212100.nc\n",
      "66\n",
      "./1024/saildrone-gen_5-west_coast_survey_2018-sd1024-20180916T140000-20180916T155959-1_minutes-v2.1537115426649.nc\n",
      "67\n",
      "./1024/saildrone-gen_5-west_coast_survey_2018-sd1024-20181005T220000-20181005T235959-1_minutes-v2.1538785812615.nc\n"
     ]
    },
    {
     "name": "stderr",
     "output_type": "stream",
     "text": [
      "/Users/senyastein/miniconda3/envs/satenv/lib/python3.7/site-packages/xarray/core/nanops.py:159: RuntimeWarning: Mean of empty slice\n",
      "  return np.nanmean(a, axis=axis, dtype=dtype)\n",
      "/Users/senyastein/miniconda3/envs/satenv/lib/python3.7/site-packages/xarray/core/nanops.py:159: RuntimeWarning: Mean of empty slice\n",
      "  return np.nanmean(a, axis=axis, dtype=dtype)\n",
      "/Users/senyastein/miniconda3/envs/satenv/lib/python3.7/site-packages/xarray/core/nanops.py:159: RuntimeWarning: Mean of empty slice\n",
      "  return np.nanmean(a, axis=axis, dtype=dtype)\n"
     ]
    },
    {
     "name": "stdout",
     "output_type": "stream",
     "text": [
      "68\n",
      "./1024/saildrone-gen_5-west_coast_survey_2018-sd1024-20180910T140000-20180910T155959-1_minutes-v2.1536597016068.nc\n",
      "69\n",
      "./1024/saildrone-gen_5-west_coast_survey_2018-sd1024-20181013T000000-20181013T015959-1_minutes-v2.1539397812128.nc\n",
      "70\n"
     ]
    },
    {
     "name": "stderr",
     "output_type": "stream",
     "text": [
      "/Users/senyastein/miniconda3/envs/satenv/lib/python3.7/site-packages/xarray/core/nanops.py:159: RuntimeWarning: Mean of empty slice\n",
      "  return np.nanmean(a, axis=axis, dtype=dtype)\n",
      "/Users/senyastein/miniconda3/envs/satenv/lib/python3.7/site-packages/xarray/core/nanops.py:159: RuntimeWarning: Mean of empty slice\n",
      "  return np.nanmean(a, axis=axis, dtype=dtype)\n"
     ]
    },
    {
     "name": "stdout",
     "output_type": "stream",
     "text": [
      "./1024/saildrone-gen_5-west_coast_survey_2018-sd1024-20180726T120000-20180726T175959-1_minutes-v2.1533315627657.nc\n",
      "71\n",
      "./1024/saildrone-gen_5-west_coast_survey_2018-sd1024-20180918T180000-20180918T195959-1_minutes-v2.1537302615470.nc\n",
      "72\n",
      "./1024/saildrone-gen_5-west_coast_survey_2018-sd1024-20181119T040000-20181119T055959-1_minutes-v2.1542609016419.nc\n"
     ]
    },
    {
     "name": "stderr",
     "output_type": "stream",
     "text": [
      "/Users/senyastein/miniconda3/envs/satenv/lib/python3.7/site-packages/xarray/core/nanops.py:159: RuntimeWarning: Mean of empty slice\n",
      "  return np.nanmean(a, axis=axis, dtype=dtype)\n",
      "/Users/senyastein/miniconda3/envs/satenv/lib/python3.7/site-packages/xarray/core/nanops.py:159: RuntimeWarning: Mean of empty slice\n",
      "  return np.nanmean(a, axis=axis, dtype=dtype)\n",
      "/Users/senyastein/miniconda3/envs/satenv/lib/python3.7/site-packages/xarray/core/nanops.py:159: RuntimeWarning: Mean of empty slice\n",
      "  return np.nanmean(a, axis=axis, dtype=dtype)\n"
     ]
    },
    {
     "name": "stdout",
     "output_type": "stream",
     "text": [
      "73\n",
      "./1024/saildrone-gen_5-west_coast_survey_2018-sd1024-20180910T040000-20180910T055959-1_minutes-v2.1536561035186.nc\n",
      "74\n",
      "./1024/saildrone-gen_5-west_coast_survey_2018-sd1024-20181102T200000-20181102T215959-1_minutes-v2.1541197802853.nc\n",
      "75\n",
      "./1024/saildrone-gen_5-west_coast_survey_2018-sd1024-20180825T200000-20180825T215959-1_minutes-v2.1535236214565.nc\n"
     ]
    },
    {
     "name": "stderr",
     "output_type": "stream",
     "text": [
      "/Users/senyastein/miniconda3/envs/satenv/lib/python3.7/site-packages/xarray/core/nanops.py:159: RuntimeWarning: Mean of empty slice\n",
      "  return np.nanmean(a, axis=axis, dtype=dtype)\n",
      "/Users/senyastein/miniconda3/envs/satenv/lib/python3.7/site-packages/xarray/core/nanops.py:159: RuntimeWarning: Mean of empty slice\n",
      "  return np.nanmean(a, axis=axis, dtype=dtype)\n",
      "/Users/senyastein/miniconda3/envs/satenv/lib/python3.7/site-packages/xarray/core/nanops.py:159: RuntimeWarning: Mean of empty slice\n",
      "  return np.nanmean(a, axis=axis, dtype=dtype)\n"
     ]
    },
    {
     "name": "stdout",
     "output_type": "stream",
     "text": [
      "76\n",
      "./1024/saildrone-gen_5-west_coast_survey_2018-sd1024-20181013T160000-20181013T175959-1_minutes-v2.1539455411849.nc\n",
      "77\n",
      "./1024/saildrone-gen_5-west_coast_survey_2018-sd1024-20181011T000000-20181011T015959-1_minutes-v2.1539225011914.nc\n",
      "78\n",
      "./1024/saildrone-gen_5-west_coast_survey_2018-sd1024-20180819T060000-20180819T115959-1_minutes-v2.1534683634117.nc\n"
     ]
    },
    {
     "name": "stderr",
     "output_type": "stream",
     "text": [
      "/Users/senyastein/miniconda3/envs/satenv/lib/python3.7/site-packages/xarray/core/nanops.py:159: RuntimeWarning: Mean of empty slice\n",
      "  return np.nanmean(a, axis=axis, dtype=dtype)\n",
      "/Users/senyastein/miniconda3/envs/satenv/lib/python3.7/site-packages/xarray/core/nanops.py:159: RuntimeWarning: Mean of empty slice\n",
      "  return np.nanmean(a, axis=axis, dtype=dtype)\n",
      "/Users/senyastein/miniconda3/envs/satenv/lib/python3.7/site-packages/xarray/core/nanops.py:159: RuntimeWarning: Mean of empty slice\n",
      "  return np.nanmean(a, axis=axis, dtype=dtype)\n"
     ]
    },
    {
     "name": "stdout",
     "output_type": "stream",
     "text": [
      "79\n",
      "./1024/saildrone-gen_5-west_coast_survey_2018-sd1024-20180831T000000-20180831T015959-1_minutes-v2.1535682616893.nc\n",
      "80\n",
      "./1024/saildrone-gen_5-west_coast_survey_2018-sd1024-20181012T080000-20181012T095959-1_minutes-v2.1539340212356.nc\n",
      "81\n",
      "./1024/saildrone-gen_5-west_coast_survey_2018-sd1024-20181024T100000-20181024T115959-1_minutes-v2.1540384213699.nc\n"
     ]
    },
    {
     "name": "stderr",
     "output_type": "stream",
     "text": [
      "/Users/senyastein/miniconda3/envs/satenv/lib/python3.7/site-packages/xarray/core/nanops.py:159: RuntimeWarning: Mean of empty slice\n",
      "  return np.nanmean(a, axis=axis, dtype=dtype)\n",
      "/Users/senyastein/miniconda3/envs/satenv/lib/python3.7/site-packages/xarray/core/nanops.py:159: RuntimeWarning: Mean of empty slice\n",
      "  return np.nanmean(a, axis=axis, dtype=dtype)\n",
      "/Users/senyastein/miniconda3/envs/satenv/lib/python3.7/site-packages/xarray/core/nanops.py:159: RuntimeWarning: Mean of empty slice\n",
      "  return np.nanmean(a, axis=axis, dtype=dtype)\n"
     ]
    },
    {
     "name": "stdout",
     "output_type": "stream",
     "text": [
      "82\n",
      "./1024/saildrone-gen_5-west_coast_survey_2018-sd1024-20181126T060000-20181126T075959-1_minutes-v2.1543221016144.nc\n",
      "83\n",
      "./1024/saildrone-gen_5-west_coast_survey_2018-sd1024-20181016T020000-20181016T035959-1_minutes-v2.1539664212579.nc\n",
      "84\n",
      "./1024/saildrone-gen_5-west_coast_survey_2018-sd1024-20180923T200000-20180923T215959-1_minutes-v2.1537741826422.nc\n"
     ]
    },
    {
     "name": "stderr",
     "output_type": "stream",
     "text": [
      "/Users/senyastein/miniconda3/envs/satenv/lib/python3.7/site-packages/xarray/core/nanops.py:159: RuntimeWarning: Mean of empty slice\n",
      "  return np.nanmean(a, axis=axis, dtype=dtype)\n",
      "/Users/senyastein/miniconda3/envs/satenv/lib/python3.7/site-packages/xarray/core/nanops.py:159: RuntimeWarning: Mean of empty slice\n",
      "  return np.nanmean(a, axis=axis, dtype=dtype)\n",
      "/Users/senyastein/miniconda3/envs/satenv/lib/python3.7/site-packages/xarray/core/nanops.py:159: RuntimeWarning: Mean of empty slice\n",
      "  return np.nanmean(a, axis=axis, dtype=dtype)\n"
     ]
    },
    {
     "name": "stdout",
     "output_type": "stream",
     "text": [
      "85\n",
      "./1024/saildrone-gen_5-west_coast_survey_2018-sd1024-20181024T180000-20181024T195959-1_minutes-v2.1540413015173.nc\n",
      "86\n",
      "./1024/saildrone-gen_5-west_coast_survey_2018-sd1024-20181002T080000-20181002T095959-1_minutes-v2.1538476213546.nc\n",
      "87\n",
      "./1024/saildrone-gen_5-west_coast_survey_2018-sd1024-20180820T060000-20180820T115959-1_minutes-v2.1534770035315.nc\n"
     ]
    },
    {
     "name": "stderr",
     "output_type": "stream",
     "text": [
      "/Users/senyastein/miniconda3/envs/satenv/lib/python3.7/site-packages/xarray/core/nanops.py:159: RuntimeWarning: Mean of empty slice\n",
      "  return np.nanmean(a, axis=axis, dtype=dtype)\n",
      "/Users/senyastein/miniconda3/envs/satenv/lib/python3.7/site-packages/xarray/core/nanops.py:159: RuntimeWarning: Mean of empty slice\n",
      "  return np.nanmean(a, axis=axis, dtype=dtype)\n",
      "/Users/senyastein/miniconda3/envs/satenv/lib/python3.7/site-packages/xarray/core/nanops.py:159: RuntimeWarning: Mean of empty slice\n",
      "  return np.nanmean(a, axis=axis, dtype=dtype)\n"
     ]
    },
    {
     "name": "stdout",
     "output_type": "stream",
     "text": [
      "88\n",
      "./1024/saildrone-gen_5-west_coast_survey_2018-sd1024-20181110T140000-20181110T155959-1_minutes-v2.1541867412450.nc\n",
      "89\n",
      "./1024/saildrone-gen_5-west_coast_survey_2018-sd1024-20180720T120000-20180720T175959-1_minutes-v2.1533314218382.nc\n",
      "90\n",
      "./1024/saildrone-gen_5-west_coast_survey_2018-sd1024-20180911T100000-20180911T115959-1_minutes-v2.1536669016463.nc\n"
     ]
    },
    {
     "name": "stderr",
     "output_type": "stream",
     "text": [
      "/Users/senyastein/miniconda3/envs/satenv/lib/python3.7/site-packages/xarray/core/nanops.py:159: RuntimeWarning: Mean of empty slice\n",
      "  return np.nanmean(a, axis=axis, dtype=dtype)\n",
      "/Users/senyastein/miniconda3/envs/satenv/lib/python3.7/site-packages/xarray/core/nanops.py:159: RuntimeWarning: Mean of empty slice\n",
      "  return np.nanmean(a, axis=axis, dtype=dtype)\n",
      "/Users/senyastein/miniconda3/envs/satenv/lib/python3.7/site-packages/xarray/core/nanops.py:159: RuntimeWarning: Mean of empty slice\n",
      "  return np.nanmean(a, axis=axis, dtype=dtype)\n"
     ]
    },
    {
     "name": "stdout",
     "output_type": "stream",
     "text": [
      "91\n",
      "./1024/saildrone-gen_5-west_coast_survey_2018-sd1024-20181105T220000-20181105T235959-1_minutes-v2.1541464212471.nc\n",
      "92\n",
      "./1024/saildrone-gen_5-west_coast_survey_2018-sd1024-20180910T200000-20180910T215959-1_minutes-v2.1536618615436.nc\n",
      "93\n",
      "./1024/saildrone-gen_5-west_coast_survey_2018-sd1024-20181101T000000-20181101T015959-1_minutes-v2.1541039412002.nc\n"
     ]
    },
    {
     "name": "stderr",
     "output_type": "stream",
     "text": [
      "/Users/senyastein/miniconda3/envs/satenv/lib/python3.7/site-packages/xarray/core/nanops.py:159: RuntimeWarning: Mean of empty slice\n",
      "  return np.nanmean(a, axis=axis, dtype=dtype)\n",
      "/Users/senyastein/miniconda3/envs/satenv/lib/python3.7/site-packages/xarray/core/nanops.py:159: RuntimeWarning: Mean of empty slice\n",
      "  return np.nanmean(a, axis=axis, dtype=dtype)\n",
      "/Users/senyastein/miniconda3/envs/satenv/lib/python3.7/site-packages/xarray/core/nanops.py:159: RuntimeWarning: Mean of empty slice\n",
      "  return np.nanmean(a, axis=axis, dtype=dtype)\n"
     ]
    },
    {
     "name": "stdout",
     "output_type": "stream",
     "text": [
      "94\n",
      "./1024/saildrone-gen_5-west_coast_survey_2018-sd1024-20180822T000000-20180822T055959-1_minutes-v2.1534921231283.nc\n",
      "95\n",
      "./1024/saildrone-gen_5-west_coast_survey_2018-sd1024-20181012T180000-20181012T195959-1_minutes-v2.1539376213986.nc\n",
      "96\n",
      "./1024/saildrone-gen_5-west_coast_survey_2018-sd1024-20181029T200000-20181029T215959-1_minutes-v2.1540852211847.nc\n"
     ]
    },
    {
     "name": "stderr",
     "output_type": "stream",
     "text": [
      "/Users/senyastein/miniconda3/envs/satenv/lib/python3.7/site-packages/xarray/core/nanops.py:159: RuntimeWarning: Mean of empty slice\n",
      "  return np.nanmean(a, axis=axis, dtype=dtype)\n",
      "/Users/senyastein/miniconda3/envs/satenv/lib/python3.7/site-packages/xarray/core/nanops.py:159: RuntimeWarning: Mean of empty slice\n",
      "  return np.nanmean(a, axis=axis, dtype=dtype)\n",
      "/Users/senyastein/miniconda3/envs/satenv/lib/python3.7/site-packages/xarray/core/nanops.py:159: RuntimeWarning: Mean of empty slice\n",
      "  return np.nanmean(a, axis=axis, dtype=dtype)\n"
     ]
    },
    {
     "name": "stdout",
     "output_type": "stream",
     "text": [
      "97\n",
      "./1024/saildrone-gen_5-west_coast_survey_2018-sd1024-20180827T120000-20180827T135959-1_minutes-v2.1535380214113.nc\n",
      "98\n",
      "./1024/saildrone-gen_5-west_coast_survey_2018-sd1024-20181118T000000-20181118T015959-1_minutes-v2.1542508215527.nc\n",
      "99\n",
      "./1024/saildrone-gen_5-west_coast_survey_2018-sd1024-20180829T020000-20180829T035959-1_minutes-v2.1535517013833.nc\n"
     ]
    },
    {
     "name": "stderr",
     "output_type": "stream",
     "text": [
      "/Users/senyastein/miniconda3/envs/satenv/lib/python3.7/site-packages/xarray/core/nanops.py:159: RuntimeWarning: Mean of empty slice\n",
      "  return np.nanmean(a, axis=axis, dtype=dtype)\n",
      "/Users/senyastein/miniconda3/envs/satenv/lib/python3.7/site-packages/xarray/core/nanops.py:159: RuntimeWarning: Mean of empty slice\n",
      "  return np.nanmean(a, axis=axis, dtype=dtype)\n",
      "/Users/senyastein/miniconda3/envs/satenv/lib/python3.7/site-packages/xarray/core/nanops.py:159: RuntimeWarning: Mean of empty slice\n",
      "  return np.nanmean(a, axis=axis, dtype=dtype)\n"
     ]
    },
    {
     "name": "stdout",
     "output_type": "stream",
     "text": [
      "100\n",
      "./1024/saildrone-gen_5-west_coast_survey_2018-sd1024-20181010T160000-20181010T175959-1_minutes-v2.1539196212154.nc\n",
      "101\n",
      "./1024/saildrone-gen_5-west_coast_survey_2018-sd1024-20181102T120000-20181102T135959-1_minutes-v2.1541169012636.nc\n",
      "102\n",
      "./1024/saildrone-gen_5-west_coast_survey_2018-sd1024-20181001T100000-20181001T115959-1_minutes-v2.1538397012104.nc\n"
     ]
    },
    {
     "name": "stderr",
     "output_type": "stream",
     "text": [
      "/Users/senyastein/miniconda3/envs/satenv/lib/python3.7/site-packages/xarray/core/nanops.py:159: RuntimeWarning: Mean of empty slice\n",
      "  return np.nanmean(a, axis=axis, dtype=dtype)\n",
      "/Users/senyastein/miniconda3/envs/satenv/lib/python3.7/site-packages/xarray/core/nanops.py:159: RuntimeWarning: Mean of empty slice\n",
      "  return np.nanmean(a, axis=axis, dtype=dtype)\n",
      "/Users/senyastein/miniconda3/envs/satenv/lib/python3.7/site-packages/xarray/core/nanops.py:159: RuntimeWarning: Mean of empty slice\n",
      "  return np.nanmean(a, axis=axis, dtype=dtype)\n"
     ]
    },
    {
     "name": "stdout",
     "output_type": "stream",
     "text": [
      "103\n",
      "./1024/saildrone-gen_5-west_coast_survey_2018-sd1024-20180908T100000-20180908T115959-1_minutes-v2.1536409819841.nc\n",
      "104\n",
      "./1024/saildrone-gen_5-west_coast_survey_2018-sd1024-20180718T000000-20180718T055959-1_minutes-v2.1533313657892.nc\n",
      "105\n",
      "./1024/saildrone-gen_5-west_coast_survey_2018-sd1024-20180802T000000-20180802T055959-1_minutes-v2.1533332811179.nc\n"
     ]
    },
    {
     "name": "stderr",
     "output_type": "stream",
     "text": [
      "/Users/senyastein/miniconda3/envs/satenv/lib/python3.7/site-packages/xarray/core/nanops.py:159: RuntimeWarning: Mean of empty slice\n",
      "  return np.nanmean(a, axis=axis, dtype=dtype)\n",
      "/Users/senyastein/miniconda3/envs/satenv/lib/python3.7/site-packages/xarray/core/nanops.py:159: RuntimeWarning: Mean of empty slice\n",
      "  return np.nanmean(a, axis=axis, dtype=dtype)\n",
      "/Users/senyastein/miniconda3/envs/satenv/lib/python3.7/site-packages/xarray/core/nanops.py:159: RuntimeWarning: Mean of empty slice\n",
      "  return np.nanmean(a, axis=axis, dtype=dtype)\n"
     ]
    },
    {
     "name": "stdout",
     "output_type": "stream",
     "text": [
      "106\n",
      "./1024/saildrone-gen_5-west_coast_survey_2018-sd1024-20180903T120000-20180903T135959-1_minutes-v2.1535985014706.nc\n",
      "107\n",
      "./1024/saildrone-gen_5-west_coast_survey_2018-sd1024-20180907T040000-20180907T055959-1_minutes-v2.1536301814784.nc\n",
      "108\n",
      "./1024/saildrone-gen_5-west_coast_survey_2018-sd1024-20181110T120000-20181110T135959-1_minutes-v2.1541860212473.nc\n"
     ]
    },
    {
     "name": "stderr",
     "output_type": "stream",
     "text": [
      "/Users/senyastein/miniconda3/envs/satenv/lib/python3.7/site-packages/xarray/core/nanops.py:159: RuntimeWarning: Mean of empty slice\n",
      "  return np.nanmean(a, axis=axis, dtype=dtype)\n",
      "/Users/senyastein/miniconda3/envs/satenv/lib/python3.7/site-packages/xarray/core/nanops.py:159: RuntimeWarning: Mean of empty slice\n",
      "  return np.nanmean(a, axis=axis, dtype=dtype)\n",
      "/Users/senyastein/miniconda3/envs/satenv/lib/python3.7/site-packages/xarray/core/nanops.py:159: RuntimeWarning: Mean of empty slice\n",
      "  return np.nanmean(a, axis=axis, dtype=dtype)\n"
     ]
    },
    {
     "name": "stdout",
     "output_type": "stream",
     "text": [
      "109\n",
      "./1024/saildrone-gen_5-west_coast_survey_2018-sd1024-20180901T040000-20180901T055959-1_minutes-v2.1535783428136.nc\n",
      "110\n",
      "./1024/saildrone-gen_5-west_coast_survey_2018-sd1024-20180801T180000-20180801T235959-1_minutes-v2.1533332755164.nc\n",
      "111\n",
      "./1024/saildrone-gen_5-west_coast_survey_2018-sd1024-20180920T000000-20180920T015959-1_minutes-v2.1537410614961.nc\n"
     ]
    },
    {
     "name": "stderr",
     "output_type": "stream",
     "text": [
      "/Users/senyastein/miniconda3/envs/satenv/lib/python3.7/site-packages/xarray/core/nanops.py:159: RuntimeWarning: Mean of empty slice\n",
      "  return np.nanmean(a, axis=axis, dtype=dtype)\n",
      "/Users/senyastein/miniconda3/envs/satenv/lib/python3.7/site-packages/xarray/core/nanops.py:159: RuntimeWarning: Mean of empty slice\n",
      "  return np.nanmean(a, axis=axis, dtype=dtype)\n",
      "/Users/senyastein/miniconda3/envs/satenv/lib/python3.7/site-packages/xarray/core/nanops.py:159: RuntimeWarning: Mean of empty slice\n",
      "  return np.nanmean(a, axis=axis, dtype=dtype)\n"
     ]
    },
    {
     "name": "stdout",
     "output_type": "stream",
     "text": [
      "112\n",
      "./1024/saildrone-gen_5-west_coast_survey_2018-sd1024-20180923T160000-20180923T175959-1_minutes-v2.1537727416300.nc\n",
      "113\n",
      "./1024/saildrone-gen_5-west_coast_survey_2018-sd1024-20181117T180000-20181117T195959-1_minutes-v2.1542486616129.nc\n",
      "114\n",
      "./1024/saildrone-gen_5-west_coast_survey_2018-sd1024-20181006T200000-20181006T215959-1_minutes-v2.1538865012695.nc\n"
     ]
    },
    {
     "name": "stderr",
     "output_type": "stream",
     "text": [
      "/Users/senyastein/miniconda3/envs/satenv/lib/python3.7/site-packages/xarray/core/nanops.py:159: RuntimeWarning: Mean of empty slice\n",
      "  return np.nanmean(a, axis=axis, dtype=dtype)\n",
      "/Users/senyastein/miniconda3/envs/satenv/lib/python3.7/site-packages/xarray/core/nanops.py:159: RuntimeWarning: Mean of empty slice\n",
      "  return np.nanmean(a, axis=axis, dtype=dtype)\n",
      "/Users/senyastein/miniconda3/envs/satenv/lib/python3.7/site-packages/xarray/core/nanops.py:159: RuntimeWarning: Mean of empty slice\n",
      "  return np.nanmean(a, axis=axis, dtype=dtype)\n"
     ]
    },
    {
     "name": "stdout",
     "output_type": "stream",
     "text": [
      "115\n",
      "./1024/saildrone-gen_5-west_coast_survey_2018-sd1024-20180830T100000-20180830T115959-1_minutes-v2.1535632216670.nc\n",
      "116\n",
      "./1024/saildrone-gen_5-west_coast_survey_2018-sd1024-20180927T140000-20180927T155959-1_minutes-v2.1538065814582.nc\n",
      "117\n",
      "./1024/saildrone-gen_5-west_coast_survey_2018-sd1024-20181113T060000-20181113T075959-1_minutes-v2.1542097812469.nc\n"
     ]
    },
    {
     "name": "stderr",
     "output_type": "stream",
     "text": [
      "/Users/senyastein/miniconda3/envs/satenv/lib/python3.7/site-packages/xarray/core/nanops.py:159: RuntimeWarning: Mean of empty slice\n",
      "  return np.nanmean(a, axis=axis, dtype=dtype)\n",
      "/Users/senyastein/miniconda3/envs/satenv/lib/python3.7/site-packages/xarray/core/nanops.py:159: RuntimeWarning: Mean of empty slice\n",
      "  return np.nanmean(a, axis=axis, dtype=dtype)\n",
      "/Users/senyastein/miniconda3/envs/satenv/lib/python3.7/site-packages/xarray/core/nanops.py:159: RuntimeWarning: Mean of empty slice\n",
      "  return np.nanmean(a, axis=axis, dtype=dtype)\n"
     ]
    },
    {
     "name": "stdout",
     "output_type": "stream",
     "text": [
      "118\n",
      "./1024/saildrone-gen_5-west_coast_survey_2018-sd1024-20180927T040000-20180927T055959-1_minutes-v2.1538029816130.nc\n",
      "119\n",
      "./1024/saildrone-gen_5-west_coast_survey_2018-sd1024-20180825T060000-20180825T075959-1_minutes-v2.1535185814476.nc\n",
      "120\n",
      "./1024/saildrone-gen_5-west_coast_survey_2018-sd1024-20181006T000000-20181006T015959-1_minutes-v2.1538793013055.nc\n"
     ]
    },
    {
     "name": "stderr",
     "output_type": "stream",
     "text": [
      "/Users/senyastein/miniconda3/envs/satenv/lib/python3.7/site-packages/xarray/core/nanops.py:159: RuntimeWarning: Mean of empty slice\n",
      "  return np.nanmean(a, axis=axis, dtype=dtype)\n",
      "/Users/senyastein/miniconda3/envs/satenv/lib/python3.7/site-packages/xarray/core/nanops.py:159: RuntimeWarning: Mean of empty slice\n",
      "  return np.nanmean(a, axis=axis, dtype=dtype)\n",
      "/Users/senyastein/miniconda3/envs/satenv/lib/python3.7/site-packages/xarray/core/nanops.py:159: RuntimeWarning: Mean of empty slice\n",
      "  return np.nanmean(a, axis=axis, dtype=dtype)\n"
     ]
    },
    {
     "name": "stdout",
     "output_type": "stream",
     "text": [
      "121\n",
      "./1024/saildrone-gen_5-west_coast_survey_2018-sd1024-20180923T140000-20180923T155959-1_minutes-v2.1537720214490.nc\n",
      "122\n",
      "./1024/saildrone-gen_5-west_coast_survey_2018-sd1024-20181022T000000-20181022T015959-1_minutes-v2.1540175414004.nc\n",
      "123\n",
      "./1024/saildrone-gen_5-west_coast_survey_2018-sd1024-20180817T180000-20180817T235959-1_minutes-v2.1534554034558.nc\n"
     ]
    },
    {
     "name": "stderr",
     "output_type": "stream",
     "text": [
      "/Users/senyastein/miniconda3/envs/satenv/lib/python3.7/site-packages/xarray/core/nanops.py:159: RuntimeWarning: Mean of empty slice\n",
      "  return np.nanmean(a, axis=axis, dtype=dtype)\n",
      "/Users/senyastein/miniconda3/envs/satenv/lib/python3.7/site-packages/xarray/core/nanops.py:159: RuntimeWarning: Mean of empty slice\n",
      "  return np.nanmean(a, axis=axis, dtype=dtype)\n",
      "/Users/senyastein/miniconda3/envs/satenv/lib/python3.7/site-packages/xarray/core/nanops.py:159: RuntimeWarning: Mean of empty slice\n",
      "  return np.nanmean(a, axis=axis, dtype=dtype)\n"
     ]
    },
    {
     "name": "stdout",
     "output_type": "stream",
     "text": [
      "124\n",
      "./1024/saildrone-gen_5-west_coast_survey_2018-sd1024-20181104T160000-20181104T175959-1_minutes-v2.1541356212380.nc\n",
      "125\n",
      "./1024/saildrone-gen_5-west_coast_survey_2018-sd1024-20180805T060000-20180805T115959-1_minutes-v2.1533474065539.nc\n",
      "126\n",
      "./1024/saildrone-gen_5-west_coast_survey_2018-sd1024-20180824T060000-20180824T075959-1_minutes-v2.1535099414845.nc\n"
     ]
    },
    {
     "name": "stderr",
     "output_type": "stream",
     "text": [
      "/Users/senyastein/miniconda3/envs/satenv/lib/python3.7/site-packages/xarray/core/nanops.py:159: RuntimeWarning: Mean of empty slice\n",
      "  return np.nanmean(a, axis=axis, dtype=dtype)\n",
      "/Users/senyastein/miniconda3/envs/satenv/lib/python3.7/site-packages/xarray/core/nanops.py:159: RuntimeWarning: Mean of empty slice\n",
      "  return np.nanmean(a, axis=axis, dtype=dtype)\n",
      "/Users/senyastein/miniconda3/envs/satenv/lib/python3.7/site-packages/xarray/core/nanops.py:159: RuntimeWarning: Mean of empty slice\n",
      "  return np.nanmean(a, axis=axis, dtype=dtype)\n"
     ]
    },
    {
     "name": "stdout",
     "output_type": "stream",
     "text": [
      "127\n",
      "./1024/saildrone-gen_5-west_coast_survey_2018-sd1024-20181119T220000-20181119T235959-1_minutes-v2.1542673816095.nc\n",
      "128\n",
      "./1024/saildrone-gen_5-west_coast_survey_2018-sd1024-20180822T200000-20180822T215959-1_minutes-v2.1534977012916.nc\n",
      "129\n",
      "./1024/saildrone-gen_5-west_coast_survey_2018-sd1024-20181007T220000-20181007T235959-1_minutes-v2.1538958612632.nc\n"
     ]
    },
    {
     "name": "stderr",
     "output_type": "stream",
     "text": [
      "/Users/senyastein/miniconda3/envs/satenv/lib/python3.7/site-packages/xarray/core/nanops.py:159: RuntimeWarning: Mean of empty slice\n",
      "  return np.nanmean(a, axis=axis, dtype=dtype)\n",
      "/Users/senyastein/miniconda3/envs/satenv/lib/python3.7/site-packages/xarray/core/nanops.py:159: RuntimeWarning: Mean of empty slice\n",
      "  return np.nanmean(a, axis=axis, dtype=dtype)\n",
      "/Users/senyastein/miniconda3/envs/satenv/lib/python3.7/site-packages/xarray/core/nanops.py:159: RuntimeWarning: Mean of empty slice\n",
      "  return np.nanmean(a, axis=axis, dtype=dtype)\n"
     ]
    },
    {
     "name": "stdout",
     "output_type": "stream",
     "text": [
      "130\n",
      "./1024/saildrone-gen_5-west_coast_survey_2018-sd1024-20181115T160000-20181115T175959-1_minutes-v2.1542306615616.nc\n",
      "131\n",
      "./1024/saildrone-gen_5-west_coast_survey_2018-sd1024-20181031T140000-20181031T155959-1_minutes-v2.1541003412804.nc\n",
      "132\n",
      "./1024/saildrone-gen_5-west_coast_survey_2018-sd1024-20181125T040000-20181125T055959-1_minutes-v2.1543127415355.nc\n"
     ]
    },
    {
     "name": "stderr",
     "output_type": "stream",
     "text": [
      "/Users/senyastein/miniconda3/envs/satenv/lib/python3.7/site-packages/xarray/core/nanops.py:159: RuntimeWarning: Mean of empty slice\n",
      "  return np.nanmean(a, axis=axis, dtype=dtype)\n",
      "/Users/senyastein/miniconda3/envs/satenv/lib/python3.7/site-packages/xarray/core/nanops.py:159: RuntimeWarning: Mean of empty slice\n",
      "  return np.nanmean(a, axis=axis, dtype=dtype)\n",
      "/Users/senyastein/miniconda3/envs/satenv/lib/python3.7/site-packages/xarray/core/nanops.py:159: RuntimeWarning: Mean of empty slice\n",
      "  return np.nanmean(a, axis=axis, dtype=dtype)\n"
     ]
    },
    {
     "name": "stdout",
     "output_type": "stream",
     "text": [
      "133\n",
      "./1024/saildrone-gen_5-west_coast_survey_2018-sd1024-20181120T060000-20181120T075959-1_minutes-v2.1542702615610.nc\n",
      "134\n",
      "./1024/saildrone-gen_5-west_coast_survey_2018-sd1024-20180909T060000-20180909T075959-1_minutes-v2.1536481831660.nc\n"
     ]
    },
    {
     "name": "stderr",
     "output_type": "stream",
     "text": [
      "/Users/senyastein/miniconda3/envs/satenv/lib/python3.7/site-packages/xarray/core/nanops.py:159: RuntimeWarning: Mean of empty slice\n",
      "  return np.nanmean(a, axis=axis, dtype=dtype)\n",
      "/Users/senyastein/miniconda3/envs/satenv/lib/python3.7/site-packages/xarray/core/nanops.py:159: RuntimeWarning: Mean of empty slice\n",
      "  return np.nanmean(a, axis=axis, dtype=dtype)\n"
     ]
    },
    {
     "name": "stdout",
     "output_type": "stream",
     "text": [
      "135\n",
      "./1024/saildrone-gen_5-west_coast_survey_2018-sd1024-20181120T040000-20181120T055959-1_minutes-v2.1542695415876.nc\n",
      "136\n",
      "./1024/saildrone-gen_5-west_coast_survey_2018-sd1024-20181003T220000-20181003T235959-1_minutes-v2.1538613013598.nc\n"
     ]
    },
    {
     "name": "stderr",
     "output_type": "stream",
     "text": [
      "/Users/senyastein/miniconda3/envs/satenv/lib/python3.7/site-packages/xarray/core/nanops.py:159: RuntimeWarning: Mean of empty slice\n",
      "  return np.nanmean(a, axis=axis, dtype=dtype)\n",
      "/Users/senyastein/miniconda3/envs/satenv/lib/python3.7/site-packages/xarray/core/nanops.py:159: RuntimeWarning: Mean of empty slice\n",
      "  return np.nanmean(a, axis=axis, dtype=dtype)\n"
     ]
    },
    {
     "name": "stdout",
     "output_type": "stream",
     "text": [
      "137\n",
      "./1024/saildrone-gen_5-west_coast_survey_2018-sd1024-20180922T140000-20180922T155959-1_minutes-v2.1537633815618.nc\n",
      "138\n",
      "./1024/saildrone-gen_5-west_coast_survey_2018-sd1024-20180912T160000-20180912T175959-1_minutes-v2.1536777015142.nc\n",
      "139\n",
      "./1024/saildrone-gen_5-west_coast_survey_2018-sd1024-20180910T180000-20180910T195959-1_minutes-v2.1536611427384.nc\n"
     ]
    },
    {
     "name": "stderr",
     "output_type": "stream",
     "text": [
      "/Users/senyastein/miniconda3/envs/satenv/lib/python3.7/site-packages/xarray/core/nanops.py:159: RuntimeWarning: Mean of empty slice\n",
      "  return np.nanmean(a, axis=axis, dtype=dtype)\n",
      "/Users/senyastein/miniconda3/envs/satenv/lib/python3.7/site-packages/xarray/core/nanops.py:159: RuntimeWarning: Mean of empty slice\n",
      "  return np.nanmean(a, axis=axis, dtype=dtype)\n",
      "/Users/senyastein/miniconda3/envs/satenv/lib/python3.7/site-packages/xarray/core/nanops.py:159: RuntimeWarning: Mean of empty slice\n",
      "  return np.nanmean(a, axis=axis, dtype=dtype)\n"
     ]
    },
    {
     "name": "stdout",
     "output_type": "stream",
     "text": [
      "140\n",
      "./1024/saildrone-gen_5-west_coast_survey_2018-sd1024-20181116T180000-20181116T195959-1_minutes-v2.1542400215695.nc\n",
      "141\n",
      "./1024/saildrone-gen_5-west_coast_survey_2018-sd1024-20180902T000000-20180902T015959-1_minutes-v2.1535855415508.nc\n",
      "142\n",
      "./1024/saildrone-gen_5-west_coast_survey_2018-sd1024-20181001T200000-20181001T215959-1_minutes-v2.1538433024847.nc\n"
     ]
    },
    {
     "name": "stderr",
     "output_type": "stream",
     "text": [
      "/Users/senyastein/miniconda3/envs/satenv/lib/python3.7/site-packages/xarray/core/nanops.py:159: RuntimeWarning: Mean of empty slice\n",
      "  return np.nanmean(a, axis=axis, dtype=dtype)\n",
      "/Users/senyastein/miniconda3/envs/satenv/lib/python3.7/site-packages/xarray/core/nanops.py:159: RuntimeWarning: Mean of empty slice\n",
      "  return np.nanmean(a, axis=axis, dtype=dtype)\n",
      "/Users/senyastein/miniconda3/envs/satenv/lib/python3.7/site-packages/xarray/core/nanops.py:159: RuntimeWarning: Mean of empty slice\n",
      "  return np.nanmean(a, axis=axis, dtype=dtype)\n"
     ]
    },
    {
     "name": "stdout",
     "output_type": "stream",
     "text": [
      "143\n",
      "./1024/saildrone-gen_5-west_coast_survey_2018-sd1024-20180730T180000-20180730T235959-1_minutes-v2.1533316747807.nc\n",
      "144\n",
      "./1024/saildrone-gen_5-west_coast_survey_2018-sd1024-20180725T120000-20180725T175959-1_minutes-v2.1533315364605.nc\n",
      "145\n",
      "./1024/saildrone-gen_5-west_coast_survey_2018-sd1024-20180803T000000-20180803T055959-1_minutes-v2.1533279637759.nc\n"
     ]
    },
    {
     "name": "stderr",
     "output_type": "stream",
     "text": [
      "/Users/senyastein/miniconda3/envs/satenv/lib/python3.7/site-packages/xarray/core/nanops.py:159: RuntimeWarning: Mean of empty slice\n",
      "  return np.nanmean(a, axis=axis, dtype=dtype)\n",
      "/Users/senyastein/miniconda3/envs/satenv/lib/python3.7/site-packages/xarray/core/nanops.py:159: RuntimeWarning: Mean of empty slice\n",
      "  return np.nanmean(a, axis=axis, dtype=dtype)\n",
      "/Users/senyastein/miniconda3/envs/satenv/lib/python3.7/site-packages/xarray/core/nanops.py:159: RuntimeWarning: Mean of empty slice\n",
      "  return np.nanmean(a, axis=axis, dtype=dtype)\n"
     ]
    },
    {
     "name": "stdout",
     "output_type": "stream",
     "text": [
      "146\n",
      "./1024/saildrone-gen_5-west_coast_survey_2018-sd1024-20181028T040000-20181028T055959-1_minutes-v2.1540708211877.nc\n",
      "147\n",
      "./1024/saildrone-gen_5-west_coast_survey_2018-sd1024-20181123T160000-20181123T175959-1_minutes-v2.1542997815519.nc\n",
      "148\n",
      "./1024/saildrone-gen_5-west_coast_survey_2018-sd1024-20180907T200000-20180907T215959-1_minutes-v2.1536359416009.nc\n"
     ]
    },
    {
     "name": "stderr",
     "output_type": "stream",
     "text": [
      "/Users/senyastein/miniconda3/envs/satenv/lib/python3.7/site-packages/xarray/core/nanops.py:159: RuntimeWarning: Mean of empty slice\n",
      "  return np.nanmean(a, axis=axis, dtype=dtype)\n",
      "/Users/senyastein/miniconda3/envs/satenv/lib/python3.7/site-packages/xarray/core/nanops.py:159: RuntimeWarning: Mean of empty slice\n",
      "  return np.nanmean(a, axis=axis, dtype=dtype)\n",
      "/Users/senyastein/miniconda3/envs/satenv/lib/python3.7/site-packages/xarray/core/nanops.py:159: RuntimeWarning: Mean of empty slice\n",
      "  return np.nanmean(a, axis=axis, dtype=dtype)\n"
     ]
    },
    {
     "name": "stdout",
     "output_type": "stream",
     "text": [
      "149\n",
      "./1024/saildrone-gen_5-west_coast_survey_2018-sd1024-20181007T200000-20181007T215959-1_minutes-v2.1538951412105.nc\n",
      "150\n",
      "./1024/saildrone-gen_5-west_coast_survey_2018-sd1024-20181117T200000-20181117T215959-1_minutes-v2.1542493816169.nc\n",
      "151\n",
      "./1024/saildrone-gen_5-west_coast_survey_2018-sd1024-20180725T180000-20180725T235959-1_minutes-v2.1533315434102.nc\n"
     ]
    },
    {
     "name": "stderr",
     "output_type": "stream",
     "text": [
      "/Users/senyastein/miniconda3/envs/satenv/lib/python3.7/site-packages/xarray/core/nanops.py:159: RuntimeWarning: Mean of empty slice\n",
      "  return np.nanmean(a, axis=axis, dtype=dtype)\n",
      "/Users/senyastein/miniconda3/envs/satenv/lib/python3.7/site-packages/xarray/core/nanops.py:159: RuntimeWarning: Mean of empty slice\n",
      "  return np.nanmean(a, axis=axis, dtype=dtype)\n",
      "/Users/senyastein/miniconda3/envs/satenv/lib/python3.7/site-packages/xarray/core/nanops.py:159: RuntimeWarning: Mean of empty slice\n",
      "  return np.nanmean(a, axis=axis, dtype=dtype)\n"
     ]
    },
    {
     "name": "stdout",
     "output_type": "stream",
     "text": [
      "152\n",
      "./1024/saildrone-gen_5-west_coast_survey_2018-sd1024-20180901T080000-20180901T095959-1_minutes-v2.1535797814171.nc\n",
      "153\n",
      "./1024/saildrone-gen_5-west_coast_survey_2018-sd1024-20180730T060000-20180730T115959-1_minutes-v2.1533316605003.nc\n"
     ]
    },
    {
     "name": "stderr",
     "output_type": "stream",
     "text": [
      "/Users/senyastein/miniconda3/envs/satenv/lib/python3.7/site-packages/xarray/core/nanops.py:159: RuntimeWarning: Mean of empty slice\n",
      "  return np.nanmean(a, axis=axis, dtype=dtype)\n",
      "/Users/senyastein/miniconda3/envs/satenv/lib/python3.7/site-packages/xarray/core/nanops.py:159: RuntimeWarning: Mean of empty slice\n",
      "  return np.nanmean(a, axis=axis, dtype=dtype)\n"
     ]
    },
    {
     "name": "stdout",
     "output_type": "stream",
     "text": [
      "154\n",
      "./1024/saildrone-gen_5-west_coast_survey_2018-sd1024-20181005T180000-20181005T195959-1_minutes-v2.1538771412565.nc\n",
      "155\n",
      "./1024/saildrone-gen_5-west_coast_survey_2018-sd1024-20180905T080000-20180905T095959-1_minutes-v2.1536143415574.nc\n"
     ]
    },
    {
     "name": "stderr",
     "output_type": "stream",
     "text": [
      "/Users/senyastein/miniconda3/envs/satenv/lib/python3.7/site-packages/xarray/core/nanops.py:159: RuntimeWarning: Mean of empty slice\n",
      "  return np.nanmean(a, axis=axis, dtype=dtype)\n",
      "/Users/senyastein/miniconda3/envs/satenv/lib/python3.7/site-packages/xarray/core/nanops.py:159: RuntimeWarning: Mean of empty slice\n",
      "  return np.nanmean(a, axis=axis, dtype=dtype)\n"
     ]
    },
    {
     "name": "stdout",
     "output_type": "stream",
     "text": [
      "156\n",
      "./1024/saildrone-gen_5-west_coast_survey_2018-sd1024-20181121T020000-20181121T035959-1_minutes-v2.1542774616142.nc\n"
     ]
    },
    {
     "name": "stderr",
     "output_type": "stream",
     "text": [
      "/Users/senyastein/miniconda3/envs/satenv/lib/python3.7/site-packages/xarray/core/nanops.py:159: RuntimeWarning: Mean of empty slice\n",
      "  return np.nanmean(a, axis=axis, dtype=dtype)\n"
     ]
    },
    {
     "name": "stdout",
     "output_type": "stream",
     "text": [
      "157\n",
      "./1024/saildrone-gen_5-west_coast_survey_2018-sd1024-20181005T000000-20181005T015959-1_minutes-v2.1538706630115.nc\n",
      "158\n",
      "./1024/saildrone-gen_5-west_coast_survey_2018-sd1024-20180917T160000-20180917T175959-1_minutes-v2.1537209015819.nc\n",
      "159\n",
      "./1024/saildrone-gen_5-west_coast_survey_2018-sd1024-20181018T060000-20181018T075959-1_minutes-v2.1539851412090.nc\n"
     ]
    },
    {
     "name": "stderr",
     "output_type": "stream",
     "text": [
      "/Users/senyastein/miniconda3/envs/satenv/lib/python3.7/site-packages/xarray/core/nanops.py:159: RuntimeWarning: Mean of empty slice\n",
      "  return np.nanmean(a, axis=axis, dtype=dtype)\n",
      "/Users/senyastein/miniconda3/envs/satenv/lib/python3.7/site-packages/xarray/core/nanops.py:159: RuntimeWarning: Mean of empty slice\n",
      "  return np.nanmean(a, axis=axis, dtype=dtype)\n",
      "/Users/senyastein/miniconda3/envs/satenv/lib/python3.7/site-packages/xarray/core/nanops.py:159: RuntimeWarning: Mean of empty slice\n",
      "  return np.nanmean(a, axis=axis, dtype=dtype)\n"
     ]
    },
    {
     "name": "stdout",
     "output_type": "stream",
     "text": [
      "160\n",
      "./1024/saildrone-gen_5-west_coast_survey_2018-sd1024-20180823T060000-20180823T075959-1_minutes-v2.1535013013134.nc\n",
      "161\n",
      "./1024/saildrone-gen_5-west_coast_survey_2018-sd1024-20180806T180000-20180806T235959-1_minutes-v2.1533603631935.nc\n",
      "162\n",
      "./1024/saildrone-gen_5-west_coast_survey_2018-sd1024-20180725T000000-20180725T055959-1_minutes-v2.1533315243538.nc\n"
     ]
    },
    {
     "name": "stderr",
     "output_type": "stream",
     "text": [
      "/Users/senyastein/miniconda3/envs/satenv/lib/python3.7/site-packages/xarray/core/nanops.py:159: RuntimeWarning: Mean of empty slice\n",
      "  return np.nanmean(a, axis=axis, dtype=dtype)\n",
      "/Users/senyastein/miniconda3/envs/satenv/lib/python3.7/site-packages/xarray/core/nanops.py:159: RuntimeWarning: Mean of empty slice\n",
      "  return np.nanmean(a, axis=axis, dtype=dtype)\n",
      "/Users/senyastein/miniconda3/envs/satenv/lib/python3.7/site-packages/xarray/core/nanops.py:159: RuntimeWarning: Mean of empty slice\n",
      "  return np.nanmean(a, axis=axis, dtype=dtype)\n",
      "/Users/senyastein/miniconda3/envs/satenv/lib/python3.7/site-packages/xarray/core/nanops.py:159: RuntimeWarning: Mean of empty slice\n",
      "  return np.nanmean(a, axis=axis, dtype=dtype)\n",
      "/Users/senyastein/miniconda3/envs/satenv/lib/python3.7/site-packages/xarray/core/nanops.py:159: RuntimeWarning: Mean of empty slice\n",
      "  return np.nanmean(a, axis=axis, dtype=dtype)\n"
     ]
    },
    {
     "name": "stdout",
     "output_type": "stream",
     "text": [
      "163\n",
      "./1024/saildrone-gen_5-west_coast_survey_2018-sd1024-20181112T000000-20181112T015959-1_minutes-v2.1541989812869.nc\n",
      "164\n",
      "./1024/saildrone-gen_5-west_coast_survey_2018-sd1024-20180929T200000-20180929T215959-1_minutes-v2.1538260213045.nc\n",
      "165\n",
      "./1024/saildrone-gen_5-west_coast_survey_2018-sd1024-20181002T000000-20181002T015959-1_minutes-v2.1538447412619.nc\n"
     ]
    },
    {
     "name": "stderr",
     "output_type": "stream",
     "text": [
      "/Users/senyastein/miniconda3/envs/satenv/lib/python3.7/site-packages/xarray/core/nanops.py:159: RuntimeWarning: Mean of empty slice\n",
      "  return np.nanmean(a, axis=axis, dtype=dtype)\n",
      "/Users/senyastein/miniconda3/envs/satenv/lib/python3.7/site-packages/xarray/core/nanops.py:159: RuntimeWarning: Mean of empty slice\n",
      "  return np.nanmean(a, axis=axis, dtype=dtype)\n",
      "/Users/senyastein/miniconda3/envs/satenv/lib/python3.7/site-packages/xarray/core/nanops.py:159: RuntimeWarning: Mean of empty slice\n",
      "  return np.nanmean(a, axis=axis, dtype=dtype)\n"
     ]
    },
    {
     "name": "stdout",
     "output_type": "stream",
     "text": [
      "166\n",
      "./1024/saildrone-gen_5-west_coast_survey_2018-sd1024-20181113T000000-20181113T015959-1_minutes-v2.1542076212098.nc\n",
      "167\n",
      "./1024/saildrone-gen_5-west_coast_survey_2018-sd1024-20180901T100000-20180901T115959-1_minutes-v2.1535805013646.nc\n",
      "168\n",
      "./1024/saildrone-gen_5-west_coast_survey_2018-sd1024-20181110T020000-20181110T035959-1_minutes-v2.1541824212745.nc\n"
     ]
    },
    {
     "name": "stderr",
     "output_type": "stream",
     "text": [
      "/Users/senyastein/miniconda3/envs/satenv/lib/python3.7/site-packages/xarray/core/nanops.py:159: RuntimeWarning: Mean of empty slice\n",
      "  return np.nanmean(a, axis=axis, dtype=dtype)\n",
      "/Users/senyastein/miniconda3/envs/satenv/lib/python3.7/site-packages/xarray/core/nanops.py:159: RuntimeWarning: Mean of empty slice\n",
      "  return np.nanmean(a, axis=axis, dtype=dtype)\n",
      "/Users/senyastein/miniconda3/envs/satenv/lib/python3.7/site-packages/xarray/core/nanops.py:159: RuntimeWarning: Mean of empty slice\n",
      "  return np.nanmean(a, axis=axis, dtype=dtype)\n"
     ]
    },
    {
     "name": "stdout",
     "output_type": "stream",
     "text": [
      "169\n",
      "./1024/saildrone-gen_5-west_coast_survey_2018-sd1024-20181111T220000-20181111T235959-1_minutes-v2.1541982612263.nc\n",
      "170\n",
      "./1024/saildrone-gen_5-west_coast_survey_2018-sd1024-20181002T040000-20181002T055959-1_minutes-v2.1538461812725.nc\n",
      "171\n",
      "./1024/saildrone-gen_5-west_coast_survey_2018-sd1024-20180910T080000-20180910T095959-1_minutes-v2.1536575435654.nc\n"
     ]
    },
    {
     "name": "stderr",
     "output_type": "stream",
     "text": [
      "/Users/senyastein/miniconda3/envs/satenv/lib/python3.7/site-packages/xarray/core/nanops.py:159: RuntimeWarning: Mean of empty slice\n",
      "  return np.nanmean(a, axis=axis, dtype=dtype)\n",
      "/Users/senyastein/miniconda3/envs/satenv/lib/python3.7/site-packages/xarray/core/nanops.py:159: RuntimeWarning: Mean of empty slice\n",
      "  return np.nanmean(a, axis=axis, dtype=dtype)\n",
      "/Users/senyastein/miniconda3/envs/satenv/lib/python3.7/site-packages/xarray/core/nanops.py:159: RuntimeWarning: Mean of empty slice\n",
      "  return np.nanmean(a, axis=axis, dtype=dtype)\n"
     ]
    },
    {
     "name": "stdout",
     "output_type": "stream",
     "text": [
      "172\n",
      "./1024/saildrone-gen_5-west_coast_survey_2018-sd1024-20181126T040000-20181126T055959-1_minutes-v2.1543213815890.nc\n",
      "173\n",
      "./1024/saildrone-gen_5-west_coast_survey_2018-sd1024-20180909T080000-20180909T095959-1_minutes-v2.1536489015823.nc\n",
      "174\n",
      "./1024/saildrone-gen_5-west_coast_survey_2018-sd1024-20180904T100000-20180904T115959-1_minutes-v2.1536064214529.nc\n"
     ]
    },
    {
     "name": "stderr",
     "output_type": "stream",
     "text": [
      "/Users/senyastein/miniconda3/envs/satenv/lib/python3.7/site-packages/xarray/core/nanops.py:159: RuntimeWarning: Mean of empty slice\n",
      "  return np.nanmean(a, axis=axis, dtype=dtype)\n",
      "/Users/senyastein/miniconda3/envs/satenv/lib/python3.7/site-packages/xarray/core/nanops.py:159: RuntimeWarning: Mean of empty slice\n",
      "  return np.nanmean(a, axis=axis, dtype=dtype)\n",
      "/Users/senyastein/miniconda3/envs/satenv/lib/python3.7/site-packages/xarray/core/nanops.py:159: RuntimeWarning: Mean of empty slice\n",
      "  return np.nanmean(a, axis=axis, dtype=dtype)\n"
     ]
    },
    {
     "name": "stdout",
     "output_type": "stream",
     "text": [
      "175\n",
      "./1024/saildrone-gen_5-west_coast_survey_2018-sd1024-20180906T100000-20180906T115959-1_minutes-v2.1536237017183.nc\n",
      "176\n",
      "./1024/saildrone-gen_5-west_coast_survey_2018-sd1024-20181125T020000-20181125T035959-1_minutes-v2.1543120216210.nc\n",
      "177\n",
      "./1024/saildrone-gen_5-west_coast_survey_2018-sd1024-20181112T220000-20181112T235959-1_minutes-v2.1542069011874.nc\n"
     ]
    },
    {
     "name": "stderr",
     "output_type": "stream",
     "text": [
      "/Users/senyastein/miniconda3/envs/satenv/lib/python3.7/site-packages/xarray/core/nanops.py:159: RuntimeWarning: Mean of empty slice\n",
      "  return np.nanmean(a, axis=axis, dtype=dtype)\n",
      "/Users/senyastein/miniconda3/envs/satenv/lib/python3.7/site-packages/xarray/core/nanops.py:159: RuntimeWarning: Mean of empty slice\n",
      "  return np.nanmean(a, axis=axis, dtype=dtype)\n",
      "/Users/senyastein/miniconda3/envs/satenv/lib/python3.7/site-packages/xarray/core/nanops.py:159: RuntimeWarning: Mean of empty slice\n",
      "  return np.nanmean(a, axis=axis, dtype=dtype)\n"
     ]
    },
    {
     "name": "stdout",
     "output_type": "stream",
     "text": [
      "178\n",
      "./1024/saildrone-gen_5-west_coast_survey_2018-sd1024-20181121T040000-20181121T055959-1_minutes-v2.1542781815664.nc\n",
      "179\n",
      "./1024/saildrone-gen_5-west_coast_survey_2018-sd1024-20181114T000000-20181114T015959-1_minutes-v2.1542162616149.nc\n",
      "180\n",
      "./1024/saildrone-gen_5-west_coast_survey_2018-sd1024-20180902T140000-20180902T155959-1_minutes-v2.1535905814090.nc\n"
     ]
    },
    {
     "name": "stderr",
     "output_type": "stream",
     "text": [
      "/Users/senyastein/miniconda3/envs/satenv/lib/python3.7/site-packages/xarray/core/nanops.py:159: RuntimeWarning: Mean of empty slice\n",
      "  return np.nanmean(a, axis=axis, dtype=dtype)\n",
      "/Users/senyastein/miniconda3/envs/satenv/lib/python3.7/site-packages/xarray/core/nanops.py:159: RuntimeWarning: Mean of empty slice\n",
      "  return np.nanmean(a, axis=axis, dtype=dtype)\n",
      "/Users/senyastein/miniconda3/envs/satenv/lib/python3.7/site-packages/xarray/core/nanops.py:159: RuntimeWarning: Mean of empty slice\n",
      "  return np.nanmean(a, axis=axis, dtype=dtype)\n"
     ]
    },
    {
     "name": "stdout",
     "output_type": "stream",
     "text": [
      "181\n",
      "./1024/saildrone-gen_5-west_coast_survey_2018-sd1024-20180910T160000-20180910T175959-1_minutes-v2.1536604216274.nc\n",
      "182\n",
      "./1024/saildrone-gen_5-west_coast_survey_2018-sd1024-20180915T040000-20180915T055959-1_minutes-v2.1536993015030.nc\n",
      "183\n",
      "./1024/saildrone-gen_5-west_coast_survey_2018-sd1024-20180806T120000-20180806T175959-1_minutes-v2.1533582030758.nc\n"
     ]
    },
    {
     "name": "stderr",
     "output_type": "stream",
     "text": [
      "/Users/senyastein/miniconda3/envs/satenv/lib/python3.7/site-packages/xarray/core/nanops.py:159: RuntimeWarning: Mean of empty slice\n",
      "  return np.nanmean(a, axis=axis, dtype=dtype)\n",
      "/Users/senyastein/miniconda3/envs/satenv/lib/python3.7/site-packages/xarray/core/nanops.py:159: RuntimeWarning: Mean of empty slice\n",
      "  return np.nanmean(a, axis=axis, dtype=dtype)\n",
      "/Users/senyastein/miniconda3/envs/satenv/lib/python3.7/site-packages/xarray/core/nanops.py:159: RuntimeWarning: Mean of empty slice\n",
      "  return np.nanmean(a, axis=axis, dtype=dtype)\n"
     ]
    },
    {
     "name": "stdout",
     "output_type": "stream",
     "text": [
      "184\n",
      "./1024/saildrone-gen_5-west_coast_survey_2018-sd1024-20181025T000000-20181025T015959-1_minutes-v2.1540434612475.nc\n",
      "185\n",
      "./1024/saildrone-gen_5-west_coast_survey_2018-sd1024-20180828T160000-20180828T175959-1_minutes-v2.1535481014974.nc\n",
      "186\n",
      "./1024/saildrone-gen_5-west_coast_survey_2018-sd1024-20180919T040000-20180919T055959-1_minutes-v2.1537338615550.nc\n"
     ]
    },
    {
     "name": "stderr",
     "output_type": "stream",
     "text": [
      "/Users/senyastein/miniconda3/envs/satenv/lib/python3.7/site-packages/xarray/core/nanops.py:159: RuntimeWarning: Mean of empty slice\n",
      "  return np.nanmean(a, axis=axis, dtype=dtype)\n",
      "/Users/senyastein/miniconda3/envs/satenv/lib/python3.7/site-packages/xarray/core/nanops.py:159: RuntimeWarning: Mean of empty slice\n",
      "  return np.nanmean(a, axis=axis, dtype=dtype)\n",
      "/Users/senyastein/miniconda3/envs/satenv/lib/python3.7/site-packages/xarray/core/nanops.py:159: RuntimeWarning: Mean of empty slice\n",
      "  return np.nanmean(a, axis=axis, dtype=dtype)\n"
     ]
    },
    {
     "name": "stdout",
     "output_type": "stream",
     "text": [
      "187\n",
      "./1024/saildrone-gen_5-west_coast_survey_2018-sd1024-20181023T040000-20181023T055959-1_minutes-v2.1540276212031.nc\n",
      "188\n",
      "./1024/saildrone-gen_5-west_coast_survey_2018-sd1024-20180831T100000-20180831T115959-1_minutes-v2.1535718614303.nc\n",
      "189\n",
      "./1024/saildrone-gen_5-west_coast_survey_2018-sd1024-20181008T040000-20181008T055959-1_minutes-v2.1538980212466.nc\n",
      "190\n",
      "./1024/saildrone-gen_5-west_coast_survey_2018-sd1024-20181110T100000-20181110T115959-1_minutes-v2.1541853012415.nc\n"
     ]
    },
    {
     "name": "stderr",
     "output_type": "stream",
     "text": [
      "/Users/senyastein/miniconda3/envs/satenv/lib/python3.7/site-packages/xarray/core/nanops.py:159: RuntimeWarning: Mean of empty slice\n",
      "  return np.nanmean(a, axis=axis, dtype=dtype)\n",
      "/Users/senyastein/miniconda3/envs/satenv/lib/python3.7/site-packages/xarray/core/nanops.py:159: RuntimeWarning: Mean of empty slice\n",
      "  return np.nanmean(a, axis=axis, dtype=dtype)\n"
     ]
    },
    {
     "name": "stdout",
     "output_type": "stream",
     "text": [
      "191\n",
      "./1024/saildrone-gen_5-west_coast_survey_2018-sd1024-20180916T160000-20180916T175959-1_minutes-v2.1537122614955.nc\n",
      "192\n",
      "./1024/saildrone-gen_5-west_coast_survey_2018-sd1024-20181008T140000-20181008T155959-1_minutes-v2.1539016213026.nc\n"
     ]
    },
    {
     "name": "stderr",
     "output_type": "stream",
     "text": [
      "/Users/senyastein/miniconda3/envs/satenv/lib/python3.7/site-packages/xarray/core/nanops.py:159: RuntimeWarning: Mean of empty slice\n",
      "  return np.nanmean(a, axis=axis, dtype=dtype)\n",
      "/Users/senyastein/miniconda3/envs/satenv/lib/python3.7/site-packages/xarray/core/nanops.py:159: RuntimeWarning: Mean of empty slice\n",
      "  return np.nanmean(a, axis=axis, dtype=dtype)\n"
     ]
    },
    {
     "name": "stdout",
     "output_type": "stream",
     "text": [
      "193\n",
      "./1024/saildrone-gen_5-west_coast_survey_2018-sd1024-20180724T120000-20180724T175959-1_minutes-v2.1533315133661.nc\n",
      "194\n",
      "./1024/saildrone-gen_5-west_coast_survey_2018-sd1024-20180904T080000-20180904T095959-1_minutes-v2.1536057014696.nc\n"
     ]
    },
    {
     "name": "stderr",
     "output_type": "stream",
     "text": [
      "/Users/senyastein/miniconda3/envs/satenv/lib/python3.7/site-packages/xarray/core/nanops.py:159: RuntimeWarning: Mean of empty slice\n",
      "  return np.nanmean(a, axis=axis, dtype=dtype)\n",
      "/Users/senyastein/miniconda3/envs/satenv/lib/python3.7/site-packages/xarray/core/nanops.py:159: RuntimeWarning: Mean of empty slice\n",
      "  return np.nanmean(a, axis=axis, dtype=dtype)\n"
     ]
    },
    {
     "name": "stdout",
     "output_type": "stream",
     "text": [
      "195\n",
      "./1024/saildrone-gen_5-west_coast_survey_2018-sd1024-20181125T000000-20181125T015959-1_minutes-v2.1543113015580.nc\n",
      "196\n",
      "./1024/saildrone-gen_5-west_coast_survey_2018-sd1024-20181024T220000-20181024T235959-1_minutes-v2.1540427413179.nc\n",
      "197\n",
      "./1024/saildrone-gen_5-west_coast_survey_2018-sd1024-20181019T040000-20181019T055959-1_minutes-v2.1539930612402.nc\n"
     ]
    },
    {
     "name": "stderr",
     "output_type": "stream",
     "text": [
      "/Users/senyastein/miniconda3/envs/satenv/lib/python3.7/site-packages/xarray/core/nanops.py:159: RuntimeWarning: Mean of empty slice\n",
      "  return np.nanmean(a, axis=axis, dtype=dtype)\n",
      "/Users/senyastein/miniconda3/envs/satenv/lib/python3.7/site-packages/xarray/core/nanops.py:159: RuntimeWarning: Mean of empty slice\n",
      "  return np.nanmean(a, axis=axis, dtype=dtype)\n",
      "/Users/senyastein/miniconda3/envs/satenv/lib/python3.7/site-packages/xarray/core/nanops.py:159: RuntimeWarning: Mean of empty slice\n",
      "  return np.nanmean(a, axis=axis, dtype=dtype)\n"
     ]
    },
    {
     "name": "stdout",
     "output_type": "stream",
     "text": [
      "198\n",
      "./1024/saildrone-gen_5-west_coast_survey_2018-sd1024-20180719T180000-20180719T235959-1_minutes-v2.1533314038695.nc\n",
      "199\n",
      "./1024/saildrone-gen_5-west_coast_survey_2018-sd1024-20181008T180000-20181008T195959-1_minutes-v2.1539030613139.nc\n"
     ]
    },
    {
     "name": "stderr",
     "output_type": "stream",
     "text": [
      "/Users/senyastein/miniconda3/envs/satenv/lib/python3.7/site-packages/xarray/core/nanops.py:159: RuntimeWarning: Mean of empty slice\n",
      "  return np.nanmean(a, axis=axis, dtype=dtype)\n",
      "/Users/senyastein/miniconda3/envs/satenv/lib/python3.7/site-packages/xarray/core/nanops.py:159: RuntimeWarning: Mean of empty slice\n",
      "  return np.nanmean(a, axis=axis, dtype=dtype)\n"
     ]
    },
    {
     "name": "stdout",
     "output_type": "stream",
     "text": [
      "200\n",
      "./1024/saildrone-gen_5-west_coast_survey_2018-sd1024-20181126T000000-20181126T015959-1_minutes-v2.1543199415306.nc\n",
      "201\n",
      "./1024/saildrone-gen_5-west_coast_survey_2018-sd1024-20180823T100000-20180823T115959-1_minutes-v2.1535027413965.nc\n",
      "202\n",
      "./1024/saildrone-gen_5-west_coast_survey_2018-sd1024-20180926T060000-20180926T075959-1_minutes-v2.1537950614975.nc\n"
     ]
    },
    {
     "name": "stderr",
     "output_type": "stream",
     "text": [
      "/Users/senyastein/miniconda3/envs/satenv/lib/python3.7/site-packages/xarray/core/nanops.py:159: RuntimeWarning: Mean of empty slice\n",
      "  return np.nanmean(a, axis=axis, dtype=dtype)\n",
      "/Users/senyastein/miniconda3/envs/satenv/lib/python3.7/site-packages/xarray/core/nanops.py:159: RuntimeWarning: Mean of empty slice\n",
      "  return np.nanmean(a, axis=axis, dtype=dtype)\n",
      "/Users/senyastein/miniconda3/envs/satenv/lib/python3.7/site-packages/xarray/core/nanops.py:159: RuntimeWarning: Mean of empty slice\n",
      "  return np.nanmean(a, axis=axis, dtype=dtype)\n"
     ]
    },
    {
     "name": "stdout",
     "output_type": "stream",
     "text": [
      "203\n",
      "./1024/saildrone-gen_5-west_coast_survey_2018-sd1024-20181024T200000-20181024T215959-1_minutes-v2.1540420217195.nc\n",
      "204\n",
      "./1024/saildrone-gen_5-west_coast_survey_2018-sd1024-20181112T200000-20181112T215959-1_minutes-v2.1542061812356.nc\n",
      "205\n",
      "./1024/saildrone-gen_5-west_coast_survey_2018-sd1024-20181013T100000-20181013T115959-1_minutes-v2.1539433813114.nc\n"
     ]
    },
    {
     "name": "stderr",
     "output_type": "stream",
     "text": [
      "/Users/senyastein/miniconda3/envs/satenv/lib/python3.7/site-packages/xarray/core/nanops.py:159: RuntimeWarning: Mean of empty slice\n",
      "  return np.nanmean(a, axis=axis, dtype=dtype)\n",
      "/Users/senyastein/miniconda3/envs/satenv/lib/python3.7/site-packages/xarray/core/nanops.py:159: RuntimeWarning: Mean of empty slice\n",
      "  return np.nanmean(a, axis=axis, dtype=dtype)\n",
      "/Users/senyastein/miniconda3/envs/satenv/lib/python3.7/site-packages/xarray/core/nanops.py:159: RuntimeWarning: Mean of empty slice\n",
      "  return np.nanmean(a, axis=axis, dtype=dtype)\n"
     ]
    },
    {
     "name": "stdout",
     "output_type": "stream",
     "text": [
      "206\n",
      "./1024/saildrone-gen_5-west_coast_survey_2018-sd1024-20181021T100000-20181021T115959-1_minutes-v2.1540125011906.nc\n",
      "207\n",
      "./1024/saildrone-gen_5-west_coast_survey_2018-sd1024-20181029T140000-20181029T155959-1_minutes-v2.1540830612525.nc\n",
      "208\n",
      "./1024/saildrone-gen_5-west_coast_survey_2018-sd1024-20181102T000000-20181102T015959-1_minutes-v2.1541125812070.nc\n"
     ]
    },
    {
     "name": "stderr",
     "output_type": "stream",
     "text": [
      "/Users/senyastein/miniconda3/envs/satenv/lib/python3.7/site-packages/xarray/core/nanops.py:159: RuntimeWarning: Mean of empty slice\n",
      "  return np.nanmean(a, axis=axis, dtype=dtype)\n",
      "/Users/senyastein/miniconda3/envs/satenv/lib/python3.7/site-packages/xarray/core/nanops.py:159: RuntimeWarning: Mean of empty slice\n",
      "  return np.nanmean(a, axis=axis, dtype=dtype)\n",
      "/Users/senyastein/miniconda3/envs/satenv/lib/python3.7/site-packages/xarray/core/nanops.py:159: RuntimeWarning: Mean of empty slice\n",
      "  return np.nanmean(a, axis=axis, dtype=dtype)\n"
     ]
    },
    {
     "name": "stdout",
     "output_type": "stream",
     "text": [
      "209\n",
      "./1024/saildrone-gen_5-west_coast_survey_2018-sd1024-20181113T160000-20181113T175959-1_minutes-v2.1542133812458.nc\n",
      "210\n",
      "./1024/saildrone-gen_5-west_coast_survey_2018-sd1024-20180921T060000-20180921T075959-1_minutes-v2.1537518615325.nc\n",
      "211\n",
      "./1024/saildrone-gen_5-west_coast_survey_2018-sd1024-20181119T060000-20181119T075959-1_minutes-v2.1542616215772.nc\n"
     ]
    },
    {
     "name": "stderr",
     "output_type": "stream",
     "text": [
      "/Users/senyastein/miniconda3/envs/satenv/lib/python3.7/site-packages/xarray/core/nanops.py:159: RuntimeWarning: Mean of empty slice\n",
      "  return np.nanmean(a, axis=axis, dtype=dtype)\n",
      "/Users/senyastein/miniconda3/envs/satenv/lib/python3.7/site-packages/xarray/core/nanops.py:159: RuntimeWarning: Mean of empty slice\n",
      "  return np.nanmean(a, axis=axis, dtype=dtype)\n",
      "/Users/senyastein/miniconda3/envs/satenv/lib/python3.7/site-packages/xarray/core/nanops.py:159: RuntimeWarning: Mean of empty slice\n",
      "  return np.nanmean(a, axis=axis, dtype=dtype)\n"
     ]
    },
    {
     "name": "stdout",
     "output_type": "stream",
     "text": [
      "212\n",
      "./1024/saildrone-gen_5-west_coast_survey_2018-sd1024-20181108T020000-20181108T035959-1_minutes-v2.1541651412146.nc\n",
      "213\n",
      "./1024/saildrone-gen_5-west_coast_survey_2018-sd1024-20180904T160000-20180904T175959-1_minutes-v2.1536085814854.nc\n",
      "214\n",
      "./1024/saildrone-gen_5-west_coast_survey_2018-sd1024-20181004T160000-20181004T175959-1_minutes-v2.1538677814038.nc\n"
     ]
    },
    {
     "name": "stderr",
     "output_type": "stream",
     "text": [
      "/Users/senyastein/miniconda3/envs/satenv/lib/python3.7/site-packages/xarray/core/nanops.py:159: RuntimeWarning: Mean of empty slice\n",
      "  return np.nanmean(a, axis=axis, dtype=dtype)\n",
      "/Users/senyastein/miniconda3/envs/satenv/lib/python3.7/site-packages/xarray/core/nanops.py:159: RuntimeWarning: Mean of empty slice\n",
      "  return np.nanmean(a, axis=axis, dtype=dtype)\n",
      "/Users/senyastein/miniconda3/envs/satenv/lib/python3.7/site-packages/xarray/core/nanops.py:159: RuntimeWarning: Mean of empty slice\n",
      "  return np.nanmean(a, axis=axis, dtype=dtype)\n"
     ]
    },
    {
     "name": "stdout",
     "output_type": "stream",
     "text": [
      "215\n",
      "./1024/saildrone-gen_5-west_coast_survey_2018-sd1024-20181002T020000-20181002T035959-1_minutes-v2.1538454613656.nc\n",
      "216\n",
      "./1024/saildrone-gen_5-west_coast_survey_2018-sd1024-20181021T080000-20181021T095959-1_minutes-v2.1540117814889.nc\n",
      "217\n",
      "./1024/saildrone-gen_5-west_coast_survey_2018-sd1024-20181012T120000-20181012T135959-1_minutes-v2.1539354611979.nc\n"
     ]
    },
    {
     "name": "stderr",
     "output_type": "stream",
     "text": [
      "/Users/senyastein/miniconda3/envs/satenv/lib/python3.7/site-packages/xarray/core/nanops.py:159: RuntimeWarning: Mean of empty slice\n",
      "  return np.nanmean(a, axis=axis, dtype=dtype)\n",
      "/Users/senyastein/miniconda3/envs/satenv/lib/python3.7/site-packages/xarray/core/nanops.py:159: RuntimeWarning: Mean of empty slice\n",
      "  return np.nanmean(a, axis=axis, dtype=dtype)\n",
      "/Users/senyastein/miniconda3/envs/satenv/lib/python3.7/site-packages/xarray/core/nanops.py:159: RuntimeWarning: Mean of empty slice\n",
      "  return np.nanmean(a, axis=axis, dtype=dtype)\n"
     ]
    },
    {
     "name": "stdout",
     "output_type": "stream",
     "text": [
      "218\n",
      "./1024/saildrone-gen_5-west_coast_survey_2018-sd1024-20181004T060000-20181004T075959-1_minutes-v2.1538641861933.nc\n",
      "219\n",
      "./1024/saildrone-gen_5-west_coast_survey_2018-sd1024-20181026T060000-20181026T075959-1_minutes-v2.1540542612230.nc\n"
     ]
    },
    {
     "name": "stderr",
     "output_type": "stream",
     "text": [
      "/Users/senyastein/miniconda3/envs/satenv/lib/python3.7/site-packages/xarray/core/nanops.py:159: RuntimeWarning: Mean of empty slice\n",
      "  return np.nanmean(a, axis=axis, dtype=dtype)\n",
      "/Users/senyastein/miniconda3/envs/satenv/lib/python3.7/site-packages/xarray/core/nanops.py:159: RuntimeWarning: Mean of empty slice\n",
      "  return np.nanmean(a, axis=axis, dtype=dtype)\n"
     ]
    },
    {
     "name": "stdout",
     "output_type": "stream",
     "text": [
      "220\n",
      "./1024/saildrone-gen_5-west_coast_survey_2018-sd1024-20180718T120000-20180718T175959-1_minutes-v2.1533313765983.nc\n",
      "221\n",
      "./1024/saildrone-gen_5-west_coast_survey_2018-sd1024-20181127T100000-20181127T115959-1_minutes-v2.1543321815649.nc\n"
     ]
    },
    {
     "name": "stderr",
     "output_type": "stream",
     "text": [
      "/Users/senyastein/miniconda3/envs/satenv/lib/python3.7/site-packages/xarray/core/nanops.py:159: RuntimeWarning: Mean of empty slice\n",
      "  return np.nanmean(a, axis=axis, dtype=dtype)\n",
      "/Users/senyastein/miniconda3/envs/satenv/lib/python3.7/site-packages/xarray/core/nanops.py:159: RuntimeWarning: Mean of empty slice\n",
      "  return np.nanmean(a, axis=axis, dtype=dtype)\n"
     ]
    },
    {
     "name": "stdout",
     "output_type": "stream",
     "text": [
      "222\n",
      "./1024/saildrone-gen_5-west_coast_survey_2018-sd1024-20180922T060000-20180922T075959-1_minutes-v2.1537605016386.nc\n",
      "223\n",
      "./1024/saildrone-gen_5-west_coast_survey_2018-sd1024-20181119T100000-20181119T115959-1_minutes-v2.1542630615931.nc\n",
      "224\n",
      "./1024/saildrone-gen_5-west_coast_survey_2018-sd1024-20180827T200000-20180827T215959-1_minutes-v2.1535409015224.nc\n"
     ]
    },
    {
     "name": "stderr",
     "output_type": "stream",
     "text": [
      "/Users/senyastein/miniconda3/envs/satenv/lib/python3.7/site-packages/xarray/core/nanops.py:159: RuntimeWarning: Mean of empty slice\n",
      "  return np.nanmean(a, axis=axis, dtype=dtype)\n",
      "/Users/senyastein/miniconda3/envs/satenv/lib/python3.7/site-packages/xarray/core/nanops.py:159: RuntimeWarning: Mean of empty slice\n",
      "  return np.nanmean(a, axis=axis, dtype=dtype)\n",
      "/Users/senyastein/miniconda3/envs/satenv/lib/python3.7/site-packages/xarray/core/nanops.py:159: RuntimeWarning: Mean of empty slice\n",
      "  return np.nanmean(a, axis=axis, dtype=dtype)\n"
     ]
    },
    {
     "name": "stdout",
     "output_type": "stream",
     "text": [
      "225\n",
      "./1024/saildrone-gen_5-west_coast_survey_2018-sd1024-20180827T000000-20180827T015959-1_minutes-v2.1535337016484.nc\n",
      "226\n",
      "./1024/saildrone-gen_5-west_coast_survey_2018-sd1024-20180929T160000-20180929T175959-1_minutes-v2.1538245813368.nc\n",
      "227\n",
      "./1024/saildrone-gen_5-west_coast_survey_2018-sd1024-20180919T020000-20180919T035959-1_minutes-v2.1537331414786.nc\n"
     ]
    },
    {
     "name": "stderr",
     "output_type": "stream",
     "text": [
      "/Users/senyastein/miniconda3/envs/satenv/lib/python3.7/site-packages/xarray/core/nanops.py:159: RuntimeWarning: Mean of empty slice\n",
      "  return np.nanmean(a, axis=axis, dtype=dtype)\n",
      "/Users/senyastein/miniconda3/envs/satenv/lib/python3.7/site-packages/xarray/core/nanops.py:159: RuntimeWarning: Mean of empty slice\n",
      "  return np.nanmean(a, axis=axis, dtype=dtype)\n",
      "/Users/senyastein/miniconda3/envs/satenv/lib/python3.7/site-packages/xarray/core/nanops.py:159: RuntimeWarning: Mean of empty slice\n",
      "  return np.nanmean(a, axis=axis, dtype=dtype)\n"
     ]
    },
    {
     "name": "stdout",
     "output_type": "stream",
     "text": [
      "228\n",
      "./1024/saildrone-gen_5-west_coast_survey_2018-sd1024-20181108T120000-20181108T135959-1_minutes-v2.1541687412175.nc\n",
      "229\n",
      "./1024/saildrone-gen_5-west_coast_survey_2018-sd1024-20180904T060000-20180904T075959-1_minutes-v2.1536049815024.nc\n",
      "230\n",
      "./1024/saildrone-gen_5-west_coast_survey_2018-sd1024-20181009T160000-20181009T175959-1_minutes-v2.1539109812238.nc\n"
     ]
    },
    {
     "name": "stderr",
     "output_type": "stream",
     "text": [
      "/Users/senyastein/miniconda3/envs/satenv/lib/python3.7/site-packages/xarray/core/nanops.py:159: RuntimeWarning: Mean of empty slice\n",
      "  return np.nanmean(a, axis=axis, dtype=dtype)\n",
      "/Users/senyastein/miniconda3/envs/satenv/lib/python3.7/site-packages/xarray/core/nanops.py:159: RuntimeWarning: Mean of empty slice\n",
      "  return np.nanmean(a, axis=axis, dtype=dtype)\n",
      "/Users/senyastein/miniconda3/envs/satenv/lib/python3.7/site-packages/xarray/core/nanops.py:159: RuntimeWarning: Mean of empty slice\n",
      "  return np.nanmean(a, axis=axis, dtype=dtype)\n"
     ]
    },
    {
     "name": "stdout",
     "output_type": "stream",
     "text": [
      "231\n",
      "./1024/saildrone-gen_5-west_coast_survey_2018-sd1024-20181124T220000-20181124T235959-1_minutes-v2.1543105816444.nc\n",
      "232\n",
      "./1024/saildrone-gen_5-west_coast_survey_2018-sd1024-20180830T180000-20180830T195959-1_minutes-v2.1535661015100.nc\n",
      "233\n",
      "./1024/saildrone-gen_5-west_coast_survey_2018-sd1024-20181018T000000-20181018T015959-1_minutes-v2.1539829812514.nc\n"
     ]
    },
    {
     "name": "stderr",
     "output_type": "stream",
     "text": [
      "/Users/senyastein/miniconda3/envs/satenv/lib/python3.7/site-packages/xarray/core/nanops.py:159: RuntimeWarning: Mean of empty slice\n",
      "  return np.nanmean(a, axis=axis, dtype=dtype)\n",
      "/Users/senyastein/miniconda3/envs/satenv/lib/python3.7/site-packages/xarray/core/nanops.py:159: RuntimeWarning: Mean of empty slice\n",
      "  return np.nanmean(a, axis=axis, dtype=dtype)\n",
      "/Users/senyastein/miniconda3/envs/satenv/lib/python3.7/site-packages/xarray/core/nanops.py:159: RuntimeWarning: Mean of empty slice\n",
      "  return np.nanmean(a, axis=axis, dtype=dtype)\n"
     ]
    },
    {
     "name": "stdout",
     "output_type": "stream",
     "text": [
      "234\n",
      "./1024/saildrone-gen_5-west_coast_survey_2018-sd1024-20181029T100000-20181029T115959-1_minutes-v2.1540816212091.nc\n",
      "235\n",
      "./1024/saildrone-gen_5-west_coast_survey_2018-sd1024-20180921T140000-20180921T155959-1_minutes-v2.1537547414543.nc\n",
      "236\n",
      "./1024/saildrone-gen_5-west_coast_survey_2018-sd1024-20181012T100000-20181012T115959-1_minutes-v2.1539347412486.nc\n"
     ]
    },
    {
     "name": "stderr",
     "output_type": "stream",
     "text": [
      "/Users/senyastein/miniconda3/envs/satenv/lib/python3.7/site-packages/xarray/core/nanops.py:159: RuntimeWarning: Mean of empty slice\n",
      "  return np.nanmean(a, axis=axis, dtype=dtype)\n",
      "/Users/senyastein/miniconda3/envs/satenv/lib/python3.7/site-packages/xarray/core/nanops.py:159: RuntimeWarning: Mean of empty slice\n",
      "  return np.nanmean(a, axis=axis, dtype=dtype)\n",
      "/Users/senyastein/miniconda3/envs/satenv/lib/python3.7/site-packages/xarray/core/nanops.py:159: RuntimeWarning: Mean of empty slice\n",
      "  return np.nanmean(a, axis=axis, dtype=dtype)\n"
     ]
    },
    {
     "name": "stdout",
     "output_type": "stream",
     "text": [
      "237\n",
      "./1024/saildrone-gen_5-west_coast_survey_2018-sd1024-20180805T180000-20180805T235959-1_minutes-v2.1533517259593.nc\n",
      "238\n",
      "./1024/saildrone-gen_5-west_coast_survey_2018-sd1024-20181006T040000-20181006T055959-1_minutes-v2.1538807413103.nc\n",
      "239\n",
      "./1024/saildrone-gen_5-west_coast_survey_2018-sd1024-20181106T180000-20181106T195959-1_minutes-v2.1541536212010.nc\n"
     ]
    },
    {
     "name": "stderr",
     "output_type": "stream",
     "text": [
      "/Users/senyastein/miniconda3/envs/satenv/lib/python3.7/site-packages/xarray/core/nanops.py:159: RuntimeWarning: Mean of empty slice\n",
      "  return np.nanmean(a, axis=axis, dtype=dtype)\n",
      "/Users/senyastein/miniconda3/envs/satenv/lib/python3.7/site-packages/xarray/core/nanops.py:159: RuntimeWarning: Mean of empty slice\n",
      "  return np.nanmean(a, axis=axis, dtype=dtype)\n",
      "/Users/senyastein/miniconda3/envs/satenv/lib/python3.7/site-packages/xarray/core/nanops.py:159: RuntimeWarning: Mean of empty slice\n",
      "  return np.nanmean(a, axis=axis, dtype=dtype)\n"
     ]
    },
    {
     "name": "stdout",
     "output_type": "stream",
     "text": [
      "240\n",
      "./1024/saildrone-gen_5-west_coast_survey_2018-sd1024-20181024T000000-20181024T015959-1_minutes-v2.1540348243715.nc\n",
      "241\n",
      "./1024/saildrone-gen_5-west_coast_survey_2018-sd1024-20180820T180000-20180820T235959-1_minutes-v2.1534813236347.nc\n",
      "242\n",
      "./1024/saildrone-gen_5-west_coast_survey_2018-sd1024-20181017T160000-20181017T175959-1_minutes-v2.1539801012781.nc\n"
     ]
    },
    {
     "name": "stderr",
     "output_type": "stream",
     "text": [
      "/Users/senyastein/miniconda3/envs/satenv/lib/python3.7/site-packages/xarray/core/nanops.py:159: RuntimeWarning: Mean of empty slice\n",
      "  return np.nanmean(a, axis=axis, dtype=dtype)\n",
      "/Users/senyastein/miniconda3/envs/satenv/lib/python3.7/site-packages/xarray/core/nanops.py:159: RuntimeWarning: Mean of empty slice\n",
      "  return np.nanmean(a, axis=axis, dtype=dtype)\n",
      "/Users/senyastein/miniconda3/envs/satenv/lib/python3.7/site-packages/xarray/core/nanops.py:159: RuntimeWarning: Mean of empty slice\n",
      "  return np.nanmean(a, axis=axis, dtype=dtype)\n"
     ]
    },
    {
     "name": "stdout",
     "output_type": "stream",
     "text": [
      "243\n",
      "./1024/saildrone-gen_5-west_coast_survey_2018-sd1024-20181126T220000-20181126T235959-1_minutes-v2.1543278616116.nc\n",
      "244\n",
      "./1024/saildrone-gen_5-west_coast_survey_2018-sd1024-20181003T120000-20181003T135959-1_minutes-v2.1538577018250.nc\n",
      "245\n",
      "./1024/saildrone-gen_5-west_coast_survey_2018-sd1024-20181015T000000-20181015T015959-1_minutes-v2.1539570612303.nc\n"
     ]
    },
    {
     "name": "stderr",
     "output_type": "stream",
     "text": [
      "/Users/senyastein/miniconda3/envs/satenv/lib/python3.7/site-packages/xarray/core/nanops.py:159: RuntimeWarning: Mean of empty slice\n",
      "  return np.nanmean(a, axis=axis, dtype=dtype)\n",
      "/Users/senyastein/miniconda3/envs/satenv/lib/python3.7/site-packages/xarray/core/nanops.py:159: RuntimeWarning: Mean of empty slice\n",
      "  return np.nanmean(a, axis=axis, dtype=dtype)\n",
      "/Users/senyastein/miniconda3/envs/satenv/lib/python3.7/site-packages/xarray/core/nanops.py:159: RuntimeWarning: Mean of empty slice\n",
      "  return np.nanmean(a, axis=axis, dtype=dtype)\n"
     ]
    },
    {
     "name": "stdout",
     "output_type": "stream",
     "text": [
      "246\n",
      "./1024/saildrone-gen_5-west_coast_survey_2018-sd1024-20180921T160000-20180921T175959-1_minutes-v2.1537554615140.nc\n",
      "247\n",
      "./1024/saildrone-gen_5-west_coast_survey_2018-sd1024-20180928T220000-20180928T235959-1_minutes-v2.1538181012397.nc\n",
      "248\n",
      "./1024/saildrone-gen_5-west_coast_survey_2018-sd1024-20180927T080000-20180927T095959-1_minutes-v2.1538044215241.nc\n"
     ]
    },
    {
     "name": "stderr",
     "output_type": "stream",
     "text": [
      "/Users/senyastein/miniconda3/envs/satenv/lib/python3.7/site-packages/xarray/core/nanops.py:159: RuntimeWarning: Mean of empty slice\n",
      "  return np.nanmean(a, axis=axis, dtype=dtype)\n",
      "/Users/senyastein/miniconda3/envs/satenv/lib/python3.7/site-packages/xarray/core/nanops.py:159: RuntimeWarning: Mean of empty slice\n",
      "  return np.nanmean(a, axis=axis, dtype=dtype)\n",
      "/Users/senyastein/miniconda3/envs/satenv/lib/python3.7/site-packages/xarray/core/nanops.py:159: RuntimeWarning: Mean of empty slice\n",
      "  return np.nanmean(a, axis=axis, dtype=dtype)\n"
     ]
    },
    {
     "name": "stdout",
     "output_type": "stream",
     "text": [
      "249\n",
      "./1024/saildrone-gen_5-west_coast_survey_2018-sd1024-20180911T220000-20180911T235959-1_minutes-v2.1536712216416.nc\n",
      "250\n",
      "./1024/saildrone-gen_5-west_coast_survey_2018-sd1024-20181120T140000-20181120T155959-1_minutes-v2.1542731416711.nc\n",
      "251\n",
      "./1024/saildrone-gen_5-west_coast_survey_2018-sd1024-20181102T060000-20181102T075959-1_minutes-v2.1541147412259.nc\n"
     ]
    },
    {
     "name": "stderr",
     "output_type": "stream",
     "text": [
      "/Users/senyastein/miniconda3/envs/satenv/lib/python3.7/site-packages/xarray/core/nanops.py:159: RuntimeWarning: Mean of empty slice\n",
      "  return np.nanmean(a, axis=axis, dtype=dtype)\n",
      "/Users/senyastein/miniconda3/envs/satenv/lib/python3.7/site-packages/xarray/core/nanops.py:159: RuntimeWarning: Mean of empty slice\n",
      "  return np.nanmean(a, axis=axis, dtype=dtype)\n",
      "/Users/senyastein/miniconda3/envs/satenv/lib/python3.7/site-packages/xarray/core/nanops.py:159: RuntimeWarning: Mean of empty slice\n",
      "  return np.nanmean(a, axis=axis, dtype=dtype)\n"
     ]
    },
    {
     "name": "stdout",
     "output_type": "stream",
     "text": [
      "252\n",
      "./1024/saildrone-gen_5-west_coast_survey_2018-sd1024-20181103T140000-20181103T155959-1_minutes-v2.1541262612445.nc\n",
      "253\n",
      "./1024/saildrone-gen_5-west_coast_survey_2018-sd1024-20181008T060000-20181008T075959-1_minutes-v2.1538987411855.nc\n",
      "254\n",
      "./1024/saildrone-gen_5-west_coast_survey_2018-sd1024-20181025T140000-20181025T155959-1_minutes-v2.1540485012309.nc\n"
     ]
    },
    {
     "name": "stderr",
     "output_type": "stream",
     "text": [
      "/Users/senyastein/miniconda3/envs/satenv/lib/python3.7/site-packages/xarray/core/nanops.py:159: RuntimeWarning: Mean of empty slice\n",
      "  return np.nanmean(a, axis=axis, dtype=dtype)\n",
      "/Users/senyastein/miniconda3/envs/satenv/lib/python3.7/site-packages/xarray/core/nanops.py:159: RuntimeWarning: Mean of empty slice\n",
      "  return np.nanmean(a, axis=axis, dtype=dtype)\n",
      "/Users/senyastein/miniconda3/envs/satenv/lib/python3.7/site-packages/xarray/core/nanops.py:159: RuntimeWarning: Mean of empty slice\n",
      "  return np.nanmean(a, axis=axis, dtype=dtype)\n"
     ]
    },
    {
     "name": "stdout",
     "output_type": "stream",
     "text": [
      "255\n",
      "./1024/saildrone-gen_5-west_coast_survey_2018-sd1024-20181114T100000-20181114T115959-1_minutes-v2.1542198615973.nc\n",
      "256\n",
      "./1024/saildrone-gen_5-west_coast_survey_2018-sd1024-20180721T120000-20180721T175959-1_minutes-v2.1533314437385.nc\n"
     ]
    },
    {
     "name": "stderr",
     "output_type": "stream",
     "text": [
      "/Users/senyastein/miniconda3/envs/satenv/lib/python3.7/site-packages/xarray/core/nanops.py:159: RuntimeWarning: Mean of empty slice\n",
      "  return np.nanmean(a, axis=axis, dtype=dtype)\n",
      "/Users/senyastein/miniconda3/envs/satenv/lib/python3.7/site-packages/xarray/core/nanops.py:159: RuntimeWarning: Mean of empty slice\n",
      "  return np.nanmean(a, axis=axis, dtype=dtype)\n"
     ]
    },
    {
     "name": "stdout",
     "output_type": "stream",
     "text": [
      "257\n",
      "./1024/saildrone-gen_5-west_coast_survey_2018-sd1024-20180829T060000-20180829T075959-1_minutes-v2.1535531414660.nc\n",
      "258\n",
      "./1024/saildrone-gen_5-west_coast_survey_2018-sd1024-20180901T060000-20180901T075959-1_minutes-v2.1535790614570.nc\n"
     ]
    },
    {
     "name": "stderr",
     "output_type": "stream",
     "text": [
      "/Users/senyastein/miniconda3/envs/satenv/lib/python3.7/site-packages/xarray/core/nanops.py:159: RuntimeWarning: Mean of empty slice\n",
      "  return np.nanmean(a, axis=axis, dtype=dtype)\n",
      "/Users/senyastein/miniconda3/envs/satenv/lib/python3.7/site-packages/xarray/core/nanops.py:159: RuntimeWarning: Mean of empty slice\n",
      "  return np.nanmean(a, axis=axis, dtype=dtype)\n"
     ]
    },
    {
     "name": "stdout",
     "output_type": "stream",
     "text": [
      "259\n",
      "./1024/saildrone-gen_5-west_coast_survey_2018-sd1024-20181121T200000-20181121T215959-1_minutes-v2.1542839415886.nc\n",
      "260\n",
      "./1024/saildrone-gen_5-west_coast_survey_2018-sd1024-20181106T100000-20181106T115959-1_minutes-v2.1541507412155.nc\n"
     ]
    },
    {
     "name": "stderr",
     "output_type": "stream",
     "text": [
      "/Users/senyastein/miniconda3/envs/satenv/lib/python3.7/site-packages/xarray/core/nanops.py:159: RuntimeWarning: Mean of empty slice\n",
      "  return np.nanmean(a, axis=axis, dtype=dtype)\n",
      "/Users/senyastein/miniconda3/envs/satenv/lib/python3.7/site-packages/xarray/core/nanops.py:159: RuntimeWarning: Mean of empty slice\n",
      "  return np.nanmean(a, axis=axis, dtype=dtype)\n"
     ]
    },
    {
     "name": "stdout",
     "output_type": "stream",
     "text": [
      "261\n",
      "./1024/saildrone-gen_5-west_coast_survey_2018-sd1024-20180913T140000-20180913T155959-1_minutes-v2.1536856216347.nc\n",
      "262\n",
      "./1024/saildrone-gen_5-west_coast_survey_2018-sd1024-20180823T120000-20180823T135959-1_minutes-v2.1535034612014.nc\n"
     ]
    },
    {
     "name": "stderr",
     "output_type": "stream",
     "text": [
      "/Users/senyastein/miniconda3/envs/satenv/lib/python3.7/site-packages/xarray/core/nanops.py:159: RuntimeWarning: Mean of empty slice\n",
      "  return np.nanmean(a, axis=axis, dtype=dtype)\n",
      "/Users/senyastein/miniconda3/envs/satenv/lib/python3.7/site-packages/xarray/core/nanops.py:159: RuntimeWarning: Mean of empty slice\n",
      "  return np.nanmean(a, axis=axis, dtype=dtype)\n"
     ]
    },
    {
     "name": "stdout",
     "output_type": "stream",
     "text": [
      "263\n",
      "./1024/saildrone-gen_5-west_coast_survey_2018-sd1024-20180824T120000-20180824T135959-1_minutes-v2.1535121026865.nc\n",
      "264\n",
      "./1024/saildrone-gen_5-west_coast_survey_2018-sd1024-20180801T120000-20180801T175959-1_minutes-v2.1533317157409.nc\n"
     ]
    },
    {
     "name": "stderr",
     "output_type": "stream",
     "text": [
      "/Users/senyastein/miniconda3/envs/satenv/lib/python3.7/site-packages/xarray/core/nanops.py:159: RuntimeWarning: Mean of empty slice\n",
      "  return np.nanmean(a, axis=axis, dtype=dtype)\n",
      "/Users/senyastein/miniconda3/envs/satenv/lib/python3.7/site-packages/xarray/core/nanops.py:159: RuntimeWarning: Mean of empty slice\n",
      "  return np.nanmean(a, axis=axis, dtype=dtype)\n"
     ]
    },
    {
     "name": "stdout",
     "output_type": "stream",
     "text": [
      "265\n",
      "./1024/saildrone-gen_5-west_coast_survey_2018-sd1024-20180824T100000-20180824T115959-1_minutes-v2.1535113814626.nc\n",
      "266\n",
      "./1024/saildrone-gen_5-west_coast_survey_2018-sd1024-20181111T080000-20181111T095959-1_minutes-v2.1541932212139.nc\n"
     ]
    },
    {
     "name": "stderr",
     "output_type": "stream",
     "text": [
      "/Users/senyastein/miniconda3/envs/satenv/lib/python3.7/site-packages/xarray/core/nanops.py:159: RuntimeWarning: Mean of empty slice\n",
      "  return np.nanmean(a, axis=axis, dtype=dtype)\n",
      "/Users/senyastein/miniconda3/envs/satenv/lib/python3.7/site-packages/xarray/core/nanops.py:159: RuntimeWarning: Mean of empty slice\n",
      "  return np.nanmean(a, axis=axis, dtype=dtype)\n"
     ]
    },
    {
     "name": "stdout",
     "output_type": "stream",
     "text": [
      "267\n",
      "./1024/saildrone-gen_5-west_coast_survey_2018-sd1024-20180916T220000-20180916T235959-1_minutes-v2.1537144215227.nc\n",
      "268\n",
      "./1024/saildrone-gen_5-west_coast_survey_2018-sd1024-20180903T100000-20180903T115959-1_minutes-v2.1535977815094.nc\n"
     ]
    },
    {
     "name": "stderr",
     "output_type": "stream",
     "text": [
      "/Users/senyastein/miniconda3/envs/satenv/lib/python3.7/site-packages/xarray/core/nanops.py:159: RuntimeWarning: Mean of empty slice\n",
      "  return np.nanmean(a, axis=axis, dtype=dtype)\n",
      "/Users/senyastein/miniconda3/envs/satenv/lib/python3.7/site-packages/xarray/core/nanops.py:159: RuntimeWarning: Mean of empty slice\n",
      "  return np.nanmean(a, axis=axis, dtype=dtype)\n"
     ]
    },
    {
     "name": "stdout",
     "output_type": "stream",
     "text": [
      "269\n",
      "./1024/saildrone-gen_5-west_coast_survey_2018-sd1024-20181025T120000-20181025T135959-1_minutes-v2.1540477812276.nc\n",
      "270\n",
      "./1024/saildrone-gen_5-west_coast_survey_2018-sd1024-20181008T080000-20181008T095959-1_minutes-v2.1538994612760.nc\n"
     ]
    },
    {
     "name": "stderr",
     "output_type": "stream",
     "text": [
      "/Users/senyastein/miniconda3/envs/satenv/lib/python3.7/site-packages/xarray/core/nanops.py:159: RuntimeWarning: Mean of empty slice\n",
      "  return np.nanmean(a, axis=axis, dtype=dtype)\n",
      "/Users/senyastein/miniconda3/envs/satenv/lib/python3.7/site-packages/xarray/core/nanops.py:159: RuntimeWarning: Mean of empty slice\n",
      "  return np.nanmean(a, axis=axis, dtype=dtype)\n"
     ]
    },
    {
     "name": "stdout",
     "output_type": "stream",
     "text": [
      "271\n",
      "./1024/saildrone-gen_5-west_coast_survey_2018-sd1024-20180828T000000-20180828T015959-1_minutes-v2.1535423414062.nc\n",
      "272\n",
      "./1024/saildrone-gen_5-west_coast_survey_2018-sd1024-20180804T000000-20180804T055959-1_minutes-v2.1533366037897.nc\n"
     ]
    },
    {
     "name": "stderr",
     "output_type": "stream",
     "text": [
      "/Users/senyastein/miniconda3/envs/satenv/lib/python3.7/site-packages/xarray/core/nanops.py:159: RuntimeWarning: Mean of empty slice\n",
      "  return np.nanmean(a, axis=axis, dtype=dtype)\n",
      "/Users/senyastein/miniconda3/envs/satenv/lib/python3.7/site-packages/xarray/core/nanops.py:159: RuntimeWarning: Mean of empty slice\n",
      "  return np.nanmean(a, axis=axis, dtype=dtype)\n"
     ]
    },
    {
     "name": "stdout",
     "output_type": "stream",
     "text": [
      "273\n",
      "./1024/saildrone-gen_5-west_coast_survey_2018-sd1024-20181102T100000-20181102T115959-1_minutes-v2.1541161812060.nc\n",
      "274\n",
      "./1024/saildrone-gen_5-west_coast_survey_2018-sd1024-20180912T120000-20180912T135959-1_minutes-v2.1536762616669.nc\n"
     ]
    },
    {
     "name": "stderr",
     "output_type": "stream",
     "text": [
      "/Users/senyastein/miniconda3/envs/satenv/lib/python3.7/site-packages/xarray/core/nanops.py:159: RuntimeWarning: Mean of empty slice\n",
      "  return np.nanmean(a, axis=axis, dtype=dtype)\n",
      "/Users/senyastein/miniconda3/envs/satenv/lib/python3.7/site-packages/xarray/core/nanops.py:159: RuntimeWarning: Mean of empty slice\n",
      "  return np.nanmean(a, axis=axis, dtype=dtype)\n"
     ]
    },
    {
     "name": "stdout",
     "output_type": "stream",
     "text": [
      "275\n",
      "./1024/saildrone-gen_5-west_coast_survey_2018-sd1024-20181023T180000-20181023T195959-1_minutes-v2.1540326636665.nc\n",
      "276\n",
      "./1024/saildrone-gen_5-west_coast_survey_2018-sd1024-20181015T200000-20181015T215959-1_minutes-v2.1539642612720.nc\n"
     ]
    },
    {
     "name": "stderr",
     "output_type": "stream",
     "text": [
      "/Users/senyastein/miniconda3/envs/satenv/lib/python3.7/site-packages/xarray/core/nanops.py:159: RuntimeWarning: Mean of empty slice\n",
      "  return np.nanmean(a, axis=axis, dtype=dtype)\n",
      "/Users/senyastein/miniconda3/envs/satenv/lib/python3.7/site-packages/xarray/core/nanops.py:159: RuntimeWarning: Mean of empty slice\n",
      "  return np.nanmean(a, axis=axis, dtype=dtype)\n"
     ]
    },
    {
     "name": "stdout",
     "output_type": "stream",
     "text": [
      "277\n",
      "./1024/saildrone-gen_5-west_coast_survey_2018-sd1024-20180921T200000-20180921T215959-1_minutes-v2.1537569015889.nc\n",
      "278\n",
      "./1024/saildrone-gen_5-west_coast_survey_2018-sd1024-20181022T080000-20181022T095959-1_minutes-v2.1540204212474.nc\n"
     ]
    },
    {
     "name": "stderr",
     "output_type": "stream",
     "text": [
      "/Users/senyastein/miniconda3/envs/satenv/lib/python3.7/site-packages/xarray/core/nanops.py:159: RuntimeWarning: Mean of empty slice\n",
      "  return np.nanmean(a, axis=axis, dtype=dtype)\n",
      "/Users/senyastein/miniconda3/envs/satenv/lib/python3.7/site-packages/xarray/core/nanops.py:159: RuntimeWarning: Mean of empty slice\n",
      "  return np.nanmean(a, axis=axis, dtype=dtype)\n"
     ]
    },
    {
     "name": "stdout",
     "output_type": "stream",
     "text": [
      "279\n",
      "./1024/saildrone-gen_5-west_coast_survey_2018-sd1024-20181106T200000-20181106T215959-1_minutes-v2.1541543413024.nc\n",
      "280\n",
      "./1024/saildrone-gen_5-west_coast_survey_2018-sd1024-20180823T160000-20180823T175959-1_minutes-v2.1535049008251.nc\n"
     ]
    },
    {
     "name": "stderr",
     "output_type": "stream",
     "text": [
      "/Users/senyastein/miniconda3/envs/satenv/lib/python3.7/site-packages/xarray/core/nanops.py:159: RuntimeWarning: Mean of empty slice\n",
      "  return np.nanmean(a, axis=axis, dtype=dtype)\n",
      "/Users/senyastein/miniconda3/envs/satenv/lib/python3.7/site-packages/xarray/core/nanops.py:159: RuntimeWarning: Mean of empty slice\n",
      "  return np.nanmean(a, axis=axis, dtype=dtype)\n"
     ]
    },
    {
     "name": "stdout",
     "output_type": "stream",
     "text": [
      "281\n",
      "./1024/saildrone-gen_5-west_coast_survey_2018-sd1024-20181107T200000-20181107T215959-1_minutes-v2.1541629812828.nc\n",
      "282\n",
      "./1024/saildrone-gen_5-west_coast_survey_2018-sd1024-20181021T120000-20181021T135959-1_minutes-v2.1540132212626.nc\n"
     ]
    },
    {
     "name": "stderr",
     "output_type": "stream",
     "text": [
      "/Users/senyastein/miniconda3/envs/satenv/lib/python3.7/site-packages/xarray/core/nanops.py:159: RuntimeWarning: Mean of empty slice\n",
      "  return np.nanmean(a, axis=axis, dtype=dtype)\n",
      "/Users/senyastein/miniconda3/envs/satenv/lib/python3.7/site-packages/xarray/core/nanops.py:159: RuntimeWarning: Mean of empty slice\n",
      "  return np.nanmean(a, axis=axis, dtype=dtype)\n"
     ]
    },
    {
     "name": "stdout",
     "output_type": "stream",
     "text": [
      "283\n",
      "./1024/saildrone-gen_5-west_coast_survey_2018-sd1024-20180721T000000-20180721T055959-1_minutes-v2.1533314325543.nc\n",
      "284\n",
      "./1024/saildrone-gen_5-west_coast_survey_2018-sd1024-20180921T180000-20180921T195959-1_minutes-v2.1537561815689.nc\n"
     ]
    },
    {
     "name": "stderr",
     "output_type": "stream",
     "text": [
      "/Users/senyastein/miniconda3/envs/satenv/lib/python3.7/site-packages/xarray/core/nanops.py:159: RuntimeWarning: Mean of empty slice\n",
      "  return np.nanmean(a, axis=axis, dtype=dtype)\n",
      "/Users/senyastein/miniconda3/envs/satenv/lib/python3.7/site-packages/xarray/core/nanops.py:159: RuntimeWarning: Mean of empty slice\n",
      "  return np.nanmean(a, axis=axis, dtype=dtype)\n"
     ]
    },
    {
     "name": "stdout",
     "output_type": "stream",
     "text": [
      "285\n",
      "./1024/saildrone-gen_5-west_coast_survey_2018-sd1024-20181023T140000-20181023T155959-1_minutes-v2.1540312264652.nc\n",
      "286\n",
      "./1024/saildrone-gen_5-west_coast_survey_2018-sd1024-20180930T200000-20180930T215959-1_minutes-v2.1538346612854.nc\n"
     ]
    },
    {
     "name": "stderr",
     "output_type": "stream",
     "text": [
      "/Users/senyastein/miniconda3/envs/satenv/lib/python3.7/site-packages/xarray/core/nanops.py:159: RuntimeWarning: Mean of empty slice\n",
      "  return np.nanmean(a, axis=axis, dtype=dtype)\n",
      "/Users/senyastein/miniconda3/envs/satenv/lib/python3.7/site-packages/xarray/core/nanops.py:159: RuntimeWarning: Mean of empty slice\n",
      "  return np.nanmean(a, axis=axis, dtype=dtype)\n"
     ]
    },
    {
     "name": "stdout",
     "output_type": "stream",
     "text": [
      "287\n",
      "./1024/saildrone-gen_5-west_coast_survey_2018-sd1024-20181031T040000-20181031T055959-1_minutes-v2.1540967412040.nc\n",
      "288\n",
      "./1024/saildrone-gen_5-west_coast_survey_2018-sd1024-20180721T060000-20180721T115959-1_minutes-v2.1533314379785.nc\n"
     ]
    },
    {
     "name": "stderr",
     "output_type": "stream",
     "text": [
      "/Users/senyastein/miniconda3/envs/satenv/lib/python3.7/site-packages/xarray/core/nanops.py:159: RuntimeWarning: Mean of empty slice\n",
      "  return np.nanmean(a, axis=axis, dtype=dtype)\n",
      "/Users/senyastein/miniconda3/envs/satenv/lib/python3.7/site-packages/xarray/core/nanops.py:159: RuntimeWarning: Mean of empty slice\n",
      "  return np.nanmean(a, axis=axis, dtype=dtype)\n"
     ]
    },
    {
     "name": "stdout",
     "output_type": "stream",
     "text": [
      "289\n",
      "./1024/saildrone-gen_5-west_coast_survey_2018-sd1024-20181028T160000-20181028T175959-1_minutes-v2.1540751412447.nc\n"
     ]
    },
    {
     "name": "stderr",
     "output_type": "stream",
     "text": [
      "/Users/senyastein/miniconda3/envs/satenv/lib/python3.7/site-packages/xarray/core/nanops.py:159: RuntimeWarning: Mean of empty slice\n",
      "  return np.nanmean(a, axis=axis, dtype=dtype)\n"
     ]
    },
    {
     "name": "stdout",
     "output_type": "stream",
     "text": [
      "290\n",
      "./1024/saildrone-gen_5-west_coast_survey_2018-sd1024-20181022T100000-20181022T115959-1_minutes-v2.1540211412516.nc\n",
      "291\n",
      "./1024/saildrone-gen_5-west_coast_survey_2018-sd1024-20181022T060000-20181022T075959-1_minutes-v2.1540197012750.nc\n"
     ]
    },
    {
     "name": "stderr",
     "output_type": "stream",
     "text": [
      "/Users/senyastein/miniconda3/envs/satenv/lib/python3.7/site-packages/xarray/core/nanops.py:159: RuntimeWarning: Mean of empty slice\n",
      "  return np.nanmean(a, axis=axis, dtype=dtype)\n",
      "/Users/senyastein/miniconda3/envs/satenv/lib/python3.7/site-packages/xarray/core/nanops.py:159: RuntimeWarning: Mean of empty slice\n",
      "  return np.nanmean(a, axis=axis, dtype=dtype)\n"
     ]
    },
    {
     "name": "stdout",
     "output_type": "stream",
     "text": [
      "292\n",
      "./1024/saildrone-gen_5-west_coast_survey_2018-sd1024-20180908T080000-20180908T095959-1_minutes-v2.1536402632193.nc\n",
      "293\n",
      "./1024/saildrone-gen_5-west_coast_survey_2018-sd1024-20181114T220000-20181114T235959-1_minutes-v2.1542241816477.nc\n"
     ]
    },
    {
     "name": "stderr",
     "output_type": "stream",
     "text": [
      "/Users/senyastein/miniconda3/envs/satenv/lib/python3.7/site-packages/xarray/core/nanops.py:159: RuntimeWarning: Mean of empty slice\n",
      "  return np.nanmean(a, axis=axis, dtype=dtype)\n",
      "/Users/senyastein/miniconda3/envs/satenv/lib/python3.7/site-packages/xarray/core/nanops.py:159: RuntimeWarning: Mean of empty slice\n",
      "  return np.nanmean(a, axis=axis, dtype=dtype)\n"
     ]
    },
    {
     "name": "stdout",
     "output_type": "stream",
     "text": [
      "294\n",
      "./1024/saildrone-gen_5-west_coast_survey_2018-sd1024-20180827T040000-20180827T055959-1_minutes-v2.1535351414787.nc\n",
      "295\n",
      "./1024/saildrone-gen_5-west_coast_survey_2018-sd1024-20180907T100000-20180907T115959-1_minutes-v2.1536323415108.nc\n"
     ]
    },
    {
     "name": "stderr",
     "output_type": "stream",
     "text": [
      "/Users/senyastein/miniconda3/envs/satenv/lib/python3.7/site-packages/xarray/core/nanops.py:159: RuntimeWarning: Mean of empty slice\n",
      "  return np.nanmean(a, axis=axis, dtype=dtype)\n",
      "/Users/senyastein/miniconda3/envs/satenv/lib/python3.7/site-packages/xarray/core/nanops.py:159: RuntimeWarning: Mean of empty slice\n",
      "  return np.nanmean(a, axis=axis, dtype=dtype)\n"
     ]
    },
    {
     "name": "stdout",
     "output_type": "stream",
     "text": [
      "296\n",
      "./1024/saildrone-gen_5-west_coast_survey_2018-sd1024-20180917T040000-20180917T055959-1_minutes-v2.1537165815609.nc\n"
     ]
    },
    {
     "name": "stderr",
     "output_type": "stream",
     "text": [
      "/Users/senyastein/miniconda3/envs/satenv/lib/python3.7/site-packages/xarray/core/nanops.py:159: RuntimeWarning: Mean of empty slice\n",
      "  return np.nanmean(a, axis=axis, dtype=dtype)\n"
     ]
    },
    {
     "name": "stdout",
     "output_type": "stream",
     "text": [
      "297\n",
      "./1024/saildrone-gen_5-west_coast_survey_2018-sd1024-20180913T000000-20180913T015959-1_minutes-v2.1536805815828.nc\n"
     ]
    },
    {
     "name": "stderr",
     "output_type": "stream",
     "text": [
      "/Users/senyastein/miniconda3/envs/satenv/lib/python3.7/site-packages/xarray/core/nanops.py:159: RuntimeWarning: Mean of empty slice\n",
      "  return np.nanmean(a, axis=axis, dtype=dtype)\n"
     ]
    },
    {
     "name": "stdout",
     "output_type": "stream",
     "text": [
      "298\n",
      "./1024/saildrone-gen_5-west_coast_survey_2018-sd1024-20181013T020000-20181013T035959-1_minutes-v2.1539405012475.nc\n",
      "299\n",
      "./1024/saildrone-gen_5-west_coast_survey_2018-sd1024-20181024T060000-20181024T075959-1_minutes-v2.1540369824784.nc\n"
     ]
    },
    {
     "name": "stderr",
     "output_type": "stream",
     "text": [
      "/Users/senyastein/miniconda3/envs/satenv/lib/python3.7/site-packages/xarray/core/nanops.py:159: RuntimeWarning: Mean of empty slice\n",
      "  return np.nanmean(a, axis=axis, dtype=dtype)\n",
      "/Users/senyastein/miniconda3/envs/satenv/lib/python3.7/site-packages/xarray/core/nanops.py:159: RuntimeWarning: Mean of empty slice\n",
      "  return np.nanmean(a, axis=axis, dtype=dtype)\n"
     ]
    },
    {
     "name": "stdout",
     "output_type": "stream",
     "text": [
      "300\n",
      "./1024/saildrone-gen_5-west_coast_survey_2018-sd1024-20181118T020000-20181118T035959-1_minutes-v2.1542515421709.nc\n"
     ]
    },
    {
     "name": "stderr",
     "output_type": "stream",
     "text": [
      "/Users/senyastein/miniconda3/envs/satenv/lib/python3.7/site-packages/xarray/core/nanops.py:159: RuntimeWarning: Mean of empty slice\n",
      "  return np.nanmean(a, axis=axis, dtype=dtype)\n"
     ]
    },
    {
     "name": "stdout",
     "output_type": "stream",
     "text": [
      "301\n",
      "./1024/saildrone-gen_5-west_coast_survey_2018-sd1024-20181003T020000-20181003T035959-1_minutes-v2.1538541014304.nc\n",
      "302\n",
      "./1024/saildrone-gen_5-west_coast_survey_2018-sd1024-20181022T020000-20181022T035959-1_minutes-v2.1540182613609.nc\n"
     ]
    },
    {
     "name": "stderr",
     "output_type": "stream",
     "text": [
      "/Users/senyastein/miniconda3/envs/satenv/lib/python3.7/site-packages/xarray/core/nanops.py:159: RuntimeWarning: Mean of empty slice\n",
      "  return np.nanmean(a, axis=axis, dtype=dtype)\n",
      "/Users/senyastein/miniconda3/envs/satenv/lib/python3.7/site-packages/xarray/core/nanops.py:159: RuntimeWarning: Mean of empty slice\n",
      "  return np.nanmean(a, axis=axis, dtype=dtype)\n"
     ]
    },
    {
     "name": "stdout",
     "output_type": "stream",
     "text": [
      "303\n",
      "./1024/saildrone-gen_5-west_coast_survey_2018-sd1024-20181029T220000-20181029T235959-1_minutes-v2.1540859416774.nc\n",
      "304\n",
      "./1024/saildrone-gen_5-west_coast_survey_2018-sd1024-20181020T000000-20181020T015959-1_minutes-v2.1540002612623.nc\n"
     ]
    },
    {
     "name": "stderr",
     "output_type": "stream",
     "text": [
      "/Users/senyastein/miniconda3/envs/satenv/lib/python3.7/site-packages/xarray/core/nanops.py:159: RuntimeWarning: Mean of empty slice\n",
      "  return np.nanmean(a, axis=axis, dtype=dtype)\n",
      "/Users/senyastein/miniconda3/envs/satenv/lib/python3.7/site-packages/xarray/core/nanops.py:159: RuntimeWarning: Mean of empty slice\n",
      "  return np.nanmean(a, axis=axis, dtype=dtype)\n"
     ]
    },
    {
     "name": "stdout",
     "output_type": "stream",
     "text": [
      "305\n",
      "./1024/saildrone-gen_5-west_coast_survey_2018-sd1024-20181014T080000-20181014T095959-1_minutes-v2.1539513012268.nc\n",
      "306\n",
      "./1024/saildrone-gen_5-west_coast_survey_2018-sd1024-20180901T000000-20180901T015959-1_minutes-v2.1535769015004.nc\n"
     ]
    },
    {
     "name": "stderr",
     "output_type": "stream",
     "text": [
      "/Users/senyastein/miniconda3/envs/satenv/lib/python3.7/site-packages/xarray/core/nanops.py:159: RuntimeWarning: Mean of empty slice\n",
      "  return np.nanmean(a, axis=axis, dtype=dtype)\n",
      "/Users/senyastein/miniconda3/envs/satenv/lib/python3.7/site-packages/xarray/core/nanops.py:159: RuntimeWarning: Mean of empty slice\n",
      "  return np.nanmean(a, axis=axis, dtype=dtype)\n"
     ]
    },
    {
     "name": "stdout",
     "output_type": "stream",
     "text": [
      "307\n",
      "./1024/saildrone-gen_5-west_coast_survey_2018-sd1024-20181030T040000-20181030T055959-1_minutes-v2.1540881012136.nc\n",
      "308\n",
      "./1024/saildrone-gen_5-west_coast_survey_2018-sd1024-20180921T120000-20180921T135959-1_minutes-v2.1537540215186.nc\n"
     ]
    },
    {
     "name": "stderr",
     "output_type": "stream",
     "text": [
      "/Users/senyastein/miniconda3/envs/satenv/lib/python3.7/site-packages/xarray/core/nanops.py:159: RuntimeWarning: Mean of empty slice\n",
      "  return np.nanmean(a, axis=axis, dtype=dtype)\n",
      "/Users/senyastein/miniconda3/envs/satenv/lib/python3.7/site-packages/xarray/core/nanops.py:159: RuntimeWarning: Mean of empty slice\n",
      "  return np.nanmean(a, axis=axis, dtype=dtype)\n"
     ]
    },
    {
     "name": "stdout",
     "output_type": "stream",
     "text": [
      "309\n",
      "./1024/saildrone-gen_5-west_coast_survey_2018-sd1024-20181006T020000-20181006T035959-1_minutes-v2.1538800215030.nc\n",
      "310\n",
      "./1024/saildrone-gen_5-west_coast_survey_2018-sd1024-20181105T140000-20181105T155959-1_minutes-v2.1541435412379.nc\n"
     ]
    },
    {
     "name": "stderr",
     "output_type": "stream",
     "text": [
      "/Users/senyastein/miniconda3/envs/satenv/lib/python3.7/site-packages/xarray/core/nanops.py:159: RuntimeWarning: Mean of empty slice\n",
      "  return np.nanmean(a, axis=axis, dtype=dtype)\n",
      "/Users/senyastein/miniconda3/envs/satenv/lib/python3.7/site-packages/xarray/core/nanops.py:159: RuntimeWarning: Mean of empty slice\n",
      "  return np.nanmean(a, axis=axis, dtype=dtype)\n"
     ]
    },
    {
     "name": "stdout",
     "output_type": "stream",
     "text": [
      "311\n",
      "./1024/saildrone-gen_5-west_coast_survey_2018-sd1024-20180907T180000-20180907T195959-1_minutes-v2.1536352215335.nc\n",
      "312\n",
      "./1024/saildrone-gen_5-west_coast_survey_2018-sd1024-20181122T080000-20181122T095959-1_minutes-v2.1542882616071.nc\n"
     ]
    },
    {
     "name": "stderr",
     "output_type": "stream",
     "text": [
      "/Users/senyastein/miniconda3/envs/satenv/lib/python3.7/site-packages/xarray/core/nanops.py:159: RuntimeWarning: Mean of empty slice\n",
      "  return np.nanmean(a, axis=axis, dtype=dtype)\n",
      "/Users/senyastein/miniconda3/envs/satenv/lib/python3.7/site-packages/xarray/core/nanops.py:159: RuntimeWarning: Mean of empty slice\n",
      "  return np.nanmean(a, axis=axis, dtype=dtype)\n"
     ]
    },
    {
     "name": "stdout",
     "output_type": "stream",
     "text": [
      "313\n",
      "./1024/saildrone-gen_5-west_coast_survey_2018-sd1024-20180916T040000-20180916T055959-1_minutes-v2.1537079414548.nc\n",
      "314\n",
      "./1024/saildrone-gen_5-west_coast_survey_2018-sd1024-20181104T060000-20181104T075959-1_minutes-v2.1541320215940.nc\n"
     ]
    },
    {
     "name": "stderr",
     "output_type": "stream",
     "text": [
      "/Users/senyastein/miniconda3/envs/satenv/lib/python3.7/site-packages/xarray/core/nanops.py:159: RuntimeWarning: Mean of empty slice\n",
      "  return np.nanmean(a, axis=axis, dtype=dtype)\n",
      "/Users/senyastein/miniconda3/envs/satenv/lib/python3.7/site-packages/xarray/core/nanops.py:159: RuntimeWarning: Mean of empty slice\n",
      "  return np.nanmean(a, axis=axis, dtype=dtype)\n"
     ]
    },
    {
     "name": "stdout",
     "output_type": "stream",
     "text": [
      "315\n",
      "./1024/saildrone-gen_5-west_coast_survey_2018-sd1024-20181012T200000-20181012T215959-1_minutes-v2.1539383411880.nc\n",
      "316\n",
      "./1024/saildrone-gen_5-west_coast_survey_2018-sd1024-20180901T180000-20180901T195959-1_minutes-v2.1535833815324.nc\n"
     ]
    },
    {
     "name": "stderr",
     "output_type": "stream",
     "text": [
      "/Users/senyastein/miniconda3/envs/satenv/lib/python3.7/site-packages/xarray/core/nanops.py:159: RuntimeWarning: Mean of empty slice\n",
      "  return np.nanmean(a, axis=axis, dtype=dtype)\n",
      "/Users/senyastein/miniconda3/envs/satenv/lib/python3.7/site-packages/xarray/core/nanops.py:159: RuntimeWarning: Mean of empty slice\n",
      "  return np.nanmean(a, axis=axis, dtype=dtype)\n"
     ]
    },
    {
     "name": "stdout",
     "output_type": "stream",
     "text": [
      "317\n",
      "./1024/saildrone-gen_5-west_coast_survey_2018-sd1024-20181026T200000-20181026T215959-1_minutes-v2.1540593012989.nc\n",
      "318\n",
      "./1024/saildrone-gen_5-west_coast_survey_2018-sd1024-20180930T060000-20180930T075959-1_minutes-v2.1538296212422.nc\n"
     ]
    },
    {
     "name": "stderr",
     "output_type": "stream",
     "text": [
      "/Users/senyastein/miniconda3/envs/satenv/lib/python3.7/site-packages/xarray/core/nanops.py:159: RuntimeWarning: Mean of empty slice\n",
      "  return np.nanmean(a, axis=axis, dtype=dtype)\n",
      "/Users/senyastein/miniconda3/envs/satenv/lib/python3.7/site-packages/xarray/core/nanops.py:159: RuntimeWarning: Mean of empty slice\n",
      "  return np.nanmean(a, axis=axis, dtype=dtype)\n"
     ]
    },
    {
     "name": "stdout",
     "output_type": "stream",
     "text": [
      "319\n",
      "./1024/saildrone-gen_5-west_coast_survey_2018-sd1024-20181019T180000-20181019T195959-1_minutes-v2.1539981012240.nc\n"
     ]
    },
    {
     "name": "stderr",
     "output_type": "stream",
     "text": [
      "/Users/senyastein/miniconda3/envs/satenv/lib/python3.7/site-packages/xarray/core/nanops.py:159: RuntimeWarning: Mean of empty slice\n",
      "  return np.nanmean(a, axis=axis, dtype=dtype)\n"
     ]
    },
    {
     "name": "stdout",
     "output_type": "stream",
     "text": [
      "320\n",
      "./1024/saildrone-gen_5-west_coast_survey_2018-sd1024-20180828T100000-20180828T115959-1_minutes-v2.1535459413984.nc\n",
      "321\n",
      "./1024/saildrone-gen_5-west_coast_survey_2018-sd1024-20181122T140000-20181122T155959-1_minutes-v2.1542904216305.nc\n"
     ]
    },
    {
     "name": "stderr",
     "output_type": "stream",
     "text": [
      "/Users/senyastein/miniconda3/envs/satenv/lib/python3.7/site-packages/xarray/core/nanops.py:159: RuntimeWarning: Mean of empty slice\n",
      "  return np.nanmean(a, axis=axis, dtype=dtype)\n",
      "/Users/senyastein/miniconda3/envs/satenv/lib/python3.7/site-packages/xarray/core/nanops.py:159: RuntimeWarning: Mean of empty slice\n",
      "  return np.nanmean(a, axis=axis, dtype=dtype)\n"
     ]
    },
    {
     "name": "stdout",
     "output_type": "stream",
     "text": [
      "322\n",
      "./1024/saildrone-gen_5-west_coast_survey_2018-sd1024-20180829T160000-20180829T175959-1_minutes-v2.1535567415561.nc\n",
      "323\n",
      "./1024/saildrone-gen_5-west_coast_survey_2018-sd1024-20181107T040000-20181107T055959-1_minutes-v2.1541572212849.nc\n"
     ]
    },
    {
     "name": "stderr",
     "output_type": "stream",
     "text": [
      "/Users/senyastein/miniconda3/envs/satenv/lib/python3.7/site-packages/xarray/core/nanops.py:159: RuntimeWarning: Mean of empty slice\n",
      "  return np.nanmean(a, axis=axis, dtype=dtype)\n",
      "/Users/senyastein/miniconda3/envs/satenv/lib/python3.7/site-packages/xarray/core/nanops.py:159: RuntimeWarning: Mean of empty slice\n",
      "  return np.nanmean(a, axis=axis, dtype=dtype)\n"
     ]
    },
    {
     "name": "stdout",
     "output_type": "stream",
     "text": [
      "324\n",
      "./1024/saildrone-gen_5-west_coast_survey_2018-sd1024-20180720T180000-20180720T235959-1_minutes-v2.1533314270950.nc\n",
      "325\n",
      "./1024/saildrone-gen_5-west_coast_survey_2018-sd1024-20181109T020000-20181109T035959-1_minutes-v2.1541737812262.nc\n"
     ]
    },
    {
     "name": "stderr",
     "output_type": "stream",
     "text": [
      "/Users/senyastein/miniconda3/envs/satenv/lib/python3.7/site-packages/xarray/core/nanops.py:159: RuntimeWarning: Mean of empty slice\n",
      "  return np.nanmean(a, axis=axis, dtype=dtype)\n",
      "/Users/senyastein/miniconda3/envs/satenv/lib/python3.7/site-packages/xarray/core/nanops.py:159: RuntimeWarning: Mean of empty slice\n",
      "  return np.nanmean(a, axis=axis, dtype=dtype)\n"
     ]
    },
    {
     "name": "stdout",
     "output_type": "stream",
     "text": [
      "326\n",
      "./1024/saildrone-gen_5-west_coast_survey_2018-sd1024-20180823T000000-20180823T015959-1_minutes-v2.1534991412925.nc\n",
      "327\n",
      "./1024/saildrone-gen_5-west_coast_survey_2018-sd1024-20181120T200000-20181120T215959-1_minutes-v2.1542753016131.nc\n"
     ]
    },
    {
     "name": "stderr",
     "output_type": "stream",
     "text": [
      "/Users/senyastein/miniconda3/envs/satenv/lib/python3.7/site-packages/xarray/core/nanops.py:159: RuntimeWarning: Mean of empty slice\n",
      "  return np.nanmean(a, axis=axis, dtype=dtype)\n",
      "/Users/senyastein/miniconda3/envs/satenv/lib/python3.7/site-packages/xarray/core/nanops.py:159: RuntimeWarning: Mean of empty slice\n",
      "  return np.nanmean(a, axis=axis, dtype=dtype)\n"
     ]
    },
    {
     "name": "stdout",
     "output_type": "stream",
     "text": [
      "328\n",
      "./1024/saildrone-gen_5-west_coast_survey_2018-sd1024-20181027T040000-20181027T055959-1_minutes-v2.1540621813466.nc\n",
      "329\n",
      "./1024/saildrone-gen_5-west_coast_survey_2018-sd1024-20181118T160000-20181118T175959-1_minutes-v2.1542565817012.nc\n"
     ]
    },
    {
     "name": "stderr",
     "output_type": "stream",
     "text": [
      "/Users/senyastein/miniconda3/envs/satenv/lib/python3.7/site-packages/xarray/core/nanops.py:159: RuntimeWarning: Mean of empty slice\n",
      "  return np.nanmean(a, axis=axis, dtype=dtype)\n",
      "/Users/senyastein/miniconda3/envs/satenv/lib/python3.7/site-packages/xarray/core/nanops.py:159: RuntimeWarning: Mean of empty slice\n",
      "  return np.nanmean(a, axis=axis, dtype=dtype)\n"
     ]
    },
    {
     "name": "stdout",
     "output_type": "stream",
     "text": [
      "330\n",
      "./1024/saildrone-gen_5-west_coast_survey_2018-sd1024-20180905T060000-20180905T075959-1_minutes-v2.1536136215611.nc\n",
      "331\n",
      "./1024/saildrone-gen_5-west_coast_survey_2018-sd1024-20180728T180000-20180728T235959-1_minutes-v2.1533316173899.nc\n"
     ]
    },
    {
     "name": "stderr",
     "output_type": "stream",
     "text": [
      "/Users/senyastein/miniconda3/envs/satenv/lib/python3.7/site-packages/xarray/core/nanops.py:159: RuntimeWarning: Mean of empty slice\n",
      "  return np.nanmean(a, axis=axis, dtype=dtype)\n",
      "/Users/senyastein/miniconda3/envs/satenv/lib/python3.7/site-packages/xarray/core/nanops.py:159: RuntimeWarning: Mean of empty slice\n",
      "  return np.nanmean(a, axis=axis, dtype=dtype)\n"
     ]
    },
    {
     "name": "stdout",
     "output_type": "stream",
     "text": [
      "332\n",
      "./1024/saildrone-gen_5-west_coast_survey_2018-sd1024-20180804T060000-20180804T115959-1_minutes-v2.1533387677342.nc\n"
     ]
    },
    {
     "name": "stderr",
     "output_type": "stream",
     "text": [
      "/Users/senyastein/miniconda3/envs/satenv/lib/python3.7/site-packages/xarray/core/nanops.py:159: RuntimeWarning: Mean of empty slice\n",
      "  return np.nanmean(a, axis=axis, dtype=dtype)\n"
     ]
    },
    {
     "name": "stdout",
     "output_type": "stream",
     "text": [
      "333\n",
      "./1024/saildrone-gen_5-west_coast_survey_2018-sd1024-20181117T020000-20181117T035959-1_minutes-v2.1542429015724.nc\n"
     ]
    },
    {
     "name": "stderr",
     "output_type": "stream",
     "text": [
      "/Users/senyastein/miniconda3/envs/satenv/lib/python3.7/site-packages/xarray/core/nanops.py:159: RuntimeWarning: Mean of empty slice\n",
      "  return np.nanmean(a, axis=axis, dtype=dtype)\n"
     ]
    },
    {
     "name": "stdout",
     "output_type": "stream",
     "text": [
      "334\n",
      "./1024/saildrone-gen_5-west_coast_survey_2018-sd1024-20180909T180000-20180909T195959-1_minutes-v2.1536525015589.nc\n",
      "335\n",
      "./1024/saildrone-gen_5-west_coast_survey_2018-sd1024-20181020T200000-20181020T215959-1_minutes-v2.1540074612603.nc\n"
     ]
    },
    {
     "name": "stderr",
     "output_type": "stream",
     "text": [
      "/Users/senyastein/miniconda3/envs/satenv/lib/python3.7/site-packages/xarray/core/nanops.py:159: RuntimeWarning: Mean of empty slice\n",
      "  return np.nanmean(a, axis=axis, dtype=dtype)\n",
      "/Users/senyastein/miniconda3/envs/satenv/lib/python3.7/site-packages/xarray/core/nanops.py:159: RuntimeWarning: Mean of empty slice\n",
      "  return np.nanmean(a, axis=axis, dtype=dtype)\n"
     ]
    },
    {
     "name": "stdout",
     "output_type": "stream",
     "text": [
      "336\n",
      "./1024/saildrone-gen_5-west_coast_survey_2018-sd1024-20181106T140000-20181106T155959-1_minutes-v2.1541521812641.nc\n",
      "337\n",
      "./1024/saildrone-gen_5-west_coast_survey_2018-sd1024-20181003T000000-20181003T015959-1_minutes-v2.1538533823106.nc\n"
     ]
    },
    {
     "name": "stderr",
     "output_type": "stream",
     "text": [
      "/Users/senyastein/miniconda3/envs/satenv/lib/python3.7/site-packages/xarray/core/nanops.py:159: RuntimeWarning: Mean of empty slice\n",
      "  return np.nanmean(a, axis=axis, dtype=dtype)\n",
      "/Users/senyastein/miniconda3/envs/satenv/lib/python3.7/site-packages/xarray/core/nanops.py:159: RuntimeWarning: Mean of empty slice\n",
      "  return np.nanmean(a, axis=axis, dtype=dtype)\n"
     ]
    },
    {
     "name": "stdout",
     "output_type": "stream",
     "text": [
      "338\n",
      "./1024/saildrone-gen_5-west_coast_survey_2018-sd1024-20181027T120000-20181027T135959-1_minutes-v2.1540650612327.nc\n"
     ]
    },
    {
     "name": "stderr",
     "output_type": "stream",
     "text": [
      "/Users/senyastein/miniconda3/envs/satenv/lib/python3.7/site-packages/xarray/core/nanops.py:159: RuntimeWarning: Mean of empty slice\n",
      "  return np.nanmean(a, axis=axis, dtype=dtype)\n"
     ]
    },
    {
     "name": "stdout",
     "output_type": "stream",
     "text": [
      "339\n",
      "./1024/saildrone-gen_5-west_coast_survey_2018-sd1024-20181116T120000-20181116T135959-1_minutes-v2.1542378615650.nc\n"
     ]
    },
    {
     "name": "stderr",
     "output_type": "stream",
     "text": [
      "/Users/senyastein/miniconda3/envs/satenv/lib/python3.7/site-packages/xarray/core/nanops.py:159: RuntimeWarning: Mean of empty slice\n",
      "  return np.nanmean(a, axis=axis, dtype=dtype)\n"
     ]
    },
    {
     "name": "stdout",
     "output_type": "stream",
     "text": [
      "340\n",
      "./1024/saildrone-gen_5-west_coast_survey_2018-sd1024-20181119T020000-20181119T035959-1_minutes-v2.1542601815587.nc\n"
     ]
    },
    {
     "name": "stderr",
     "output_type": "stream",
     "text": [
      "/Users/senyastein/miniconda3/envs/satenv/lib/python3.7/site-packages/xarray/core/nanops.py:159: RuntimeWarning: Mean of empty slice\n",
      "  return np.nanmean(a, axis=axis, dtype=dtype)\n"
     ]
    },
    {
     "name": "stdout",
     "output_type": "stream",
     "text": [
      "341\n",
      "./1024/saildrone-gen_5-west_coast_survey_2018-sd1024-20181031T180000-20181031T195959-1_minutes-v2.1541017811993.nc\n"
     ]
    },
    {
     "name": "stderr",
     "output_type": "stream",
     "text": [
      "/Users/senyastein/miniconda3/envs/satenv/lib/python3.7/site-packages/xarray/core/nanops.py:159: RuntimeWarning: Mean of empty slice\n",
      "  return np.nanmean(a, axis=axis, dtype=dtype)\n",
      "/Users/senyastein/miniconda3/envs/satenv/lib/python3.7/site-packages/xarray/core/nanops.py:159: RuntimeWarning: Mean of empty slice\n",
      "  return np.nanmean(a, axis=axis, dtype=dtype)\n"
     ]
    },
    {
     "name": "stdout",
     "output_type": "stream",
     "text": [
      "342\n",
      "./1024/saildrone-gen_5-west_coast_survey_2018-sd1024-20180908T000000-20180908T015959-1_minutes-v2.1536373815830.nc\n",
      "343\n",
      "./1024/saildrone-gen_5-west_coast_survey_2018-sd1024-20181001T120000-20181001T135959-1_minutes-v2.1538404213905.nc\n",
      "344\n",
      "./1024/saildrone-gen_5-west_coast_survey_2018-sd1024-20180923T000000-20180923T015959-1_minutes-v2.1537669825882.nc\n"
     ]
    },
    {
     "name": "stderr",
     "output_type": "stream",
     "text": [
      "/Users/senyastein/miniconda3/envs/satenv/lib/python3.7/site-packages/xarray/core/nanops.py:159: RuntimeWarning: Mean of empty slice\n",
      "  return np.nanmean(a, axis=axis, dtype=dtype)\n",
      "/Users/senyastein/miniconda3/envs/satenv/lib/python3.7/site-packages/xarray/core/nanops.py:159: RuntimeWarning: Mean of empty slice\n",
      "  return np.nanmean(a, axis=axis, dtype=dtype)\n"
     ]
    },
    {
     "name": "stdout",
     "output_type": "stream",
     "text": [
      "345\n",
      "./1024/saildrone-gen_5-west_coast_survey_2018-sd1024-20181004T100000-20181004T115959-1_minutes-v2.1538656226780.nc\n",
      "346\n",
      "./1024/saildrone-gen_5-west_coast_survey_2018-sd1024-20181013T200000-20181013T215959-1_minutes-v2.1539469811937.nc\n"
     ]
    },
    {
     "name": "stderr",
     "output_type": "stream",
     "text": [
      "/Users/senyastein/miniconda3/envs/satenv/lib/python3.7/site-packages/xarray/core/nanops.py:159: RuntimeWarning: Mean of empty slice\n",
      "  return np.nanmean(a, axis=axis, dtype=dtype)\n",
      "/Users/senyastein/miniconda3/envs/satenv/lib/python3.7/site-packages/xarray/core/nanops.py:159: RuntimeWarning: Mean of empty slice\n",
      "  return np.nanmean(a, axis=axis, dtype=dtype)\n"
     ]
    },
    {
     "name": "stdout",
     "output_type": "stream",
     "text": [
      "347\n",
      "./1024/saildrone-gen_5-west_coast_survey_2018-sd1024-20180913T040000-20180913T055959-1_minutes-v2.1536820222603.nc\n",
      "348\n",
      "./1024/saildrone-gen_5-west_coast_survey_2018-sd1024-20181117T160000-20181117T175959-1_minutes-v2.1542479415622.nc\n"
     ]
    },
    {
     "name": "stderr",
     "output_type": "stream",
     "text": [
      "/Users/senyastein/miniconda3/envs/satenv/lib/python3.7/site-packages/xarray/core/nanops.py:159: RuntimeWarning: Mean of empty slice\n",
      "  return np.nanmean(a, axis=axis, dtype=dtype)\n",
      "/Users/senyastein/miniconda3/envs/satenv/lib/python3.7/site-packages/xarray/core/nanops.py:159: RuntimeWarning: Mean of empty slice\n",
      "  return np.nanmean(a, axis=axis, dtype=dtype)\n"
     ]
    },
    {
     "name": "stdout",
     "output_type": "stream",
     "text": [
      "349\n",
      "./1024/saildrone-gen_5-west_coast_survey_2018-sd1024-20180905T180000-20180905T195959-1_minutes-v2.1536179415270.nc\n",
      "350\n",
      "./1024/saildrone-gen_5-west_coast_survey_2018-sd1024-20181127T160000-20181127T175959-1_minutes-v2.1543343415938.nc\n"
     ]
    },
    {
     "name": "stderr",
     "output_type": "stream",
     "text": [
      "/Users/senyastein/miniconda3/envs/satenv/lib/python3.7/site-packages/xarray/core/nanops.py:159: RuntimeWarning: Mean of empty slice\n",
      "  return np.nanmean(a, axis=axis, dtype=dtype)\n",
      "/Users/senyastein/miniconda3/envs/satenv/lib/python3.7/site-packages/xarray/core/nanops.py:159: RuntimeWarning: Mean of empty slice\n",
      "  return np.nanmean(a, axis=axis, dtype=dtype)\n"
     ]
    },
    {
     "name": "stdout",
     "output_type": "stream",
     "text": [
      "351\n",
      "./1024/saildrone-gen_5-west_coast_survey_2018-sd1024-20180908T160000-20180908T175959-1_minutes-v2.1536431429080.nc\n",
      "352\n",
      "./1024/saildrone-gen_5-west_coast_survey_2018-sd1024-20181125T160000-20181125T175959-1_minutes-v2.1543170615577.nc\n"
     ]
    },
    {
     "name": "stderr",
     "output_type": "stream",
     "text": [
      "/Users/senyastein/miniconda3/envs/satenv/lib/python3.7/site-packages/xarray/core/nanops.py:159: RuntimeWarning: Mean of empty slice\n",
      "  return np.nanmean(a, axis=axis, dtype=dtype)\n",
      "/Users/senyastein/miniconda3/envs/satenv/lib/python3.7/site-packages/xarray/core/nanops.py:159: RuntimeWarning: Mean of empty slice\n",
      "  return np.nanmean(a, axis=axis, dtype=dtype)\n"
     ]
    },
    {
     "name": "stdout",
     "output_type": "stream",
     "text": [
      "353\n",
      "./1024/saildrone-gen_5-west_coast_survey_2018-sd1024-20181015T080000-20181015T095959-1_minutes-v2.1539599412887.nc\n",
      "354\n",
      "./1024/saildrone-gen_5-west_coast_survey_2018-sd1024-20180826T220000-20180826T235959-1_minutes-v2.1535329814009.nc\n"
     ]
    },
    {
     "name": "stderr",
     "output_type": "stream",
     "text": [
      "/Users/senyastein/miniconda3/envs/satenv/lib/python3.7/site-packages/xarray/core/nanops.py:159: RuntimeWarning: Mean of empty slice\n",
      "  return np.nanmean(a, axis=axis, dtype=dtype)\n",
      "/Users/senyastein/miniconda3/envs/satenv/lib/python3.7/site-packages/xarray/core/nanops.py:159: RuntimeWarning: Mean of empty slice\n",
      "  return np.nanmean(a, axis=axis, dtype=dtype)\n"
     ]
    },
    {
     "name": "stdout",
     "output_type": "stream",
     "text": [
      "355\n",
      "./1024/saildrone-gen_5-west_coast_survey_2018-sd1024-20181104T080000-20181104T095959-1_minutes-v2.1541327411714.nc\n",
      "356\n",
      "./1024/saildrone-gen_5-west_coast_survey_2018-sd1024-20181006T180000-20181006T195959-1_minutes-v2.1538857813364.nc\n"
     ]
    },
    {
     "name": "stderr",
     "output_type": "stream",
     "text": [
      "/Users/senyastein/miniconda3/envs/satenv/lib/python3.7/site-packages/xarray/core/nanops.py:159: RuntimeWarning: Mean of empty slice\n",
      "  return np.nanmean(a, axis=axis, dtype=dtype)\n",
      "/Users/senyastein/miniconda3/envs/satenv/lib/python3.7/site-packages/xarray/core/nanops.py:159: RuntimeWarning: Mean of empty slice\n",
      "  return np.nanmean(a, axis=axis, dtype=dtype)\n"
     ]
    },
    {
     "name": "stdout",
     "output_type": "stream",
     "text": [
      "357\n",
      "./1024/saildrone-gen_5-west_coast_survey_2018-sd1024-20180913T080000-20180913T095959-1_minutes-v2.1536834623044.nc\n",
      "358\n",
      "./1024/saildrone-gen_5-west_coast_survey_2018-sd1024-20181013T120000-20181013T135959-1_minutes-v2.1539441011617.nc\n"
     ]
    },
    {
     "name": "stderr",
     "output_type": "stream",
     "text": [
      "/Users/senyastein/miniconda3/envs/satenv/lib/python3.7/site-packages/xarray/core/nanops.py:159: RuntimeWarning: Mean of empty slice\n",
      "  return np.nanmean(a, axis=axis, dtype=dtype)\n",
      "/Users/senyastein/miniconda3/envs/satenv/lib/python3.7/site-packages/xarray/core/nanops.py:159: RuntimeWarning: Mean of empty slice\n",
      "  return np.nanmean(a, axis=axis, dtype=dtype)\n"
     ]
    },
    {
     "name": "stdout",
     "output_type": "stream",
     "text": [
      "359\n",
      "./1024/saildrone-gen_5-west_coast_survey_2018-sd1024-20180928T120000-20180928T135959-1_minutes-v2.1538145024218.nc\n",
      "360\n",
      "./1024/saildrone-gen_5-west_coast_survey_2018-sd1024-20181114T120000-20181114T135959-1_minutes-v2.1542205815487.nc\n"
     ]
    },
    {
     "name": "stderr",
     "output_type": "stream",
     "text": [
      "/Users/senyastein/miniconda3/envs/satenv/lib/python3.7/site-packages/xarray/core/nanops.py:159: RuntimeWarning: Mean of empty slice\n",
      "  return np.nanmean(a, axis=axis, dtype=dtype)\n",
      "/Users/senyastein/miniconda3/envs/satenv/lib/python3.7/site-packages/xarray/core/nanops.py:159: RuntimeWarning: Mean of empty slice\n",
      "  return np.nanmean(a, axis=axis, dtype=dtype)\n"
     ]
    },
    {
     "name": "stdout",
     "output_type": "stream",
     "text": [
      "361\n",
      "./1024/saildrone-gen_5-west_coast_survey_2018-sd1024-20181030T160000-20181030T175959-1_minutes-v2.1540924211944.nc\n",
      "362\n",
      "./1024/saildrone-gen_5-west_coast_survey_2018-sd1024-20180914T140000-20180914T155959-1_minutes-v2.1536942616310.nc\n"
     ]
    },
    {
     "name": "stderr",
     "output_type": "stream",
     "text": [
      "/Users/senyastein/miniconda3/envs/satenv/lib/python3.7/site-packages/xarray/core/nanops.py:159: RuntimeWarning: Mean of empty slice\n",
      "  return np.nanmean(a, axis=axis, dtype=dtype)\n",
      "/Users/senyastein/miniconda3/envs/satenv/lib/python3.7/site-packages/xarray/core/nanops.py:159: RuntimeWarning: Mean of empty slice\n",
      "  return np.nanmean(a, axis=axis, dtype=dtype)\n"
     ]
    },
    {
     "name": "stdout",
     "output_type": "stream",
     "text": [
      "363\n",
      "./1024/saildrone-gen_5-west_coast_survey_2018-sd1024-20180903T000000-20180903T015959-1_minutes-v2.1535941816059.nc\n",
      "364\n",
      "./1024/saildrone-gen_5-west_coast_survey_2018-sd1024-20181002T200000-20181002T215959-1_minutes-v2.1538519426983.nc\n"
     ]
    },
    {
     "name": "stderr",
     "output_type": "stream",
     "text": [
      "/Users/senyastein/miniconda3/envs/satenv/lib/python3.7/site-packages/xarray/core/nanops.py:159: RuntimeWarning: Mean of empty slice\n",
      "  return np.nanmean(a, axis=axis, dtype=dtype)\n",
      "/Users/senyastein/miniconda3/envs/satenv/lib/python3.7/site-packages/xarray/core/nanops.py:159: RuntimeWarning: Mean of empty slice\n",
      "  return np.nanmean(a, axis=axis, dtype=dtype)\n"
     ]
    },
    {
     "name": "stdout",
     "output_type": "stream",
     "text": [
      "365\n",
      "./1024/saildrone-gen_5-west_coast_survey_2018-sd1024-20180924T180000-20180924T195959-1_minutes-v2.1537821014627.nc\n",
      "366\n",
      "./1024/saildrone-gen_5-west_coast_survey_2018-sd1024-20180912T100000-20180912T115959-1_minutes-v2.1536755432391.nc\n"
     ]
    },
    {
     "name": "stderr",
     "output_type": "stream",
     "text": [
      "/Users/senyastein/miniconda3/envs/satenv/lib/python3.7/site-packages/xarray/core/nanops.py:159: RuntimeWarning: Mean of empty slice\n",
      "  return np.nanmean(a, axis=axis, dtype=dtype)\n",
      "/Users/senyastein/miniconda3/envs/satenv/lib/python3.7/site-packages/xarray/core/nanops.py:159: RuntimeWarning: Mean of empty slice\n",
      "  return np.nanmean(a, axis=axis, dtype=dtype)\n"
     ]
    },
    {
     "name": "stdout",
     "output_type": "stream",
     "text": [
      "367\n",
      "./1024/saildrone-gen_5-west_coast_survey_2018-sd1024-20181004T120000-20181004T135959-1_minutes-v2.1538663412635.nc\n",
      "368\n",
      "./1024/saildrone-gen_5-west_coast_survey_2018-sd1024-20180924T020000-20180924T035959-1_minutes-v2.1537763414211.nc\n"
     ]
    },
    {
     "name": "stderr",
     "output_type": "stream",
     "text": [
      "/Users/senyastein/miniconda3/envs/satenv/lib/python3.7/site-packages/xarray/core/nanops.py:159: RuntimeWarning: Mean of empty slice\n",
      "  return np.nanmean(a, axis=axis, dtype=dtype)\n",
      "/Users/senyastein/miniconda3/envs/satenv/lib/python3.7/site-packages/xarray/core/nanops.py:159: RuntimeWarning: Mean of empty slice\n",
      "  return np.nanmean(a, axis=axis, dtype=dtype)\n"
     ]
    },
    {
     "name": "stdout",
     "output_type": "stream",
     "text": [
      "369\n",
      "./1024/saildrone-gen_5-west_coast_survey_2018-sd1024-20181103T160000-20181103T175959-1_minutes-v2.1541269812128.nc\n",
      "370\n",
      "./1024/saildrone-gen_5-west_coast_survey_2018-sd1024-20181020T020000-20181020T035959-1_minutes-v2.1540009821075.nc\n"
     ]
    },
    {
     "name": "stderr",
     "output_type": "stream",
     "text": [
      "/Users/senyastein/miniconda3/envs/satenv/lib/python3.7/site-packages/xarray/core/nanops.py:159: RuntimeWarning: Mean of empty slice\n",
      "  return np.nanmean(a, axis=axis, dtype=dtype)\n",
      "/Users/senyastein/miniconda3/envs/satenv/lib/python3.7/site-packages/xarray/core/nanops.py:159: RuntimeWarning: Mean of empty slice\n",
      "  return np.nanmean(a, axis=axis, dtype=dtype)\n"
     ]
    },
    {
     "name": "stdout",
     "output_type": "stream",
     "text": [
      "371\n",
      "./1024/saildrone-gen_5-west_coast_survey_2018-sd1024-20181123T080000-20181123T095959-1_minutes-v2.1542969015793.nc\n",
      "372\n",
      "./1024/saildrone-gen_5-west_coast_survey_2018-sd1024-20181101T200000-20181101T215959-1_minutes-v2.1541111412787.nc\n"
     ]
    },
    {
     "name": "stderr",
     "output_type": "stream",
     "text": [
      "/Users/senyastein/miniconda3/envs/satenv/lib/python3.7/site-packages/xarray/core/nanops.py:159: RuntimeWarning: Mean of empty slice\n",
      "  return np.nanmean(a, axis=axis, dtype=dtype)\n",
      "/Users/senyastein/miniconda3/envs/satenv/lib/python3.7/site-packages/xarray/core/nanops.py:159: RuntimeWarning: Mean of empty slice\n",
      "  return np.nanmean(a, axis=axis, dtype=dtype)\n"
     ]
    },
    {
     "name": "stdout",
     "output_type": "stream",
     "text": [
      "373\n",
      "./1024/saildrone-gen_5-west_coast_survey_2018-sd1024-20181023T160000-20181023T175959-1_minutes-v2.1540319463813.nc\n",
      "374\n",
      "./1024/saildrone-gen_5-west_coast_survey_2018-sd1024-20180902T200000-20180902T215959-1_minutes-v2.1535927416215.nc\n"
     ]
    },
    {
     "name": "stderr",
     "output_type": "stream",
     "text": [
      "/Users/senyastein/miniconda3/envs/satenv/lib/python3.7/site-packages/xarray/core/nanops.py:159: RuntimeWarning: Mean of empty slice\n",
      "  return np.nanmean(a, axis=axis, dtype=dtype)\n",
      "/Users/senyastein/miniconda3/envs/satenv/lib/python3.7/site-packages/xarray/core/nanops.py:159: RuntimeWarning: Mean of empty slice\n",
      "  return np.nanmean(a, axis=axis, dtype=dtype)\n"
     ]
    },
    {
     "name": "stdout",
     "output_type": "stream",
     "text": [
      "375\n",
      "./1024/saildrone-gen_5-west_coast_survey_2018-sd1024-20180818T120000-20180818T175959-1_minutes-v2.1534618837209.nc\n",
      "376\n",
      "./1024/saildrone-gen_5-west_coast_survey_2018-sd1024-20180926T120000-20180926T135959-1_minutes-v2.1537972231007.nc\n"
     ]
    },
    {
     "name": "stderr",
     "output_type": "stream",
     "text": [
      "/Users/senyastein/miniconda3/envs/satenv/lib/python3.7/site-packages/xarray/core/nanops.py:159: RuntimeWarning: Mean of empty slice\n",
      "  return np.nanmean(a, axis=axis, dtype=dtype)\n",
      "/Users/senyastein/miniconda3/envs/satenv/lib/python3.7/site-packages/xarray/core/nanops.py:159: RuntimeWarning: Mean of empty slice\n",
      "  return np.nanmean(a, axis=axis, dtype=dtype)\n"
     ]
    },
    {
     "name": "stdout",
     "output_type": "stream",
     "text": [
      "377\n",
      "./1024/saildrone-gen_5-west_coast_survey_2018-sd1024-20180823T080000-20180823T095959-1_minutes-v2.1535020212001.nc\n",
      "378\n",
      "./1024/saildrone-gen_5-west_coast_survey_2018-sd1024-20181112T140000-20181112T155959-1_minutes-v2.1542040212502.nc\n"
     ]
    },
    {
     "name": "stderr",
     "output_type": "stream",
     "text": [
      "/Users/senyastein/miniconda3/envs/satenv/lib/python3.7/site-packages/xarray/core/nanops.py:159: RuntimeWarning: Mean of empty slice\n",
      "  return np.nanmean(a, axis=axis, dtype=dtype)\n",
      "/Users/senyastein/miniconda3/envs/satenv/lib/python3.7/site-packages/xarray/core/nanops.py:159: RuntimeWarning: Mean of empty slice\n",
      "  return np.nanmean(a, axis=axis, dtype=dtype)\n"
     ]
    },
    {
     "name": "stdout",
     "output_type": "stream",
     "text": [
      "379\n",
      "./1024/saildrone-gen_5-west_coast_survey_2018-sd1024-20181003T080000-20181003T095959-1_minutes-v2.1538562613188.nc\n",
      "380\n",
      "./1024/saildrone-gen_5-west_coast_survey_2018-sd1024-20181006T100000-20181006T115959-1_minutes-v2.1538829012147.nc\n"
     ]
    },
    {
     "name": "stderr",
     "output_type": "stream",
     "text": [
      "/Users/senyastein/miniconda3/envs/satenv/lib/python3.7/site-packages/xarray/core/nanops.py:159: RuntimeWarning: Mean of empty slice\n",
      "  return np.nanmean(a, axis=axis, dtype=dtype)\n",
      "/Users/senyastein/miniconda3/envs/satenv/lib/python3.7/site-packages/xarray/core/nanops.py:159: RuntimeWarning: Mean of empty slice\n",
      "  return np.nanmean(a, axis=axis, dtype=dtype)\n"
     ]
    },
    {
     "name": "stdout",
     "output_type": "stream",
     "text": [
      "381\n",
      "./1024/saildrone-gen_5-west_coast_survey_2018-sd1024-20181014T160000-20181014T175959-1_minutes-v2.1539541812344.nc\n",
      "382\n",
      "./1024/saildrone-gen_5-west_coast_survey_2018-sd1024-20180909T040000-20180909T055959-1_minutes-v2.1536474615850.nc\n"
     ]
    },
    {
     "name": "stderr",
     "output_type": "stream",
     "text": [
      "/Users/senyastein/miniconda3/envs/satenv/lib/python3.7/site-packages/xarray/core/nanops.py:159: RuntimeWarning: Mean of empty slice\n",
      "  return np.nanmean(a, axis=axis, dtype=dtype)\n",
      "/Users/senyastein/miniconda3/envs/satenv/lib/python3.7/site-packages/xarray/core/nanops.py:159: RuntimeWarning: Mean of empty slice\n",
      "  return np.nanmean(a, axis=axis, dtype=dtype)\n"
     ]
    },
    {
     "name": "stdout",
     "output_type": "stream",
     "text": [
      "383\n",
      "./1024/saildrone-gen_5-west_coast_survey_2018-sd1024-20180909T140000-20180909T155959-1_minutes-v2.1536510627919.nc\n",
      "384\n",
      "./1024/saildrone-gen_5-west_coast_survey_2018-sd1024-20181006T060000-20181006T075959-1_minutes-v2.1538814612115.nc\n"
     ]
    },
    {
     "name": "stderr",
     "output_type": "stream",
     "text": [
      "/Users/senyastein/miniconda3/envs/satenv/lib/python3.7/site-packages/xarray/core/nanops.py:159: RuntimeWarning: Mean of empty slice\n",
      "  return np.nanmean(a, axis=axis, dtype=dtype)\n",
      "/Users/senyastein/miniconda3/envs/satenv/lib/python3.7/site-packages/xarray/core/nanops.py:159: RuntimeWarning: Mean of empty slice\n",
      "  return np.nanmean(a, axis=axis, dtype=dtype)\n"
     ]
    },
    {
     "name": "stdout",
     "output_type": "stream",
     "text": [
      "385\n",
      "./1024/saildrone-gen_5-west_coast_survey_2018-sd1024-20180830T080000-20180830T095959-1_minutes-v2.1535625013898.nc\n",
      "386\n",
      "./1024/saildrone-gen_5-west_coast_survey_2018-sd1024-20181003T180000-20181003T195959-1_minutes-v2.1538598614385.nc\n"
     ]
    },
    {
     "name": "stderr",
     "output_type": "stream",
     "text": [
      "/Users/senyastein/miniconda3/envs/satenv/lib/python3.7/site-packages/xarray/core/nanops.py:159: RuntimeWarning: Mean of empty slice\n",
      "  return np.nanmean(a, axis=axis, dtype=dtype)\n",
      "/Users/senyastein/miniconda3/envs/satenv/lib/python3.7/site-packages/xarray/core/nanops.py:159: RuntimeWarning: Mean of empty slice\n",
      "  return np.nanmean(a, axis=axis, dtype=dtype)\n"
     ]
    },
    {
     "name": "stdout",
     "output_type": "stream",
     "text": [
      "387\n",
      "./1024/saildrone-gen_5-west_coast_survey_2018-sd1024-20180727T120000-20180727T175959-1_minutes-v2.1533315860320.nc\n"
     ]
    },
    {
     "name": "stderr",
     "output_type": "stream",
     "text": [
      "/Users/senyastein/miniconda3/envs/satenv/lib/python3.7/site-packages/xarray/core/nanops.py:159: RuntimeWarning: Mean of empty slice\n",
      "  return np.nanmean(a, axis=axis, dtype=dtype)\n"
     ]
    },
    {
     "name": "stdout",
     "output_type": "stream",
     "text": [
      "388\n",
      "./1024/saildrone-gen_5-west_coast_survey_2018-sd1024-20181110T180000-20181110T195959-1_minutes-v2.1541881812654.nc\n",
      "389\n",
      "./1024/saildrone-gen_5-west_coast_survey_2018-sd1024-20181021T160000-20181021T175959-1_minutes-v2.1540146612590.nc\n"
     ]
    },
    {
     "name": "stderr",
     "output_type": "stream",
     "text": [
      "/Users/senyastein/miniconda3/envs/satenv/lib/python3.7/site-packages/xarray/core/nanops.py:159: RuntimeWarning: Mean of empty slice\n",
      "  return np.nanmean(a, axis=axis, dtype=dtype)\n",
      "/Users/senyastein/miniconda3/envs/satenv/lib/python3.7/site-packages/xarray/core/nanops.py:159: RuntimeWarning: Mean of empty slice\n",
      "  return np.nanmean(a, axis=axis, dtype=dtype)\n"
     ]
    },
    {
     "name": "stdout",
     "output_type": "stream",
     "text": [
      "390\n",
      "./1024/saildrone-gen_5-west_coast_survey_2018-sd1024-20180824T040000-20180824T055959-1_minutes-v2.1535092214052.nc\n"
     ]
    },
    {
     "name": "stderr",
     "output_type": "stream",
     "text": [
      "/Users/senyastein/miniconda3/envs/satenv/lib/python3.7/site-packages/xarray/core/nanops.py:159: RuntimeWarning: Mean of empty slice\n",
      "  return np.nanmean(a, axis=axis, dtype=dtype)\n"
     ]
    },
    {
     "name": "stdout",
     "output_type": "stream",
     "text": [
      "391\n",
      "./1024/saildrone-gen_5-west_coast_survey_2018-sd1024-20181111T000000-20181111T015959-1_minutes-v2.1541903412548.nc\n",
      "392\n",
      "./1024/saildrone-gen_5-west_coast_survey_2018-sd1024-20180723T000000-20180723T055959-1_minutes-v2.1533314774777.nc\n"
     ]
    },
    {
     "name": "stderr",
     "output_type": "stream",
     "text": [
      "/Users/senyastein/miniconda3/envs/satenv/lib/python3.7/site-packages/xarray/core/nanops.py:159: RuntimeWarning: Mean of empty slice\n",
      "  return np.nanmean(a, axis=axis, dtype=dtype)\n",
      "/Users/senyastein/miniconda3/envs/satenv/lib/python3.7/site-packages/xarray/core/nanops.py:159: RuntimeWarning: Mean of empty slice\n",
      "  return np.nanmean(a, axis=axis, dtype=dtype)\n"
     ]
    },
    {
     "name": "stdout",
     "output_type": "stream",
     "text": [
      "393\n",
      "./1024/saildrone-gen_5-west_coast_survey_2018-sd1024-20181019T020000-20181019T035959-1_minutes-v2.1539923412078.nc\n",
      "394\n",
      "./1024/saildrone-gen_5-west_coast_survey_2018-sd1024-20181102T160000-20181102T175959-1_minutes-v2.1541183412426.nc\n"
     ]
    },
    {
     "name": "stderr",
     "output_type": "stream",
     "text": [
      "/Users/senyastein/miniconda3/envs/satenv/lib/python3.7/site-packages/xarray/core/nanops.py:159: RuntimeWarning: Mean of empty slice\n",
      "  return np.nanmean(a, axis=axis, dtype=dtype)\n",
      "/Users/senyastein/miniconda3/envs/satenv/lib/python3.7/site-packages/xarray/core/nanops.py:159: RuntimeWarning: Mean of empty slice\n",
      "  return np.nanmean(a, axis=axis, dtype=dtype)\n"
     ]
    },
    {
     "name": "stdout",
     "output_type": "stream",
     "text": [
      "395\n",
      "./1024/saildrone-gen_5-west_coast_survey_2018-sd1024-20180826T080000-20180826T095959-1_minutes-v2.1535279414106.nc\n",
      "396\n",
      "./1024/saildrone-gen_5-west_coast_survey_2018-sd1024-20181023T000000-20181023T015959-1_minutes-v2.1540261812376.nc\n"
     ]
    },
    {
     "name": "stderr",
     "output_type": "stream",
     "text": [
      "/Users/senyastein/miniconda3/envs/satenv/lib/python3.7/site-packages/xarray/core/nanops.py:159: RuntimeWarning: Mean of empty slice\n",
      "  return np.nanmean(a, axis=axis, dtype=dtype)\n",
      "/Users/senyastein/miniconda3/envs/satenv/lib/python3.7/site-packages/xarray/core/nanops.py:159: RuntimeWarning: Mean of empty slice\n",
      "  return np.nanmean(a, axis=axis, dtype=dtype)\n"
     ]
    },
    {
     "name": "stdout",
     "output_type": "stream",
     "text": [
      "397\n",
      "./1024/saildrone-gen_5-west_coast_survey_2018-sd1024-20181008T220000-20181008T235959-1_minutes-v2.1539045011692.nc\n",
      "398\n",
      "./1024/saildrone-gen_5-west_coast_survey_2018-sd1024-20180915T100000-20180915T115959-1_minutes-v2.1537014628604.nc\n"
     ]
    },
    {
     "name": "stderr",
     "output_type": "stream",
     "text": [
      "/Users/senyastein/miniconda3/envs/satenv/lib/python3.7/site-packages/xarray/core/nanops.py:159: RuntimeWarning: Mean of empty slice\n",
      "  return np.nanmean(a, axis=axis, dtype=dtype)\n",
      "/Users/senyastein/miniconda3/envs/satenv/lib/python3.7/site-packages/xarray/core/nanops.py:159: RuntimeWarning: Mean of empty slice\n",
      "  return np.nanmean(a, axis=axis, dtype=dtype)\n"
     ]
    },
    {
     "name": "stdout",
     "output_type": "stream",
     "text": [
      "399\n",
      "./1024/saildrone-gen_5-west_coast_survey_2018-sd1024-20181122T020000-20181122T035959-1_minutes-v2.1542861015835.nc\n",
      "400\n",
      "./1024/saildrone-gen_5-west_coast_survey_2018-sd1024-20181019T200000-20181019T215959-1_minutes-v2.1539988212530.nc\n"
     ]
    },
    {
     "name": "stderr",
     "output_type": "stream",
     "text": [
      "/Users/senyastein/miniconda3/envs/satenv/lib/python3.7/site-packages/xarray/core/nanops.py:159: RuntimeWarning: Mean of empty slice\n",
      "  return np.nanmean(a, axis=axis, dtype=dtype)\n",
      "/Users/senyastein/miniconda3/envs/satenv/lib/python3.7/site-packages/xarray/core/nanops.py:159: RuntimeWarning: Mean of empty slice\n",
      "  return np.nanmean(a, axis=axis, dtype=dtype)\n"
     ]
    },
    {
     "name": "stdout",
     "output_type": "stream",
     "text": [
      "401\n",
      "./1024/saildrone-gen_5-west_coast_survey_2018-sd1024-20181027T220000-20181027T235959-1_minutes-v2.1540686612274.nc\n",
      "402\n",
      "./1024/saildrone-gen_5-west_coast_survey_2018-sd1024-20181030T140000-20181030T155959-1_minutes-v2.1540917012554.nc\n"
     ]
    },
    {
     "name": "stderr",
     "output_type": "stream",
     "text": [
      "/Users/senyastein/miniconda3/envs/satenv/lib/python3.7/site-packages/xarray/core/nanops.py:159: RuntimeWarning: Mean of empty slice\n",
      "  return np.nanmean(a, axis=axis, dtype=dtype)\n",
      "/Users/senyastein/miniconda3/envs/satenv/lib/python3.7/site-packages/xarray/core/nanops.py:159: RuntimeWarning: Mean of empty slice\n",
      "  return np.nanmean(a, axis=axis, dtype=dtype)\n"
     ]
    },
    {
     "name": "stdout",
     "output_type": "stream",
     "text": [
      "403\n",
      "./1024/saildrone-gen_5-west_coast_survey_2018-sd1024-20180920T140000-20180920T155959-1_minutes-v2.1537461015797.nc\n",
      "404\n",
      "./1024/saildrone-gen_5-west_coast_survey_2018-sd1024-20181119T080000-20181119T095959-1_minutes-v2.1542623415943.nc\n"
     ]
    },
    {
     "name": "stderr",
     "output_type": "stream",
     "text": [
      "/Users/senyastein/miniconda3/envs/satenv/lib/python3.7/site-packages/xarray/core/nanops.py:159: RuntimeWarning: Mean of empty slice\n",
      "  return np.nanmean(a, axis=axis, dtype=dtype)\n",
      "/Users/senyastein/miniconda3/envs/satenv/lib/python3.7/site-packages/xarray/core/nanops.py:159: RuntimeWarning: Mean of empty slice\n",
      "  return np.nanmean(a, axis=axis, dtype=dtype)\n"
     ]
    },
    {
     "name": "stdout",
     "output_type": "stream",
     "text": [
      "405\n",
      "./1024/saildrone-gen_5-west_coast_survey_2018-sd1024-20181115T220000-20181115T235959-1_minutes-v2.1542328215597.nc\n",
      "406\n",
      "./1024/saildrone-gen_5-west_coast_survey_2018-sd1024-20181127T000000-20181127T015959-1_minutes-v2.1543285815865.nc\n"
     ]
    },
    {
     "name": "stderr",
     "output_type": "stream",
     "text": [
      "/Users/senyastein/miniconda3/envs/satenv/lib/python3.7/site-packages/xarray/core/nanops.py:159: RuntimeWarning: Mean of empty slice\n",
      "  return np.nanmean(a, axis=axis, dtype=dtype)\n",
      "/Users/senyastein/miniconda3/envs/satenv/lib/python3.7/site-packages/xarray/core/nanops.py:159: RuntimeWarning: Mean of empty slice\n",
      "  return np.nanmean(a, axis=axis, dtype=dtype)\n"
     ]
    },
    {
     "name": "stdout",
     "output_type": "stream",
     "text": [
      "407\n",
      "./1024/saildrone-gen_5-west_coast_survey_2018-sd1024-20180921T020000-20180921T035959-1_minutes-v2.1537504215411.nc\n"
     ]
    },
    {
     "name": "stderr",
     "output_type": "stream",
     "text": [
      "/Users/senyastein/miniconda3/envs/satenv/lib/python3.7/site-packages/xarray/core/nanops.py:159: RuntimeWarning: Mean of empty slice\n",
      "  return np.nanmean(a, axis=axis, dtype=dtype)\n"
     ]
    },
    {
     "name": "stdout",
     "output_type": "stream",
     "text": [
      "408\n",
      "./1024/saildrone-gen_5-west_coast_survey_2018-sd1024-20180917T140000-20180917T155959-1_minutes-v2.1537201815437.nc\n",
      "409\n",
      "./1024/saildrone-gen_5-west_coast_survey_2018-sd1024-20181102T140000-20181102T155959-1_minutes-v2.1541176212183.nc\n"
     ]
    },
    {
     "name": "stderr",
     "output_type": "stream",
     "text": [
      "/Users/senyastein/miniconda3/envs/satenv/lib/python3.7/site-packages/xarray/core/nanops.py:159: RuntimeWarning: Mean of empty slice\n",
      "  return np.nanmean(a, axis=axis, dtype=dtype)\n",
      "/Users/senyastein/miniconda3/envs/satenv/lib/python3.7/site-packages/xarray/core/nanops.py:159: RuntimeWarning: Mean of empty slice\n",
      "  return np.nanmean(a, axis=axis, dtype=dtype)\n"
     ]
    },
    {
     "name": "stdout",
     "output_type": "stream",
     "text": [
      "410\n",
      "./1024/saildrone-gen_5-west_coast_survey_2018-sd1024-20181114T040000-20181114T055959-1_minutes-v2.1542177015374.nc\n",
      "411\n",
      "./1024/saildrone-gen_5-west_coast_survey_2018-sd1024-20181115T000000-20181115T015959-1_minutes-v2.1542249015797.nc\n"
     ]
    },
    {
     "name": "stderr",
     "output_type": "stream",
     "text": [
      "/Users/senyastein/miniconda3/envs/satenv/lib/python3.7/site-packages/xarray/core/nanops.py:159: RuntimeWarning: Mean of empty slice\n",
      "  return np.nanmean(a, axis=axis, dtype=dtype)\n",
      "/Users/senyastein/miniconda3/envs/satenv/lib/python3.7/site-packages/xarray/core/nanops.py:159: RuntimeWarning: Mean of empty slice\n",
      "  return np.nanmean(a, axis=axis, dtype=dtype)\n"
     ]
    },
    {
     "name": "stdout",
     "output_type": "stream",
     "text": [
      "412\n",
      "./1024/saildrone-gen_5-west_coast_survey_2018-sd1024-20181012T220000-20181012T235959-1_minutes-v2.1539390613041.nc\n",
      "413\n",
      "./1024/saildrone-gen_5-west_coast_survey_2018-sd1024-20180731T000000-20180731T055959-1_minutes-v2.1533316795707.nc\n"
     ]
    },
    {
     "name": "stderr",
     "output_type": "stream",
     "text": [
      "/Users/senyastein/miniconda3/envs/satenv/lib/python3.7/site-packages/xarray/core/nanops.py:159: RuntimeWarning: Mean of empty slice\n",
      "  return np.nanmean(a, axis=axis, dtype=dtype)\n",
      "/Users/senyastein/miniconda3/envs/satenv/lib/python3.7/site-packages/xarray/core/nanops.py:159: RuntimeWarning: Mean of empty slice\n",
      "  return np.nanmean(a, axis=axis, dtype=dtype)\n"
     ]
    },
    {
     "name": "stdout",
     "output_type": "stream",
     "text": [
      "414\n",
      "./1024/saildrone-gen_5-west_coast_survey_2018-sd1024-20180927T120000-20180927T135959-1_minutes-v2.1538058615644.nc\n",
      "415\n",
      "./1024/saildrone-gen_5-west_coast_survey_2018-sd1024-20181020T140000-20181020T155959-1_minutes-v2.1540053012227.nc\n"
     ]
    },
    {
     "name": "stderr",
     "output_type": "stream",
     "text": [
      "/Users/senyastein/miniconda3/envs/satenv/lib/python3.7/site-packages/xarray/core/nanops.py:159: RuntimeWarning: Mean of empty slice\n",
      "  return np.nanmean(a, axis=axis, dtype=dtype)\n",
      "/Users/senyastein/miniconda3/envs/satenv/lib/python3.7/site-packages/xarray/core/nanops.py:159: RuntimeWarning: Mean of empty slice\n",
      "  return np.nanmean(a, axis=axis, dtype=dtype)\n"
     ]
    },
    {
     "name": "stdout",
     "output_type": "stream",
     "text": [
      "416\n",
      "./1024/saildrone-gen_5-west_coast_survey_2018-sd1024-20181109T060000-20181109T075959-1_minutes-v2.1541752213595.nc\n",
      "417\n",
      "./1024/saildrone-gen_5-west_coast_survey_2018-sd1024-20180911T200000-20180911T215959-1_minutes-v2.1536705017042.nc\n"
     ]
    },
    {
     "name": "stderr",
     "output_type": "stream",
     "text": [
      "/Users/senyastein/miniconda3/envs/satenv/lib/python3.7/site-packages/xarray/core/nanops.py:159: RuntimeWarning: Mean of empty slice\n",
      "  return np.nanmean(a, axis=axis, dtype=dtype)\n",
      "/Users/senyastein/miniconda3/envs/satenv/lib/python3.7/site-packages/xarray/core/nanops.py:159: RuntimeWarning: Mean of empty slice\n",
      "  return np.nanmean(a, axis=axis, dtype=dtype)\n"
     ]
    },
    {
     "name": "stdout",
     "output_type": "stream",
     "text": [
      "418\n",
      "./1024/saildrone-gen_5-west_coast_survey_2018-sd1024-20181012T060000-20181012T075959-1_minutes-v2.1539333011912.nc\n",
      "419\n",
      "./1024/saildrone-gen_5-west_coast_survey_2018-sd1024-20181009T140000-20181009T155959-1_minutes-v2.1539102613421.nc\n"
     ]
    },
    {
     "name": "stderr",
     "output_type": "stream",
     "text": [
      "/Users/senyastein/miniconda3/envs/satenv/lib/python3.7/site-packages/xarray/core/nanops.py:159: RuntimeWarning: Mean of empty slice\n",
      "  return np.nanmean(a, axis=axis, dtype=dtype)\n",
      "/Users/senyastein/miniconda3/envs/satenv/lib/python3.7/site-packages/xarray/core/nanops.py:159: RuntimeWarning: Mean of empty slice\n",
      "  return np.nanmean(a, axis=axis, dtype=dtype)\n"
     ]
    },
    {
     "name": "stdout",
     "output_type": "stream",
     "text": [
      "420\n",
      "./1024/saildrone-gen_5-west_coast_survey_2018-sd1024-20180828T060000-20180828T075959-1_minutes-v2.1535445016238.nc\n",
      "421\n",
      "./1024/saildrone-gen_5-west_coast_survey_2018-sd1024-20180914T040000-20180914T055959-1_minutes-v2.1536906614866.nc\n",
      "422\n",
      "./1024/saildrone-gen_5-west_coast_survey_2018-sd1024-20180911T060000-20180911T075959-1_minutes-v2.1536654616546.nc\n"
     ]
    },
    {
     "name": "stderr",
     "output_type": "stream",
     "text": [
      "/Users/senyastein/miniconda3/envs/satenv/lib/python3.7/site-packages/xarray/core/nanops.py:159: RuntimeWarning: Mean of empty slice\n",
      "  return np.nanmean(a, axis=axis, dtype=dtype)\n",
      "/Users/senyastein/miniconda3/envs/satenv/lib/python3.7/site-packages/xarray/core/nanops.py:159: RuntimeWarning: Mean of empty slice\n",
      "  return np.nanmean(a, axis=axis, dtype=dtype)\n",
      "/Users/senyastein/miniconda3/envs/satenv/lib/python3.7/site-packages/xarray/core/nanops.py:159: RuntimeWarning: Mean of empty slice\n",
      "  return np.nanmean(a, axis=axis, dtype=dtype)\n"
     ]
    },
    {
     "name": "stdout",
     "output_type": "stream",
     "text": [
      "423\n",
      "./1025\n",
      "424\n",
      "./1025/saildrone-gen_5-west_coast_survey_2018-sd1025-20180921T160000-20180921T175959-1_minutes-v2.1537554614933.nc\n"
     ]
    },
    {
     "name": "stderr",
     "output_type": "stream",
     "text": [
      "/Users/senyastein/miniconda3/envs/satenv/lib/python3.7/site-packages/xarray/core/nanops.py:159: RuntimeWarning: Mean of empty slice\n",
      "  return np.nanmean(a, axis=axis, dtype=dtype)\n",
      "/Users/senyastein/miniconda3/envs/satenv/lib/python3.7/site-packages/xarray/core/nanops.py:159: RuntimeWarning: Mean of empty slice\n",
      "  return np.nanmean(a, axis=axis, dtype=dtype)\n"
     ]
    },
    {
     "name": "stdout",
     "output_type": "stream",
     "text": [
      "425\n",
      "./1025/saildrone-gen_5-west_coast_survey_2018-sd1025-20180911T120000-20180911T135959-1_minutes-v2.1536676228281.nc\n",
      "426\n",
      "./1025/saildrone-gen_5-west_coast_survey_2018-sd1025-20180902T000000-20180902T015959-1_minutes-v2.1535855416509.nc\n",
      "427\n"
     ]
    },
    {
     "name": "stderr",
     "output_type": "stream",
     "text": [
      "/Users/senyastein/miniconda3/envs/satenv/lib/python3.7/site-packages/xarray/core/nanops.py:159: RuntimeWarning: Mean of empty slice\n",
      "  return np.nanmean(a, axis=axis, dtype=dtype)\n",
      "/Users/senyastein/miniconda3/envs/satenv/lib/python3.7/site-packages/xarray/core/nanops.py:159: RuntimeWarning: Mean of empty slice\n",
      "  return np.nanmean(a, axis=axis, dtype=dtype)\n",
      "/Users/senyastein/miniconda3/envs/satenv/lib/python3.7/site-packages/xarray/core/nanops.py:159: RuntimeWarning: Mean of empty slice\n",
      "  return np.nanmean(a, axis=axis, dtype=dtype)\n"
     ]
    },
    {
     "name": "stdout",
     "output_type": "stream",
     "text": [
      "./1025/saildrone-gen_5-west_coast_survey_2018-sd1025-20180718T080000-20180718T095959-1_minutes-v2.1535059848949.nc\n",
      "428\n",
      "./1025/saildrone-gen_5-west_coast_survey_2018-sd1025-20180904T220000-20180904T235959-1_minutes-v2.1536107415340.nc\n"
     ]
    },
    {
     "name": "stderr",
     "output_type": "stream",
     "text": [
      "/Users/senyastein/miniconda3/envs/satenv/lib/python3.7/site-packages/xarray/core/nanops.py:159: RuntimeWarning: Mean of empty slice\n",
      "  return np.nanmean(a, axis=axis, dtype=dtype)\n",
      "/Users/senyastein/miniconda3/envs/satenv/lib/python3.7/site-packages/xarray/core/nanops.py:159: RuntimeWarning: Mean of empty slice\n",
      "  return np.nanmean(a, axis=axis, dtype=dtype)\n"
     ]
    },
    {
     "name": "stdout",
     "output_type": "stream",
     "text": [
      "429\n",
      "./1025/saildrone-gen_5-west_coast_survey_2018-sd1025-20180731T220000-20180731T235959-1_minutes-v2.1535064937043.nc\n",
      "430\n",
      "./1025/saildrone-gen_5-west_coast_survey_2018-sd1025-20181004T040000-20181004T055959-1_minutes-v2.1538634612549.nc\n",
      "431\n"
     ]
    },
    {
     "name": "stderr",
     "output_type": "stream",
     "text": [
      "/Users/senyastein/miniconda3/envs/satenv/lib/python3.7/site-packages/xarray/core/nanops.py:159: RuntimeWarning: Mean of empty slice\n",
      "  return np.nanmean(a, axis=axis, dtype=dtype)\n",
      "/Users/senyastein/miniconda3/envs/satenv/lib/python3.7/site-packages/xarray/core/nanops.py:159: RuntimeWarning: Mean of empty slice\n",
      "  return np.nanmean(a, axis=axis, dtype=dtype)\n"
     ]
    },
    {
     "name": "stdout",
     "output_type": "stream",
     "text": [
      "./1025/saildrone-gen_5-west_coast_survey_2018-sd1025-20180930T180000-20180930T195959-1_minutes-v2.1538339413380.nc\n",
      "432\n",
      "./1025/saildrone-gen_5-west_coast_survey_2018-sd1025-20180729T060000-20180729T075959-1_minutes-v2.1535063807185.nc\n"
     ]
    },
    {
     "name": "stderr",
     "output_type": "stream",
     "text": [
      "/Users/senyastein/miniconda3/envs/satenv/lib/python3.7/site-packages/xarray/core/nanops.py:159: RuntimeWarning: Mean of empty slice\n",
      "  return np.nanmean(a, axis=axis, dtype=dtype)\n",
      "/Users/senyastein/miniconda3/envs/satenv/lib/python3.7/site-packages/xarray/core/nanops.py:159: RuntimeWarning: Mean of empty slice\n",
      "  return np.nanmean(a, axis=axis, dtype=dtype)\n"
     ]
    },
    {
     "name": "stdout",
     "output_type": "stream",
     "text": [
      "433\n",
      "./1025/saildrone-gen_5-west_coast_survey_2018-sd1025-20180929T020000-20180929T035959-1_minutes-v2.1538195412385.nc\n",
      "434\n",
      "./1025/saildrone-gen_5-west_coast_survey_2018-sd1025-20180630T020000-20180630T035959-1_minutes-v2.1535045381588.nc\n"
     ]
    },
    {
     "name": "stderr",
     "output_type": "stream",
     "text": [
      "/Users/senyastein/miniconda3/envs/satenv/lib/python3.7/site-packages/xarray/core/nanops.py:159: RuntimeWarning: Mean of empty slice\n",
      "  return np.nanmean(a, axis=axis, dtype=dtype)\n",
      "/Users/senyastein/miniconda3/envs/satenv/lib/python3.7/site-packages/xarray/core/nanops.py:159: RuntimeWarning: Mean of empty slice\n",
      "  return np.nanmean(a, axis=axis, dtype=dtype)\n",
      "/Users/senyastein/miniconda3/envs/satenv/lib/python3.7/site-packages/xarray/core/nanops.py:159: RuntimeWarning: Mean of empty slice\n",
      "  return np.nanmean(a, axis=axis, dtype=dtype)\n"
     ]
    },
    {
     "name": "stdout",
     "output_type": "stream",
     "text": [
      "435\n",
      "./1025/saildrone-gen_5-west_coast_survey_2018-sd1025-20180806T100000-20180806T115959-1_minutes-v2.1535065735152.nc\n",
      "436\n",
      "./1025/saildrone-gen_5-west_coast_survey_2018-sd1025-20181024T080000-20181024T095959-1_minutes-v2.1540377013491.nc\n",
      "437\n",
      "./1025/saildrone-gen_5-west_coast_survey_2018-sd1025-20180902T180000-20180902T195959-1_minutes-v2.1535920214830.nc\n",
      "438\n",
      "./1025/saildrone-gen_5-west_coast_survey_2018-sd1025-20180815T180000-20180815T195959-1_minutes-v2.1535066164217.nc\n"
     ]
    },
    {
     "name": "stderr",
     "output_type": "stream",
     "text": [
      "/Users/senyastein/miniconda3/envs/satenv/lib/python3.7/site-packages/xarray/core/nanops.py:159: RuntimeWarning: Mean of empty slice\n",
      "  return np.nanmean(a, axis=axis, dtype=dtype)\n",
      "/Users/senyastein/miniconda3/envs/satenv/lib/python3.7/site-packages/xarray/core/nanops.py:159: RuntimeWarning: Mean of empty slice\n",
      "  return np.nanmean(a, axis=axis, dtype=dtype)\n"
     ]
    },
    {
     "name": "stdout",
     "output_type": "stream",
     "text": [
      "439\n",
      "./1025/saildrone-gen_5-west_coast_survey_2018-sd1025-20180806T000000-20180806T015959-1_minutes-v2.1535065740809.nc\n",
      "440\n",
      "./1025/saildrone-gen_5-west_coast_survey_2018-sd1025-20180711T160000-20180711T175959-1_minutes-v2.1535056059104.nc\n"
     ]
    },
    {
     "name": "stderr",
     "output_type": "stream",
     "text": [
      "/Users/senyastein/miniconda3/envs/satenv/lib/python3.7/site-packages/xarray/core/nanops.py:159: RuntimeWarning: Mean of empty slice\n",
      "  return np.nanmean(a, axis=axis, dtype=dtype)\n",
      "/Users/senyastein/miniconda3/envs/satenv/lib/python3.7/site-packages/xarray/core/nanops.py:159: RuntimeWarning: Mean of empty slice\n",
      "  return np.nanmean(a, axis=axis, dtype=dtype)\n"
     ]
    },
    {
     "name": "stdout",
     "output_type": "stream",
     "text": [
      "441\n",
      "./1025/saildrone-gen_5-west_coast_survey_2018-sd1025-20180912T100000-20180912T115959-1_minutes-v2.1536755415073.nc\n",
      "442\n",
      "./1025/saildrone-gen_5-west_coast_survey_2018-sd1025-20180709T160000-20180709T175959-1_minutes-v2.1535055326508.nc\n"
     ]
    },
    {
     "name": "stderr",
     "output_type": "stream",
     "text": [
      "/Users/senyastein/miniconda3/envs/satenv/lib/python3.7/site-packages/xarray/core/nanops.py:159: RuntimeWarning: Mean of empty slice\n",
      "  return np.nanmean(a, axis=axis, dtype=dtype)\n",
      "/Users/senyastein/miniconda3/envs/satenv/lib/python3.7/site-packages/xarray/core/nanops.py:159: RuntimeWarning: Mean of empty slice\n",
      "  return np.nanmean(a, axis=axis, dtype=dtype)\n"
     ]
    },
    {
     "name": "stdout",
     "output_type": "stream",
     "text": [
      "443\n",
      "./1025/saildrone-gen_5-west_coast_survey_2018-sd1025-20181014T040000-20181014T055959-1_minutes-v2.1539498610753.nc\n",
      "444\n",
      "./1025/saildrone-gen_5-west_coast_survey_2018-sd1025-20180731T200000-20180731T215959-1_minutes-v2.1535064911394.nc\n"
     ]
    },
    {
     "name": "stderr",
     "output_type": "stream",
     "text": [
      "/Users/senyastein/miniconda3/envs/satenv/lib/python3.7/site-packages/xarray/core/nanops.py:159: RuntimeWarning: Mean of empty slice\n",
      "  return np.nanmean(a, axis=axis, dtype=dtype)\n",
      "/Users/senyastein/miniconda3/envs/satenv/lib/python3.7/site-packages/xarray/core/nanops.py:159: RuntimeWarning: Mean of empty slice\n",
      "  return np.nanmean(a, axis=axis, dtype=dtype)\n"
     ]
    },
    {
     "name": "stdout",
     "output_type": "stream",
     "text": [
      "445\n",
      "./1025/saildrone-gen_5-west_coast_survey_2018-sd1025-20180809T160000-20180809T175959-1_minutes-v2.1535065758614.nc\n",
      "446\n",
      "./1025/saildrone-gen_5-west_coast_survey_2018-sd1025-20180717T220000-20180717T235959-1_minutes-v2.1535059698772.nc\n",
      "447\n",
      "./1025/saildrone-gen_5-west_coast_survey_2018-sd1025-20180711T100000-20180711T115959-1_minutes-v2.1535055968361.nc\n"
     ]
    },
    {
     "name": "stderr",
     "output_type": "stream",
     "text": [
      "/Users/senyastein/miniconda3/envs/satenv/lib/python3.7/site-packages/xarray/core/nanops.py:159: RuntimeWarning: Mean of empty slice\n",
      "  return np.nanmean(a, axis=axis, dtype=dtype)\n",
      "/Users/senyastein/miniconda3/envs/satenv/lib/python3.7/site-packages/xarray/core/nanops.py:159: RuntimeWarning: Mean of empty slice\n",
      "  return np.nanmean(a, axis=axis, dtype=dtype)\n",
      "/Users/senyastein/miniconda3/envs/satenv/lib/python3.7/site-packages/xarray/core/nanops.py:159: RuntimeWarning: Mean of empty slice\n",
      "  return np.nanmean(a, axis=axis, dtype=dtype)\n",
      "/Users/senyastein/miniconda3/envs/satenv/lib/python3.7/site-packages/xarray/core/nanops.py:159: RuntimeWarning: Mean of empty slice\n",
      "  return np.nanmean(a, axis=axis, dtype=dtype)\n",
      "/Users/senyastein/miniconda3/envs/satenv/lib/python3.7/site-packages/xarray/core/nanops.py:159: RuntimeWarning: Mean of empty slice\n",
      "  return np.nanmean(a, axis=axis, dtype=dtype)\n"
     ]
    },
    {
     "name": "stdout",
     "output_type": "stream",
     "text": [
      "448\n",
      "./1025/saildrone-gen_5-west_coast_survey_2018-sd1025-20180728T220000-20180728T235959-1_minutes-v2.1535063686353.nc\n",
      "449\n",
      "./1025/saildrone-gen_5-west_coast_survey_2018-sd1025-20180930T120000-20180930T135959-1_minutes-v2.1538317813302.nc\n",
      "450\n",
      "./1025/saildrone-gen_5-west_coast_survey_2018-sd1025-20180921T060000-20180921T075959-1_minutes-v2.1537518614902.nc\n",
      "451\n",
      "./1025/saildrone-gen_5-west_coast_survey_2018-sd1025-20180712T220000-20180712T235959-1_minutes-v2.1535056515651.nc\n"
     ]
    },
    {
     "name": "stderr",
     "output_type": "stream",
     "text": [
      "/Users/senyastein/miniconda3/envs/satenv/lib/python3.7/site-packages/xarray/core/nanops.py:159: RuntimeWarning: Mean of empty slice\n",
      "  return np.nanmean(a, axis=axis, dtype=dtype)\n",
      "/Users/senyastein/miniconda3/envs/satenv/lib/python3.7/site-packages/xarray/core/nanops.py:159: RuntimeWarning: Mean of empty slice\n",
      "  return np.nanmean(a, axis=axis, dtype=dtype)\n"
     ]
    },
    {
     "name": "stdout",
     "output_type": "stream",
     "text": [
      "452\n",
      "./1025/saildrone-gen_5-west_coast_survey_2018-sd1025-20180912T120000-20180912T135959-1_minutes-v2.1536762629702.nc\n",
      "453\n",
      "./1025/saildrone-gen_5-west_coast_survey_2018-sd1025-20180914T120000-20180914T135959-1_minutes-v2.1536935416391.nc\n",
      "454\n"
     ]
    },
    {
     "name": "stderr",
     "output_type": "stream",
     "text": [
      "/Users/senyastein/miniconda3/envs/satenv/lib/python3.7/site-packages/xarray/core/nanops.py:159: RuntimeWarning: Mean of empty slice\n",
      "  return np.nanmean(a, axis=axis, dtype=dtype)\n",
      "/Users/senyastein/miniconda3/envs/satenv/lib/python3.7/site-packages/xarray/core/nanops.py:159: RuntimeWarning: Mean of empty slice\n",
      "  return np.nanmean(a, axis=axis, dtype=dtype)\n",
      "/Users/senyastein/miniconda3/envs/satenv/lib/python3.7/site-packages/xarray/core/nanops.py:159: RuntimeWarning: Mean of empty slice\n",
      "  return np.nanmean(a, axis=axis, dtype=dtype)\n"
     ]
    },
    {
     "name": "stdout",
     "output_type": "stream",
     "text": [
      "./1025/saildrone-gen_5-west_coast_survey_2018-sd1025-20180728T000000-20180728T015959-1_minutes-v2.1535063351329.nc\n",
      "455\n",
      "./1025/saildrone-gen_5-west_coast_survey_2018-sd1025-20180807T080000-20180807T095959-1_minutes-v2.1535065748297.nc\n"
     ]
    },
    {
     "name": "stderr",
     "output_type": "stream",
     "text": [
      "/Users/senyastein/miniconda3/envs/satenv/lib/python3.7/site-packages/xarray/core/nanops.py:159: RuntimeWarning: Mean of empty slice\n",
      "  return np.nanmean(a, axis=axis, dtype=dtype)\n",
      "/Users/senyastein/miniconda3/envs/satenv/lib/python3.7/site-packages/xarray/core/nanops.py:159: RuntimeWarning: Mean of empty slice\n",
      "  return np.nanmean(a, axis=axis, dtype=dtype)\n"
     ]
    },
    {
     "name": "stdout",
     "output_type": "stream",
     "text": [
      "456\n",
      "./1025/saildrone-gen_5-west_coast_survey_2018-sd1025-20180711T060000-20180711T075959-1_minutes-v2.1535055907397.nc\n",
      "457\n",
      "./1025/saildrone-gen_5-west_coast_survey_2018-sd1025-20181019T120000-20181019T135959-1_minutes-v2.1539959414072.nc\n"
     ]
    },
    {
     "name": "stderr",
     "output_type": "stream",
     "text": [
      "/Users/senyastein/miniconda3/envs/satenv/lib/python3.7/site-packages/xarray/core/nanops.py:159: RuntimeWarning: Mean of empty slice\n",
      "  return np.nanmean(a, axis=axis, dtype=dtype)\n",
      "/Users/senyastein/miniconda3/envs/satenv/lib/python3.7/site-packages/xarray/core/nanops.py:159: RuntimeWarning: Mean of empty slice\n",
      "  return np.nanmean(a, axis=axis, dtype=dtype)\n"
     ]
    },
    {
     "name": "stdout",
     "output_type": "stream",
     "text": [
      "458\n",
      "./1025/saildrone-gen_5-west_coast_survey_2018-sd1025-20180808T020000-20180808T035959-1_minutes-v2.1535065753833.nc\n",
      "459\n",
      "./1025/saildrone-gen_5-west_coast_survey_2018-sd1025-20180927T120000-20180927T135959-1_minutes-v2.1538058616420.nc\n"
     ]
    },
    {
     "name": "stderr",
     "output_type": "stream",
     "text": [
      "/Users/senyastein/miniconda3/envs/satenv/lib/python3.7/site-packages/xarray/core/nanops.py:159: RuntimeWarning: Mean of empty slice\n",
      "  return np.nanmean(a, axis=axis, dtype=dtype)\n",
      "/Users/senyastein/miniconda3/envs/satenv/lib/python3.7/site-packages/xarray/core/nanops.py:159: RuntimeWarning: Mean of empty slice\n",
      "  return np.nanmean(a, axis=axis, dtype=dtype)\n"
     ]
    },
    {
     "name": "stdout",
     "output_type": "stream",
     "text": [
      "460\n",
      "./1025/saildrone-gen_5-west_coast_survey_2018-sd1025-20180802T160000-20180802T175959-1_minutes-v2.1535065722150.nc\n",
      "461\n",
      "./1025/saildrone-gen_5-west_coast_survey_2018-sd1025-20180726T020000-20180726T035959-1_minutes-v2.1535062652857.nc\n"
     ]
    },
    {
     "name": "stderr",
     "output_type": "stream",
     "text": [
      "/Users/senyastein/miniconda3/envs/satenv/lib/python3.7/site-packages/xarray/core/nanops.py:159: RuntimeWarning: Mean of empty slice\n",
      "  return np.nanmean(a, axis=axis, dtype=dtype)\n",
      "/Users/senyastein/miniconda3/envs/satenv/lib/python3.7/site-packages/xarray/core/nanops.py:159: RuntimeWarning: Mean of empty slice\n",
      "  return np.nanmean(a, axis=axis, dtype=dtype)\n"
     ]
    },
    {
     "name": "stdout",
     "output_type": "stream",
     "text": [
      "462\n",
      "./1025/saildrone-gen_5-west_coast_survey_2018-sd1025-20180731T040000-20180731T055959-1_minutes-v2.1535064666097.nc\n",
      "463\n",
      "./1025/saildrone-gen_5-west_coast_survey_2018-sd1025-20180903T100000-20180903T115959-1_minutes-v2.1535977815777.nc\n"
     ]
    },
    {
     "name": "stderr",
     "output_type": "stream",
     "text": [
      "/Users/senyastein/miniconda3/envs/satenv/lib/python3.7/site-packages/xarray/core/nanops.py:159: RuntimeWarning: Mean of empty slice\n",
      "  return np.nanmean(a, axis=axis, dtype=dtype)\n"
     ]
    },
    {
     "name": "stdout",
     "output_type": "stream",
     "text": [
      "464\n",
      "./1025/saildrone-gen_5-west_coast_survey_2018-sd1025-20180808T200000-20180808T215959-1_minutes-v2.1535065749894.nc\n",
      "465\n",
      "./1025/saildrone-gen_5-west_coast_survey_2018-sd1025-20180803T200000-20180803T215959-1_minutes-v2.1535065735569.nc\n"
     ]
    },
    {
     "name": "stderr",
     "output_type": "stream",
     "text": [
      "/Users/senyastein/miniconda3/envs/satenv/lib/python3.7/site-packages/xarray/core/nanops.py:159: RuntimeWarning: Mean of empty slice\n",
      "  return np.nanmean(a, axis=axis, dtype=dtype)\n",
      "/Users/senyastein/miniconda3/envs/satenv/lib/python3.7/site-packages/xarray/core/nanops.py:159: RuntimeWarning: Mean of empty slice\n",
      "  return np.nanmean(a, axis=axis, dtype=dtype)\n"
     ]
    },
    {
     "name": "stdout",
     "output_type": "stream",
     "text": [
      "466\n",
      "./1025/saildrone-gen_5-west_coast_survey_2018-sd1025-20180921T080000-20180921T095959-1_minutes-v2.1537525816746.nc\n",
      "467\n",
      "./1025/saildrone-gen_5-west_coast_survey_2018-sd1025-20180922T180000-20180922T195959-1_minutes-v2.1537648215059.nc\n"
     ]
    },
    {
     "name": "stderr",
     "output_type": "stream",
     "text": [
      "/Users/senyastein/miniconda3/envs/satenv/lib/python3.7/site-packages/xarray/core/nanops.py:159: RuntimeWarning: Mean of empty slice\n",
      "  return np.nanmean(a, axis=axis, dtype=dtype)\n",
      "/Users/senyastein/miniconda3/envs/satenv/lib/python3.7/site-packages/xarray/core/nanops.py:159: RuntimeWarning: Mean of empty slice\n",
      "  return np.nanmean(a, axis=axis, dtype=dtype)\n"
     ]
    },
    {
     "name": "stdout",
     "output_type": "stream",
     "text": [
      "468\n",
      "./1025/saildrone-gen_5-west_coast_survey_2018-sd1025-20180830T040000-20180830T055959-1_minutes-v2.1535610615338.nc\n",
      "469\n",
      "./1025/saildrone-gen_5-west_coast_survey_2018-sd1025-20180819T020000-20180819T035959-1_minutes-v2.1535066192550.nc\n"
     ]
    },
    {
     "name": "stderr",
     "output_type": "stream",
     "text": [
      "/Users/senyastein/miniconda3/envs/satenv/lib/python3.7/site-packages/xarray/core/nanops.py:159: RuntimeWarning: Mean of empty slice\n",
      "  return np.nanmean(a, axis=axis, dtype=dtype)\n",
      "/Users/senyastein/miniconda3/envs/satenv/lib/python3.7/site-packages/xarray/core/nanops.py:159: RuntimeWarning: Mean of empty slice\n",
      "  return np.nanmean(a, axis=axis, dtype=dtype)\n"
     ]
    },
    {
     "name": "stdout",
     "output_type": "stream",
     "text": [
      "470\n",
      "./1025/saildrone-gen_5-west_coast_survey_2018-sd1025-20180902T020000-20180902T035959-1_minutes-v2.1535862615062.nc\n",
      "471\n",
      "./1025/saildrone-gen_5-west_coast_survey_2018-sd1025-20180812T080000-20180812T095959-1_minutes-v2.1535066148125.nc\n"
     ]
    },
    {
     "name": "stderr",
     "output_type": "stream",
     "text": [
      "/Users/senyastein/miniconda3/envs/satenv/lib/python3.7/site-packages/xarray/core/nanops.py:159: RuntimeWarning: Mean of empty slice\n",
      "  return np.nanmean(a, axis=axis, dtype=dtype)\n",
      "/Users/senyastein/miniconda3/envs/satenv/lib/python3.7/site-packages/xarray/core/nanops.py:159: RuntimeWarning: Mean of empty slice\n",
      "  return np.nanmean(a, axis=axis, dtype=dtype)\n"
     ]
    },
    {
     "name": "stdout",
     "output_type": "stream",
     "text": [
      "472\n",
      "./1025/saildrone-gen_5-west_coast_survey_2018-sd1025-20180714T160000-20180714T175959-1_minutes-v2.1535058517124.nc\n"
     ]
    },
    {
     "name": "stderr",
     "output_type": "stream",
     "text": [
      "/Users/senyastein/miniconda3/envs/satenv/lib/python3.7/site-packages/xarray/core/nanops.py:159: RuntimeWarning: Mean of empty slice\n",
      "  return np.nanmean(a, axis=axis, dtype=dtype)\n"
     ]
    },
    {
     "name": "stdout",
     "output_type": "stream",
     "text": [
      "473\n",
      "./1025/saildrone-gen_5-west_coast_survey_2018-sd1025-20180818T180000-20180818T195959-1_minutes-v2.1535066179750.nc\n",
      "474\n",
      "./1025/saildrone-gen_5-west_coast_survey_2018-sd1025-20180814T160000-20180814T175959-1_minutes-v2.1535066169642.nc\n"
     ]
    },
    {
     "name": "stderr",
     "output_type": "stream",
     "text": [
      "/Users/senyastein/miniconda3/envs/satenv/lib/python3.7/site-packages/xarray/core/nanops.py:159: RuntimeWarning: Mean of empty slice\n",
      "  return np.nanmean(a, axis=axis, dtype=dtype)\n",
      "/Users/senyastein/miniconda3/envs/satenv/lib/python3.7/site-packages/xarray/core/nanops.py:159: RuntimeWarning: Mean of empty slice\n",
      "  return np.nanmean(a, axis=axis, dtype=dtype)\n"
     ]
    },
    {
     "name": "stdout",
     "output_type": "stream",
     "text": [
      "475\n",
      "./1025/saildrone-gen_5-west_coast_survey_2018-sd1025-20181020T080000-20181020T095959-1_minutes-v2.1540031412157.nc\n",
      "476\n",
      "./1025/saildrone-gen_5-west_coast_survey_2018-sd1025-20181011T160000-20181011T175959-1_minutes-v2.1539282611309.nc\n"
     ]
    },
    {
     "name": "stderr",
     "output_type": "stream",
     "text": [
      "/Users/senyastein/miniconda3/envs/satenv/lib/python3.7/site-packages/xarray/core/nanops.py:159: RuntimeWarning: Mean of empty slice\n",
      "  return np.nanmean(a, axis=axis, dtype=dtype)\n",
      "/Users/senyastein/miniconda3/envs/satenv/lib/python3.7/site-packages/xarray/core/nanops.py:159: RuntimeWarning: Mean of empty slice\n",
      "  return np.nanmean(a, axis=axis, dtype=dtype)\n"
     ]
    },
    {
     "name": "stdout",
     "output_type": "stream",
     "text": [
      "477\n",
      "./1025/saildrone-gen_5-west_coast_survey_2018-sd1025-20180729T200000-20180729T215959-1_minutes-v2.1535064019823.nc\n",
      "478\n",
      "./1025/saildrone-gen_5-west_coast_survey_2018-sd1025-20181016T020000-20181016T035959-1_minutes-v2.1539664210198.nc\n",
      "479\n"
     ]
    },
    {
     "name": "stderr",
     "output_type": "stream",
     "text": [
      "/Users/senyastein/miniconda3/envs/satenv/lib/python3.7/site-packages/xarray/core/nanops.py:159: RuntimeWarning: Mean of empty slice\n",
      "  return np.nanmean(a, axis=axis, dtype=dtype)\n",
      "/Users/senyastein/miniconda3/envs/satenv/lib/python3.7/site-packages/xarray/core/nanops.py:159: RuntimeWarning: Mean of empty slice\n",
      "  return np.nanmean(a, axis=axis, dtype=dtype)\n",
      "/Users/senyastein/miniconda3/envs/satenv/lib/python3.7/site-packages/xarray/core/nanops.py:159: RuntimeWarning: Mean of empty slice\n",
      "  return np.nanmean(a, axis=axis, dtype=dtype)\n"
     ]
    },
    {
     "name": "stdout",
     "output_type": "stream",
     "text": [
      "./1025/saildrone-gen_5-west_coast_survey_2018-sd1025-20180628T080000-20180628T095959-1_minutes-v2.1535044765291.nc\n",
      "480\n",
      "./1025/saildrone-gen_5-west_coast_survey_2018-sd1025-20181008T080000-20181008T095959-1_minutes-v2.1538994612602.nc\n",
      "481\n",
      "./1025/saildrone-gen_5-west_coast_survey_2018-sd1025-20180918T040000-20180918T055959-1_minutes-v2.1537252229321.nc\n"
     ]
    },
    {
     "name": "stderr",
     "output_type": "stream",
     "text": [
      "/Users/senyastein/miniconda3/envs/satenv/lib/python3.7/site-packages/xarray/core/nanops.py:159: RuntimeWarning: Mean of empty slice\n",
      "  return np.nanmean(a, axis=axis, dtype=dtype)\n",
      "/Users/senyastein/miniconda3/envs/satenv/lib/python3.7/site-packages/xarray/core/nanops.py:159: RuntimeWarning: Mean of empty slice\n",
      "  return np.nanmean(a, axis=axis, dtype=dtype)\n"
     ]
    },
    {
     "name": "stdout",
     "output_type": "stream",
     "text": [
      "482\n",
      "./1025/saildrone-gen_5-west_coast_survey_2018-sd1025-20180811T180000-20180811T195959-1_minutes-v2.1535066152581.nc\n",
      "483\n",
      "./1025/saildrone-gen_5-west_coast_survey_2018-sd1025-20180728T180000-20180728T195959-1_minutes-v2.1535063625516.nc\n"
     ]
    },
    {
     "name": "stderr",
     "output_type": "stream",
     "text": [
      "/Users/senyastein/miniconda3/envs/satenv/lib/python3.7/site-packages/xarray/core/nanops.py:159: RuntimeWarning: Mean of empty slice\n",
      "  return np.nanmean(a, axis=axis, dtype=dtype)\n",
      "/Users/senyastein/miniconda3/envs/satenv/lib/python3.7/site-packages/xarray/core/nanops.py:159: RuntimeWarning: Mean of empty slice\n",
      "  return np.nanmean(a, axis=axis, dtype=dtype)\n"
     ]
    },
    {
     "name": "stdout",
     "output_type": "stream",
     "text": [
      "484\n",
      "./1025/saildrone-gen_5-west_coast_survey_2018-sd1025-20180629T020000-20180629T035959-1_minutes-v2.1535045027998.nc\n",
      "485\n",
      "./1025/saildrone-gen_5-west_coast_survey_2018-sd1025-20180919T180000-20180919T195959-1_minutes-v2.1537389014922.nc\n"
     ]
    },
    {
     "name": "stderr",
     "output_type": "stream",
     "text": [
      "/Users/senyastein/miniconda3/envs/satenv/lib/python3.7/site-packages/xarray/core/nanops.py:159: RuntimeWarning: Mean of empty slice\n",
      "  return np.nanmean(a, axis=axis, dtype=dtype)\n",
      "/Users/senyastein/miniconda3/envs/satenv/lib/python3.7/site-packages/xarray/core/nanops.py:159: RuntimeWarning: Mean of empty slice\n",
      "  return np.nanmean(a, axis=axis, dtype=dtype)\n"
     ]
    },
    {
     "name": "stdout",
     "output_type": "stream",
     "text": [
      "486\n",
      "./1025/saildrone-gen_5-west_coast_survey_2018-sd1025-20180812T060000-20180812T075959-1_minutes-v2.1535066155592.nc\n",
      "487\n",
      "./1025/saildrone-gen_5-west_coast_survey_2018-sd1025-20180627T080000-20180627T095959-1_minutes-v2.1535042401672.nc\n"
     ]
    },
    {
     "name": "stderr",
     "output_type": "stream",
     "text": [
      "/Users/senyastein/miniconda3/envs/satenv/lib/python3.7/site-packages/xarray/core/nanops.py:159: RuntimeWarning: Mean of empty slice\n",
      "  return np.nanmean(a, axis=axis, dtype=dtype)\n",
      "/Users/senyastein/miniconda3/envs/satenv/lib/python3.7/site-packages/xarray/core/nanops.py:159: RuntimeWarning: Mean of empty slice\n",
      "  return np.nanmean(a, axis=axis, dtype=dtype)\n"
     ]
    },
    {
     "name": "stdout",
     "output_type": "stream",
     "text": [
      "488\n",
      "./1025/saildrone-gen_5-west_coast_survey_2018-sd1025-20180724T080000-20180724T095959-1_minutes-v2.1535062017277.nc\n",
      "489\n",
      "./1025/saildrone-gen_5-west_coast_survey_2018-sd1025-20180824T060000-20180824T075959-1_minutes-v2.1535099415335.nc\n"
     ]
    },
    {
     "name": "stderr",
     "output_type": "stream",
     "text": [
      "/Users/senyastein/miniconda3/envs/satenv/lib/python3.7/site-packages/xarray/core/nanops.py:159: RuntimeWarning: Mean of empty slice\n",
      "  return np.nanmean(a, axis=axis, dtype=dtype)\n",
      "/Users/senyastein/miniconda3/envs/satenv/lib/python3.7/site-packages/xarray/core/nanops.py:159: RuntimeWarning: Mean of empty slice\n",
      "  return np.nanmean(a, axis=axis, dtype=dtype)\n"
     ]
    },
    {
     "name": "stdout",
     "output_type": "stream",
     "text": [
      "490\n",
      "./1025/saildrone-gen_5-west_coast_survey_2018-sd1025-20181023T140000-20181023T155959-1_minutes-v2.1540312259667.nc\n",
      "491\n",
      "./1025/saildrone-gen_5-west_coast_survey_2018-sd1025-20180703T000000-20180703T015959-1_minutes-v2.1535046442124.nc\n"
     ]
    },
    {
     "name": "stderr",
     "output_type": "stream",
     "text": [
      "/Users/senyastein/miniconda3/envs/satenv/lib/python3.7/site-packages/xarray/core/nanops.py:159: RuntimeWarning: Mean of empty slice\n",
      "  return np.nanmean(a, axis=axis, dtype=dtype)\n",
      "/Users/senyastein/miniconda3/envs/satenv/lib/python3.7/site-packages/xarray/core/nanops.py:159: RuntimeWarning: Mean of empty slice\n",
      "  return np.nanmean(a, axis=axis, dtype=dtype)\n"
     ]
    },
    {
     "name": "stdout",
     "output_type": "stream",
     "text": [
      "492\n",
      "./1025/saildrone-gen_5-west_coast_survey_2018-sd1025-20180920T040000-20180920T055959-1_minutes-v2.1537425029235.nc\n",
      "493\n",
      "./1025/saildrone-gen_5-west_coast_survey_2018-sd1025-20180819T120000-20180819T135959-1_minutes-v2.1535066191645.nc\n"
     ]
    },
    {
     "name": "stderr",
     "output_type": "stream",
     "text": [
      "/Users/senyastein/miniconda3/envs/satenv/lib/python3.7/site-packages/xarray/core/nanops.py:159: RuntimeWarning: Mean of empty slice\n",
      "  return np.nanmean(a, axis=axis, dtype=dtype)\n",
      "/Users/senyastein/miniconda3/envs/satenv/lib/python3.7/site-packages/xarray/core/nanops.py:159: RuntimeWarning: Mean of empty slice\n",
      "  return np.nanmean(a, axis=axis, dtype=dtype)\n"
     ]
    },
    {
     "name": "stdout",
     "output_type": "stream",
     "text": [
      "494\n",
      "./1025/saildrone-gen_5-west_coast_survey_2018-sd1025-20181023T220000-20181023T235959-1_minutes-v2.1540341135766.nc\n",
      "495\n",
      "./1025/saildrone-gen_5-west_coast_survey_2018-sd1025-20181017T140000-20181017T155959-1_minutes-v2.1539793812369.nc\n",
      "496\n",
      "./1025/saildrone-gen_5-west_coast_survey_2018-sd1025-20180705T220000-20180705T235959-1_minutes-v2.1535049479007.nc\n"
     ]
    },
    {
     "name": "stderr",
     "output_type": "stream",
     "text": [
      "/Users/senyastein/miniconda3/envs/satenv/lib/python3.7/site-packages/xarray/core/nanops.py:159: RuntimeWarning: Mean of empty slice\n",
      "  return np.nanmean(a, axis=axis, dtype=dtype)\n",
      "/Users/senyastein/miniconda3/envs/satenv/lib/python3.7/site-packages/xarray/core/nanops.py:159: RuntimeWarning: Mean of empty slice\n",
      "  return np.nanmean(a, axis=axis, dtype=dtype)\n",
      "/Users/senyastein/miniconda3/envs/satenv/lib/python3.7/site-packages/xarray/core/nanops.py:159: RuntimeWarning: Mean of empty slice\n",
      "  return np.nanmean(a, axis=axis, dtype=dtype)\n",
      "/Users/senyastein/miniconda3/envs/satenv/lib/python3.7/site-packages/xarray/core/nanops.py:159: RuntimeWarning: Mean of empty slice\n",
      "  return np.nanmean(a, axis=axis, dtype=dtype)\n",
      "/Users/senyastein/miniconda3/envs/satenv/lib/python3.7/site-packages/xarray/core/nanops.py:159: RuntimeWarning: Mean of empty slice\n",
      "  return np.nanmean(a, axis=axis, dtype=dtype)\n"
     ]
    },
    {
     "name": "stdout",
     "output_type": "stream",
     "text": [
      "497\n",
      "./1025/saildrone-gen_5-west_coast_survey_2018-sd1025-20180916T220000-20180916T235959-1_minutes-v2.1537144214846.nc\n",
      "498\n",
      "./1025/saildrone-gen_5-west_coast_survey_2018-sd1025-20180906T080000-20180906T095959-1_minutes-v2.1536229815563.nc\n",
      "499\n",
      "./1025/saildrone-gen_5-west_coast_survey_2018-sd1025-20181009T080000-20181009T095959-1_minutes-v2.1539081010812.nc\n",
      "500\n",
      "./1025/saildrone-gen_5-west_coast_survey_2018-sd1025-20180901T020000-20180901T035959-1_minutes-v2.1535776215555.nc\n",
      "501\n",
      "./1025/saildrone-gen_5-west_coast_survey_2018-sd1025-20180827T060000-20180827T075959-1_minutes-v2.1535358615361.nc\n"
     ]
    },
    {
     "name": "stderr",
     "output_type": "stream",
     "text": [
      "/Users/senyastein/miniconda3/envs/satenv/lib/python3.7/site-packages/xarray/core/nanops.py:159: RuntimeWarning: Mean of empty slice\n",
      "  return np.nanmean(a, axis=axis, dtype=dtype)\n",
      "/Users/senyastein/miniconda3/envs/satenv/lib/python3.7/site-packages/xarray/core/nanops.py:159: RuntimeWarning: Mean of empty slice\n",
      "  return np.nanmean(a, axis=axis, dtype=dtype)\n",
      "/Users/senyastein/miniconda3/envs/satenv/lib/python3.7/site-packages/xarray/core/nanops.py:159: RuntimeWarning: Mean of empty slice\n",
      "  return np.nanmean(a, axis=axis, dtype=dtype)\n",
      "/Users/senyastein/miniconda3/envs/satenv/lib/python3.7/site-packages/xarray/core/nanops.py:159: RuntimeWarning: Mean of empty slice\n",
      "  return np.nanmean(a, axis=axis, dtype=dtype)\n"
     ]
    },
    {
     "name": "stdout",
     "output_type": "stream",
     "text": [
      "502\n",
      "./1025/saildrone-gen_5-west_coast_survey_2018-sd1025-20180914T020000-20180914T035959-1_minutes-v2.1536899415487.nc\n",
      "503\n",
      "./1025/saildrone-gen_5-west_coast_survey_2018-sd1025-20180816T000000-20180816T015959-1_minutes-v2.1535066175710.nc\n"
     ]
    },
    {
     "name": "stderr",
     "output_type": "stream",
     "text": [
      "/Users/senyastein/miniconda3/envs/satenv/lib/python3.7/site-packages/xarray/core/nanops.py:159: RuntimeWarning: Mean of empty slice\n",
      "  return np.nanmean(a, axis=axis, dtype=dtype)\n",
      "/Users/senyastein/miniconda3/envs/satenv/lib/python3.7/site-packages/xarray/core/nanops.py:159: RuntimeWarning: Mean of empty slice\n",
      "  return np.nanmean(a, axis=axis, dtype=dtype)\n"
     ]
    },
    {
     "name": "stdout",
     "output_type": "stream",
     "text": [
      "504\n",
      "./1025/saildrone-gen_5-west_coast_survey_2018-sd1025-20180708T200000-20180708T215959-1_minutes-v2.1535055022327.nc\n",
      "505\n",
      "./1025/saildrone-gen_5-west_coast_survey_2018-sd1025-20180803T220000-20180803T235959-1_minutes-v2.1535065726565.nc\n"
     ]
    },
    {
     "name": "stderr",
     "output_type": "stream",
     "text": [
      "/Users/senyastein/miniconda3/envs/satenv/lib/python3.7/site-packages/xarray/core/nanops.py:159: RuntimeWarning: Mean of empty slice\n",
      "  return np.nanmean(a, axis=axis, dtype=dtype)\n",
      "/Users/senyastein/miniconda3/envs/satenv/lib/python3.7/site-packages/xarray/core/nanops.py:159: RuntimeWarning: Mean of empty slice\n",
      "  return np.nanmean(a, axis=axis, dtype=dtype)\n"
     ]
    },
    {
     "name": "stdout",
     "output_type": "stream",
     "text": [
      "506\n",
      "./1025/saildrone-gen_5-west_coast_survey_2018-sd1025-20180827T080000-20180827T095959-1_minutes-v2.1535365827722.nc\n",
      "507\n",
      "./1025/saildrone-gen_5-west_coast_survey_2018-sd1025-20180705T040000-20180705T055959-1_minutes-v2.1535049205138.nc\n"
     ]
    },
    {
     "name": "stderr",
     "output_type": "stream",
     "text": [
      "/Users/senyastein/miniconda3/envs/satenv/lib/python3.7/site-packages/xarray/core/nanops.py:159: RuntimeWarning: Mean of empty slice\n",
      "  return np.nanmean(a, axis=axis, dtype=dtype)\n",
      "/Users/senyastein/miniconda3/envs/satenv/lib/python3.7/site-packages/xarray/core/nanops.py:159: RuntimeWarning: Mean of empty slice\n",
      "  return np.nanmean(a, axis=axis, dtype=dtype)\n"
     ]
    },
    {
     "name": "stdout",
     "output_type": "stream",
     "text": [
      "508\n",
      "./1025/saildrone-gen_5-west_coast_survey_2018-sd1025-20180728T020000-20180728T035959-1_minutes-v2.1535063382091.nc\n",
      "509\n",
      "./1025/saildrone-gen_5-west_coast_survey_2018-sd1025-20181014T160000-20181014T175959-1_minutes-v2.1539541810500.nc\n"
     ]
    },
    {
     "name": "stderr",
     "output_type": "stream",
     "text": [
      "/Users/senyastein/miniconda3/envs/satenv/lib/python3.7/site-packages/xarray/core/nanops.py:159: RuntimeWarning: Mean of empty slice\n",
      "  return np.nanmean(a, axis=axis, dtype=dtype)\n",
      "/Users/senyastein/miniconda3/envs/satenv/lib/python3.7/site-packages/xarray/core/nanops.py:159: RuntimeWarning: Mean of empty slice\n",
      "  return np.nanmean(a, axis=axis, dtype=dtype)\n"
     ]
    },
    {
     "name": "stdout",
     "output_type": "stream",
     "text": [
      "510\n",
      "./1025/saildrone-gen_5-west_coast_survey_2018-sd1025-20180915T120000-20180915T135959-1_minutes-v2.1537021816712.nc\n",
      "511\n",
      "./1025/saildrone-gen_5-west_coast_survey_2018-sd1025-20181020T020000-20181020T035959-1_minutes-v2.1540009811749.nc\n"
     ]
    },
    {
     "name": "stderr",
     "output_type": "stream",
     "text": [
      "/Users/senyastein/miniconda3/envs/satenv/lib/python3.7/site-packages/xarray/core/nanops.py:159: RuntimeWarning: Mean of empty slice\n",
      "  return np.nanmean(a, axis=axis, dtype=dtype)\n"
     ]
    },
    {
     "name": "stdout",
     "output_type": "stream",
     "text": [
      "512\n",
      "./1025/saildrone-gen_5-west_coast_survey_2018-sd1025-20180812T020000-20180812T035959-1_minutes-v2.1535066147718.nc\n",
      "513\n",
      "./1025/saildrone-gen_5-west_coast_survey_2018-sd1025-20180825T020000-20180825T035959-1_minutes-v2.1535171414087.nc\n"
     ]
    },
    {
     "name": "stderr",
     "output_type": "stream",
     "text": [
      "/Users/senyastein/miniconda3/envs/satenv/lib/python3.7/site-packages/xarray/core/nanops.py:159: RuntimeWarning: Mean of empty slice\n",
      "  return np.nanmean(a, axis=axis, dtype=dtype)\n",
      "/Users/senyastein/miniconda3/envs/satenv/lib/python3.7/site-packages/xarray/core/nanops.py:159: RuntimeWarning: Mean of empty slice\n",
      "  return np.nanmean(a, axis=axis, dtype=dtype)\n"
     ]
    },
    {
     "name": "stdout",
     "output_type": "stream",
     "text": [
      "514\n",
      "./1025/saildrone-gen_5-west_coast_survey_2018-sd1025-20180826T040000-20180826T055959-1_minutes-v2.1535265014753.nc\n",
      "515\n",
      "./1025/saildrone-gen_5-west_coast_survey_2018-sd1025-20180708T000000-20180708T015959-1_minutes-v2.1535054719401.nc\n"
     ]
    },
    {
     "name": "stderr",
     "output_type": "stream",
     "text": [
      "/Users/senyastein/miniconda3/envs/satenv/lib/python3.7/site-packages/xarray/core/nanops.py:159: RuntimeWarning: Mean of empty slice\n",
      "  return np.nanmean(a, axis=axis, dtype=dtype)\n",
      "/Users/senyastein/miniconda3/envs/satenv/lib/python3.7/site-packages/xarray/core/nanops.py:159: RuntimeWarning: Mean of empty slice\n",
      "  return np.nanmean(a, axis=axis, dtype=dtype)\n"
     ]
    },
    {
     "name": "stdout",
     "output_type": "stream",
     "text": [
      "516\n",
      "./1025/saildrone-gen_5-west_coast_survey_2018-sd1025-20180917T140000-20180917T155959-1_minutes-v2.1537201815280.nc\n",
      "517\n",
      "./1025/saildrone-gen_5-west_coast_survey_2018-sd1025-20181010T080000-20181010T095959-1_minutes-v2.1539167410499.nc\n",
      "518\n"
     ]
    },
    {
     "name": "stderr",
     "output_type": "stream",
     "text": [
      "/Users/senyastein/miniconda3/envs/satenv/lib/python3.7/site-packages/xarray/core/nanops.py:159: RuntimeWarning: Mean of empty slice\n",
      "  return np.nanmean(a, axis=axis, dtype=dtype)\n",
      "/Users/senyastein/miniconda3/envs/satenv/lib/python3.7/site-packages/xarray/core/nanops.py:159: RuntimeWarning: Mean of empty slice\n",
      "  return np.nanmean(a, axis=axis, dtype=dtype)\n"
     ]
    },
    {
     "name": "stdout",
     "output_type": "stream",
     "text": [
      "./1025/saildrone-gen_5-west_coast_survey_2018-sd1025-20180923T180000-20180923T195959-1_minutes-v2.1537734614808.nc\n"
     ]
    },
    {
     "name": "stderr",
     "output_type": "stream",
     "text": [
      "/Users/senyastein/miniconda3/envs/satenv/lib/python3.7/site-packages/xarray/core/nanops.py:159: RuntimeWarning: Mean of empty slice\n",
      "  return np.nanmean(a, axis=axis, dtype=dtype)\n"
     ]
    },
    {
     "name": "stdout",
     "output_type": "stream",
     "text": [
      "519\n",
      "./1025/saildrone-gen_5-west_coast_survey_2018-sd1025-20181016T060000-20181016T075959-1_minutes-v2.1539678610851.nc\n",
      "520\n",
      "./1025/saildrone-gen_5-west_coast_survey_2018-sd1025-20181024T200000-20181024T215959-1_minutes-v2.1540420217017.nc\n"
     ]
    },
    {
     "name": "stderr",
     "output_type": "stream",
     "text": [
      "/Users/senyastein/miniconda3/envs/satenv/lib/python3.7/site-packages/xarray/core/nanops.py:159: RuntimeWarning: Mean of empty slice\n",
      "  return np.nanmean(a, axis=axis, dtype=dtype)\n",
      "/Users/senyastein/miniconda3/envs/satenv/lib/python3.7/site-packages/xarray/core/nanops.py:159: RuntimeWarning: Mean of empty slice\n",
      "  return np.nanmean(a, axis=axis, dtype=dtype)\n"
     ]
    },
    {
     "name": "stdout",
     "output_type": "stream",
     "text": [
      "521\n",
      "./1025/saildrone-gen_5-west_coast_survey_2018-sd1025-20180824T100000-20180824T115959-1_minutes-v2.1535113815252.nc\n",
      "522\n",
      "./1025/saildrone-gen_5-west_coast_survey_2018-sd1025-20180916T060000-20180916T075959-1_minutes-v2.1537086614360.nc\n"
     ]
    },
    {
     "name": "stderr",
     "output_type": "stream",
     "text": [
      "/Users/senyastein/miniconda3/envs/satenv/lib/python3.7/site-packages/xarray/core/nanops.py:159: RuntimeWarning: Mean of empty slice\n",
      "  return np.nanmean(a, axis=axis, dtype=dtype)\n",
      "/Users/senyastein/miniconda3/envs/satenv/lib/python3.7/site-packages/xarray/core/nanops.py:159: RuntimeWarning: Mean of empty slice\n",
      "  return np.nanmean(a, axis=axis, dtype=dtype)\n"
     ]
    },
    {
     "name": "stdout",
     "output_type": "stream",
     "text": [
      "523\n",
      "./1025/saildrone-gen_5-west_coast_survey_2018-sd1025-20180726T060000-20180726T075959-1_minutes-v2.1535062715013.nc\n",
      "524\n",
      "./1025/saildrone-gen_5-west_coast_survey_2018-sd1025-20180714T200000-20180714T215959-1_minutes-v2.1535058577298.nc\n"
     ]
    },
    {
     "name": "stderr",
     "output_type": "stream",
     "text": [
      "/Users/senyastein/miniconda3/envs/satenv/lib/python3.7/site-packages/xarray/core/nanops.py:159: RuntimeWarning: Mean of empty slice\n",
      "  return np.nanmean(a, axis=axis, dtype=dtype)\n",
      "/Users/senyastein/miniconda3/envs/satenv/lib/python3.7/site-packages/xarray/core/nanops.py:159: RuntimeWarning: Mean of empty slice\n",
      "  return np.nanmean(a, axis=axis, dtype=dtype)\n"
     ]
    },
    {
     "name": "stdout",
     "output_type": "stream",
     "text": [
      "525\n",
      "./1025/saildrone-gen_5-west_coast_survey_2018-sd1025-20180923T060000-20180923T075959-1_minutes-v2.1537691414645.nc\n",
      "526\n",
      "./1025/saildrone-gen_5-west_coast_survey_2018-sd1025-20180817T180000-20180817T195959-1_minutes-v2.1535066174513.nc\n"
     ]
    },
    {
     "name": "stderr",
     "output_type": "stream",
     "text": [
      "/Users/senyastein/miniconda3/envs/satenv/lib/python3.7/site-packages/xarray/core/nanops.py:159: RuntimeWarning: Mean of empty slice\n",
      "  return np.nanmean(a, axis=axis, dtype=dtype)\n",
      "/Users/senyastein/miniconda3/envs/satenv/lib/python3.7/site-packages/xarray/core/nanops.py:159: RuntimeWarning: Mean of empty slice\n",
      "  return np.nanmean(a, axis=axis, dtype=dtype)\n"
     ]
    },
    {
     "name": "stdout",
     "output_type": "stream",
     "text": [
      "527\n",
      "./1025/saildrone-gen_5-west_coast_survey_2018-sd1025-20180825T140000-20180825T155959-1_minutes-v2.1535214614393.nc\n",
      "528\n",
      "./1025/saildrone-gen_5-west_coast_survey_2018-sd1025-20181016T100000-20181016T115959-1_minutes-v2.1539693010098.nc\n"
     ]
    },
    {
     "name": "stderr",
     "output_type": "stream",
     "text": [
      "/Users/senyastein/miniconda3/envs/satenv/lib/python3.7/site-packages/xarray/core/nanops.py:159: RuntimeWarning: Mean of empty slice\n",
      "  return np.nanmean(a, axis=axis, dtype=dtype)\n",
      "/Users/senyastein/miniconda3/envs/satenv/lib/python3.7/site-packages/xarray/core/nanops.py:159: RuntimeWarning: Mean of empty slice\n",
      "  return np.nanmean(a, axis=axis, dtype=dtype)\n"
     ]
    },
    {
     "name": "stdout",
     "output_type": "stream",
     "text": [
      "529\n",
      "./1025/saildrone-gen_5-west_coast_survey_2018-sd1025-20181005T040000-20181005T055959-1_minutes-v2.1538721012807.nc\n",
      "530\n",
      "./1025/saildrone-gen_5-west_coast_survey_2018-sd1025-20180922T060000-20180922T075959-1_minutes-v2.1537605014583.nc\n"
     ]
    },
    {
     "name": "stderr",
     "output_type": "stream",
     "text": [
      "/Users/senyastein/miniconda3/envs/satenv/lib/python3.7/site-packages/xarray/core/nanops.py:159: RuntimeWarning: Mean of empty slice\n",
      "  return np.nanmean(a, axis=axis, dtype=dtype)\n",
      "/Users/senyastein/miniconda3/envs/satenv/lib/python3.7/site-packages/xarray/core/nanops.py:159: RuntimeWarning: Mean of empty slice\n",
      "  return np.nanmean(a, axis=axis, dtype=dtype)\n"
     ]
    },
    {
     "name": "stdout",
     "output_type": "stream",
     "text": [
      "531\n",
      "./1025/saildrone-gen_5-west_coast_survey_2018-sd1025-20180731T100000-20180731T115959-1_minutes-v2.1535064755360.nc\n",
      "532\n",
      "./1025/saildrone-gen_5-west_coast_survey_2018-sd1025-20181008T140000-20181008T155959-1_minutes-v2.1539016212018.nc\n"
     ]
    },
    {
     "name": "stderr",
     "output_type": "stream",
     "text": [
      "/Users/senyastein/miniconda3/envs/satenv/lib/python3.7/site-packages/xarray/core/nanops.py:159: RuntimeWarning: Mean of empty slice\n",
      "  return np.nanmean(a, axis=axis, dtype=dtype)\n",
      "/Users/senyastein/miniconda3/envs/satenv/lib/python3.7/site-packages/xarray/core/nanops.py:159: RuntimeWarning: Mean of empty slice\n",
      "  return np.nanmean(a, axis=axis, dtype=dtype)\n"
     ]
    },
    {
     "name": "stdout",
     "output_type": "stream",
     "text": [
      "533\n",
      "./1025/saildrone-gen_5-west_coast_survey_2018-sd1025-20180810T040000-20180810T055959-1_minutes-v2.1535066144817.nc\n",
      "534\n",
      "./1025/saildrone-gen_5-west_coast_survey_2018-sd1025-20180912T140000-20180912T155959-1_minutes-v2.1536769832949.nc\n",
      "535\n",
      "./1025/saildrone-gen_5-west_coast_survey_2018-sd1025-20181010T200000-20181010T215959-1_minutes-v2.1539210611080.nc\n"
     ]
    },
    {
     "name": "stderr",
     "output_type": "stream",
     "text": [
      "/Users/senyastein/miniconda3/envs/satenv/lib/python3.7/site-packages/xarray/core/nanops.py:159: RuntimeWarning: Mean of empty slice\n",
      "  return np.nanmean(a, axis=axis, dtype=dtype)\n",
      "/Users/senyastein/miniconda3/envs/satenv/lib/python3.7/site-packages/xarray/core/nanops.py:159: RuntimeWarning: Mean of empty slice\n",
      "  return np.nanmean(a, axis=axis, dtype=dtype)\n",
      "/Users/senyastein/miniconda3/envs/satenv/lib/python3.7/site-packages/xarray/core/nanops.py:159: RuntimeWarning: Mean of empty slice\n",
      "  return np.nanmean(a, axis=axis, dtype=dtype)\n"
     ]
    },
    {
     "name": "stdout",
     "output_type": "stream",
     "text": [
      "536\n",
      "./1025/saildrone-gen_5-west_coast_survey_2018-sd1025-20180828T180000-20180828T195959-1_minutes-v2.1535488216128.nc\n",
      "537\n",
      "./1025/saildrone-gen_5-west_coast_survey_2018-sd1025-20180917T180000-20180917T195959-1_minutes-v2.1537216216249.nc\n"
     ]
    },
    {
     "name": "stderr",
     "output_type": "stream",
     "text": [
      "/Users/senyastein/miniconda3/envs/satenv/lib/python3.7/site-packages/xarray/core/nanops.py:159: RuntimeWarning: Mean of empty slice\n",
      "  return np.nanmean(a, axis=axis, dtype=dtype)\n",
      "/Users/senyastein/miniconda3/envs/satenv/lib/python3.7/site-packages/xarray/core/nanops.py:159: RuntimeWarning: Mean of empty slice\n",
      "  return np.nanmean(a, axis=axis, dtype=dtype)\n"
     ]
    },
    {
     "name": "stdout",
     "output_type": "stream",
     "text": [
      "538\n",
      "./1025/saildrone-gen_5-west_coast_survey_2018-sd1025-20181015T040000-20181015T055959-1_minutes-v2.1539585010131.nc\n",
      "539\n",
      "./1025/saildrone-gen_5-west_coast_survey_2018-sd1025-20180728T040000-20180728T055959-1_minutes-v2.1535063412392.nc\n"
     ]
    },
    {
     "name": "stderr",
     "output_type": "stream",
     "text": [
      "/Users/senyastein/miniconda3/envs/satenv/lib/python3.7/site-packages/xarray/core/nanops.py:159: RuntimeWarning: Mean of empty slice\n",
      "  return np.nanmean(a, axis=axis, dtype=dtype)\n",
      "/Users/senyastein/miniconda3/envs/satenv/lib/python3.7/site-packages/xarray/core/nanops.py:159: RuntimeWarning: Mean of empty slice\n",
      "  return np.nanmean(a, axis=axis, dtype=dtype)\n"
     ]
    },
    {
     "name": "stdout",
     "output_type": "stream",
     "text": [
      "540\n",
      "./1025/saildrone-gen_5-west_coast_survey_2018-sd1025-20181008T180000-20181008T195959-1_minutes-v2.1539030606867.nc\n",
      "541\n",
      "./1025/saildrone-gen_5-west_coast_survey_2018-sd1025-20181007T140000-20181007T155959-1_minutes-v2.1538929813245.nc\n"
     ]
    },
    {
     "name": "stderr",
     "output_type": "stream",
     "text": [
      "/Users/senyastein/miniconda3/envs/satenv/lib/python3.7/site-packages/xarray/core/nanops.py:159: RuntimeWarning: Mean of empty slice\n",
      "  return np.nanmean(a, axis=axis, dtype=dtype)\n",
      "/Users/senyastein/miniconda3/envs/satenv/lib/python3.7/site-packages/xarray/core/nanops.py:159: RuntimeWarning: Mean of empty slice\n",
      "  return np.nanmean(a, axis=axis, dtype=dtype)\n"
     ]
    },
    {
     "name": "stdout",
     "output_type": "stream",
     "text": [
      "542\n",
      "./1025/saildrone-gen_5-west_coast_survey_2018-sd1025-20180905T140000-20180905T155959-1_minutes-v2.1536165015522.nc\n",
      "543\n",
      "./1025/saildrone-gen_5-west_coast_survey_2018-sd1025-20180907T020000-20180907T035959-1_minutes-v2.1536294615669.nc\n"
     ]
    },
    {
     "name": "stderr",
     "output_type": "stream",
     "text": [
      "/Users/senyastein/miniconda3/envs/satenv/lib/python3.7/site-packages/xarray/core/nanops.py:159: RuntimeWarning: Mean of empty slice\n",
      "  return np.nanmean(a, axis=axis, dtype=dtype)\n",
      "/Users/senyastein/miniconda3/envs/satenv/lib/python3.7/site-packages/xarray/core/nanops.py:159: RuntimeWarning: Mean of empty slice\n",
      "  return np.nanmean(a, axis=axis, dtype=dtype)\n"
     ]
    },
    {
     "name": "stdout",
     "output_type": "stream",
     "text": [
      "544\n",
      "./1025/saildrone-gen_5-west_coast_survey_2018-sd1025-20180813T180000-20180813T195959-1_minutes-v2.1535066156571.nc\n",
      "545\n",
      "./1025/saildrone-gen_5-west_coast_survey_2018-sd1025-20181007T220000-20181007T235959-1_minutes-v2.1538958612428.nc\n"
     ]
    },
    {
     "name": "stderr",
     "output_type": "stream",
     "text": [
      "/Users/senyastein/miniconda3/envs/satenv/lib/python3.7/site-packages/xarray/core/nanops.py:159: RuntimeWarning: Mean of empty slice\n",
      "  return np.nanmean(a, axis=axis, dtype=dtype)\n",
      "/Users/senyastein/miniconda3/envs/satenv/lib/python3.7/site-packages/xarray/core/nanops.py:159: RuntimeWarning: Mean of empty slice\n",
      "  return np.nanmean(a, axis=axis, dtype=dtype)\n"
     ]
    },
    {
     "name": "stdout",
     "output_type": "stream",
     "text": [
      "546\n",
      "./1025/saildrone-gen_5-west_coast_survey_2018-sd1025-20180822T180000-20180822T195959-1_minutes-v2.1535066209239.nc\n"
     ]
    },
    {
     "name": "stderr",
     "output_type": "stream",
     "text": [
      "/Users/senyastein/miniconda3/envs/satenv/lib/python3.7/site-packages/xarray/core/nanops.py:159: RuntimeWarning: Mean of empty slice\n",
      "  return np.nanmean(a, axis=axis, dtype=dtype)\n"
     ]
    },
    {
     "name": "stdout",
     "output_type": "stream",
     "text": [
      "547\n",
      "./1025/saildrone-gen_5-west_coast_survey_2018-sd1025-20180913T200000-20180913T215959-1_minutes-v2.1536877822596.nc\n",
      "548\n",
      "./1025/saildrone-gen_5-west_coast_survey_2018-sd1025-20180901T160000-20180901T175959-1_minutes-v2.1535826615400.nc\n"
     ]
    },
    {
     "name": "stderr",
     "output_type": "stream",
     "text": [
      "/Users/senyastein/miniconda3/envs/satenv/lib/python3.7/site-packages/xarray/core/nanops.py:159: RuntimeWarning: Mean of empty slice\n",
      "  return np.nanmean(a, axis=axis, dtype=dtype)\n",
      "/Users/senyastein/miniconda3/envs/satenv/lib/python3.7/site-packages/xarray/core/nanops.py:159: RuntimeWarning: Mean of empty slice\n",
      "  return np.nanmean(a, axis=axis, dtype=dtype)\n"
     ]
    },
    {
     "name": "stdout",
     "output_type": "stream",
     "text": [
      "549\n",
      "./1025/saildrone-gen_5-west_coast_survey_2018-sd1025-20181003T180000-20181003T195959-1_minutes-v2.1538598613627.nc\n"
     ]
    },
    {
     "name": "stderr",
     "output_type": "stream",
     "text": [
      "/Users/senyastein/miniconda3/envs/satenv/lib/python3.7/site-packages/xarray/core/nanops.py:159: RuntimeWarning: Mean of empty slice\n",
      "  return np.nanmean(a, axis=axis, dtype=dtype)\n"
     ]
    },
    {
     "name": "stdout",
     "output_type": "stream",
     "text": [
      "550\n",
      "./1025/saildrone-gen_5-west_coast_survey_2018-sd1025-20180818T040000-20180818T055959-1_minutes-v2.1535066185576.nc\n"
     ]
    },
    {
     "name": "stderr",
     "output_type": "stream",
     "text": [
      "/Users/senyastein/miniconda3/envs/satenv/lib/python3.7/site-packages/xarray/core/nanops.py:159: RuntimeWarning: Mean of empty slice\n",
      "  return np.nanmean(a, axis=axis, dtype=dtype)\n"
     ]
    },
    {
     "name": "stdout",
     "output_type": "stream",
     "text": [
      "551\n",
      "./1025/saildrone-gen_5-west_coast_survey_2018-sd1025-20181005T220000-20181005T235959-1_minutes-v2.1538785812396.nc\n",
      "552\n",
      "./1025/saildrone-gen_5-west_coast_survey_2018-sd1025-20180830T080000-20180830T095959-1_minutes-v2.1535625015578.nc\n"
     ]
    },
    {
     "name": "stderr",
     "output_type": "stream",
     "text": [
      "/Users/senyastein/miniconda3/envs/satenv/lib/python3.7/site-packages/xarray/core/nanops.py:159: RuntimeWarning: Mean of empty slice\n",
      "  return np.nanmean(a, axis=axis, dtype=dtype)\n",
      "/Users/senyastein/miniconda3/envs/satenv/lib/python3.7/site-packages/xarray/core/nanops.py:159: RuntimeWarning: Mean of empty slice\n",
      "  return np.nanmean(a, axis=axis, dtype=dtype)\n"
     ]
    },
    {
     "name": "stdout",
     "output_type": "stream",
     "text": [
      "553\n",
      "./1025/saildrone-gen_5-west_coast_survey_2018-sd1025-20180723T220000-20180723T235959-1_minutes-v2.1535061862147.nc\n",
      "554\n",
      "./1025/saildrone-gen_5-west_coast_survey_2018-sd1025-20181026T160000-20181026T175959-1_minutes-v2.1540578612297.nc\n"
     ]
    },
    {
     "name": "stderr",
     "output_type": "stream",
     "text": [
      "/Users/senyastein/miniconda3/envs/satenv/lib/python3.7/site-packages/xarray/core/nanops.py:159: RuntimeWarning: Mean of empty slice\n",
      "  return np.nanmean(a, axis=axis, dtype=dtype)\n",
      "/Users/senyastein/miniconda3/envs/satenv/lib/python3.7/site-packages/xarray/core/nanops.py:159: RuntimeWarning: Mean of empty slice\n",
      "  return np.nanmean(a, axis=axis, dtype=dtype)\n"
     ]
    },
    {
     "name": "stdout",
     "output_type": "stream",
     "text": [
      "555\n",
      "./1025/saildrone-gen_5-west_coast_survey_2018-sd1025-20180720T060000-20180720T075959-1_minutes-v2.1535060528613.nc\n",
      "556\n",
      "./1025/saildrone-gen_5-west_coast_survey_2018-sd1025-20180917T040000-20180917T055959-1_minutes-v2.1537165828724.nc\n"
     ]
    },
    {
     "name": "stderr",
     "output_type": "stream",
     "text": [
      "/Users/senyastein/miniconda3/envs/satenv/lib/python3.7/site-packages/xarray/core/nanops.py:159: RuntimeWarning: Mean of empty slice\n",
      "  return np.nanmean(a, axis=axis, dtype=dtype)\n",
      "/Users/senyastein/miniconda3/envs/satenv/lib/python3.7/site-packages/xarray/core/nanops.py:159: RuntimeWarning: Mean of empty slice\n",
      "  return np.nanmean(a, axis=axis, dtype=dtype)\n"
     ]
    },
    {
     "name": "stdout",
     "output_type": "stream",
     "text": [
      "557\n",
      "./1025/saildrone-gen_5-west_coast_survey_2018-sd1025-20180908T060000-20180908T075959-1_minutes-v2.1536395415916.nc\n",
      "558\n",
      "./1025/saildrone-gen_5-west_coast_survey_2018-sd1025-20180914T060000-20180914T075959-1_minutes-v2.1536913818920.nc\n"
     ]
    },
    {
     "name": "stderr",
     "output_type": "stream",
     "text": [
      "/Users/senyastein/miniconda3/envs/satenv/lib/python3.7/site-packages/xarray/core/nanops.py:159: RuntimeWarning: Mean of empty slice\n",
      "  return np.nanmean(a, axis=axis, dtype=dtype)\n",
      "/Users/senyastein/miniconda3/envs/satenv/lib/python3.7/site-packages/xarray/core/nanops.py:159: RuntimeWarning: Mean of empty slice\n",
      "  return np.nanmean(a, axis=axis, dtype=dtype)\n"
     ]
    },
    {
     "name": "stdout",
     "output_type": "stream",
     "text": [
      "559\n",
      "./1025/saildrone-gen_5-west_coast_survey_2018-sd1025-20180802T100000-20180802T115959-1_minutes-v2.1535065505678.nc\n"
     ]
    },
    {
     "name": "stderr",
     "output_type": "stream",
     "text": [
      "/Users/senyastein/miniconda3/envs/satenv/lib/python3.7/site-packages/xarray/core/nanops.py:159: RuntimeWarning: Mean of empty slice\n",
      "  return np.nanmean(a, axis=axis, dtype=dtype)\n",
      "/Users/senyastein/miniconda3/envs/satenv/lib/python3.7/site-packages/xarray/core/nanops.py:159: RuntimeWarning: Mean of empty slice\n",
      "  return np.nanmean(a, axis=axis, dtype=dtype)\n"
     ]
    },
    {
     "name": "stdout",
     "output_type": "stream",
     "text": [
      "560\n",
      "./1025/saildrone-gen_5-west_coast_survey_2018-sd1025-20181024T040000-20181024T055959-1_minutes-v2.1540362624194.nc\n",
      "561\n",
      "./1025/saildrone-gen_5-west_coast_survey_2018-sd1025-20181001T220000-20181001T235959-1_minutes-v2.1538440214726.nc\n"
     ]
    },
    {
     "name": "stderr",
     "output_type": "stream",
     "text": [
      "/Users/senyastein/miniconda3/envs/satenv/lib/python3.7/site-packages/xarray/core/nanops.py:159: RuntimeWarning: Mean of empty slice\n",
      "  return np.nanmean(a, axis=axis, dtype=dtype)\n",
      "/Users/senyastein/miniconda3/envs/satenv/lib/python3.7/site-packages/xarray/core/nanops.py:159: RuntimeWarning: Mean of empty slice\n",
      "  return np.nanmean(a, axis=axis, dtype=dtype)\n"
     ]
    },
    {
     "name": "stdout",
     "output_type": "stream",
     "text": [
      "562\n",
      "./1025/saildrone-gen_5-west_coast_survey_2018-sd1025-20180911T060000-20180911T075959-1_minutes-v2.1536654617812.nc\n",
      "563\n",
      "./1025/saildrone-gen_5-west_coast_survey_2018-sd1025-20180811T160000-20180811T175959-1_minutes-v2.1535066146870.nc\n",
      "564\n",
      "./1025/saildrone-gen_5-west_coast_survey_2018-sd1025-20180912T220000-20180912T235959-1_minutes-v2.1536798615951.nc\n"
     ]
    },
    {
     "name": "stderr",
     "output_type": "stream",
     "text": [
      "/Users/senyastein/miniconda3/envs/satenv/lib/python3.7/site-packages/xarray/core/nanops.py:159: RuntimeWarning: Mean of empty slice\n",
      "  return np.nanmean(a, axis=axis, dtype=dtype)\n",
      "/Users/senyastein/miniconda3/envs/satenv/lib/python3.7/site-packages/xarray/core/nanops.py:159: RuntimeWarning: Mean of empty slice\n",
      "  return np.nanmean(a, axis=axis, dtype=dtype)\n"
     ]
    },
    {
     "name": "stdout",
     "output_type": "stream",
     "text": [
      "565\n",
      "./1025/saildrone-gen_5-west_coast_survey_2018-sd1025-20181006T000000-20181006T015959-1_minutes-v2.1538793013377.nc\n",
      "566\n",
      "./1025/saildrone-gen_5-west_coast_survey_2018-sd1025-20180912T080000-20180912T095959-1_minutes-v2.1536748234731.nc\n"
     ]
    },
    {
     "name": "stderr",
     "output_type": "stream",
     "text": [
      "/Users/senyastein/miniconda3/envs/satenv/lib/python3.7/site-packages/xarray/core/nanops.py:159: RuntimeWarning: Mean of empty slice\n",
      "  return np.nanmean(a, axis=axis, dtype=dtype)\n",
      "/Users/senyastein/miniconda3/envs/satenv/lib/python3.7/site-packages/xarray/core/nanops.py:159: RuntimeWarning: Mean of empty slice\n",
      "  return np.nanmean(a, axis=axis, dtype=dtype)\n"
     ]
    },
    {
     "name": "stdout",
     "output_type": "stream",
     "text": [
      "567\n",
      "./1025/saildrone-gen_5-west_coast_survey_2018-sd1025-20180913T040000-20180913T055959-1_minutes-v2.1536820220720.nc\n",
      "568\n",
      "./1025/saildrone-gen_5-west_coast_survey_2018-sd1025-20180919T220000-20180919T235959-1_minutes-v2.1537403415796.nc\n"
     ]
    },
    {
     "name": "stderr",
     "output_type": "stream",
     "text": [
      "/Users/senyastein/miniconda3/envs/satenv/lib/python3.7/site-packages/xarray/core/nanops.py:159: RuntimeWarning: Mean of empty slice\n",
      "  return np.nanmean(a, axis=axis, dtype=dtype)\n",
      "/Users/senyastein/miniconda3/envs/satenv/lib/python3.7/site-packages/xarray/core/nanops.py:159: RuntimeWarning: Mean of empty slice\n",
      "  return np.nanmean(a, axis=axis, dtype=dtype)\n"
     ]
    },
    {
     "name": "stdout",
     "output_type": "stream",
     "text": [
      "569\n",
      "./1025/saildrone-gen_5-west_coast_survey_2018-sd1025-20180829T060000-20180829T075959-1_minutes-v2.1535531414331.nc\n",
      "570\n",
      "./1025/saildrone-gen_5-west_coast_survey_2018-sd1025-20181008T060000-20181008T075959-1_minutes-v2.1538987412220.nc\n"
     ]
    },
    {
     "name": "stderr",
     "output_type": "stream",
     "text": [
      "/Users/senyastein/miniconda3/envs/satenv/lib/python3.7/site-packages/xarray/core/nanops.py:159: RuntimeWarning: Mean of empty slice\n",
      "  return np.nanmean(a, axis=axis, dtype=dtype)\n",
      "/Users/senyastein/miniconda3/envs/satenv/lib/python3.7/site-packages/xarray/core/nanops.py:159: RuntimeWarning: Mean of empty slice\n",
      "  return np.nanmean(a, axis=axis, dtype=dtype)\n"
     ]
    },
    {
     "name": "stdout",
     "output_type": "stream",
     "text": [
      "571\n",
      "./1025/saildrone-gen_5-west_coast_survey_2018-sd1025-20180804T060000-20180804T075959-1_minutes-v2.1535065726165.nc\n",
      "572\n",
      "./1025/saildrone-gen_5-west_coast_survey_2018-sd1025-20180802T120000-20180802T135959-1_minutes-v2.1535065535465.nc\n"
     ]
    },
    {
     "name": "stderr",
     "output_type": "stream",
     "text": [
      "/Users/senyastein/miniconda3/envs/satenv/lib/python3.7/site-packages/xarray/core/nanops.py:159: RuntimeWarning: Mean of empty slice\n",
      "  return np.nanmean(a, axis=axis, dtype=dtype)\n",
      "/Users/senyastein/miniconda3/envs/satenv/lib/python3.7/site-packages/xarray/core/nanops.py:159: RuntimeWarning: Mean of empty slice\n",
      "  return np.nanmean(a, axis=axis, dtype=dtype)\n"
     ]
    },
    {
     "name": "stdout",
     "output_type": "stream",
     "text": [
      "573\n",
      "./1025/saildrone-gen_5-west_coast_survey_2018-sd1025-20180808T160000-20180808T175959-1_minutes-v2.1535065749487.nc\n",
      "574\n",
      "./1025/saildrone-gen_5-west_coast_survey_2018-sd1025-20180909T120000-20180909T135959-1_minutes-v2.1536503417031.nc\n"
     ]
    },
    {
     "name": "stderr",
     "output_type": "stream",
     "text": [
      "/Users/senyastein/miniconda3/envs/satenv/lib/python3.7/site-packages/xarray/core/nanops.py:159: RuntimeWarning: Mean of empty slice\n",
      "  return np.nanmean(a, axis=axis, dtype=dtype)\n",
      "/Users/senyastein/miniconda3/envs/satenv/lib/python3.7/site-packages/xarray/core/nanops.py:159: RuntimeWarning: Mean of empty slice\n",
      "  return np.nanmean(a, axis=axis, dtype=dtype)\n"
     ]
    },
    {
     "name": "stdout",
     "output_type": "stream",
     "text": [
      "575\n",
      "./1025/saildrone-gen_5-west_coast_survey_2018-sd1025-20180730T160000-20180730T175959-1_minutes-v2.1535064483749.nc\n",
      "576\n",
      "./1025/saildrone-gen_5-west_coast_survey_2018-sd1025-20180911T020000-20180911T035959-1_minutes-v2.1536640215090.nc\n"
     ]
    },
    {
     "name": "stderr",
     "output_type": "stream",
     "text": [
      "/Users/senyastein/miniconda3/envs/satenv/lib/python3.7/site-packages/xarray/core/nanops.py:159: RuntimeWarning: Mean of empty slice\n",
      "  return np.nanmean(a, axis=axis, dtype=dtype)\n",
      "/Users/senyastein/miniconda3/envs/satenv/lib/python3.7/site-packages/xarray/core/nanops.py:159: RuntimeWarning: Mean of empty slice\n",
      "  return np.nanmean(a, axis=axis, dtype=dtype)\n"
     ]
    },
    {
     "name": "stdout",
     "output_type": "stream",
     "text": [
      "577\n",
      "./1025/saildrone-gen_5-west_coast_survey_2018-sd1025-20180814T020000-20180814T035959-1_minutes-v2.1535066165440.nc\n",
      "578\n",
      "./1025/saildrone-gen_5-west_coast_survey_2018-sd1025-20181004T220000-20181004T235959-1_minutes-v2.1538699412144.nc\n"
     ]
    },
    {
     "name": "stderr",
     "output_type": "stream",
     "text": [
      "/Users/senyastein/miniconda3/envs/satenv/lib/python3.7/site-packages/xarray/core/nanops.py:159: RuntimeWarning: Mean of empty slice\n",
      "  return np.nanmean(a, axis=axis, dtype=dtype)\n",
      "/Users/senyastein/miniconda3/envs/satenv/lib/python3.7/site-packages/xarray/core/nanops.py:159: RuntimeWarning: Mean of empty slice\n",
      "  return np.nanmean(a, axis=axis, dtype=dtype)\n"
     ]
    },
    {
     "name": "stdout",
     "output_type": "stream",
     "text": [
      "579\n",
      "./1025/saildrone-gen_5-west_coast_survey_2018-sd1025-20181020T120000-20181020T135959-1_minutes-v2.1540045812973.nc\n",
      "580\n",
      "./1025/saildrone-gen_5-west_coast_survey_2018-sd1025-20180912T060000-20180912T075959-1_minutes-v2.1536741015247.nc\n"
     ]
    },
    {
     "name": "stderr",
     "output_type": "stream",
     "text": [
      "/Users/senyastein/miniconda3/envs/satenv/lib/python3.7/site-packages/xarray/core/nanops.py:159: RuntimeWarning: Mean of empty slice\n",
      "  return np.nanmean(a, axis=axis, dtype=dtype)\n",
      "/Users/senyastein/miniconda3/envs/satenv/lib/python3.7/site-packages/xarray/core/nanops.py:159: RuntimeWarning: Mean of empty slice\n",
      "  return np.nanmean(a, axis=axis, dtype=dtype)\n"
     ]
    },
    {
     "name": "stdout",
     "output_type": "stream",
     "text": [
      "581\n",
      "./1025/saildrone-gen_5-west_coast_survey_2018-sd1025-20180928T200000-20180928T215959-1_minutes-v2.1538173825064.nc\n",
      "582\n",
      "./1025/saildrone-gen_5-west_coast_survey_2018-sd1025-20180629T040000-20180629T055959-1_minutes-v2.1535045059207.nc\n"
     ]
    },
    {
     "name": "stderr",
     "output_type": "stream",
     "text": [
      "/Users/senyastein/miniconda3/envs/satenv/lib/python3.7/site-packages/xarray/core/nanops.py:159: RuntimeWarning: Mean of empty slice\n",
      "  return np.nanmean(a, axis=axis, dtype=dtype)\n",
      "/Users/senyastein/miniconda3/envs/satenv/lib/python3.7/site-packages/xarray/core/nanops.py:159: RuntimeWarning: Mean of empty slice\n",
      "  return np.nanmean(a, axis=axis, dtype=dtype)\n"
     ]
    },
    {
     "name": "stdout",
     "output_type": "stream",
     "text": [
      "583\n",
      "./1025/saildrone-gen_5-west_coast_survey_2018-sd1025-20180706T080000-20180706T095959-1_minutes-v2.1535054171305.nc\n",
      "584\n",
      "./1025/saildrone-gen_5-west_coast_survey_2018-sd1025-20180828T140000-20180828T155959-1_minutes-v2.1535473814700.nc\n"
     ]
    },
    {
     "name": "stderr",
     "output_type": "stream",
     "text": [
      "/Users/senyastein/miniconda3/envs/satenv/lib/python3.7/site-packages/xarray/core/nanops.py:159: RuntimeWarning: Mean of empty slice\n",
      "  return np.nanmean(a, axis=axis, dtype=dtype)\n",
      "/Users/senyastein/miniconda3/envs/satenv/lib/python3.7/site-packages/xarray/core/nanops.py:159: RuntimeWarning: Mean of empty slice\n",
      "  return np.nanmean(a, axis=axis, dtype=dtype)\n"
     ]
    },
    {
     "name": "stdout",
     "output_type": "stream",
     "text": [
      "585\n",
      "./1025/saildrone-gen_5-west_coast_survey_2018-sd1025-20180927T060000-20180927T075959-1_minutes-v2.1538037017686.nc\n"
     ]
    },
    {
     "name": "stderr",
     "output_type": "stream",
     "text": [
      "/Users/senyastein/miniconda3/envs/satenv/lib/python3.7/site-packages/xarray/core/nanops.py:159: RuntimeWarning: Mean of empty slice\n",
      "  return np.nanmean(a, axis=axis, dtype=dtype)\n",
      "/Users/senyastein/miniconda3/envs/satenv/lib/python3.7/site-packages/xarray/core/nanops.py:159: RuntimeWarning: Mean of empty slice\n",
      "  return np.nanmean(a, axis=axis, dtype=dtype)\n"
     ]
    },
    {
     "name": "stdout",
     "output_type": "stream",
     "text": [
      "586\n",
      "./1025/saildrone-gen_5-west_coast_survey_2018-sd1025-20180906T020000-20180906T035959-1_minutes-v2.1536208227942.nc\n",
      "587\n",
      "./1025/saildrone-gen_5-west_coast_survey_2018-sd1025-20180704T100000-20180704T115959-1_minutes-v2.1535046927487.nc\n",
      "588\n",
      "./1025/saildrone-gen_5-west_coast_survey_2018-sd1025-20180816T120000-20180816T135959-1_minutes-v2.1535066168755.nc\n"
     ]
    },
    {
     "name": "stderr",
     "output_type": "stream",
     "text": [
      "/Users/senyastein/miniconda3/envs/satenv/lib/python3.7/site-packages/xarray/core/nanops.py:159: RuntimeWarning: Mean of empty slice\n",
      "  return np.nanmean(a, axis=axis, dtype=dtype)\n",
      "/Users/senyastein/miniconda3/envs/satenv/lib/python3.7/site-packages/xarray/core/nanops.py:159: RuntimeWarning: Mean of empty slice\n",
      "  return np.nanmean(a, axis=axis, dtype=dtype)\n"
     ]
    },
    {
     "name": "stdout",
     "output_type": "stream",
     "text": [
      "589\n",
      "./1025/saildrone-gen_5-west_coast_survey_2018-sd1025-20180703T180000-20180703T195959-1_minutes-v2.1535046694596.nc\n",
      "590\n",
      "./1025/saildrone-gen_5-west_coast_survey_2018-sd1025-20180814T200000-20180814T215959-1_minutes-v2.1535066167051.nc\n"
     ]
    },
    {
     "name": "stderr",
     "output_type": "stream",
     "text": [
      "/Users/senyastein/miniconda3/envs/satenv/lib/python3.7/site-packages/xarray/core/nanops.py:159: RuntimeWarning: Mean of empty slice\n",
      "  return np.nanmean(a, axis=axis, dtype=dtype)\n",
      "/Users/senyastein/miniconda3/envs/satenv/lib/python3.7/site-packages/xarray/core/nanops.py:159: RuntimeWarning: Mean of empty slice\n",
      "  return np.nanmean(a, axis=axis, dtype=dtype)\n"
     ]
    },
    {
     "name": "stdout",
     "output_type": "stream",
     "text": [
      "591\n",
      "./1025/saildrone-gen_5-west_coast_survey_2018-sd1025-20181023T080000-20181023T095959-1_minutes-v2.1540290612603.nc\n"
     ]
    },
    {
     "name": "stderr",
     "output_type": "stream",
     "text": [
      "/Users/senyastein/miniconda3/envs/satenv/lib/python3.7/site-packages/xarray/core/nanops.py:159: RuntimeWarning: Mean of empty slice\n",
      "  return np.nanmean(a, axis=axis, dtype=dtype)\n"
     ]
    },
    {
     "name": "stdout",
     "output_type": "stream",
     "text": [
      "592\n",
      "./1025/saildrone-gen_5-west_coast_survey_2018-sd1025-20180707T200000-20180707T215959-1_minutes-v2.1535054658303.nc\n",
      "593\n",
      "./1025/saildrone-gen_5-west_coast_survey_2018-sd1025-20180825T200000-20180825T215959-1_minutes-v2.1535236215065.nc\n"
     ]
    },
    {
     "name": "stderr",
     "output_type": "stream",
     "text": [
      "/Users/senyastein/miniconda3/envs/satenv/lib/python3.7/site-packages/xarray/core/nanops.py:159: RuntimeWarning: Mean of empty slice\n",
      "  return np.nanmean(a, axis=axis, dtype=dtype)\n",
      "/Users/senyastein/miniconda3/envs/satenv/lib/python3.7/site-packages/xarray/core/nanops.py:159: RuntimeWarning: Mean of empty slice\n",
      "  return np.nanmean(a, axis=axis, dtype=dtype)\n"
     ]
    },
    {
     "name": "stdout",
     "output_type": "stream",
     "text": [
      "594\n",
      "./1025/saildrone-gen_5-west_coast_survey_2018-sd1025-20180828T040000-20180828T055959-1_minutes-v2.1535437815352.nc\n",
      "595\n",
      "./1025/saildrone-gen_5-west_coast_survey_2018-sd1025-20181025T020000-20181025T035959-1_minutes-v2.1540441812572.nc\n"
     ]
    },
    {
     "name": "stderr",
     "output_type": "stream",
     "text": [
      "/Users/senyastein/miniconda3/envs/satenv/lib/python3.7/site-packages/xarray/core/nanops.py:159: RuntimeWarning: Mean of empty slice\n",
      "  return np.nanmean(a, axis=axis, dtype=dtype)\n",
      "/Users/senyastein/miniconda3/envs/satenv/lib/python3.7/site-packages/xarray/core/nanops.py:159: RuntimeWarning: Mean of empty slice\n",
      "  return np.nanmean(a, axis=axis, dtype=dtype)\n"
     ]
    },
    {
     "name": "stdout",
     "output_type": "stream",
     "text": [
      "596\n",
      "./1025/saildrone-gen_5-west_coast_survey_2018-sd1025-20181021T000000-20181021T015959-1_minutes-v2.1540089012817.nc\n",
      "597\n",
      "./1025/saildrone-gen_5-west_coast_survey_2018-sd1025-20180822T020000-20180822T035959-1_minutes-v2.1535066194579.nc\n"
     ]
    },
    {
     "name": "stderr",
     "output_type": "stream",
     "text": [
      "/Users/senyastein/miniconda3/envs/satenv/lib/python3.7/site-packages/xarray/core/nanops.py:159: RuntimeWarning: Mean of empty slice\n",
      "  return np.nanmean(a, axis=axis, dtype=dtype)\n",
      "/Users/senyastein/miniconda3/envs/satenv/lib/python3.7/site-packages/xarray/core/nanops.py:159: RuntimeWarning: Mean of empty slice\n",
      "  return np.nanmean(a, axis=axis, dtype=dtype)\n"
     ]
    },
    {
     "name": "stdout",
     "output_type": "stream",
     "text": [
      "598\n",
      "./1025/saildrone-gen_5-west_coast_survey_2018-sd1025-20181007T120000-20181007T135959-1_minutes-v2.1538922613040.nc\n",
      "599\n",
      "./1025/saildrone-gen_5-west_coast_survey_2018-sd1025-20181023T180000-20181023T195959-1_minutes-v2.1540326636649.nc\n"
     ]
    },
    {
     "name": "stderr",
     "output_type": "stream",
     "text": [
      "/Users/senyastein/miniconda3/envs/satenv/lib/python3.7/site-packages/xarray/core/nanops.py:159: RuntimeWarning: Mean of empty slice\n",
      "  return np.nanmean(a, axis=axis, dtype=dtype)\n",
      "/Users/senyastein/miniconda3/envs/satenv/lib/python3.7/site-packages/xarray/core/nanops.py:159: RuntimeWarning: Mean of empty slice\n",
      "  return np.nanmean(a, axis=axis, dtype=dtype)\n"
     ]
    },
    {
     "name": "stdout",
     "output_type": "stream",
     "text": [
      "600\n",
      "./1025/saildrone-gen_5-west_coast_survey_2018-sd1025-20180629T000000-20180629T015959-1_minutes-v2.1535044998546.nc\n"
     ]
    },
    {
     "name": "stderr",
     "output_type": "stream",
     "text": [
      "/Users/senyastein/miniconda3/envs/satenv/lib/python3.7/site-packages/xarray/core/nanops.py:159: RuntimeWarning: Mean of empty slice\n",
      "  return np.nanmean(a, axis=axis, dtype=dtype)\n",
      "/Users/senyastein/miniconda3/envs/satenv/lib/python3.7/site-packages/xarray/core/nanops.py:159: RuntimeWarning: Mean of empty slice\n",
      "  return np.nanmean(a, axis=axis, dtype=dtype)\n"
     ]
    },
    {
     "name": "stdout",
     "output_type": "stream",
     "text": [
      "601\n",
      "./1025/saildrone-gen_5-west_coast_survey_2018-sd1025-20180701T020000-20180701T035959-1_minutes-v2.1535045744788.nc\n",
      "602\n",
      "./1025/saildrone-gen_5-west_coast_survey_2018-sd1025-20180708T120000-20180708T135959-1_minutes-v2.1535054900721.nc\n"
     ]
    },
    {
     "name": "stderr",
     "output_type": "stream",
     "text": [
      "/Users/senyastein/miniconda3/envs/satenv/lib/python3.7/site-packages/xarray/core/nanops.py:159: RuntimeWarning: Mean of empty slice\n",
      "  return np.nanmean(a, axis=axis, dtype=dtype)\n"
     ]
    },
    {
     "name": "stdout",
     "output_type": "stream",
     "text": [
      "603\n",
      "./1025/saildrone-gen_5-west_coast_survey_2018-sd1025-20180628T200000-20180628T215959-1_minutes-v2.1535044939089.nc\n",
      "604\n",
      "./1025/saildrone-gen_5-west_coast_survey_2018-sd1025-20180722T120000-20180722T135959-1_minutes-v2.1535061347582.nc\n"
     ]
    },
    {
     "name": "stderr",
     "output_type": "stream",
     "text": [
      "/Users/senyastein/miniconda3/envs/satenv/lib/python3.7/site-packages/xarray/core/nanops.py:159: RuntimeWarning: Mean of empty slice\n",
      "  return np.nanmean(a, axis=axis, dtype=dtype)\n",
      "/Users/senyastein/miniconda3/envs/satenv/lib/python3.7/site-packages/xarray/core/nanops.py:159: RuntimeWarning: Mean of empty slice\n",
      "  return np.nanmean(a, axis=axis, dtype=dtype)\n"
     ]
    },
    {
     "name": "stdout",
     "output_type": "stream",
     "text": [
      "605\n",
      "./1025/saildrone-gen_5-west_coast_survey_2018-sd1025-20180802T140000-20180802T155959-1_minutes-v2.1535065725285.nc\n",
      "606\n",
      "./1025/saildrone-gen_5-west_coast_survey_2018-sd1025-20180907T180000-20180907T195959-1_minutes-v2.1536352214558.nc\n"
     ]
    },
    {
     "name": "stderr",
     "output_type": "stream",
     "text": [
      "/Users/senyastein/miniconda3/envs/satenv/lib/python3.7/site-packages/xarray/core/nanops.py:159: RuntimeWarning: Mean of empty slice\n",
      "  return np.nanmean(a, axis=axis, dtype=dtype)\n",
      "/Users/senyastein/miniconda3/envs/satenv/lib/python3.7/site-packages/xarray/core/nanops.py:159: RuntimeWarning: Mean of empty slice\n",
      "  return np.nanmean(a, axis=axis, dtype=dtype)\n"
     ]
    },
    {
     "name": "stdout",
     "output_type": "stream",
     "text": [
      "607\n",
      "./1025/saildrone-gen_5-west_coast_survey_2018-sd1025-20181013T020000-20181013T035959-1_minutes-v2.1539405010587.nc\n",
      "608\n",
      "./1025/saildrone-gen_5-west_coast_survey_2018-sd1025-20180828T020000-20180828T035959-1_minutes-v2.1535430614132.nc\n"
     ]
    },
    {
     "name": "stderr",
     "output_type": "stream",
     "text": [
      "/Users/senyastein/miniconda3/envs/satenv/lib/python3.7/site-packages/xarray/core/nanops.py:159: RuntimeWarning: Mean of empty slice\n",
      "  return np.nanmean(a, axis=axis, dtype=dtype)\n",
      "/Users/senyastein/miniconda3/envs/satenv/lib/python3.7/site-packages/xarray/core/nanops.py:159: RuntimeWarning: Mean of empty slice\n",
      "  return np.nanmean(a, axis=axis, dtype=dtype)\n"
     ]
    },
    {
     "name": "stdout",
     "output_type": "stream",
     "text": [
      "609\n",
      "./1025/saildrone-gen_5-west_coast_survey_2018-sd1025-20180902T220000-20180902T235959-1_minutes-v2.1535934628342.nc\n",
      "610\n",
      "./1025/saildrone-gen_5-west_coast_survey_2018-sd1025-20180913T220000-20180913T235959-1_minutes-v2.1536885036843.nc\n"
     ]
    },
    {
     "name": "stderr",
     "output_type": "stream",
     "text": [
      "/Users/senyastein/miniconda3/envs/satenv/lib/python3.7/site-packages/xarray/core/nanops.py:159: RuntimeWarning: Mean of empty slice\n",
      "  return np.nanmean(a, axis=axis, dtype=dtype)\n",
      "/Users/senyastein/miniconda3/envs/satenv/lib/python3.7/site-packages/xarray/core/nanops.py:159: RuntimeWarning: Mean of empty slice\n",
      "  return np.nanmean(a, axis=axis, dtype=dtype)\n"
     ]
    },
    {
     "name": "stdout",
     "output_type": "stream",
     "text": [
      "611\n",
      "./1025/saildrone-gen_5-west_coast_survey_2018-sd1025-20181015T140000-20181015T155959-1_minutes-v2.1539621010873.nc\n",
      "612\n",
      "./1025/saildrone-gen_5-west_coast_survey_2018-sd1025-20180730T140000-20180730T155959-1_minutes-v2.1535064452595.nc\n"
     ]
    },
    {
     "name": "stderr",
     "output_type": "stream",
     "text": [
      "/Users/senyastein/miniconda3/envs/satenv/lib/python3.7/site-packages/xarray/core/nanops.py:159: RuntimeWarning: Mean of empty slice\n",
      "  return np.nanmean(a, axis=axis, dtype=dtype)\n",
      "/Users/senyastein/miniconda3/envs/satenv/lib/python3.7/site-packages/xarray/core/nanops.py:159: RuntimeWarning: Mean of empty slice\n",
      "  return np.nanmean(a, axis=axis, dtype=dtype)\n"
     ]
    },
    {
     "name": "stdout",
     "output_type": "stream",
     "text": [
      "613\n",
      "./1025/saildrone-gen_5-west_coast_survey_2018-sd1025-20180913T160000-20180913T175959-1_minutes-v2.1536863418903.nc\n",
      "614\n",
      "./1025/saildrone-gen_5-west_coast_survey_2018-sd1025-20180909T140000-20180909T155959-1_minutes-v2.1536510615133.nc\n"
     ]
    },
    {
     "name": "stderr",
     "output_type": "stream",
     "text": [
      "/Users/senyastein/miniconda3/envs/satenv/lib/python3.7/site-packages/xarray/core/nanops.py:159: RuntimeWarning: Mean of empty slice\n",
      "  return np.nanmean(a, axis=axis, dtype=dtype)\n",
      "/Users/senyastein/miniconda3/envs/satenv/lib/python3.7/site-packages/xarray/core/nanops.py:159: RuntimeWarning: Mean of empty slice\n",
      "  return np.nanmean(a, axis=axis, dtype=dtype)\n"
     ]
    },
    {
     "name": "stdout",
     "output_type": "stream",
     "text": [
      "615\n",
      "./1025/saildrone-gen_5-west_coast_survey_2018-sd1025-20180930T200000-20180930T215959-1_minutes-v2.1538346613167.nc\n",
      "616\n",
      "./1025/saildrone-gen_5-west_coast_survey_2018-sd1025-20181010T060000-20181010T075959-1_minutes-v2.1539160209771.nc\n"
     ]
    },
    {
     "name": "stderr",
     "output_type": "stream",
     "text": [
      "/Users/senyastein/miniconda3/envs/satenv/lib/python3.7/site-packages/xarray/core/nanops.py:159: RuntimeWarning: Mean of empty slice\n",
      "  return np.nanmean(a, axis=axis, dtype=dtype)\n",
      "/Users/senyastein/miniconda3/envs/satenv/lib/python3.7/site-packages/xarray/core/nanops.py:159: RuntimeWarning: Mean of empty slice\n",
      "  return np.nanmean(a, axis=axis, dtype=dtype)\n"
     ]
    },
    {
     "name": "stdout",
     "output_type": "stream",
     "text": [
      "617\n",
      "./1025/saildrone-gen_5-west_coast_survey_2018-sd1025-20180809T200000-20180809T215959-1_minutes-v2.1535065752209.nc\n",
      "618\n",
      "./1025/saildrone-gen_5-west_coast_survey_2018-sd1025-20180906T100000-20180906T115959-1_minutes-v2.1536237019128.nc\n"
     ]
    },
    {
     "name": "stderr",
     "output_type": "stream",
     "text": [
      "/Users/senyastein/miniconda3/envs/satenv/lib/python3.7/site-packages/xarray/core/nanops.py:159: RuntimeWarning: Mean of empty slice\n",
      "  return np.nanmean(a, axis=axis, dtype=dtype)\n",
      "/Users/senyastein/miniconda3/envs/satenv/lib/python3.7/site-packages/xarray/core/nanops.py:159: RuntimeWarning: Mean of empty slice\n",
      "  return np.nanmean(a, axis=axis, dtype=dtype)\n"
     ]
    },
    {
     "name": "stdout",
     "output_type": "stream",
     "text": [
      "619\n",
      "./1025/saildrone-gen_5-west_coast_survey_2018-sd1025-20180916T040000-20180916T055959-1_minutes-v2.1537079415859.nc\n"
     ]
    },
    {
     "name": "stderr",
     "output_type": "stream",
     "text": [
      "/Users/senyastein/miniconda3/envs/satenv/lib/python3.7/site-packages/xarray/core/nanops.py:159: RuntimeWarning: Mean of empty slice\n",
      "  return np.nanmean(a, axis=axis, dtype=dtype)\n"
     ]
    },
    {
     "name": "stdout",
     "output_type": "stream",
     "text": [
      "620\n",
      "./1025/saildrone-gen_5-west_coast_survey_2018-sd1025-20180718T000000-20180718T015959-1_minutes-v2.1535059727763.nc\n"
     ]
    },
    {
     "name": "stderr",
     "output_type": "stream",
     "text": [
      "/Users/senyastein/miniconda3/envs/satenv/lib/python3.7/site-packages/xarray/core/nanops.py:159: RuntimeWarning: Mean of empty slice\n",
      "  return np.nanmean(a, axis=axis, dtype=dtype)\n"
     ]
    },
    {
     "name": "stdout",
     "output_type": "stream",
     "text": [
      "621\n",
      "./1025/saildrone-gen_5-west_coast_survey_2018-sd1025-20181016T000000-20181016T015959-1_minutes-v2.1539656707116.nc\n"
     ]
    },
    {
     "name": "stderr",
     "output_type": "stream",
     "text": [
      "/Users/senyastein/miniconda3/envs/satenv/lib/python3.7/site-packages/xarray/core/nanops.py:159: RuntimeWarning: Mean of empty slice\n",
      "  return np.nanmean(a, axis=axis, dtype=dtype)\n"
     ]
    },
    {
     "name": "stdout",
     "output_type": "stream",
     "text": [
      "622\n",
      "./1025/saildrone-gen_5-west_coast_survey_2018-sd1025-20180819T180000-20180819T195959-1_minutes-v2.1535066182317.nc\n"
     ]
    },
    {
     "name": "stderr",
     "output_type": "stream",
     "text": [
      "/Users/senyastein/miniconda3/envs/satenv/lib/python3.7/site-packages/xarray/core/nanops.py:159: RuntimeWarning: Mean of empty slice\n",
      "  return np.nanmean(a, axis=axis, dtype=dtype)\n"
     ]
    },
    {
     "name": "stdout",
     "output_type": "stream",
     "text": [
      "623\n",
      "./1025/saildrone-gen_5-west_coast_survey_2018-sd1025-20180807T100000-20180807T115959-1_minutes-v2.1535065739991.nc\n",
      "624\n",
      "./1025/saildrone-gen_5-west_coast_survey_2018-sd1025-20180824T000000-20180824T015959-1_minutes-v2.1535077815061.nc\n"
     ]
    },
    {
     "name": "stderr",
     "output_type": "stream",
     "text": [
      "/Users/senyastein/miniconda3/envs/satenv/lib/python3.7/site-packages/xarray/core/nanops.py:159: RuntimeWarning: Mean of empty slice\n",
      "  return np.nanmean(a, axis=axis, dtype=dtype)\n",
      "/Users/senyastein/miniconda3/envs/satenv/lib/python3.7/site-packages/xarray/core/nanops.py:159: RuntimeWarning: Mean of empty slice\n",
      "  return np.nanmean(a, axis=axis, dtype=dtype)\n"
     ]
    },
    {
     "name": "stdout",
     "output_type": "stream",
     "text": [
      "625\n",
      "./1025/saildrone-gen_5-west_coast_survey_2018-sd1025-20180712T100000-20180712T115959-1_minutes-v2.1535056333768.nc\n"
     ]
    },
    {
     "name": "stderr",
     "output_type": "stream",
     "text": [
      "/Users/senyastein/miniconda3/envs/satenv/lib/python3.7/site-packages/xarray/core/nanops.py:159: RuntimeWarning: Mean of empty slice\n",
      "  return np.nanmean(a, axis=axis, dtype=dtype)\n",
      "/Users/senyastein/miniconda3/envs/satenv/lib/python3.7/site-packages/xarray/core/nanops.py:159: RuntimeWarning: Mean of empty slice\n",
      "  return np.nanmean(a, axis=axis, dtype=dtype)\n"
     ]
    },
    {
     "name": "stdout",
     "output_type": "stream",
     "text": [
      "626\n",
      "./1025/saildrone-gen_5-west_coast_survey_2018-sd1025-20181014T100000-20181014T115959-1_minutes-v2.1539520210717.nc\n",
      "627\n",
      "./1025/saildrone-gen_5-west_coast_survey_2018-sd1025-20180711T180000-20180711T195959-1_minutes-v2.1535056088618.nc\n"
     ]
    },
    {
     "name": "stderr",
     "output_type": "stream",
     "text": [
      "/Users/senyastein/miniconda3/envs/satenv/lib/python3.7/site-packages/xarray/core/nanops.py:159: RuntimeWarning: Mean of empty slice\n",
      "  return np.nanmean(a, axis=axis, dtype=dtype)\n"
     ]
    },
    {
     "name": "stdout",
     "output_type": "stream",
     "text": [
      "628\n",
      "./1025/saildrone-gen_5-west_coast_survey_2018-sd1025-20180627T180000-20180627T195959-1_minutes-v2.1535042504204.nc\n",
      "629\n",
      "./1025/saildrone-gen_5-west_coast_survey_2018-sd1025-20180701T140000-20180701T155959-1_minutes-v2.1535045928861.nc\n"
     ]
    },
    {
     "name": "stderr",
     "output_type": "stream",
     "text": [
      "/Users/senyastein/miniconda3/envs/satenv/lib/python3.7/site-packages/xarray/core/nanops.py:159: RuntimeWarning: Mean of empty slice\n",
      "  return np.nanmean(a, axis=axis, dtype=dtype)\n",
      "/Users/senyastein/miniconda3/envs/satenv/lib/python3.7/site-packages/xarray/core/nanops.py:159: RuntimeWarning: Mean of empty slice\n",
      "  return np.nanmean(a, axis=axis, dtype=dtype)\n"
     ]
    },
    {
     "name": "stdout",
     "output_type": "stream",
     "text": [
      "630\n",
      "./1025/saildrone-gen_5-west_coast_survey_2018-sd1025-20180928T080000-20180928T095959-1_minutes-v2.1538130613133.nc\n",
      "631\n",
      "./1025/saildrone-gen_5-west_coast_survey_2018-sd1025-20180811T080000-20180811T095959-1_minutes-v2.1535066212908.nc\n"
     ]
    },
    {
     "name": "stderr",
     "output_type": "stream",
     "text": [
      "/Users/senyastein/miniconda3/envs/satenv/lib/python3.7/site-packages/xarray/core/nanops.py:159: RuntimeWarning: Mean of empty slice\n",
      "  return np.nanmean(a, axis=axis, dtype=dtype)\n",
      "/Users/senyastein/miniconda3/envs/satenv/lib/python3.7/site-packages/xarray/core/nanops.py:159: RuntimeWarning: Mean of empty slice\n",
      "  return np.nanmean(a, axis=axis, dtype=dtype)\n"
     ]
    },
    {
     "name": "stdout",
     "output_type": "stream",
     "text": [
      "632\n",
      "./1025/saildrone-gen_5-west_coast_survey_2018-sd1025-20181014T020000-20181014T035959-1_minutes-v2.1539491410252.nc\n",
      "633\n",
      "./1025/saildrone-gen_5-west_coast_survey_2018-sd1025-20181016T080000-20181016T095959-1_minutes-v2.1539685810424.nc\n"
     ]
    },
    {
     "name": "stderr",
     "output_type": "stream",
     "text": [
      "/Users/senyastein/miniconda3/envs/satenv/lib/python3.7/site-packages/xarray/core/nanops.py:159: RuntimeWarning: Mean of empty slice\n",
      "  return np.nanmean(a, axis=axis, dtype=dtype)\n",
      "/Users/senyastein/miniconda3/envs/satenv/lib/python3.7/site-packages/xarray/core/nanops.py:159: RuntimeWarning: Mean of empty slice\n",
      "  return np.nanmean(a, axis=axis, dtype=dtype)\n"
     ]
    },
    {
     "name": "stdout",
     "output_type": "stream",
     "text": [
      "634\n",
      "./1025/saildrone-gen_5-west_coast_survey_2018-sd1025-20180922T140000-20180922T155959-1_minutes-v2.1537633814358.nc\n",
      "635\n",
      "./1025/saildrone-gen_5-west_coast_survey_2018-sd1025-20180810T220000-20180810T235959-1_minutes-v2.1535066150114.nc\n"
     ]
    },
    {
     "name": "stderr",
     "output_type": "stream",
     "text": [
      "/Users/senyastein/miniconda3/envs/satenv/lib/python3.7/site-packages/xarray/core/nanops.py:159: RuntimeWarning: Mean of empty slice\n",
      "  return np.nanmean(a, axis=axis, dtype=dtype)\n",
      "/Users/senyastein/miniconda3/envs/satenv/lib/python3.7/site-packages/xarray/core/nanops.py:159: RuntimeWarning: Mean of empty slice\n",
      "  return np.nanmean(a, axis=axis, dtype=dtype)\n"
     ]
    },
    {
     "name": "stdout",
     "output_type": "stream",
     "text": [
      "636\n",
      "./1025/saildrone-gen_5-west_coast_survey_2018-sd1025-20180727T040000-20180727T055959-1_minutes-v2.1535063046798.nc\n"
     ]
    },
    {
     "name": "stderr",
     "output_type": "stream",
     "text": [
      "/Users/senyastein/miniconda3/envs/satenv/lib/python3.7/site-packages/xarray/core/nanops.py:159: RuntimeWarning: Mean of empty slice\n",
      "  return np.nanmean(a, axis=axis, dtype=dtype)\n"
     ]
    },
    {
     "name": "stdout",
     "output_type": "stream",
     "text": [
      "637\n",
      "./1025/saildrone-gen_5-west_coast_survey_2018-sd1025-20180705T140000-20180705T155959-1_minutes-v2.1535049357017.nc\n",
      "638\n",
      "./1025/saildrone-gen_5-west_coast_survey_2018-sd1025-20180928T040000-20180928T055959-1_minutes-v2.1538116226009.nc\n"
     ]
    },
    {
     "name": "stderr",
     "output_type": "stream",
     "text": [
      "/Users/senyastein/miniconda3/envs/satenv/lib/python3.7/site-packages/xarray/core/nanops.py:159: RuntimeWarning: Mean of empty slice\n",
      "  return np.nanmean(a, axis=axis, dtype=dtype)\n",
      "/Users/senyastein/miniconda3/envs/satenv/lib/python3.7/site-packages/xarray/core/nanops.py:159: RuntimeWarning: Mean of empty slice\n",
      "  return np.nanmean(a, axis=axis, dtype=dtype)\n"
     ]
    },
    {
     "name": "stdout",
     "output_type": "stream",
     "text": [
      "639\n",
      "./1025/saildrone-gen_5-west_coast_survey_2018-sd1025-20180714T040000-20180714T055959-1_minutes-v2.1535056977619.nc\n",
      "640\n",
      "./1025/saildrone-gen_5-west_coast_survey_2018-sd1025-20180723T180000-20180723T195959-1_minutes-v2.1535061801304.nc\n"
     ]
    },
    {
     "name": "stderr",
     "output_type": "stream",
     "text": [
      "/Users/senyastein/miniconda3/envs/satenv/lib/python3.7/site-packages/xarray/core/nanops.py:159: RuntimeWarning: Mean of empty slice\n",
      "  return np.nanmean(a, axis=axis, dtype=dtype)\n",
      "/Users/senyastein/miniconda3/envs/satenv/lib/python3.7/site-packages/xarray/core/nanops.py:159: RuntimeWarning: Mean of empty slice\n",
      "  return np.nanmean(a, axis=axis, dtype=dtype)\n"
     ]
    },
    {
     "name": "stdout",
     "output_type": "stream",
     "text": [
      "641\n",
      "./1025/saildrone-gen_5-west_coast_survey_2018-sd1025-20181021T060000-20181021T075959-1_minutes-v2.1540110613366.nc\n",
      "642\n",
      "./1025/saildrone-gen_5-west_coast_survey_2018-sd1025-20180703T040000-20180703T055959-1_minutes-v2.1535046502824.nc\n"
     ]
    },
    {
     "name": "stderr",
     "output_type": "stream",
     "text": [
      "/Users/senyastein/miniconda3/envs/satenv/lib/python3.7/site-packages/xarray/core/nanops.py:159: RuntimeWarning: Mean of empty slice\n",
      "  return np.nanmean(a, axis=axis, dtype=dtype)\n",
      "/Users/senyastein/miniconda3/envs/satenv/lib/python3.7/site-packages/xarray/core/nanops.py:159: RuntimeWarning: Mean of empty slice\n",
      "  return np.nanmean(a, axis=axis, dtype=dtype)\n"
     ]
    },
    {
     "name": "stdout",
     "output_type": "stream",
     "text": [
      "643\n",
      "./1025/saildrone-gen_5-west_coast_survey_2018-sd1025-20180720T080000-20180720T095959-1_minutes-v2.1535060561524.nc\n",
      "644\n",
      "./1025/saildrone-gen_5-west_coast_survey_2018-sd1025-20180702T040000-20180702T055959-1_minutes-v2.1535046139446.nc\n"
     ]
    },
    {
     "name": "stderr",
     "output_type": "stream",
     "text": [
      "/Users/senyastein/miniconda3/envs/satenv/lib/python3.7/site-packages/xarray/core/nanops.py:159: RuntimeWarning: Mean of empty slice\n",
      "  return np.nanmean(a, axis=axis, dtype=dtype)\n",
      "/Users/senyastein/miniconda3/envs/satenv/lib/python3.7/site-packages/xarray/core/nanops.py:159: RuntimeWarning: Mean of empty slice\n",
      "  return np.nanmean(a, axis=axis, dtype=dtype)\n"
     ]
    },
    {
     "name": "stdout",
     "output_type": "stream",
     "text": [
      "645\n",
      "./1025/saildrone-gen_5-west_coast_survey_2018-sd1025-20181018T200000-20181018T215959-1_minutes-v2.1539901814031.nc\n",
      "646\n",
      "./1025/saildrone-gen_5-west_coast_survey_2018-sd1025-20180831T120000-20180831T135959-1_minutes-v2.1535725814556.nc\n"
     ]
    },
    {
     "name": "stderr",
     "output_type": "stream",
     "text": [
      "/Users/senyastein/miniconda3/envs/satenv/lib/python3.7/site-packages/xarray/core/nanops.py:159: RuntimeWarning: Mean of empty slice\n",
      "  return np.nanmean(a, axis=axis, dtype=dtype)\n",
      "/Users/senyastein/miniconda3/envs/satenv/lib/python3.7/site-packages/xarray/core/nanops.py:159: RuntimeWarning: Mean of empty slice\n",
      "  return np.nanmean(a, axis=axis, dtype=dtype)\n"
     ]
    },
    {
     "name": "stdout",
     "output_type": "stream",
     "text": [
      "647\n",
      "./1025/saildrone-gen_5-west_coast_survey_2018-sd1025-20181026T120000-20181026T135959-1_minutes-v2.1540564211829.nc\n",
      "648\n",
      "./1025/saildrone-gen_5-west_coast_survey_2018-sd1025-20180919T140000-20180919T155959-1_minutes-v2.1537374615019.nc\n"
     ]
    },
    {
     "name": "stderr",
     "output_type": "stream",
     "text": [
      "/Users/senyastein/miniconda3/envs/satenv/lib/python3.7/site-packages/xarray/core/nanops.py:159: RuntimeWarning: Mean of empty slice\n",
      "  return np.nanmean(a, axis=axis, dtype=dtype)\n",
      "/Users/senyastein/miniconda3/envs/satenv/lib/python3.7/site-packages/xarray/core/nanops.py:159: RuntimeWarning: Mean of empty slice\n",
      "  return np.nanmean(a, axis=axis, dtype=dtype)\n"
     ]
    },
    {
     "name": "stdout",
     "output_type": "stream",
     "text": [
      "649\n",
      "./1025/saildrone-gen_5-west_coast_survey_2018-sd1025-20181018T100000-20181018T115959-1_minutes-v2.1539865811812.nc\n",
      "650\n",
      "./1025/saildrone-gen_5-west_coast_survey_2018-sd1025-20180914T040000-20180914T055959-1_minutes-v2.1536906615973.nc\n"
     ]
    },
    {
     "name": "stderr",
     "output_type": "stream",
     "text": [
      "/Users/senyastein/miniconda3/envs/satenv/lib/python3.7/site-packages/xarray/core/nanops.py:159: RuntimeWarning: Mean of empty slice\n",
      "  return np.nanmean(a, axis=axis, dtype=dtype)\n",
      "/Users/senyastein/miniconda3/envs/satenv/lib/python3.7/site-packages/xarray/core/nanops.py:159: RuntimeWarning: Mean of empty slice\n",
      "  return np.nanmean(a, axis=axis, dtype=dtype)\n"
     ]
    },
    {
     "name": "stdout",
     "output_type": "stream",
     "text": [
      "651\n",
      "./1025/saildrone-gen_5-west_coast_survey_2018-sd1025-20180715T160000-20180715T175959-1_minutes-v2.1535058880346.nc\n",
      "652\n",
      "./1025/saildrone-gen_5-west_coast_survey_2018-sd1025-20180723T100000-20180723T115959-1_minutes-v2.1535061680208.nc\n"
     ]
    },
    {
     "name": "stderr",
     "output_type": "stream",
     "text": [
      "/Users/senyastein/miniconda3/envs/satenv/lib/python3.7/site-packages/xarray/core/nanops.py:159: RuntimeWarning: Mean of empty slice\n",
      "  return np.nanmean(a, axis=axis, dtype=dtype)\n",
      "/Users/senyastein/miniconda3/envs/satenv/lib/python3.7/site-packages/xarray/core/nanops.py:159: RuntimeWarning: Mean of empty slice\n",
      "  return np.nanmean(a, axis=axis, dtype=dtype)\n"
     ]
    },
    {
     "name": "stdout",
     "output_type": "stream",
     "text": [
      "653\n",
      "./1025/saildrone-gen_5-west_coast_survey_2018-sd1025-20180716T120000-20180716T135959-1_minutes-v2.1535059184137.nc\n",
      "654\n",
      "./1025/saildrone-gen_5-west_coast_survey_2018-sd1025-20181023T120000-20181023T135959-1_minutes-v2.1540305011991.nc\n"
     ]
    },
    {
     "name": "stderr",
     "output_type": "stream",
     "text": [
      "/Users/senyastein/miniconda3/envs/satenv/lib/python3.7/site-packages/xarray/core/nanops.py:159: RuntimeWarning: Mean of empty slice\n",
      "  return np.nanmean(a, axis=axis, dtype=dtype)\n",
      "/Users/senyastein/miniconda3/envs/satenv/lib/python3.7/site-packages/xarray/core/nanops.py:159: RuntimeWarning: Mean of empty slice\n",
      "  return np.nanmean(a, axis=axis, dtype=dtype)\n"
     ]
    },
    {
     "name": "stdout",
     "output_type": "stream",
     "text": [
      "655\n",
      "./1025/saildrone-gen_5-west_coast_survey_2018-sd1025-20180716T200000-20180716T215959-1_minutes-v2.1535059303003.nc\n"
     ]
    },
    {
     "name": "stderr",
     "output_type": "stream",
     "text": [
      "/Users/senyastein/miniconda3/envs/satenv/lib/python3.7/site-packages/xarray/core/nanops.py:159: RuntimeWarning: Mean of empty slice\n",
      "  return np.nanmean(a, axis=axis, dtype=dtype)\n"
     ]
    },
    {
     "name": "stdout",
     "output_type": "stream",
     "text": [
      "656\n",
      "./1025/saildrone-gen_5-west_coast_survey_2018-sd1025-20180918T100000-20180918T115959-1_minutes-v2.1537273814860.nc\n"
     ]
    },
    {
     "name": "stderr",
     "output_type": "stream",
     "text": [
      "/Users/senyastein/miniconda3/envs/satenv/lib/python3.7/site-packages/xarray/core/nanops.py:159: RuntimeWarning: Mean of empty slice\n",
      "  return np.nanmean(a, axis=axis, dtype=dtype)\n"
     ]
    },
    {
     "name": "stdout",
     "output_type": "stream",
     "text": [
      "657\n",
      "./1025/saildrone-gen_5-west_coast_survey_2018-sd1025-20180912T000000-20180912T015959-1_minutes-v2.1536719429914.nc\n"
     ]
    },
    {
     "name": "stderr",
     "output_type": "stream",
     "text": [
      "/Users/senyastein/miniconda3/envs/satenv/lib/python3.7/site-packages/xarray/core/nanops.py:159: RuntimeWarning: Mean of empty slice\n",
      "  return np.nanmean(a, axis=axis, dtype=dtype)\n"
     ]
    },
    {
     "name": "stdout",
     "output_type": "stream",
     "text": [
      "658\n",
      "./1025/saildrone-gen_5-west_coast_survey_2018-sd1025-20180709T060000-20180709T075959-1_minutes-v2.1535055174781.nc\n",
      "659\n",
      "./1025/saildrone-gen_5-west_coast_survey_2018-sd1025-20181012T040000-20181012T055959-1_minutes-v2.1539325811243.nc\n"
     ]
    },
    {
     "name": "stderr",
     "output_type": "stream",
     "text": [
      "/Users/senyastein/miniconda3/envs/satenv/lib/python3.7/site-packages/xarray/core/nanops.py:159: RuntimeWarning: Mean of empty slice\n",
      "  return np.nanmean(a, axis=axis, dtype=dtype)\n",
      "/Users/senyastein/miniconda3/envs/satenv/lib/python3.7/site-packages/xarray/core/nanops.py:159: RuntimeWarning: Mean of empty slice\n",
      "  return np.nanmean(a, axis=axis, dtype=dtype)\n"
     ]
    },
    {
     "name": "stdout",
     "output_type": "stream",
     "text": [
      "660\n",
      "./1025/saildrone-gen_5-west_coast_survey_2018-sd1025-20180716T140000-20180716T155959-1_minutes-v2.1535059214477.nc\n",
      "661\n",
      "./1025/saildrone-gen_5-west_coast_survey_2018-sd1025-20180728T120000-20180728T135959-1_minutes-v2.1535063535219.nc\n"
     ]
    },
    {
     "name": "stderr",
     "output_type": "stream",
     "text": [
      "/Users/senyastein/miniconda3/envs/satenv/lib/python3.7/site-packages/xarray/core/nanops.py:159: RuntimeWarning: Mean of empty slice\n",
      "  return np.nanmean(a, axis=axis, dtype=dtype)\n",
      "/Users/senyastein/miniconda3/envs/satenv/lib/python3.7/site-packages/xarray/core/nanops.py:159: RuntimeWarning: Mean of empty slice\n",
      "  return np.nanmean(a, axis=axis, dtype=dtype)\n"
     ]
    },
    {
     "name": "stdout",
     "output_type": "stream",
     "text": [
      "662\n",
      "./1025/saildrone-gen_5-west_coast_survey_2018-sd1025-20180711T000000-20180711T015959-1_minutes-v2.1535055815308.nc\n"
     ]
    },
    {
     "name": "stderr",
     "output_type": "stream",
     "text": [
      "/Users/senyastein/miniconda3/envs/satenv/lib/python3.7/site-packages/xarray/core/nanops.py:159: RuntimeWarning: Mean of empty slice\n",
      "  return np.nanmean(a, axis=axis, dtype=dtype)\n"
     ]
    },
    {
     "name": "stdout",
     "output_type": "stream",
     "text": [
      "663\n",
      "./1025/saildrone-gen_5-west_coast_survey_2018-sd1025-20180926T060000-20180926T075959-1_minutes-v2.1537950615059.nc\n"
     ]
    },
    {
     "name": "stderr",
     "output_type": "stream",
     "text": [
      "/Users/senyastein/miniconda3/envs/satenv/lib/python3.7/site-packages/xarray/core/nanops.py:159: RuntimeWarning: Mean of empty slice\n",
      "  return np.nanmean(a, axis=axis, dtype=dtype)\n",
      "/Users/senyastein/miniconda3/envs/satenv/lib/python3.7/site-packages/xarray/core/nanops.py:159: RuntimeWarning: Mean of empty slice\n",
      "  return np.nanmean(a, axis=axis, dtype=dtype)\n"
     ]
    },
    {
     "name": "stdout",
     "output_type": "stream",
     "text": [
      "664\n",
      "./1025/saildrone-gen_5-west_coast_survey_2018-sd1025-20180701T100000-20180701T115959-1_minutes-v2.1535045866471.nc\n",
      "665\n",
      "./1025/saildrone-gen_5-west_coast_survey_2018-sd1025-20180906T220000-20180906T235959-1_minutes-v2.1536280220289.nc\n"
     ]
    },
    {
     "name": "stderr",
     "output_type": "stream",
     "text": [
      "/Users/senyastein/miniconda3/envs/satenv/lib/python3.7/site-packages/xarray/core/nanops.py:159: RuntimeWarning: Mean of empty slice\n",
      "  return np.nanmean(a, axis=axis, dtype=dtype)\n"
     ]
    },
    {
     "name": "stdout",
     "output_type": "stream",
     "text": [
      "666\n",
      "./1025/saildrone-gen_5-west_coast_survey_2018-sd1025-20180903T160000-20180903T175959-1_minutes-v2.1535999416088.nc\n"
     ]
    },
    {
     "name": "stderr",
     "output_type": "stream",
     "text": [
      "/Users/senyastein/miniconda3/envs/satenv/lib/python3.7/site-packages/xarray/core/nanops.py:159: RuntimeWarning: Mean of empty slice\n",
      "  return np.nanmean(a, axis=axis, dtype=dtype)\n",
      "/Users/senyastein/miniconda3/envs/satenv/lib/python3.7/site-packages/xarray/core/nanops.py:159: RuntimeWarning: Mean of empty slice\n",
      "  return np.nanmean(a, axis=axis, dtype=dtype)\n"
     ]
    },
    {
     "name": "stdout",
     "output_type": "stream",
     "text": [
      "667\n",
      "./1025/saildrone-gen_5-west_coast_survey_2018-sd1025-20180917T120000-20180917T135959-1_minutes-v2.1537194615690.nc\n",
      "668\n",
      "./1025/saildrone-gen_5-west_coast_survey_2018-sd1025-20181019T200000-20181019T215959-1_minutes-v2.1539988212763.nc\n"
     ]
    },
    {
     "name": "stderr",
     "output_type": "stream",
     "text": [
      "/Users/senyastein/miniconda3/envs/satenv/lib/python3.7/site-packages/xarray/core/nanops.py:159: RuntimeWarning: Mean of empty slice\n",
      "  return np.nanmean(a, axis=axis, dtype=dtype)\n",
      "/Users/senyastein/miniconda3/envs/satenv/lib/python3.7/site-packages/xarray/core/nanops.py:159: RuntimeWarning: Mean of empty slice\n",
      "  return np.nanmean(a, axis=axis, dtype=dtype)\n"
     ]
    },
    {
     "name": "stdout",
     "output_type": "stream",
     "text": [
      "669\n",
      "./1025/saildrone-gen_5-west_coast_survey_2018-sd1025-20180717T180000-20180717T195959-1_minutes-v2.1535059638239.nc\n",
      "670\n",
      "./1025/saildrone-gen_5-west_coast_survey_2018-sd1025-20180912T200000-20180912T215959-1_minutes-v2.1536791414656.nc\n"
     ]
    },
    {
     "name": "stderr",
     "output_type": "stream",
     "text": [
      "/Users/senyastein/miniconda3/envs/satenv/lib/python3.7/site-packages/xarray/core/nanops.py:159: RuntimeWarning: Mean of empty slice\n",
      "  return np.nanmean(a, axis=axis, dtype=dtype)\n",
      "/Users/senyastein/miniconda3/envs/satenv/lib/python3.7/site-packages/xarray/core/nanops.py:159: RuntimeWarning: Mean of empty slice\n",
      "  return np.nanmean(a, axis=axis, dtype=dtype)\n"
     ]
    },
    {
     "name": "stdout",
     "output_type": "stream",
     "text": [
      "671\n",
      "./1025/saildrone-gen_5-west_coast_survey_2018-sd1025-20180723T120000-20180723T135959-1_minutes-v2.1535061711360.nc\n",
      "672\n",
      "./1025/saildrone-gen_5-west_coast_survey_2018-sd1025-20180914T200000-20180914T215959-1_minutes-v2.1536964226343.nc\n"
     ]
    },
    {
     "name": "stderr",
     "output_type": "stream",
     "text": [
      "/Users/senyastein/miniconda3/envs/satenv/lib/python3.7/site-packages/xarray/core/nanops.py:159: RuntimeWarning: Mean of empty slice\n",
      "  return np.nanmean(a, axis=axis, dtype=dtype)\n"
     ]
    },
    {
     "name": "stdout",
     "output_type": "stream",
     "text": [
      "673\n",
      "./1025/saildrone-gen_5-west_coast_survey_2018-sd1025-20181017T200000-20181017T215959-1_minutes-v2.1539815412038.nc\n",
      "674\n",
      "./1025/saildrone-gen_5-west_coast_survey_2018-sd1025-20180815T140000-20180815T155959-1_minutes-v2.1535066173650.nc\n"
     ]
    },
    {
     "name": "stderr",
     "output_type": "stream",
     "text": [
      "/Users/senyastein/miniconda3/envs/satenv/lib/python3.7/site-packages/xarray/core/nanops.py:159: RuntimeWarning: Mean of empty slice\n",
      "  return np.nanmean(a, axis=axis, dtype=dtype)\n",
      "/Users/senyastein/miniconda3/envs/satenv/lib/python3.7/site-packages/xarray/core/nanops.py:159: RuntimeWarning: Mean of empty slice\n",
      "  return np.nanmean(a, axis=axis, dtype=dtype)\n"
     ]
    },
    {
     "name": "stdout",
     "output_type": "stream",
     "text": [
      "675\n",
      "./1025/saildrone-gen_5-west_coast_survey_2018-sd1025-20181004T060000-20181004T075959-1_minutes-v2.1538641851002.nc\n"
     ]
    },
    {
     "name": "stderr",
     "output_type": "stream",
     "text": [
      "/Users/senyastein/miniconda3/envs/satenv/lib/python3.7/site-packages/xarray/core/nanops.py:159: RuntimeWarning: Mean of empty slice\n",
      "  return np.nanmean(a, axis=axis, dtype=dtype)\n"
     ]
    },
    {
     "name": "stdout",
     "output_type": "stream",
     "text": [
      "676\n",
      "./1025/saildrone-gen_5-west_coast_survey_2018-sd1025-20180701T200000-20180701T215959-1_minutes-v2.1535046018177.nc\n"
     ]
    },
    {
     "name": "stderr",
     "output_type": "stream",
     "text": [
      "/Users/senyastein/miniconda3/envs/satenv/lib/python3.7/site-packages/xarray/core/nanops.py:159: RuntimeWarning: Mean of empty slice\n",
      "  return np.nanmean(a, axis=axis, dtype=dtype)\n"
     ]
    },
    {
     "name": "stdout",
     "output_type": "stream",
     "text": [
      "677\n",
      "./1025/saildrone-gen_5-west_coast_survey_2018-sd1025-20180704T040000-20180704T055959-1_minutes-v2.1535046836469.nc\n"
     ]
    },
    {
     "name": "stderr",
     "output_type": "stream",
     "text": [
      "/Users/senyastein/miniconda3/envs/satenv/lib/python3.7/site-packages/xarray/core/nanops.py:159: RuntimeWarning: Mean of empty slice\n",
      "  return np.nanmean(a, axis=axis, dtype=dtype)\n"
     ]
    },
    {
     "name": "stdout",
     "output_type": "stream",
     "text": [
      "678\n",
      "./1025/saildrone-gen_5-west_coast_survey_2018-sd1025-20180927T080000-20180927T095959-1_minutes-v2.1538044214881.nc\n",
      "679\n",
      "./1025/saildrone-gen_5-west_coast_survey_2018-sd1025-20180809T060000-20180809T075959-1_minutes-v2.1535065751751.nc\n"
     ]
    },
    {
     "name": "stderr",
     "output_type": "stream",
     "text": [
      "/Users/senyastein/miniconda3/envs/satenv/lib/python3.7/site-packages/xarray/core/nanops.py:159: RuntimeWarning: Mean of empty slice\n",
      "  return np.nanmean(a, axis=axis, dtype=dtype)\n",
      "/Users/senyastein/miniconda3/envs/satenv/lib/python3.7/site-packages/xarray/core/nanops.py:159: RuntimeWarning: Mean of empty slice\n",
      "  return np.nanmean(a, axis=axis, dtype=dtype)\n"
     ]
    },
    {
     "name": "stdout",
     "output_type": "stream",
     "text": [
      "680\n",
      "./1025/saildrone-gen_5-west_coast_survey_2018-sd1025-20180817T040000-20180817T055959-1_minutes-v2.1535066181804.nc\n"
     ]
    },
    {
     "name": "stderr",
     "output_type": "stream",
     "text": [
      "/Users/senyastein/miniconda3/envs/satenv/lib/python3.7/site-packages/xarray/core/nanops.py:159: RuntimeWarning: Mean of empty slice\n",
      "  return np.nanmean(a, axis=axis, dtype=dtype)\n"
     ]
    },
    {
     "name": "stdout",
     "output_type": "stream",
     "text": [
      "681\n",
      "./1025/saildrone-gen_5-west_coast_survey_2018-sd1025-20181008T100000-20181008T115959-1_minutes-v2.1539001811592.nc\n"
     ]
    },
    {
     "name": "stderr",
     "output_type": "stream",
     "text": [
      "/Users/senyastein/miniconda3/envs/satenv/lib/python3.7/site-packages/xarray/core/nanops.py:159: RuntimeWarning: Mean of empty slice\n",
      "  return np.nanmean(a, axis=axis, dtype=dtype)\n"
     ]
    },
    {
     "name": "stdout",
     "output_type": "stream",
     "text": [
      "682\n",
      "./1025/saildrone-gen_5-west_coast_survey_2018-sd1025-20180823T020000-20180823T035959-1_minutes-v2.1535066211287.nc\n"
     ]
    },
    {
     "name": "stderr",
     "output_type": "stream",
     "text": [
      "/Users/senyastein/miniconda3/envs/satenv/lib/python3.7/site-packages/xarray/core/nanops.py:159: RuntimeWarning: Mean of empty slice\n",
      "  return np.nanmean(a, axis=axis, dtype=dtype)\n"
     ]
    },
    {
     "name": "stdout",
     "output_type": "stream",
     "text": [
      "683\n",
      "./1025/saildrone-gen_5-west_coast_survey_2018-sd1025-20181025T100000-20181025T115959-1_minutes-v2.1540470612908.nc\n"
     ]
    },
    {
     "name": "stderr",
     "output_type": "stream",
     "text": [
      "/Users/senyastein/miniconda3/envs/satenv/lib/python3.7/site-packages/xarray/core/nanops.py:159: RuntimeWarning: Mean of empty slice\n",
      "  return np.nanmean(a, axis=axis, dtype=dtype)\n"
     ]
    },
    {
     "name": "stdout",
     "output_type": "stream",
     "text": [
      "684\n",
      "./1025/saildrone-gen_5-west_coast_survey_2018-sd1025-20180805T220000-20180805T235959-1_minutes-v2.1535065732736.nc\n"
     ]
    },
    {
     "name": "stderr",
     "output_type": "stream",
     "text": [
      "/Users/senyastein/miniconda3/envs/satenv/lib/python3.7/site-packages/xarray/core/nanops.py:159: RuntimeWarning: Mean of empty slice\n",
      "  return np.nanmean(a, axis=axis, dtype=dtype)\n"
     ]
    },
    {
     "name": "stdout",
     "output_type": "stream",
     "text": [
      "685\n",
      "./1025/saildrone-gen_5-west_coast_survey_2018-sd1025-20181013T100000-20181013T115959-1_minutes-v2.1539433810532.nc\n"
     ]
    },
    {
     "name": "stderr",
     "output_type": "stream",
     "text": [
      "/Users/senyastein/miniconda3/envs/satenv/lib/python3.7/site-packages/xarray/core/nanops.py:159: RuntimeWarning: Mean of empty slice\n",
      "  return np.nanmean(a, axis=axis, dtype=dtype)\n"
     ]
    },
    {
     "name": "stdout",
     "output_type": "stream",
     "text": [
      "686\n",
      "./1025/saildrone-gen_5-west_coast_survey_2018-sd1025-20180710T200000-20180710T215959-1_minutes-v2.1535055754324.nc\n"
     ]
    },
    {
     "name": "stderr",
     "output_type": "stream",
     "text": [
      "/Users/senyastein/miniconda3/envs/satenv/lib/python3.7/site-packages/xarray/core/nanops.py:159: RuntimeWarning: Mean of empty slice\n",
      "  return np.nanmean(a, axis=axis, dtype=dtype)\n"
     ]
    },
    {
     "name": "stdout",
     "output_type": "stream",
     "text": [
      "687\n",
      "./1025/saildrone-gen_5-west_coast_survey_2018-sd1025-20181024T100000-20181024T115959-1_minutes-v2.1540384214182.nc\n"
     ]
    },
    {
     "name": "stderr",
     "output_type": "stream",
     "text": [
      "/Users/senyastein/miniconda3/envs/satenv/lib/python3.7/site-packages/xarray/core/nanops.py:159: RuntimeWarning: Mean of empty slice\n",
      "  return np.nanmean(a, axis=axis, dtype=dtype)\n"
     ]
    },
    {
     "name": "stdout",
     "output_type": "stream",
     "text": [
      "688\n",
      "./1025/saildrone-gen_5-west_coast_survey_2018-sd1025-20180719T000000-20180719T015959-1_minutes-v2.1535060081587.nc\n"
     ]
    },
    {
     "name": "stderr",
     "output_type": "stream",
     "text": [
      "/Users/senyastein/miniconda3/envs/satenv/lib/python3.7/site-packages/xarray/core/nanops.py:159: RuntimeWarning: Mean of empty slice\n",
      "  return np.nanmean(a, axis=axis, dtype=dtype)\n"
     ]
    },
    {
     "name": "stdout",
     "output_type": "stream",
     "text": [
      "689\n",
      "./1025/saildrone-gen_5-west_coast_survey_2018-sd1025-20180927T220000-20180927T235959-1_minutes-v2.1538094613154.nc\n",
      "690\n",
      "./1025/saildrone-gen_5-west_coast_survey_2018-sd1025-20180818T060000-20180818T075959-1_minutes-v2.1535066176505.nc\n"
     ]
    },
    {
     "name": "stderr",
     "output_type": "stream",
     "text": [
      "/Users/senyastein/miniconda3/envs/satenv/lib/python3.7/site-packages/xarray/core/nanops.py:159: RuntimeWarning: Mean of empty slice\n",
      "  return np.nanmean(a, axis=axis, dtype=dtype)\n",
      "/Users/senyastein/miniconda3/envs/satenv/lib/python3.7/site-packages/xarray/core/nanops.py:159: RuntimeWarning: Mean of empty slice\n",
      "  return np.nanmean(a, axis=axis, dtype=dtype)\n"
     ]
    },
    {
     "name": "stdout",
     "output_type": "stream",
     "text": [
      "691\n",
      "./1025/saildrone-gen_5-west_coast_survey_2018-sd1025-20180829T200000-20180829T215959-1_minutes-v2.1535581815620.nc\n",
      "692\n",
      "./1025/saildrone-gen_5-west_coast_survey_2018-sd1025-20181015T000000-20181015T015959-1_minutes-v2.1539570610865.nc\n"
     ]
    },
    {
     "name": "stderr",
     "output_type": "stream",
     "text": [
      "/Users/senyastein/miniconda3/envs/satenv/lib/python3.7/site-packages/xarray/core/nanops.py:159: RuntimeWarning: Mean of empty slice\n",
      "  return np.nanmean(a, axis=axis, dtype=dtype)\n",
      "/Users/senyastein/miniconda3/envs/satenv/lib/python3.7/site-packages/xarray/core/nanops.py:159: RuntimeWarning: Mean of empty slice\n",
      "  return np.nanmean(a, axis=axis, dtype=dtype)\n"
     ]
    },
    {
     "name": "stdout",
     "output_type": "stream",
     "text": [
      "693\n",
      "./1025/saildrone-gen_5-west_coast_survey_2018-sd1025-20181013T040000-20181013T055959-1_minutes-v2.1539412210711.nc\n",
      "694\n"
     ]
    },
    {
     "name": "stderr",
     "output_type": "stream",
     "text": [
      "/Users/senyastein/miniconda3/envs/satenv/lib/python3.7/site-packages/xarray/core/nanops.py:159: RuntimeWarning: Mean of empty slice\n",
      "  return np.nanmean(a, axis=axis, dtype=dtype)\n",
      "/Users/senyastein/miniconda3/envs/satenv/lib/python3.7/site-packages/xarray/core/nanops.py:159: RuntimeWarning: Mean of empty slice\n",
      "  return np.nanmean(a, axis=axis, dtype=dtype)\n"
     ]
    },
    {
     "name": "stdout",
     "output_type": "stream",
     "text": [
      "./1025/saildrone-gen_5-west_coast_survey_2018-sd1025-20181007T000000-20181007T015959-1_minutes-v2.1538879412895.nc\n",
      "695\n",
      "./1025/saildrone-gen_5-west_coast_survey_2018-sd1025-20180904T020000-20180904T035959-1_minutes-v2.1536035415628.nc\n"
     ]
    },
    {
     "name": "stderr",
     "output_type": "stream",
     "text": [
      "/Users/senyastein/miniconda3/envs/satenv/lib/python3.7/site-packages/xarray/core/nanops.py:159: RuntimeWarning: Mean of empty slice\n",
      "  return np.nanmean(a, axis=axis, dtype=dtype)\n"
     ]
    },
    {
     "name": "stdout",
     "output_type": "stream",
     "text": [
      "696\n",
      "./1025/saildrone-gen_5-west_coast_survey_2018-sd1025-20180804T220000-20180804T235959-1_minutes-v2.1535065731487.nc\n"
     ]
    },
    {
     "name": "stderr",
     "output_type": "stream",
     "text": [
      "/Users/senyastein/miniconda3/envs/satenv/lib/python3.7/site-packages/xarray/core/nanops.py:159: RuntimeWarning: Mean of empty slice\n",
      "  return np.nanmean(a, axis=axis, dtype=dtype)\n"
     ]
    },
    {
     "name": "stdout",
     "output_type": "stream",
     "text": [
      "697\n",
      "./1025/saildrone-gen_5-west_coast_survey_2018-sd1025-20180826T220000-20180826T235959-1_minutes-v2.1535329814566.nc\n",
      "698\n",
      "./1025/saildrone-gen_5-west_coast_survey_2018-sd1025-20181005T000000-20181005T015959-1_minutes-v2.1538706613422.nc\n"
     ]
    },
    {
     "name": "stderr",
     "output_type": "stream",
     "text": [
      "/Users/senyastein/miniconda3/envs/satenv/lib/python3.7/site-packages/xarray/core/nanops.py:159: RuntimeWarning: Mean of empty slice\n",
      "  return np.nanmean(a, axis=axis, dtype=dtype)\n",
      "/Users/senyastein/miniconda3/envs/satenv/lib/python3.7/site-packages/xarray/core/nanops.py:159: RuntimeWarning: Mean of empty slice\n",
      "  return np.nanmean(a, axis=axis, dtype=dtype)\n"
     ]
    },
    {
     "name": "stdout",
     "output_type": "stream",
     "text": [
      "699\n",
      "./1025/saildrone-gen_5-west_coast_survey_2018-sd1025-20180629T200000-20180629T215959-1_minutes-v2.1535045291147.nc\n"
     ]
    },
    {
     "name": "stderr",
     "output_type": "stream",
     "text": [
      "/Users/senyastein/miniconda3/envs/satenv/lib/python3.7/site-packages/xarray/core/nanops.py:159: RuntimeWarning: Mean of empty slice\n",
      "  return np.nanmean(a, axis=axis, dtype=dtype)\n",
      "/Users/senyastein/miniconda3/envs/satenv/lib/python3.7/site-packages/xarray/core/nanops.py:159: RuntimeWarning: Mean of empty slice\n",
      "  return np.nanmean(a, axis=axis, dtype=dtype)\n"
     ]
    },
    {
     "name": "stdout",
     "output_type": "stream",
     "text": [
      "700\n",
      "./1025/saildrone-gen_5-west_coast_survey_2018-sd1025-20180922T020000-20180922T035959-1_minutes-v2.1537590614075.nc\n",
      "701\n",
      "./1025/saildrone-gen_5-west_coast_survey_2018-sd1025-20181012T060000-20181012T075959-1_minutes-v2.1539333010458.nc\n"
     ]
    },
    {
     "name": "stderr",
     "output_type": "stream",
     "text": [
      "/Users/senyastein/miniconda3/envs/satenv/lib/python3.7/site-packages/xarray/core/nanops.py:159: RuntimeWarning: Mean of empty slice\n",
      "  return np.nanmean(a, axis=axis, dtype=dtype)\n",
      "/Users/senyastein/miniconda3/envs/satenv/lib/python3.7/site-packages/xarray/core/nanops.py:159: RuntimeWarning: Mean of empty slice\n",
      "  return np.nanmean(a, axis=axis, dtype=dtype)\n"
     ]
    },
    {
     "name": "stdout",
     "output_type": "stream",
     "text": [
      "702\n",
      "./1025/saildrone-gen_5-west_coast_survey_2018-sd1025-20180816T040000-20180816T055959-1_minutes-v2.1535066169191.nc\n",
      "703\n",
      "./1025/saildrone-gen_5-west_coast_survey_2018-sd1025-20180911T080000-20180911T095959-1_minutes-v2.1536661816783.nc\n"
     ]
    },
    {
     "name": "stderr",
     "output_type": "stream",
     "text": [
      "/Users/senyastein/miniconda3/envs/satenv/lib/python3.7/site-packages/xarray/core/nanops.py:159: RuntimeWarning: Mean of empty slice\n",
      "  return np.nanmean(a, axis=axis, dtype=dtype)\n",
      "/Users/senyastein/miniconda3/envs/satenv/lib/python3.7/site-packages/xarray/core/nanops.py:159: RuntimeWarning: Mean of empty slice\n",
      "  return np.nanmean(a, axis=axis, dtype=dtype)\n"
     ]
    },
    {
     "name": "stdout",
     "output_type": "stream",
     "text": [
      "704\n",
      "./1025/saildrone-gen_5-west_coast_survey_2018-sd1025-20180728T060000-20180728T075959-1_minutes-v2.1535063442506.nc\n",
      "705\n",
      "./1025/saildrone-gen_5-west_coast_survey_2018-sd1025-20180901T080000-20180901T095959-1_minutes-v2.1535797815413.nc\n"
     ]
    },
    {
     "name": "stderr",
     "output_type": "stream",
     "text": [
      "/Users/senyastein/miniconda3/envs/satenv/lib/python3.7/site-packages/xarray/core/nanops.py:159: RuntimeWarning: Mean of empty slice\n",
      "  return np.nanmean(a, axis=axis, dtype=dtype)\n"
     ]
    },
    {
     "name": "stdout",
     "output_type": "stream",
     "text": [
      "706\n",
      "./1025/saildrone-gen_5-west_coast_survey_2018-sd1025-20180708T020000-20180708T035959-1_minutes-v2.1535054749573.nc\n",
      "707\n",
      "./1025/saildrone-gen_5-west_coast_survey_2018-sd1025-20180724T120000-20180724T135959-1_minutes-v2.1535062077170.nc\n"
     ]
    },
    {
     "name": "stderr",
     "output_type": "stream",
     "text": [
      "/Users/senyastein/miniconda3/envs/satenv/lib/python3.7/site-packages/xarray/core/nanops.py:159: RuntimeWarning: Mean of empty slice\n",
      "  return np.nanmean(a, axis=axis, dtype=dtype)\n",
      "/Users/senyastein/miniconda3/envs/satenv/lib/python3.7/site-packages/xarray/core/nanops.py:159: RuntimeWarning: Mean of empty slice\n",
      "  return np.nanmean(a, axis=axis, dtype=dtype)\n"
     ]
    },
    {
     "name": "stdout",
     "output_type": "stream",
     "text": [
      "708\n",
      "./1025/saildrone-gen_5-west_coast_survey_2018-sd1025-20180816T020000-20180816T035959-1_minutes-v2.1535066177302.nc\n",
      "709\n",
      "./1025/saildrone-gen_5-west_coast_survey_2018-sd1025-20180904T100000-20180904T115959-1_minutes-v2.1536064216402.nc\n"
     ]
    },
    {
     "name": "stderr",
     "output_type": "stream",
     "text": [
      "/Users/senyastein/miniconda3/envs/satenv/lib/python3.7/site-packages/xarray/core/nanops.py:159: RuntimeWarning: Mean of empty slice\n",
      "  return np.nanmean(a, axis=axis, dtype=dtype)\n",
      "/Users/senyastein/miniconda3/envs/satenv/lib/python3.7/site-packages/xarray/core/nanops.py:159: RuntimeWarning: Mean of empty slice\n",
      "  return np.nanmean(a, axis=axis, dtype=dtype)\n"
     ]
    },
    {
     "name": "stdout",
     "output_type": "stream",
     "text": [
      "710\n",
      "./1025/saildrone-gen_5-west_coast_survey_2018-sd1025-20180913T120000-20180913T135959-1_minutes-v2.1536849017232.nc\n"
     ]
    },
    {
     "name": "stderr",
     "output_type": "stream",
     "text": [
      "/Users/senyastein/miniconda3/envs/satenv/lib/python3.7/site-packages/xarray/core/nanops.py:159: RuntimeWarning: Mean of empty slice\n",
      "  return np.nanmean(a, axis=axis, dtype=dtype)\n"
     ]
    },
    {
     "name": "stdout",
     "output_type": "stream",
     "text": [
      "711\n",
      "./1025/saildrone-gen_5-west_coast_survey_2018-sd1025-20180920T000000-20180920T015959-1_minutes-v2.1537410615792.nc\n",
      "712\n",
      "./1025/saildrone-gen_5-west_coast_survey_2018-sd1025-20180921T040000-20180921T055959-1_minutes-v2.1537511428728.nc\n"
     ]
    },
    {
     "name": "stderr",
     "output_type": "stream",
     "text": [
      "/Users/senyastein/miniconda3/envs/satenv/lib/python3.7/site-packages/xarray/core/nanops.py:159: RuntimeWarning: Mean of empty slice\n",
      "  return np.nanmean(a, axis=axis, dtype=dtype)\n",
      "/Users/senyastein/miniconda3/envs/satenv/lib/python3.7/site-packages/xarray/core/nanops.py:159: RuntimeWarning: Mean of empty slice\n",
      "  return np.nanmean(a, axis=axis, dtype=dtype)\n"
     ]
    },
    {
     "name": "stdout",
     "output_type": "stream",
     "text": [
      "713\n",
      "./1025/saildrone-gen_5-west_coast_survey_2018-sd1025-20181002T020000-20181002T035959-1_minutes-v2.1538454613875.nc\n",
      "714\n",
      "./1025/saildrone-gen_5-west_coast_survey_2018-sd1025-20180816T200000-20180816T215959-1_minutes-v2.1535066170048.nc\n"
     ]
    },
    {
     "name": "stderr",
     "output_type": "stream",
     "text": [
      "/Users/senyastein/miniconda3/envs/satenv/lib/python3.7/site-packages/xarray/core/nanops.py:159: RuntimeWarning: Mean of empty slice\n",
      "  return np.nanmean(a, axis=axis, dtype=dtype)\n",
      "/Users/senyastein/miniconda3/envs/satenv/lib/python3.7/site-packages/xarray/core/nanops.py:159: RuntimeWarning: Mean of empty slice\n",
      "  return np.nanmean(a, axis=axis, dtype=dtype)\n"
     ]
    },
    {
     "name": "stdout",
     "output_type": "stream",
     "text": [
      "715\n",
      "./1025/saildrone-gen_5-west_coast_survey_2018-sd1025-20180710T100000-20180710T115959-1_minutes-v2.1535055601701.nc\n",
      "716\n",
      "./1025/saildrone-gen_5-west_coast_survey_2018-sd1025-20180628T140000-20180628T155959-1_minutes-v2.1535044856298.nc\n"
     ]
    },
    {
     "name": "stderr",
     "output_type": "stream",
     "text": [
      "/Users/senyastein/miniconda3/envs/satenv/lib/python3.7/site-packages/xarray/core/nanops.py:159: RuntimeWarning: Mean of empty slice\n",
      "  return np.nanmean(a, axis=axis, dtype=dtype)\n",
      "/Users/senyastein/miniconda3/envs/satenv/lib/python3.7/site-packages/xarray/core/nanops.py:159: RuntimeWarning: Mean of empty slice\n",
      "  return np.nanmean(a, axis=axis, dtype=dtype)\n"
     ]
    },
    {
     "name": "stdout",
     "output_type": "stream",
     "text": [
      "717\n",
      "./1025/saildrone-gen_5-west_coast_survey_2018-sd1025-20181002T120000-20181002T135959-1_minutes-v2.1538490612876.nc\n",
      "718\n",
      "./1025/saildrone-gen_5-west_coast_survey_2018-sd1025-20181025T120000-20181025T135959-1_minutes-v2.1540477876159.nc\n"
     ]
    },
    {
     "name": "stderr",
     "output_type": "stream",
     "text": [
      "/Users/senyastein/miniconda3/envs/satenv/lib/python3.7/site-packages/xarray/core/nanops.py:159: RuntimeWarning: Mean of empty slice\n",
      "  return np.nanmean(a, axis=axis, dtype=dtype)\n",
      "/Users/senyastein/miniconda3/envs/satenv/lib/python3.7/site-packages/xarray/core/nanops.py:159: RuntimeWarning: Mean of empty slice\n",
      "  return np.nanmean(a, axis=axis, dtype=dtype)\n"
     ]
    },
    {
     "name": "stdout",
     "output_type": "stream",
     "text": [
      "719\n",
      "./1025/saildrone-gen_5-west_coast_survey_2018-sd1025-20180924T040000-20180924T055959-1_minutes-v2.1537770614873.nc\n",
      "720\n",
      "./1025/saildrone-gen_5-west_coast_survey_2018-sd1025-20181016T200000-20181016T215959-1_minutes-v2.1539729012361.nc\n"
     ]
    },
    {
     "name": "stderr",
     "output_type": "stream",
     "text": [
      "/Users/senyastein/miniconda3/envs/satenv/lib/python3.7/site-packages/xarray/core/nanops.py:159: RuntimeWarning: Mean of empty slice\n",
      "  return np.nanmean(a, axis=axis, dtype=dtype)\n",
      "/Users/senyastein/miniconda3/envs/satenv/lib/python3.7/site-packages/xarray/core/nanops.py:159: RuntimeWarning: Mean of empty slice\n",
      "  return np.nanmean(a, axis=axis, dtype=dtype)\n"
     ]
    },
    {
     "name": "stdout",
     "output_type": "stream",
     "text": [
      "721\n",
      "./1025/saildrone-gen_5-west_coast_survey_2018-sd1025-20180627T060000-20180627T075959-1_minutes-v2.1535042381312.nc\n"
     ]
    },
    {
     "name": "stderr",
     "output_type": "stream",
     "text": [
      "/Users/senyastein/miniconda3/envs/satenv/lib/python3.7/site-packages/xarray/core/nanops.py:159: RuntimeWarning: Mean of empty slice\n",
      "  return np.nanmean(a, axis=axis, dtype=dtype)\n",
      "/Users/senyastein/miniconda3/envs/satenv/lib/python3.7/site-packages/xarray/core/nanops.py:159: RuntimeWarning: Mean of empty slice\n",
      "  return np.nanmean(a, axis=axis, dtype=dtype)\n"
     ]
    },
    {
     "name": "stdout",
     "output_type": "stream",
     "text": [
      "722\n",
      "./1025/saildrone-gen_5-west_coast_survey_2018-sd1025-20180821T020000-20180821T035959-1_minutes-v2.1535066202389.nc\n",
      "723\n",
      "./1025/saildrone-gen_5-west_coast_survey_2018-sd1025-20180712T020000-20180712T035959-1_minutes-v2.1535056212630.nc\n"
     ]
    },
    {
     "name": "stderr",
     "output_type": "stream",
     "text": [
      "/Users/senyastein/miniconda3/envs/satenv/lib/python3.7/site-packages/xarray/core/nanops.py:159: RuntimeWarning: Mean of empty slice\n",
      "  return np.nanmean(a, axis=axis, dtype=dtype)\n"
     ]
    },
    {
     "name": "stdout",
     "output_type": "stream",
     "text": [
      "724\n",
      "./1025/saildrone-gen_5-west_coast_survey_2018-sd1025-20180705T100000-20180705T115959-1_minutes-v2.1535049296716.nc\n"
     ]
    },
    {
     "name": "stderr",
     "output_type": "stream",
     "text": [
      "/Users/senyastein/miniconda3/envs/satenv/lib/python3.7/site-packages/xarray/core/nanops.py:159: RuntimeWarning: Mean of empty slice\n",
      "  return np.nanmean(a, axis=axis, dtype=dtype)\n"
     ]
    },
    {
     "name": "stdout",
     "output_type": "stream",
     "text": [
      "725\n",
      "./1025/saildrone-gen_5-west_coast_survey_2018-sd1025-20180722T100000-20180722T115959-1_minutes-v2.1535061316107.nc\n"
     ]
    },
    {
     "name": "stderr",
     "output_type": "stream",
     "text": [
      "/Users/senyastein/miniconda3/envs/satenv/lib/python3.7/site-packages/xarray/core/nanops.py:159: RuntimeWarning: Mean of empty slice\n",
      "  return np.nanmean(a, axis=axis, dtype=dtype)\n"
     ]
    },
    {
     "name": "stdout",
     "output_type": "stream",
     "text": [
      "726\n",
      "./1025/saildrone-gen_5-west_coast_survey_2018-sd1025-20180922T200000-20180922T215959-1_minutes-v2.1537655414983.nc\n"
     ]
    },
    {
     "name": "stderr",
     "output_type": "stream",
     "text": [
      "/Users/senyastein/miniconda3/envs/satenv/lib/python3.7/site-packages/xarray/core/nanops.py:159: RuntimeWarning: Mean of empty slice\n",
      "  return np.nanmean(a, axis=axis, dtype=dtype)\n"
     ]
    },
    {
     "name": "stdout",
     "output_type": "stream",
     "text": [
      "727\n",
      "./1025/saildrone-gen_5-west_coast_survey_2018-sd1025-20180722T080000-20180722T095959-1_minutes-v2.1535061285809.nc\n"
     ]
    },
    {
     "name": "stderr",
     "output_type": "stream",
     "text": [
      "/Users/senyastein/miniconda3/envs/satenv/lib/python3.7/site-packages/xarray/core/nanops.py:159: RuntimeWarning: Mean of empty slice\n",
      "  return np.nanmean(a, axis=axis, dtype=dtype)\n"
     ]
    },
    {
     "name": "stdout",
     "output_type": "stream",
     "text": [
      "728\n",
      "./1025/saildrone-gen_5-west_coast_survey_2018-sd1025-20180831T060000-20180831T075959-1_minutes-v2.1535704215946.nc\n"
     ]
    },
    {
     "name": "stderr",
     "output_type": "stream",
     "text": [
      "/Users/senyastein/miniconda3/envs/satenv/lib/python3.7/site-packages/xarray/core/nanops.py:159: RuntimeWarning: Mean of empty slice\n",
      "  return np.nanmean(a, axis=axis, dtype=dtype)\n"
     ]
    },
    {
     "name": "stdout",
     "output_type": "stream",
     "text": [
      "729\n",
      "./1025/saildrone-gen_5-west_coast_survey_2018-sd1025-20180914T180000-20180914T195959-1_minutes-v2.1536957014601.nc\n",
      "730\n",
      "./1025/saildrone-gen_5-west_coast_survey_2018-sd1025-20180927T140000-20180927T155959-1_minutes-v2.1538065815013.nc\n"
     ]
    },
    {
     "name": "stderr",
     "output_type": "stream",
     "text": [
      "/Users/senyastein/miniconda3/envs/satenv/lib/python3.7/site-packages/xarray/core/nanops.py:159: RuntimeWarning: Mean of empty slice\n",
      "  return np.nanmean(a, axis=axis, dtype=dtype)\n",
      "/Users/senyastein/miniconda3/envs/satenv/lib/python3.7/site-packages/xarray/core/nanops.py:159: RuntimeWarning: Mean of empty slice\n",
      "  return np.nanmean(a, axis=axis, dtype=dtype)\n"
     ]
    },
    {
     "name": "stdout",
     "output_type": "stream",
     "text": [
      "731\n",
      "./1025/saildrone-gen_5-west_coast_survey_2018-sd1025-20180828T080000-20180828T095959-1_minutes-v2.1535452214563.nc\n",
      "732\n",
      "./1025/saildrone-gen_5-west_coast_survey_2018-sd1025-20181018T220000-20181018T235959-1_minutes-v2.1539909011591.nc\n"
     ]
    },
    {
     "name": "stderr",
     "output_type": "stream",
     "text": [
      "/Users/senyastein/miniconda3/envs/satenv/lib/python3.7/site-packages/xarray/core/nanops.py:159: RuntimeWarning: Mean of empty slice\n",
      "  return np.nanmean(a, axis=axis, dtype=dtype)\n",
      "/Users/senyastein/miniconda3/envs/satenv/lib/python3.7/site-packages/xarray/core/nanops.py:159: RuntimeWarning: Mean of empty slice\n",
      "  return np.nanmean(a, axis=axis, dtype=dtype)\n"
     ]
    },
    {
     "name": "stdout",
     "output_type": "stream",
     "text": [
      "733\n",
      "./1025/saildrone-gen_5-west_coast_survey_2018-sd1025-20180709T180000-20180709T195959-1_minutes-v2.1535055358249.nc\n",
      "734\n",
      "./1025/saildrone-gen_5-west_coast_survey_2018-sd1025-20180704T120000-20180704T135959-1_minutes-v2.1535046958719.nc\n"
     ]
    },
    {
     "name": "stderr",
     "output_type": "stream",
     "text": [
      "/Users/senyastein/miniconda3/envs/satenv/lib/python3.7/site-packages/xarray/core/nanops.py:159: RuntimeWarning: Mean of empty slice\n",
      "  return np.nanmean(a, axis=axis, dtype=dtype)\n",
      "/Users/senyastein/miniconda3/envs/satenv/lib/python3.7/site-packages/xarray/core/nanops.py:159: RuntimeWarning: Mean of empty slice\n",
      "  return np.nanmean(a, axis=axis, dtype=dtype)\n"
     ]
    },
    {
     "name": "stdout",
     "output_type": "stream",
     "text": [
      "735\n",
      "./1025/saildrone-gen_5-west_coast_survey_2018-sd1025-20180803T080000-20180803T095959-1_minutes-v2.1535065735977.nc\n",
      "736\n",
      "./1025/saildrone-gen_5-west_coast_survey_2018-sd1025-20181001T100000-20181001T115959-1_minutes-v2.1538397012309.nc\n"
     ]
    },
    {
     "name": "stderr",
     "output_type": "stream",
     "text": [
      "/Users/senyastein/miniconda3/envs/satenv/lib/python3.7/site-packages/xarray/core/nanops.py:159: RuntimeWarning: Mean of empty slice\n",
      "  return np.nanmean(a, axis=axis, dtype=dtype)\n",
      "/Users/senyastein/miniconda3/envs/satenv/lib/python3.7/site-packages/xarray/core/nanops.py:159: RuntimeWarning: Mean of empty slice\n",
      "  return np.nanmean(a, axis=axis, dtype=dtype)\n"
     ]
    },
    {
     "name": "stdout",
     "output_type": "stream",
     "text": [
      "737\n",
      "./1025/saildrone-gen_5-west_coast_survey_2018-sd1025-20181012T180000-20181012T195959-1_minutes-v2.1539376211307.nc\n",
      "738\n",
      "./1025/saildrone-gen_5-west_coast_survey_2018-sd1025-20180920T120000-20180920T135959-1_minutes-v2.1537453827740.nc\n"
     ]
    },
    {
     "name": "stderr",
     "output_type": "stream",
     "text": [
      "/Users/senyastein/miniconda3/envs/satenv/lib/python3.7/site-packages/xarray/core/nanops.py:159: RuntimeWarning: Mean of empty slice\n",
      "  return np.nanmean(a, axis=axis, dtype=dtype)\n",
      "/Users/senyastein/miniconda3/envs/satenv/lib/python3.7/site-packages/xarray/core/nanops.py:159: RuntimeWarning: Mean of empty slice\n",
      "  return np.nanmean(a, axis=axis, dtype=dtype)\n"
     ]
    },
    {
     "name": "stdout",
     "output_type": "stream",
     "text": [
      "739\n",
      "./1025/saildrone-gen_5-west_coast_survey_2018-sd1025-20180731T140000-20180731T155959-1_minutes-v2.1535064816766.nc\n",
      "740\n",
      "./1025/saildrone-gen_5-west_coast_survey_2018-sd1025-20180723T060000-20180723T075959-1_minutes-v2.1535061619368.nc\n"
     ]
    },
    {
     "name": "stderr",
     "output_type": "stream",
     "text": [
      "/Users/senyastein/miniconda3/envs/satenv/lib/python3.7/site-packages/xarray/core/nanops.py:159: RuntimeWarning: Mean of empty slice\n",
      "  return np.nanmean(a, axis=axis, dtype=dtype)\n",
      "/Users/senyastein/miniconda3/envs/satenv/lib/python3.7/site-packages/xarray/core/nanops.py:159: RuntimeWarning: Mean of empty slice\n",
      "  return np.nanmean(a, axis=axis, dtype=dtype)\n"
     ]
    },
    {
     "name": "stdout",
     "output_type": "stream",
     "text": [
      "741\n",
      "./1025/saildrone-gen_5-west_coast_survey_2018-sd1025-20180730T120000-20180730T135959-1_minutes-v2.1535064423359.nc\n",
      "742\n",
      "./1025/saildrone-gen_5-west_coast_survey_2018-sd1025-20181007T060000-20181007T075959-1_minutes-v2.1538901012427.nc\n"
     ]
    },
    {
     "name": "stderr",
     "output_type": "stream",
     "text": [
      "/Users/senyastein/miniconda3/envs/satenv/lib/python3.7/site-packages/xarray/core/nanops.py:159: RuntimeWarning: Mean of empty slice\n",
      "  return np.nanmean(a, axis=axis, dtype=dtype)\n",
      "/Users/senyastein/miniconda3/envs/satenv/lib/python3.7/site-packages/xarray/core/nanops.py:159: RuntimeWarning: Mean of empty slice\n",
      "  return np.nanmean(a, axis=axis, dtype=dtype)\n"
     ]
    },
    {
     "name": "stdout",
     "output_type": "stream",
     "text": [
      "743\n",
      "./1025/saildrone-gen_5-west_coast_survey_2018-sd1025-20180923T100000-20180923T115959-1_minutes-v2.1537705815065.nc\n",
      "744\n",
      "./1025/saildrone-gen_5-west_coast_survey_2018-sd1025-20180726T120000-20180726T135959-1_minutes-v2.1535062804895.nc\n"
     ]
    },
    {
     "name": "stderr",
     "output_type": "stream",
     "text": [
      "/Users/senyastein/miniconda3/envs/satenv/lib/python3.7/site-packages/xarray/core/nanops.py:159: RuntimeWarning: Mean of empty slice\n",
      "  return np.nanmean(a, axis=axis, dtype=dtype)\n",
      "/Users/senyastein/miniconda3/envs/satenv/lib/python3.7/site-packages/xarray/core/nanops.py:159: RuntimeWarning: Mean of empty slice\n",
      "  return np.nanmean(a, axis=axis, dtype=dtype)\n"
     ]
    },
    {
     "name": "stdout",
     "output_type": "stream",
     "text": [
      "745\n",
      "./1025/saildrone-gen_5-west_coast_survey_2018-sd1025-20180918T000000-20180918T015959-1_minutes-v2.1537237817505.nc\n",
      "746\n",
      "./1025/saildrone-gen_5-west_coast_survey_2018-sd1025-20180901T220000-20180901T235959-1_minutes-v2.1535848215599.nc\n"
     ]
    },
    {
     "name": "stderr",
     "output_type": "stream",
     "text": [
      "/Users/senyastein/miniconda3/envs/satenv/lib/python3.7/site-packages/xarray/core/nanops.py:159: RuntimeWarning: Mean of empty slice\n",
      "  return np.nanmean(a, axis=axis, dtype=dtype)\n",
      "/Users/senyastein/miniconda3/envs/satenv/lib/python3.7/site-packages/xarray/core/nanops.py:159: RuntimeWarning: Mean of empty slice\n",
      "  return np.nanmean(a, axis=axis, dtype=dtype)\n"
     ]
    },
    {
     "name": "stdout",
     "output_type": "stream",
     "text": [
      "747\n",
      "./1025/saildrone-gen_5-west_coast_survey_2018-sd1025-20181022T080000-20181022T095959-1_minutes-v2.1540204212566.nc\n",
      "748\n",
      "./1025/saildrone-gen_5-west_coast_survey_2018-sd1025-20180909T000000-20180909T015959-1_minutes-v2.1536460215336.nc\n"
     ]
    },
    {
     "name": "stderr",
     "output_type": "stream",
     "text": [
      "/Users/senyastein/miniconda3/envs/satenv/lib/python3.7/site-packages/xarray/core/nanops.py:159: RuntimeWarning: Mean of empty slice\n",
      "  return np.nanmean(a, axis=axis, dtype=dtype)\n",
      "/Users/senyastein/miniconda3/envs/satenv/lib/python3.7/site-packages/xarray/core/nanops.py:159: RuntimeWarning: Mean of empty slice\n",
      "  return np.nanmean(a, axis=axis, dtype=dtype)\n"
     ]
    },
    {
     "name": "stdout",
     "output_type": "stream",
     "text": [
      "749\n",
      "./1025/saildrone-gen_5-west_coast_survey_2018-sd1025-20180702T220000-20180702T235959-1_minutes-v2.1535046412568.nc\n",
      "750\n",
      "./1025/saildrone-gen_5-west_coast_survey_2018-sd1025-20180824T140000-20180824T155959-1_minutes-v2.1535128215584.nc\n"
     ]
    },
    {
     "name": "stderr",
     "output_type": "stream",
     "text": [
      "/Users/senyastein/miniconda3/envs/satenv/lib/python3.7/site-packages/xarray/core/nanops.py:159: RuntimeWarning: Mean of empty slice\n",
      "  return np.nanmean(a, axis=axis, dtype=dtype)\n",
      "/Users/senyastein/miniconda3/envs/satenv/lib/python3.7/site-packages/xarray/core/nanops.py:159: RuntimeWarning: Mean of empty slice\n",
      "  return np.nanmean(a, axis=axis, dtype=dtype)\n"
     ]
    },
    {
     "name": "stdout",
     "output_type": "stream",
     "text": [
      "751\n",
      "./1025/saildrone-gen_5-west_coast_survey_2018-sd1025-20180805T040000-20180805T055959-1_minutes-v2.1535065742082.nc\n",
      "752\n",
      "./1025/saildrone-gen_5-west_coast_survey_2018-sd1025-20181005T100000-20181005T115959-1_minutes-v2.1538742612869.nc\n"
     ]
    },
    {
     "name": "stderr",
     "output_type": "stream",
     "text": [
      "/Users/senyastein/miniconda3/envs/satenv/lib/python3.7/site-packages/xarray/core/nanops.py:159: RuntimeWarning: Mean of empty slice\n",
      "  return np.nanmean(a, axis=axis, dtype=dtype)\n",
      "/Users/senyastein/miniconda3/envs/satenv/lib/python3.7/site-packages/xarray/core/nanops.py:159: RuntimeWarning: Mean of empty slice\n",
      "  return np.nanmean(a, axis=axis, dtype=dtype)\n"
     ]
    },
    {
     "name": "stdout",
     "output_type": "stream",
     "text": [
      "753\n",
      "./1025/saildrone-gen_5-west_coast_survey_2018-sd1025-20180720T040000-20180720T055959-1_minutes-v2.1535060497487.nc\n",
      "754\n",
      "./1025/saildrone-gen_5-west_coast_survey_2018-sd1025-20180808T180000-20180808T195959-1_minutes-v2.1535065757386.nc\n"
     ]
    },
    {
     "name": "stderr",
     "output_type": "stream",
     "text": [
      "/Users/senyastein/miniconda3/envs/satenv/lib/python3.7/site-packages/xarray/core/nanops.py:159: RuntimeWarning: Mean of empty slice\n",
      "  return np.nanmean(a, axis=axis, dtype=dtype)\n",
      "/Users/senyastein/miniconda3/envs/satenv/lib/python3.7/site-packages/xarray/core/nanops.py:159: RuntimeWarning: Mean of empty slice\n",
      "  return np.nanmean(a, axis=axis, dtype=dtype)\n"
     ]
    },
    {
     "name": "stdout",
     "output_type": "stream",
     "text": [
      "755\n",
      "./1025/saildrone-gen_5-west_coast_survey_2018-sd1025-20180910T060000-20180910T075959-1_minutes-v2.1536568219871.nc\n",
      "756\n",
      "./1025/saildrone-gen_5-west_coast_survey_2018-sd1025-20180918T160000-20180918T175959-1_minutes-v2.1537295415258.nc\n"
     ]
    },
    {
     "name": "stderr",
     "output_type": "stream",
     "text": [
      "/Users/senyastein/miniconda3/envs/satenv/lib/python3.7/site-packages/xarray/core/nanops.py:159: RuntimeWarning: Mean of empty slice\n",
      "  return np.nanmean(a, axis=axis, dtype=dtype)\n",
      "/Users/senyastein/miniconda3/envs/satenv/lib/python3.7/site-packages/xarray/core/nanops.py:159: RuntimeWarning: Mean of empty slice\n",
      "  return np.nanmean(a, axis=axis, dtype=dtype)\n"
     ]
    },
    {
     "name": "stdout",
     "output_type": "stream",
     "text": [
      "757\n",
      "./1025/saildrone-gen_5-west_coast_survey_2018-sd1025-20181011T120000-20181011T135959-1_minutes-v2.1539268210865.nc\n",
      "758\n",
      "./1025/saildrone-gen_5-west_coast_survey_2018-sd1025-20180915T200000-20180915T215959-1_minutes-v2.1537050629033.nc\n"
     ]
    },
    {
     "name": "stderr",
     "output_type": "stream",
     "text": [
      "/Users/senyastein/miniconda3/envs/satenv/lib/python3.7/site-packages/xarray/core/nanops.py:159: RuntimeWarning: Mean of empty slice\n",
      "  return np.nanmean(a, axis=axis, dtype=dtype)\n",
      "/Users/senyastein/miniconda3/envs/satenv/lib/python3.7/site-packages/xarray/core/nanops.py:159: RuntimeWarning: Mean of empty slice\n",
      "  return np.nanmean(a, axis=axis, dtype=dtype)\n"
     ]
    },
    {
     "name": "stdout",
     "output_type": "stream",
     "text": [
      "759\n",
      "./1025/saildrone-gen_5-west_coast_survey_2018-sd1025-20180807T120000-20180807T135959-1_minutes-v2.1535065761640.nc\n",
      "760\n",
      "./1025/saildrone-gen_5-west_coast_survey_2018-sd1025-20180919T060000-20180919T075959-1_minutes-v2.1537345817814.nc\n"
     ]
    },
    {
     "name": "stderr",
     "output_type": "stream",
     "text": [
      "/Users/senyastein/miniconda3/envs/satenv/lib/python3.7/site-packages/xarray/core/nanops.py:159: RuntimeWarning: Mean of empty slice\n",
      "  return np.nanmean(a, axis=axis, dtype=dtype)\n",
      "/Users/senyastein/miniconda3/envs/satenv/lib/python3.7/site-packages/xarray/core/nanops.py:159: RuntimeWarning: Mean of empty slice\n",
      "  return np.nanmean(a, axis=axis, dtype=dtype)\n"
     ]
    },
    {
     "name": "stdout",
     "output_type": "stream",
     "text": [
      "761\n",
      "./1025/saildrone-gen_5-west_coast_survey_2018-sd1025-20180706T100000-20180706T115959-1_minutes-v2.1535054203249.nc\n",
      "762\n",
      "./1025/saildrone-gen_5-west_coast_survey_2018-sd1025-20180903T060000-20180903T075959-1_minutes-v2.1535963415974.nc\n"
     ]
    },
    {
     "name": "stderr",
     "output_type": "stream",
     "text": [
      "/Users/senyastein/miniconda3/envs/satenv/lib/python3.7/site-packages/xarray/core/nanops.py:159: RuntimeWarning: Mean of empty slice\n",
      "  return np.nanmean(a, axis=axis, dtype=dtype)\n",
      "/Users/senyastein/miniconda3/envs/satenv/lib/python3.7/site-packages/xarray/core/nanops.py:159: RuntimeWarning: Mean of empty slice\n",
      "  return np.nanmean(a, axis=axis, dtype=dtype)\n"
     ]
    },
    {
     "name": "stdout",
     "output_type": "stream",
     "text": [
      "763\n",
      "./1025/saildrone-gen_5-west_coast_survey_2018-sd1025-20181022T040000-20181022T055959-1_minutes-v2.1540189812254.nc\n",
      "764\n",
      "./1025/saildrone-gen_5-west_coast_survey_2018-sd1025-20180710T060000-20180710T075959-1_minutes-v2.1535055541202.nc\n"
     ]
    },
    {
     "name": "stderr",
     "output_type": "stream",
     "text": [
      "/Users/senyastein/miniconda3/envs/satenv/lib/python3.7/site-packages/xarray/core/nanops.py:159: RuntimeWarning: Mean of empty slice\n",
      "  return np.nanmean(a, axis=axis, dtype=dtype)\n",
      "/Users/senyastein/miniconda3/envs/satenv/lib/python3.7/site-packages/xarray/core/nanops.py:159: RuntimeWarning: Mean of empty slice\n",
      "  return np.nanmean(a, axis=axis, dtype=dtype)\n"
     ]
    },
    {
     "name": "stdout",
     "output_type": "stream",
     "text": [
      "765\n",
      "./1025/saildrone-gen_5-west_coast_survey_2018-sd1025-20180914T080000-20180914T095959-1_minutes-v2.1536921017168.nc\n",
      "766\n",
      "./1025/saildrone-gen_5-west_coast_survey_2018-sd1025-20181019T040000-20181019T055959-1_minutes-v2.1539930612580.nc\n"
     ]
    },
    {
     "name": "stderr",
     "output_type": "stream",
     "text": [
      "/Users/senyastein/miniconda3/envs/satenv/lib/python3.7/site-packages/xarray/core/nanops.py:159: RuntimeWarning: Mean of empty slice\n",
      "  return np.nanmean(a, axis=axis, dtype=dtype)\n",
      "/Users/senyastein/miniconda3/envs/satenv/lib/python3.7/site-packages/xarray/core/nanops.py:159: RuntimeWarning: Mean of empty slice\n",
      "  return np.nanmean(a, axis=axis, dtype=dtype)\n"
     ]
    },
    {
     "name": "stdout",
     "output_type": "stream",
     "text": [
      "767\n",
      "./1025/saildrone-gen_5-west_coast_survey_2018-sd1025-20180730T220000-20180730T235959-1_minutes-v2.1535064573988.nc\n",
      "768\n",
      "./1025/saildrone-gen_5-west_coast_survey_2018-sd1025-20180724T180000-20180724T195959-1_minutes-v2.1535062168709.nc\n"
     ]
    },
    {
     "name": "stderr",
     "output_type": "stream",
     "text": [
      "/Users/senyastein/miniconda3/envs/satenv/lib/python3.7/site-packages/xarray/core/nanops.py:159: RuntimeWarning: Mean of empty slice\n",
      "  return np.nanmean(a, axis=axis, dtype=dtype)\n",
      "/Users/senyastein/miniconda3/envs/satenv/lib/python3.7/site-packages/xarray/core/nanops.py:159: RuntimeWarning: Mean of empty slice\n",
      "  return np.nanmean(a, axis=axis, dtype=dtype)\n"
     ]
    },
    {
     "name": "stdout",
     "output_type": "stream",
     "text": [
      "769\n",
      "./1025/saildrone-gen_5-west_coast_survey_2018-sd1025-20181019T220000-20181019T235959-1_minutes-v2.1539995411767.nc\n",
      "770\n",
      "./1025/saildrone-gen_5-west_coast_survey_2018-sd1025-20180727T140000-20180727T155959-1_minutes-v2.1535063199576.nc\n"
     ]
    },
    {
     "name": "stderr",
     "output_type": "stream",
     "text": [
      "/Users/senyastein/miniconda3/envs/satenv/lib/python3.7/site-packages/xarray/core/nanops.py:159: RuntimeWarning: Mean of empty slice\n",
      "  return np.nanmean(a, axis=axis, dtype=dtype)\n",
      "/Users/senyastein/miniconda3/envs/satenv/lib/python3.7/site-packages/xarray/core/nanops.py:159: RuntimeWarning: Mean of empty slice\n",
      "  return np.nanmean(a, axis=axis, dtype=dtype)\n"
     ]
    },
    {
     "name": "stdout",
     "output_type": "stream",
     "text": [
      "771\n",
      "./1025/saildrone-gen_5-west_coast_survey_2018-sd1025-20180731T120000-20180731T135959-1_minutes-v2.1535064787691.nc\n",
      "772\n",
      "./1025/saildrone-gen_5-west_coast_survey_2018-sd1025-20180830T060000-20180830T075959-1_minutes-v2.1535617816047.nc\n"
     ]
    },
    {
     "name": "stderr",
     "output_type": "stream",
     "text": [
      "/Users/senyastein/miniconda3/envs/satenv/lib/python3.7/site-packages/xarray/core/nanops.py:159: RuntimeWarning: Mean of empty slice\n",
      "  return np.nanmean(a, axis=axis, dtype=dtype)\n",
      "/Users/senyastein/miniconda3/envs/satenv/lib/python3.7/site-packages/xarray/core/nanops.py:159: RuntimeWarning: Mean of empty slice\n",
      "  return np.nanmean(a, axis=axis, dtype=dtype)\n"
     ]
    },
    {
     "name": "stdout",
     "output_type": "stream",
     "text": [
      "773\n",
      "./1025/saildrone-gen_5-west_coast_survey_2018-sd1025-20181025T000000-20181025T015959-1_minutes-v2.1540434666252.nc\n",
      "774\n",
      "./1025/saildrone-gen_5-west_coast_survey_2018-sd1025-20181018T120000-20181018T135959-1_minutes-v2.1539873012949.nc\n"
     ]
    },
    {
     "name": "stderr",
     "output_type": "stream",
     "text": [
      "/Users/senyastein/miniconda3/envs/satenv/lib/python3.7/site-packages/xarray/core/nanops.py:159: RuntimeWarning: Mean of empty slice\n",
      "  return np.nanmean(a, axis=axis, dtype=dtype)\n",
      "/Users/senyastein/miniconda3/envs/satenv/lib/python3.7/site-packages/xarray/core/nanops.py:159: RuntimeWarning: Mean of empty slice\n",
      "  return np.nanmean(a, axis=axis, dtype=dtype)\n"
     ]
    },
    {
     "name": "stdout",
     "output_type": "stream",
     "text": [
      "775\n",
      "./1025/saildrone-gen_5-west_coast_survey_2018-sd1025-20180830T200000-20180830T215959-1_minutes-v2.1535668216189.nc\n",
      "776\n",
      "./1025/saildrone-gen_5-west_coast_survey_2018-sd1025-20180721T200000-20180721T215959-1_minutes-v2.1535061103885.nc\n",
      "777\n"
     ]
    },
    {
     "name": "stderr",
     "output_type": "stream",
     "text": [
      "/Users/senyastein/miniconda3/envs/satenv/lib/python3.7/site-packages/xarray/core/nanops.py:159: RuntimeWarning: Mean of empty slice\n",
      "  return np.nanmean(a, axis=axis, dtype=dtype)\n",
      "/Users/senyastein/miniconda3/envs/satenv/lib/python3.7/site-packages/xarray/core/nanops.py:159: RuntimeWarning: Mean of empty slice\n",
      "  return np.nanmean(a, axis=axis, dtype=dtype)\n"
     ]
    },
    {
     "name": "stdout",
     "output_type": "stream",
     "text": [
      "./1025/saildrone-gen_5-west_coast_survey_2018-sd1025-20181001T200000-20181001T215959-1_minutes-v2.1538433018030.nc\n",
      "778\n",
      "./1025/saildrone-gen_5-west_coast_survey_2018-sd1025-20180717T080000-20180717T095959-1_minutes-v2.1535059486699.nc\n"
     ]
    },
    {
     "name": "stderr",
     "output_type": "stream",
     "text": [
      "/Users/senyastein/miniconda3/envs/satenv/lib/python3.7/site-packages/xarray/core/nanops.py:159: RuntimeWarning: Mean of empty slice\n",
      "  return np.nanmean(a, axis=axis, dtype=dtype)\n",
      "/Users/senyastein/miniconda3/envs/satenv/lib/python3.7/site-packages/xarray/core/nanops.py:159: RuntimeWarning: Mean of empty slice\n",
      "  return np.nanmean(a, axis=axis, dtype=dtype)\n"
     ]
    },
    {
     "name": "stdout",
     "output_type": "stream",
     "text": [
      "779\n",
      "./1025/saildrone-gen_5-west_coast_survey_2018-sd1025-20180820T100000-20180820T115959-1_minutes-v2.1535066198707.nc\n",
      "780\n",
      "./1025/saildrone-gen_5-west_coast_survey_2018-sd1025-20180830T140000-20180830T155959-1_minutes-v2.1535653453488.nc\n"
     ]
    },
    {
     "name": "stderr",
     "output_type": "stream",
     "text": [
      "/Users/senyastein/miniconda3/envs/satenv/lib/python3.7/site-packages/xarray/core/nanops.py:159: RuntimeWarning: Mean of empty slice\n",
      "  return np.nanmean(a, axis=axis, dtype=dtype)\n",
      "/Users/senyastein/miniconda3/envs/satenv/lib/python3.7/site-packages/xarray/core/nanops.py:159: RuntimeWarning: Mean of empty slice\n",
      "  return np.nanmean(a, axis=axis, dtype=dtype)\n"
     ]
    },
    {
     "name": "stdout",
     "output_type": "stream",
     "text": [
      "781\n",
      "./1025/saildrone-gen_5-west_coast_survey_2018-sd1025-20180718T180000-20180718T195959-1_minutes-v2.1535060000635.nc\n",
      "782\n",
      "./1025/saildrone-gen_5-west_coast_survey_2018-sd1025-20180810T160000-20180810T175959-1_minutes-v2.1535066151358.nc\n"
     ]
    },
    {
     "name": "stderr",
     "output_type": "stream",
     "text": [
      "/Users/senyastein/miniconda3/envs/satenv/lib/python3.7/site-packages/xarray/core/nanops.py:159: RuntimeWarning: Mean of empty slice\n",
      "  return np.nanmean(a, axis=axis, dtype=dtype)\n",
      "/Users/senyastein/miniconda3/envs/satenv/lib/python3.7/site-packages/xarray/core/nanops.py:159: RuntimeWarning: Mean of empty slice\n",
      "  return np.nanmean(a, axis=axis, dtype=dtype)\n"
     ]
    },
    {
     "name": "stdout",
     "output_type": "stream",
     "text": [
      "783\n",
      "./1025/saildrone-gen_5-west_coast_survey_2018-sd1025-20180729T100000-20180729T115959-1_minutes-v2.1535063869134.nc\n",
      "784\n",
      "./1025/saildrone-gen_5-west_coast_survey_2018-sd1025-20181004T020000-20181004T035959-1_minutes-v2.1538627413203.nc\n"
     ]
    },
    {
     "name": "stderr",
     "output_type": "stream",
     "text": [
      "/Users/senyastein/miniconda3/envs/satenv/lib/python3.7/site-packages/xarray/core/nanops.py:159: RuntimeWarning: Mean of empty slice\n",
      "  return np.nanmean(a, axis=axis, dtype=dtype)\n",
      "/Users/senyastein/miniconda3/envs/satenv/lib/python3.7/site-packages/xarray/core/nanops.py:159: RuntimeWarning: Mean of empty slice\n",
      "  return np.nanmean(a, axis=axis, dtype=dtype)\n"
     ]
    },
    {
     "name": "stdout",
     "output_type": "stream",
     "text": [
      "785\n",
      "./1025/saildrone-gen_5-west_coast_survey_2018-sd1025-20180930T060000-20180930T075959-1_minutes-v2.1538296212656.nc\n",
      "786\n",
      "./1025/saildrone-gen_5-west_coast_survey_2018-sd1025-20180801T160000-20180801T175959-1_minutes-v2.1535065231262.nc\n",
      "787\n",
      "./1025/saildrone-gen_5-west_coast_survey_2018-sd1025-20180804T020000-20180804T035959-1_minutes-v2.1535065729393.nc\n"
     ]
    },
    {
     "name": "stderr",
     "output_type": "stream",
     "text": [
      "/Users/senyastein/miniconda3/envs/satenv/lib/python3.7/site-packages/xarray/core/nanops.py:159: RuntimeWarning: Mean of empty slice\n",
      "  return np.nanmean(a, axis=axis, dtype=dtype)\n",
      "/Users/senyastein/miniconda3/envs/satenv/lib/python3.7/site-packages/xarray/core/nanops.py:159: RuntimeWarning: Mean of empty slice\n",
      "  return np.nanmean(a, axis=axis, dtype=dtype)\n",
      "/Users/senyastein/miniconda3/envs/satenv/lib/python3.7/site-packages/xarray/core/nanops.py:159: RuntimeWarning: Mean of empty slice\n",
      "  return np.nanmean(a, axis=axis, dtype=dtype)\n",
      "/Users/senyastein/miniconda3/envs/satenv/lib/python3.7/site-packages/xarray/core/nanops.py:159: RuntimeWarning: Mean of empty slice\n",
      "  return np.nanmean(a, axis=axis, dtype=dtype)\n"
     ]
    },
    {
     "name": "stdout",
     "output_type": "stream",
     "text": [
      "788\n",
      "./1025/saildrone-gen_5-west_coast_survey_2018-sd1025-20181009T000000-20181009T015959-1_minutes-v2.1539052220697.nc\n",
      "789\n",
      "./1025/saildrone-gen_5-west_coast_survey_2018-sd1025-20181021T080000-20181021T095959-1_minutes-v2.1540117814403.nc\n"
     ]
    },
    {
     "name": "stderr",
     "output_type": "stream",
     "text": [
      "/Users/senyastein/miniconda3/envs/satenv/lib/python3.7/site-packages/xarray/core/nanops.py:159: RuntimeWarning: Mean of empty slice\n",
      "  return np.nanmean(a, axis=axis, dtype=dtype)\n",
      "/Users/senyastein/miniconda3/envs/satenv/lib/python3.7/site-packages/xarray/core/nanops.py:159: RuntimeWarning: Mean of empty slice\n",
      "  return np.nanmean(a, axis=axis, dtype=dtype)\n"
     ]
    },
    {
     "name": "stdout",
     "output_type": "stream",
     "text": [
      "790\n",
      "./1025/saildrone-gen_5-west_coast_survey_2018-sd1025-20180701T040000-20180701T055959-1_minutes-v2.1535045775087.nc\n",
      "791\n",
      "./1025/saildrone-gen_5-west_coast_survey_2018-sd1025-20181007T160000-20181007T175959-1_minutes-v2.1538937012145.nc\n"
     ]
    },
    {
     "name": "stderr",
     "output_type": "stream",
     "text": [
      "/Users/senyastein/miniconda3/envs/satenv/lib/python3.7/site-packages/xarray/core/nanops.py:159: RuntimeWarning: Mean of empty slice\n",
      "  return np.nanmean(a, axis=axis, dtype=dtype)\n",
      "/Users/senyastein/miniconda3/envs/satenv/lib/python3.7/site-packages/xarray/core/nanops.py:159: RuntimeWarning: Mean of empty slice\n",
      "  return np.nanmean(a, axis=axis, dtype=dtype)\n"
     ]
    },
    {
     "name": "stdout",
     "output_type": "stream",
     "text": [
      "792\n",
      "./1025/saildrone-gen_5-west_coast_survey_2018-sd1025-20180714T080000-20180714T095959-1_minutes-v2.1535057041702.nc\n",
      "793\n",
      "./1025/saildrone-gen_5-west_coast_survey_2018-sd1025-20180914T100000-20180914T115959-1_minutes-v2.1536928214658.nc\n"
     ]
    },
    {
     "name": "stderr",
     "output_type": "stream",
     "text": [
      "/Users/senyastein/miniconda3/envs/satenv/lib/python3.7/site-packages/xarray/core/nanops.py:159: RuntimeWarning: Mean of empty slice\n",
      "  return np.nanmean(a, axis=axis, dtype=dtype)\n",
      "/Users/senyastein/miniconda3/envs/satenv/lib/python3.7/site-packages/xarray/core/nanops.py:159: RuntimeWarning: Mean of empty slice\n",
      "  return np.nanmean(a, axis=axis, dtype=dtype)\n"
     ]
    },
    {
     "name": "stdout",
     "output_type": "stream",
     "text": [
      "794\n",
      "./1025/saildrone-gen_5-west_coast_survey_2018-sd1025-20180806T140000-20180806T155959-1_minutes-v2.1535065734339.nc\n",
      "795\n",
      "./1025/saildrone-gen_5-west_coast_survey_2018-sd1025-20180708T080000-20180708T095959-1_minutes-v2.1535054840488.nc\n"
     ]
    },
    {
     "name": "stderr",
     "output_type": "stream",
     "text": [
      "/Users/senyastein/miniconda3/envs/satenv/lib/python3.7/site-packages/xarray/core/nanops.py:159: RuntimeWarning: Mean of empty slice\n",
      "  return np.nanmean(a, axis=axis, dtype=dtype)\n",
      "/Users/senyastein/miniconda3/envs/satenv/lib/python3.7/site-packages/xarray/core/nanops.py:159: RuntimeWarning: Mean of empty slice\n",
      "  return np.nanmean(a, axis=axis, dtype=dtype)\n"
     ]
    },
    {
     "name": "stdout",
     "output_type": "stream",
     "text": [
      "796\n",
      "./1025/saildrone-gen_5-west_coast_survey_2018-sd1025-20181021T120000-20181021T135959-1_minutes-v2.1540132212759.nc\n",
      "797\n",
      "./1025/saildrone-gen_5-west_coast_survey_2018-sd1025-20180911T220000-20180911T235959-1_minutes-v2.1536712216352.nc\n"
     ]
    },
    {
     "name": "stderr",
     "output_type": "stream",
     "text": [
      "/Users/senyastein/miniconda3/envs/satenv/lib/python3.7/site-packages/xarray/core/nanops.py:159: RuntimeWarning: Mean of empty slice\n",
      "  return np.nanmean(a, axis=axis, dtype=dtype)\n",
      "/Users/senyastein/miniconda3/envs/satenv/lib/python3.7/site-packages/xarray/core/nanops.py:159: RuntimeWarning: Mean of empty slice\n",
      "  return np.nanmean(a, axis=axis, dtype=dtype)\n"
     ]
    },
    {
     "name": "stdout",
     "output_type": "stream",
     "text": [
      "798\n",
      "./1025/saildrone-gen_5-west_coast_survey_2018-sd1025-20181013T220000-20181013T235959-1_minutes-v2.1539477010008.nc\n",
      "799\n",
      "./1025/saildrone-gen_5-west_coast_survey_2018-sd1025-20180803T000000-20180803T015959-1_minutes-v2.1535065724898.nc\n"
     ]
    },
    {
     "name": "stderr",
     "output_type": "stream",
     "text": [
      "/Users/senyastein/miniconda3/envs/satenv/lib/python3.7/site-packages/xarray/core/nanops.py:159: RuntimeWarning: Mean of empty slice\n",
      "  return np.nanmean(a, axis=axis, dtype=dtype)\n",
      "/Users/senyastein/miniconda3/envs/satenv/lib/python3.7/site-packages/xarray/core/nanops.py:159: RuntimeWarning: Mean of empty slice\n",
      "  return np.nanmean(a, axis=axis, dtype=dtype)\n"
     ]
    },
    {
     "name": "stdout",
     "output_type": "stream",
     "text": [
      "800\n",
      "./1025/saildrone-gen_5-west_coast_survey_2018-sd1025-20180629T060000-20180629T075959-1_minutes-v2.1535045089414.nc\n",
      "801\n",
      "./1025/saildrone-gen_5-west_coast_survey_2018-sd1025-20180825T060000-20180825T075959-1_minutes-v2.1535185814653.nc\n"
     ]
    },
    {
     "name": "stderr",
     "output_type": "stream",
     "text": [
      "/Users/senyastein/miniconda3/envs/satenv/lib/python3.7/site-packages/xarray/core/nanops.py:159: RuntimeWarning: Mean of empty slice\n",
      "  return np.nanmean(a, axis=axis, dtype=dtype)\n",
      "/Users/senyastein/miniconda3/envs/satenv/lib/python3.7/site-packages/xarray/core/nanops.py:159: RuntimeWarning: Mean of empty slice\n",
      "  return np.nanmean(a, axis=axis, dtype=dtype)\n"
     ]
    },
    {
     "name": "stdout",
     "output_type": "stream",
     "text": [
      "802\n",
      "./1025/saildrone-gen_5-west_coast_survey_2018-sd1025-20180808T220000-20180808T235959-1_minutes-v2.1535065756975.nc\n",
      "803\n",
      "./1025/saildrone-gen_5-west_coast_survey_2018-sd1025-20180903T040000-20180903T055959-1_minutes-v2.1535956214605.nc\n"
     ]
    },
    {
     "name": "stderr",
     "output_type": "stream",
     "text": [
      "/Users/senyastein/miniconda3/envs/satenv/lib/python3.7/site-packages/xarray/core/nanops.py:159: RuntimeWarning: Mean of empty slice\n",
      "  return np.nanmean(a, axis=axis, dtype=dtype)\n",
      "/Users/senyastein/miniconda3/envs/satenv/lib/python3.7/site-packages/xarray/core/nanops.py:159: RuntimeWarning: Mean of empty slice\n",
      "  return np.nanmean(a, axis=axis, dtype=dtype)\n"
     ]
    },
    {
     "name": "stdout",
     "output_type": "stream",
     "text": [
      "804\n",
      "./1025/saildrone-gen_5-west_coast_survey_2018-sd1025-20180722T020000-20180722T035959-1_minutes-v2.1535061195132.nc\n",
      "805\n",
      "./1025/saildrone-gen_5-west_coast_survey_2018-sd1025-20180824T200000-20180824T215959-1_minutes-v2.1535149815323.nc\n"
     ]
    },
    {
     "name": "stderr",
     "output_type": "stream",
     "text": [
      "/Users/senyastein/miniconda3/envs/satenv/lib/python3.7/site-packages/xarray/core/nanops.py:159: RuntimeWarning: Mean of empty slice\n",
      "  return np.nanmean(a, axis=axis, dtype=dtype)\n",
      "/Users/senyastein/miniconda3/envs/satenv/lib/python3.7/site-packages/xarray/core/nanops.py:159: RuntimeWarning: Mean of empty slice\n",
      "  return np.nanmean(a, axis=axis, dtype=dtype)\n"
     ]
    },
    {
     "name": "stdout",
     "output_type": "stream",
     "text": [
      "806\n",
      "./1025/saildrone-gen_5-west_coast_survey_2018-sd1025-20180924T120000-20180924T135959-1_minutes-v2.1537799414937.nc\n",
      "807\n",
      "./1025/saildrone-gen_5-west_coast_survey_2018-sd1025-20180817T100000-20180817T115959-1_minutes-v2.1535066174048.nc\n"
     ]
    },
    {
     "name": "stderr",
     "output_type": "stream",
     "text": [
      "/Users/senyastein/miniconda3/envs/satenv/lib/python3.7/site-packages/xarray/core/nanops.py:159: RuntimeWarning: Mean of empty slice\n",
      "  return np.nanmean(a, axis=axis, dtype=dtype)\n",
      "/Users/senyastein/miniconda3/envs/satenv/lib/python3.7/site-packages/xarray/core/nanops.py:159: RuntimeWarning: Mean of empty slice\n",
      "  return np.nanmean(a, axis=axis, dtype=dtype)\n"
     ]
    },
    {
     "name": "stdout",
     "output_type": "stream",
     "text": [
      "808\n",
      "./1025/saildrone-gen_5-west_coast_survey_2018-sd1025-20180806T120000-20180806T135959-1_minutes-v2.1535065745474.nc\n",
      "809\n",
      "./1025/saildrone-gen_5-west_coast_survey_2018-sd1025-20180831T100000-20180831T115959-1_minutes-v2.1535718616095.nc\n"
     ]
    },
    {
     "name": "stderr",
     "output_type": "stream",
     "text": [
      "/Users/senyastein/miniconda3/envs/satenv/lib/python3.7/site-packages/xarray/core/nanops.py:159: RuntimeWarning: Mean of empty slice\n",
      "  return np.nanmean(a, axis=axis, dtype=dtype)\n",
      "/Users/senyastein/miniconda3/envs/satenv/lib/python3.7/site-packages/xarray/core/nanops.py:159: RuntimeWarning: Mean of empty slice\n",
      "  return np.nanmean(a, axis=axis, dtype=dtype)\n"
     ]
    },
    {
     "name": "stdout",
     "output_type": "stream",
     "text": [
      "810\n",
      "./1025/saildrone-gen_5-west_coast_survey_2018-sd1025-20180816T060000-20180816T075959-1_minutes-v2.1535066168323.nc\n",
      "811\n",
      "./1025/saildrone-gen_5-west_coast_survey_2018-sd1025-20180720T140000-20180720T155959-1_minutes-v2.1535060650126.nc\n"
     ]
    },
    {
     "name": "stderr",
     "output_type": "stream",
     "text": [
      "/Users/senyastein/miniconda3/envs/satenv/lib/python3.7/site-packages/xarray/core/nanops.py:159: RuntimeWarning: Mean of empty slice\n",
      "  return np.nanmean(a, axis=axis, dtype=dtype)\n",
      "/Users/senyastein/miniconda3/envs/satenv/lib/python3.7/site-packages/xarray/core/nanops.py:159: RuntimeWarning: Mean of empty slice\n",
      "  return np.nanmean(a, axis=axis, dtype=dtype)\n"
     ]
    },
    {
     "name": "stdout",
     "output_type": "stream",
     "text": [
      "812\n",
      "./1025/saildrone-gen_5-west_coast_survey_2018-sd1025-20180816T160000-20180816T175959-1_minutes-v2.1535066177715.nc\n",
      "813\n",
      "./1025/saildrone-gen_5-west_coast_survey_2018-sd1025-20180909T100000-20180909T115959-1_minutes-v2.1536496216518.nc\n"
     ]
    },
    {
     "name": "stderr",
     "output_type": "stream",
     "text": [
      "/Users/senyastein/miniconda3/envs/satenv/lib/python3.7/site-packages/xarray/core/nanops.py:159: RuntimeWarning: Mean of empty slice\n",
      "  return np.nanmean(a, axis=axis, dtype=dtype)\n",
      "/Users/senyastein/miniconda3/envs/satenv/lib/python3.7/site-packages/xarray/core/nanops.py:159: RuntimeWarning: Mean of empty slice\n",
      "  return np.nanmean(a, axis=axis, dtype=dtype)\n"
     ]
    },
    {
     "name": "stdout",
     "output_type": "stream",
     "text": [
      "814\n",
      "./1025/saildrone-gen_5-west_coast_survey_2018-sd1025-20180830T120000-20180830T135959-1_minutes-v2.1535639415837.nc\n",
      "815\n",
      "./1025/saildrone-gen_5-west_coast_survey_2018-sd1025-20180803T180000-20180803T195959-1_minutes-v2.1535065739593.nc\n"
     ]
    },
    {
     "name": "stderr",
     "output_type": "stream",
     "text": [
      "/Users/senyastein/miniconda3/envs/satenv/lib/python3.7/site-packages/xarray/core/nanops.py:159: RuntimeWarning: Mean of empty slice\n",
      "  return np.nanmean(a, axis=axis, dtype=dtype)\n",
      "/Users/senyastein/miniconda3/envs/satenv/lib/python3.7/site-packages/xarray/core/nanops.py:159: RuntimeWarning: Mean of empty slice\n",
      "  return np.nanmean(a, axis=axis, dtype=dtype)\n"
     ]
    },
    {
     "name": "stdout",
     "output_type": "stream",
     "text": [
      "816\n",
      "./1025/saildrone-gen_5-west_coast_survey_2018-sd1025-20181004T180000-20181004T195959-1_minutes-v2.1538685012796.nc\n",
      "817\n",
      "./1025/saildrone-gen_5-west_coast_survey_2018-sd1025-20180630T000000-20180630T015959-1_minutes-v2.1535045351546.nc\n"
     ]
    },
    {
     "name": "stderr",
     "output_type": "stream",
     "text": [
      "/Users/senyastein/miniconda3/envs/satenv/lib/python3.7/site-packages/xarray/core/nanops.py:159: RuntimeWarning: Mean of empty slice\n",
      "  return np.nanmean(a, axis=axis, dtype=dtype)\n",
      "/Users/senyastein/miniconda3/envs/satenv/lib/python3.7/site-packages/xarray/core/nanops.py:159: RuntimeWarning: Mean of empty slice\n",
      "  return np.nanmean(a, axis=axis, dtype=dtype)\n"
     ]
    },
    {
     "name": "stdout",
     "output_type": "stream",
     "text": [
      "818\n",
      "./1025/saildrone-gen_5-west_coast_survey_2018-sd1025-20181007T200000-20181007T215959-1_minutes-v2.1538951411915.nc\n",
      "819\n",
      "./1025/saildrone-gen_5-west_coast_survey_2018-sd1025-20180922T100000-20180922T115959-1_minutes-v2.1537619414452.nc\n"
     ]
    },
    {
     "name": "stderr",
     "output_type": "stream",
     "text": [
      "/Users/senyastein/miniconda3/envs/satenv/lib/python3.7/site-packages/xarray/core/nanops.py:159: RuntimeWarning: Mean of empty slice\n",
      "  return np.nanmean(a, axis=axis, dtype=dtype)\n",
      "/Users/senyastein/miniconda3/envs/satenv/lib/python3.7/site-packages/xarray/core/nanops.py:159: RuntimeWarning: Mean of empty slice\n",
      "  return np.nanmean(a, axis=axis, dtype=dtype)\n"
     ]
    },
    {
     "name": "stdout",
     "output_type": "stream",
     "text": [
      "820\n",
      "./1025/saildrone-gen_5-west_coast_survey_2018-sd1025-20180713T000000-20180713T015959-1_minutes-v2.1535056546200.nc\n",
      "821\n",
      "./1025/saildrone-gen_5-west_coast_survey_2018-sd1025-20180822T100000-20180822T115959-1_minutes-v2.1535066208017.nc\n"
     ]
    },
    {
     "name": "stderr",
     "output_type": "stream",
     "text": [
      "/Users/senyastein/miniconda3/envs/satenv/lib/python3.7/site-packages/xarray/core/nanops.py:159: RuntimeWarning: Mean of empty slice\n",
      "  return np.nanmean(a, axis=axis, dtype=dtype)\n",
      "/Users/senyastein/miniconda3/envs/satenv/lib/python3.7/site-packages/xarray/core/nanops.py:159: RuntimeWarning: Mean of empty slice\n",
      "  return np.nanmean(a, axis=axis, dtype=dtype)\n"
     ]
    },
    {
     "name": "stdout",
     "output_type": "stream",
     "text": [
      "822\n",
      "./1025/saildrone-gen_5-west_coast_survey_2018-sd1025-20180927T020000-20180927T035959-1_minutes-v2.1538022615520.nc\n",
      "823\n",
      "./1025/saildrone-gen_5-west_coast_survey_2018-sd1025-20180901T120000-20180901T135959-1_minutes-v2.1535812215335.nc\n",
      "824\n",
      "./1025/saildrone-gen_5-west_coast_survey_2018-sd1025-20181007T020000-20181007T035959-1_minutes-v2.1538886614425.nc\n"
     ]
    },
    {
     "name": "stderr",
     "output_type": "stream",
     "text": [
      "/Users/senyastein/miniconda3/envs/satenv/lib/python3.7/site-packages/xarray/core/nanops.py:159: RuntimeWarning: Mean of empty slice\n",
      "  return np.nanmean(a, axis=axis, dtype=dtype)\n",
      "/Users/senyastein/miniconda3/envs/satenv/lib/python3.7/site-packages/xarray/core/nanops.py:159: RuntimeWarning: Mean of empty slice\n",
      "  return np.nanmean(a, axis=axis, dtype=dtype)\n"
     ]
    },
    {
     "name": "stdout",
     "output_type": "stream",
     "text": [
      "825\n",
      "./1025/saildrone-gen_5-west_coast_survey_2018-sd1025-20180919T120000-20180919T135959-1_minutes-v2.1537367414699.nc\n",
      "826\n",
      "./1025/saildrone-gen_5-west_coast_survey_2018-sd1025-20180724T140000-20180724T155959-1_minutes-v2.1535062107649.nc\n"
     ]
    },
    {
     "name": "stderr",
     "output_type": "stream",
     "text": [
      "/Users/senyastein/miniconda3/envs/satenv/lib/python3.7/site-packages/xarray/core/nanops.py:159: RuntimeWarning: Mean of empty slice\n",
      "  return np.nanmean(a, axis=axis, dtype=dtype)\n",
      "/Users/senyastein/miniconda3/envs/satenv/lib/python3.7/site-packages/xarray/core/nanops.py:159: RuntimeWarning: Mean of empty slice\n",
      "  return np.nanmean(a, axis=axis, dtype=dtype)\n"
     ]
    },
    {
     "name": "stdout",
     "output_type": "stream",
     "text": [
      "827\n",
      "./1025/saildrone-gen_5-west_coast_survey_2018-sd1025-20180731T160000-20180731T175959-1_minutes-v2.1535064846738.nc\n",
      "828\n",
      "./1025/saildrone-gen_5-west_coast_survey_2018-sd1025-20180806T040000-20180806T055959-1_minutes-v2.1535065740400.nc\n"
     ]
    },
    {
     "name": "stderr",
     "output_type": "stream",
     "text": [
      "/Users/senyastein/miniconda3/envs/satenv/lib/python3.7/site-packages/xarray/core/nanops.py:159: RuntimeWarning: Mean of empty slice\n",
      "  return np.nanmean(a, axis=axis, dtype=dtype)\n",
      "/Users/senyastein/miniconda3/envs/satenv/lib/python3.7/site-packages/xarray/core/nanops.py:159: RuntimeWarning: Mean of empty slice\n",
      "  return np.nanmean(a, axis=axis, dtype=dtype)\n"
     ]
    },
    {
     "name": "stdout",
     "output_type": "stream",
     "text": [
      "829\n",
      "./1025/saildrone-gen_5-west_coast_survey_2018-sd1025-20180804T120000-20180804T135959-1_minutes-v2.1535065761231.nc\n",
      "830\n",
      "./1025/saildrone-gen_5-west_coast_survey_2018-sd1025-20180826T020000-20180826T035959-1_minutes-v2.1535257815192.nc\n"
     ]
    },
    {
     "name": "stderr",
     "output_type": "stream",
     "text": [
      "/Users/senyastein/miniconda3/envs/satenv/lib/python3.7/site-packages/xarray/core/nanops.py:159: RuntimeWarning: Mean of empty slice\n",
      "  return np.nanmean(a, axis=axis, dtype=dtype)\n",
      "/Users/senyastein/miniconda3/envs/satenv/lib/python3.7/site-packages/xarray/core/nanops.py:159: RuntimeWarning: Mean of empty slice\n",
      "  return np.nanmean(a, axis=axis, dtype=dtype)\n"
     ]
    },
    {
     "name": "stdout",
     "output_type": "stream",
     "text": [
      "831\n",
      "./1025/saildrone-gen_5-west_coast_survey_2018-sd1025-20180705T180000-20180705T195959-1_minutes-v2.1535049418801.nc\n",
      "832\n",
      "./1025/saildrone-gen_5-west_coast_survey_2018-sd1025-20180823T200000-20180823T215959-1_minutes-v2.1535066205600.nc\n"
     ]
    },
    {
     "name": "stderr",
     "output_type": "stream",
     "text": [
      "/Users/senyastein/miniconda3/envs/satenv/lib/python3.7/site-packages/xarray/core/nanops.py:159: RuntimeWarning: Mean of empty slice\n",
      "  return np.nanmean(a, axis=axis, dtype=dtype)\n",
      "/Users/senyastein/miniconda3/envs/satenv/lib/python3.7/site-packages/xarray/core/nanops.py:159: RuntimeWarning: Mean of empty slice\n",
      "  return np.nanmean(a, axis=axis, dtype=dtype)\n"
     ]
    },
    {
     "name": "stdout",
     "output_type": "stream",
     "text": [
      "833\n",
      "./1025/saildrone-gen_5-west_coast_survey_2018-sd1025-20180713T060000-20180713T075959-1_minutes-v2.1535056637143.nc\n",
      "834\n",
      "./1025/saildrone-gen_5-west_coast_survey_2018-sd1025-20180816T080000-20180816T095959-1_minutes-v2.1535066178945.nc\n"
     ]
    },
    {
     "name": "stderr",
     "output_type": "stream",
     "text": [
      "/Users/senyastein/miniconda3/envs/satenv/lib/python3.7/site-packages/xarray/core/nanops.py:159: RuntimeWarning: Mean of empty slice\n",
      "  return np.nanmean(a, axis=axis, dtype=dtype)\n",
      "/Users/senyastein/miniconda3/envs/satenv/lib/python3.7/site-packages/xarray/core/nanops.py:159: RuntimeWarning: Mean of empty slice\n",
      "  return np.nanmean(a, axis=axis, dtype=dtype)\n"
     ]
    },
    {
     "name": "stdout",
     "output_type": "stream",
     "text": [
      "835\n",
      "./1025/saildrone-gen_5-west_coast_survey_2018-sd1025-20181001T000000-20181001T015959-1_minutes-v2.1538361025793.nc\n",
      "836\n",
      "./1025/saildrone-gen_5-west_coast_survey_2018-sd1025-20180717T120000-20180717T135959-1_minutes-v2.1535059547287.nc\n",
      "837\n"
     ]
    },
    {
     "name": "stderr",
     "output_type": "stream",
     "text": [
      "/Users/senyastein/miniconda3/envs/satenv/lib/python3.7/site-packages/xarray/core/nanops.py:159: RuntimeWarning: Mean of empty slice\n",
      "  return np.nanmean(a, axis=axis, dtype=dtype)\n",
      "/Users/senyastein/miniconda3/envs/satenv/lib/python3.7/site-packages/xarray/core/nanops.py:159: RuntimeWarning: Mean of empty slice\n",
      "  return np.nanmean(a, axis=axis, dtype=dtype)\n",
      "/Users/senyastein/miniconda3/envs/satenv/lib/python3.7/site-packages/xarray/core/nanops.py:159: RuntimeWarning: Mean of empty slice\n",
      "  return np.nanmean(a, axis=axis, dtype=dtype)\n"
     ]
    },
    {
     "name": "stdout",
     "output_type": "stream",
     "text": [
      "./1025/saildrone-gen_5-west_coast_survey_2018-sd1025-20180720T220000-20180720T235959-1_minutes-v2.1535060770278.nc\n",
      "838\n",
      "./1025/saildrone-gen_5-west_coast_survey_2018-sd1025-20180822T220000-20180822T235959-1_minutes-v2.1535066208425.nc\n",
      "839"
     ]
    },
    {
     "name": "stderr",
     "output_type": "stream",
     "text": [
      "/Users/senyastein/miniconda3/envs/satenv/lib/python3.7/site-packages/xarray/core/nanops.py:159: RuntimeWarning: Mean of empty slice\n",
      "  return np.nanmean(a, axis=axis, dtype=dtype)\n",
      "/Users/senyastein/miniconda3/envs/satenv/lib/python3.7/site-packages/xarray/core/nanops.py:159: RuntimeWarning: Mean of empty slice\n",
      "  return np.nanmean(a, axis=axis, dtype=dtype)\n"
     ]
    },
    {
     "name": "stdout",
     "output_type": "stream",
     "text": [
      "\n",
      "./1025/saildrone-gen_5-west_coast_survey_2018-sd1025-20180908T200000-20180908T215959-1_minutes-v2.1536445815372.nc\n",
      "840\n",
      "./1025/saildrone-gen_5-west_coast_survey_2018-sd1025-20180709T140000-20180709T155959-1_minutes-v2.1535055297032.nc\n"
     ]
    },
    {
     "name": "stderr",
     "output_type": "stream",
     "text": [
      "/Users/senyastein/miniconda3/envs/satenv/lib/python3.7/site-packages/xarray/core/nanops.py:159: RuntimeWarning: Mean of empty slice\n",
      "  return np.nanmean(a, axis=axis, dtype=dtype)\n",
      "/Users/senyastein/miniconda3/envs/satenv/lib/python3.7/site-packages/xarray/core/nanops.py:159: RuntimeWarning: Mean of empty slice\n",
      "  return np.nanmean(a, axis=axis, dtype=dtype)\n"
     ]
    },
    {
     "name": "stdout",
     "output_type": "stream",
     "text": [
      "841\n",
      "./1025/saildrone-gen_5-west_coast_survey_2018-sd1025-20181014T140000-20181014T155959-1_minutes-v2.1539534610855.nc\n",
      "842\n",
      "./1025/saildrone-gen_5-west_coast_survey_2018-sd1025-20180813T080000-20180813T095959-1_minutes-v2.1535066162518.nc\n"
     ]
    },
    {
     "name": "stderr",
     "output_type": "stream",
     "text": [
      "/Users/senyastein/miniconda3/envs/satenv/lib/python3.7/site-packages/xarray/core/nanops.py:159: RuntimeWarning: Mean of empty slice\n",
      "  return np.nanmean(a, axis=axis, dtype=dtype)\n",
      "/Users/senyastein/miniconda3/envs/satenv/lib/python3.7/site-packages/xarray/core/nanops.py:159: RuntimeWarning: Mean of empty slice\n",
      "  return np.nanmean(a, axis=axis, dtype=dtype)\n"
     ]
    },
    {
     "name": "stdout",
     "output_type": "stream",
     "text": [
      "843\n",
      "./1025/saildrone-gen_5-west_coast_survey_2018-sd1025-20180706T060000-20180706T075959-1_minutes-v2.1535054140469.nc\n",
      "844\n",
      "./1025/saildrone-gen_5-west_coast_survey_2018-sd1025-20180808T120000-20180808T135959-1_minutes-v2.1535065755535.nc\n"
     ]
    },
    {
     "name": "stderr",
     "output_type": "stream",
     "text": [
      "/Users/senyastein/miniconda3/envs/satenv/lib/python3.7/site-packages/xarray/core/nanops.py:159: RuntimeWarning: Mean of empty slice\n",
      "  return np.nanmean(a, axis=axis, dtype=dtype)\n"
     ]
    },
    {
     "name": "stdout",
     "output_type": "stream",
     "text": [
      "845\n",
      "./1025/saildrone-gen_5-west_coast_survey_2018-sd1025-20181023T000000-20181023T015959-1_minutes-v2.1540261812287.nc\n"
     ]
    },
    {
     "name": "stderr",
     "output_type": "stream",
     "text": [
      "/Users/senyastein/miniconda3/envs/satenv/lib/python3.7/site-packages/xarray/core/nanops.py:159: RuntimeWarning: Mean of empty slice\n",
      "  return np.nanmean(a, axis=axis, dtype=dtype)\n"
     ]
    },
    {
     "name": "stdout",
     "output_type": "stream",
     "text": [
      "846\n",
      "./1025/saildrone-gen_5-west_coast_survey_2018-sd1025-20181006T200000-20181006T215959-1_minutes-v2.1538865013610.nc\n",
      "847\n",
      "./1025/saildrone-gen_5-west_coast_survey_2018-sd1025-20180821T120000-20180821T135959-1_minutes-v2.1535066203195.nc\n"
     ]
    },
    {
     "name": "stderr",
     "output_type": "stream",
     "text": [
      "/Users/senyastein/miniconda3/envs/satenv/lib/python3.7/site-packages/xarray/core/nanops.py:159: RuntimeWarning: Mean of empty slice\n",
      "  return np.nanmean(a, axis=axis, dtype=dtype)\n",
      "/Users/senyastein/miniconda3/envs/satenv/lib/python3.7/site-packages/xarray/core/nanops.py:159: RuntimeWarning: Mean of empty slice\n",
      "  return np.nanmean(a, axis=axis, dtype=dtype)\n",
      "/Users/senyastein/miniconda3/envs/satenv/lib/python3.7/site-packages/xarray/core/nanops.py:159: RuntimeWarning: Mean of empty slice\n",
      "  return np.nanmean(a, axis=axis, dtype=dtype)\n"
     ]
    },
    {
     "name": "stdout",
     "output_type": "stream",
     "text": [
      "848\n",
      "./1025/saildrone-gen_5-west_coast_survey_2018-sd1025-20180925T220000-20180925T235959-1_minutes-v2.1537921814774.nc\n",
      "849\n",
      "./1025/saildrone-gen_5-west_coast_survey_2018-sd1025-20180915T180000-20180915T195959-1_minutes-v2.1537043415027.nc\n",
      "850\n",
      "./1025/saildrone-gen_5-west_coast_survey_2018-sd1025-20181024T120000-20181024T135959-1_minutes-v2.1540391413584.nc\n"
     ]
    },
    {
     "name": "stderr",
     "output_type": "stream",
     "text": [
      "/Users/senyastein/miniconda3/envs/satenv/lib/python3.7/site-packages/xarray/core/nanops.py:159: RuntimeWarning: Mean of empty slice\n",
      "  return np.nanmean(a, axis=axis, dtype=dtype)\n",
      "/Users/senyastein/miniconda3/envs/satenv/lib/python3.7/site-packages/xarray/core/nanops.py:159: RuntimeWarning: Mean of empty slice\n",
      "  return np.nanmean(a, axis=axis, dtype=dtype)\n"
     ]
    },
    {
     "name": "stdout",
     "output_type": "stream",
     "text": [
      "851\n",
      "./1025/saildrone-gen_5-west_coast_survey_2018-sd1025-20180925T120000-20180925T135959-1_minutes-v2.1537885815686.nc\n"
     ]
    },
    {
     "name": "stderr",
     "output_type": "stream",
     "text": [
      "/Users/senyastein/miniconda3/envs/satenv/lib/python3.7/site-packages/xarray/core/nanops.py:159: RuntimeWarning: Mean of empty slice\n",
      "  return np.nanmean(a, axis=axis, dtype=dtype)\n"
     ]
    },
    {
     "name": "stdout",
     "output_type": "stream",
     "text": [
      "852\n",
      "./1025/saildrone-gen_5-west_coast_survey_2018-sd1025-20180916T020000-20180916T035959-1_minutes-v2.1537072215729.nc\n"
     ]
    },
    {
     "name": "stderr",
     "output_type": "stream",
     "text": [
      "/Users/senyastein/miniconda3/envs/satenv/lib/python3.7/site-packages/xarray/core/nanops.py:159: RuntimeWarning: Mean of empty slice\n",
      "  return np.nanmean(a, axis=axis, dtype=dtype)\n"
     ]
    },
    {
     "name": "stdout",
     "output_type": "stream",
     "text": [
      "853\n",
      "./1025/saildrone-gen_5-west_coast_survey_2018-sd1025-20180814T000000-20180814T015959-1_minutes-v2.1535066157163.nc\n",
      "854\n",
      "./1025/saildrone-gen_5-west_coast_survey_2018-sd1025-20180910T040000-20180910T055959-1_minutes-v2.1536561025416.nc\n",
      "855\n"
     ]
    },
    {
     "name": "stderr",
     "output_type": "stream",
     "text": [
      "/Users/senyastein/miniconda3/envs/satenv/lib/python3.7/site-packages/xarray/core/nanops.py:159: RuntimeWarning: Mean of empty slice\n",
      "  return np.nanmean(a, axis=axis, dtype=dtype)\n",
      "/Users/senyastein/miniconda3/envs/satenv/lib/python3.7/site-packages/xarray/core/nanops.py:159: RuntimeWarning: Mean of empty slice\n",
      "  return np.nanmean(a, axis=axis, dtype=dtype)\n"
     ]
    },
    {
     "name": "stdout",
     "output_type": "stream",
     "text": [
      "./1025/saildrone-gen_5-west_coast_survey_2018-sd1025-20181005T060000-20181005T075959-1_minutes-v2.1538728212106.nc\n",
      "856\n",
      "./1025/saildrone-gen_5-west_coast_survey_2018-sd1025-20180629T180000-20180629T195959-1_minutes-v2.1535045260215.nc\n"
     ]
    },
    {
     "name": "stderr",
     "output_type": "stream",
     "text": [
      "/Users/senyastein/miniconda3/envs/satenv/lib/python3.7/site-packages/xarray/core/nanops.py:159: RuntimeWarning: Mean of empty slice\n",
      "  return np.nanmean(a, axis=axis, dtype=dtype)\n",
      "/Users/senyastein/miniconda3/envs/satenv/lib/python3.7/site-packages/xarray/core/nanops.py:159: RuntimeWarning: Mean of empty slice\n",
      "  return np.nanmean(a, axis=axis, dtype=dtype)\n"
     ]
    },
    {
     "name": "stdout",
     "output_type": "stream",
     "text": [
      "857\n",
      "./1025/saildrone-gen_5-west_coast_survey_2018-sd1025-20180809T140000-20180809T155959-1_minutes-v2.1535065751364.nc\n",
      "858\n",
      "./1025/saildrone-gen_5-west_coast_survey_2018-sd1025-20180923T160000-20180923T175959-1_minutes-v2.1537727416009.nc\n",
      "859\n"
     ]
    },
    {
     "name": "stderr",
     "output_type": "stream",
     "text": [
      "/Users/senyastein/miniconda3/envs/satenv/lib/python3.7/site-packages/xarray/core/nanops.py:159: RuntimeWarning: Mean of empty slice\n",
      "  return np.nanmean(a, axis=axis, dtype=dtype)\n",
      "/Users/senyastein/miniconda3/envs/satenv/lib/python3.7/site-packages/xarray/core/nanops.py:159: RuntimeWarning: Mean of empty slice\n",
      "  return np.nanmean(a, axis=axis, dtype=dtype)\n",
      "/Users/senyastein/miniconda3/envs/satenv/lib/python3.7/site-packages/xarray/core/nanops.py:159: RuntimeWarning: Mean of empty slice\n",
      "  return np.nanmean(a, axis=axis, dtype=dtype)\n"
     ]
    },
    {
     "name": "stdout",
     "output_type": "stream",
     "text": [
      "./1025/saildrone-gen_5-west_coast_survey_2018-sd1025-20180719T160000-20180719T175959-1_minutes-v2.1535060325384.nc\n",
      "860\n",
      "./1025/saildrone-gen_5-west_coast_survey_2018-sd1025-20180723T160000-20180723T175959-1_minutes-v2.1535061772141.nc\n"
     ]
    },
    {
     "name": "stderr",
     "output_type": "stream",
     "text": [
      "/Users/senyastein/miniconda3/envs/satenv/lib/python3.7/site-packages/xarray/core/nanops.py:159: RuntimeWarning: Mean of empty slice\n",
      "  return np.nanmean(a, axis=axis, dtype=dtype)\n",
      "/Users/senyastein/miniconda3/envs/satenv/lib/python3.7/site-packages/xarray/core/nanops.py:159: RuntimeWarning: Mean of empty slice\n",
      "  return np.nanmean(a, axis=axis, dtype=dtype)\n"
     ]
    },
    {
     "name": "stdout",
     "output_type": "stream",
     "text": [
      "861\n",
      "./1025/saildrone-gen_5-west_coast_survey_2018-sd1025-20180725T180000-20180725T195959-1_minutes-v2.1535062531759.nc\n",
      "862\n",
      "./1025/saildrone-gen_5-west_coast_survey_2018-sd1025-20181019T000000-20181019T015959-1_minutes-v2.1539916212756.nc\n"
     ]
    },
    {
     "name": "stderr",
     "output_type": "stream",
     "text": [
      "/Users/senyastein/miniconda3/envs/satenv/lib/python3.7/site-packages/xarray/core/nanops.py:159: RuntimeWarning: Mean of empty slice\n",
      "  return np.nanmean(a, axis=axis, dtype=dtype)\n",
      "/Users/senyastein/miniconda3/envs/satenv/lib/python3.7/site-packages/xarray/core/nanops.py:159: RuntimeWarning: Mean of empty slice\n",
      "  return np.nanmean(a, axis=axis, dtype=dtype)\n"
     ]
    },
    {
     "name": "stdout",
     "output_type": "stream",
     "text": [
      "863\n",
      "./1025/saildrone-gen_5-west_coast_survey_2018-sd1025-20180805T080000-20180805T095959-1_minutes-v2.1535065733947.nc\n",
      "864\n",
      "./1025/saildrone-gen_5-west_coast_survey_2018-sd1025-20180908T140000-20180908T155959-1_minutes-v2.1536424228684.nc\n"
     ]
    },
    {
     "name": "stderr",
     "output_type": "stream",
     "text": [
      "/Users/senyastein/miniconda3/envs/satenv/lib/python3.7/site-packages/xarray/core/nanops.py:159: RuntimeWarning: Mean of empty slice\n",
      "  return np.nanmean(a, axis=axis, dtype=dtype)\n",
      "/Users/senyastein/miniconda3/envs/satenv/lib/python3.7/site-packages/xarray/core/nanops.py:159: RuntimeWarning: Mean of empty slice\n",
      "  return np.nanmean(a, axis=axis, dtype=dtype)\n"
     ]
    },
    {
     "name": "stdout",
     "output_type": "stream",
     "text": [
      "865\n",
      "./1025/saildrone-gen_5-west_coast_survey_2018-sd1025-20181008T040000-20181008T055959-1_minutes-v2.1538980212256.nc\n",
      "866\n",
      "./1025/saildrone-gen_5-west_coast_survey_2018-sd1025-20180925T040000-20180925T055959-1_minutes-v2.1537857016512.nc\n"
     ]
    },
    {
     "name": "stderr",
     "output_type": "stream",
     "text": [
      "/Users/senyastein/miniconda3/envs/satenv/lib/python3.7/site-packages/xarray/core/nanops.py:159: RuntimeWarning: Mean of empty slice\n",
      "  return np.nanmean(a, axis=axis, dtype=dtype)\n",
      "/Users/senyastein/miniconda3/envs/satenv/lib/python3.7/site-packages/xarray/core/nanops.py:159: RuntimeWarning: Mean of empty slice\n",
      "  return np.nanmean(a, axis=axis, dtype=dtype)\n"
     ]
    },
    {
     "name": "stdout",
     "output_type": "stream",
     "text": [
      "867\n",
      "./1025/saildrone-gen_5-west_coast_survey_2018-sd1025-20180827T040000-20180827T055959-1_minutes-v2.1535351415884.nc\n",
      "868\n",
      "./1025/saildrone-gen_5-west_coast_survey_2018-sd1025-20180919T020000-20180919T035959-1_minutes-v2.1537331415246.nc\n"
     ]
    },
    {
     "name": "stderr",
     "output_type": "stream",
     "text": [
      "/Users/senyastein/miniconda3/envs/satenv/lib/python3.7/site-packages/xarray/core/nanops.py:159: RuntimeWarning: Mean of empty slice\n",
      "  return np.nanmean(a, axis=axis, dtype=dtype)\n",
      "/Users/senyastein/miniconda3/envs/satenv/lib/python3.7/site-packages/xarray/core/nanops.py:159: RuntimeWarning: Mean of empty slice\n",
      "  return np.nanmean(a, axis=axis, dtype=dtype)\n"
     ]
    },
    {
     "name": "stdout",
     "output_type": "stream",
     "text": [
      "869\n",
      "./1025/saildrone-gen_5-west_coast_survey_2018-sd1025-20180906T200000-20180906T215959-1_minutes-v2.1536273018023.nc\n",
      "870\n",
      "./1025/saildrone-gen_5-west_coast_survey_2018-sd1025-20180910T140000-20180910T155959-1_minutes-v2.1536597019051.nc\n"
     ]
    },
    {
     "name": "stderr",
     "output_type": "stream",
     "text": [
      "/Users/senyastein/miniconda3/envs/satenv/lib/python3.7/site-packages/xarray/core/nanops.py:159: RuntimeWarning: Mean of empty slice\n",
      "  return np.nanmean(a, axis=axis, dtype=dtype)\n",
      "/Users/senyastein/miniconda3/envs/satenv/lib/python3.7/site-packages/xarray/core/nanops.py:159: RuntimeWarning: Mean of empty slice\n",
      "  return np.nanmean(a, axis=axis, dtype=dtype)\n"
     ]
    },
    {
     "name": "stdout",
     "output_type": "stream",
     "text": [
      "871\n",
      "./1025/saildrone-gen_5-west_coast_survey_2018-sd1025-20180714T140000-20180714T155959-1_minutes-v2.1535057132394.nc\n",
      "872\n",
      "./1025/saildrone-gen_5-west_coast_survey_2018-sd1025-20181011T040000-20181011T055959-1_minutes-v2.1539239410247.nc\n"
     ]
    },
    {
     "name": "stderr",
     "output_type": "stream",
     "text": [
      "/Users/senyastein/miniconda3/envs/satenv/lib/python3.7/site-packages/xarray/core/nanops.py:159: RuntimeWarning: Mean of empty slice\n",
      "  return np.nanmean(a, axis=axis, dtype=dtype)\n",
      "/Users/senyastein/miniconda3/envs/satenv/lib/python3.7/site-packages/xarray/core/nanops.py:159: RuntimeWarning: Mean of empty slice\n",
      "  return np.nanmean(a, axis=axis, dtype=dtype)\n",
      "/Users/senyastein/miniconda3/envs/satenv/lib/python3.7/site-packages/xarray/core/nanops.py:159: RuntimeWarning: Mean of empty slice\n",
      "  return np.nanmean(a, axis=axis, dtype=dtype)\n"
     ]
    },
    {
     "name": "stdout",
     "output_type": "stream",
     "text": [
      "873\n",
      "./1025/saildrone-gen_5-west_coast_survey_2018-sd1025-20180801T120000-20180801T135959-1_minutes-v2.1535065169746.nc\n",
      "874\n",
      "./1025/saildrone-gen_5-west_coast_survey_2018-sd1025-20180724T000000-20180724T015959-1_minutes-v2.1535061894288.nc\n",
      "875\n",
      "./1025/saildrone-gen_5-west_coast_survey_2018-sd1025-20180817T020000-20180817T035959-1_minutes-v2.1535066171271.nc\n"
     ]
    },
    {
     "name": "stderr",
     "output_type": "stream",
     "text": [
      "/Users/senyastein/miniconda3/envs/satenv/lib/python3.7/site-packages/xarray/core/nanops.py:159: RuntimeWarning: Mean of empty slice\n",
      "  return np.nanmean(a, axis=axis, dtype=dtype)\n",
      "/Users/senyastein/miniconda3/envs/satenv/lib/python3.7/site-packages/xarray/core/nanops.py:159: RuntimeWarning: Mean of empty slice\n",
      "  return np.nanmean(a, axis=axis, dtype=dtype)\n"
     ]
    },
    {
     "name": "stdout",
     "output_type": "stream",
     "text": [
      "876\n",
      "./1025/saildrone-gen_5-west_coast_survey_2018-sd1025-20180829T220000-20180829T235959-1_minutes-v2.1535589014584.nc\n",
      "877\n",
      "./1025/saildrone-gen_5-west_coast_survey_2018-sd1025-20180905T040000-20180905T055959-1_minutes-v2.1536129014997.nc\n"
     ]
    },
    {
     "name": "stderr",
     "output_type": "stream",
     "text": [
      "/Users/senyastein/miniconda3/envs/satenv/lib/python3.7/site-packages/xarray/core/nanops.py:159: RuntimeWarning: Mean of empty slice\n",
      "  return np.nanmean(a, axis=axis, dtype=dtype)\n",
      "/Users/senyastein/miniconda3/envs/satenv/lib/python3.7/site-packages/xarray/core/nanops.py:159: RuntimeWarning: Mean of empty slice\n",
      "  return np.nanmean(a, axis=axis, dtype=dtype)\n"
     ]
    },
    {
     "name": "stdout",
     "output_type": "stream",
     "text": [
      "878\n",
      "./1025/saildrone-gen_5-west_coast_survey_2018-sd1025-20180827T120000-20180827T135959-1_minutes-v2.1535380215634.nc\n",
      "879\n",
      "./1025/saildrone-gen_5-west_coast_survey_2018-sd1025-20180909T020000-20180909T035959-1_minutes-v2.1536467418420.nc\n",
      "880\n",
      "./1025/saildrone-gen_5-west_coast_survey_2018-sd1025-20180727T000000-20180727T015959-1_minutes-v2.1535062988759.nc\n"
     ]
    },
    {
     "name": "stderr",
     "output_type": "stream",
     "text": [
      "/Users/senyastein/miniconda3/envs/satenv/lib/python3.7/site-packages/xarray/core/nanops.py:159: RuntimeWarning: Mean of empty slice\n",
      "  return np.nanmean(a, axis=axis, dtype=dtype)\n",
      "/Users/senyastein/miniconda3/envs/satenv/lib/python3.7/site-packages/xarray/core/nanops.py:159: RuntimeWarning: Mean of empty slice\n",
      "  return np.nanmean(a, axis=axis, dtype=dtype)\n"
     ]
    },
    {
     "name": "stdout",
     "output_type": "stream",
     "text": [
      "881\n",
      "./1025/saildrone-gen_5-west_coast_survey_2018-sd1025-20180808T100000-20180808T115959-1_minutes-v2.1535065750317.nc\n",
      "882\n",
      "./1025/saildrone-gen_5-west_coast_survey_2018-sd1025-20180720T020000-20180720T035959-1_minutes-v2.1535060467803.nc\n"
     ]
    },
    {
     "name": "stderr",
     "output_type": "stream",
     "text": [
      "/Users/senyastein/miniconda3/envs/satenv/lib/python3.7/site-packages/xarray/core/nanops.py:159: RuntimeWarning: Mean of empty slice\n",
      "  return np.nanmean(a, axis=axis, dtype=dtype)\n",
      "/Users/senyastein/miniconda3/envs/satenv/lib/python3.7/site-packages/xarray/core/nanops.py:159: RuntimeWarning: Mean of empty slice\n",
      "  return np.nanmean(a, axis=axis, dtype=dtype)\n",
      "/Users/senyastein/miniconda3/envs/satenv/lib/python3.7/site-packages/xarray/core/nanops.py:159: RuntimeWarning: Mean of empty slice\n",
      "  return np.nanmean(a, axis=axis, dtype=dtype)\n"
     ]
    },
    {
     "name": "stdout",
     "output_type": "stream",
     "text": [
      "883\n",
      "./1025/saildrone-gen_5-west_coast_survey_2018-sd1025-20181001T080000-20181001T095959-1_minutes-v2.1538389813143.nc\n",
      "884\n",
      "./1025/saildrone-gen_5-west_coast_survey_2018-sd1025-20180725T160000-20180725T175959-1_minutes-v2.1535062501941.nc\n",
      "885\n",
      "./1025/saildrone-gen_5-west_coast_survey_2018-sd1025-20180803T100000-20180803T115959-1_minutes-v2.1535065737964.nc\n"
     ]
    },
    {
     "name": "stderr",
     "output_type": "stream",
     "text": [
      "/Users/senyastein/miniconda3/envs/satenv/lib/python3.7/site-packages/xarray/core/nanops.py:159: RuntimeWarning: Mean of empty slice\n",
      "  return np.nanmean(a, axis=axis, dtype=dtype)\n",
      "/Users/senyastein/miniconda3/envs/satenv/lib/python3.7/site-packages/xarray/core/nanops.py:159: RuntimeWarning: Mean of empty slice\n",
      "  return np.nanmean(a, axis=axis, dtype=dtype)\n",
      "/Users/senyastein/miniconda3/envs/satenv/lib/python3.7/site-packages/xarray/core/nanops.py:159: RuntimeWarning: Mean of empty slice\n",
      "  return np.nanmean(a, axis=axis, dtype=dtype)\n"
     ]
    },
    {
     "name": "stdout",
     "output_type": "stream",
     "text": [
      "886\n",
      "./1025/saildrone-gen_5-west_coast_survey_2018-sd1025-20180920T060000-20180920T075959-1_minutes-v2.1537432215252.nc\n",
      "887\n",
      "./1025/saildrone-gen_5-west_coast_survey_2018-sd1025-20180821T060000-20180821T075959-1_minutes-v2.1535066192132.nc\n"
     ]
    },
    {
     "name": "stderr",
     "output_type": "stream",
     "text": [
      "/Users/senyastein/miniconda3/envs/satenv/lib/python3.7/site-packages/xarray/core/nanops.py:159: RuntimeWarning: Mean of empty slice\n",
      "  return np.nanmean(a, axis=axis, dtype=dtype)\n",
      "/Users/senyastein/miniconda3/envs/satenv/lib/python3.7/site-packages/xarray/core/nanops.py:159: RuntimeWarning: Mean of empty slice\n",
      "  return np.nanmean(a, axis=axis, dtype=dtype)\n",
      "/Users/senyastein/miniconda3/envs/satenv/lib/python3.7/site-packages/xarray/core/nanops.py:159: RuntimeWarning: Mean of empty slice\n",
      "  return np.nanmean(a, axis=axis, dtype=dtype)\n"
     ]
    },
    {
     "name": "stdout",
     "output_type": "stream",
     "text": [
      "888\n",
      "./1025/saildrone-gen_5-west_coast_survey_2018-sd1025-20180929T140000-20180929T155959-1_minutes-v2.1538238613107.nc\n",
      "889\n",
      "./1025/saildrone-gen_5-west_coast_survey_2018-sd1025-20180717T060000-20180717T075959-1_minutes-v2.1535059456680.nc\n",
      "890\n",
      "./1025/saildrone-gen_5-west_coast_survey_2018-sd1025-20180820T000000-20180820T015959-1_minutes-v2.1535066194174.nc\n",
      "891\n",
      "./1025/saildrone-gen_5-west_coast_survey_2018-sd1025-20181002T000000-20181002T015959-1_minutes-v2.1538447412833.nc\n",
      "892\n",
      "./1025/saildrone-gen_5-west_coast_survey_2018-sd1025-20180904T200000-20180904T215959-1_minutes-v2.1536100215092.nc\n"
     ]
    },
    {
     "name": "stderr",
     "output_type": "stream",
     "text": [
      "/Users/senyastein/miniconda3/envs/satenv/lib/python3.7/site-packages/xarray/core/nanops.py:159: RuntimeWarning: Mean of empty slice\n",
      "  return np.nanmean(a, axis=axis, dtype=dtype)\n",
      "/Users/senyastein/miniconda3/envs/satenv/lib/python3.7/site-packages/xarray/core/nanops.py:159: RuntimeWarning: Mean of empty slice\n",
      "  return np.nanmean(a, axis=axis, dtype=dtype)\n",
      "/Users/senyastein/miniconda3/envs/satenv/lib/python3.7/site-packages/xarray/core/nanops.py:159: RuntimeWarning: Mean of empty slice\n",
      "  return np.nanmean(a, axis=axis, dtype=dtype)\n",
      "/Users/senyastein/miniconda3/envs/satenv/lib/python3.7/site-packages/xarray/core/nanops.py:159: RuntimeWarning: Mean of empty slice\n",
      "  return np.nanmean(a, axis=axis, dtype=dtype)\n",
      "/Users/senyastein/miniconda3/envs/satenv/lib/python3.7/site-packages/xarray/core/nanops.py:159: RuntimeWarning: Mean of empty slice\n",
      "  return np.nanmean(a, axis=axis, dtype=dtype)\n"
     ]
    },
    {
     "name": "stdout",
     "output_type": "stream",
     "text": [
      "893\n",
      "./1025/saildrone-gen_5-west_coast_survey_2018-sd1025-20181013T180000-20181013T195959-1_minutes-v2.1539462610279.nc\n",
      "894\n",
      "./1025/saildrone-gen_5-west_coast_survey_2018-sd1025-20181007T180000-20181007T195959-1_minutes-v2.1538944213102.nc\n",
      "895\n",
      "./1025/saildrone-gen_5-west_coast_survey_2018-sd1025-20180920T100000-20180920T115959-1_minutes-v2.1537446614466.nc\n",
      "896\n",
      "./1025/saildrone-gen_5-west_coast_survey_2018-sd1025-20180710T160000-20180710T175959-1_minutes-v2.1535055693036.nc\n"
     ]
    },
    {
     "name": "stderr",
     "output_type": "stream",
     "text": [
      "/Users/senyastein/miniconda3/envs/satenv/lib/python3.7/site-packages/xarray/core/nanops.py:159: RuntimeWarning: Mean of empty slice\n",
      "  return np.nanmean(a, axis=axis, dtype=dtype)\n",
      "/Users/senyastein/miniconda3/envs/satenv/lib/python3.7/site-packages/xarray/core/nanops.py:159: RuntimeWarning: Mean of empty slice\n",
      "  return np.nanmean(a, axis=axis, dtype=dtype)\n"
     ]
    },
    {
     "name": "stdout",
     "output_type": "stream",
     "text": [
      "897\n",
      "./1025/saildrone-gen_5-west_coast_survey_2018-sd1025-20180721T060000-20180721T075959-1_minutes-v2.1535060891365.nc\n",
      "898\n",
      "./1025/saildrone-gen_5-west_coast_survey_2018-sd1025-20180901T100000-20180901T115959-1_minutes-v2.1535805015081.nc\n",
      "899\n",
      "./1025/saildrone-gen_5-west_coast_survey_2018-sd1025-20181007T080000-20181007T095959-1_minutes-v2.1538908212416.nc\n"
     ]
    },
    {
     "name": "stderr",
     "output_type": "stream",
     "text": [
      "/Users/senyastein/miniconda3/envs/satenv/lib/python3.7/site-packages/xarray/core/nanops.py:159: RuntimeWarning: Mean of empty slice\n",
      "  return np.nanmean(a, axis=axis, dtype=dtype)\n",
      "/Users/senyastein/miniconda3/envs/satenv/lib/python3.7/site-packages/xarray/core/nanops.py:159: RuntimeWarning: Mean of empty slice\n",
      "  return np.nanmean(a, axis=axis, dtype=dtype)\n",
      "/Users/senyastein/miniconda3/envs/satenv/lib/python3.7/site-packages/xarray/core/nanops.py:159: RuntimeWarning: Mean of empty slice\n",
      "  return np.nanmean(a, axis=axis, dtype=dtype)\n"
     ]
    },
    {
     "name": "stdout",
     "output_type": "stream",
     "text": [
      "900\n",
      "./1025/saildrone-gen_5-west_coast_survey_2018-sd1025-20180630T080000-20180630T095959-1_minutes-v2.1535045471808.nc\n",
      "901\n",
      "./1025/saildrone-gen_5-west_coast_survey_2018-sd1025-20180630T180000-20180630T195959-1_minutes-v2.1535045623261.nc\n",
      "902\n",
      "./1025/saildrone-gen_5-west_coast_survey_2018-sd1025-20180728T140000-20180728T155959-1_minutes-v2.1535063564350.nc\n"
     ]
    },
    {
     "name": "stderr",
     "output_type": "stream",
     "text": [
      "/Users/senyastein/miniconda3/envs/satenv/lib/python3.7/site-packages/xarray/core/nanops.py:159: RuntimeWarning: Mean of empty slice\n",
      "  return np.nanmean(a, axis=axis, dtype=dtype)\n",
      "/Users/senyastein/miniconda3/envs/satenv/lib/python3.7/site-packages/xarray/core/nanops.py:159: RuntimeWarning: Mean of empty slice\n",
      "  return np.nanmean(a, axis=axis, dtype=dtype)\n",
      "/Users/senyastein/miniconda3/envs/satenv/lib/python3.7/site-packages/xarray/core/nanops.py:159: RuntimeWarning: Mean of empty slice\n",
      "  return np.nanmean(a, axis=axis, dtype=dtype)\n"
     ]
    },
    {
     "name": "stdout",
     "output_type": "stream",
     "text": [
      "903\n",
      "./1025/saildrone-gen_5-west_coast_survey_2018-sd1025-20181006T220000-20181006T235959-1_minutes-v2.1538872219178.nc\n",
      "904\n",
      "./1025/saildrone-gen_5-west_coast_survey_2018-sd1025-20180913T100000-20180913T115959-1_minutes-v2.1536841827971.nc\n"
     ]
    },
    {
     "name": "stderr",
     "output_type": "stream",
     "text": [
      "/Users/senyastein/miniconda3/envs/satenv/lib/python3.7/site-packages/xarray/core/nanops.py:159: RuntimeWarning: Mean of empty slice\n",
      "  return np.nanmean(a, axis=axis, dtype=dtype)\n",
      "/Users/senyastein/miniconda3/envs/satenv/lib/python3.7/site-packages/xarray/core/nanops.py:159: RuntimeWarning: Mean of empty slice\n",
      "  return np.nanmean(a, axis=axis, dtype=dtype)\n"
     ]
    },
    {
     "name": "stdout",
     "output_type": "stream",
     "text": [
      "905\n",
      "./1025/saildrone-gen_5-west_coast_survey_2018-sd1025-20180707T040000-20180707T055959-1_minutes-v2.1535054442836.nc\n",
      "906\n",
      "./1025/saildrone-gen_5-west_coast_survey_2018-sd1025-20180926T040000-20180926T055959-1_minutes-v2.1537943415743.nc\n"
     ]
    },
    {
     "name": "stderr",
     "output_type": "stream",
     "text": [
      "/Users/senyastein/miniconda3/envs/satenv/lib/python3.7/site-packages/xarray/core/nanops.py:159: RuntimeWarning: Mean of empty slice\n",
      "  return np.nanmean(a, axis=axis, dtype=dtype)\n",
      "/Users/senyastein/miniconda3/envs/satenv/lib/python3.7/site-packages/xarray/core/nanops.py:159: RuntimeWarning: Mean of empty slice\n",
      "  return np.nanmean(a, axis=axis, dtype=dtype)\n"
     ]
    },
    {
     "name": "stdout",
     "output_type": "stream",
     "text": [
      "907\n",
      "./1025/saildrone-gen_5-west_coast_survey_2018-sd1025-20180710T180000-20180710T195959-1_minutes-v2.1535055723474.nc\n",
      "908\n",
      "./1025/saildrone-gen_5-west_coast_survey_2018-sd1025-20181001T060000-20181001T075959-1_minutes-v2.1538382612254.nc\n"
     ]
    },
    {
     "name": "stderr",
     "output_type": "stream",
     "text": [
      "/Users/senyastein/miniconda3/envs/satenv/lib/python3.7/site-packages/xarray/core/nanops.py:159: RuntimeWarning: Mean of empty slice\n",
      "  return np.nanmean(a, axis=axis, dtype=dtype)\n",
      "/Users/senyastein/miniconda3/envs/satenv/lib/python3.7/site-packages/xarray/core/nanops.py:159: RuntimeWarning: Mean of empty slice\n",
      "  return np.nanmean(a, axis=axis, dtype=dtype)\n"
     ]
    },
    {
     "name": "stdout",
     "output_type": "stream",
     "text": [
      "909\n",
      "./1025/saildrone-gen_5-west_coast_survey_2018-sd1025-20181013T080000-20181013T095959-1_minutes-v2.1539426610126.nc\n"
     ]
    },
    {
     "name": "stderr",
     "output_type": "stream",
     "text": [
      "/Users/senyastein/miniconda3/envs/satenv/lib/python3.7/site-packages/xarray/core/nanops.py:159: RuntimeWarning: Mean of empty slice\n",
      "  return np.nanmean(a, axis=axis, dtype=dtype)\n"
     ]
    },
    {
     "name": "stdout",
     "output_type": "stream",
     "text": [
      "910\n",
      "./1027/saildrone-gen_5-west_coast_survey_2018-sd1027-20180916T220000-20180916T235959-1_minutes-v2.1537144215297.nc\n",
      "911\n",
      "./1027/saildrone-gen_5-west_coast_survey_2018-sd1027-20180927T200000-20180927T215959-1_minutes-v2.1538087412935.nc\n",
      "912\n"
     ]
    },
    {
     "name": "stderr",
     "output_type": "stream",
     "text": [
      "/Users/senyastein/miniconda3/envs/satenv/lib/python3.7/site-packages/xarray/core/nanops.py:159: RuntimeWarning: Mean of empty slice\n",
      "  return np.nanmean(a, axis=axis, dtype=dtype)\n",
      "/Users/senyastein/miniconda3/envs/satenv/lib/python3.7/site-packages/xarray/core/nanops.py:159: RuntimeWarning: Mean of empty slice\n",
      "  return np.nanmean(a, axis=axis, dtype=dtype)\n",
      "/Users/senyastein/miniconda3/envs/satenv/lib/python3.7/site-packages/xarray/core/nanops.py:159: RuntimeWarning: Mean of empty slice\n",
      "  return np.nanmean(a, axis=axis, dtype=dtype)\n"
     ]
    },
    {
     "name": "stdout",
     "output_type": "stream",
     "text": [
      "./1027/saildrone-gen_5-west_coast_survey_2018-sd1027-20180905T200000-20180905T215959-1_minutes-v2.1536186615624.nc\n",
      "913\n",
      "./1027/saildrone-gen_5-west_coast_survey_2018-sd1027-20180701T000000-20180701T055959-1_minutes-v2.1533313711032.nc\n",
      "914\n"
     ]
    },
    {
     "name": "stderr",
     "output_type": "stream",
     "text": [
      "/Users/senyastein/miniconda3/envs/satenv/lib/python3.7/site-packages/xarray/core/nanops.py:159: RuntimeWarning: Mean of empty slice\n",
      "  return np.nanmean(a, axis=axis, dtype=dtype)\n",
      "/Users/senyastein/miniconda3/envs/satenv/lib/python3.7/site-packages/xarray/core/nanops.py:159: RuntimeWarning: Mean of empty slice\n",
      "  return np.nanmean(a, axis=axis, dtype=dtype)\n",
      "/Users/senyastein/miniconda3/envs/satenv/lib/python3.7/site-packages/xarray/core/nanops.py:159: RuntimeWarning: Mean of empty slice\n",
      "  return np.nanmean(a, axis=axis, dtype=dtype)\n"
     ]
    },
    {
     "name": "stdout",
     "output_type": "stream",
     "text": [
      "./1027/saildrone-gen_5-west_coast_survey_2018-sd1027-20181003T000000-20181003T015959-1_minutes-v2.1538533824908.nc\n",
      "915\n",
      "./1027/saildrone-gen_5-west_coast_survey_2018-sd1027-20180921T000000-20180921T015959-1_minutes-v2.1537497016464.nc\n",
      "916\n",
      "./1027/saildrone-gen_5-west_coast_survey_2018-sd1027-20180909T100000-20180909T115959-1_minutes-v2.1536496214871.nc\n"
     ]
    },
    {
     "name": "stderr",
     "output_type": "stream",
     "text": [
      "/Users/senyastein/miniconda3/envs/satenv/lib/python3.7/site-packages/xarray/core/nanops.py:159: RuntimeWarning: Mean of empty slice\n",
      "  return np.nanmean(a, axis=axis, dtype=dtype)\n",
      "/Users/senyastein/miniconda3/envs/satenv/lib/python3.7/site-packages/xarray/core/nanops.py:159: RuntimeWarning: Mean of empty slice\n",
      "  return np.nanmean(a, axis=axis, dtype=dtype)\n"
     ]
    },
    {
     "name": "stdout",
     "output_type": "stream",
     "text": [
      "917\n",
      "./1027/saildrone-gen_5-west_coast_survey_2018-sd1027-20180812T000000-20180812T055959-1_minutes-v2.1534057238168.nc\n",
      "918\n",
      "./1027/saildrone-gen_5-west_coast_survey_2018-sd1027-20180728T120000-20180728T175959-1_minutes-v2.1533320295299.nc\n"
     ]
    },
    {
     "name": "stderr",
     "output_type": "stream",
     "text": [
      "/Users/senyastein/miniconda3/envs/satenv/lib/python3.7/site-packages/xarray/core/nanops.py:159: RuntimeWarning: Mean of empty slice\n",
      "  return np.nanmean(a, axis=axis, dtype=dtype)\n",
      "/Users/senyastein/miniconda3/envs/satenv/lib/python3.7/site-packages/xarray/core/nanops.py:159: RuntimeWarning: Mean of empty slice\n",
      "  return np.nanmean(a, axis=axis, dtype=dtype)\n"
     ]
    },
    {
     "name": "stdout",
     "output_type": "stream",
     "text": [
      "919\n",
      "./1027/saildrone-gen_5-west_coast_survey_2018-sd1027-20180826T220000-20180826T235959-1_minutes-v2.1535329815584.nc\n",
      "920\n",
      "./1027/saildrone-gen_5-west_coast_survey_2018-sd1027-20180906T120000-20180906T135959-1_minutes-v2.1536244216641.nc\n"
     ]
    },
    {
     "name": "stderr",
     "output_type": "stream",
     "text": [
      "/Users/senyastein/miniconda3/envs/satenv/lib/python3.7/site-packages/xarray/core/nanops.py:159: RuntimeWarning: Mean of empty slice\n",
      "  return np.nanmean(a, axis=axis, dtype=dtype)\n",
      "/Users/senyastein/miniconda3/envs/satenv/lib/python3.7/site-packages/xarray/core/nanops.py:159: RuntimeWarning: Mean of empty slice\n",
      "  return np.nanmean(a, axis=axis, dtype=dtype)\n",
      "/Users/senyastein/miniconda3/envs/satenv/lib/python3.7/site-packages/xarray/core/nanops.py:159: RuntimeWarning: Mean of empty slice\n",
      "  return np.nanmean(a, axis=axis, dtype=dtype)\n"
     ]
    },
    {
     "name": "stdout",
     "output_type": "stream",
     "text": [
      "921\n",
      "./1027/saildrone-gen_5-west_coast_survey_2018-sd1027-20180910T200000-20180910T215959-1_minutes-v2.1536618615079.nc\n",
      "922\n",
      "./1027/saildrone-gen_5-west_coast_survey_2018-sd1027-20180816T120000-20180816T175959-1_minutes-v2.1534446037340.nc\n",
      "923\n",
      "./1027/saildrone-gen_5-west_coast_survey_2018-sd1027-20180710T180000-20180710T235959-1_minutes-v2.1533316082910.nc\n",
      "924\n",
      "./1027/saildrone-gen_5-west_coast_survey_2018-sd1027-20180809T000000-20180809T055959-1_minutes-v2.1533798038007.nc\n",
      "925\n",
      "./1027/saildrone-gen_5-west_coast_survey_2018-sd1027-20180729T120000-20180729T175959-1_minutes-v2.1533320510684.nc\n"
     ]
    },
    {
     "name": "stderr",
     "output_type": "stream",
     "text": [
      "/Users/senyastein/miniconda3/envs/satenv/lib/python3.7/site-packages/xarray/core/nanops.py:159: RuntimeWarning: Mean of empty slice\n",
      "  return np.nanmean(a, axis=axis, dtype=dtype)\n",
      "/Users/senyastein/miniconda3/envs/satenv/lib/python3.7/site-packages/xarray/core/nanops.py:159: RuntimeWarning: Mean of empty slice\n",
      "  return np.nanmean(a, axis=axis, dtype=dtype)\n",
      "/Users/senyastein/miniconda3/envs/satenv/lib/python3.7/site-packages/xarray/core/nanops.py:159: RuntimeWarning: Mean of empty slice\n",
      "  return np.nanmean(a, axis=axis, dtype=dtype)\n"
     ]
    },
    {
     "name": "stdout",
     "output_type": "stream",
     "text": [
      "926\n",
      "./1027/saildrone-gen_5-west_coast_survey_2018-sd1027-20181001T000000-20181001T015959-1_minutes-v2.1538361012705.nc\n",
      "927\n",
      "./1027/saildrone-gen_5-west_coast_survey_2018-sd1027-20180913T180000-20180913T195959-1_minutes-v2.1536870619741.nc\n",
      "928\n"
     ]
    },
    {
     "name": "stderr",
     "output_type": "stream",
     "text": [
      "/Users/senyastein/miniconda3/envs/satenv/lib/python3.7/site-packages/xarray/core/nanops.py:159: RuntimeWarning: Mean of empty slice\n",
      "  return np.nanmean(a, axis=axis, dtype=dtype)\n",
      "/Users/senyastein/miniconda3/envs/satenv/lib/python3.7/site-packages/xarray/core/nanops.py:159: RuntimeWarning: Mean of empty slice\n",
      "  return np.nanmean(a, axis=axis, dtype=dtype)\n"
     ]
    },
    {
     "name": "stdout",
     "output_type": "stream",
     "text": [
      "./1027/saildrone-gen_5-west_coast_survey_2018-sd1027-20180918T120000-20180918T135959-1_minutes-v2.1537281015302.nc\n",
      "929\n",
      "./1027/saildrone-gen_5-west_coast_survey_2018-sd1027-20180831T080000-20180831T095959-1_minutes-v2.1535711415568.nc\n",
      "930\n",
      "./1027/saildrone-gen_5-west_coast_survey_2018-sd1027-20180901T020000-20180901T035959-1_minutes-v2.1535776214780.nc\n"
     ]
    },
    {
     "name": "stderr",
     "output_type": "stream",
     "text": [
      "/Users/senyastein/miniconda3/envs/satenv/lib/python3.7/site-packages/xarray/core/nanops.py:159: RuntimeWarning: Mean of empty slice\n",
      "  return np.nanmean(a, axis=axis, dtype=dtype)\n",
      "/Users/senyastein/miniconda3/envs/satenv/lib/python3.7/site-packages/xarray/core/nanops.py:159: RuntimeWarning: Mean of empty slice\n",
      "  return np.nanmean(a, axis=axis, dtype=dtype)\n",
      "/Users/senyastein/miniconda3/envs/satenv/lib/python3.7/site-packages/xarray/core/nanops.py:159: RuntimeWarning: Mean of empty slice\n",
      "  return np.nanmean(a, axis=axis, dtype=dtype)\n"
     ]
    },
    {
     "name": "stdout",
     "output_type": "stream",
     "text": [
      "931\n",
      "./1027/saildrone-gen_5-west_coast_survey_2018-sd1027-20180919T200000-20180919T215959-1_minutes-v2.1537396214933.nc\n",
      "932\n",
      "./1027/saildrone-gen_5-west_coast_survey_2018-sd1027-20180902T140000-20180902T155959-1_minutes-v2.1535905815121.nc\n",
      "933\n",
      "./1027/saildrone-gen_5-west_coast_survey_2018-sd1027-20180917T100000-20180917T115959-1_minutes-v2.1537187416451.nc\n"
     ]
    },
    {
     "name": "stderr",
     "output_type": "stream",
     "text": [
      "/Users/senyastein/miniconda3/envs/satenv/lib/python3.7/site-packages/xarray/core/nanops.py:159: RuntimeWarning: Mean of empty slice\n",
      "  return np.nanmean(a, axis=axis, dtype=dtype)\n",
      "/Users/senyastein/miniconda3/envs/satenv/lib/python3.7/site-packages/xarray/core/nanops.py:159: RuntimeWarning: Mean of empty slice\n",
      "  return np.nanmean(a, axis=axis, dtype=dtype)\n",
      "/Users/senyastein/miniconda3/envs/satenv/lib/python3.7/site-packages/xarray/core/nanops.py:159: RuntimeWarning: Mean of empty slice\n",
      "  return np.nanmean(a, axis=axis, dtype=dtype)\n"
     ]
    },
    {
     "name": "stdout",
     "output_type": "stream",
     "text": [
      "934\n",
      "./1027/saildrone-gen_5-west_coast_survey_2018-sd1027-20180823T220000-20180823T235959-1_minutes-v2.1535070615423.nc\n",
      "935\n",
      "./1027/saildrone-gen_5-west_coast_survey_2018-sd1027-20180917T080000-20180917T095959-1_minutes-v2.1537180214929.nc\n",
      "936\n",
      "./1027/saildrone-gen_5-west_coast_survey_2018-sd1027-20180716T000000-20180716T055959-1_minutes-v2.1533317396732.nc\n"
     ]
    },
    {
     "name": "stderr",
     "output_type": "stream",
     "text": [
      "/Users/senyastein/miniconda3/envs/satenv/lib/python3.7/site-packages/xarray/core/nanops.py:159: RuntimeWarning: Mean of empty slice\n",
      "  return np.nanmean(a, axis=axis, dtype=dtype)\n",
      "/Users/senyastein/miniconda3/envs/satenv/lib/python3.7/site-packages/xarray/core/nanops.py:159: RuntimeWarning: Mean of empty slice\n",
      "  return np.nanmean(a, axis=axis, dtype=dtype)\n",
      "/Users/senyastein/miniconda3/envs/satenv/lib/python3.7/site-packages/xarray/core/nanops.py:159: RuntimeWarning: Mean of empty slice\n",
      "  return np.nanmean(a, axis=axis, dtype=dtype)\n"
     ]
    },
    {
     "name": "stdout",
     "output_type": "stream",
     "text": [
      "937\n",
      "./1027/saildrone-gen_5-west_coast_survey_2018-sd1027-20180805T180000-20180805T235959-1_minutes-v2.1533517278978.nc\n",
      "938\n",
      "./1027/saildrone-gen_5-west_coast_survey_2018-sd1027-20180801T120000-20180801T175959-1_minutes-v2.1533321208868.nc\n",
      "939\n",
      "./1027/saildrone-gen_5-west_coast_survey_2018-sd1027-20180804T060000-20180804T115959-1_minutes-v2.1533387671874.nc\n"
     ]
    },
    {
     "name": "stderr",
     "output_type": "stream",
     "text": [
      "/Users/senyastein/miniconda3/envs/satenv/lib/python3.7/site-packages/xarray/core/nanops.py:159: RuntimeWarning: Mean of empty slice\n",
      "  return np.nanmean(a, axis=axis, dtype=dtype)\n",
      "/Users/senyastein/miniconda3/envs/satenv/lib/python3.7/site-packages/xarray/core/nanops.py:159: RuntimeWarning: Mean of empty slice\n",
      "  return np.nanmean(a, axis=axis, dtype=dtype)\n",
      "/Users/senyastein/miniconda3/envs/satenv/lib/python3.7/site-packages/xarray/core/nanops.py:159: RuntimeWarning: Mean of empty slice\n",
      "  return np.nanmean(a, axis=axis, dtype=dtype)\n"
     ]
    },
    {
     "name": "stdout",
     "output_type": "stream",
     "text": [
      "940\n",
      "./1027/saildrone-gen_5-west_coast_survey_2018-sd1027-20180806T180000-20180806T235959-1_minutes-v2.1533603637758.nc\n",
      "941\n",
      "./1027/saildrone-gen_5-west_coast_survey_2018-sd1027-20180920T000000-20180920T015959-1_minutes-v2.1537410614619.nc\n"
     ]
    },
    {
     "name": "stderr",
     "output_type": "stream",
     "text": [
      "/Users/senyastein/miniconda3/envs/satenv/lib/python3.7/site-packages/xarray/core/nanops.py:159: RuntimeWarning: Mean of empty slice\n",
      "  return np.nanmean(a, axis=axis, dtype=dtype)\n",
      "/Users/senyastein/miniconda3/envs/satenv/lib/python3.7/site-packages/xarray/core/nanops.py:159: RuntimeWarning: Mean of empty slice\n",
      "  return np.nanmean(a, axis=axis, dtype=dtype)\n"
     ]
    },
    {
     "name": "stdout",
     "output_type": "stream",
     "text": [
      "942\n",
      "./1027/saildrone-gen_5-west_coast_survey_2018-sd1027-20180925T000000-20180925T015959-1_minutes-v2.1537842615186.nc\n",
      "943\n",
      "./1027/saildrone-gen_5-west_coast_survey_2018-sd1027-20180919T100000-20180919T115959-1_minutes-v2.1537360215449.nc\n"
     ]
    },
    {
     "name": "stderr",
     "output_type": "stream",
     "text": [
      "/Users/senyastein/miniconda3/envs/satenv/lib/python3.7/site-packages/xarray/core/nanops.py:159: RuntimeWarning: Mean of empty slice\n",
      "  return np.nanmean(a, axis=axis, dtype=dtype)\n",
      "/Users/senyastein/miniconda3/envs/satenv/lib/python3.7/site-packages/xarray/core/nanops.py:159: RuntimeWarning: Mean of empty slice\n",
      "  return np.nanmean(a, axis=axis, dtype=dtype)\n",
      "/Users/senyastein/miniconda3/envs/satenv/lib/python3.7/site-packages/xarray/core/nanops.py:159: RuntimeWarning: Mean of empty slice\n",
      "  return np.nanmean(a, axis=axis, dtype=dtype)\n"
     ]
    },
    {
     "name": "stdout",
     "output_type": "stream",
     "text": [
      "944\n",
      "./1027/saildrone-gen_5-west_coast_survey_2018-sd1027-20180829T020000-20180829T035959-1_minutes-v2.1535517015666.nc\n",
      "945\n",
      "./1027/saildrone-gen_5-west_coast_survey_2018-sd1027-20180921T080000-20180921T095959-1_minutes-v2.1537525815592.nc\n",
      "946\n",
      "./1027/saildrone-gen_5-west_coast_survey_2018-sd1027-20180926T060000-20180926T075959-1_minutes-v2.1537950616253.nc\n"
     ]
    },
    {
     "name": "stderr",
     "output_type": "stream",
     "text": [
      "/Users/senyastein/miniconda3/envs/satenv/lib/python3.7/site-packages/xarray/core/nanops.py:159: RuntimeWarning: Mean of empty slice\n",
      "  return np.nanmean(a, axis=axis, dtype=dtype)\n",
      "/Users/senyastein/miniconda3/envs/satenv/lib/python3.7/site-packages/xarray/core/nanops.py:159: RuntimeWarning: Mean of empty slice\n",
      "  return np.nanmean(a, axis=axis, dtype=dtype)\n",
      "/Users/senyastein/miniconda3/envs/satenv/lib/python3.7/site-packages/xarray/core/nanops.py:159: RuntimeWarning: Mean of empty slice\n",
      "  return np.nanmean(a, axis=axis, dtype=dtype)\n"
     ]
    },
    {
     "name": "stdout",
     "output_type": "stream",
     "text": [
      "947\n",
      "./1027/saildrone-gen_5-west_coast_survey_2018-sd1027-20181002T180000-20181002T195959-1_minutes-v2.1538512224987.nc\n",
      "948\n",
      "./1027/saildrone-gen_5-west_coast_survey_2018-sd1027-20180723T060000-20180723T115959-1_minutes-v2.1533319099745.nc\n"
     ]
    },
    {
     "name": "stderr",
     "output_type": "stream",
     "text": [
      "/Users/senyastein/miniconda3/envs/satenv/lib/python3.7/site-packages/xarray/core/nanops.py:159: RuntimeWarning: Mean of empty slice\n",
      "  return np.nanmean(a, axis=axis, dtype=dtype)\n",
      "/Users/senyastein/miniconda3/envs/satenv/lib/python3.7/site-packages/xarray/core/nanops.py:159: RuntimeWarning: Mean of empty slice\n",
      "  return np.nanmean(a, axis=axis, dtype=dtype)\n"
     ]
    },
    {
     "name": "stdout",
     "output_type": "stream",
     "text": [
      "949\n",
      "./1027/saildrone-gen_5-west_coast_survey_2018-sd1027-20180901T220000-20180901T235959-1_minutes-v2.1535848214553.nc\n",
      "950\n",
      "./1027/saildrone-gen_5-west_coast_survey_2018-sd1027-20180709T180000-20180709T235959-1_minutes-v2.1533315833404.nc\n"
     ]
    },
    {
     "name": "stderr",
     "output_type": "stream",
     "text": [
      "/Users/senyastein/miniconda3/envs/satenv/lib/python3.7/site-packages/xarray/core/nanops.py:159: RuntimeWarning: Mean of empty slice\n",
      "  return np.nanmean(a, axis=axis, dtype=dtype)\n",
      "/Users/senyastein/miniconda3/envs/satenv/lib/python3.7/site-packages/xarray/core/nanops.py:159: RuntimeWarning: Mean of empty slice\n",
      "  return np.nanmean(a, axis=axis, dtype=dtype)\n"
     ]
    },
    {
     "name": "stdout",
     "output_type": "stream",
     "text": [
      "951\n",
      "./1027/saildrone-gen_5-west_coast_survey_2018-sd1027-20180804T180000-20180804T235959-1_minutes-v2.1533430840918.nc\n",
      "952\n",
      "./1027/saildrone-gen_5-west_coast_survey_2018-sd1027-20180916T060000-20180916T075959-1_minutes-v2.1537086626437.nc\n"
     ]
    },
    {
     "name": "stderr",
     "output_type": "stream",
     "text": [
      "/Users/senyastein/miniconda3/envs/satenv/lib/python3.7/site-packages/xarray/core/nanops.py:159: RuntimeWarning: Mean of empty slice\n",
      "  return np.nanmean(a, axis=axis, dtype=dtype)\n",
      "/Users/senyastein/miniconda3/envs/satenv/lib/python3.7/site-packages/xarray/core/nanops.py:159: RuntimeWarning: Mean of empty slice\n",
      "  return np.nanmean(a, axis=axis, dtype=dtype)\n"
     ]
    },
    {
     "name": "stdout",
     "output_type": "stream",
     "text": [
      "953\n",
      "./1027/saildrone-gen_5-west_coast_survey_2018-sd1027-20180922T180000-20180922T195959-1_minutes-v2.1537648215887.nc\n",
      "954\n",
      "./1027/saildrone-gen_5-west_coast_survey_2018-sd1027-20180831T100000-20180831T115959-1_minutes-v2.1535718614874.nc\n",
      "955\n"
     ]
    },
    {
     "name": "stderr",
     "output_type": "stream",
     "text": [
      "/Users/senyastein/miniconda3/envs/satenv/lib/python3.7/site-packages/xarray/core/nanops.py:159: RuntimeWarning: Mean of empty slice\n",
      "  return np.nanmean(a, axis=axis, dtype=dtype)\n",
      "/Users/senyastein/miniconda3/envs/satenv/lib/python3.7/site-packages/xarray/core/nanops.py:159: RuntimeWarning: Mean of empty slice\n",
      "  return np.nanmean(a, axis=axis, dtype=dtype)\n",
      "/Users/senyastein/miniconda3/envs/satenv/lib/python3.7/site-packages/xarray/core/nanops.py:159: RuntimeWarning: Mean of empty slice\n",
      "  return np.nanmean(a, axis=axis, dtype=dtype)\n"
     ]
    },
    {
     "name": "stdout",
     "output_type": "stream",
     "text": [
      "./1027/saildrone-gen_5-west_coast_survey_2018-sd1027-20180919T220000-20180919T235959-1_minutes-v2.1537403416851.nc\n",
      "956\n",
      "./1027/saildrone-gen_5-west_coast_survey_2018-sd1027-20180921T220000-20180921T235959-1_minutes-v2.1537576229148.nc\n",
      "957\n",
      "./1027/saildrone-gen_5-west_coast_survey_2018-sd1027-20180727T000000-20180727T055959-1_minutes-v2.1533319943609.nc\n",
      "958\n",
      "./1027/saildrone-gen_5-west_coast_survey_2018-sd1027-20180831T200000-20180831T215959-1_minutes-v2.1535754627506.nc\n",
      "959\n",
      "./1027/saildrone-gen_5-west_coast_survey_2018-sd1027-20180807T180000-20180807T235959-1_minutes-v2.1533690039537.nc\n"
     ]
    },
    {
     "name": "stderr",
     "output_type": "stream",
     "text": [
      "/Users/senyastein/miniconda3/envs/satenv/lib/python3.7/site-packages/xarray/core/nanops.py:159: RuntimeWarning: Mean of empty slice\n",
      "  return np.nanmean(a, axis=axis, dtype=dtype)\n",
      "/Users/senyastein/miniconda3/envs/satenv/lib/python3.7/site-packages/xarray/core/nanops.py:159: RuntimeWarning: Mean of empty slice\n",
      "  return np.nanmean(a, axis=axis, dtype=dtype)\n",
      "/Users/senyastein/miniconda3/envs/satenv/lib/python3.7/site-packages/xarray/core/nanops.py:159: RuntimeWarning: Mean of empty slice\n",
      "  return np.nanmean(a, axis=axis, dtype=dtype)\n"
     ]
    },
    {
     "name": "stdout",
     "output_type": "stream",
     "text": [
      "960\n",
      "./1027/saildrone-gen_5-west_coast_survey_2018-sd1027-20180704T060000-20180704T115959-1_minutes-v2.1533314572455.nc\n",
      "961\n",
      "./1027/saildrone-gen_5-west_coast_survey_2018-sd1027-20180915T080000-20180915T095959-1_minutes-v2.1537007415030.nc\n",
      "962\n",
      "./1027/saildrone-gen_5-west_coast_survey_2018-sd1027-20180830T080000-20180830T095959-1_minutes-v2.1535625014928.nc\n"
     ]
    },
    {
     "name": "stderr",
     "output_type": "stream",
     "text": [
      "/Users/senyastein/miniconda3/envs/satenv/lib/python3.7/site-packages/xarray/core/nanops.py:159: RuntimeWarning: Mean of empty slice\n",
      "  return np.nanmean(a, axis=axis, dtype=dtype)\n",
      "/Users/senyastein/miniconda3/envs/satenv/lib/python3.7/site-packages/xarray/core/nanops.py:159: RuntimeWarning: Mean of empty slice\n",
      "  return np.nanmean(a, axis=axis, dtype=dtype)\n",
      "/Users/senyastein/miniconda3/envs/satenv/lib/python3.7/site-packages/xarray/core/nanops.py:159: RuntimeWarning: Mean of empty slice\n",
      "  return np.nanmean(a, axis=axis, dtype=dtype)\n",
      "/Users/senyastein/miniconda3/envs/satenv/lib/python3.7/site-packages/xarray/core/nanops.py:159: RuntimeWarning: Mean of empty slice\n",
      "  return np.nanmean(a, axis=axis, dtype=dtype)\n",
      "/Users/senyastein/miniconda3/envs/satenv/lib/python3.7/site-packages/xarray/core/nanops.py:159: RuntimeWarning: Mean of empty slice\n",
      "  return np.nanmean(a, axis=axis, dtype=dtype)\n"
     ]
    },
    {
     "name": "stdout",
     "output_type": "stream",
     "text": [
      "963\n",
      "./1027/saildrone-gen_5-west_coast_survey_2018-sd1027-20180903T080000-20180903T095959-1_minutes-v2.1535970615564.nc\n",
      "964\n",
      "./1027/saildrone-gen_5-west_coast_survey_2018-sd1027-20180905T060000-20180905T075959-1_minutes-v2.1536136215198.nc\n",
      "965\n",
      "./1027/saildrone-gen_5-west_coast_survey_2018-sd1027-20180912T000000-20180912T015959-1_minutes-v2.1536719416505.nc\n"
     ]
    },
    {
     "name": "stderr",
     "output_type": "stream",
     "text": [
      "/Users/senyastein/miniconda3/envs/satenv/lib/python3.7/site-packages/xarray/core/nanops.py:159: RuntimeWarning: Mean of empty slice\n",
      "  return np.nanmean(a, axis=axis, dtype=dtype)\n",
      "/Users/senyastein/miniconda3/envs/satenv/lib/python3.7/site-packages/xarray/core/nanops.py:159: RuntimeWarning: Mean of empty slice\n",
      "  return np.nanmean(a, axis=axis, dtype=dtype)\n",
      "/Users/senyastein/miniconda3/envs/satenv/lib/python3.7/site-packages/xarray/core/nanops.py:159: RuntimeWarning: Mean of empty slice\n",
      "  return np.nanmean(a, axis=axis, dtype=dtype)\n"
     ]
    },
    {
     "name": "stdout",
     "output_type": "stream",
     "text": [
      "966\n",
      "./1027/saildrone-gen_5-west_coast_survey_2018-sd1027-20180922T040000-20180922T055959-1_minutes-v2.1537597814765.nc\n",
      "967\n",
      "./1027/saildrone-gen_5-west_coast_survey_2018-sd1027-20180925T220000-20180925T235959-1_minutes-v2.1537921827235.nc\n",
      "968\n",
      "./1027/saildrone-gen_5-west_coast_survey_2018-sd1027-20180627T000000-20180627T055959-1_minutes-v2.1533312841842.nc\n",
      "969\n",
      "./1027/saildrone-gen_5-west_coast_survey_2018-sd1027-20180830T180000-20180830T195959-1_minutes-v2.1535661015303.nc\n",
      "970\n"
     ]
    },
    {
     "name": "stderr",
     "output_type": "stream",
     "text": [
      "/Users/senyastein/miniconda3/envs/satenv/lib/python3.7/site-packages/xarray/core/nanops.py:159: RuntimeWarning: Mean of empty slice\n",
      "  return np.nanmean(a, axis=axis, dtype=dtype)\n",
      "/Users/senyastein/miniconda3/envs/satenv/lib/python3.7/site-packages/xarray/core/nanops.py:159: RuntimeWarning: Mean of empty slice\n",
      "  return np.nanmean(a, axis=axis, dtype=dtype)\n"
     ]
    },
    {
     "name": "stdout",
     "output_type": "stream",
     "text": [
      "./1027/saildrone-gen_5-west_coast_survey_2018-sd1027-20180901T080000-20180901T095959-1_minutes-v2.1535797815815.nc\n",
      "971\n",
      "./1027/saildrone-gen_5-west_coast_survey_2018-sd1027-20180927T140000-20180927T155959-1_minutes-v2.1538065816019.nc\n"
     ]
    },
    {
     "name": "stderr",
     "output_type": "stream",
     "text": [
      "/Users/senyastein/miniconda3/envs/satenv/lib/python3.7/site-packages/xarray/core/nanops.py:159: RuntimeWarning: Mean of empty slice\n",
      "  return np.nanmean(a, axis=axis, dtype=dtype)\n",
      "/Users/senyastein/miniconda3/envs/satenv/lib/python3.7/site-packages/xarray/core/nanops.py:159: RuntimeWarning: Mean of empty slice\n",
      "  return np.nanmean(a, axis=axis, dtype=dtype)\n"
     ]
    },
    {
     "name": "stdout",
     "output_type": "stream",
     "text": [
      "972\n",
      "./1027/saildrone-gen_5-west_coast_survey_2018-sd1027-20180930T140000-20180930T155959-1_minutes-v2.1538325023353.nc\n",
      "973\n",
      "./1027/saildrone-gen_5-west_coast_survey_2018-sd1027-20180702T120000-20180702T175959-1_minutes-v2.1533314070895.nc\n"
     ]
    },
    {
     "name": "stderr",
     "output_type": "stream",
     "text": [
      "/Users/senyastein/miniconda3/envs/satenv/lib/python3.7/site-packages/xarray/core/nanops.py:159: RuntimeWarning: Mean of empty slice\n",
      "  return np.nanmean(a, axis=axis, dtype=dtype)\n",
      "/Users/senyastein/miniconda3/envs/satenv/lib/python3.7/site-packages/xarray/core/nanops.py:159: RuntimeWarning: Mean of empty slice\n",
      "  return np.nanmean(a, axis=axis, dtype=dtype)\n"
     ]
    },
    {
     "name": "stdout",
     "output_type": "stream",
     "text": [
      "974\n",
      "./1027/saildrone-gen_5-west_coast_survey_2018-sd1027-20180913T200000-20180913T215959-1_minutes-v2.1536877835737.nc\n",
      "975\n",
      "./1027/saildrone-gen_5-west_coast_survey_2018-sd1027-20180911T040000-20180911T055959-1_minutes-v2.1536647414785.nc\n"
     ]
    },
    {
     "name": "stderr",
     "output_type": "stream",
     "text": [
      "/Users/senyastein/miniconda3/envs/satenv/lib/python3.7/site-packages/xarray/core/nanops.py:159: RuntimeWarning: Mean of empty slice\n",
      "  return np.nanmean(a, axis=axis, dtype=dtype)\n",
      "/Users/senyastein/miniconda3/envs/satenv/lib/python3.7/site-packages/xarray/core/nanops.py:159: RuntimeWarning: Mean of empty slice\n",
      "  return np.nanmean(a, axis=axis, dtype=dtype)\n"
     ]
    },
    {
     "name": "stdout",
     "output_type": "stream",
     "text": [
      "976\n",
      "./1027/saildrone-gen_5-west_coast_survey_2018-sd1027-20180907T160000-20180907T175959-1_minutes-v2.1536345015093.nc\n",
      "977\n",
      "./1027/saildrone-gen_5-west_coast_survey_2018-sd1027-20180907T200000-20180907T215959-1_minutes-v2.1536359417259.nc\n"
     ]
    },
    {
     "name": "stderr",
     "output_type": "stream",
     "text": [
      "/Users/senyastein/miniconda3/envs/satenv/lib/python3.7/site-packages/xarray/core/nanops.py:159: RuntimeWarning: Mean of empty slice\n",
      "  return np.nanmean(a, axis=axis, dtype=dtype)\n",
      "/Users/senyastein/miniconda3/envs/satenv/lib/python3.7/site-packages/xarray/core/nanops.py:159: RuntimeWarning: Mean of empty slice\n",
      "  return np.nanmean(a, axis=axis, dtype=dtype)\n"
     ]
    },
    {
     "name": "stdout",
     "output_type": "stream",
     "text": [
      "978\n",
      "./1027/saildrone-gen_5-west_coast_survey_2018-sd1027-20180925T140000-20180925T155959-1_minutes-v2.1537893027755.nc\n",
      "979\n",
      "./1027/saildrone-gen_5-west_coast_survey_2018-sd1027-20180831T160000-20180831T175959-1_minutes-v2.1535740215672.nc\n"
     ]
    },
    {
     "name": "stderr",
     "output_type": "stream",
     "text": [
      "/Users/senyastein/miniconda3/envs/satenv/lib/python3.7/site-packages/xarray/core/nanops.py:159: RuntimeWarning: Mean of empty slice\n",
      "  return np.nanmean(a, axis=axis, dtype=dtype)\n",
      "/Users/senyastein/miniconda3/envs/satenv/lib/python3.7/site-packages/xarray/core/nanops.py:159: RuntimeWarning: Mean of empty slice\n",
      "  return np.nanmean(a, axis=axis, dtype=dtype)\n"
     ]
    },
    {
     "name": "stdout",
     "output_type": "stream",
     "text": [
      "980\n",
      "./1027/saildrone-gen_5-west_coast_survey_2018-sd1027-20180915T160000-20180915T175959-1_minutes-v2.1537036215833.nc\n",
      "981\n",
      "./1027/saildrone-gen_5-west_coast_survey_2018-sd1027-20180903T120000-20180903T135959-1_minutes-v2.1535985015810.nc\n"
     ]
    },
    {
     "name": "stderr",
     "output_type": "stream",
     "text": [
      "/Users/senyastein/miniconda3/envs/satenv/lib/python3.7/site-packages/xarray/core/nanops.py:159: RuntimeWarning: Mean of empty slice\n",
      "  return np.nanmean(a, axis=axis, dtype=dtype)\n",
      "/Users/senyastein/miniconda3/envs/satenv/lib/python3.7/site-packages/xarray/core/nanops.py:159: RuntimeWarning: Mean of empty slice\n",
      "  return np.nanmean(a, axis=axis, dtype=dtype)\n"
     ]
    },
    {
     "name": "stdout",
     "output_type": "stream",
     "text": [
      "982\n",
      "./1027/saildrone-gen_5-west_coast_survey_2018-sd1027-20180929T200000-20180929T215959-1_minutes-v2.1538260212378.nc\n",
      "983\n",
      "./1027/saildrone-gen_5-west_coast_survey_2018-sd1027-20180705T180000-20180705T235959-1_minutes-v2.1533314901414.nc\n"
     ]
    },
    {
     "name": "stderr",
     "output_type": "stream",
     "text": [
      "/Users/senyastein/miniconda3/envs/satenv/lib/python3.7/site-packages/xarray/core/nanops.py:159: RuntimeWarning: Mean of empty slice\n",
      "  return np.nanmean(a, axis=axis, dtype=dtype)\n",
      "/Users/senyastein/miniconda3/envs/satenv/lib/python3.7/site-packages/xarray/core/nanops.py:159: RuntimeWarning: Mean of empty slice\n",
      "  return np.nanmean(a, axis=axis, dtype=dtype)\n"
     ]
    },
    {
     "name": "stdout",
     "output_type": "stream",
     "text": [
      "984\n",
      "./1027/saildrone-gen_5-west_coast_survey_2018-sd1027-20180908T200000-20180908T215959-1_minutes-v2.1536445814828.nc\n",
      "985\n",
      "./1027/saildrone-gen_5-west_coast_survey_2018-sd1027-20180823T200000-20180823T215959-1_minutes-v2.1535063414387.nc\n"
     ]
    },
    {
     "name": "stderr",
     "output_type": "stream",
     "text": [
      "/Users/senyastein/miniconda3/envs/satenv/lib/python3.7/site-packages/xarray/core/nanops.py:159: RuntimeWarning: Mean of empty slice\n",
      "  return np.nanmean(a, axis=axis, dtype=dtype)\n",
      "/Users/senyastein/miniconda3/envs/satenv/lib/python3.7/site-packages/xarray/core/nanops.py:159: RuntimeWarning: Mean of empty slice\n",
      "  return np.nanmean(a, axis=axis, dtype=dtype)\n"
     ]
    },
    {
     "name": "stdout",
     "output_type": "stream",
     "text": [
      "986\n",
      "./1027/saildrone-gen_5-west_coast_survey_2018-sd1027-20180909T220000-20180909T235959-1_minutes-v2.1536539428057.nc\n",
      "987\n",
      "./1027/saildrone-gen_5-west_coast_survey_2018-sd1027-20180831T020000-20180831T035959-1_minutes-v2.1535689814085.nc\n"
     ]
    },
    {
     "name": "stderr",
     "output_type": "stream",
     "text": [
      "/Users/senyastein/miniconda3/envs/satenv/lib/python3.7/site-packages/xarray/core/nanops.py:159: RuntimeWarning: Mean of empty slice\n",
      "  return np.nanmean(a, axis=axis, dtype=dtype)\n",
      "/Users/senyastein/miniconda3/envs/satenv/lib/python3.7/site-packages/xarray/core/nanops.py:159: RuntimeWarning: Mean of empty slice\n",
      "  return np.nanmean(a, axis=axis, dtype=dtype)\n",
      "/Users/senyastein/miniconda3/envs/satenv/lib/python3.7/site-packages/xarray/core/nanops.py:159: RuntimeWarning: Mean of empty slice\n",
      "  return np.nanmean(a, axis=axis, dtype=dtype)\n"
     ]
    },
    {
     "name": "stdout",
     "output_type": "stream",
     "text": [
      "988\n",
      "./1027/saildrone-gen_5-west_coast_survey_2018-sd1027-20180905T100000-20180905T115959-1_minutes-v2.1536150614856.nc\n",
      "989\n",
      "./1027/saildrone-gen_5-west_coast_survey_2018-sd1027-20180721T000000-20180721T055959-1_minutes-v2.1533318565161.nc\n",
      "990"
     ]
    },
    {
     "name": "stderr",
     "output_type": "stream",
     "text": [
      "/Users/senyastein/miniconda3/envs/satenv/lib/python3.7/site-packages/xarray/core/nanops.py:159: RuntimeWarning: Mean of empty slice\n",
      "  return np.nanmean(a, axis=axis, dtype=dtype)\n",
      "/Users/senyastein/miniconda3/envs/satenv/lib/python3.7/site-packages/xarray/core/nanops.py:159: RuntimeWarning: Mean of empty slice\n",
      "  return np.nanmean(a, axis=axis, dtype=dtype)\n",
      "/Users/senyastein/miniconda3/envs/satenv/lib/python3.7/site-packages/xarray/core/nanops.py:159: RuntimeWarning: Mean of empty slice\n",
      "  return np.nanmean(a, axis=axis, dtype=dtype)\n"
     ]
    },
    {
     "name": "stdout",
     "output_type": "stream",
     "text": [
      "\n",
      "./1027/saildrone-gen_5-west_coast_survey_2018-sd1027-20180823T080000-20180823T095959-1_minutes-v2.1535020216238.nc\n",
      "991\n",
      "./1027/saildrone-gen_5-west_coast_survey_2018-sd1027-20180629T000000-20180629T055959-1_minutes-v2.1533313275663.nc\n",
      "992\n",
      "./1027/saildrone-gen_5-west_coast_survey_2018-sd1027-20180826T180000-20180826T195959-1_minutes-v2.1535315416516.nc\n"
     ]
    },
    {
     "name": "stderr",
     "output_type": "stream",
     "text": [
      "/Users/senyastein/miniconda3/envs/satenv/lib/python3.7/site-packages/xarray/core/nanops.py:159: RuntimeWarning: Mean of empty slice\n",
      "  return np.nanmean(a, axis=axis, dtype=dtype)\n",
      "/Users/senyastein/miniconda3/envs/satenv/lib/python3.7/site-packages/xarray/core/nanops.py:159: RuntimeWarning: Mean of empty slice\n",
      "  return np.nanmean(a, axis=axis, dtype=dtype)\n",
      "/Users/senyastein/miniconda3/envs/satenv/lib/python3.7/site-packages/xarray/core/nanops.py:159: RuntimeWarning: Mean of empty slice\n",
      "  return np.nanmean(a, axis=axis, dtype=dtype)\n"
     ]
    },
    {
     "name": "stdout",
     "output_type": "stream",
     "text": [
      "993\n",
      "./1027/saildrone-gen_5-west_coast_survey_2018-sd1027-20180923T000000-20180923T015959-1_minutes-v2.1537669815770.nc\n",
      "994\n",
      "./1027/saildrone-gen_5-west_coast_survey_2018-sd1027-20180929T020000-20180929T035959-1_minutes-v2.1538195413122.nc\n",
      "995\n",
      "./1027/saildrone-gen_5-west_coast_survey_2018-sd1027-20180719T000000-20180719T055959-1_minutes-v2.1533318096773.nc\n",
      "996\n",
      "./1027/saildrone-gen_5-west_coast_survey_2018-sd1027-20180723T000000-20180723T055959-1_minutes-v2.1533319044395.nc\n",
      "997"
     ]
    },
    {
     "name": "stderr",
     "output_type": "stream",
     "text": [
      "/Users/senyastein/miniconda3/envs/satenv/lib/python3.7/site-packages/xarray/core/nanops.py:159: RuntimeWarning: Mean of empty slice\n",
      "  return np.nanmean(a, axis=axis, dtype=dtype)\n",
      "/Users/senyastein/miniconda3/envs/satenv/lib/python3.7/site-packages/xarray/core/nanops.py:159: RuntimeWarning: Mean of empty slice\n",
      "  return np.nanmean(a, axis=axis, dtype=dtype)\n",
      "/Users/senyastein/miniconda3/envs/satenv/lib/python3.7/site-packages/xarray/core/nanops.py:159: RuntimeWarning: Mean of empty slice\n",
      "  return np.nanmean(a, axis=axis, dtype=dtype)\n"
     ]
    },
    {
     "name": "stdout",
     "output_type": "stream",
     "text": [
      "\n",
      "./1027/saildrone-gen_5-west_coast_survey_2018-sd1027-20180911T180000-20180911T195959-1_minutes-v2.1536697828309.nc\n",
      "998\n",
      "./1027/saildrone-gen_5-west_coast_survey_2018-sd1027-20181003T140000-20181003T155959-1_minutes-v2.1538584223633.nc\n",
      "999\n"
     ]
    },
    {
     "name": "stderr",
     "output_type": "stream",
     "text": [
      "/Users/senyastein/miniconda3/envs/satenv/lib/python3.7/site-packages/xarray/core/nanops.py:159: RuntimeWarning: Mean of empty slice\n",
      "  return np.nanmean(a, axis=axis, dtype=dtype)\n",
      "/Users/senyastein/miniconda3/envs/satenv/lib/python3.7/site-packages/xarray/core/nanops.py:159: RuntimeWarning: Mean of empty slice\n",
      "  return np.nanmean(a, axis=axis, dtype=dtype)\n"
     ]
    },
    {
     "name": "stdout",
     "output_type": "stream",
     "text": [
      "./1027/saildrone-gen_5-west_coast_survey_2018-sd1027-20180710T120000-20180710T175959-1_minutes-v2.1533316008339.nc\n",
      "1000\n",
      "./1027/saildrone-gen_5-west_coast_survey_2018-sd1027-20180707T000000-20180707T055959-1_minutes-v2.1533315185321.nc\n",
      "1001\n",
      "./1027/saildrone-gen_5-west_coast_survey_2018-sd1027-20181001T120000-20181001T135959-1_minutes-v2.1538404213374.nc\n"
     ]
    },
    {
     "name": "stderr",
     "output_type": "stream",
     "text": [
      "/Users/senyastein/miniconda3/envs/satenv/lib/python3.7/site-packages/xarray/core/nanops.py:159: RuntimeWarning: Mean of empty slice\n",
      "  return np.nanmean(a, axis=axis, dtype=dtype)\n",
      "/Users/senyastein/miniconda3/envs/satenv/lib/python3.7/site-packages/xarray/core/nanops.py:159: RuntimeWarning: Mean of empty slice\n",
      "  return np.nanmean(a, axis=axis, dtype=dtype)\n",
      "/Users/senyastein/miniconda3/envs/satenv/lib/python3.7/site-packages/xarray/core/nanops.py:159: RuntimeWarning: Mean of empty slice\n",
      "  return np.nanmean(a, axis=axis, dtype=dtype)\n"
     ]
    },
    {
     "name": "stdout",
     "output_type": "stream",
     "text": [
      "1002\n",
      "./1027/saildrone-gen_5-west_coast_survey_2018-sd1027-20180726T000000-20180726T055959-1_minutes-v2.1533319714715.nc\n",
      "1003\n",
      "./1027/saildrone-gen_5-west_coast_survey_2018-sd1027-20180724T120000-20180724T175959-1_minutes-v2.1533319387518.nc\n",
      "1004\n",
      "./1027/saildrone-gen_5-west_coast_survey_2018-sd1027-20180831T040000-20180831T055959-1_minutes-v2.1535697016141.nc\n"
     ]
    },
    {
     "name": "stderr",
     "output_type": "stream",
     "text": [
      "/Users/senyastein/miniconda3/envs/satenv/lib/python3.7/site-packages/xarray/core/nanops.py:159: RuntimeWarning: Mean of empty slice\n",
      "  return np.nanmean(a, axis=axis, dtype=dtype)\n",
      "/Users/senyastein/miniconda3/envs/satenv/lib/python3.7/site-packages/xarray/core/nanops.py:159: RuntimeWarning: Mean of empty slice\n",
      "  return np.nanmean(a, axis=axis, dtype=dtype)\n"
     ]
    },
    {
     "name": "stdout",
     "output_type": "stream",
     "text": [
      "1005\n",
      "./1027/saildrone-gen_5-west_coast_survey_2018-sd1027-20180702T060000-20180702T115959-1_minutes-v2.1533313996468.nc\n",
      "1006\n",
      "./1027/saildrone-gen_5-west_coast_survey_2018-sd1027-20180902T220000-20180902T235959-1_minutes-v2.1535934615071.nc\n",
      "1007\n"
     ]
    },
    {
     "name": "stderr",
     "output_type": "stream",
     "text": [
      "/Users/senyastein/miniconda3/envs/satenv/lib/python3.7/site-packages/xarray/core/nanops.py:159: RuntimeWarning: Mean of empty slice\n",
      "  return np.nanmean(a, axis=axis, dtype=dtype)\n",
      "/Users/senyastein/miniconda3/envs/satenv/lib/python3.7/site-packages/xarray/core/nanops.py:159: RuntimeWarning: Mean of empty slice\n",
      "  return np.nanmean(a, axis=axis, dtype=dtype)\n",
      "/Users/senyastein/miniconda3/envs/satenv/lib/python3.7/site-packages/xarray/core/nanops.py:159: RuntimeWarning: Mean of empty slice\n",
      "  return np.nanmean(a, axis=axis, dtype=dtype)\n"
     ]
    },
    {
     "name": "stdout",
     "output_type": "stream",
     "text": [
      "./1027/saildrone-gen_5-west_coast_survey_2018-sd1027-20180627T060000-20180627T115959-1_minutes-v2.1533312884566.nc\n",
      "1008\n",
      "./1027/saildrone-gen_5-west_coast_survey_2018-sd1027-20180828T040000-20180828T055959-1_minutes-v2.1535437814028.nc\n",
      "1009\n"
     ]
    },
    {
     "name": "stderr",
     "output_type": "stream",
     "text": [
      "/Users/senyastein/miniconda3/envs/satenv/lib/python3.7/site-packages/xarray/core/nanops.py:159: RuntimeWarning: Mean of empty slice\n",
      "  return np.nanmean(a, axis=axis, dtype=dtype)\n",
      "/Users/senyastein/miniconda3/envs/satenv/lib/python3.7/site-packages/xarray/core/nanops.py:159: RuntimeWarning: Mean of empty slice\n",
      "  return np.nanmean(a, axis=axis, dtype=dtype)\n",
      "/Users/senyastein/miniconda3/envs/satenv/lib/python3.7/site-packages/xarray/core/nanops.py:159: RuntimeWarning: Mean of empty slice\n",
      "  return np.nanmean(a, axis=axis, dtype=dtype)\n"
     ]
    },
    {
     "name": "stdout",
     "output_type": "stream",
     "text": [
      "./1027/saildrone-gen_5-west_coast_survey_2018-sd1027-20180819T000000-20180819T055959-1_minutes-v2.1534662035119.nc\n",
      "1010\n",
      "./1027/saildrone-gen_5-west_coast_survey_2018-sd1027-20181005T080000-20181005T095959-1_minutes-v2.1538735411466.nc\n",
      "1011\n",
      "./1027/saildrone-gen_5-west_coast_survey_2018-sd1027-20180927T120000-20180927T135959-1_minutes-v2.1538058615015.nc\n",
      "1012\n",
      "./1027/saildrone-gen_5-west_coast_survey_2018-sd1027-20180729T060000-20180729T115959-1_minutes-v2.1533320454756.nc\n",
      "1013\n",
      "./1027/saildrone-gen_5-west_coast_survey_2018-sd1027-20180922T160000-20180922T175959-1_minutes-v2.1537641014656.nc\n"
     ]
    },
    {
     "name": "stderr",
     "output_type": "stream",
     "text": [
      "/Users/senyastein/miniconda3/envs/satenv/lib/python3.7/site-packages/xarray/core/nanops.py:159: RuntimeWarning: Mean of empty slice\n",
      "  return np.nanmean(a, axis=axis, dtype=dtype)\n",
      "/Users/senyastein/miniconda3/envs/satenv/lib/python3.7/site-packages/xarray/core/nanops.py:159: RuntimeWarning: Mean of empty slice\n",
      "  return np.nanmean(a, axis=axis, dtype=dtype)\n",
      "/Users/senyastein/miniconda3/envs/satenv/lib/python3.7/site-packages/xarray/core/nanops.py:159: RuntimeWarning: Mean of empty slice\n",
      "  return np.nanmean(a, axis=axis, dtype=dtype)\n"
     ]
    },
    {
     "name": "stdout",
     "output_type": "stream",
     "text": [
      "1014\n",
      "./1027/saildrone-gen_5-west_coast_survey_2018-sd1027-20181001T100000-20181001T115959-1_minutes-v2.1538397022812.nc\n",
      "1015\n",
      "./1027/saildrone-gen_5-west_coast_survey_2018-sd1027-20180904T140000-20180904T155959-1_minutes-v2.1536078614831.nc\n"
     ]
    },
    {
     "name": "stderr",
     "output_type": "stream",
     "text": [
      "/Users/senyastein/miniconda3/envs/satenv/lib/python3.7/site-packages/xarray/core/nanops.py:159: RuntimeWarning: Mean of empty slice\n",
      "  return np.nanmean(a, axis=axis, dtype=dtype)\n",
      "/Users/senyastein/miniconda3/envs/satenv/lib/python3.7/site-packages/xarray/core/nanops.py:159: RuntimeWarning: Mean of empty slice\n",
      "  return np.nanmean(a, axis=axis, dtype=dtype)\n"
     ]
    },
    {
     "name": "stdout",
     "output_type": "stream",
     "text": [
      "1016\n",
      "./1027/saildrone-gen_5-west_coast_survey_2018-sd1027-20180810T060000-20180810T115959-1_minutes-v2.1533906037705.nc\n",
      "1017\n",
      "./1027/saildrone-gen_5-west_coast_survey_2018-sd1027-20180718T180000-20180718T235959-1_minutes-v2.1533318041524.nc\n",
      "1018\n"
     ]
    },
    {
     "name": "stderr",
     "output_type": "stream",
     "text": [
      "/Users/senyastein/miniconda3/envs/satenv/lib/python3.7/site-packages/xarray/core/nanops.py:159: RuntimeWarning: Mean of empty slice\n",
      "  return np.nanmean(a, axis=axis, dtype=dtype)\n",
      "/Users/senyastein/miniconda3/envs/satenv/lib/python3.7/site-packages/xarray/core/nanops.py:159: RuntimeWarning: Mean of empty slice\n",
      "  return np.nanmean(a, axis=axis, dtype=dtype)\n"
     ]
    },
    {
     "name": "stdout",
     "output_type": "stream",
     "text": [
      "./1027/saildrone-gen_5-west_coast_survey_2018-sd1027-20180913T000000-20180913T015959-1_minutes-v2.1536805826275.nc\n",
      "1019\n",
      "./1027/saildrone-gen_5-west_coast_survey_2018-sd1027-20180908T160000-20180908T175959-1_minutes-v2.1536431415926.nc\n"
     ]
    },
    {
     "name": "stderr",
     "output_type": "stream",
     "text": [
      "/Users/senyastein/miniconda3/envs/satenv/lib/python3.7/site-packages/xarray/core/nanops.py:159: RuntimeWarning: Mean of empty slice\n",
      "  return np.nanmean(a, axis=axis, dtype=dtype)\n",
      "/Users/senyastein/miniconda3/envs/satenv/lib/python3.7/site-packages/xarray/core/nanops.py:159: RuntimeWarning: Mean of empty slice\n",
      "  return np.nanmean(a, axis=axis, dtype=dtype)\n"
     ]
    },
    {
     "name": "stdout",
     "output_type": "stream",
     "text": [
      "1020\n",
      "./1027/saildrone-gen_5-west_coast_survey_2018-sd1027-20180904T060000-20180904T075959-1_minutes-v2.1536049815251.nc\n",
      "1021\n",
      "./1027/saildrone-gen_5-west_coast_survey_2018-sd1027-20180703T180000-20180703T235959-1_minutes-v2.1533314470141.nc\n"
     ]
    },
    {
     "name": "stderr",
     "output_type": "stream",
     "text": [
      "/Users/senyastein/miniconda3/envs/satenv/lib/python3.7/site-packages/xarray/core/nanops.py:159: RuntimeWarning: Mean of empty slice\n",
      "  return np.nanmean(a, axis=axis, dtype=dtype)\n",
      "/Users/senyastein/miniconda3/envs/satenv/lib/python3.7/site-packages/xarray/core/nanops.py:159: RuntimeWarning: Mean of empty slice\n",
      "  return np.nanmean(a, axis=axis, dtype=dtype)\n"
     ]
    },
    {
     "name": "stdout",
     "output_type": "stream",
     "text": [
      "1022\n",
      "./1027/saildrone-gen_5-west_coast_survey_2018-sd1027-20181005T040000-20181005T055959-1_minutes-v2.1538721011288.nc\n",
      "1023\n",
      "./1027/saildrone-gen_5-west_coast_survey_2018-sd1027-20180930T180000-20180930T195959-1_minutes-v2.1538339413929.nc\n"
     ]
    },
    {
     "name": "stderr",
     "output_type": "stream",
     "text": [
      "/Users/senyastein/miniconda3/envs/satenv/lib/python3.7/site-packages/xarray/core/nanops.py:159: RuntimeWarning: Mean of empty slice\n",
      "  return np.nanmean(a, axis=axis, dtype=dtype)\n",
      "/Users/senyastein/miniconda3/envs/satenv/lib/python3.7/site-packages/xarray/core/nanops.py:159: RuntimeWarning: Mean of empty slice\n",
      "  return np.nanmean(a, axis=axis, dtype=dtype)\n"
     ]
    },
    {
     "name": "stdout",
     "output_type": "stream",
     "text": [
      "1024\n",
      "./1027/saildrone-gen_5-west_coast_survey_2018-sd1027-20180916T120000-20180916T135959-1_minutes-v2.1537108214929.nc\n",
      "1025\n",
      "./1027/saildrone-gen_5-west_coast_survey_2018-sd1027-20180920T080000-20180920T095959-1_minutes-v2.1537439415039.nc\n",
      "1026\n",
      "./1027/saildrone-gen_5-west_coast_survey_2018-sd1027-20180922T140000-20180922T155959-1_minutes-v2.1537633814786.nc\n"
     ]
    },
    {
     "name": "stderr",
     "output_type": "stream",
     "text": [
      "/Users/senyastein/miniconda3/envs/satenv/lib/python3.7/site-packages/xarray/core/nanops.py:159: RuntimeWarning: Mean of empty slice\n",
      "  return np.nanmean(a, axis=axis, dtype=dtype)\n",
      "/Users/senyastein/miniconda3/envs/satenv/lib/python3.7/site-packages/xarray/core/nanops.py:159: RuntimeWarning: Mean of empty slice\n",
      "  return np.nanmean(a, axis=axis, dtype=dtype)\n",
      "/Users/senyastein/miniconda3/envs/satenv/lib/python3.7/site-packages/xarray/core/nanops.py:159: RuntimeWarning: Mean of empty slice\n",
      "  return np.nanmean(a, axis=axis, dtype=dtype)\n"
     ]
    },
    {
     "name": "stdout",
     "output_type": "stream",
     "text": [
      "1027\n",
      "./1027/saildrone-gen_5-west_coast_survey_2018-sd1027-20180821T120000-20180821T175959-1_minutes-v2.1534878036030.nc\n",
      "1028\n",
      "./1027/saildrone-gen_5-west_coast_survey_2018-sd1027-20180729T180000-20180729T235959-1_minutes-v2.1533320565257.nc\n"
     ]
    },
    {
     "name": "stderr",
     "output_type": "stream",
     "text": [
      "/Users/senyastein/miniconda3/envs/satenv/lib/python3.7/site-packages/xarray/core/nanops.py:159: RuntimeWarning: Mean of empty slice\n",
      "  return np.nanmean(a, axis=axis, dtype=dtype)\n",
      "/Users/senyastein/miniconda3/envs/satenv/lib/python3.7/site-packages/xarray/core/nanops.py:159: RuntimeWarning: Mean of empty slice\n",
      "  return np.nanmean(a, axis=axis, dtype=dtype)\n"
     ]
    },
    {
     "name": "stdout",
     "output_type": "stream",
     "text": [
      "1029\n",
      "./1027/saildrone-gen_5-west_coast_survey_2018-sd1027-20180904T120000-20180904T135959-1_minutes-v2.1536071428599.nc\n",
      "1030\n",
      "./1027/saildrone-gen_5-west_coast_survey_2018-sd1027-20180731T120000-20180731T175959-1_minutes-v2.1533320979400.nc\n",
      "1031\n",
      "./1027/saildrone-gen_5-west_coast_survey_2018-sd1027-20180928T100000-20180928T115959-1_minutes-v2.1538137824405.nc\n"
     ]
    },
    {
     "name": "stderr",
     "output_type": "stream",
     "text": [
      "/Users/senyastein/miniconda3/envs/satenv/lib/python3.7/site-packages/xarray/core/nanops.py:159: RuntimeWarning: Mean of empty slice\n",
      "  return np.nanmean(a, axis=axis, dtype=dtype)\n",
      "/Users/senyastein/miniconda3/envs/satenv/lib/python3.7/site-packages/xarray/core/nanops.py:159: RuntimeWarning: Mean of empty slice\n",
      "  return np.nanmean(a, axis=axis, dtype=dtype)\n",
      "/Users/senyastein/miniconda3/envs/satenv/lib/python3.7/site-packages/xarray/core/nanops.py:159: RuntimeWarning: Mean of empty slice\n",
      "  return np.nanmean(a, axis=axis, dtype=dtype)\n"
     ]
    },
    {
     "name": "stdout",
     "output_type": "stream",
     "text": [
      "1032\n",
      "./1027/saildrone-gen_5-west_coast_survey_2018-sd1027-20181002T060000-20181002T075959-1_minutes-v2.1538469013314.nc\n",
      "1033\n",
      "./1027/saildrone-gen_5-west_coast_survey_2018-sd1027-20180817T060000-20180817T115959-1_minutes-v2.1534510835455.nc\n"
     ]
    },
    {
     "name": "stderr",
     "output_type": "stream",
     "text": [
      "/Users/senyastein/miniconda3/envs/satenv/lib/python3.7/site-packages/xarray/core/nanops.py:159: RuntimeWarning: Mean of empty slice\n",
      "  return np.nanmean(a, axis=axis, dtype=dtype)\n",
      "/Users/senyastein/miniconda3/envs/satenv/lib/python3.7/site-packages/xarray/core/nanops.py:159: RuntimeWarning: Mean of empty slice\n",
      "  return np.nanmean(a, axis=axis, dtype=dtype)\n"
     ]
    },
    {
     "name": "stdout",
     "output_type": "stream",
     "text": [
      "1034\n",
      "./1027/saildrone-gen_5-west_coast_survey_2018-sd1027-20180925T200000-20180925T215959-1_minutes-v2.1537914615747.nc\n",
      "1035\n",
      "./1027/saildrone-gen_5-west_coast_survey_2018-sd1027-20181003T200000-20181003T215959-1_minutes-v2.1538605812910.nc\n"
     ]
    },
    {
     "name": "stderr",
     "output_type": "stream",
     "text": [
      "/Users/senyastein/miniconda3/envs/satenv/lib/python3.7/site-packages/xarray/core/nanops.py:159: RuntimeWarning: Mean of empty slice\n",
      "  return np.nanmean(a, axis=axis, dtype=dtype)\n",
      "/Users/senyastein/miniconda3/envs/satenv/lib/python3.7/site-packages/xarray/core/nanops.py:159: RuntimeWarning: Mean of empty slice\n",
      "  return np.nanmean(a, axis=axis, dtype=dtype)\n"
     ]
    },
    {
     "name": "stdout",
     "output_type": "stream",
     "text": [
      "1036\n",
      "./1027/saildrone-gen_5-west_coast_survey_2018-sd1027-20180713T060000-20180713T115959-1_minutes-v2.1533316712985.nc\n",
      "1037\n",
      "./1027/saildrone-gen_5-west_coast_survey_2018-sd1027-20180808T180000-20180808T235959-1_minutes-v2.1533776440115.nc\n"
     ]
    },
    {
     "name": "stderr",
     "output_type": "stream",
     "text": [
      "/Users/senyastein/miniconda3/envs/satenv/lib/python3.7/site-packages/xarray/core/nanops.py:159: RuntimeWarning: Mean of empty slice\n",
      "  return np.nanmean(a, axis=axis, dtype=dtype)\n",
      "/Users/senyastein/miniconda3/envs/satenv/lib/python3.7/site-packages/xarray/core/nanops.py:159: RuntimeWarning: Mean of empty slice\n",
      "  return np.nanmean(a, axis=axis, dtype=dtype)\n"
     ]
    },
    {
     "name": "stdout",
     "output_type": "stream",
     "text": [
      "1038\n",
      "./1027/saildrone-gen_5-west_coast_survey_2018-sd1027-20181004T120000-20181004T135959-1_minutes-v2.1538663411878.nc\n",
      "1039\n",
      "./1027/saildrone-gen_5-west_coast_survey_2018-sd1027-20180831T220000-20180831T235959-1_minutes-v2.1535761814882.nc\n",
      "1040"
     ]
    },
    {
     "name": "stderr",
     "output_type": "stream",
     "text": [
      "/Users/senyastein/miniconda3/envs/satenv/lib/python3.7/site-packages/xarray/core/nanops.py:159: RuntimeWarning: Mean of empty slice\n",
      "  return np.nanmean(a, axis=axis, dtype=dtype)\n",
      "/Users/senyastein/miniconda3/envs/satenv/lib/python3.7/site-packages/xarray/core/nanops.py:159: RuntimeWarning: Mean of empty slice\n",
      "  return np.nanmean(a, axis=axis, dtype=dtype)\n",
      "/Users/senyastein/miniconda3/envs/satenv/lib/python3.7/site-packages/xarray/core/nanops.py:159: RuntimeWarning: Mean of empty slice\n",
      "  return np.nanmean(a, axis=axis, dtype=dtype)\n"
     ]
    },
    {
     "name": "stdout",
     "output_type": "stream",
     "text": [
      "\n",
      "./1027/saildrone-gen_5-west_coast_survey_2018-sd1027-20180828T120000-20180828T135959-1_minutes-v2.1535466614519.nc\n",
      "1041\n",
      "./1027/saildrone-gen_5-west_coast_survey_2018-sd1027-20180811T060000-20180811T115959-1_minutes-v2.1533992438141.nc\n"
     ]
    },
    {
     "name": "stderr",
     "output_type": "stream",
     "text": [
      "/Users/senyastein/miniconda3/envs/satenv/lib/python3.7/site-packages/xarray/core/nanops.py:159: RuntimeWarning: Mean of empty slice\n",
      "  return np.nanmean(a, axis=axis, dtype=dtype)\n",
      "/Users/senyastein/miniconda3/envs/satenv/lib/python3.7/site-packages/xarray/core/nanops.py:159: RuntimeWarning: Mean of empty slice\n",
      "  return np.nanmean(a, axis=axis, dtype=dtype)\n"
     ]
    },
    {
     "name": "stdout",
     "output_type": "stream",
     "text": [
      "1042\n",
      "./1027/saildrone-gen_5-west_coast_survey_2018-sd1027-20180822T120000-20180822T175959-1_minutes-v2.1534965347262.nc\n",
      "1043\n",
      "./1027/saildrone-gen_5-west_coast_survey_2018-sd1027-20180821T060000-20180821T115959-1_minutes-v2.1534856439059.nc\n"
     ]
    },
    {
     "name": "stderr",
     "output_type": "stream",
     "text": [
      "/Users/senyastein/miniconda3/envs/satenv/lib/python3.7/site-packages/xarray/core/nanops.py:159: RuntimeWarning: Mean of empty slice\n",
      "  return np.nanmean(a, axis=axis, dtype=dtype)\n",
      "/Users/senyastein/miniconda3/envs/satenv/lib/python3.7/site-packages/xarray/core/nanops.py:159: RuntimeWarning: Mean of empty slice\n",
      "  return np.nanmean(a, axis=axis, dtype=dtype)\n"
     ]
    },
    {
     "name": "stdout",
     "output_type": "stream",
     "text": [
      "1044\n",
      "./1027/saildrone-gen_5-west_coast_survey_2018-sd1027-20181002T200000-20181002T215959-1_minutes-v2.1538519425298.nc\n",
      "1045\n",
      "./1027/saildrone-gen_5-west_coast_survey_2018-sd1027-20180805T060000-20180805T115959-1_minutes-v2.1533474037105.nc\n"
     ]
    },
    {
     "name": "stderr",
     "output_type": "stream",
     "text": [
      "/Users/senyastein/miniconda3/envs/satenv/lib/python3.7/site-packages/xarray/core/nanops.py:159: RuntimeWarning: Mean of empty slice\n",
      "  return np.nanmean(a, axis=axis, dtype=dtype)\n",
      "/Users/senyastein/miniconda3/envs/satenv/lib/python3.7/site-packages/xarray/core/nanops.py:159: RuntimeWarning: Mean of empty slice\n",
      "  return np.nanmean(a, axis=axis, dtype=dtype)\n"
     ]
    },
    {
     "name": "stdout",
     "output_type": "stream",
     "text": [
      "1046\n",
      "./1027/saildrone-gen_5-west_coast_survey_2018-sd1027-20180825T160000-20180825T175959-1_minutes-v2.1535221814502.nc\n",
      "1047\n",
      "./1027/saildrone-gen_5-west_coast_survey_2018-sd1027-20180929T100000-20180929T115959-1_minutes-v2.1538224212773.nc\n"
     ]
    },
    {
     "name": "stderr",
     "output_type": "stream",
     "text": [
      "/Users/senyastein/miniconda3/envs/satenv/lib/python3.7/site-packages/xarray/core/nanops.py:159: RuntimeWarning: Mean of empty slice\n",
      "  return np.nanmean(a, axis=axis, dtype=dtype)\n",
      "/Users/senyastein/miniconda3/envs/satenv/lib/python3.7/site-packages/xarray/core/nanops.py:159: RuntimeWarning: Mean of empty slice\n",
      "  return np.nanmean(a, axis=axis, dtype=dtype)\n",
      "/Users/senyastein/miniconda3/envs/satenv/lib/python3.7/site-packages/xarray/core/nanops.py:159: RuntimeWarning: Mean of empty slice\n",
      "  return np.nanmean(a, axis=axis, dtype=dtype)\n"
     ]
    },
    {
     "name": "stdout",
     "output_type": "stream",
     "text": [
      "1048\n",
      "./1027/saildrone-gen_5-west_coast_survey_2018-sd1027-20180712T000000-20180712T055959-1_minutes-v2.1533316403892.nc\n",
      "1049\n",
      "./1027/saildrone-gen_5-west_coast_survey_2018-sd1027-20180916T000000-20180916T015959-1_minutes-v2.1537065015340.nc\n",
      "1050\n",
      "./1027/saildrone-gen_5-west_coast_survey_2018-sd1027-20180929T220000-20180929T235959-1_minutes-v2.1538267413429.nc\n",
      "1051\n",
      "./1027/saildrone-gen_5-west_coast_survey_2018-sd1027-20180813T000000-20180813T055959-1_minutes-v2.1534143637810.nc\n",
      "1052\n",
      "./1027/saildrone-gen_5-west_coast_survey_2018-sd1027-20180708T180000-20180708T235959-1_minutes-v2.1533315592986.nc\n"
     ]
    },
    {
     "name": "stderr",
     "output_type": "stream",
     "text": [
      "/Users/senyastein/miniconda3/envs/satenv/lib/python3.7/site-packages/xarray/core/nanops.py:159: RuntimeWarning: Mean of empty slice\n",
      "  return np.nanmean(a, axis=axis, dtype=dtype)\n",
      "/Users/senyastein/miniconda3/envs/satenv/lib/python3.7/site-packages/xarray/core/nanops.py:159: RuntimeWarning: Mean of empty slice\n",
      "  return np.nanmean(a, axis=axis, dtype=dtype)\n",
      "/Users/senyastein/miniconda3/envs/satenv/lib/python3.7/site-packages/xarray/core/nanops.py:159: RuntimeWarning: Mean of empty slice\n",
      "  return np.nanmean(a, axis=axis, dtype=dtype)\n"
     ]
    },
    {
     "name": "stdout",
     "output_type": "stream",
     "text": [
      "1053\n",
      "./1027/saildrone-gen_5-west_coast_survey_2018-sd1027-20180720T180000-20180720T235959-1_minutes-v2.1533318513009.nc\n",
      "1054\n",
      "./1027/saildrone-gen_5-west_coast_survey_2018-sd1027-20180908T080000-20180908T095959-1_minutes-v2.1536402615564.nc\n",
      "1055\n",
      "./1027/saildrone-gen_5-west_coast_survey_2018-sd1027-20180922T120000-20180922T135959-1_minutes-v2.1537626614830.nc\n"
     ]
    },
    {
     "name": "stderr",
     "output_type": "stream",
     "text": [
      "/Users/senyastein/miniconda3/envs/satenv/lib/python3.7/site-packages/xarray/core/nanops.py:159: RuntimeWarning: Mean of empty slice\n",
      "  return np.nanmean(a, axis=axis, dtype=dtype)\n",
      "/Users/senyastein/miniconda3/envs/satenv/lib/python3.7/site-packages/xarray/core/nanops.py:159: RuntimeWarning: Mean of empty slice\n",
      "  return np.nanmean(a, axis=axis, dtype=dtype)\n",
      "/Users/senyastein/miniconda3/envs/satenv/lib/python3.7/site-packages/xarray/core/nanops.py:159: RuntimeWarning: Mean of empty slice\n",
      "  return np.nanmean(a, axis=axis, dtype=dtype)\n"
     ]
    },
    {
     "name": "stdout",
     "output_type": "stream",
     "text": [
      "1056\n",
      "./1027/saildrone-gen_5-west_coast_survey_2018-sd1027-20180916T080000-20180916T095959-1_minutes-v2.1537093814844.nc\n",
      "1057\n",
      "./1027/saildrone-gen_5-west_coast_survey_2018-sd1027-20180930T060000-20180930T075959-1_minutes-v2.1538296224308.nc\n"
     ]
    },
    {
     "name": "stderr",
     "output_type": "stream",
     "text": [
      "/Users/senyastein/miniconda3/envs/satenv/lib/python3.7/site-packages/xarray/core/nanops.py:159: RuntimeWarning: Mean of empty slice\n",
      "  return np.nanmean(a, axis=axis, dtype=dtype)\n",
      "/Users/senyastein/miniconda3/envs/satenv/lib/python3.7/site-packages/xarray/core/nanops.py:159: RuntimeWarning: Mean of empty slice\n",
      "  return np.nanmean(a, axis=axis, dtype=dtype)\n"
     ]
    },
    {
     "name": "stdout",
     "output_type": "stream",
     "text": [
      "1058\n",
      "./1027/saildrone-gen_5-west_coast_survey_2018-sd1027-20181001T160000-20181001T175959-1_minutes-v2.1538418612385.nc\n",
      "1059\n",
      "./1027/saildrone-gen_5-west_coast_survey_2018-sd1027-20180831T140000-20180831T155959-1_minutes-v2.1535733014622.nc\n",
      "1060\n",
      "./1027/saildrone-gen_5-west_coast_survey_2018-sd1027-20180704T000000-20180704T055959-1_minutes-v2.1533314522480.nc\n"
     ]
    },
    {
     "name": "stderr",
     "output_type": "stream",
     "text": [
      "/Users/senyastein/miniconda3/envs/satenv/lib/python3.7/site-packages/xarray/core/nanops.py:159: RuntimeWarning: Mean of empty slice\n",
      "  return np.nanmean(a, axis=axis, dtype=dtype)\n",
      "/Users/senyastein/miniconda3/envs/satenv/lib/python3.7/site-packages/xarray/core/nanops.py:159: RuntimeWarning: Mean of empty slice\n",
      "  return np.nanmean(a, axis=axis, dtype=dtype)\n",
      "/Users/senyastein/miniconda3/envs/satenv/lib/python3.7/site-packages/xarray/core/nanops.py:159: RuntimeWarning: Mean of empty slice\n",
      "  return np.nanmean(a, axis=axis, dtype=dtype)\n"
     ]
    },
    {
     "name": "stdout",
     "output_type": "stream",
     "text": [
      "1061\n",
      "./1027/saildrone-gen_5-west_coast_survey_2018-sd1027-20180918T000000-20180918T015959-1_minutes-v2.1537237818673.nc\n",
      "1062\n",
      "./1027/saildrone-gen_5-west_coast_survey_2018-sd1027-20180826T120000-20180826T135959-1_minutes-v2.1535293814442.nc\n",
      "1063\n",
      "./1027/saildrone-gen_5-west_coast_survey_2018-sd1027-20180716T120000-20180716T175959-1_minutes-v2.1533317516712.nc\n"
     ]
    },
    {
     "name": "stderr",
     "output_type": "stream",
     "text": [
      "/Users/senyastein/miniconda3/envs/satenv/lib/python3.7/site-packages/xarray/core/nanops.py:159: RuntimeWarning: Mean of empty slice\n",
      "  return np.nanmean(a, axis=axis, dtype=dtype)\n",
      "/Users/senyastein/miniconda3/envs/satenv/lib/python3.7/site-packages/xarray/core/nanops.py:159: RuntimeWarning: Mean of empty slice\n",
      "  return np.nanmean(a, axis=axis, dtype=dtype)\n",
      "/Users/senyastein/miniconda3/envs/satenv/lib/python3.7/site-packages/xarray/core/nanops.py:159: RuntimeWarning: Mean of empty slice\n",
      "  return np.nanmean(a, axis=axis, dtype=dtype)\n",
      "/Users/senyastein/miniconda3/envs/satenv/lib/python3.7/site-packages/xarray/core/nanops.py:159: RuntimeWarning: Mean of empty slice\n",
      "  return np.nanmean(a, axis=axis, dtype=dtype)\n"
     ]
    },
    {
     "name": "stdout",
     "output_type": "stream",
     "text": [
      "1064\n",
      "./1027/saildrone-gen_5-west_coast_survey_2018-sd1027-20180721T120000-20180721T175959-1_minutes-v2.1533318673839.nc\n",
      "1065\n",
      "./1027/saildrone-gen_5-west_coast_survey_2018-sd1027-20181004T140000-20181004T155959-1_minutes-v2.1538670614132.nc\n"
     ]
    },
    {
     "name": "stderr",
     "output_type": "stream",
     "text": [
      "/Users/senyastein/miniconda3/envs/satenv/lib/python3.7/site-packages/xarray/core/nanops.py:159: RuntimeWarning: Mean of empty slice\n",
      "  return np.nanmean(a, axis=axis, dtype=dtype)\n",
      "/Users/senyastein/miniconda3/envs/satenv/lib/python3.7/site-packages/xarray/core/nanops.py:159: RuntimeWarning: Mean of empty slice\n",
      "  return np.nanmean(a, axis=axis, dtype=dtype)\n"
     ]
    },
    {
     "name": "stdout",
     "output_type": "stream",
     "text": [
      "1066\n",
      "./1027/saildrone-gen_5-west_coast_survey_2018-sd1027-20180826T200000-20180826T215959-1_minutes-v2.1535322614094.nc\n",
      "1067\n",
      "./1027/saildrone-gen_5-west_coast_survey_2018-sd1027-20180922T080000-20180922T095959-1_minutes-v2.1537612214848.nc\n"
     ]
    },
    {
     "name": "stderr",
     "output_type": "stream",
     "text": [
      "/Users/senyastein/miniconda3/envs/satenv/lib/python3.7/site-packages/xarray/core/nanops.py:159: RuntimeWarning: Mean of empty slice\n",
      "  return np.nanmean(a, axis=axis, dtype=dtype)\n",
      "/Users/senyastein/miniconda3/envs/satenv/lib/python3.7/site-packages/xarray/core/nanops.py:159: RuntimeWarning: Mean of empty slice\n",
      "  return np.nanmean(a, axis=axis, dtype=dtype)\n",
      "/Users/senyastein/miniconda3/envs/satenv/lib/python3.7/site-packages/xarray/core/nanops.py:159: RuntimeWarning: Mean of empty slice\n",
      "  return np.nanmean(a, axis=axis, dtype=dtype)\n"
     ]
    },
    {
     "name": "stdout",
     "output_type": "stream",
     "text": [
      "1068\n",
      "./1027/saildrone-gen_5-west_coast_survey_2018-sd1027-20180910T100000-20180910T115959-1_minutes-v2.1536582631745.nc\n",
      "1069\n",
      "./1027/saildrone-gen_5-west_coast_survey_2018-sd1027-20180920T220000-20180920T235959-1_minutes-v2.1537489816635.nc\n",
      "1070\n",
      "./1027/saildrone-gen_5-west_coast_survey_2018-sd1027-20181005T180000-20181005T195959-1_minutes-v2.1538771410750.nc\n"
     ]
    },
    {
     "name": "stderr",
     "output_type": "stream",
     "text": [
      "/Users/senyastein/miniconda3/envs/satenv/lib/python3.7/site-packages/xarray/core/nanops.py:159: RuntimeWarning: Mean of empty slice\n",
      "  return np.nanmean(a, axis=axis, dtype=dtype)\n",
      "/Users/senyastein/miniconda3/envs/satenv/lib/python3.7/site-packages/xarray/core/nanops.py:159: RuntimeWarning: Mean of empty slice\n",
      "  return np.nanmean(a, axis=axis, dtype=dtype)\n",
      "/Users/senyastein/miniconda3/envs/satenv/lib/python3.7/site-packages/xarray/core/nanops.py:159: RuntimeWarning: Mean of empty slice\n",
      "  return np.nanmean(a, axis=axis, dtype=dtype)\n"
     ]
    },
    {
     "name": "stdout",
     "output_type": "stream",
     "text": [
      "1071\n",
      "./1027/saildrone-gen_5-west_coast_survey_2018-sd1027-20180827T160000-20180827T175959-1_minutes-v2.1535394615117.nc\n",
      "1072\n",
      "./1027/saildrone-gen_5-west_coast_survey_2018-sd1027-20180919T060000-20180919T075959-1_minutes-v2.1537345814332.nc\n",
      "1073\n",
      "./1027/saildrone-gen_5-west_coast_survey_2018-sd1027-20180628T000000-20180628T055959-1_minutes-v2.1533313069043.nc\n",
      "1074\n",
      "./1027/saildrone-gen_5-west_coast_survey_2018-sd1027-20180913T220000-20180913T235959-1_minutes-v2.1536885019814.nc\n",
      "1075\n",
      "./1027/saildrone-gen_5-west_coast_survey_2018-sd1027-20180906T200000-20180906T215959-1_minutes-v2.1536273029641.nc\n"
     ]
    },
    {
     "name": "stderr",
     "output_type": "stream",
     "text": [
      "/Users/senyastein/miniconda3/envs/satenv/lib/python3.7/site-packages/xarray/core/nanops.py:159: RuntimeWarning: Mean of empty slice\n",
      "  return np.nanmean(a, axis=axis, dtype=dtype)\n",
      "/Users/senyastein/miniconda3/envs/satenv/lib/python3.7/site-packages/xarray/core/nanops.py:159: RuntimeWarning: Mean of empty slice\n",
      "  return np.nanmean(a, axis=axis, dtype=dtype)\n",
      "/Users/senyastein/miniconda3/envs/satenv/lib/python3.7/site-packages/xarray/core/nanops.py:159: RuntimeWarning: Mean of empty slice\n",
      "  return np.nanmean(a, axis=axis, dtype=dtype)\n"
     ]
    },
    {
     "name": "stdout",
     "output_type": "stream",
     "text": [
      "1076\n",
      "./1027/saildrone-gen_5-west_coast_survey_2018-sd1027-20180916T140000-20180916T155959-1_minutes-v2.1537115415560.nc\n",
      "1077\n",
      "./1027/saildrone-gen_5-west_coast_survey_2018-sd1027-20180923T220000-20180923T235959-1_minutes-v2.1537749026196.nc\n",
      "1078\n"
     ]
    },
    {
     "name": "stderr",
     "output_type": "stream",
     "text": [
      "/Users/senyastein/miniconda3/envs/satenv/lib/python3.7/site-packages/xarray/core/nanops.py:159: RuntimeWarning: Mean of empty slice\n",
      "  return np.nanmean(a, axis=axis, dtype=dtype)\n",
      "/Users/senyastein/miniconda3/envs/satenv/lib/python3.7/site-packages/xarray/core/nanops.py:159: RuntimeWarning: Mean of empty slice\n",
      "  return np.nanmean(a, axis=axis, dtype=dtype)\n",
      "/Users/senyastein/miniconda3/envs/satenv/lib/python3.7/site-packages/xarray/core/nanops.py:159: RuntimeWarning: Mean of empty slice\n",
      "  return np.nanmean(a, axis=axis, dtype=dtype)\n"
     ]
    },
    {
     "name": "stdout",
     "output_type": "stream",
     "text": [
      "./1027/saildrone-gen_5-west_coast_survey_2018-sd1027-20180908T120000-20180908T135959-1_minutes-v2.1536417015790.nc\n",
      "1079\n",
      "./1027/saildrone-gen_5-west_coast_survey_2018-sd1027-20180924T200000-20180924T215959-1_minutes-v2.1537828215150.nc\n",
      "1080\n"
     ]
    },
    {
     "name": "stderr",
     "output_type": "stream",
     "text": [
      "/Users/senyastein/miniconda3/envs/satenv/lib/python3.7/site-packages/xarray/core/nanops.py:159: RuntimeWarning: Mean of empty slice\n",
      "  return np.nanmean(a, axis=axis, dtype=dtype)\n",
      "/Users/senyastein/miniconda3/envs/satenv/lib/python3.7/site-packages/xarray/core/nanops.py:159: RuntimeWarning: Mean of empty slice\n",
      "  return np.nanmean(a, axis=axis, dtype=dtype)\n",
      "/Users/senyastein/miniconda3/envs/satenv/lib/python3.7/site-packages/xarray/core/nanops.py:159: RuntimeWarning: Mean of empty slice\n",
      "  return np.nanmean(a, axis=axis, dtype=dtype)\n"
     ]
    },
    {
     "name": "stdout",
     "output_type": "stream",
     "text": [
      "./1027/saildrone-gen_5-west_coast_survey_2018-sd1027-20180630T120000-20180630T175959-1_minutes-v2.1533313601235.nc\n",
      "1081\n",
      "./1027/saildrone-gen_5-west_coast_survey_2018-sd1027-20180706T060000-20180706T115959-1_minutes-v2.1533314998845.nc\n",
      "1082\n",
      "./1027/saildrone-gen_5-west_coast_survey_2018-sd1027-20180821T180000-20180821T235959-1_minutes-v2.1534899638151.nc\n",
      "1083\n",
      "./1027/saildrone-gen_5-west_coast_survey_2018-sd1027-20180827T100000-20180827T115959-1_minutes-v2.1535373028827.nc\n"
     ]
    },
    {
     "name": "stderr",
     "output_type": "stream",
     "text": [
      "/Users/senyastein/miniconda3/envs/satenv/lib/python3.7/site-packages/xarray/core/nanops.py:159: RuntimeWarning: Mean of empty slice\n",
      "  return np.nanmean(a, axis=axis, dtype=dtype)\n",
      "/Users/senyastein/miniconda3/envs/satenv/lib/python3.7/site-packages/xarray/core/nanops.py:159: RuntimeWarning: Mean of empty slice\n",
      "  return np.nanmean(a, axis=axis, dtype=dtype)\n"
     ]
    },
    {
     "name": "stdout",
     "output_type": "stream",
     "text": [
      "1084\n",
      "./1027/saildrone-gen_5-west_coast_survey_2018-sd1027-20180907T180000-20180907T195959-1_minutes-v2.1536352215921.nc\n",
      "1085\n",
      "./1027/saildrone-gen_5-west_coast_survey_2018-sd1027-20180825T000000-20180825T015959-1_minutes-v2.1535164219053.nc\n"
     ]
    },
    {
     "name": "stderr",
     "output_type": "stream",
     "text": [
      "/Users/senyastein/miniconda3/envs/satenv/lib/python3.7/site-packages/xarray/core/nanops.py:159: RuntimeWarning: Mean of empty slice\n",
      "  return np.nanmean(a, axis=axis, dtype=dtype)\n",
      "/Users/senyastein/miniconda3/envs/satenv/lib/python3.7/site-packages/xarray/core/nanops.py:159: RuntimeWarning: Mean of empty slice\n",
      "  return np.nanmean(a, axis=axis, dtype=dtype)\n"
     ]
    },
    {
     "name": "stdout",
     "output_type": "stream",
     "text": [
      "1086\n",
      "./1027/saildrone-gen_5-west_coast_survey_2018-sd1027-20180829T120000-20180829T135959-1_minutes-v2.1535553017469.nc\n",
      "1087\n",
      "./1027/saildrone-gen_5-west_coast_survey_2018-sd1027-20181005T100000-20181005T115959-1_minutes-v2.1538742612027.nc\n"
     ]
    },
    {
     "name": "stderr",
     "output_type": "stream",
     "text": [
      "/Users/senyastein/miniconda3/envs/satenv/lib/python3.7/site-packages/xarray/core/nanops.py:159: RuntimeWarning: Mean of empty slice\n",
      "  return np.nanmean(a, axis=axis, dtype=dtype)\n",
      "/Users/senyastein/miniconda3/envs/satenv/lib/python3.7/site-packages/xarray/core/nanops.py:159: RuntimeWarning: Mean of empty slice\n",
      "  return np.nanmean(a, axis=axis, dtype=dtype)\n"
     ]
    },
    {
     "name": "stdout",
     "output_type": "stream",
     "text": [
      "1088\n",
      "./1027/saildrone-gen_5-west_coast_survey_2018-sd1027-20180928T220000-20180928T235959-1_minutes-v2.1538181013210.nc\n",
      "1089\n",
      "./1027/saildrone-gen_5-west_coast_survey_2018-sd1027-20180919T180000-20180919T195959-1_minutes-v2.1537389016075.nc\n"
     ]
    },
    {
     "name": "stderr",
     "output_type": "stream",
     "text": [
      "/Users/senyastein/miniconda3/envs/satenv/lib/python3.7/site-packages/xarray/core/nanops.py:159: RuntimeWarning: Mean of empty slice\n",
      "  return np.nanmean(a, axis=axis, dtype=dtype)\n",
      "/Users/senyastein/miniconda3/envs/satenv/lib/python3.7/site-packages/xarray/core/nanops.py:159: RuntimeWarning: Mean of empty slice\n",
      "  return np.nanmean(a, axis=axis, dtype=dtype)\n"
     ]
    },
    {
     "name": "stdout",
     "output_type": "stream",
     "text": [
      "1090\n",
      "./1027/saildrone-gen_5-west_coast_survey_2018-sd1027-20181004T080000-20181004T095959-1_minutes-v2.1538649020985.nc\n",
      "1091\n",
      "./1027/saildrone-gen_5-west_coast_survey_2018-sd1027-20180719T120000-20180719T175959-1_minutes-v2.1533318205852.nc\n"
     ]
    },
    {
     "name": "stderr",
     "output_type": "stream",
     "text": [
      "/Users/senyastein/miniconda3/envs/satenv/lib/python3.7/site-packages/xarray/core/nanops.py:159: RuntimeWarning: Mean of empty slice\n",
      "  return np.nanmean(a, axis=axis, dtype=dtype)\n",
      "/Users/senyastein/miniconda3/envs/satenv/lib/python3.7/site-packages/xarray/core/nanops.py:159: RuntimeWarning: Mean of empty slice\n",
      "  return np.nanmean(a, axis=axis, dtype=dtype)\n"
     ]
    },
    {
     "name": "stdout",
     "output_type": "stream",
     "text": [
      "1092\n",
      "./1027/saildrone-gen_5-west_coast_survey_2018-sd1027-20180911T160000-20180911T175959-1_minutes-v2.1536690620420.nc\n",
      "1093\n",
      "./1027/saildrone-gen_5-west_coast_survey_2018-sd1027-20180823T160000-20180823T175959-1_minutes-v2.1535049014071.nc\n"
     ]
    },
    {
     "name": "stderr",
     "output_type": "stream",
     "text": [
      "/Users/senyastein/miniconda3/envs/satenv/lib/python3.7/site-packages/xarray/core/nanops.py:159: RuntimeWarning: Mean of empty slice\n",
      "  return np.nanmean(a, axis=axis, dtype=dtype)\n",
      "/Users/senyastein/miniconda3/envs/satenv/lib/python3.7/site-packages/xarray/core/nanops.py:159: RuntimeWarning: Mean of empty slice\n",
      "  return np.nanmean(a, axis=axis, dtype=dtype)\n"
     ]
    },
    {
     "name": "stdout",
     "output_type": "stream",
     "text": [
      "1094\n",
      "./1027/saildrone-gen_5-west_coast_survey_2018-sd1027-20180930T120000-20180930T135959-1_minutes-v2.1538317812130.nc\n",
      "1095\n",
      "./1027/saildrone-gen_5-west_coast_survey_2018-sd1027-20180829T080000-20180829T095959-1_minutes-v2.1535538615849.nc\n",
      "1096\n",
      "./1027/saildrone-gen_5-west_coast_survey_2018-sd1027-20180916T160000-20180916T175959-1_minutes-v2.1537122616479.nc\n"
     ]
    },
    {
     "name": "stderr",
     "output_type": "stream",
     "text": [
      "/Users/senyastein/miniconda3/envs/satenv/lib/python3.7/site-packages/xarray/core/nanops.py:159: RuntimeWarning: Mean of empty slice\n",
      "  return np.nanmean(a, axis=axis, dtype=dtype)\n",
      "/Users/senyastein/miniconda3/envs/satenv/lib/python3.7/site-packages/xarray/core/nanops.py:159: RuntimeWarning: Mean of empty slice\n",
      "  return np.nanmean(a, axis=axis, dtype=dtype)\n",
      "/Users/senyastein/miniconda3/envs/satenv/lib/python3.7/site-packages/xarray/core/nanops.py:159: RuntimeWarning: Mean of empty slice\n",
      "  return np.nanmean(a, axis=axis, dtype=dtype)\n"
     ]
    },
    {
     "name": "stdout",
     "output_type": "stream",
     "text": [
      "1097\n",
      "./1027/saildrone-gen_5-west_coast_survey_2018-sd1027-20180814T000000-20180814T055959-1_minutes-v2.1534230036254.nc\n",
      "1098\n",
      "./1027/saildrone-gen_5-west_coast_survey_2018-sd1027-20180704T180000-20180704T235959-1_minutes-v2.1533314689410.nc\n"
     ]
    },
    {
     "name": "stderr",
     "output_type": "stream",
     "text": [
      "/Users/senyastein/miniconda3/envs/satenv/lib/python3.7/site-packages/xarray/core/nanops.py:159: RuntimeWarning: Mean of empty slice\n",
      "  return np.nanmean(a, axis=axis, dtype=dtype)\n",
      "/Users/senyastein/miniconda3/envs/satenv/lib/python3.7/site-packages/xarray/core/nanops.py:159: RuntimeWarning: Mean of empty slice\n",
      "  return np.nanmean(a, axis=axis, dtype=dtype)\n"
     ]
    },
    {
     "name": "stdout",
     "output_type": "stream",
     "text": [
      "1099\n",
      "./1027/saildrone-gen_5-west_coast_survey_2018-sd1027-20180904T220000-20180904T235959-1_minutes-v2.1536107414446.nc\n",
      "1100\n",
      "./1027/saildrone-gen_5-west_coast_survey_2018-sd1027-20180910T000000-20180910T015959-1_minutes-v2.1536546615279.nc\n"
     ]
    },
    {
     "name": "stderr",
     "output_type": "stream",
     "text": [
      "/Users/senyastein/miniconda3/envs/satenv/lib/python3.7/site-packages/xarray/core/nanops.py:159: RuntimeWarning: Mean of empty slice\n",
      "  return np.nanmean(a, axis=axis, dtype=dtype)\n",
      "/Users/senyastein/miniconda3/envs/satenv/lib/python3.7/site-packages/xarray/core/nanops.py:159: RuntimeWarning: Mean of empty slice\n",
      "  return np.nanmean(a, axis=axis, dtype=dtype)\n",
      "/Users/senyastein/miniconda3/envs/satenv/lib/python3.7/site-packages/xarray/core/nanops.py:159: RuntimeWarning: Mean of empty slice\n",
      "  return np.nanmean(a, axis=axis, dtype=dtype)\n"
     ]
    },
    {
     "name": "stdout",
     "output_type": "stream",
     "text": [
      "1101\n",
      "./1027/saildrone-gen_5-west_coast_survey_2018-sd1027-20180815T180000-20180815T235959-1_minutes-v2.1534381237891.nc\n",
      "1102\n",
      "./1027/saildrone-gen_5-west_coast_survey_2018-sd1027-20180926T100000-20180926T115959-1_minutes-v2.1537965015372.nc\n"
     ]
    },
    {
     "name": "stderr",
     "output_type": "stream",
     "text": [
      "/Users/senyastein/miniconda3/envs/satenv/lib/python3.7/site-packages/xarray/core/nanops.py:159: RuntimeWarning: Mean of empty slice\n",
      "  return np.nanmean(a, axis=axis, dtype=dtype)\n",
      "/Users/senyastein/miniconda3/envs/satenv/lib/python3.7/site-packages/xarray/core/nanops.py:159: RuntimeWarning: Mean of empty slice\n",
      "  return np.nanmean(a, axis=axis, dtype=dtype)\n",
      "/Users/senyastein/miniconda3/envs/satenv/lib/python3.7/site-packages/xarray/core/nanops.py:159: RuntimeWarning: Mean of empty slice\n",
      "  return np.nanmean(a, axis=axis, dtype=dtype)\n"
     ]
    },
    {
     "name": "stdout",
     "output_type": "stream",
     "text": [
      "1103\n",
      "./1027/saildrone-gen_5-west_coast_survey_2018-sd1027-20180921T040000-20180921T055959-1_minutes-v2.1537511419773.nc\n",
      "1104\n",
      "./1027/saildrone-gen_5-west_coast_survey_2018-sd1027-20180922T100000-20180922T115959-1_minutes-v2.1537619414644.nc\n",
      "1105\n",
      "./1027/saildrone-gen_5-west_coast_survey_2018-sd1027-20181004T180000-20181004T195959-1_minutes-v2.1538685022956.nc\n"
     ]
    },
    {
     "name": "stderr",
     "output_type": "stream",
     "text": [
      "/Users/senyastein/miniconda3/envs/satenv/lib/python3.7/site-packages/xarray/core/nanops.py:159: RuntimeWarning: Mean of empty slice\n",
      "  return np.nanmean(a, axis=axis, dtype=dtype)\n",
      "/Users/senyastein/miniconda3/envs/satenv/lib/python3.7/site-packages/xarray/core/nanops.py:159: RuntimeWarning: Mean of empty slice\n",
      "  return np.nanmean(a, axis=axis, dtype=dtype)\n",
      "/Users/senyastein/miniconda3/envs/satenv/lib/python3.7/site-packages/xarray/core/nanops.py:159: RuntimeWarning: Mean of empty slice\n",
      "  return np.nanmean(a, axis=axis, dtype=dtype)\n"
     ]
    },
    {
     "name": "stdout",
     "output_type": "stream",
     "text": [
      "1106\n",
      "./1027/saildrone-gen_5-west_coast_survey_2018-sd1027-20180915T180000-20180915T195959-1_minutes-v2.1537043428764.nc\n",
      "1107\n",
      "./1027/saildrone-gen_5-west_coast_survey_2018-sd1027-20180917T120000-20180917T135959-1_minutes-v2.1537194614791.nc\n",
      "1108\n",
      "./1027/saildrone-gen_5-west_coast_survey_2018-sd1027-20180825T060000-20180825T075959-1_minutes-v2.1535185815184.nc\n",
      "1109\n",
      "./1027/saildrone-gen_5-west_coast_survey_2018-sd1027-20180728T000000-20180728T055959-1_minutes-v2.1533320171142.nc\n",
      "1110\n",
      "./1027/saildrone-gen_5-west_coast_survey_2018-sd1027-20180713T180000-20180713T235959-1_minutes-v2.1533316863565.nc\n"
     ]
    },
    {
     "name": "stderr",
     "output_type": "stream",
     "text": [
      "/Users/senyastein/miniconda3/envs/satenv/lib/python3.7/site-packages/xarray/core/nanops.py:159: RuntimeWarning: Mean of empty slice\n",
      "  return np.nanmean(a, axis=axis, dtype=dtype)\n",
      "/Users/senyastein/miniconda3/envs/satenv/lib/python3.7/site-packages/xarray/core/nanops.py:159: RuntimeWarning: Mean of empty slice\n",
      "  return np.nanmean(a, axis=axis, dtype=dtype)\n",
      "/Users/senyastein/miniconda3/envs/satenv/lib/python3.7/site-packages/xarray/core/nanops.py:159: RuntimeWarning: Mean of empty slice\n",
      "  return np.nanmean(a, axis=axis, dtype=dtype)\n"
     ]
    },
    {
     "name": "stdout",
     "output_type": "stream",
     "text": [
      "1111\n",
      "./1027/saildrone-gen_5-west_coast_survey_2018-sd1027-20180716T180000-20180716T235959-1_minutes-v2.1533317569758.nc\n",
      "1112\n",
      "./1027/saildrone-gen_5-west_coast_survey_2018-sd1027-20180829T000000-20180829T015959-1_minutes-v2.1535509815328.nc\n",
      "1113"
     ]
    },
    {
     "name": "stderr",
     "output_type": "stream",
     "text": [
      "/Users/senyastein/miniconda3/envs/satenv/lib/python3.7/site-packages/xarray/core/nanops.py:159: RuntimeWarning: Mean of empty slice\n",
      "  return np.nanmean(a, axis=axis, dtype=dtype)\n",
      "/Users/senyastein/miniconda3/envs/satenv/lib/python3.7/site-packages/xarray/core/nanops.py:159: RuntimeWarning: Mean of empty slice\n",
      "  return np.nanmean(a, axis=axis, dtype=dtype)\n"
     ]
    },
    {
     "name": "stdout",
     "output_type": "stream",
     "text": [
      "\n",
      "./1027/saildrone-gen_5-west_coast_survey_2018-sd1027-20180814T060000-20180814T115959-1_minutes-v2.1534251637547.nc\n",
      "1114\n",
      "./1027/saildrone-gen_5-west_coast_survey_2018-sd1027-20180712T180000-20180712T235959-1_minutes-v2.1533316590231.nc\n"
     ]
    },
    {
     "name": "stderr",
     "output_type": "stream",
     "text": [
      "/Users/senyastein/miniconda3/envs/satenv/lib/python3.7/site-packages/xarray/core/nanops.py:159: RuntimeWarning: Mean of empty slice\n",
      "  return np.nanmean(a, axis=axis, dtype=dtype)\n",
      "/Users/senyastein/miniconda3/envs/satenv/lib/python3.7/site-packages/xarray/core/nanops.py:159: RuntimeWarning: Mean of empty slice\n",
      "  return np.nanmean(a, axis=axis, dtype=dtype)\n",
      "/Users/senyastein/miniconda3/envs/satenv/lib/python3.7/site-packages/xarray/core/nanops.py:159: RuntimeWarning: Mean of empty slice\n",
      "  return np.nanmean(a, axis=axis, dtype=dtype)\n"
     ]
    },
    {
     "name": "stdout",
     "output_type": "stream",
     "text": [
      "1115\n",
      "./1027/saildrone-gen_5-west_coast_survey_2018-sd1027-20180909T020000-20180909T035959-1_minutes-v2.1536467418862.nc\n",
      "1116\n",
      "./1027/saildrone-gen_5-west_coast_survey_2018-sd1027-20180706T180000-20180706T235959-1_minutes-v2.1533315118710.nc\n"
     ]
    },
    {
     "name": "stderr",
     "output_type": "stream",
     "text": [
      "/Users/senyastein/miniconda3/envs/satenv/lib/python3.7/site-packages/xarray/core/nanops.py:159: RuntimeWarning: Mean of empty slice\n",
      "  return np.nanmean(a, axis=axis, dtype=dtype)\n",
      "/Users/senyastein/miniconda3/envs/satenv/lib/python3.7/site-packages/xarray/core/nanops.py:159: RuntimeWarning: Mean of empty slice\n",
      "  return np.nanmean(a, axis=axis, dtype=dtype)\n"
     ]
    },
    {
     "name": "stdout",
     "output_type": "stream",
     "text": [
      "1117\n",
      "./1027/saildrone-gen_5-west_coast_survey_2018-sd1027-20180812T180000-20180812T235959-1_minutes-v2.1534122039311.nc\n",
      "1118\n",
      "./1027/saildrone-gen_5-west_coast_survey_2018-sd1027-20180921T180000-20180921T195959-1_minutes-v2.1537561815381.nc\n"
     ]
    },
    {
     "name": "stderr",
     "output_type": "stream",
     "text": [
      "/Users/senyastein/miniconda3/envs/satenv/lib/python3.7/site-packages/xarray/core/nanops.py:159: RuntimeWarning: Mean of empty slice\n",
      "  return np.nanmean(a, axis=axis, dtype=dtype)\n",
      "/Users/senyastein/miniconda3/envs/satenv/lib/python3.7/site-packages/xarray/core/nanops.py:159: RuntimeWarning: Mean of empty slice\n",
      "  return np.nanmean(a, axis=axis, dtype=dtype)\n",
      "/Users/senyastein/miniconda3/envs/satenv/lib/python3.7/site-packages/xarray/core/nanops.py:159: RuntimeWarning: Mean of empty slice\n",
      "  return np.nanmean(a, axis=axis, dtype=dtype)\n"
     ]
    },
    {
     "name": "stdout",
     "output_type": "stream",
     "text": [
      "1119\n",
      "./1027/saildrone-gen_5-west_coast_survey_2018-sd1027-20180926T020000-20180926T035959-1_minutes-v2.1537936215859.nc\n",
      "1120\n",
      "./1027/saildrone-gen_5-west_coast_survey_2018-sd1027-20180923T120000-20180923T135959-1_minutes-v2.1537713015122.nc\n",
      "1121\n",
      "./1027/saildrone-gen_5-west_coast_survey_2018-sd1027-20180801T060000-20180801T115959-1_minutes-v2.1533321153387.nc\n",
      "1122\n",
      "./1027/saildrone-gen_5-west_coast_survey_2018-sd1027-20181003T120000-20181003T135959-1_minutes-v2.1538577014201.nc\n",
      "1123\n",
      "./1027/saildrone-gen_5-west_coast_survey_2018-sd1027-20180929T080000-20180929T095959-1_minutes-v2.1538217015554.nc\n"
     ]
    },
    {
     "name": "stderr",
     "output_type": "stream",
     "text": [
      "/Users/senyastein/miniconda3/envs/satenv/lib/python3.7/site-packages/xarray/core/nanops.py:159: RuntimeWarning: Mean of empty slice\n",
      "  return np.nanmean(a, axis=axis, dtype=dtype)\n",
      "/Users/senyastein/miniconda3/envs/satenv/lib/python3.7/site-packages/xarray/core/nanops.py:159: RuntimeWarning: Mean of empty slice\n",
      "  return np.nanmean(a, axis=axis, dtype=dtype)\n",
      "/Users/senyastein/miniconda3/envs/satenv/lib/python3.7/site-packages/xarray/core/nanops.py:159: RuntimeWarning: Mean of empty slice\n",
      "  return np.nanmean(a, axis=axis, dtype=dtype)\n"
     ]
    },
    {
     "name": "stdout",
     "output_type": "stream",
     "text": [
      "1124\n",
      "./1027/saildrone-gen_5-west_coast_survey_2018-sd1027-20180904T200000-20180904T215959-1_minutes-v2.1536100228023.nc\n",
      "1125\n",
      "./1027/saildrone-gen_5-west_coast_survey_2018-sd1027-20180921T200000-20180921T215959-1_minutes-v2.1537569014622.nc\n",
      "1126\n",
      "./1027/saildrone-gen_5-west_coast_survey_2018-sd1027-20180919T160000-20180919T175959-1_minutes-v2.1537381814699.nc\n"
     ]
    },
    {
     "name": "stderr",
     "output_type": "stream",
     "text": [
      "/Users/senyastein/miniconda3/envs/satenv/lib/python3.7/site-packages/xarray/core/nanops.py:159: RuntimeWarning: Mean of empty slice\n",
      "  return np.nanmean(a, axis=axis, dtype=dtype)\n",
      "/Users/senyastein/miniconda3/envs/satenv/lib/python3.7/site-packages/xarray/core/nanops.py:159: RuntimeWarning: Mean of empty slice\n",
      "  return np.nanmean(a, axis=axis, dtype=dtype)\n",
      "/Users/senyastein/miniconda3/envs/satenv/lib/python3.7/site-packages/xarray/core/nanops.py:159: RuntimeWarning: Mean of empty slice\n",
      "  return np.nanmean(a, axis=axis, dtype=dtype)\n"
     ]
    },
    {
     "name": "stdout",
     "output_type": "stream",
     "text": [
      "1127\n",
      "./1027/saildrone-gen_5-west_coast_survey_2018-sd1027-20180907T040000-20180907T055959-1_minutes-v2.1536301814928.nc\n",
      "1128\n",
      "./1027/saildrone-gen_5-west_coast_survey_2018-sd1027-20180930T220000-20180930T235959-1_minutes-v2.1538353812716.nc\n",
      "1129\n"
     ]
    },
    {
     "name": "stderr",
     "output_type": "stream",
     "text": [
      "/Users/senyastein/miniconda3/envs/satenv/lib/python3.7/site-packages/xarray/core/nanops.py:159: RuntimeWarning: Mean of empty slice\n",
      "  return np.nanmean(a, axis=axis, dtype=dtype)\n",
      "/Users/senyastein/miniconda3/envs/satenv/lib/python3.7/site-packages/xarray/core/nanops.py:159: RuntimeWarning: Mean of empty slice\n",
      "  return np.nanmean(a, axis=axis, dtype=dtype)\n"
     ]
    },
    {
     "name": "stdout",
     "output_type": "stream",
     "text": [
      "./1027/saildrone-gen_5-west_coast_survey_2018-sd1027-20180913T140000-20180913T155959-1_minutes-v2.1536856215060.nc\n",
      "1130\n",
      "./1027/saildrone-gen_5-west_coast_survey_2018-sd1027-20180928T200000-20180928T215959-1_minutes-v2.1538173813227.nc\n",
      "1131\n",
      "./1027/saildrone-gen_5-west_coast_survey_2018-sd1027-20180827T120000-20180827T135959-1_minutes-v2.1535380214672.nc\n"
     ]
    },
    {
     "name": "stderr",
     "output_type": "stream",
     "text": [
      "/Users/senyastein/miniconda3/envs/satenv/lib/python3.7/site-packages/xarray/core/nanops.py:159: RuntimeWarning: Mean of empty slice\n",
      "  return np.nanmean(a, axis=axis, dtype=dtype)\n",
      "/Users/senyastein/miniconda3/envs/satenv/lib/python3.7/site-packages/xarray/core/nanops.py:159: RuntimeWarning: Mean of empty slice\n",
      "  return np.nanmean(a, axis=axis, dtype=dtype)\n",
      "/Users/senyastein/miniconda3/envs/satenv/lib/python3.7/site-packages/xarray/core/nanops.py:159: RuntimeWarning: Mean of empty slice\n",
      "  return np.nanmean(a, axis=axis, dtype=dtype)\n"
     ]
    },
    {
     "name": "stdout",
     "output_type": "stream",
     "text": [
      "1132\n",
      "./1027/saildrone-gen_5-west_coast_survey_2018-sd1027-20180917T200000-20180917T215959-1_minutes-v2.1537223417715.nc\n",
      "1133\n",
      "./1027/saildrone-gen_5-west_coast_survey_2018-sd1027-20181001T220000-20181001T235959-1_minutes-v2.1538440217090.nc\n"
     ]
    },
    {
     "name": "stderr",
     "output_type": "stream",
     "text": [
      "/Users/senyastein/miniconda3/envs/satenv/lib/python3.7/site-packages/xarray/core/nanops.py:159: RuntimeWarning: Mean of empty slice\n",
      "  return np.nanmean(a, axis=axis, dtype=dtype)\n",
      "/Users/senyastein/miniconda3/envs/satenv/lib/python3.7/site-packages/xarray/core/nanops.py:159: RuntimeWarning: Mean of empty slice\n",
      "  return np.nanmean(a, axis=axis, dtype=dtype)\n"
     ]
    },
    {
     "name": "stdout",
     "output_type": "stream",
     "text": [
      "1134\n",
      "./1027/saildrone-gen_5-west_coast_survey_2018-sd1027-20180906T000000-20180906T015959-1_minutes-v2.1536201028621.nc\n",
      "1135\n",
      "./1027/saildrone-gen_5-west_coast_survey_2018-sd1027-20180825T020000-20180825T035959-1_minutes-v2.1535171426306.nc\n",
      "1136\n",
      "./1027/saildrone-gen_5-west_coast_survey_2018-sd1027-20180825T220000-20180825T235959-1_minutes-v2.1535243415243.nc\n"
     ]
    },
    {
     "name": "stderr",
     "output_type": "stream",
     "text": [
      "/Users/senyastein/miniconda3/envs/satenv/lib/python3.7/site-packages/xarray/core/nanops.py:159: RuntimeWarning: Mean of empty slice\n",
      "  return np.nanmean(a, axis=axis, dtype=dtype)\n",
      "/Users/senyastein/miniconda3/envs/satenv/lib/python3.7/site-packages/xarray/core/nanops.py:159: RuntimeWarning: Mean of empty slice\n",
      "  return np.nanmean(a, axis=axis, dtype=dtype)\n",
      "/Users/senyastein/miniconda3/envs/satenv/lib/python3.7/site-packages/xarray/core/nanops.py:159: RuntimeWarning: Mean of empty slice\n",
      "  return np.nanmean(a, axis=axis, dtype=dtype)\n",
      "/Users/senyastein/miniconda3/envs/satenv/lib/python3.7/site-packages/xarray/core/nanops.py:159: RuntimeWarning: Mean of empty slice\n",
      "  return np.nanmean(a, axis=axis, dtype=dtype)\n"
     ]
    },
    {
     "name": "stdout",
     "output_type": "stream",
     "text": [
      "1137\n",
      "./1027/saildrone-gen_5-west_coast_survey_2018-sd1027-20180824T200000-20180824T215959-1_minutes-v2.1535149813863.nc\n",
      "1138\n",
      "./1027/saildrone-gen_5-west_coast_survey_2018-sd1027-20180902T060000-20180902T075959-1_minutes-v2.1535877015073.nc\n"
     ]
    },
    {
     "name": "stderr",
     "output_type": "stream",
     "text": [
      "/Users/senyastein/miniconda3/envs/satenv/lib/python3.7/site-packages/xarray/core/nanops.py:159: RuntimeWarning: Mean of empty slice\n",
      "  return np.nanmean(a, axis=axis, dtype=dtype)\n",
      "/Users/senyastein/miniconda3/envs/satenv/lib/python3.7/site-packages/xarray/core/nanops.py:159: RuntimeWarning: Mean of empty slice\n",
      "  return np.nanmean(a, axis=axis, dtype=dtype)\n",
      "/Users/senyastein/miniconda3/envs/satenv/lib/python3.7/site-packages/xarray/core/nanops.py:159: RuntimeWarning: Mean of empty slice\n",
      "  return np.nanmean(a, axis=axis, dtype=dtype)\n"
     ]
    },
    {
     "name": "stdout",
     "output_type": "stream",
     "text": [
      "1139\n",
      "./1027/saildrone-gen_5-west_coast_survey_2018-sd1027-20180925T100000-20180925T115959-1_minutes-v2.1537878615914.nc\n",
      "1140\n",
      "./1027/saildrone-gen_5-west_coast_survey_2018-sd1027-20180803T060000-20180803T115959-1_minutes-v2.1533301242725.nc\n",
      "1141\n",
      "./1027/saildrone-gen_5-west_coast_survey_2018-sd1027-20180706T000000-20180706T055959-1_minutes-v2.1533314954653.nc\n"
     ]
    },
    {
     "name": "stderr",
     "output_type": "stream",
     "text": [
      "/Users/senyastein/miniconda3/envs/satenv/lib/python3.7/site-packages/xarray/core/nanops.py:159: RuntimeWarning: Mean of empty slice\n",
      "  return np.nanmean(a, axis=axis, dtype=dtype)\n",
      "/Users/senyastein/miniconda3/envs/satenv/lib/python3.7/site-packages/xarray/core/nanops.py:159: RuntimeWarning: Mean of empty slice\n",
      "  return np.nanmean(a, axis=axis, dtype=dtype)\n",
      "/Users/senyastein/miniconda3/envs/satenv/lib/python3.7/site-packages/xarray/core/nanops.py:159: RuntimeWarning: Mean of empty slice\n",
      "  return np.nanmean(a, axis=axis, dtype=dtype)\n"
     ]
    },
    {
     "name": "stdout",
     "output_type": "stream",
     "text": [
      "1142\n",
      "./1027/saildrone-gen_5-west_coast_survey_2018-sd1027-20180830T060000-20180830T075959-1_minutes-v2.1535617814995.nc\n",
      "1143\n",
      "./1027/saildrone-gen_5-west_coast_survey_2018-sd1027-20180925T060000-20180925T075959-1_minutes-v2.1537864229171.nc\n",
      "1144\n",
      "./1027/saildrone-gen_5-west_coast_survey_2018-sd1027-20180905T180000-20180905T195959-1_minutes-v2.1536179415800.nc\n",
      "1145\n",
      "./1027/saildrone-gen_5-west_coast_survey_2018-sd1027-20180906T040000-20180906T055959-1_minutes-v2.1536215427405.nc\n"
     ]
    },
    {
     "name": "stderr",
     "output_type": "stream",
     "text": [
      "/Users/senyastein/miniconda3/envs/satenv/lib/python3.7/site-packages/xarray/core/nanops.py:159: RuntimeWarning: Mean of empty slice\n",
      "  return np.nanmean(a, axis=axis, dtype=dtype)\n",
      "/Users/senyastein/miniconda3/envs/satenv/lib/python3.7/site-packages/xarray/core/nanops.py:159: RuntimeWarning: Mean of empty slice\n",
      "  return np.nanmean(a, axis=axis, dtype=dtype)\n"
     ]
    },
    {
     "name": "stdout",
     "output_type": "stream",
     "text": [
      "1146\n",
      "./1027/saildrone-gen_5-west_coast_survey_2018-sd1027-20180904T000000-20180904T015959-1_minutes-v2.1536028228860.nc\n",
      "1147\n",
      "./1027/saildrone-gen_5-west_coast_survey_2018-sd1027-20180923T020000-20180923T035959-1_minutes-v2.1537677015117.nc\n"
     ]
    },
    {
     "name": "stderr",
     "output_type": "stream",
     "text": [
      "/Users/senyastein/miniconda3/envs/satenv/lib/python3.7/site-packages/xarray/core/nanops.py:159: RuntimeWarning: Mean of empty slice\n",
      "  return np.nanmean(a, axis=axis, dtype=dtype)\n",
      "/Users/senyastein/miniconda3/envs/satenv/lib/python3.7/site-packages/xarray/core/nanops.py:159: RuntimeWarning: Mean of empty slice\n",
      "  return np.nanmean(a, axis=axis, dtype=dtype)\n"
     ]
    },
    {
     "name": "stdout",
     "output_type": "stream",
     "text": [
      "1148\n",
      "./1027/saildrone-gen_5-west_coast_survey_2018-sd1027-20180703T000000-20180703T055959-1_minutes-v2.1533314184493.nc\n",
      "1149\n",
      "./1027/saildrone-gen_5-west_coast_survey_2018-sd1027-20180912T060000-20180912T075959-1_minutes-v2.1536741024633.nc\n"
     ]
    },
    {
     "name": "stderr",
     "output_type": "stream",
     "text": [
      "/Users/senyastein/miniconda3/envs/satenv/lib/python3.7/site-packages/xarray/core/nanops.py:159: RuntimeWarning: Mean of empty slice\n",
      "  return np.nanmean(a, axis=axis, dtype=dtype)\n",
      "/Users/senyastein/miniconda3/envs/satenv/lib/python3.7/site-packages/xarray/core/nanops.py:159: RuntimeWarning: Mean of empty slice\n",
      "  return np.nanmean(a, axis=axis, dtype=dtype)\n"
     ]
    },
    {
     "name": "stdout",
     "output_type": "stream",
     "text": [
      "1150\n",
      "./1027/saildrone-gen_5-west_coast_survey_2018-sd1027-20180924T000000-20180924T015959-1_minutes-v2.1537756214491.nc\n",
      "1151\n",
      "./1027/saildrone-gen_5-west_coast_survey_2018-sd1027-20180911T120000-20180911T135959-1_minutes-v2.1536676216886.nc\n"
     ]
    },
    {
     "name": "stderr",
     "output_type": "stream",
     "text": [
      "/Users/senyastein/miniconda3/envs/satenv/lib/python3.7/site-packages/xarray/core/nanops.py:159: RuntimeWarning: Mean of empty slice\n",
      "  return np.nanmean(a, axis=axis, dtype=dtype)\n",
      "/Users/senyastein/miniconda3/envs/satenv/lib/python3.7/site-packages/xarray/core/nanops.py:159: RuntimeWarning: Mean of empty slice\n",
      "  return np.nanmean(a, axis=axis, dtype=dtype)\n"
     ]
    },
    {
     "name": "stdout",
     "output_type": "stream",
     "text": [
      "1152\n",
      "./1027/saildrone-gen_5-west_coast_survey_2018-sd1027-20180902T040000-20180902T055959-1_minutes-v2.1535869826321.nc\n",
      "1153\n",
      "./1027/saildrone-gen_5-west_coast_survey_2018-sd1027-20180810T180000-20180810T235959-1_minutes-v2.1533949238976.nc\n"
     ]
    },
    {
     "name": "stderr",
     "output_type": "stream",
     "text": [
      "/Users/senyastein/miniconda3/envs/satenv/lib/python3.7/site-packages/xarray/core/nanops.py:159: RuntimeWarning: Mean of empty slice\n",
      "  return np.nanmean(a, axis=axis, dtype=dtype)\n",
      "/Users/senyastein/miniconda3/envs/satenv/lib/python3.7/site-packages/xarray/core/nanops.py:159: RuntimeWarning: Mean of empty slice\n",
      "  return np.nanmean(a, axis=axis, dtype=dtype)\n"
     ]
    },
    {
     "name": "stdout",
     "output_type": "stream",
     "text": [
      "1154\n",
      "./1027/saildrone-gen_5-west_coast_survey_2018-sd1027-20180924T080000-20180924T095959-1_minutes-v2.1537785014629.nc\n",
      "1155\n",
      "./1027/saildrone-gen_5-west_coast_survey_2018-sd1027-20180703T060000-20180703T115959-1_minutes-v2.1533314235230.nc\n",
      "1156\n"
     ]
    },
    {
     "name": "stderr",
     "output_type": "stream",
     "text": [
      "/Users/senyastein/miniconda3/envs/satenv/lib/python3.7/site-packages/xarray/core/nanops.py:159: RuntimeWarning: Mean of empty slice\n",
      "  return np.nanmean(a, axis=axis, dtype=dtype)\n",
      "/Users/senyastein/miniconda3/envs/satenv/lib/python3.7/site-packages/xarray/core/nanops.py:159: RuntimeWarning: Mean of empty slice\n",
      "  return np.nanmean(a, axis=axis, dtype=dtype)\n"
     ]
    },
    {
     "name": "stdout",
     "output_type": "stream",
     "text": [
      "./1027/saildrone-gen_5-west_coast_survey_2018-sd1027-20180918T160000-20180918T175959-1_minutes-v2.1537295414537.nc\n",
      "1157\n",
      "./1027/saildrone-gen_5-west_coast_survey_2018-sd1027-20180918T060000-20180918T075959-1_minutes-v2.1537259416449.nc\n",
      "1158\n",
      "./1027/saildrone-gen_5-west_coast_survey_2018-sd1027-20180826T160000-20180826T175959-1_minutes-v2.1535308215144.nc\n"
     ]
    },
    {
     "name": "stderr",
     "output_type": "stream",
     "text": [
      "/Users/senyastein/miniconda3/envs/satenv/lib/python3.7/site-packages/xarray/core/nanops.py:159: RuntimeWarning: Mean of empty slice\n",
      "  return np.nanmean(a, axis=axis, dtype=dtype)\n",
      "/Users/senyastein/miniconda3/envs/satenv/lib/python3.7/site-packages/xarray/core/nanops.py:159: RuntimeWarning: Mean of empty slice\n",
      "  return np.nanmean(a, axis=axis, dtype=dtype)\n",
      "/Users/senyastein/miniconda3/envs/satenv/lib/python3.7/site-packages/xarray/core/nanops.py:159: RuntimeWarning: Mean of empty slice\n",
      "  return np.nanmean(a, axis=axis, dtype=dtype)\n",
      "/Users/senyastein/miniconda3/envs/satenv/lib/python3.7/site-packages/xarray/core/nanops.py:159: RuntimeWarning: Mean of empty slice\n",
      "  return np.nanmean(a, axis=axis, dtype=dtype)\n"
     ]
    },
    {
     "name": "stdout",
     "output_type": "stream",
     "text": [
      "1159\n",
      "./1027/saildrone-gen_5-west_coast_survey_2018-sd1027-20180712T120000-20180712T175959-1_minutes-v2.1533316532785.nc\n",
      "1160\n",
      "./1027/saildrone-gen_5-west_coast_survey_2018-sd1027-20180902T160000-20180902T175959-1_minutes-v2.1535913028855.nc\n",
      "1161\n",
      "./1027/saildrone-gen_5-west_coast_survey_2018-sd1027-20180816T060000-20180816T115959-1_minutes-v2.1534424437276.nc\n"
     ]
    },
    {
     "name": "stderr",
     "output_type": "stream",
     "text": [
      "/Users/senyastein/miniconda3/envs/satenv/lib/python3.7/site-packages/xarray/core/nanops.py:159: RuntimeWarning: Mean of empty slice\n",
      "  return np.nanmean(a, axis=axis, dtype=dtype)\n",
      "/Users/senyastein/miniconda3/envs/satenv/lib/python3.7/site-packages/xarray/core/nanops.py:159: RuntimeWarning: Mean of empty slice\n",
      "  return np.nanmean(a, axis=axis, dtype=dtype)\n",
      "/Users/senyastein/miniconda3/envs/satenv/lib/python3.7/site-packages/xarray/core/nanops.py:159: RuntimeWarning: Mean of empty slice\n",
      "  return np.nanmean(a, axis=axis, dtype=dtype)\n"
     ]
    },
    {
     "name": "stdout",
     "output_type": "stream",
     "text": [
      "1162\n",
      "./1026/saildrone-gen_5-west_coast_survey_2018-sd1026-20180914T140000-20180914T155959-1_minutes-v2.1536942616555.nc\n",
      "1163\n",
      "./1026/saildrone-gen_5-west_coast_survey_2018-sd1026-20180920T120000-20180920T135959-1_minutes-v2.1537453815240.nc\n"
     ]
    },
    {
     "name": "stderr",
     "output_type": "stream",
     "text": [
      "/Users/senyastein/miniconda3/envs/satenv/lib/python3.7/site-packages/xarray/core/nanops.py:159: RuntimeWarning: Mean of empty slice\n",
      "  return np.nanmean(a, axis=axis, dtype=dtype)\n",
      "/Users/senyastein/miniconda3/envs/satenv/lib/python3.7/site-packages/xarray/core/nanops.py:159: RuntimeWarning: Mean of empty slice\n",
      "  return np.nanmean(a, axis=axis, dtype=dtype)\n",
      "/Users/senyastein/miniconda3/envs/satenv/lib/python3.7/site-packages/xarray/core/nanops.py:159: RuntimeWarning: Mean of empty slice\n",
      "  return np.nanmean(a, axis=axis, dtype=dtype)\n"
     ]
    },
    {
     "name": "stdout",
     "output_type": "stream",
     "text": [
      "1164\n",
      "./1026/saildrone-gen_5-west_coast_survey_2018-sd1026-20181004T220000-20181004T235959-1_minutes-v2.1538699423322.nc\n",
      "1165\n",
      "./1026/saildrone-gen_5-west_coast_survey_2018-sd1026-20180902T200000-20180902T215959-1_minutes-v2.1535927432134.nc\n",
      "1166\n",
      "./1026/saildrone-gen_5-west_coast_survey_2018-sd1026-20180817T060000-20180817T115959-1_minutes-v2.1534510835569.nc\n"
     ]
    },
    {
     "name": "stderr",
     "output_type": "stream",
     "text": [
      "/Users/senyastein/miniconda3/envs/satenv/lib/python3.7/site-packages/xarray/core/nanops.py:159: RuntimeWarning: Mean of empty slice\n",
      "  return np.nanmean(a, axis=axis, dtype=dtype)\n"
     ]
    },
    {
     "name": "stdout",
     "output_type": "stream",
     "text": [
      "1167\n",
      "./1026/saildrone-gen_5-west_coast_survey_2018-sd1026-20181001T160000-20181001T175959-1_minutes-v2.1538418612633.nc\n",
      "1168\n",
      "./1026/saildrone-gen_5-west_coast_survey_2018-sd1026-20180808T120000-20180808T175959-1_minutes-v2.1533754838863.nc\n"
     ]
    },
    {
     "name": "stderr",
     "output_type": "stream",
     "text": [
      "/Users/senyastein/miniconda3/envs/satenv/lib/python3.7/site-packages/xarray/core/nanops.py:159: RuntimeWarning: Mean of empty slice\n",
      "  return np.nanmean(a, axis=axis, dtype=dtype)\n",
      "/Users/senyastein/miniconda3/envs/satenv/lib/python3.7/site-packages/xarray/core/nanops.py:159: RuntimeWarning: Mean of empty slice\n",
      "  return np.nanmean(a, axis=axis, dtype=dtype)\n",
      "/Users/senyastein/miniconda3/envs/satenv/lib/python3.7/site-packages/xarray/core/nanops.py:159: RuntimeWarning: Mean of empty slice\n",
      "  return np.nanmean(a, axis=axis, dtype=dtype)\n"
     ]
    },
    {
     "name": "stdout",
     "output_type": "stream",
     "text": [
      "1169\n",
      "./1026/saildrone-gen_5-west_coast_survey_2018-sd1026-20180922T080000-20180922T095959-1_minutes-v2.1537612215218.nc\n",
      "1170\n",
      "./1026/saildrone-gen_5-west_coast_survey_2018-sd1026-20180912T040000-20180912T055959-1_minutes-v2.1536733815189.nc\n"
     ]
    },
    {
     "name": "stderr",
     "output_type": "stream",
     "text": [
      "/Users/senyastein/miniconda3/envs/satenv/lib/python3.7/site-packages/xarray/core/nanops.py:159: RuntimeWarning: Mean of empty slice\n",
      "  return np.nanmean(a, axis=axis, dtype=dtype)\n",
      "/Users/senyastein/miniconda3/envs/satenv/lib/python3.7/site-packages/xarray/core/nanops.py:159: RuntimeWarning: Mean of empty slice\n",
      "  return np.nanmean(a, axis=axis, dtype=dtype)\n"
     ]
    },
    {
     "name": "stdout",
     "output_type": "stream",
     "text": [
      "1171\n",
      "./1026/saildrone-gen_5-west_coast_survey_2018-sd1026-20180715T000000-20180715T055959-1_minutes-v2.1533315800346.nc\n",
      "1172\n",
      "./1026/saildrone-gen_5-west_coast_survey_2018-sd1026-20180720T120000-20180720T175959-1_minutes-v2.1533317023673.nc\n",
      "1173\n",
      "./1026/saildrone-gen_5-west_coast_survey_2018-sd1026-20180830T180000-20180830T195959-1_minutes-v2.1535661015565.nc\n"
     ]
    },
    {
     "name": "stderr",
     "output_type": "stream",
     "text": [
      "/Users/senyastein/miniconda3/envs/satenv/lib/python3.7/site-packages/xarray/core/nanops.py:159: RuntimeWarning: Mean of empty slice\n",
      "  return np.nanmean(a, axis=axis, dtype=dtype)\n",
      "/Users/senyastein/miniconda3/envs/satenv/lib/python3.7/site-packages/xarray/core/nanops.py:159: RuntimeWarning: Mean of empty slice\n",
      "  return np.nanmean(a, axis=axis, dtype=dtype)\n",
      "/Users/senyastein/miniconda3/envs/satenv/lib/python3.7/site-packages/xarray/core/nanops.py:159: RuntimeWarning: Mean of empty slice\n",
      "  return np.nanmean(a, axis=axis, dtype=dtype)\n"
     ]
    },
    {
     "name": "stdout",
     "output_type": "stream",
     "text": [
      "1174\n",
      "./1026/saildrone-gen_5-west_coast_survey_2018-sd1026-20181008T100000-20181008T115959-1_minutes-v2.1539001812682.nc\n",
      "1175\n",
      "./1026/saildrone-gen_5-west_coast_survey_2018-sd1026-20181013T120000-20181013T135959-1_minutes-v2.1539441010768.nc\n",
      "1176\n",
      "./1026/saildrone-gen_5-west_coast_survey_2018-sd1026-20180910T080000-20180910T095959-1_minutes-v2.1536575418583.nc\n"
     ]
    },
    {
     "name": "stderr",
     "output_type": "stream",
     "text": [
      "/Users/senyastein/miniconda3/envs/satenv/lib/python3.7/site-packages/xarray/core/nanops.py:159: RuntimeWarning: Mean of empty slice\n",
      "  return np.nanmean(a, axis=axis, dtype=dtype)\n",
      "/Users/senyastein/miniconda3/envs/satenv/lib/python3.7/site-packages/xarray/core/nanops.py:159: RuntimeWarning: Mean of empty slice\n",
      "  return np.nanmean(a, axis=axis, dtype=dtype)\n",
      "/Users/senyastein/miniconda3/envs/satenv/lib/python3.7/site-packages/xarray/core/nanops.py:159: RuntimeWarning: Mean of empty slice\n",
      "  return np.nanmean(a, axis=axis, dtype=dtype)\n"
     ]
    },
    {
     "name": "stdout",
     "output_type": "stream",
     "text": [
      "1177\n",
      "./1026/saildrone-gen_5-west_coast_survey_2018-sd1026-20180916T100000-20180916T115959-1_minutes-v2.1537101025915.nc\n",
      "1178\n",
      "./1026/saildrone-gen_5-west_coast_survey_2018-sd1026-20181022T200000-20181022T215959-1_minutes-v2.1540247412581.nc\n",
      "1179\n",
      "./1026/saildrone-gen_5-west_coast_survey_2018-sd1026-20180922T140000-20180922T155959-1_minutes-v2.1537633815390.nc\n"
     ]
    },
    {
     "name": "stderr",
     "output_type": "stream",
     "text": [
      "/Users/senyastein/miniconda3/envs/satenv/lib/python3.7/site-packages/xarray/core/nanops.py:159: RuntimeWarning: Mean of empty slice\n",
      "  return np.nanmean(a, axis=axis, dtype=dtype)\n",
      "/Users/senyastein/miniconda3/envs/satenv/lib/python3.7/site-packages/xarray/core/nanops.py:159: RuntimeWarning: Mean of empty slice\n",
      "  return np.nanmean(a, axis=axis, dtype=dtype)\n",
      "/Users/senyastein/miniconda3/envs/satenv/lib/python3.7/site-packages/xarray/core/nanops.py:159: RuntimeWarning: Mean of empty slice\n",
      "  return np.nanmean(a, axis=axis, dtype=dtype)\n"
     ]
    },
    {
     "name": "stdout",
     "output_type": "stream",
     "text": [
      "1180\n",
      "./1026/saildrone-gen_5-west_coast_survey_2018-sd1026-20180927T060000-20180927T075959-1_minutes-v2.1538037016500.nc\n",
      "1181\n",
      "./1026/saildrone-gen_5-west_coast_survey_2018-sd1026-20180907T080000-20180907T095959-1_minutes-v2.1536316215397.nc\n",
      "1182"
     ]
    },
    {
     "name": "stderr",
     "output_type": "stream",
     "text": [
      "/Users/senyastein/miniconda3/envs/satenv/lib/python3.7/site-packages/xarray/core/nanops.py:159: RuntimeWarning: Mean of empty slice\n",
      "  return np.nanmean(a, axis=axis, dtype=dtype)\n",
      "/Users/senyastein/miniconda3/envs/satenv/lib/python3.7/site-packages/xarray/core/nanops.py:159: RuntimeWarning: Mean of empty slice\n",
      "  return np.nanmean(a, axis=axis, dtype=dtype)\n",
      "/Users/senyastein/miniconda3/envs/satenv/lib/python3.7/site-packages/xarray/core/nanops.py:159: RuntimeWarning: Mean of empty slice\n",
      "  return np.nanmean(a, axis=axis, dtype=dtype)\n"
     ]
    },
    {
     "name": "stdout",
     "output_type": "stream",
     "text": [
      "\n",
      "./1026/saildrone-gen_5-west_coast_survey_2018-sd1026-20180920T040000-20180920T055959-1_minutes-v2.1537425014865.nc\n",
      "1183\n",
      "./1026/saildrone-gen_5-west_coast_survey_2018-sd1026-20180915T020000-20180915T035959-1_minutes-v2.1536985815559.nc\n",
      "1184\n",
      "./1026/saildrone-gen_5-west_coast_survey_2018-sd1026-20180712T000000-20180712T055959-1_minutes-v2.1533313675140.nc\n",
      "1185\n",
      "./1026/saildrone-gen_5-west_coast_survey_2018-sd1026-20181015T080000-20181015T095959-1_minutes-v2.1539599410329.nc\n",
      "1186\n",
      "./1026/saildrone-gen_5-west_coast_survey_2018-sd1026-20180901T200000-20180901T215959-1_minutes-v2.1535841017102.nc\n"
     ]
    },
    {
     "name": "stderr",
     "output_type": "stream",
     "text": [
      "/Users/senyastein/miniconda3/envs/satenv/lib/python3.7/site-packages/xarray/core/nanops.py:159: RuntimeWarning: Mean of empty slice\n",
      "  return np.nanmean(a, axis=axis, dtype=dtype)\n",
      "/Users/senyastein/miniconda3/envs/satenv/lib/python3.7/site-packages/xarray/core/nanops.py:159: RuntimeWarning: Mean of empty slice\n",
      "  return np.nanmean(a, axis=axis, dtype=dtype)\n",
      "/Users/senyastein/miniconda3/envs/satenv/lib/python3.7/site-packages/xarray/core/nanops.py:159: RuntimeWarning: Mean of empty slice\n",
      "  return np.nanmean(a, axis=axis, dtype=dtype)\n"
     ]
    },
    {
     "name": "stdout",
     "output_type": "stream",
     "text": [
      "1187\n",
      "./1026/saildrone-gen_5-west_coast_survey_2018-sd1026-20181025T040000-20181025T055959-1_minutes-v2.1540449041078.nc\n",
      "1188\n",
      "./1026/saildrone-gen_5-west_coast_survey_2018-sd1026-20181009T160000-20181009T175959-1_minutes-v2.1539109813402.nc\n"
     ]
    },
    {
     "name": "stderr",
     "output_type": "stream",
     "text": [
      "/Users/senyastein/miniconda3/envs/satenv/lib/python3.7/site-packages/xarray/core/nanops.py:159: RuntimeWarning: Mean of empty slice\n",
      "  return np.nanmean(a, axis=axis, dtype=dtype)\n",
      "/Users/senyastein/miniconda3/envs/satenv/lib/python3.7/site-packages/xarray/core/nanops.py:159: RuntimeWarning: Mean of empty slice\n",
      "  return np.nanmean(a, axis=axis, dtype=dtype)\n"
     ]
    },
    {
     "name": "stdout",
     "output_type": "stream",
     "text": [
      "1189\n",
      "./1026/saildrone-gen_5-west_coast_survey_2018-sd1026-20181020T060000-20181020T075959-1_minutes-v2.1540024212882.nc\n",
      "1190\n",
      "./1026/saildrone-gen_5-west_coast_survey_2018-sd1026-20180920T160000-20180920T175959-1_minutes-v2.1537468212355.nc\n"
     ]
    },
    {
     "name": "stderr",
     "output_type": "stream",
     "text": [
      "/Users/senyastein/miniconda3/envs/satenv/lib/python3.7/site-packages/xarray/core/nanops.py:159: RuntimeWarning: Mean of empty slice\n",
      "  return np.nanmean(a, axis=axis, dtype=dtype)\n",
      "/Users/senyastein/miniconda3/envs/satenv/lib/python3.7/site-packages/xarray/core/nanops.py:159: RuntimeWarning: Mean of empty slice\n",
      "  return np.nanmean(a, axis=axis, dtype=dtype)\n"
     ]
    },
    {
     "name": "stdout",
     "output_type": "stream",
     "text": [
      "1191\n",
      "./1026/saildrone-gen_5-west_coast_survey_2018-sd1026-20180824T000000-20180824T015959-1_minutes-v2.1535077815813.nc\n",
      "1192\n",
      "./1026/saildrone-gen_5-west_coast_survey_2018-sd1026-20180926T020000-20180926T035959-1_minutes-v2.1537936215272.nc\n",
      "1193\n"
     ]
    },
    {
     "name": "stderr",
     "output_type": "stream",
     "text": [
      "/Users/senyastein/miniconda3/envs/satenv/lib/python3.7/site-packages/xarray/core/nanops.py:159: RuntimeWarning: Mean of empty slice\n",
      "  return np.nanmean(a, axis=axis, dtype=dtype)\n",
      "/Users/senyastein/miniconda3/envs/satenv/lib/python3.7/site-packages/xarray/core/nanops.py:159: RuntimeWarning: Mean of empty slice\n",
      "  return np.nanmean(a, axis=axis, dtype=dtype)\n",
      "/Users/senyastein/miniconda3/envs/satenv/lib/python3.7/site-packages/xarray/core/nanops.py:159: RuntimeWarning: Mean of empty slice\n",
      "  return np.nanmean(a, axis=axis, dtype=dtype)\n"
     ]
    },
    {
     "name": "stdout",
     "output_type": "stream",
     "text": [
      "./1026/saildrone-gen_5-west_coast_survey_2018-sd1026-20181014T160000-20181014T175959-1_minutes-v2.1539541812004.nc\n",
      "1194\n",
      "./1026/saildrone-gen_5-west_coast_survey_2018-sd1026-20180914T220000-20180914T235959-1_minutes-v2.1536971426319.nc\n"
     ]
    },
    {
     "name": "stderr",
     "output_type": "stream",
     "text": [
      "/Users/senyastein/miniconda3/envs/satenv/lib/python3.7/site-packages/xarray/core/nanops.py:159: RuntimeWarning: Mean of empty slice\n",
      "  return np.nanmean(a, axis=axis, dtype=dtype)\n",
      "/Users/senyastein/miniconda3/envs/satenv/lib/python3.7/site-packages/xarray/core/nanops.py:159: RuntimeWarning: Mean of empty slice\n",
      "  return np.nanmean(a, axis=axis, dtype=dtype)\n"
     ]
    },
    {
     "name": "stdout",
     "output_type": "stream",
     "text": [
      "1195\n",
      "./1026/saildrone-gen_5-west_coast_survey_2018-sd1026-20181001T100000-20181001T115959-1_minutes-v2.1538397023710.nc\n",
      "1196\n",
      "./1026/saildrone-gen_5-west_coast_survey_2018-sd1026-20181026T140000-20181026T155959-1_minutes-v2.1540571411714.nc\n"
     ]
    },
    {
     "name": "stderr",
     "output_type": "stream",
     "text": [
      "/Users/senyastein/miniconda3/envs/satenv/lib/python3.7/site-packages/xarray/core/nanops.py:159: RuntimeWarning: Mean of empty slice\n",
      "  return np.nanmean(a, axis=axis, dtype=dtype)\n",
      "/Users/senyastein/miniconda3/envs/satenv/lib/python3.7/site-packages/xarray/core/nanops.py:159: RuntimeWarning: Mean of empty slice\n",
      "  return np.nanmean(a, axis=axis, dtype=dtype)\n"
     ]
    },
    {
     "name": "stdout",
     "output_type": "stream",
     "text": [
      "1197\n",
      "./1026/saildrone-gen_5-west_coast_survey_2018-sd1026-20180911T120000-20180911T135959-1_minutes-v2.1536676216413.nc\n",
      "1198\n",
      "./1026/saildrone-gen_5-west_coast_survey_2018-sd1026-20180723T000000-20180723T055959-1_minutes-v2.1533317548203.nc\n"
     ]
    },
    {
     "name": "stderr",
     "output_type": "stream",
     "text": [
      "/Users/senyastein/miniconda3/envs/satenv/lib/python3.7/site-packages/xarray/core/nanops.py:159: RuntimeWarning: Mean of empty slice\n",
      "  return np.nanmean(a, axis=axis, dtype=dtype)\n",
      "/Users/senyastein/miniconda3/envs/satenv/lib/python3.7/site-packages/xarray/core/nanops.py:159: RuntimeWarning: Mean of empty slice\n",
      "  return np.nanmean(a, axis=axis, dtype=dtype)\n"
     ]
    },
    {
     "name": "stdout",
     "output_type": "stream",
     "text": [
      "1199\n",
      "./1026/saildrone-gen_5-west_coast_survey_2018-sd1026-20180825T100000-20180825T115959-1_minutes-v2.1535200215806.nc\n",
      "1200\n",
      "./1026/saildrone-gen_5-west_coast_survey_2018-sd1026-20180823T040000-20180823T055959-1_minutes-v2.1535005816274.nc\n"
     ]
    },
    {
     "name": "stderr",
     "output_type": "stream",
     "text": [
      "/Users/senyastein/miniconda3/envs/satenv/lib/python3.7/site-packages/xarray/core/nanops.py:159: RuntimeWarning: Mean of empty slice\n",
      "  return np.nanmean(a, axis=axis, dtype=dtype)\n",
      "/Users/senyastein/miniconda3/envs/satenv/lib/python3.7/site-packages/xarray/core/nanops.py:159: RuntimeWarning: Mean of empty slice\n",
      "  return np.nanmean(a, axis=axis, dtype=dtype)\n"
     ]
    },
    {
     "name": "stdout",
     "output_type": "stream",
     "text": [
      "1201\n",
      "./1026/saildrone-gen_5-west_coast_survey_2018-sd1026-20181013T060000-20181013T075959-1_minutes-v2.1539419410259.nc\n",
      "1202\n",
      "./1026/saildrone-gen_5-west_coast_survey_2018-sd1026-20181020T020000-20181020T035959-1_minutes-v2.1540009824606.nc\n"
     ]
    },
    {
     "name": "stderr",
     "output_type": "stream",
     "text": [
      "/Users/senyastein/miniconda3/envs/satenv/lib/python3.7/site-packages/xarray/core/nanops.py:159: RuntimeWarning: Mean of empty slice\n",
      "  return np.nanmean(a, axis=axis, dtype=dtype)\n",
      "/Users/senyastein/miniconda3/envs/satenv/lib/python3.7/site-packages/xarray/core/nanops.py:159: RuntimeWarning: Mean of empty slice\n",
      "  return np.nanmean(a, axis=axis, dtype=dtype)\n",
      "/Users/senyastein/miniconda3/envs/satenv/lib/python3.7/site-packages/xarray/core/nanops.py:159: RuntimeWarning: Mean of empty slice\n",
      "  return np.nanmean(a, axis=axis, dtype=dtype)\n"
     ]
    },
    {
     "name": "stdout",
     "output_type": "stream",
     "text": [
      "1203\n",
      "./1026/saildrone-gen_5-west_coast_survey_2018-sd1026-20180916T120000-20180916T135959-1_minutes-v2.1537108214491.nc\n",
      "1204\n",
      "./1026/saildrone-gen_5-west_coast_survey_2018-sd1026-20180916T220000-20180916T235959-1_minutes-v2.1537144215535.nc\n",
      "1205\n",
      "./1026/saildrone-gen_5-west_coast_survey_2018-sd1026-20180929T220000-20180929T235959-1_minutes-v2.1538267413245.nc\n"
     ]
    },
    {
     "name": "stderr",
     "output_type": "stream",
     "text": [
      "/Users/senyastein/miniconda3/envs/satenv/lib/python3.7/site-packages/xarray/core/nanops.py:159: RuntimeWarning: Mean of empty slice\n",
      "  return np.nanmean(a, axis=axis, dtype=dtype)\n",
      "/Users/senyastein/miniconda3/envs/satenv/lib/python3.7/site-packages/xarray/core/nanops.py:159: RuntimeWarning: Mean of empty slice\n",
      "  return np.nanmean(a, axis=axis, dtype=dtype)\n"
     ]
    },
    {
     "name": "stdout",
     "output_type": "stream",
     "text": [
      "1206\n",
      "./1026/saildrone-gen_5-west_coast_survey_2018-sd1026-20181003T180000-20181003T195959-1_minutes-v2.1538598612793.nc\n",
      "1207\n",
      "./1026/saildrone-gen_5-west_coast_survey_2018-sd1026-20181007T000000-20181007T015959-1_minutes-v2.1538879412124.nc\n",
      "1208"
     ]
    },
    {
     "name": "stderr",
     "output_type": "stream",
     "text": [
      "/Users/senyastein/miniconda3/envs/satenv/lib/python3.7/site-packages/xarray/core/nanops.py:159: RuntimeWarning: Mean of empty slice\n",
      "  return np.nanmean(a, axis=axis, dtype=dtype)\n",
      "/Users/senyastein/miniconda3/envs/satenv/lib/python3.7/site-packages/xarray/core/nanops.py:159: RuntimeWarning: Mean of empty slice\n",
      "  return np.nanmean(a, axis=axis, dtype=dtype)\n"
     ]
    },
    {
     "name": "stdout",
     "output_type": "stream",
     "text": [
      "\n",
      "./1026/saildrone-gen_5-west_coast_survey_2018-sd1026-20180903T100000-20180903T115959-1_minutes-v2.1535977814799.nc\n",
      "1209\n",
      "./1026/saildrone-gen_5-west_coast_survey_2018-sd1026-20181015T180000-20181015T195959-1_minutes-v2.1539635410332.nc\n"
     ]
    },
    {
     "name": "stderr",
     "output_type": "stream",
     "text": [
      "/Users/senyastein/miniconda3/envs/satenv/lib/python3.7/site-packages/xarray/core/nanops.py:159: RuntimeWarning: Mean of empty slice\n",
      "  return np.nanmean(a, axis=axis, dtype=dtype)\n",
      "/Users/senyastein/miniconda3/envs/satenv/lib/python3.7/site-packages/xarray/core/nanops.py:159: RuntimeWarning: Mean of empty slice\n",
      "  return np.nanmean(a, axis=axis, dtype=dtype)\n"
     ]
    },
    {
     "name": "stdout",
     "output_type": "stream",
     "text": [
      "1210\n",
      "./1026/saildrone-gen_5-west_coast_survey_2018-sd1026-20180915T120000-20180915T135959-1_minutes-v2.1537021815356.nc\n",
      "1211\n",
      "./1026/saildrone-gen_5-west_coast_survey_2018-sd1026-20180829T140000-20180829T155959-1_minutes-v2.1535560216418.nc\n"
     ]
    },
    {
     "name": "stderr",
     "output_type": "stream",
     "text": [
      "/Users/senyastein/miniconda3/envs/satenv/lib/python3.7/site-packages/xarray/core/nanops.py:159: RuntimeWarning: Mean of empty slice\n",
      "  return np.nanmean(a, axis=axis, dtype=dtype)\n",
      "/Users/senyastein/miniconda3/envs/satenv/lib/python3.7/site-packages/xarray/core/nanops.py:159: RuntimeWarning: Mean of empty slice\n",
      "  return np.nanmean(a, axis=axis, dtype=dtype)\n"
     ]
    },
    {
     "name": "stdout",
     "output_type": "stream",
     "text": [
      "1212\n",
      "./1026/saildrone-gen_5-west_coast_survey_2018-sd1026-20180807T000000-20180807T055959-1_minutes-v2.1533625267874.nc\n",
      "1213\n",
      "./1026/saildrone-gen_5-west_coast_survey_2018-sd1026-20181002T080000-20181002T095959-1_minutes-v2.1538476214393.nc\n",
      "1214\n",
      "./1026/saildrone-gen_5-west_coast_survey_2018-sd1026-20180807T180000-20180807T235959-1_minutes-v2.1533690036490.nc\n"
     ]
    },
    {
     "name": "stderr",
     "output_type": "stream",
     "text": [
      "/Users/senyastein/miniconda3/envs/satenv/lib/python3.7/site-packages/xarray/core/nanops.py:159: RuntimeWarning: Mean of empty slice\n",
      "  return np.nanmean(a, axis=axis, dtype=dtype)\n",
      "/Users/senyastein/miniconda3/envs/satenv/lib/python3.7/site-packages/xarray/core/nanops.py:159: RuntimeWarning: Mean of empty slice\n",
      "  return np.nanmean(a, axis=axis, dtype=dtype)\n",
      "/Users/senyastein/miniconda3/envs/satenv/lib/python3.7/site-packages/xarray/core/nanops.py:159: RuntimeWarning: Mean of empty slice\n",
      "  return np.nanmean(a, axis=axis, dtype=dtype)\n"
     ]
    },
    {
     "name": "stdout",
     "output_type": "stream",
     "text": [
      "1215\n",
      "./1026/saildrone-gen_5-west_coast_survey_2018-sd1026-20180905T060000-20180905T075959-1_minutes-v2.1536136216013.nc\n",
      "1216\n",
      "./1026/saildrone-gen_5-west_coast_survey_2018-sd1026-20180825T160000-20180825T175959-1_minutes-v2.1535221814715.nc\n"
     ]
    },
    {
     "name": "stderr",
     "output_type": "stream",
     "text": [
      "/Users/senyastein/miniconda3/envs/satenv/lib/python3.7/site-packages/xarray/core/nanops.py:159: RuntimeWarning: Mean of empty slice\n",
      "  return np.nanmean(a, axis=axis, dtype=dtype)\n",
      "/Users/senyastein/miniconda3/envs/satenv/lib/python3.7/site-packages/xarray/core/nanops.py:159: RuntimeWarning: Mean of empty slice\n",
      "  return np.nanmean(a, axis=axis, dtype=dtype)\n",
      "/Users/senyastein/miniconda3/envs/satenv/lib/python3.7/site-packages/xarray/core/nanops.py:159: RuntimeWarning: Mean of empty slice\n",
      "  return np.nanmean(a, axis=axis, dtype=dtype)\n"
     ]
    },
    {
     "name": "stdout",
     "output_type": "stream",
     "text": [
      "1217\n",
      "./1026/saildrone-gen_5-west_coast_survey_2018-sd1026-20180709T120000-20180709T175959-1_minutes-v2.1533313158074.nc\n",
      "1218\n",
      "./1026/saildrone-gen_5-west_coast_survey_2018-sd1026-20180927T140000-20180927T155959-1_minutes-v2.1538065827698.nc\n",
      "1219\n",
      "./1026/saildrone-gen_5-west_coast_survey_2018-sd1026-20180904T120000-20180904T135959-1_minutes-v2.1536071416420.nc\n"
     ]
    },
    {
     "name": "stderr",
     "output_type": "stream",
     "text": [
      "/Users/senyastein/miniconda3/envs/satenv/lib/python3.7/site-packages/xarray/core/nanops.py:159: RuntimeWarning: Mean of empty slice\n",
      "  return np.nanmean(a, axis=axis, dtype=dtype)\n",
      "/Users/senyastein/miniconda3/envs/satenv/lib/python3.7/site-packages/xarray/core/nanops.py:159: RuntimeWarning: Mean of empty slice\n",
      "  return np.nanmean(a, axis=axis, dtype=dtype)\n",
      "/Users/senyastein/miniconda3/envs/satenv/lib/python3.7/site-packages/xarray/core/nanops.py:159: RuntimeWarning: Mean of empty slice\n",
      "  return np.nanmean(a, axis=axis, dtype=dtype)\n"
     ]
    },
    {
     "name": "stdout",
     "output_type": "stream",
     "text": [
      "1220\n",
      "./1026/saildrone-gen_5-west_coast_survey_2018-sd1026-20181021T040000-20181021T055959-1_minutes-v2.1540103411952.nc\n",
      "1221\n",
      "./1026/saildrone-gen_5-west_coast_survey_2018-sd1026-20180818T180000-20180818T235959-1_minutes-v2.1534640435107.nc\n",
      "1222\n",
      "./1026/saildrone-gen_5-west_coast_survey_2018-sd1026-20180824T200000-20180824T215959-1_minutes-v2.1535149814481.nc\n",
      "1223\n",
      "./1026/saildrone-gen_5-west_coast_survey_2018-sd1026-20181005T160000-20181005T175959-1_minutes-v2.1538764224123.nc\n",
      "1224\n",
      "./1026/saildrone-gen_5-west_coast_survey_2018-sd1026-20181014T220000-20181014T235959-1_minutes-v2.1539563409897.nc\n"
     ]
    },
    {
     "name": "stderr",
     "output_type": "stream",
     "text": [
      "/Users/senyastein/miniconda3/envs/satenv/lib/python3.7/site-packages/xarray/core/nanops.py:159: RuntimeWarning: Mean of empty slice\n",
      "  return np.nanmean(a, axis=axis, dtype=dtype)\n",
      "/Users/senyastein/miniconda3/envs/satenv/lib/python3.7/site-packages/xarray/core/nanops.py:159: RuntimeWarning: Mean of empty slice\n",
      "  return np.nanmean(a, axis=axis, dtype=dtype)\n",
      "/Users/senyastein/miniconda3/envs/satenv/lib/python3.7/site-packages/xarray/core/nanops.py:159: RuntimeWarning: Mean of empty slice\n",
      "  return np.nanmean(a, axis=axis, dtype=dtype)\n"
     ]
    },
    {
     "name": "stdout",
     "output_type": "stream",
     "text": [
      "1225\n",
      "./1026/saildrone-gen_5-west_coast_survey_2018-sd1026-20181021T120000-20181021T135959-1_minutes-v2.1540132212004.nc\n",
      "1226\n",
      "./1026/saildrone-gen_5-west_coast_survey_2018-sd1026-20180928T200000-20180928T215959-1_minutes-v2.1538173812954.nc\n"
     ]
    },
    {
     "name": "stderr",
     "output_type": "stream",
     "text": [
      "/Users/senyastein/miniconda3/envs/satenv/lib/python3.7/site-packages/xarray/core/nanops.py:159: RuntimeWarning: Mean of empty slice\n",
      "  return np.nanmean(a, axis=axis, dtype=dtype)\n",
      "/Users/senyastein/miniconda3/envs/satenv/lib/python3.7/site-packages/xarray/core/nanops.py:159: RuntimeWarning: Mean of empty slice\n",
      "  return np.nanmean(a, axis=axis, dtype=dtype)\n"
     ]
    },
    {
     "name": "stdout",
     "output_type": "stream",
     "text": [
      "1227\n",
      "./1026/saildrone-gen_5-west_coast_survey_2018-sd1026-20180802T120000-20180802T175959-1_minutes-v2.1533332983898.nc\n",
      "1228\n",
      "./1026/saildrone-gen_5-west_coast_survey_2018-sd1026-20181005T100000-20181005T115959-1_minutes-v2.1538742615927.nc\n",
      "1229\n",
      "./1026/saildrone-gen_5-west_coast_survey_2018-sd1026-20181001T140000-20181001T155959-1_minutes-v2.1538411413794.nc\n"
     ]
    },
    {
     "name": "stderr",
     "output_type": "stream",
     "text": [
      "/Users/senyastein/miniconda3/envs/satenv/lib/python3.7/site-packages/xarray/core/nanops.py:159: RuntimeWarning: Mean of empty slice\n",
      "  return np.nanmean(a, axis=axis, dtype=dtype)\n",
      "/Users/senyastein/miniconda3/envs/satenv/lib/python3.7/site-packages/xarray/core/nanops.py:159: RuntimeWarning: Mean of empty slice\n",
      "  return np.nanmean(a, axis=axis, dtype=dtype)\n",
      "/Users/senyastein/miniconda3/envs/satenv/lib/python3.7/site-packages/xarray/core/nanops.py:159: RuntimeWarning: Mean of empty slice\n",
      "  return np.nanmean(a, axis=axis, dtype=dtype)\n"
     ]
    },
    {
     "name": "stdout",
     "output_type": "stream",
     "text": [
      "1230\n",
      "./1026/saildrone-gen_5-west_coast_survey_2018-sd1026-20180813T000000-20180813T055959-1_minutes-v2.1534143638352.nc\n",
      "1231\n",
      "./1026/saildrone-gen_5-west_coast_survey_2018-sd1026-20180930T020000-20180930T035959-1_minutes-v2.1538281813374.nc\n",
      "1232"
     ]
    },
    {
     "name": "stderr",
     "output_type": "stream",
     "text": [
      "/Users/senyastein/miniconda3/envs/satenv/lib/python3.7/site-packages/xarray/core/nanops.py:159: RuntimeWarning: Mean of empty slice\n",
      "  return np.nanmean(a, axis=axis, dtype=dtype)\n",
      "/Users/senyastein/miniconda3/envs/satenv/lib/python3.7/site-packages/xarray/core/nanops.py:159: RuntimeWarning: Mean of empty slice\n",
      "  return np.nanmean(a, axis=axis, dtype=dtype)\n"
     ]
    },
    {
     "name": "stdout",
     "output_type": "stream",
     "text": [
      "\n",
      "./1026/saildrone-gen_5-west_coast_survey_2018-sd1026-20180906T100000-20180906T115959-1_minutes-v2.1536237016868.nc\n",
      "1233\n",
      "./1026/saildrone-gen_5-west_coast_survey_2018-sd1026-20180831T140000-20180831T155959-1_minutes-v2.1535733014262.nc\n",
      "1234\n",
      "./1026/saildrone-gen_5-west_coast_survey_2018-sd1026-20181009T020000-20181009T035959-1_minutes-v2.1539059410769.nc\n"
     ]
    },
    {
     "name": "stderr",
     "output_type": "stream",
     "text": [
      "/Users/senyastein/miniconda3/envs/satenv/lib/python3.7/site-packages/xarray/core/nanops.py:159: RuntimeWarning: Mean of empty slice\n",
      "  return np.nanmean(a, axis=axis, dtype=dtype)\n",
      "/Users/senyastein/miniconda3/envs/satenv/lib/python3.7/site-packages/xarray/core/nanops.py:159: RuntimeWarning: Mean of empty slice\n",
      "  return np.nanmean(a, axis=axis, dtype=dtype)\n",
      "/Users/senyastein/miniconda3/envs/satenv/lib/python3.7/site-packages/xarray/core/nanops.py:159: RuntimeWarning: Mean of empty slice\n",
      "  return np.nanmean(a, axis=axis, dtype=dtype)\n"
     ]
    },
    {
     "name": "stdout",
     "output_type": "stream",
     "text": [
      "1235\n",
      "./1026/saildrone-gen_5-west_coast_survey_2018-sd1026-20180818T060000-20180818T115959-1_minutes-v2.1534597235006.nc\n",
      "1236\n",
      "./1026/saildrone-gen_5-west_coast_survey_2018-sd1026-20180925T140000-20180925T155959-1_minutes-v2.1537893026554.nc\n"
     ]
    },
    {
     "name": "stderr",
     "output_type": "stream",
     "text": [
      "/Users/senyastein/miniconda3/envs/satenv/lib/python3.7/site-packages/xarray/core/nanops.py:159: RuntimeWarning: Mean of empty slice\n",
      "  return np.nanmean(a, axis=axis, dtype=dtype)\n",
      "/Users/senyastein/miniconda3/envs/satenv/lib/python3.7/site-packages/xarray/core/nanops.py:159: RuntimeWarning: Mean of empty slice\n",
      "  return np.nanmean(a, axis=axis, dtype=dtype)\n"
     ]
    },
    {
     "name": "stdout",
     "output_type": "stream",
     "text": [
      "1237\n",
      "./1026/saildrone-gen_5-west_coast_survey_2018-sd1026-20181020T080000-20181020T095959-1_minutes-v2.1540031412002.nc\n",
      "1238\n",
      "./1026/saildrone-gen_5-west_coast_survey_2018-sd1026-20180916T040000-20180916T055959-1_minutes-v2.1537079415032.nc\n",
      "1239\n",
      "./1026/saildrone-gen_5-west_coast_survey_2018-sd1026-20180818T120000-20180818T175959-1_minutes-v2.1534618836411.nc\n"
     ]
    },
    {
     "name": "stderr",
     "output_type": "stream",
     "text": [
      "/Users/senyastein/miniconda3/envs/satenv/lib/python3.7/site-packages/xarray/core/nanops.py:159: RuntimeWarning: Mean of empty slice\n",
      "  return np.nanmean(a, axis=axis, dtype=dtype)\n",
      "/Users/senyastein/miniconda3/envs/satenv/lib/python3.7/site-packages/xarray/core/nanops.py:159: RuntimeWarning: Mean of empty slice\n",
      "  return np.nanmean(a, axis=axis, dtype=dtype)\n",
      "/Users/senyastein/miniconda3/envs/satenv/lib/python3.7/site-packages/xarray/core/nanops.py:159: RuntimeWarning: Mean of empty slice\n",
      "  return np.nanmean(a, axis=axis, dtype=dtype)\n"
     ]
    },
    {
     "name": "stdout",
     "output_type": "stream",
     "text": [
      "1240\n",
      "./1026/saildrone-gen_5-west_coast_survey_2018-sd1026-20181006T000000-20181006T015959-1_minutes-v2.1538793014727.nc\n",
      "1241\n",
      "./1026/saildrone-gen_5-west_coast_survey_2018-sd1026-20180918T120000-20180918T135959-1_minutes-v2.1537281015175.nc\n",
      "1242\n",
      "./1026/saildrone-gen_5-west_coast_survey_2018-sd1026-20181010T180000-20181010T195959-1_minutes-v2.1539203411079.nc\n"
     ]
    },
    {
     "name": "stderr",
     "output_type": "stream",
     "text": [
      "/Users/senyastein/miniconda3/envs/satenv/lib/python3.7/site-packages/xarray/core/nanops.py:159: RuntimeWarning: Mean of empty slice\n",
      "  return np.nanmean(a, axis=axis, dtype=dtype)\n",
      "/Users/senyastein/miniconda3/envs/satenv/lib/python3.7/site-packages/xarray/core/nanops.py:159: RuntimeWarning: Mean of empty slice\n",
      "  return np.nanmean(a, axis=axis, dtype=dtype)\n",
      "/Users/senyastein/miniconda3/envs/satenv/lib/python3.7/site-packages/xarray/core/nanops.py:159: RuntimeWarning: Mean of empty slice\n",
      "  return np.nanmean(a, axis=axis, dtype=dtype)\n"
     ]
    },
    {
     "name": "stdout",
     "output_type": "stream",
     "text": [
      "1243\n",
      "./1026/saildrone-gen_5-west_coast_survey_2018-sd1026-20180905T160000-20180905T175959-1_minutes-v2.1536172227705.nc\n",
      "1244\n",
      "./1026/saildrone-gen_5-west_coast_survey_2018-sd1026-20180923T020000-20180923T035959-1_minutes-v2.1537677014876.nc\n",
      "1245\n",
      "./1026/saildrone-gen_5-west_coast_survey_2018-sd1026-20180828T140000-20180828T155959-1_minutes-v2.1535473815156.nc\n"
     ]
    },
    {
     "name": "stderr",
     "output_type": "stream",
     "text": [
      "/Users/senyastein/miniconda3/envs/satenv/lib/python3.7/site-packages/xarray/core/nanops.py:159: RuntimeWarning: Mean of empty slice\n",
      "  return np.nanmean(a, axis=axis, dtype=dtype)\n",
      "/Users/senyastein/miniconda3/envs/satenv/lib/python3.7/site-packages/xarray/core/nanops.py:159: RuntimeWarning: Mean of empty slice\n",
      "  return np.nanmean(a, axis=axis, dtype=dtype)\n",
      "/Users/senyastein/miniconda3/envs/satenv/lib/python3.7/site-packages/xarray/core/nanops.py:159: RuntimeWarning: Mean of empty slice\n",
      "  return np.nanmean(a, axis=axis, dtype=dtype)\n"
     ]
    },
    {
     "name": "stdout",
     "output_type": "stream",
     "text": [
      "1246\n",
      "./1026/saildrone-gen_5-west_coast_survey_2018-sd1026-20180827T160000-20180827T175959-1_minutes-v2.1535394614512.nc\n",
      "1247\n",
      "./1026/saildrone-gen_5-west_coast_survey_2018-sd1026-20180913T160000-20180913T175959-1_minutes-v2.1536863437450.nc\n"
     ]
    },
    {
     "name": "stderr",
     "output_type": "stream",
     "text": [
      "/Users/senyastein/miniconda3/envs/satenv/lib/python3.7/site-packages/xarray/core/nanops.py:159: RuntimeWarning: Mean of empty slice\n",
      "  return np.nanmean(a, axis=axis, dtype=dtype)\n",
      "/Users/senyastein/miniconda3/envs/satenv/lib/python3.7/site-packages/xarray/core/nanops.py:159: RuntimeWarning: Mean of empty slice\n",
      "  return np.nanmean(a, axis=axis, dtype=dtype)\n"
     ]
    },
    {
     "name": "stdout",
     "output_type": "stream",
     "text": [
      "1248\n",
      "./1026/saildrone-gen_5-west_coast_survey_2018-sd1026-20180930T160000-20180930T175959-1_minutes-v2.1538332212437.nc\n",
      "1249\n",
      "./1026/saildrone-gen_5-west_coast_survey_2018-sd1026-20180904T080000-20180904T095959-1_minutes-v2.1536057028906.nc\n",
      "1250\n",
      "./1026/saildrone-gen_5-west_coast_survey_2018-sd1026-20180803T120000-20180803T175959-1_minutes-v2.1533322874990.nc\n"
     ]
    },
    {
     "name": "stderr",
     "output_type": "stream",
     "text": [
      "/Users/senyastein/miniconda3/envs/satenv/lib/python3.7/site-packages/xarray/core/nanops.py:159: RuntimeWarning: Mean of empty slice\n",
      "  return np.nanmean(a, axis=axis, dtype=dtype)\n",
      "/Users/senyastein/miniconda3/envs/satenv/lib/python3.7/site-packages/xarray/core/nanops.py:159: RuntimeWarning: Mean of empty slice\n",
      "  return np.nanmean(a, axis=axis, dtype=dtype)\n",
      "/Users/senyastein/miniconda3/envs/satenv/lib/python3.7/site-packages/xarray/core/nanops.py:159: RuntimeWarning: Mean of empty slice\n",
      "  return np.nanmean(a, axis=axis, dtype=dtype)\n"
     ]
    },
    {
     "name": "stdout",
     "output_type": "stream",
     "text": [
      "1251\n",
      "./1026/saildrone-gen_5-west_coast_survey_2018-sd1026-20180902T100000-20180902T115959-1_minutes-v2.1535891415617.nc\n",
      "1252\n",
      "./1026/saildrone-gen_5-west_coast_survey_2018-sd1026-20181015T100000-20181015T115959-1_minutes-v2.1539606609915.nc\n"
     ]
    },
    {
     "name": "stderr",
     "output_type": "stream",
     "text": [
      "/Users/senyastein/miniconda3/envs/satenv/lib/python3.7/site-packages/xarray/core/nanops.py:159: RuntimeWarning: Mean of empty slice\n",
      "  return np.nanmean(a, axis=axis, dtype=dtype)\n",
      "/Users/senyastein/miniconda3/envs/satenv/lib/python3.7/site-packages/xarray/core/nanops.py:159: RuntimeWarning: Mean of empty slice\n",
      "  return np.nanmean(a, axis=axis, dtype=dtype)\n"
     ]
    },
    {
     "name": "stdout",
     "output_type": "stream",
     "text": [
      "1253\n",
      "./1026/saildrone-gen_5-west_coast_survey_2018-sd1026-20180827T060000-20180827T075959-1_minutes-v2.1535358628729.nc\n",
      "1254\n",
      "./1026/saildrone-gen_5-west_coast_survey_2018-sd1026-20180907T160000-20180907T175959-1_minutes-v2.1536345015131.nc\n"
     ]
    },
    {
     "name": "stderr",
     "output_type": "stream",
     "text": [
      "/Users/senyastein/miniconda3/envs/satenv/lib/python3.7/site-packages/xarray/core/nanops.py:159: RuntimeWarning: Mean of empty slice\n",
      "  return np.nanmean(a, axis=axis, dtype=dtype)\n",
      "/Users/senyastein/miniconda3/envs/satenv/lib/python3.7/site-packages/xarray/core/nanops.py:159: RuntimeWarning: Mean of empty slice\n",
      "  return np.nanmean(a, axis=axis, dtype=dtype)\n"
     ]
    },
    {
     "name": "stdout",
     "output_type": "stream",
     "text": [
      "1255\n",
      "./1026/saildrone-gen_5-west_coast_survey_2018-sd1026-20181008T160000-20181008T175959-1_minutes-v2.1539023409702.nc\n",
      "1256\n",
      "./1026/saildrone-gen_5-west_coast_survey_2018-sd1026-20180925T060000-20180925T075959-1_minutes-v2.1537864226680.nc\n"
     ]
    },
    {
     "name": "stderr",
     "output_type": "stream",
     "text": [
      "/Users/senyastein/miniconda3/envs/satenv/lib/python3.7/site-packages/xarray/core/nanops.py:159: RuntimeWarning: Mean of empty slice\n",
      "  return np.nanmean(a, axis=axis, dtype=dtype)\n",
      "/Users/senyastein/miniconda3/envs/satenv/lib/python3.7/site-packages/xarray/core/nanops.py:159: RuntimeWarning: Mean of empty slice\n",
      "  return np.nanmean(a, axis=axis, dtype=dtype)\n"
     ]
    },
    {
     "name": "stdout",
     "output_type": "stream",
     "text": [
      "1257\n",
      "./1026/saildrone-gen_5-west_coast_survey_2018-sd1026-20181010T220000-20181010T235959-1_minutes-v2.1539217812300.nc\n",
      "1258\n",
      "./1026/saildrone-gen_5-west_coast_survey_2018-sd1026-20180901T160000-20180901T175959-1_minutes-v2.1535826626700.nc\n",
      "1259"
     ]
    },
    {
     "name": "stderr",
     "output_type": "stream",
     "text": [
      "/Users/senyastein/miniconda3/envs/satenv/lib/python3.7/site-packages/xarray/core/nanops.py:159: RuntimeWarning: Mean of empty slice\n",
      "  return np.nanmean(a, axis=axis, dtype=dtype)\n",
      "/Users/senyastein/miniconda3/envs/satenv/lib/python3.7/site-packages/xarray/core/nanops.py:159: RuntimeWarning: Mean of empty slice\n",
      "  return np.nanmean(a, axis=axis, dtype=dtype)\n"
     ]
    },
    {
     "name": "stdout",
     "output_type": "stream",
     "text": [
      "\n",
      "./1026/saildrone-gen_5-west_coast_survey_2018-sd1026-20180918T060000-20180918T075959-1_minutes-v2.1537259416755.nc\n",
      "1260\n",
      "./1026/saildrone-gen_5-west_coast_survey_2018-sd1026-20180823T160000-20180823T175959-1_minutes-v2.1535049014760.nc\n"
     ]
    },
    {
     "name": "stderr",
     "output_type": "stream",
     "text": [
      "/Users/senyastein/miniconda3/envs/satenv/lib/python3.7/site-packages/xarray/core/nanops.py:159: RuntimeWarning: Mean of empty slice\n",
      "  return np.nanmean(a, axis=axis, dtype=dtype)\n",
      "/Users/senyastein/miniconda3/envs/satenv/lib/python3.7/site-packages/xarray/core/nanops.py:159: RuntimeWarning: Mean of empty slice\n",
      "  return np.nanmean(a, axis=axis, dtype=dtype)\n"
     ]
    },
    {
     "name": "stdout",
     "output_type": "stream",
     "text": [
      "1261\n",
      "./1026/saildrone-gen_5-west_coast_survey_2018-sd1026-20180925T040000-20180925T055959-1_minutes-v2.1537857016621.nc\n",
      "1262\n",
      "./1026/saildrone-gen_5-west_coast_survey_2018-sd1026-20181013T220000-20181013T235959-1_minutes-v2.1539477009768.nc\n",
      "1263\n",
      "./1026/saildrone-gen_5-west_coast_survey_2018-sd1026-20181015T040000-20181015T055959-1_minutes-v2.1539585010511.nc\n"
     ]
    },
    {
     "name": "stderr",
     "output_type": "stream",
     "text": [
      "/Users/senyastein/miniconda3/envs/satenv/lib/python3.7/site-packages/xarray/core/nanops.py:159: RuntimeWarning: Mean of empty slice\n",
      "  return np.nanmean(a, axis=axis, dtype=dtype)\n",
      "/Users/senyastein/miniconda3/envs/satenv/lib/python3.7/site-packages/xarray/core/nanops.py:159: RuntimeWarning: Mean of empty slice\n",
      "  return np.nanmean(a, axis=axis, dtype=dtype)\n",
      "/Users/senyastein/miniconda3/envs/satenv/lib/python3.7/site-packages/xarray/core/nanops.py:159: RuntimeWarning: Mean of empty slice\n",
      "  return np.nanmean(a, axis=axis, dtype=dtype)\n"
     ]
    },
    {
     "name": "stdout",
     "output_type": "stream",
     "text": [
      "1264\n",
      "./1026/saildrone-gen_5-west_coast_survey_2018-sd1026-20181010T100000-20181010T115959-1_minutes-v2.1539174611113.nc\n",
      "1265\n",
      "./1026/saildrone-gen_5-west_coast_survey_2018-sd1026-20180909T100000-20180909T115959-1_minutes-v2.1536496235403.nc\n",
      "1266\n",
      "./1026/saildrone-gen_5-west_coast_survey_2018-sd1026-20180719T120000-20180719T175959-1_minutes-v2.1533316780112.nc\n"
     ]
    },
    {
     "name": "stderr",
     "output_type": "stream",
     "text": [
      "/Users/senyastein/miniconda3/envs/satenv/lib/python3.7/site-packages/xarray/core/nanops.py:159: RuntimeWarning: Mean of empty slice\n",
      "  return np.nanmean(a, axis=axis, dtype=dtype)\n",
      "/Users/senyastein/miniconda3/envs/satenv/lib/python3.7/site-packages/xarray/core/nanops.py:159: RuntimeWarning: Mean of empty slice\n",
      "  return np.nanmean(a, axis=axis, dtype=dtype)\n",
      "/Users/senyastein/miniconda3/envs/satenv/lib/python3.7/site-packages/xarray/core/nanops.py:159: RuntimeWarning: Mean of empty slice\n",
      "  return np.nanmean(a, axis=axis, dtype=dtype)\n",
      "/Users/senyastein/miniconda3/envs/satenv/lib/python3.7/site-packages/xarray/core/nanops.py:159: RuntimeWarning: Mean of empty slice\n",
      "  return np.nanmean(a, axis=axis, dtype=dtype)\n"
     ]
    },
    {
     "name": "stdout",
     "output_type": "stream",
     "text": [
      "1267\n",
      "./1026/saildrone-gen_5-west_coast_survey_2018-sd1026-20180918T020000-20180918T035959-1_minutes-v2.1537245029649.nc\n",
      "1268\n",
      "./1026/saildrone-gen_5-west_coast_survey_2018-sd1026-20180710T120000-20180710T175959-1_minutes-v2.1533313357063.nc\n"
     ]
    },
    {
     "name": "stderr",
     "output_type": "stream",
     "text": [
      "/Users/senyastein/miniconda3/envs/satenv/lib/python3.7/site-packages/xarray/core/nanops.py:159: RuntimeWarning: Mean of empty slice\n",
      "  return np.nanmean(a, axis=axis, dtype=dtype)\n",
      "/Users/senyastein/miniconda3/envs/satenv/lib/python3.7/site-packages/xarray/core/nanops.py:159: RuntimeWarning: Mean of empty slice\n",
      "  return np.nanmean(a, axis=axis, dtype=dtype)\n"
     ]
    },
    {
     "name": "stdout",
     "output_type": "stream",
     "text": [
      "1269\n",
      "./1026/saildrone-gen_5-west_coast_survey_2018-sd1026-20180926T160000-20180926T175959-1_minutes-v2.1537986614532.nc\n",
      "1270\n",
      "./1026/saildrone-gen_5-west_coast_survey_2018-sd1026-20181012T220000-20181012T235959-1_minutes-v2.1539390610551.nc\n"
     ]
    },
    {
     "name": "stderr",
     "output_type": "stream",
     "text": [
      "/Users/senyastein/miniconda3/envs/satenv/lib/python3.7/site-packages/xarray/core/nanops.py:159: RuntimeWarning: Mean of empty slice\n",
      "  return np.nanmean(a, axis=axis, dtype=dtype)\n",
      "/Users/senyastein/miniconda3/envs/satenv/lib/python3.7/site-packages/xarray/core/nanops.py:159: RuntimeWarning: Mean of empty slice\n",
      "  return np.nanmean(a, axis=axis, dtype=dtype)\n",
      "/Users/senyastein/miniconda3/envs/satenv/lib/python3.7/site-packages/xarray/core/nanops.py:159: RuntimeWarning: Mean of empty slice\n",
      "  return np.nanmean(a, axis=axis, dtype=dtype)\n"
     ]
    },
    {
     "name": "stdout",
     "output_type": "stream",
     "text": [
      "1271\n",
      "./1026/saildrone-gen_5-west_coast_survey_2018-sd1026-20180907T200000-20180907T215959-1_minutes-v2.1536359414216.nc\n",
      "1272\n",
      "./1026/saildrone-gen_5-west_coast_survey_2018-sd1026-20180919T020000-20180919T035959-1_minutes-v2.1537331415608.nc\n",
      "1273\n",
      "./1026/saildrone-gen_5-west_coast_survey_2018-sd1026-20180814T180000-20180814T235959-1_minutes-v2.1534294834984.nc\n",
      "1274\n",
      "./1026/saildrone-gen_5-west_coast_survey_2018-sd1026-20181018T080000-20181018T095959-1_minutes-v2.1539858611795.nc\n",
      "1275\n",
      "./1026/saildrone-gen_5-west_coast_survey_2018-sd1026-20180901T180000-20180901T195959-1_minutes-v2.1535833814303.nc\n"
     ]
    },
    {
     "name": "stderr",
     "output_type": "stream",
     "text": [
      "/Users/senyastein/miniconda3/envs/satenv/lib/python3.7/site-packages/xarray/core/nanops.py:159: RuntimeWarning: Mean of empty slice\n",
      "  return np.nanmean(a, axis=axis, dtype=dtype)\n",
      "/Users/senyastein/miniconda3/envs/satenv/lib/python3.7/site-packages/xarray/core/nanops.py:159: RuntimeWarning: Mean of empty slice\n",
      "  return np.nanmean(a, axis=axis, dtype=dtype)\n",
      "/Users/senyastein/miniconda3/envs/satenv/lib/python3.7/site-packages/xarray/core/nanops.py:159: RuntimeWarning: Mean of empty slice\n",
      "  return np.nanmean(a, axis=axis, dtype=dtype)\n",
      "/Users/senyastein/miniconda3/envs/satenv/lib/python3.7/site-packages/xarray/core/nanops.py:159: RuntimeWarning: Mean of empty slice\n",
      "  return np.nanmean(a, axis=axis, dtype=dtype)\n",
      "/Users/senyastein/miniconda3/envs/satenv/lib/python3.7/site-packages/xarray/core/nanops.py:159: RuntimeWarning: Mean of empty slice\n",
      "  return np.nanmean(a, axis=axis, dtype=dtype)\n"
     ]
    },
    {
     "name": "stdout",
     "output_type": "stream",
     "text": [
      "1276\n",
      "./1026/saildrone-gen_5-west_coast_survey_2018-sd1026-20180904T000000-20180904T015959-1_minutes-v2.1536028230019.nc\n",
      "1277\n",
      "./1026/saildrone-gen_5-west_coast_survey_2018-sd1026-20181025T100000-20181025T115959-1_minutes-v2.1540470613562.nc\n",
      "1278\n",
      "./1026/saildrone-gen_5-west_coast_survey_2018-sd1026-20180720T000000-20180720T055959-1_minutes-v2.1533316895489.nc\n",
      "1279\n",
      "./1026/saildrone-gen_5-west_coast_survey_2018-sd1026-20180901T140000-20180901T155959-1_minutes-v2.1535819416100.nc\n"
     ]
    },
    {
     "name": "stderr",
     "output_type": "stream",
     "text": [
      "/Users/senyastein/miniconda3/envs/satenv/lib/python3.7/site-packages/xarray/core/nanops.py:159: RuntimeWarning: Mean of empty slice\n",
      "  return np.nanmean(a, axis=axis, dtype=dtype)\n",
      "/Users/senyastein/miniconda3/envs/satenv/lib/python3.7/site-packages/xarray/core/nanops.py:159: RuntimeWarning: Mean of empty slice\n",
      "  return np.nanmean(a, axis=axis, dtype=dtype)\n"
     ]
    },
    {
     "name": "stdout",
     "output_type": "stream",
     "text": [
      "1280\n",
      "./1026/saildrone-gen_5-west_coast_survey_2018-sd1026-20180913T200000-20180913T215959-1_minutes-v2.1536877832493.nc\n",
      "1281\n",
      "./1026/saildrone-gen_5-west_coast_survey_2018-sd1026-20180901T040000-20180901T055959-1_minutes-v2.1535783417999.nc\n"
     ]
    },
    {
     "name": "stderr",
     "output_type": "stream",
     "text": [
      "/Users/senyastein/miniconda3/envs/satenv/lib/python3.7/site-packages/xarray/core/nanops.py:159: RuntimeWarning: Mean of empty slice\n",
      "  return np.nanmean(a, axis=axis, dtype=dtype)\n",
      "/Users/senyastein/miniconda3/envs/satenv/lib/python3.7/site-packages/xarray/core/nanops.py:159: RuntimeWarning: Mean of empty slice\n",
      "  return np.nanmean(a, axis=axis, dtype=dtype)\n"
     ]
    },
    {
     "name": "stdout",
     "output_type": "stream",
     "text": [
      "1282\n",
      "./1026/saildrone-gen_5-west_coast_survey_2018-sd1026-20181019T180000-20181019T195959-1_minutes-v2.1539981012606.nc\n",
      "1283\n",
      "./1026/saildrone-gen_5-west_coast_survey_2018-sd1026-20180720T180000-20180720T235959-1_minutes-v2.1533317079833.nc\n"
     ]
    },
    {
     "name": "stderr",
     "output_type": "stream",
     "text": [
      "/Users/senyastein/miniconda3/envs/satenv/lib/python3.7/site-packages/xarray/core/nanops.py:159: RuntimeWarning: Mean of empty slice\n",
      "  return np.nanmean(a, axis=axis, dtype=dtype)\n",
      "/Users/senyastein/miniconda3/envs/satenv/lib/python3.7/site-packages/xarray/core/nanops.py:159: RuntimeWarning: Mean of empty slice\n",
      "  return np.nanmean(a, axis=axis, dtype=dtype)\n"
     ]
    },
    {
     "name": "stdout",
     "output_type": "stream",
     "text": [
      "1284\n",
      "./1026/saildrone-gen_5-west_coast_survey_2018-sd1026-20180826T200000-20180826T215959-1_minutes-v2.1535322614137.nc\n",
      "1285\n",
      "./1026/saildrone-gen_5-west_coast_survey_2018-sd1026-20180913T120000-20180913T135959-1_minutes-v2.1536849032463.nc\n",
      "1286\n",
      "./1026/saildrone-gen_5-west_coast_survey_2018-sd1026-20180904T180000-20180904T195959-1_minutes-v2.1536093014826.nc\n"
     ]
    },
    {
     "name": "stderr",
     "output_type": "stream",
     "text": [
      "/Users/senyastein/miniconda3/envs/satenv/lib/python3.7/site-packages/xarray/core/nanops.py:159: RuntimeWarning: Mean of empty slice\n",
      "  return np.nanmean(a, axis=axis, dtype=dtype)\n",
      "/Users/senyastein/miniconda3/envs/satenv/lib/python3.7/site-packages/xarray/core/nanops.py:159: RuntimeWarning: Mean of empty slice\n",
      "  return np.nanmean(a, axis=axis, dtype=dtype)\n",
      "/Users/senyastein/miniconda3/envs/satenv/lib/python3.7/site-packages/xarray/core/nanops.py:159: RuntimeWarning: Mean of empty slice\n",
      "  return np.nanmean(a, axis=axis, dtype=dtype)\n"
     ]
    },
    {
     "name": "stdout",
     "output_type": "stream",
     "text": [
      "1287\n",
      "./1026/saildrone-gen_5-west_coast_survey_2018-sd1026-20180917T200000-20180917T215959-1_minutes-v2.1537223416097.nc\n",
      "1288\n",
      "./1026/saildrone-gen_5-west_coast_survey_2018-sd1026-20180928T060000-20180928T075959-1_minutes-v2.1538123414358.nc\n",
      "1289\n",
      "./1026/saildrone-gen_5-west_coast_survey_2018-sd1026-20180826T120000-20180826T135959-1_minutes-v2.1535293816071.nc\n"
     ]
    },
    {
     "name": "stderr",
     "output_type": "stream",
     "text": [
      "/Users/senyastein/miniconda3/envs/satenv/lib/python3.7/site-packages/xarray/core/nanops.py:159: RuntimeWarning: Mean of empty slice\n",
      "  return np.nanmean(a, axis=axis, dtype=dtype)\n",
      "/Users/senyastein/miniconda3/envs/satenv/lib/python3.7/site-packages/xarray/core/nanops.py:159: RuntimeWarning: Mean of empty slice\n",
      "  return np.nanmean(a, axis=axis, dtype=dtype)\n",
      "/Users/senyastein/miniconda3/envs/satenv/lib/python3.7/site-packages/xarray/core/nanops.py:159: RuntimeWarning: Mean of empty slice\n",
      "  return np.nanmean(a, axis=axis, dtype=dtype)\n",
      "/Users/senyastein/miniconda3/envs/satenv/lib/python3.7/site-packages/xarray/core/nanops.py:159: RuntimeWarning: Mean of empty slice\n",
      "  return np.nanmean(a, axis=axis, dtype=dtype)\n",
      "/Users/senyastein/miniconda3/envs/satenv/lib/python3.7/site-packages/xarray/core/nanops.py:159: RuntimeWarning: Mean of empty slice\n",
      "  return np.nanmean(a, axis=axis, dtype=dtype)\n"
     ]
    },
    {
     "name": "stdout",
     "output_type": "stream",
     "text": [
      "1290\n",
      "./1026/saildrone-gen_5-west_coast_survey_2018-sd1026-20180914T120000-20180914T135959-1_minutes-v2.1536935415645.nc\n",
      "1291\n",
      "./1026/saildrone-gen_5-west_coast_survey_2018-sd1026-20180902T220000-20180902T235959-1_minutes-v2.1535934614770.nc\n",
      "1292\n",
      "./1026/saildrone-gen_5-west_coast_survey_2018-sd1026-20181021T200000-20181021T215959-1_minutes-v2.1540161012507.nc\n"
     ]
    },
    {
     "name": "stderr",
     "output_type": "stream",
     "text": [
      "/Users/senyastein/miniconda3/envs/satenv/lib/python3.7/site-packages/xarray/core/nanops.py:159: RuntimeWarning: Mean of empty slice\n",
      "  return np.nanmean(a, axis=axis, dtype=dtype)\n",
      "/Users/senyastein/miniconda3/envs/satenv/lib/python3.7/site-packages/xarray/core/nanops.py:159: RuntimeWarning: Mean of empty slice\n",
      "  return np.nanmean(a, axis=axis, dtype=dtype)\n",
      "/Users/senyastein/miniconda3/envs/satenv/lib/python3.7/site-packages/xarray/core/nanops.py:159: RuntimeWarning: Mean of empty slice\n",
      "  return np.nanmean(a, axis=axis, dtype=dtype)\n"
     ]
    },
    {
     "name": "stdout",
     "output_type": "stream",
     "text": [
      "1293\n",
      "./1026/saildrone-gen_5-west_coast_survey_2018-sd1026-20180830T080000-20180830T095959-1_minutes-v2.1535625015058.nc\n",
      "1294\n",
      "./1026/saildrone-gen_5-west_coast_survey_2018-sd1026-20180830T060000-20180830T075959-1_minutes-v2.1535617815517.nc\n",
      "1295\n",
      "./1026/saildrone-gen_5-west_coast_survey_2018-sd1026-20180914T180000-20180914T195959-1_minutes-v2.1536957016617.nc\n",
      "1296\n",
      "./1026/saildrone-gen_5-west_coast_survey_2018-sd1026-20181022T080000-20181022T095959-1_minutes-v2.1540204212533.nc\n"
     ]
    },
    {
     "name": "stderr",
     "output_type": "stream",
     "text": [
      "/Users/senyastein/miniconda3/envs/satenv/lib/python3.7/site-packages/xarray/core/nanops.py:159: RuntimeWarning: Mean of empty slice\n",
      "  return np.nanmean(a, axis=axis, dtype=dtype)\n",
      "/Users/senyastein/miniconda3/envs/satenv/lib/python3.7/site-packages/xarray/core/nanops.py:159: RuntimeWarning: Mean of empty slice\n",
      "  return np.nanmean(a, axis=axis, dtype=dtype)\n"
     ]
    },
    {
     "name": "stdout",
     "output_type": "stream",
     "text": [
      "1297\n",
      "./1026/saildrone-gen_5-west_coast_survey_2018-sd1026-20181020T100000-20181020T115959-1_minutes-v2.1540038612476.nc\n",
      "1298\n",
      "./1026/saildrone-gen_5-west_coast_survey_2018-sd1026-20181005T180000-20181005T195959-1_minutes-v2.1538771411923.nc\n"
     ]
    },
    {
     "name": "stderr",
     "output_type": "stream",
     "text": [
      "/Users/senyastein/miniconda3/envs/satenv/lib/python3.7/site-packages/xarray/core/nanops.py:159: RuntimeWarning: Mean of empty slice\n",
      "  return np.nanmean(a, axis=axis, dtype=dtype)\n",
      "/Users/senyastein/miniconda3/envs/satenv/lib/python3.7/site-packages/xarray/core/nanops.py:159: RuntimeWarning: Mean of empty slice\n",
      "  return np.nanmean(a, axis=axis, dtype=dtype)\n"
     ]
    },
    {
     "name": "stdout",
     "output_type": "stream",
     "text": [
      "1299\n",
      "./1026/saildrone-gen_5-west_coast_survey_2018-sd1026-20180905T000000-20180905T015959-1_minutes-v2.1536114616063.nc\n",
      "1300\n",
      "./1026/saildrone-gen_5-west_coast_survey_2018-sd1026-20180911T060000-20180911T075959-1_minutes-v2.1536654618236.nc\n",
      "1301\n",
      "./1026/saildrone-gen_5-west_coast_survey_2018-sd1026-20181002T000000-20181002T015959-1_minutes-v2.1538447413564.nc\n"
     ]
    },
    {
     "name": "stderr",
     "output_type": "stream",
     "text": [
      "/Users/senyastein/miniconda3/envs/satenv/lib/python3.7/site-packages/xarray/core/nanops.py:159: RuntimeWarning: Mean of empty slice\n",
      "  return np.nanmean(a, axis=axis, dtype=dtype)\n",
      "/Users/senyastein/miniconda3/envs/satenv/lib/python3.7/site-packages/xarray/core/nanops.py:159: RuntimeWarning: Mean of empty slice\n",
      "  return np.nanmean(a, axis=axis, dtype=dtype)\n",
      "/Users/senyastein/miniconda3/envs/satenv/lib/python3.7/site-packages/xarray/core/nanops.py:159: RuntimeWarning: Mean of empty slice\n",
      "  return np.nanmean(a, axis=axis, dtype=dtype)\n"
     ]
    },
    {
     "name": "stdout",
     "output_type": "stream",
     "text": [
      "1302\n",
      "./1026/saildrone-gen_5-west_coast_survey_2018-sd1026-20181012T040000-20181012T055959-1_minutes-v2.1539325810992.nc\n",
      "1303\n",
      "./1026/saildrone-gen_5-west_coast_survey_2018-sd1026-20180917T140000-20180917T155959-1_minutes-v2.1537201827110.nc\n"
     ]
    },
    {
     "name": "stderr",
     "output_type": "stream",
     "text": [
      "/Users/senyastein/miniconda3/envs/satenv/lib/python3.7/site-packages/xarray/core/nanops.py:159: RuntimeWarning: Mean of empty slice\n",
      "  return np.nanmean(a, axis=axis, dtype=dtype)\n",
      "/Users/senyastein/miniconda3/envs/satenv/lib/python3.7/site-packages/xarray/core/nanops.py:159: RuntimeWarning: Mean of empty slice\n",
      "  return np.nanmean(a, axis=axis, dtype=dtype)\n"
     ]
    },
    {
     "name": "stdout",
     "output_type": "stream",
     "text": [
      "1304\n",
      "./1026/saildrone-gen_5-west_coast_survey_2018-sd1026-20181011T220000-20181011T235959-1_minutes-v2.1539304210301.nc\n",
      "1305\n",
      "./1026/saildrone-gen_5-west_coast_survey_2018-sd1026-20180903T200000-20180903T215959-1_minutes-v2.1536013828684.nc\n"
     ]
    },
    {
     "name": "stderr",
     "output_type": "stream",
     "text": [
      "/Users/senyastein/miniconda3/envs/satenv/lib/python3.7/site-packages/xarray/core/nanops.py:159: RuntimeWarning: Mean of empty slice\n",
      "  return np.nanmean(a, axis=axis, dtype=dtype)\n",
      "/Users/senyastein/miniconda3/envs/satenv/lib/python3.7/site-packages/xarray/core/nanops.py:159: RuntimeWarning: Mean of empty slice\n",
      "  return np.nanmean(a, axis=axis, dtype=dtype)\n"
     ]
    },
    {
     "name": "stdout",
     "output_type": "stream",
     "text": [
      "1306\n",
      "./1026/saildrone-gen_5-west_coast_survey_2018-sd1026-20181026T080000-20181026T095959-1_minutes-v2.1540549813092.nc\n",
      "1307\n",
      "./1026/saildrone-gen_5-west_coast_survey_2018-sd1026-20181002T020000-20181002T035959-1_minutes-v2.1538454613122.nc\n"
     ]
    },
    {
     "name": "stderr",
     "output_type": "stream",
     "text": [
      "/Users/senyastein/miniconda3/envs/satenv/lib/python3.7/site-packages/xarray/core/nanops.py:159: RuntimeWarning: Mean of empty slice\n",
      "  return np.nanmean(a, axis=axis, dtype=dtype)\n",
      "/Users/senyastein/miniconda3/envs/satenv/lib/python3.7/site-packages/xarray/core/nanops.py:159: RuntimeWarning: Mean of empty slice\n",
      "  return np.nanmean(a, axis=axis, dtype=dtype)\n"
     ]
    },
    {
     "name": "stdout",
     "output_type": "stream",
     "text": [
      "1308\n",
      "./1026/saildrone-gen_5-west_coast_survey_2018-sd1026-20181018T160000-20181018T175959-1_minutes-v2.1539887411972.nc\n",
      "1309\n",
      "./1026/saildrone-gen_5-west_coast_survey_2018-sd1026-20180831T180000-20180831T195959-1_minutes-v2.1535747415240.nc\n"
     ]
    },
    {
     "name": "stderr",
     "output_type": "stream",
     "text": [
      "/Users/senyastein/miniconda3/envs/satenv/lib/python3.7/site-packages/xarray/core/nanops.py:159: RuntimeWarning: Mean of empty slice\n",
      "  return np.nanmean(a, axis=axis, dtype=dtype)\n",
      "/Users/senyastein/miniconda3/envs/satenv/lib/python3.7/site-packages/xarray/core/nanops.py:159: RuntimeWarning: Mean of empty slice\n",
      "  return np.nanmean(a, axis=axis, dtype=dtype)\n"
     ]
    },
    {
     "name": "stdout",
     "output_type": "stream",
     "text": [
      "1310\n",
      "./1026/saildrone-gen_5-west_coast_survey_2018-sd1026-20181019T140000-20181019T155959-1_minutes-v2.1539966612287.nc\n",
      "1311\n",
      "./1026/saildrone-gen_5-west_coast_survey_2018-sd1026-20180724T120000-20180724T175959-1_minutes-v2.1533317896375.nc\n"
     ]
    },
    {
     "name": "stderr",
     "output_type": "stream",
     "text": [
      "/Users/senyastein/miniconda3/envs/satenv/lib/python3.7/site-packages/xarray/core/nanops.py:159: RuntimeWarning: Mean of empty slice\n",
      "  return np.nanmean(a, axis=axis, dtype=dtype)\n",
      "/Users/senyastein/miniconda3/envs/satenv/lib/python3.7/site-packages/xarray/core/nanops.py:159: RuntimeWarning: Mean of empty slice\n",
      "  return np.nanmean(a, axis=axis, dtype=dtype)\n"
     ]
    },
    {
     "name": "stdout",
     "output_type": "stream",
     "text": [
      "1312\n",
      "./1026/saildrone-gen_5-west_coast_survey_2018-sd1026-20180905T180000-20180905T195959-1_minutes-v2.1536179415349.nc\n",
      "1313\n",
      "./1026/saildrone-gen_5-west_coast_survey_2018-sd1026-20180909T180000-20180909T195959-1_minutes-v2.1536525017564.nc\n"
     ]
    },
    {
     "name": "stderr",
     "output_type": "stream",
     "text": [
      "/Users/senyastein/miniconda3/envs/satenv/lib/python3.7/site-packages/xarray/core/nanops.py:159: RuntimeWarning: Mean of empty slice\n",
      "  return np.nanmean(a, axis=axis, dtype=dtype)\n",
      "/Users/senyastein/miniconda3/envs/satenv/lib/python3.7/site-packages/xarray/core/nanops.py:159: RuntimeWarning: Mean of empty slice\n",
      "  return np.nanmean(a, axis=axis, dtype=dtype)\n"
     ]
    },
    {
     "name": "stdout",
     "output_type": "stream",
     "text": [
      "1314\n",
      "./1026/saildrone-gen_5-west_coast_survey_2018-sd1026-20180903T120000-20180903T135959-1_minutes-v2.1535985016066.nc\n",
      "1315\n",
      "./1026/saildrone-gen_5-west_coast_survey_2018-sd1026-20180916T180000-20180916T195959-1_minutes-v2.1537129826349.nc\n",
      "1316\n"
     ]
    },
    {
     "name": "stderr",
     "output_type": "stream",
     "text": [
      "/Users/senyastein/miniconda3/envs/satenv/lib/python3.7/site-packages/xarray/core/nanops.py:159: RuntimeWarning: Mean of empty slice\n",
      "  return np.nanmean(a, axis=axis, dtype=dtype)\n",
      "/Users/senyastein/miniconda3/envs/satenv/lib/python3.7/site-packages/xarray/core/nanops.py:159: RuntimeWarning: Mean of empty slice\n",
      "  return np.nanmean(a, axis=axis, dtype=dtype)\n"
     ]
    },
    {
     "name": "stdout",
     "output_type": "stream",
     "text": [
      "./1026/saildrone-gen_5-west_coast_survey_2018-sd1026-20180912T020000-20180912T035959-1_minutes-v2.1536726626442.nc\n",
      "1317\n",
      "./1026/saildrone-gen_5-west_coast_survey_2018-sd1026-20180903T000000-20180903T015959-1_minutes-v2.1535941815415.nc\n"
     ]
    },
    {
     "name": "stderr",
     "output_type": "stream",
     "text": [
      "/Users/senyastein/miniconda3/envs/satenv/lib/python3.7/site-packages/xarray/core/nanops.py:159: RuntimeWarning: Mean of empty slice\n",
      "  return np.nanmean(a, axis=axis, dtype=dtype)\n",
      "/Users/senyastein/miniconda3/envs/satenv/lib/python3.7/site-packages/xarray/core/nanops.py:159: RuntimeWarning: Mean of empty slice\n",
      "  return np.nanmean(a, axis=axis, dtype=dtype)\n"
     ]
    },
    {
     "name": "stdout",
     "output_type": "stream",
     "text": [
      "1318\n",
      "./1026/saildrone-gen_5-west_coast_survey_2018-sd1026-20180921T100000-20180921T115959-1_minutes-v2.1537533026202.nc\n",
      "1319\n",
      "./1026/saildrone-gen_5-west_coast_survey_2018-sd1026-20180923T220000-20180923T235959-1_minutes-v2.1537749015116.nc\n",
      "1320\n"
     ]
    },
    {
     "name": "stderr",
     "output_type": "stream",
     "text": [
      "/Users/senyastein/miniconda3/envs/satenv/lib/python3.7/site-packages/xarray/core/nanops.py:159: RuntimeWarning: Mean of empty slice\n",
      "  return np.nanmean(a, axis=axis, dtype=dtype)\n",
      "/Users/senyastein/miniconda3/envs/satenv/lib/python3.7/site-packages/xarray/core/nanops.py:159: RuntimeWarning: Mean of empty slice\n",
      "  return np.nanmean(a, axis=axis, dtype=dtype)\n",
      "/Users/senyastein/miniconda3/envs/satenv/lib/python3.7/site-packages/xarray/core/nanops.py:159: RuntimeWarning: Mean of empty slice\n",
      "  return np.nanmean(a, axis=axis, dtype=dtype)\n"
     ]
    },
    {
     "name": "stdout",
     "output_type": "stream",
     "text": [
      "./1026/saildrone-gen_5-west_coast_survey_2018-sd1026-20180928T140000-20180928T155959-1_minutes-v2.1538152222934.nc\n",
      "1321\n",
      "./1026/saildrone-gen_5-west_coast_survey_2018-sd1026-20180927T220000-20180927T235959-1_minutes-v2.1538094617649.nc\n"
     ]
    },
    {
     "name": "stderr",
     "output_type": "stream",
     "text": [
      "/Users/senyastein/miniconda3/envs/satenv/lib/python3.7/site-packages/xarray/core/nanops.py:159: RuntimeWarning: Mean of empty slice\n",
      "  return np.nanmean(a, axis=axis, dtype=dtype)\n",
      "/Users/senyastein/miniconda3/envs/satenv/lib/python3.7/site-packages/xarray/core/nanops.py:159: RuntimeWarning: Mean of empty slice\n",
      "  return np.nanmean(a, axis=axis, dtype=dtype)\n"
     ]
    },
    {
     "name": "stdout",
     "output_type": "stream",
     "text": [
      "1322\n",
      "./1026/saildrone-gen_5-west_coast_survey_2018-sd1026-20180713T120000-20180713T175959-1_minutes-v2.1533314017527.nc\n",
      "1323\n",
      "./1026/saildrone-gen_5-west_coast_survey_2018-sd1026-20180908T080000-20180908T095959-1_minutes-v2.1536402616265.nc\n"
     ]
    },
    {
     "name": "stderr",
     "output_type": "stream",
     "text": [
      "/Users/senyastein/miniconda3/envs/satenv/lib/python3.7/site-packages/xarray/core/nanops.py:159: RuntimeWarning: Mean of empty slice\n",
      "  return np.nanmean(a, axis=axis, dtype=dtype)\n",
      "/Users/senyastein/miniconda3/envs/satenv/lib/python3.7/site-packages/xarray/core/nanops.py:159: RuntimeWarning: Mean of empty slice\n",
      "  return np.nanmean(a, axis=axis, dtype=dtype)\n"
     ]
    },
    {
     "name": "stdout",
     "output_type": "stream",
     "text": [
      "1324\n",
      "./1026/saildrone-gen_5-west_coast_survey_2018-sd1026-20180915T000000-20180915T015959-1_minutes-v2.1536978614470.nc\n",
      "1325\n",
      "./1026/saildrone-gen_5-west_coast_survey_2018-sd1026-20180909T000000-20180909T015959-1_minutes-v2.1536460215587.nc\n"
     ]
    },
    {
     "name": "stderr",
     "output_type": "stream",
     "text": [
      "/Users/senyastein/miniconda3/envs/satenv/lib/python3.7/site-packages/xarray/core/nanops.py:159: RuntimeWarning: Mean of empty slice\n",
      "  return np.nanmean(a, axis=axis, dtype=dtype)\n",
      "/Users/senyastein/miniconda3/envs/satenv/lib/python3.7/site-packages/xarray/core/nanops.py:159: RuntimeWarning: Mean of empty slice\n",
      "  return np.nanmean(a, axis=axis, dtype=dtype)\n"
     ]
    },
    {
     "name": "stdout",
     "output_type": "stream",
     "text": [
      "1326\n",
      "./1026/saildrone-gen_5-west_coast_survey_2018-sd1026-20181016T200000-20181016T215959-1_minutes-v2.1539729011955.nc\n",
      "1327\n",
      "./1026/saildrone-gen_5-west_coast_survey_2018-sd1026-20180919T000000-20180919T015959-1_minutes-v2.1537324227599.nc\n"
     ]
    },
    {
     "name": "stderr",
     "output_type": "stream",
     "text": [
      "/Users/senyastein/miniconda3/envs/satenv/lib/python3.7/site-packages/xarray/core/nanops.py:159: RuntimeWarning: Mean of empty slice\n",
      "  return np.nanmean(a, axis=axis, dtype=dtype)\n",
      "/Users/senyastein/miniconda3/envs/satenv/lib/python3.7/site-packages/xarray/core/nanops.py:159: RuntimeWarning: Mean of empty slice\n",
      "  return np.nanmean(a, axis=axis, dtype=dtype)\n",
      "/Users/senyastein/miniconda3/envs/satenv/lib/python3.7/site-packages/xarray/core/nanops.py:159: RuntimeWarning: Mean of empty slice\n",
      "  return np.nanmean(a, axis=axis, dtype=dtype)\n"
     ]
    },
    {
     "name": "stdout",
     "output_type": "stream",
     "text": [
      "1328\n",
      "./1026/saildrone-gen_5-west_coast_survey_2018-sd1026-20181010T140000-20181010T155959-1_minutes-v2.1539192942369.nc\n",
      "1329\n",
      "./1026/saildrone-gen_5-west_coast_survey_2018-sd1026-20181018T060000-20181018T075959-1_minutes-v2.1539851412308.nc\n",
      "1330\n",
      "./1026/saildrone-gen_5-west_coast_survey_2018-sd1026-20180929T100000-20180929T115959-1_minutes-v2.1538224213634.nc\n"
     ]
    },
    {
     "name": "stderr",
     "output_type": "stream",
     "text": [
      "/Users/senyastein/miniconda3/envs/satenv/lib/python3.7/site-packages/xarray/core/nanops.py:159: RuntimeWarning: Mean of empty slice\n",
      "  return np.nanmean(a, axis=axis, dtype=dtype)\n",
      "/Users/senyastein/miniconda3/envs/satenv/lib/python3.7/site-packages/xarray/core/nanops.py:159: RuntimeWarning: Mean of empty slice\n",
      "  return np.nanmean(a, axis=axis, dtype=dtype)\n",
      "/Users/senyastein/miniconda3/envs/satenv/lib/python3.7/site-packages/xarray/core/nanops.py:159: RuntimeWarning: Mean of empty slice\n",
      "  return np.nanmean(a, axis=axis, dtype=dtype)\n"
     ]
    },
    {
     "name": "stdout",
     "output_type": "stream",
     "text": [
      "1331\n",
      "./1026/saildrone-gen_5-west_coast_survey_2018-sd1026-20180815T120000-20180815T175959-1_minutes-v2.1534359638593.nc\n",
      "1332\n",
      "./1026/saildrone-gen_5-west_coast_survey_2018-sd1026-20180901T060000-20180901T075959-1_minutes-v2.1535790616558.nc\n",
      "1333\n",
      "./1026/saildrone-gen_5-west_coast_survey_2018-sd1026-20180924T200000-20180924T215959-1_minutes-v2.1537828214776.nc\n",
      "1334\n",
      "./1026/saildrone-gen_5-west_coast_survey_2018-sd1026-20180911T100000-20180911T115959-1_minutes-v2.1536669016025.nc\n",
      "1335\n"
     ]
    },
    {
     "name": "stderr",
     "output_type": "stream",
     "text": [
      "/Users/senyastein/miniconda3/envs/satenv/lib/python3.7/site-packages/xarray/core/nanops.py:159: RuntimeWarning: Mean of empty slice\n",
      "  return np.nanmean(a, axis=axis, dtype=dtype)\n",
      "/Users/senyastein/miniconda3/envs/satenv/lib/python3.7/site-packages/xarray/core/nanops.py:159: RuntimeWarning: Mean of empty slice\n",
      "  return np.nanmean(a, axis=axis, dtype=dtype)\n",
      "/Users/senyastein/miniconda3/envs/satenv/lib/python3.7/site-packages/xarray/core/nanops.py:159: RuntimeWarning: Mean of empty slice\n",
      "  return np.nanmean(a, axis=axis, dtype=dtype)\n"
     ]
    },
    {
     "name": "stdout",
     "output_type": "stream",
     "text": [
      "./1026/saildrone-gen_5-west_coast_survey_2018-sd1026-20180826T080000-20180826T095959-1_minutes-v2.1535279414346.nc\n",
      "1336\n",
      "./1026/saildrone-gen_5-west_coast_survey_2018-sd1026-20181012T160000-20181012T175959-1_minutes-v2.1539369010818.nc\n",
      "1337\n",
      "./1026/saildrone-gen_5-west_coast_survey_2018-sd1026-20181008T020000-20181008T035959-1_minutes-v2.1538973012226.nc\n"
     ]
    },
    {
     "name": "stderr",
     "output_type": "stream",
     "text": [
      "/Users/senyastein/miniconda3/envs/satenv/lib/python3.7/site-packages/xarray/core/nanops.py:159: RuntimeWarning: Mean of empty slice\n",
      "  return np.nanmean(a, axis=axis, dtype=dtype)\n",
      "/Users/senyastein/miniconda3/envs/satenv/lib/python3.7/site-packages/xarray/core/nanops.py:159: RuntimeWarning: Mean of empty slice\n",
      "  return np.nanmean(a, axis=axis, dtype=dtype)\n",
      "/Users/senyastein/miniconda3/envs/satenv/lib/python3.7/site-packages/xarray/core/nanops.py:159: RuntimeWarning: Mean of empty slice\n",
      "  return np.nanmean(a, axis=axis, dtype=dtype)\n"
     ]
    },
    {
     "name": "stdout",
     "output_type": "stream",
     "text": [
      "1338\n",
      "./1026/saildrone-gen_5-west_coast_survey_2018-sd1026-20180725T060000-20180725T115959-1_minutes-v2.1533318072024.nc\n",
      "1339\n",
      "./1026/saildrone-gen_5-west_coast_survey_2018-sd1026-20180830T120000-20180830T135959-1_minutes-v2.1535639414833.nc\n",
      "1340\n",
      "./1026/saildrone-gen_5-west_coast_survey_2018-sd1026-20181026T000000-20181026T015959-1_minutes-v2.1540521012575.nc\n"
     ]
    },
    {
     "name": "stderr",
     "output_type": "stream",
     "text": [
      "/Users/senyastein/miniconda3/envs/satenv/lib/python3.7/site-packages/xarray/core/nanops.py:159: RuntimeWarning: Mean of empty slice\n",
      "  return np.nanmean(a, axis=axis, dtype=dtype)\n",
      "/Users/senyastein/miniconda3/envs/satenv/lib/python3.7/site-packages/xarray/core/nanops.py:159: RuntimeWarning: Mean of empty slice\n",
      "  return np.nanmean(a, axis=axis, dtype=dtype)\n",
      "/Users/senyastein/miniconda3/envs/satenv/lib/python3.7/site-packages/xarray/core/nanops.py:159: RuntimeWarning: Mean of empty slice\n",
      "  return np.nanmean(a, axis=axis, dtype=dtype)\n"
     ]
    },
    {
     "name": "stdout",
     "output_type": "stream",
     "text": [
      "1341\n",
      "./1026/saildrone-gen_5-west_coast_survey_2018-sd1026-20180908T180000-20180908T195959-1_minutes-v2.1536438615739.nc\n",
      "1342\n",
      "./1026/saildrone-gen_5-west_coast_survey_2018-sd1026-20181020T220000-20181020T235959-1_minutes-v2.1540081812766.nc\n"
     ]
    },
    {
     "name": "stderr",
     "output_type": "stream",
     "text": [
      "/Users/senyastein/miniconda3/envs/satenv/lib/python3.7/site-packages/xarray/core/nanops.py:159: RuntimeWarning: Mean of empty slice\n",
      "  return np.nanmean(a, axis=axis, dtype=dtype)\n",
      "/Users/senyastein/miniconda3/envs/satenv/lib/python3.7/site-packages/xarray/core/nanops.py:159: RuntimeWarning: Mean of empty slice\n",
      "  return np.nanmean(a, axis=axis, dtype=dtype)\n",
      "/Users/senyastein/miniconda3/envs/satenv/lib/python3.7/site-packages/xarray/core/nanops.py:159: RuntimeWarning: Mean of empty slice\n",
      "  return np.nanmean(a, axis=axis, dtype=dtype)\n"
     ]
    },
    {
     "name": "stdout",
     "output_type": "stream",
     "text": [
      "1343\n",
      "./1026/saildrone-gen_5-west_coast_survey_2018-sd1026-20180822T060000-20180822T115959-1_minutes-v2.1534942835881.nc\n",
      "1344\n",
      "./1026/saildrone-gen_5-west_coast_survey_2018-sd1026-20180825T000000-20180825T015959-1_minutes-v2.1535164223756.nc\n",
      "1345\n",
      "./1026/saildrone-gen_5-west_coast_survey_2018-sd1026-20180918T220000-20180918T235959-1_minutes-v2.1537317014562.nc\n",
      "1346\n",
      "./1026/saildrone-gen_5-west_coast_survey_2018-sd1026-20180906T160000-20180906T175959-1_minutes-v2.1536258619964.nc\n",
      "1347\n"
     ]
    },
    {
     "name": "stderr",
     "output_type": "stream",
     "text": [
      "/Users/senyastein/miniconda3/envs/satenv/lib/python3.7/site-packages/xarray/core/nanops.py:159: RuntimeWarning: Mean of empty slice\n",
      "  return np.nanmean(a, axis=axis, dtype=dtype)\n",
      "/Users/senyastein/miniconda3/envs/satenv/lib/python3.7/site-packages/xarray/core/nanops.py:159: RuntimeWarning: Mean of empty slice\n",
      "  return np.nanmean(a, axis=axis, dtype=dtype)\n",
      "/Users/senyastein/miniconda3/envs/satenv/lib/python3.7/site-packages/xarray/core/nanops.py:159: RuntimeWarning: Mean of empty slice\n",
      "  return np.nanmean(a, axis=axis, dtype=dtype)\n"
     ]
    },
    {
     "name": "stdout",
     "output_type": "stream",
     "text": [
      "./1026/saildrone-gen_5-west_coast_survey_2018-sd1026-20181024T020000-20181024T035959-1_minutes-v2.1540355426061.nc\n",
      "1348\n",
      "./1026/saildrone-gen_5-west_coast_survey_2018-sd1026-20181008T180000-20181008T195959-1_minutes-v2.1539030606615.nc\n",
      "1349\n",
      "./1026/saildrone-gen_5-west_coast_survey_2018-sd1026-20181004T080000-20181004T095959-1_minutes-v2.1538649024738.nc\n"
     ]
    },
    {
     "name": "stderr",
     "output_type": "stream",
     "text": [
      "/Users/senyastein/miniconda3/envs/satenv/lib/python3.7/site-packages/xarray/core/nanops.py:159: RuntimeWarning: Mean of empty slice\n",
      "  return np.nanmean(a, axis=axis, dtype=dtype)\n",
      "/Users/senyastein/miniconda3/envs/satenv/lib/python3.7/site-packages/xarray/core/nanops.py:159: RuntimeWarning: Mean of empty slice\n",
      "  return np.nanmean(a, axis=axis, dtype=dtype)\n",
      "/Users/senyastein/miniconda3/envs/satenv/lib/python3.7/site-packages/xarray/core/nanops.py:159: RuntimeWarning: Mean of empty slice\n",
      "  return np.nanmean(a, axis=axis, dtype=dtype)\n"
     ]
    },
    {
     "name": "stdout",
     "output_type": "stream",
     "text": [
      "1350\n",
      "./1026/saildrone-gen_5-west_coast_survey_2018-sd1026-20180913T100000-20180913T115959-1_minutes-v2.1536841819297.nc\n",
      "1351\n",
      "./1026/saildrone-gen_5-west_coast_survey_2018-sd1026-20180811T120000-20180811T175959-1_minutes-v2.1534014038514.nc\n"
     ]
    },
    {
     "name": "stderr",
     "output_type": "stream",
     "text": [
      "/Users/senyastein/miniconda3/envs/satenv/lib/python3.7/site-packages/xarray/core/nanops.py:159: RuntimeWarning: Mean of empty slice\n",
      "  return np.nanmean(a, axis=axis, dtype=dtype)\n",
      "/Users/senyastein/miniconda3/envs/satenv/lib/python3.7/site-packages/xarray/core/nanops.py:159: RuntimeWarning: Mean of empty slice\n",
      "  return np.nanmean(a, axis=axis, dtype=dtype)\n",
      "/Users/senyastein/miniconda3/envs/satenv/lib/python3.7/site-packages/xarray/core/nanops.py:159: RuntimeWarning: Mean of empty slice\n",
      "  return np.nanmean(a, axis=axis, dtype=dtype)\n"
     ]
    },
    {
     "name": "stdout",
     "output_type": "stream",
     "text": [
      "1352\n",
      "./1026/saildrone-gen_5-west_coast_survey_2018-sd1026-20181004T140000-20181004T155959-1_minutes-v2.1538670613141.nc\n",
      "1353\n",
      "./1026/saildrone-gen_5-west_coast_survey_2018-sd1026-20181001T000000-20181001T015959-1_minutes-v2.1538361012117.nc\n",
      "1354\n",
      "./1026/saildrone-gen_5-west_coast_survey_2018-sd1026-20180908T120000-20180908T135959-1_minutes-v2.1536417015026.nc\n"
     ]
    },
    {
     "name": "stderr",
     "output_type": "stream",
     "text": [
      "/Users/senyastein/miniconda3/envs/satenv/lib/python3.7/site-packages/xarray/core/nanops.py:159: RuntimeWarning: Mean of empty slice\n",
      "  return np.nanmean(a, axis=axis, dtype=dtype)\n",
      "/Users/senyastein/miniconda3/envs/satenv/lib/python3.7/site-packages/xarray/core/nanops.py:159: RuntimeWarning: Mean of empty slice\n",
      "  return np.nanmean(a, axis=axis, dtype=dtype)\n",
      "/Users/senyastein/miniconda3/envs/satenv/lib/python3.7/site-packages/xarray/core/nanops.py:159: RuntimeWarning: Mean of empty slice\n",
      "  return np.nanmean(a, axis=axis, dtype=dtype)\n"
     ]
    },
    {
     "name": "stdout",
     "output_type": "stream",
     "text": [
      "1355\n",
      "./1026/saildrone-gen_5-west_coast_survey_2018-sd1026-20180921T120000-20180921T135959-1_minutes-v2.1537540214266.nc\n",
      "1356\n",
      "./1026/saildrone-gen_5-west_coast_survey_2018-sd1026-20180825T020000-20180825T035959-1_minutes-v2.1535171427401.nc\n",
      "1357\n",
      "./1026/saildrone-gen_5-west_coast_survey_2018-sd1026-20180827T140000-20180827T155959-1_minutes-v2.1535387414944.nc\n",
      "1358\n",
      "./1026/saildrone-gen_5-west_coast_survey_2018-sd1026-20181004T200000-20181004T215959-1_minutes-v2.1538692212388.nc\n",
      "1359\n",
      "./1026/saildrone-gen_5-west_coast_survey_2018-sd1026-20181019T060000-20181019T075959-1_minutes-v2.1539937812003.nc\n"
     ]
    },
    {
     "name": "stderr",
     "output_type": "stream",
     "text": [
      "/Users/senyastein/miniconda3/envs/satenv/lib/python3.7/site-packages/xarray/core/nanops.py:159: RuntimeWarning: Mean of empty slice\n",
      "  return np.nanmean(a, axis=axis, dtype=dtype)\n",
      "/Users/senyastein/miniconda3/envs/satenv/lib/python3.7/site-packages/xarray/core/nanops.py:159: RuntimeWarning: Mean of empty slice\n",
      "  return np.nanmean(a, axis=axis, dtype=dtype)\n",
      "/Users/senyastein/miniconda3/envs/satenv/lib/python3.7/site-packages/xarray/core/nanops.py:159: RuntimeWarning: Mean of empty slice\n",
      "  return np.nanmean(a, axis=axis, dtype=dtype)\n"
     ]
    },
    {
     "name": "stdout",
     "output_type": "stream",
     "text": [
      "1360\n",
      "./1026/saildrone-gen_5-west_coast_survey_2018-sd1026-20180927T000000-20180927T015959-1_minutes-v2.1538015415491.nc\n",
      "1361\n",
      "./1026/saildrone-gen_5-west_coast_survey_2018-sd1026-20180905T080000-20180905T095959-1_minutes-v2.1536143426574.nc\n"
     ]
    },
    {
     "name": "stderr",
     "output_type": "stream",
     "text": [
      "/Users/senyastein/miniconda3/envs/satenv/lib/python3.7/site-packages/xarray/core/nanops.py:159: RuntimeWarning: Mean of empty slice\n",
      "  return np.nanmean(a, axis=axis, dtype=dtype)\n",
      "/Users/senyastein/miniconda3/envs/satenv/lib/python3.7/site-packages/xarray/core/nanops.py:159: RuntimeWarning: Mean of empty slice\n",
      "  return np.nanmean(a, axis=axis, dtype=dtype)\n"
     ]
    },
    {
     "name": "stdout",
     "output_type": "stream",
     "text": [
      "1362\n",
      "./1026/saildrone-gen_5-west_coast_survey_2018-sd1026-20181020T200000-20181020T215959-1_minutes-v2.1540074611814.nc\n",
      "1363\n",
      "./1026/saildrone-gen_5-west_coast_survey_2018-sd1026-20180916T200000-20180916T215959-1_minutes-v2.1537137014541.nc\n"
     ]
    },
    {
     "name": "stderr",
     "output_type": "stream",
     "text": [
      "/Users/senyastein/miniconda3/envs/satenv/lib/python3.7/site-packages/xarray/core/nanops.py:159: RuntimeWarning: Mean of empty slice\n",
      "  return np.nanmean(a, axis=axis, dtype=dtype)\n",
      "/Users/senyastein/miniconda3/envs/satenv/lib/python3.7/site-packages/xarray/core/nanops.py:159: RuntimeWarning: Mean of empty slice\n",
      "  return np.nanmean(a, axis=axis, dtype=dtype)\n"
     ]
    },
    {
     "name": "stdout",
     "output_type": "stream",
     "text": [
      "1364\n",
      "./1026/saildrone-gen_5-west_coast_survey_2018-sd1026-20181013T040000-20181013T055959-1_minutes-v2.1539412210841.nc\n",
      "1365\n",
      "./1026/saildrone-gen_5-west_coast_survey_2018-sd1026-20180921T080000-20180921T095959-1_minutes-v2.1537525814969.nc\n"
     ]
    },
    {
     "name": "stderr",
     "output_type": "stream",
     "text": [
      "/Users/senyastein/miniconda3/envs/satenv/lib/python3.7/site-packages/xarray/core/nanops.py:159: RuntimeWarning: Mean of empty slice\n",
      "  return np.nanmean(a, axis=axis, dtype=dtype)\n",
      "/Users/senyastein/miniconda3/envs/satenv/lib/python3.7/site-packages/xarray/core/nanops.py:159: RuntimeWarning: Mean of empty slice\n",
      "  return np.nanmean(a, axis=axis, dtype=dtype)\n"
     ]
    },
    {
     "name": "stdout",
     "output_type": "stream",
     "text": [
      "1366\n",
      "./1026/saildrone-gen_5-west_coast_survey_2018-sd1026-20180828T100000-20180828T115959-1_minutes-v2.1535459415318.nc\n",
      "1367\n",
      "./1026/saildrone-gen_5-west_coast_survey_2018-sd1026-20180906T140000-20180906T155959-1_minutes-v2.1536251414585.nc\n"
     ]
    },
    {
     "name": "stderr",
     "output_type": "stream",
     "text": [
      "/Users/senyastein/miniconda3/envs/satenv/lib/python3.7/site-packages/xarray/core/nanops.py:159: RuntimeWarning: Mean of empty slice\n",
      "  return np.nanmean(a, axis=axis, dtype=dtype)\n",
      "/Users/senyastein/miniconda3/envs/satenv/lib/python3.7/site-packages/xarray/core/nanops.py:159: RuntimeWarning: Mean of empty slice\n",
      "  return np.nanmean(a, axis=axis, dtype=dtype)\n",
      "/Users/senyastein/miniconda3/envs/satenv/lib/python3.7/site-packages/xarray/core/nanops.py:159: RuntimeWarning: Mean of empty slice\n",
      "  return np.nanmean(a, axis=axis, dtype=dtype)\n"
     ]
    },
    {
     "name": "stdout",
     "output_type": "stream",
     "text": [
      "1368\n",
      "./1026/saildrone-gen_5-west_coast_survey_2018-sd1026-20180911T180000-20180911T195959-1_minutes-v2.1536697818039.nc\n",
      "1369\n",
      "./1026/saildrone-gen_5-west_coast_survey_2018-sd1026-20181002T100000-20181002T115959-1_minutes-v2.1538483412377.nc\n"
     ]
    },
    {
     "name": "stderr",
     "output_type": "stream",
     "text": [
      "/Users/senyastein/miniconda3/envs/satenv/lib/python3.7/site-packages/xarray/core/nanops.py:159: RuntimeWarning: Mean of empty slice\n",
      "  return np.nanmean(a, axis=axis, dtype=dtype)\n",
      "/Users/senyastein/miniconda3/envs/satenv/lib/python3.7/site-packages/xarray/core/nanops.py:159: RuntimeWarning: Mean of empty slice\n",
      "  return np.nanmean(a, axis=axis, dtype=dtype)\n",
      "/Users/senyastein/miniconda3/envs/satenv/lib/python3.7/site-packages/xarray/core/nanops.py:159: RuntimeWarning: Mean of empty slice\n",
      "  return np.nanmean(a, axis=axis, dtype=dtype)\n"
     ]
    },
    {
     "name": "stdout",
     "output_type": "stream",
     "text": [
      "1370\n",
      "./1026/saildrone-gen_5-west_coast_survey_2018-sd1026-20180906T040000-20180906T055959-1_minutes-v2.1536215427522.nc\n",
      "1371\n",
      "./1026/saildrone-gen_5-west_coast_survey_2018-sd1026-20181011T200000-20181011T215959-1_minutes-v2.1539297009785.nc\n",
      "1372\n",
      "./1026/saildrone-gen_5-west_coast_survey_2018-sd1026-20180827T180000-20180827T195959-1_minutes-v2.1535401828462.nc\n"
     ]
    },
    {
     "name": "stderr",
     "output_type": "stream",
     "text": [
      "/Users/senyastein/miniconda3/envs/satenv/lib/python3.7/site-packages/xarray/core/nanops.py:159: RuntimeWarning: Mean of empty slice\n",
      "  return np.nanmean(a, axis=axis, dtype=dtype)\n",
      "/Users/senyastein/miniconda3/envs/satenv/lib/python3.7/site-packages/xarray/core/nanops.py:159: RuntimeWarning: Mean of empty slice\n",
      "  return np.nanmean(a, axis=axis, dtype=dtype)\n",
      "/Users/senyastein/miniconda3/envs/satenv/lib/python3.7/site-packages/xarray/core/nanops.py:159: RuntimeWarning: Mean of empty slice\n",
      "  return np.nanmean(a, axis=axis, dtype=dtype)\n"
     ]
    },
    {
     "name": "stdout",
     "output_type": "stream",
     "text": [
      "1373\n",
      "./1026/saildrone-gen_5-west_coast_survey_2018-sd1026-20180913T020000-20180913T035959-1_minutes-v2.1536813016493.nc\n",
      "1374\n",
      "./1026/saildrone-gen_5-west_coast_survey_2018-sd1026-20181008T040000-20181008T055959-1_minutes-v2.1538980212147.nc\n",
      "1375\n",
      "./1026/saildrone-gen_5-west_coast_survey_2018-sd1026-20180919T160000-20180919T175959-1_minutes-v2.1537381814983.nc\n",
      "1376\n",
      "./1026/saildrone-gen_5-west_coast_survey_2018-sd1026-20180910T040000-20180910T055959-1_minutes-v2.1536561018247.nc\n",
      "1377\n",
      "./1026/saildrone-gen_5-west_coast_survey_2018-sd1026-20180925T220000-20180925T235959-1_minutes-v2.1537921827795.nc\n"
     ]
    },
    {
     "name": "stderr",
     "output_type": "stream",
     "text": [
      "/Users/senyastein/miniconda3/envs/satenv/lib/python3.7/site-packages/xarray/core/nanops.py:159: RuntimeWarning: Mean of empty slice\n",
      "  return np.nanmean(a, axis=axis, dtype=dtype)\n",
      "/Users/senyastein/miniconda3/envs/satenv/lib/python3.7/site-packages/xarray/core/nanops.py:159: RuntimeWarning: Mean of empty slice\n",
      "  return np.nanmean(a, axis=axis, dtype=dtype)\n",
      "/Users/senyastein/miniconda3/envs/satenv/lib/python3.7/site-packages/xarray/core/nanops.py:159: RuntimeWarning: Mean of empty slice\n",
      "  return np.nanmean(a, axis=axis, dtype=dtype)\n"
     ]
    },
    {
     "name": "stdout",
     "output_type": "stream",
     "text": [
      "1378\n",
      "./1026/saildrone-gen_5-west_coast_survey_2018-sd1026-20181025T000000-20181025T015959-1_minutes-v2.1540434612586.nc\n",
      "1379\n",
      "./1026/saildrone-gen_5-west_coast_survey_2018-sd1026-20180712T060000-20180712T115959-1_minutes-v2.1533313740989.nc\n",
      "1380"
     ]
    },
    {
     "name": "stderr",
     "output_type": "stream",
     "text": [
      "/Users/senyastein/miniconda3/envs/satenv/lib/python3.7/site-packages/xarray/core/nanops.py:159: RuntimeWarning: Mean of empty slice\n",
      "  return np.nanmean(a, axis=axis, dtype=dtype)\n",
      "/Users/senyastein/miniconda3/envs/satenv/lib/python3.7/site-packages/xarray/core/nanops.py:159: RuntimeWarning: Mean of empty slice\n",
      "  return np.nanmean(a, axis=axis, dtype=dtype)\n",
      "/Users/senyastein/miniconda3/envs/satenv/lib/python3.7/site-packages/xarray/core/nanops.py:159: RuntimeWarning: Mean of empty slice\n",
      "  return np.nanmean(a, axis=axis, dtype=dtype)\n"
     ]
    },
    {
     "name": "stdout",
     "output_type": "stream",
     "text": [
      "\n",
      "./1026/saildrone-gen_5-west_coast_survey_2018-sd1026-20180921T020000-20180921T035959-1_minutes-v2.1537504230126.nc\n",
      "1381\n",
      "./1026/saildrone-gen_5-west_coast_survey_2018-sd1026-20180920T100000-20180920T115959-1_minutes-v2.1537446628793.nc\n"
     ]
    },
    {
     "name": "stderr",
     "output_type": "stream",
     "text": [
      "/Users/senyastein/miniconda3/envs/satenv/lib/python3.7/site-packages/xarray/core/nanops.py:159: RuntimeWarning: Mean of empty slice\n",
      "  return np.nanmean(a, axis=axis, dtype=dtype)\n",
      "/Users/senyastein/miniconda3/envs/satenv/lib/python3.7/site-packages/xarray/core/nanops.py:159: RuntimeWarning: Mean of empty slice\n",
      "  return np.nanmean(a, axis=axis, dtype=dtype)\n"
     ]
    },
    {
     "name": "stdout",
     "output_type": "stream",
     "text": [
      "1382\n",
      "./1026/saildrone-gen_5-west_coast_survey_2018-sd1026-20181006T060000-20181006T075959-1_minutes-v2.1538814612572.nc\n",
      "1383\n",
      "./1026/saildrone-gen_5-west_coast_survey_2018-sd1026-20180722T120000-20180722T175959-1_minutes-v2.1533317428134.nc\n",
      "1384\n",
      "./1026/saildrone-gen_5-west_coast_survey_2018-sd1026-20181012T120000-20181012T135959-1_minutes-v2.1539354617856.nc\n"
     ]
    },
    {
     "name": "stderr",
     "output_type": "stream",
     "text": [
      "/Users/senyastein/miniconda3/envs/satenv/lib/python3.7/site-packages/xarray/core/nanops.py:159: RuntimeWarning: Mean of empty slice\n",
      "  return np.nanmean(a, axis=axis, dtype=dtype)\n",
      "/Users/senyastein/miniconda3/envs/satenv/lib/python3.7/site-packages/xarray/core/nanops.py:159: RuntimeWarning: Mean of empty slice\n",
      "  return np.nanmean(a, axis=axis, dtype=dtype)\n"
     ]
    },
    {
     "name": "stdout",
     "output_type": "stream",
     "text": [
      "1385\n",
      "./1026/saildrone-gen_5-west_coast_survey_2018-sd1026-20180823T000000-20180823T015959-1_minutes-v2.1534991416864.nc\n",
      "1386\n",
      "./1026/saildrone-gen_5-west_coast_survey_2018-sd1026-20180827T200000-20180827T215959-1_minutes-v2.1535409015735.nc\n"
     ]
    },
    {
     "name": "stderr",
     "output_type": "stream",
     "text": [
      "/Users/senyastein/miniconda3/envs/satenv/lib/python3.7/site-packages/xarray/core/nanops.py:159: RuntimeWarning: Mean of empty slice\n",
      "  return np.nanmean(a, axis=axis, dtype=dtype)\n",
      "/Users/senyastein/miniconda3/envs/satenv/lib/python3.7/site-packages/xarray/core/nanops.py:159: RuntimeWarning: Mean of empty slice\n",
      "  return np.nanmean(a, axis=axis, dtype=dtype)\n",
      "/Users/senyastein/miniconda3/envs/satenv/lib/python3.7/site-packages/xarray/core/nanops.py:159: RuntimeWarning: Mean of empty slice\n",
      "  return np.nanmean(a, axis=axis, dtype=dtype)\n"
     ]
    },
    {
     "name": "stdout",
     "output_type": "stream",
     "text": [
      "1387\n",
      "./1026/saildrone-gen_5-west_coast_survey_2018-sd1026-20181013T000000-20181013T015959-1_minutes-v2.1539397810987.nc\n",
      "1388\n",
      "./1026/saildrone-gen_5-west_coast_survey_2018-sd1026-20181021T220000-20181021T235959-1_minutes-v2.1540168212868.nc\n"
     ]
    },
    {
     "name": "stderr",
     "output_type": "stream",
     "text": [
      "/Users/senyastein/miniconda3/envs/satenv/lib/python3.7/site-packages/xarray/core/nanops.py:159: RuntimeWarning: Mean of empty slice\n",
      "  return np.nanmean(a, axis=axis, dtype=dtype)\n",
      "/Users/senyastein/miniconda3/envs/satenv/lib/python3.7/site-packages/xarray/core/nanops.py:159: RuntimeWarning: Mean of empty slice\n",
      "  return np.nanmean(a, axis=axis, dtype=dtype)\n"
     ]
    },
    {
     "name": "stdout",
     "output_type": "stream",
     "text": [
      "1389\n",
      "./1026/saildrone-gen_5-west_coast_survey_2018-sd1026-20180815T000000-20180815T055959-1_minutes-v2.1534316436206.nc\n",
      "1390\n",
      "./1026/saildrone-gen_5-west_coast_survey_2018-sd1026-20181016T040000-20181016T055959-1_minutes-v2.1539671410833.nc\n"
     ]
    },
    {
     "name": "stderr",
     "output_type": "stream",
     "text": [
      "/Users/senyastein/miniconda3/envs/satenv/lib/python3.7/site-packages/xarray/core/nanops.py:159: RuntimeWarning: Mean of empty slice\n",
      "  return np.nanmean(a, axis=axis, dtype=dtype)\n",
      "/Users/senyastein/miniconda3/envs/satenv/lib/python3.7/site-packages/xarray/core/nanops.py:159: RuntimeWarning: Mean of empty slice\n",
      "  return np.nanmean(a, axis=axis, dtype=dtype)\n"
     ]
    },
    {
     "name": "stdout",
     "output_type": "stream",
     "text": [
      "1391\n",
      "./1026/saildrone-gen_5-west_coast_survey_2018-sd1026-20181024T080000-20181024T095959-1_minutes-v2.1540377054891.nc\n",
      "1392\n",
      "./1026/saildrone-gen_5-west_coast_survey_2018-sd1026-20180912T220000-20180912T235959-1_minutes-v2.1536798616110.nc\n"
     ]
    },
    {
     "name": "stderr",
     "output_type": "stream",
     "text": [
      "/Users/senyastein/miniconda3/envs/satenv/lib/python3.7/site-packages/xarray/core/nanops.py:159: RuntimeWarning: Mean of empty slice\n",
      "  return np.nanmean(a, axis=axis, dtype=dtype)\n",
      "/Users/senyastein/miniconda3/envs/satenv/lib/python3.7/site-packages/xarray/core/nanops.py:159: RuntimeWarning: Mean of empty slice\n",
      "  return np.nanmean(a, axis=axis, dtype=dtype)\n"
     ]
    },
    {
     "name": "stdout",
     "output_type": "stream",
     "text": [
      "1393\n",
      "./1026/saildrone-gen_5-west_coast_survey_2018-sd1026-20181022T220000-20181022T235959-1_minutes-v2.1540254611542.nc\n",
      "1394\n",
      "./1026/saildrone-gen_5-west_coast_survey_2018-sd1026-20180710T180000-20180710T235959-1_minutes-v2.1533313400100.nc\n"
     ]
    },
    {
     "name": "stderr",
     "output_type": "stream",
     "text": [
      "/Users/senyastein/miniconda3/envs/satenv/lib/python3.7/site-packages/xarray/core/nanops.py:159: RuntimeWarning: Mean of empty slice\n",
      "  return np.nanmean(a, axis=axis, dtype=dtype)\n",
      "/Users/senyastein/miniconda3/envs/satenv/lib/python3.7/site-packages/xarray/core/nanops.py:159: RuntimeWarning: Mean of empty slice\n",
      "  return np.nanmean(a, axis=axis, dtype=dtype)\n",
      "/Users/senyastein/miniconda3/envs/satenv/lib/python3.7/site-packages/xarray/core/nanops.py:159: RuntimeWarning: Mean of empty slice\n",
      "  return np.nanmean(a, axis=axis, dtype=dtype)\n"
     ]
    },
    {
     "name": "stdout",
     "output_type": "stream",
     "text": [
      "1395\n",
      "./1026/saildrone-gen_5-west_coast_survey_2018-sd1026-20180808T000000-20180808T055959-1_minutes-v2.1533711637718.nc\n",
      "1396\n",
      "./1026/saildrone-gen_5-west_coast_survey_2018-sd1026-20180803T060000-20180803T115959-1_minutes-v2.1533301239684.nc\n",
      "1397\n",
      "./1026/saildrone-gen_5-west_coast_survey_2018-sd1026-20180907T140000-20180907T155959-1_minutes-v2.1536337814880.nc\n"
     ]
    },
    {
     "name": "stderr",
     "output_type": "stream",
     "text": [
      "/Users/senyastein/miniconda3/envs/satenv/lib/python3.7/site-packages/xarray/core/nanops.py:159: RuntimeWarning: Mean of empty slice\n",
      "  return np.nanmean(a, axis=axis, dtype=dtype)\n",
      "/Users/senyastein/miniconda3/envs/satenv/lib/python3.7/site-packages/xarray/core/nanops.py:159: RuntimeWarning: Mean of empty slice\n",
      "  return np.nanmean(a, axis=axis, dtype=dtype)\n",
      "/Users/senyastein/miniconda3/envs/satenv/lib/python3.7/site-packages/xarray/core/nanops.py:159: RuntimeWarning: Mean of empty slice\n",
      "  return np.nanmean(a, axis=axis, dtype=dtype)\n"
     ]
    },
    {
     "name": "stdout",
     "output_type": "stream",
     "text": [
      "1398\n",
      "./1026/saildrone-gen_5-west_coast_survey_2018-sd1026-20180927T120000-20180927T135959-1_minutes-v2.1538058614645.nc\n",
      "1399\n",
      "./1026/saildrone-gen_5-west_coast_survey_2018-sd1026-20181011T180000-20181011T195959-1_minutes-v2.1539289811677.nc\n",
      "1400\n",
      "./1026/saildrone-gen_5-west_coast_survey_2018-sd1026-20180904T140000-20180904T155959-1_minutes-v2.1536078615074.nc\n",
      "1401\n",
      "./1026/saildrone-gen_5-west_coast_survey_2018-sd1026-20180802T060000-20180802T115959-1_minutes-v2.1533332928259.nc\n",
      "1402\n",
      "./1026/saildrone-gen_5-west_coast_survey_2018-sd1026-20180908T100000-20180908T115959-1_minutes-v2.1536409830436.nc\n"
     ]
    },
    {
     "name": "stderr",
     "output_type": "stream",
     "text": [
      "/Users/senyastein/miniconda3/envs/satenv/lib/python3.7/site-packages/xarray/core/nanops.py:159: RuntimeWarning: Mean of empty slice\n",
      "  return np.nanmean(a, axis=axis, dtype=dtype)\n",
      "/Users/senyastein/miniconda3/envs/satenv/lib/python3.7/site-packages/xarray/core/nanops.py:159: RuntimeWarning: Mean of empty slice\n",
      "  return np.nanmean(a, axis=axis, dtype=dtype)\n",
      "/Users/senyastein/miniconda3/envs/satenv/lib/python3.7/site-packages/xarray/core/nanops.py:159: RuntimeWarning: Mean of empty slice\n",
      "  return np.nanmean(a, axis=axis, dtype=dtype)\n"
     ]
    },
    {
     "name": "stdout",
     "output_type": "stream",
     "text": [
      "1403\n",
      "./1026/saildrone-gen_5-west_coast_survey_2018-sd1026-20181014T000000-20181014T015959-1_minutes-v2.1539815436449.nc\n",
      "1404\n",
      "./1026/saildrone-gen_5-west_coast_survey_2018-sd1026-20180906T000000-20180906T015959-1_minutes-v2.1536201030380.nc\n"
     ]
    },
    {
     "name": "stderr",
     "output_type": "stream",
     "text": [
      "/Users/senyastein/miniconda3/envs/satenv/lib/python3.7/site-packages/xarray/core/nanops.py:159: RuntimeWarning: Mean of empty slice\n",
      "  return np.nanmean(a, axis=axis, dtype=dtype)\n",
      "/Users/senyastein/miniconda3/envs/satenv/lib/python3.7/site-packages/xarray/core/nanops.py:159: RuntimeWarning: Mean of empty slice\n",
      "  return np.nanmean(a, axis=axis, dtype=dtype)\n"
     ]
    },
    {
     "name": "stdout",
     "output_type": "stream",
     "text": [
      "1405\n",
      "./1026/saildrone-gen_5-west_coast_survey_2018-sd1026-20180929T120000-20180929T135959-1_minutes-v2.1538231412368.nc\n",
      "1406\n",
      "./1026/saildrone-gen_5-west_coast_survey_2018-sd1026-20180715T120000-20180715T175959-1_minutes-v2.1533315906575.nc\n"
     ]
    },
    {
     "name": "stderr",
     "output_type": "stream",
     "text": [
      "/Users/senyastein/miniconda3/envs/satenv/lib/python3.7/site-packages/xarray/core/nanops.py:159: RuntimeWarning: Mean of empty slice\n",
      "  return np.nanmean(a, axis=axis, dtype=dtype)\n",
      "/Users/senyastein/miniconda3/envs/satenv/lib/python3.7/site-packages/xarray/core/nanops.py:159: RuntimeWarning: Mean of empty slice\n",
      "  return np.nanmean(a, axis=axis, dtype=dtype)\n",
      "/Users/senyastein/miniconda3/envs/satenv/lib/python3.7/site-packages/xarray/core/nanops.py:159: RuntimeWarning: Mean of empty slice\n",
      "  return np.nanmean(a, axis=axis, dtype=dtype)\n"
     ]
    },
    {
     "name": "stdout",
     "output_type": "stream",
     "text": [
      "1407\n",
      "./1026/saildrone-gen_5-west_coast_survey_2018-sd1026-20180912T080000-20180912T095959-1_minutes-v2.1536748220183.nc\n",
      "1408\n",
      "./1026/saildrone-gen_5-west_coast_survey_2018-sd1026-20181022T180000-20181022T195959-1_minutes-v2.1540240273432.nc\n"
     ]
    },
    {
     "name": "stderr",
     "output_type": "stream",
     "text": [
      "/Users/senyastein/miniconda3/envs/satenv/lib/python3.7/site-packages/xarray/core/nanops.py:159: RuntimeWarning: Mean of empty slice\n",
      "  return np.nanmean(a, axis=axis, dtype=dtype)\n",
      "/Users/senyastein/miniconda3/envs/satenv/lib/python3.7/site-packages/xarray/core/nanops.py:159: RuntimeWarning: Mean of empty slice\n",
      "  return np.nanmean(a, axis=axis, dtype=dtype)\n",
      "/Users/senyastein/miniconda3/envs/satenv/lib/python3.7/site-packages/xarray/core/nanops.py:159: RuntimeWarning: Mean of empty slice\n",
      "  return np.nanmean(a, axis=axis, dtype=dtype)\n"
     ]
    },
    {
     "name": "stdout",
     "output_type": "stream",
     "text": [
      "1409\n",
      "./1026/saildrone-gen_5-west_coast_survey_2018-sd1026-20180922T160000-20180922T175959-1_minutes-v2.1537641014541.nc\n",
      "1410\n",
      "./1026/saildrone-gen_5-west_coast_survey_2018-sd1026-20180721T120000-20180721T175959-1_minutes-v2.1533317238512.nc\n",
      "1411\n",
      "./1026/saildrone-gen_5-west_coast_survey_2018-sd1026-20180830T200000-20180830T215959-1_minutes-v2.1535668215669.nc\n",
      "1412\n",
      "./1026/saildrone-gen_5-west_coast_survey_2018-sd1026-20180820T180000-20180820T235959-1_minutes-v2.1534813234220.nc\n",
      "1413\n",
      "./1026/saildrone-gen_5-west_coast_survey_2018-sd1026-20180804T180000-20180804T235959-1_minutes-v2.1533430831309.nc\n"
     ]
    },
    {
     "name": "stderr",
     "output_type": "stream",
     "text": [
      "/Users/senyastein/miniconda3/envs/satenv/lib/python3.7/site-packages/xarray/core/nanops.py:159: RuntimeWarning: Mean of empty slice\n",
      "  return np.nanmean(a, axis=axis, dtype=dtype)\n",
      "/Users/senyastein/miniconda3/envs/satenv/lib/python3.7/site-packages/xarray/core/nanops.py:159: RuntimeWarning: Mean of empty slice\n",
      "  return np.nanmean(a, axis=axis, dtype=dtype)\n",
      "/Users/senyastein/miniconda3/envs/satenv/lib/python3.7/site-packages/xarray/core/nanops.py:159: RuntimeWarning: Mean of empty slice\n",
      "  return np.nanmean(a, axis=axis, dtype=dtype)\n"
     ]
    },
    {
     "name": "stdout",
     "output_type": "stream",
     "text": [
      "1414\n",
      "./1026/saildrone-gen_5-west_coast_survey_2018-sd1026-20180901T120000-20180901T135959-1_minutes-v2.1535812215835.nc\n",
      "1415\n",
      "./1026/saildrone-gen_5-west_coast_survey_2018-sd1026-20180810T000000-20180810T055959-1_minutes-v2.1533884441067.nc\n",
      "1416\n",
      "./1026/saildrone-gen_5-west_coast_survey_2018-sd1026-20180902T120000-20180902T135959-1_minutes-v2.1535898615161.nc\n"
     ]
    },
    {
     "name": "stderr",
     "output_type": "stream",
     "text": [
      "/Users/senyastein/miniconda3/envs/satenv/lib/python3.7/site-packages/xarray/core/nanops.py:159: RuntimeWarning: Mean of empty slice\n",
      "  return np.nanmean(a, axis=axis, dtype=dtype)\n",
      "/Users/senyastein/miniconda3/envs/satenv/lib/python3.7/site-packages/xarray/core/nanops.py:159: RuntimeWarning: Mean of empty slice\n",
      "  return np.nanmean(a, axis=axis, dtype=dtype)\n",
      "/Users/senyastein/miniconda3/envs/satenv/lib/python3.7/site-packages/xarray/core/nanops.py:159: RuntimeWarning: Mean of empty slice\n",
      "  return np.nanmean(a, axis=axis, dtype=dtype)\n"
     ]
    },
    {
     "name": "stdout",
     "output_type": "stream",
     "text": [
      "1417\n",
      "./1026/saildrone-gen_5-west_coast_survey_2018-sd1026-20181004T160000-20181004T175959-1_minutes-v2.1538677812233.nc\n",
      "1418\n",
      "./1026/saildrone-gen_5-west_coast_survey_2018-sd1026-20181018T020000-20181018T035959-1_minutes-v2.1539837013364.nc\n"
     ]
    },
    {
     "name": "stderr",
     "output_type": "stream",
     "text": [
      "/Users/senyastein/miniconda3/envs/satenv/lib/python3.7/site-packages/xarray/core/nanops.py:159: RuntimeWarning: Mean of empty slice\n",
      "  return np.nanmean(a, axis=axis, dtype=dtype)\n",
      "/Users/senyastein/miniconda3/envs/satenv/lib/python3.7/site-packages/xarray/core/nanops.py:159: RuntimeWarning: Mean of empty slice\n",
      "  return np.nanmean(a, axis=axis, dtype=dtype)\n"
     ]
    },
    {
     "name": "stdout",
     "output_type": "stream",
     "text": [
      "1419\n",
      "./1026/saildrone-gen_5-west_coast_survey_2018-sd1026-20180905T100000-20180905T115959-1_minutes-v2.1536150614613.nc\n",
      "1420\n",
      "./1026/saildrone-gen_5-west_coast_survey_2018-sd1026-20181006T100000-20181006T115959-1_minutes-v2.1538829012745.nc\n"
     ]
    },
    {
     "name": "stderr",
     "output_type": "stream",
     "text": [
      "/Users/senyastein/miniconda3/envs/satenv/lib/python3.7/site-packages/xarray/core/nanops.py:159: RuntimeWarning: Mean of empty slice\n",
      "  return np.nanmean(a, axis=axis, dtype=dtype)\n",
      "/Users/senyastein/miniconda3/envs/satenv/lib/python3.7/site-packages/xarray/core/nanops.py:159: RuntimeWarning: Mean of empty slice\n",
      "  return np.nanmean(a, axis=axis, dtype=dtype)\n"
     ]
    },
    {
     "name": "stdout",
     "output_type": "stream",
     "text": [
      "1421\n",
      "./1026/saildrone-gen_5-west_coast_survey_2018-sd1026-20180721T060000-20180721T115959-1_minutes-v2.1533317167470.nc\n",
      "1422\n",
      "./1026/saildrone-gen_5-west_coast_survey_2018-sd1026-20180907T180000-20180907T195959-1_minutes-v2.1536352226982.nc\n"
     ]
    },
    {
     "name": "stderr",
     "output_type": "stream",
     "text": [
      "/Users/senyastein/miniconda3/envs/satenv/lib/python3.7/site-packages/xarray/core/nanops.py:159: RuntimeWarning: Mean of empty slice\n",
      "  return np.nanmean(a, axis=axis, dtype=dtype)\n",
      "/Users/senyastein/miniconda3/envs/satenv/lib/python3.7/site-packages/xarray/core/nanops.py:159: RuntimeWarning: Mean of empty slice\n",
      "  return np.nanmean(a, axis=axis, dtype=dtype)\n"
     ]
    },
    {
     "name": "stdout",
     "output_type": "stream",
     "text": [
      "1423\n",
      "./1026/saildrone-gen_5-west_coast_survey_2018-sd1026-20180709T000000-20180709T055959-1_minutes-v2.1533313072256.nc\n",
      "1424\n",
      "./1026/saildrone-gen_5-west_coast_survey_2018-sd1026-20180708T180000-20180708T235959-1_minutes-v2.1533313013941.nc\n"
     ]
    },
    {
     "name": "stderr",
     "output_type": "stream",
     "text": [
      "/Users/senyastein/miniconda3/envs/satenv/lib/python3.7/site-packages/xarray/core/nanops.py:159: RuntimeWarning: Mean of empty slice\n",
      "  return np.nanmean(a, axis=axis, dtype=dtype)\n",
      "/Users/senyastein/miniconda3/envs/satenv/lib/python3.7/site-packages/xarray/core/nanops.py:159: RuntimeWarning: Mean of empty slice\n",
      "  return np.nanmean(a, axis=axis, dtype=dtype)\n"
     ]
    },
    {
     "name": "stdout",
     "output_type": "stream",
     "text": [
      "1425\n",
      "./1026/saildrone-gen_5-west_coast_survey_2018-sd1026-20180831T060000-20180831T075959-1_minutes-v2.1535704214717.nc\n",
      "1426\n",
      "./1026/saildrone-gen_5-west_coast_survey_2018-sd1026-20180914T020000-20180914T035959-1_minutes-v2.1536899426378.nc\n"
     ]
    },
    {
     "name": "stderr",
     "output_type": "stream",
     "text": [
      "/Users/senyastein/miniconda3/envs/satenv/lib/python3.7/site-packages/xarray/core/nanops.py:159: RuntimeWarning: Mean of empty slice\n",
      "  return np.nanmean(a, axis=axis, dtype=dtype)\n",
      "/Users/senyastein/miniconda3/envs/satenv/lib/python3.7/site-packages/xarray/core/nanops.py:159: RuntimeWarning: Mean of empty slice\n",
      "  return np.nanmean(a, axis=axis, dtype=dtype)\n"
     ]
    },
    {
     "name": "stdout",
     "output_type": "stream",
     "text": [
      "1427\n",
      "./1026/saildrone-gen_5-west_coast_survey_2018-sd1026-20181003T000000-20181003T015959-1_minutes-v2.1538533824499.nc\n",
      "1428\n",
      "./1026/saildrone-gen_5-west_coast_survey_2018-sd1026-20181001T040000-20181001T055959-1_minutes-v2.1538375412637.nc\n"
     ]
    },
    {
     "name": "stderr",
     "output_type": "stream",
     "text": [
      "/Users/senyastein/miniconda3/envs/satenv/lib/python3.7/site-packages/xarray/core/nanops.py:159: RuntimeWarning: Mean of empty slice\n",
      "  return np.nanmean(a, axis=axis, dtype=dtype)\n",
      "/Users/senyastein/miniconda3/envs/satenv/lib/python3.7/site-packages/xarray/core/nanops.py:159: RuntimeWarning: Mean of empty slice\n",
      "  return np.nanmean(a, axis=axis, dtype=dtype)\n"
     ]
    },
    {
     "name": "stdout",
     "output_type": "stream",
     "text": [
      "1429\n",
      "./1026/saildrone-gen_5-west_coast_survey_2018-sd1026-20181002T120000-20181002T135959-1_minutes-v2.1538490613710.nc\n",
      "1430\n",
      "./1026/saildrone-gen_5-west_coast_survey_2018-sd1026-20180917T020000-20180917T035959-1_minutes-v2.1537158620108.nc\n"
     ]
    },
    {
     "name": "stderr",
     "output_type": "stream",
     "text": [
      "/Users/senyastein/miniconda3/envs/satenv/lib/python3.7/site-packages/xarray/core/nanops.py:159: RuntimeWarning: Mean of empty slice\n",
      "  return np.nanmean(a, axis=axis, dtype=dtype)\n",
      "/Users/senyastein/miniconda3/envs/satenv/lib/python3.7/site-packages/xarray/core/nanops.py:159: RuntimeWarning: Mean of empty slice\n",
      "  return np.nanmean(a, axis=axis, dtype=dtype)\n",
      "/Users/senyastein/miniconda3/envs/satenv/lib/python3.7/site-packages/xarray/core/nanops.py:159: RuntimeWarning: Mean of empty slice\n",
      "  return np.nanmean(a, axis=axis, dtype=dtype)\n"
     ]
    },
    {
     "name": "stdout",
     "output_type": "stream",
     "text": [
      "1431\n",
      "./1026/saildrone-gen_5-west_coast_survey_2018-sd1026-20180920T200000-20180920T215959-1_minutes-v2.1537482616048.nc\n",
      "1432\n",
      "./1026/saildrone-gen_5-west_coast_survey_2018-sd1026-20180711T000000-20180711T055959-1_minutes-v2.1533313468472.nc\n"
     ]
    },
    {
     "name": "stderr",
     "output_type": "stream",
     "text": [
      "/Users/senyastein/miniconda3/envs/satenv/lib/python3.7/site-packages/xarray/core/nanops.py:159: RuntimeWarning: Mean of empty slice\n",
      "  return np.nanmean(a, axis=axis, dtype=dtype)\n",
      "/Users/senyastein/miniconda3/envs/satenv/lib/python3.7/site-packages/xarray/core/nanops.py:159: RuntimeWarning: Mean of empty slice\n",
      "  return np.nanmean(a, axis=axis, dtype=dtype)\n"
     ]
    },
    {
     "name": "stdout",
     "output_type": "stream",
     "text": [
      "1433\n",
      "./1026/saildrone-gen_5-west_coast_survey_2018-sd1026-20181023T100000-20181023T115959-1_minutes-v2.1540297813157.nc\n",
      "1434\n",
      "./1026/saildrone-gen_5-west_coast_survey_2018-sd1026-20180928T080000-20180928T095959-1_minutes-v2.1538130614022.nc\n"
     ]
    },
    {
     "name": "stderr",
     "output_type": "stream",
     "text": [
      "/Users/senyastein/miniconda3/envs/satenv/lib/python3.7/site-packages/xarray/core/nanops.py:159: RuntimeWarning: Mean of empty slice\n",
      "  return np.nanmean(a, axis=axis, dtype=dtype)\n",
      "/Users/senyastein/miniconda3/envs/satenv/lib/python3.7/site-packages/xarray/core/nanops.py:159: RuntimeWarning: Mean of empty slice\n",
      "  return np.nanmean(a, axis=axis, dtype=dtype)\n"
     ]
    },
    {
     "name": "stdout",
     "output_type": "stream",
     "text": [
      "1435\n",
      "./1026/saildrone-gen_5-west_coast_survey_2018-sd1026-20181014T020000-20181014T035959-1_minutes-v2.1539491409905.nc\n",
      "1436\n",
      "./1026/saildrone-gen_5-west_coast_survey_2018-sd1026-20180828T060000-20180828T075959-1_minutes-v2.1535445027421.nc\n"
     ]
    },
    {
     "name": "stderr",
     "output_type": "stream",
     "text": [
      "/Users/senyastein/miniconda3/envs/satenv/lib/python3.7/site-packages/xarray/core/nanops.py:159: RuntimeWarning: Mean of empty slice\n",
      "  return np.nanmean(a, axis=axis, dtype=dtype)\n",
      "/Users/senyastein/miniconda3/envs/satenv/lib/python3.7/site-packages/xarray/core/nanops.py:159: RuntimeWarning: Mean of empty slice\n",
      "  return np.nanmean(a, axis=axis, dtype=dtype)\n"
     ]
    },
    {
     "name": "stdout",
     "output_type": "stream",
     "text": [
      "1437\n",
      "./1026/saildrone-gen_5-west_coast_survey_2018-sd1026-20180906T200000-20180906T215959-1_minutes-v2.1536273032607.nc\n",
      "1438\n",
      "./1026/saildrone-gen_5-west_coast_survey_2018-sd1026-20181017T020000-20181017T035959-1_minutes-v2.1539750614756.nc\n"
     ]
    },
    {
     "name": "stderr",
     "output_type": "stream",
     "text": [
      "/Users/senyastein/miniconda3/envs/satenv/lib/python3.7/site-packages/xarray/core/nanops.py:159: RuntimeWarning: Mean of empty slice\n",
      "  return np.nanmean(a, axis=axis, dtype=dtype)\n",
      "/Users/senyastein/miniconda3/envs/satenv/lib/python3.7/site-packages/xarray/core/nanops.py:159: RuntimeWarning: Mean of empty slice\n",
      "  return np.nanmean(a, axis=axis, dtype=dtype)\n",
      "/Users/senyastein/miniconda3/envs/satenv/lib/python3.7/site-packages/xarray/core/nanops.py:159: RuntimeWarning: Mean of empty slice\n",
      "  return np.nanmean(a, axis=axis, dtype=dtype)\n"
     ]
    },
    {
     "name": "stdout",
     "output_type": "stream",
     "text": [
      "1439\n",
      "./1026/saildrone-gen_5-west_coast_survey_2018-sd1026-20180902T040000-20180902T055959-1_minutes-v2.1535869828230.nc\n",
      "1440\n",
      "./1026/saildrone-gen_5-west_coast_survey_2018-sd1026-20181019T120000-20181019T135959-1_minutes-v2.1539959413246.nc\n",
      "1441\n",
      "./1026/saildrone-gen_5-west_coast_survey_2018-sd1026-20180814T000000-20180814T055959-1_minutes-v2.1534230036003.nc\n",
      "1442\n",
      "./1026/saildrone-gen_5-west_coast_survey_2018-sd1026-20180829T060000-20180829T075959-1_minutes-v2.1535531416131.nc\n",
      "1443\n"
     ]
    },
    {
     "name": "stderr",
     "output_type": "stream",
     "text": [
      "/Users/senyastein/miniconda3/envs/satenv/lib/python3.7/site-packages/xarray/core/nanops.py:159: RuntimeWarning: Mean of empty slice\n",
      "  return np.nanmean(a, axis=axis, dtype=dtype)\n",
      "/Users/senyastein/miniconda3/envs/satenv/lib/python3.7/site-packages/xarray/core/nanops.py:159: RuntimeWarning: Mean of empty slice\n",
      "  return np.nanmean(a, axis=axis, dtype=dtype)\n",
      "/Users/senyastein/miniconda3/envs/satenv/lib/python3.7/site-packages/xarray/core/nanops.py:159: RuntimeWarning: Mean of empty slice\n",
      "  return np.nanmean(a, axis=axis, dtype=dtype)\n"
     ]
    },
    {
     "name": "stdout",
     "output_type": "stream",
     "text": [
      "./1026/saildrone-gen_5-west_coast_survey_2018-sd1026-20181004T120000-20181004T135959-1_minutes-v2.1538663413379.nc\n",
      "1444\n",
      "./1026/saildrone-gen_5-west_coast_survey_2018-sd1026-20180903T160000-20180903T175959-1_minutes-v2.1535999415297.nc\n",
      "1445\n",
      "./1026/saildrone-gen_5-west_coast_survey_2018-sd1026-20180822T120000-20180822T175959-1_minutes-v2.1534965314669.nc\n"
     ]
    },
    {
     "name": "stderr",
     "output_type": "stream",
     "text": [
      "/Users/senyastein/miniconda3/envs/satenv/lib/python3.7/site-packages/xarray/core/nanops.py:159: RuntimeWarning: Mean of empty slice\n",
      "  return np.nanmean(a, axis=axis, dtype=dtype)\n",
      "/Users/senyastein/miniconda3/envs/satenv/lib/python3.7/site-packages/xarray/core/nanops.py:159: RuntimeWarning: Mean of empty slice\n",
      "  return np.nanmean(a, axis=axis, dtype=dtype)\n"
     ]
    },
    {
     "name": "stdout",
     "output_type": "stream",
     "text": [
      "1446\n",
      "./1026/saildrone-gen_5-west_coast_survey_2018-sd1026-20180912T000000-20180912T015959-1_minutes-v2.1536719415954.nc\n",
      "1447\n",
      "./1026/saildrone-gen_5-west_coast_survey_2018-sd1026-20180930T100000-20180930T115959-1_minutes-v2.1538310613152.nc\n",
      "1448\n"
     ]
    },
    {
     "name": "stderr",
     "output_type": "stream",
     "text": [
      "/Users/senyastein/miniconda3/envs/satenv/lib/python3.7/site-packages/xarray/core/nanops.py:159: RuntimeWarning: Mean of empty slice\n",
      "  return np.nanmean(a, axis=axis, dtype=dtype)\n",
      "/Users/senyastein/miniconda3/envs/satenv/lib/python3.7/site-packages/xarray/core/nanops.py:159: RuntimeWarning: Mean of empty slice\n",
      "  return np.nanmean(a, axis=axis, dtype=dtype)\n"
     ]
    },
    {
     "name": "stdout",
     "output_type": "stream",
     "text": [
      "./1026/saildrone-gen_5-west_coast_survey_2018-sd1026-20180902T020000-20180902T035959-1_minutes-v2.1535862613946.nc\n",
      "1449\n",
      "./1026/saildrone-gen_5-west_coast_survey_2018-sd1026-20181008T080000-20181008T095959-1_minutes-v2.1538994612229.nc\n",
      "1450\n",
      "./1026/saildrone-gen_5-west_coast_survey_2018-sd1026-20180910T120000-20180910T135959-1_minutes-v2.1536589814819.nc\n"
     ]
    },
    {
     "name": "stderr",
     "output_type": "stream",
     "text": [
      "/Users/senyastein/miniconda3/envs/satenv/lib/python3.7/site-packages/xarray/core/nanops.py:159: RuntimeWarning: Mean of empty slice\n",
      "  return np.nanmean(a, axis=axis, dtype=dtype)\n",
      "/Users/senyastein/miniconda3/envs/satenv/lib/python3.7/site-packages/xarray/core/nanops.py:159: RuntimeWarning: Mean of empty slice\n",
      "  return np.nanmean(a, axis=axis, dtype=dtype)\n",
      "/Users/senyastein/miniconda3/envs/satenv/lib/python3.7/site-packages/xarray/core/nanops.py:159: RuntimeWarning: Mean of empty slice\n",
      "  return np.nanmean(a, axis=axis, dtype=dtype)\n"
     ]
    },
    {
     "name": "stdout",
     "output_type": "stream",
     "text": [
      "1451\n",
      "./1026/saildrone-gen_5-west_coast_survey_2018-sd1026-20181004T000000-20181004T015959-1_minutes-v2.1538620223648.nc\n",
      "1452\n",
      "./1026/saildrone-gen_5-west_coast_survey_2018-sd1026-20180824T080000-20180824T095959-1_minutes-v2.1535106616080.nc\n",
      "1453\n",
      "./1026/saildrone-gen_5-west_coast_survey_2018-sd1026-20180926T140000-20180926T155959-1_minutes-v2.1537979416331.nc\n"
     ]
    },
    {
     "name": "stderr",
     "output_type": "stream",
     "text": [
      "/Users/senyastein/miniconda3/envs/satenv/lib/python3.7/site-packages/xarray/core/nanops.py:159: RuntimeWarning: Mean of empty slice\n",
      "  return np.nanmean(a, axis=axis, dtype=dtype)\n",
      "/Users/senyastein/miniconda3/envs/satenv/lib/python3.7/site-packages/xarray/core/nanops.py:159: RuntimeWarning: Mean of empty slice\n",
      "  return np.nanmean(a, axis=axis, dtype=dtype)\n",
      "/Users/senyastein/miniconda3/envs/satenv/lib/python3.7/site-packages/xarray/core/nanops.py:159: RuntimeWarning: Mean of empty slice\n",
      "  return np.nanmean(a, axis=axis, dtype=dtype)\n"
     ]
    },
    {
     "name": "stdout",
     "output_type": "stream",
     "text": [
      "1454\n",
      "./1026/saildrone-gen_5-west_coast_survey_2018-sd1026-20180713T180000-20180713T235959-1_minutes-v2.1533314066735.nc\n",
      "1455\n",
      "./1026/saildrone-gen_5-west_coast_survey_2018-sd1026-20180923T120000-20180923T135959-1_minutes-v2.1537713014624.nc\n",
      "1456\n",
      "./1026/saildrone-gen_5-west_coast_survey_2018-sd1026-20180805T180000-20180805T235959-1_minutes-v2.1533517230779.nc\n"
     ]
    },
    {
     "name": "stderr",
     "output_type": "stream",
     "text": [
      "/Users/senyastein/miniconda3/envs/satenv/lib/python3.7/site-packages/xarray/core/nanops.py:159: RuntimeWarning: Mean of empty slice\n",
      "  return np.nanmean(a, axis=axis, dtype=dtype)\n",
      "/Users/senyastein/miniconda3/envs/satenv/lib/python3.7/site-packages/xarray/core/nanops.py:159: RuntimeWarning: Mean of empty slice\n",
      "  return np.nanmean(a, axis=axis, dtype=dtype)\n",
      "/Users/senyastein/miniconda3/envs/satenv/lib/python3.7/site-packages/xarray/core/nanops.py:159: RuntimeWarning: Mean of empty slice\n",
      "  return np.nanmean(a, axis=axis, dtype=dtype)\n",
      "/Users/senyastein/miniconda3/envs/satenv/lib/python3.7/site-packages/xarray/core/nanops.py:159: RuntimeWarning: Mean of empty slice\n",
      "  return np.nanmean(a, axis=axis, dtype=dtype)\n"
     ]
    },
    {
     "name": "stdout",
     "output_type": "stream",
     "text": [
      "1457\n",
      "./1026/saildrone-gen_5-west_coast_survey_2018-sd1026-20181011T100000-20181011T115959-1_minutes-v2.1539261010682.nc\n",
      "1458\n",
      "./1026/saildrone-gen_5-west_coast_survey_2018-sd1026-20180912T200000-20180912T215959-1_minutes-v2.1536791430520.nc\n"
     ]
    },
    {
     "name": "stderr",
     "output_type": "stream",
     "text": [
      "/Users/senyastein/miniconda3/envs/satenv/lib/python3.7/site-packages/xarray/core/nanops.py:159: RuntimeWarning: Mean of empty slice\n",
      "  return np.nanmean(a, axis=axis, dtype=dtype)\n",
      "/Users/senyastein/miniconda3/envs/satenv/lib/python3.7/site-packages/xarray/core/nanops.py:159: RuntimeWarning: Mean of empty slice\n",
      "  return np.nanmean(a, axis=axis, dtype=dtype)\n",
      "/Users/senyastein/miniconda3/envs/satenv/lib/python3.7/site-packages/xarray/core/nanops.py:159: RuntimeWarning: Mean of empty slice\n",
      "  return np.nanmean(a, axis=axis, dtype=dtype)\n"
     ]
    },
    {
     "name": "stdout",
     "output_type": "stream",
     "text": [
      "1459\n",
      "./1026/saildrone-gen_5-west_coast_survey_2018-sd1026-20180913T080000-20180913T095959-1_minutes-v2.1536834623077.nc\n",
      "1460\n",
      "./1026/saildrone-gen_5-west_coast_survey_2018-sd1026-20181014T200000-20181014T215959-1_minutes-v2.1539556210825.nc\n",
      "1461\n",
      "./1026/saildrone-gen_5-west_coast_survey_2018-sd1026-20180918T080000-20180918T095959-1_minutes-v2.1537266615873.nc\n",
      "1462\n",
      "./1026/saildrone-gen_5-west_coast_survey_2018-sd1026-20181012T140000-20181012T155959-1_minutes-v2.1539361810041.nc\n"
     ]
    },
    {
     "name": "stderr",
     "output_type": "stream",
     "text": [
      "/Users/senyastein/miniconda3/envs/satenv/lib/python3.7/site-packages/xarray/core/nanops.py:159: RuntimeWarning: Mean of empty slice\n",
      "  return np.nanmean(a, axis=axis, dtype=dtype)\n",
      "/Users/senyastein/miniconda3/envs/satenv/lib/python3.7/site-packages/xarray/core/nanops.py:159: RuntimeWarning: Mean of empty slice\n",
      "  return np.nanmean(a, axis=axis, dtype=dtype)\n",
      "/Users/senyastein/miniconda3/envs/satenv/lib/python3.7/site-packages/xarray/core/nanops.py:159: RuntimeWarning: Mean of empty slice\n",
      "  return np.nanmean(a, axis=axis, dtype=dtype)\n"
     ]
    },
    {
     "name": "stdout",
     "output_type": "stream",
     "text": [
      "1463\n",
      "./1026/saildrone-gen_5-west_coast_survey_2018-sd1026-20180901T020000-20180901T035959-1_minutes-v2.1535776215491.nc\n",
      "1464\n",
      "./1026/saildrone-gen_5-west_coast_survey_2018-sd1026-20181008T220000-20181008T235959-1_minutes-v2.1539045010392.nc\n",
      "1465\n",
      "./1026/saildrone-gen_5-west_coast_survey_2018-sd1026-20180921T220000-20180921T235959-1_minutes-v2.1537576226687.nc\n"
     ]
    },
    {
     "name": "stderr",
     "output_type": "stream",
     "text": [
      "/Users/senyastein/miniconda3/envs/satenv/lib/python3.7/site-packages/xarray/core/nanops.py:159: RuntimeWarning: Mean of empty slice\n",
      "  return np.nanmean(a, axis=axis, dtype=dtype)\n",
      "/Users/senyastein/miniconda3/envs/satenv/lib/python3.7/site-packages/xarray/core/nanops.py:159: RuntimeWarning: Mean of empty slice\n",
      "  return np.nanmean(a, axis=axis, dtype=dtype)\n",
      "/Users/senyastein/miniconda3/envs/satenv/lib/python3.7/site-packages/xarray/core/nanops.py:159: RuntimeWarning: Mean of empty slice\n",
      "  return np.nanmean(a, axis=axis, dtype=dtype)\n"
     ]
    },
    {
     "name": "stdout",
     "output_type": "stream",
     "text": [
      "1466\n",
      "./1026/saildrone-gen_5-west_coast_survey_2018-sd1026-20180816T000000-20180816T055959-1_minutes-v2.1534402835516.nc\n",
      "1467\n",
      "./1026/saildrone-gen_5-west_coast_survey_2018-sd1026-20180718T180000-20180718T235959-1_minutes-v2.1533316599754.nc\n"
     ]
    },
    {
     "name": "stderr",
     "output_type": "stream",
     "text": [
      "/Users/senyastein/miniconda3/envs/satenv/lib/python3.7/site-packages/xarray/core/nanops.py:159: RuntimeWarning: Mean of empty slice\n",
      "  return np.nanmean(a, axis=axis, dtype=dtype)\n",
      "/Users/senyastein/miniconda3/envs/satenv/lib/python3.7/site-packages/xarray/core/nanops.py:159: RuntimeWarning: Mean of empty slice\n",
      "  return np.nanmean(a, axis=axis, dtype=dtype)\n",
      "/Users/senyastein/miniconda3/envs/satenv/lib/python3.7/site-packages/xarray/core/nanops.py:159: RuntimeWarning: Mean of empty slice\n",
      "  return np.nanmean(a, axis=axis, dtype=dtype)\n"
     ]
    },
    {
     "name": "stdout",
     "output_type": "stream",
     "text": [
      "1468\n",
      "./1026/saildrone-gen_5-west_coast_survey_2018-sd1026-20181023T080000-20181023T095959-1_minutes-v2.1540290612241.nc\n",
      "1469\n",
      "./1026/saildrone-gen_5-west_coast_survey_2018-sd1026-20181014T180000-20181014T195959-1_minutes-v2.1539549010120.nc\n",
      "1470\n",
      "./1026/saildrone-gen_5-west_coast_survey_2018-sd1026-20181018T220000-20181018T235959-1_minutes-v2.1539909012017.nc\n"
     ]
    },
    {
     "name": "stderr",
     "output_type": "stream",
     "text": [
      "/Users/senyastein/miniconda3/envs/satenv/lib/python3.7/site-packages/xarray/core/nanops.py:159: RuntimeWarning: Mean of empty slice\n",
      "  return np.nanmean(a, axis=axis, dtype=dtype)\n",
      "/Users/senyastein/miniconda3/envs/satenv/lib/python3.7/site-packages/xarray/core/nanops.py:159: RuntimeWarning: Mean of empty slice\n",
      "  return np.nanmean(a, axis=axis, dtype=dtype)\n"
     ]
    },
    {
     "name": "stdout",
     "output_type": "stream",
     "text": [
      "1471\n",
      "./1026/saildrone-gen_5-west_coast_survey_2018-sd1026-20181007T060000-20181007T075959-1_minutes-v2.1538901012379.nc\n",
      "1472\n",
      "./1026/saildrone-gen_5-west_coast_survey_2018-sd1026-20180929T060000-20180929T075959-1_minutes-v2.1538209813139.nc\n"
     ]
    },
    {
     "name": "stderr",
     "output_type": "stream",
     "text": [
      "/Users/senyastein/miniconda3/envs/satenv/lib/python3.7/site-packages/xarray/core/nanops.py:159: RuntimeWarning: Mean of empty slice\n",
      "  return np.nanmean(a, axis=axis, dtype=dtype)\n",
      "/Users/senyastein/miniconda3/envs/satenv/lib/python3.7/site-packages/xarray/core/nanops.py:159: RuntimeWarning: Mean of empty slice\n",
      "  return np.nanmean(a, axis=axis, dtype=dtype)\n"
     ]
    },
    {
     "name": "stdout",
     "output_type": "stream",
     "text": [
      "1473\n",
      "./1028\n",
      "1474\n",
      "./1028/saildrone-gen_5-west_coast_survey_2018-sd1028-20180925T180000-20180925T195959-1_minutes-v2.1537907416601.nc\n"
     ]
    },
    {
     "name": "stderr",
     "output_type": "stream",
     "text": [
      "/Users/senyastein/miniconda3/envs/satenv/lib/python3.7/site-packages/xarray/core/nanops.py:159: RuntimeWarning: Mean of empty slice\n",
      "  return np.nanmean(a, axis=axis, dtype=dtype)\n",
      "/Users/senyastein/miniconda3/envs/satenv/lib/python3.7/site-packages/xarray/core/nanops.py:159: RuntimeWarning: Mean of empty slice\n",
      "  return np.nanmean(a, axis=axis, dtype=dtype)\n"
     ]
    },
    {
     "name": "stdout",
     "output_type": "stream",
     "text": [
      "1475\n",
      "./1028/saildrone-gen_5-west_coast_survey_2018-sd1028-20180922T140000-20180922T155959-1_minutes-v2.1537633815185.nc\n",
      "1476\n",
      "./1028/saildrone-gen_5-west_coast_survey_2018-sd1028-20180909T160000-20180909T175959-1_minutes-v2.1536517816080.nc\n"
     ]
    },
    {
     "name": "stderr",
     "output_type": "stream",
     "text": [
      "/Users/senyastein/miniconda3/envs/satenv/lib/python3.7/site-packages/xarray/core/nanops.py:159: RuntimeWarning: Mean of empty slice\n",
      "  return np.nanmean(a, axis=axis, dtype=dtype)\n",
      "/Users/senyastein/miniconda3/envs/satenv/lib/python3.7/site-packages/xarray/core/nanops.py:159: RuntimeWarning: Mean of empty slice\n",
      "  return np.nanmean(a, axis=axis, dtype=dtype)\n"
     ]
    },
    {
     "name": "stdout",
     "output_type": "stream",
     "text": [
      "1477\n",
      "./1028/saildrone-gen_5-west_coast_survey_2018-sd1028-20180730T120000-20180730T175959-1_minutes-v2.1533320546824.nc\n",
      "1478\n",
      "./1028/saildrone-gen_5-west_coast_survey_2018-sd1028-20180813T000000-20180813T055959-1_minutes-v2.1534143674257.nc\n"
     ]
    },
    {
     "name": "stderr",
     "output_type": "stream",
     "text": [
      "/Users/senyastein/miniconda3/envs/satenv/lib/python3.7/site-packages/xarray/core/nanops.py:159: RuntimeWarning: Mean of empty slice\n",
      "  return np.nanmean(a, axis=axis, dtype=dtype)\n",
      "/Users/senyastein/miniconda3/envs/satenv/lib/python3.7/site-packages/xarray/core/nanops.py:159: RuntimeWarning: Mean of empty slice\n",
      "  return np.nanmean(a, axis=axis, dtype=dtype)\n"
     ]
    },
    {
     "name": "stdout",
     "output_type": "stream",
     "text": [
      "1479\n",
      "./1028/saildrone-gen_5-west_coast_survey_2018-sd1028-20180925T200000-20180925T215959-1_minutes-v2.1537914616124.nc\n",
      "1480\n",
      "./1028/saildrone-gen_5-west_coast_survey_2018-sd1028-20180627T060000-20180627T115959-1_minutes-v2.1533312919725.nc\n"
     ]
    },
    {
     "name": "stderr",
     "output_type": "stream",
     "text": [
      "/Users/senyastein/miniconda3/envs/satenv/lib/python3.7/site-packages/xarray/core/nanops.py:159: RuntimeWarning: Mean of empty slice\n",
      "  return np.nanmean(a, axis=axis, dtype=dtype)\n",
      "/Users/senyastein/miniconda3/envs/satenv/lib/python3.7/site-packages/xarray/core/nanops.py:159: RuntimeWarning: Mean of empty slice\n",
      "  return np.nanmean(a, axis=axis, dtype=dtype)\n"
     ]
    },
    {
     "name": "stdout",
     "output_type": "stream",
     "text": [
      "1481\n",
      "./1028/saildrone-gen_5-west_coast_survey_2018-sd1028-20180829T060000-20180829T075959-1_minutes-v2.1535531415780.nc\n",
      "1482\n",
      "./1028/saildrone-gen_5-west_coast_survey_2018-sd1028-20180627T000000-20180627T055959-1_minutes-v2.1533312871966.nc\n"
     ]
    },
    {
     "name": "stderr",
     "output_type": "stream",
     "text": [
      "/Users/senyastein/miniconda3/envs/satenv/lib/python3.7/site-packages/xarray/core/nanops.py:159: RuntimeWarning: Mean of empty slice\n",
      "  return np.nanmean(a, axis=axis, dtype=dtype)\n",
      "/Users/senyastein/miniconda3/envs/satenv/lib/python3.7/site-packages/xarray/core/nanops.py:159: RuntimeWarning: Mean of empty slice\n",
      "  return np.nanmean(a, axis=axis, dtype=dtype)\n"
     ]
    },
    {
     "name": "stdout",
     "output_type": "stream",
     "text": [
      "1483\n",
      "./1028/saildrone-gen_5-west_coast_survey_2018-sd1028-20180628T060000-20180628T115959-1_minutes-v2.1533753325983.nc\n",
      "1484\n",
      "./1028/saildrone-gen_5-west_coast_survey_2018-sd1028-20180715T180000-20180715T235959-1_minutes-v2.1533317137172.nc\n"
     ]
    },
    {
     "name": "stderr",
     "output_type": "stream",
     "text": [
      "/Users/senyastein/miniconda3/envs/satenv/lib/python3.7/site-packages/xarray/core/nanops.py:159: RuntimeWarning: Mean of empty slice\n",
      "  return np.nanmean(a, axis=axis, dtype=dtype)\n",
      "/Users/senyastein/miniconda3/envs/satenv/lib/python3.7/site-packages/xarray/core/nanops.py:159: RuntimeWarning: Mean of empty slice\n",
      "  return np.nanmean(a, axis=axis, dtype=dtype)\n"
     ]
    },
    {
     "name": "stdout",
     "output_type": "stream",
     "text": [
      "1485\n",
      "./1028/saildrone-gen_5-west_coast_survey_2018-sd1028-20180729T120000-20180729T175959-1_minutes-v2.1533320313869.nc\n",
      "1486\n",
      "./1028/saildrone-gen_5-west_coast_survey_2018-sd1028-20180809T060000-20180809T115959-1_minutes-v2.1533819638618.nc\n",
      "1487\n"
     ]
    },
    {
     "name": "stderr",
     "output_type": "stream",
     "text": [
      "/Users/senyastein/miniconda3/envs/satenv/lib/python3.7/site-packages/xarray/core/nanops.py:159: RuntimeWarning: Mean of empty slice\n",
      "  return np.nanmean(a, axis=axis, dtype=dtype)\n",
      "/Users/senyastein/miniconda3/envs/satenv/lib/python3.7/site-packages/xarray/core/nanops.py:159: RuntimeWarning: Mean of empty slice\n",
      "  return np.nanmean(a, axis=axis, dtype=dtype)\n",
      "/Users/senyastein/miniconda3/envs/satenv/lib/python3.7/site-packages/xarray/core/nanops.py:159: RuntimeWarning: Mean of empty slice\n",
      "  return np.nanmean(a, axis=axis, dtype=dtype)\n"
     ]
    },
    {
     "name": "stdout",
     "output_type": "stream",
     "text": [
      "./1028/saildrone-gen_5-west_coast_survey_2018-sd1028-20180808T120000-20180808T175959-1_minutes-v2.1533754841762.nc\n",
      "1488\n",
      "./1028/saildrone-gen_5-west_coast_survey_2018-sd1028-20181004T140000-20181004T155959-1_minutes-v2.1538670612915.nc\n",
      "1489\n",
      "./1028/saildrone-gen_5-west_coast_survey_2018-sd1028-20180909T100000-20180909T115959-1_minutes-v2.1536496216250.nc\n",
      "1490\n",
      "./1028/saildrone-gen_5-west_coast_survey_2018-sd1028-20180920T080000-20180920T095959-1_minutes-v2.1537439427954.nc\n",
      "1491\n",
      "./1028/saildrone-gen_5-west_coast_survey_2018-sd1028-20180831T180000-20180831T195959-1_minutes-v2.1535747415802.nc\n"
     ]
    },
    {
     "name": "stderr",
     "output_type": "stream",
     "text": [
      "/Users/senyastein/miniconda3/envs/satenv/lib/python3.7/site-packages/xarray/core/nanops.py:159: RuntimeWarning: Mean of empty slice\n",
      "  return np.nanmean(a, axis=axis, dtype=dtype)\n",
      "/Users/senyastein/miniconda3/envs/satenv/lib/python3.7/site-packages/xarray/core/nanops.py:159: RuntimeWarning: Mean of empty slice\n",
      "  return np.nanmean(a, axis=axis, dtype=dtype)\n",
      "/Users/senyastein/miniconda3/envs/satenv/lib/python3.7/site-packages/xarray/core/nanops.py:159: RuntimeWarning: Mean of empty slice\n",
      "  return np.nanmean(a, axis=axis, dtype=dtype)\n"
     ]
    },
    {
     "name": "stdout",
     "output_type": "stream",
     "text": [
      "1492\n",
      "./1028/saildrone-gen_5-west_coast_survey_2018-sd1028-20181001T180000-20181001T195959-1_minutes-v2.1538425813401.nc\n",
      "1493\n",
      "./1028/saildrone-gen_5-west_coast_survey_2018-sd1028-20180705T000000-20180705T055959-1_minutes-v2.1533314648465.nc\n",
      "1494\n",
      "./1028/saildrone-gen_5-west_coast_survey_2018-sd1028-20180916T080000-20180916T095959-1_minutes-v2.1537093815892.nc\n"
     ]
    },
    {
     "name": "stderr",
     "output_type": "stream",
     "text": [
      "/Users/senyastein/miniconda3/envs/satenv/lib/python3.7/site-packages/xarray/core/nanops.py:159: RuntimeWarning: Mean of empty slice\n",
      "  return np.nanmean(a, axis=axis, dtype=dtype)\n",
      "/Users/senyastein/miniconda3/envs/satenv/lib/python3.7/site-packages/xarray/core/nanops.py:159: RuntimeWarning: Mean of empty slice\n",
      "  return np.nanmean(a, axis=axis, dtype=dtype)\n",
      "/Users/senyastein/miniconda3/envs/satenv/lib/python3.7/site-packages/xarray/core/nanops.py:159: RuntimeWarning: Mean of empty slice\n",
      "  return np.nanmean(a, axis=axis, dtype=dtype)\n"
     ]
    },
    {
     "name": "stdout",
     "output_type": "stream",
     "text": [
      "1495\n",
      "./1028/saildrone-gen_5-west_coast_survey_2018-sd1028-20180725T060000-20180725T115959-1_minutes-v2.1533319352149.nc\n",
      "1496\n",
      "./1028/saildrone-gen_5-west_coast_survey_2018-sd1028-20180921T160000-20180921T175959-1_minutes-v2.1537554615621.nc\n",
      "1497\n",
      "./1028/saildrone-gen_5-west_coast_survey_2018-sd1028-20180707T000000-20180707T055959-1_minutes-v2.1533315098530.nc\n"
     ]
    },
    {
     "name": "stderr",
     "output_type": "stream",
     "text": [
      "/Users/senyastein/miniconda3/envs/satenv/lib/python3.7/site-packages/xarray/core/nanops.py:159: RuntimeWarning: Mean of empty slice\n",
      "  return np.nanmean(a, axis=axis, dtype=dtype)\n",
      "/Users/senyastein/miniconda3/envs/satenv/lib/python3.7/site-packages/xarray/core/nanops.py:159: RuntimeWarning: Mean of empty slice\n",
      "  return np.nanmean(a, axis=axis, dtype=dtype)\n",
      "/Users/senyastein/miniconda3/envs/satenv/lib/python3.7/site-packages/xarray/core/nanops.py:159: RuntimeWarning: Mean of empty slice\n",
      "  return np.nanmean(a, axis=axis, dtype=dtype)\n"
     ]
    },
    {
     "name": "stdout",
     "output_type": "stream",
     "text": [
      "1498\n",
      "./1028/saildrone-gen_5-west_coast_survey_2018-sd1028-20180918T180000-20180918T195959-1_minutes-v2.1537302615057.nc\n",
      "1499\n",
      "./1028/saildrone-gen_5-west_coast_survey_2018-sd1028-20180910T040000-20180910T055959-1_minutes-v2.1536561032578.nc\n"
     ]
    },
    {
     "name": "stderr",
     "output_type": "stream",
     "text": [
      "/Users/senyastein/miniconda3/envs/satenv/lib/python3.7/site-packages/xarray/core/nanops.py:159: RuntimeWarning: Mean of empty slice\n",
      "  return np.nanmean(a, axis=axis, dtype=dtype)\n",
      "/Users/senyastein/miniconda3/envs/satenv/lib/python3.7/site-packages/xarray/core/nanops.py:159: RuntimeWarning: Mean of empty slice\n",
      "  return np.nanmean(a, axis=axis, dtype=dtype)\n"
     ]
    },
    {
     "name": "stdout",
     "output_type": "stream",
     "text": [
      "1500\n",
      "./1028/saildrone-gen_5-west_coast_survey_2018-sd1028-20181002T040000-20181002T055959-1_minutes-v2.1538461812878.nc\n",
      "1501\n",
      "./1028/saildrone-gen_5-west_coast_survey_2018-sd1028-20180720T060000-20180720T115959-1_minutes-v2.1533318204050.nc\n"
     ]
    },
    {
     "name": "stderr",
     "output_type": "stream",
     "text": [
      "/Users/senyastein/miniconda3/envs/satenv/lib/python3.7/site-packages/xarray/core/nanops.py:159: RuntimeWarning: Mean of empty slice\n",
      "  return np.nanmean(a, axis=axis, dtype=dtype)\n",
      "/Users/senyastein/miniconda3/envs/satenv/lib/python3.7/site-packages/xarray/core/nanops.py:159: RuntimeWarning: Mean of empty slice\n",
      "  return np.nanmean(a, axis=axis, dtype=dtype)\n",
      "/Users/senyastein/miniconda3/envs/satenv/lib/python3.7/site-packages/xarray/core/nanops.py:159: RuntimeWarning: Mean of empty slice\n",
      "  return np.nanmean(a, axis=axis, dtype=dtype)\n"
     ]
    },
    {
     "name": "stdout",
     "output_type": "stream",
     "text": [
      "1502\n",
      "./1028/saildrone-gen_5-west_coast_survey_2018-sd1028-20180917T160000-20180917T175959-1_minutes-v2.1537209015549.nc\n",
      "1503\n",
      "./1028/saildrone-gen_5-west_coast_survey_2018-sd1028-20180911T000000-20180911T015959-1_minutes-v2.1536633016150.nc\n"
     ]
    },
    {
     "name": "stderr",
     "output_type": "stream",
     "text": [
      "/Users/senyastein/miniconda3/envs/satenv/lib/python3.7/site-packages/xarray/core/nanops.py:159: RuntimeWarning: Mean of empty slice\n",
      "  return np.nanmean(a, axis=axis, dtype=dtype)\n",
      "/Users/senyastein/miniconda3/envs/satenv/lib/python3.7/site-packages/xarray/core/nanops.py:159: RuntimeWarning: Mean of empty slice\n",
      "  return np.nanmean(a, axis=axis, dtype=dtype)\n"
     ]
    },
    {
     "name": "stdout",
     "output_type": "stream",
     "text": [
      "1504\n",
      "./1028/saildrone-gen_5-west_coast_survey_2018-sd1028-20180922T200000-20180922T215959-1_minutes-v2.1537655414786.nc\n",
      "1505\n",
      "./1028/saildrone-gen_5-west_coast_survey_2018-sd1028-20180823T180000-20180823T195959-1_minutes-v2.1535056216302.nc\n",
      "1506\n"
     ]
    },
    {
     "name": "stderr",
     "output_type": "stream",
     "text": [
      "/Users/senyastein/miniconda3/envs/satenv/lib/python3.7/site-packages/xarray/core/nanops.py:159: RuntimeWarning: Mean of empty slice\n",
      "  return np.nanmean(a, axis=axis, dtype=dtype)\n",
      "/Users/senyastein/miniconda3/envs/satenv/lib/python3.7/site-packages/xarray/core/nanops.py:159: RuntimeWarning: Mean of empty slice\n",
      "  return np.nanmean(a, axis=axis, dtype=dtype)\n",
      "/Users/senyastein/miniconda3/envs/satenv/lib/python3.7/site-packages/xarray/core/nanops.py:159: RuntimeWarning: Mean of empty slice\n",
      "  return np.nanmean(a, axis=axis, dtype=dtype)\n"
     ]
    },
    {
     "name": "stdout",
     "output_type": "stream",
     "text": [
      "./1028/saildrone-gen_5-west_coast_survey_2018-sd1028-20180928T220000-20180928T235959-1_minutes-v2.1538181013091.nc\n",
      "1507\n",
      "./1028/saildrone-gen_5-west_coast_survey_2018-sd1028-20181003T000000-20181003T015959-1_minutes-v2.1538533825185.nc\n",
      "1508\n",
      "./1028/saildrone-gen_5-west_coast_survey_2018-sd1028-20180924T040000-20180924T055959-1_minutes-v2.1537770615117.nc\n",
      "1509\n",
      "./1028/saildrone-gen_5-west_coast_survey_2018-sd1028-20180719T180000-20180719T235959-1_minutes-v2.1533318095542.nc\n"
     ]
    },
    {
     "name": "stderr",
     "output_type": "stream",
     "text": [
      "/Users/senyastein/miniconda3/envs/satenv/lib/python3.7/site-packages/xarray/core/nanops.py:159: RuntimeWarning: Mean of empty slice\n",
      "  return np.nanmean(a, axis=axis, dtype=dtype)\n",
      "/Users/senyastein/miniconda3/envs/satenv/lib/python3.7/site-packages/xarray/core/nanops.py:159: RuntimeWarning: Mean of empty slice\n",
      "  return np.nanmean(a, axis=axis, dtype=dtype)\n"
     ]
    },
    {
     "name": "stdout",
     "output_type": "stream",
     "text": [
      "1510\n",
      "./1028/saildrone-gen_5-west_coast_survey_2018-sd1028-20180927T220000-20180927T235959-1_minutes-v2.1538094613631.nc\n",
      "1511\n",
      "./1028/saildrone-gen_5-west_coast_survey_2018-sd1028-20180921T020000-20180921T035959-1_minutes-v2.1537504214377.nc\n",
      "1512"
     ]
    },
    {
     "name": "stderr",
     "output_type": "stream",
     "text": [
      "/Users/senyastein/miniconda3/envs/satenv/lib/python3.7/site-packages/xarray/core/nanops.py:159: RuntimeWarning: Mean of empty slice\n",
      "  return np.nanmean(a, axis=axis, dtype=dtype)\n",
      "/Users/senyastein/miniconda3/envs/satenv/lib/python3.7/site-packages/xarray/core/nanops.py:159: RuntimeWarning: Mean of empty slice\n",
      "  return np.nanmean(a, axis=axis, dtype=dtype)\n",
      "/Users/senyastein/miniconda3/envs/satenv/lib/python3.7/site-packages/xarray/core/nanops.py:159: RuntimeWarning: Mean of empty slice\n",
      "  return np.nanmean(a, axis=axis, dtype=dtype)\n"
     ]
    },
    {
     "name": "stdout",
     "output_type": "stream",
     "text": [
      "\n",
      "./1028/saildrone-gen_5-west_coast_survey_2018-sd1028-20180916T060000-20180916T075959-1_minutes-v2.1537086615288.nc\n",
      "1513\n",
      "./1028/saildrone-gen_5-west_coast_survey_2018-sd1028-20180930T140000-20180930T155959-1_minutes-v2.1538325023710.nc\n"
     ]
    },
    {
     "name": "stderr",
     "output_type": "stream",
     "text": [
      "/Users/senyastein/miniconda3/envs/satenv/lib/python3.7/site-packages/xarray/core/nanops.py:159: RuntimeWarning: Mean of empty slice\n",
      "  return np.nanmean(a, axis=axis, dtype=dtype)\n",
      "/Users/senyastein/miniconda3/envs/satenv/lib/python3.7/site-packages/xarray/core/nanops.py:159: RuntimeWarning: Mean of empty slice\n",
      "  return np.nanmean(a, axis=axis, dtype=dtype)\n",
      "/Users/senyastein/miniconda3/envs/satenv/lib/python3.7/site-packages/xarray/core/nanops.py:159: RuntimeWarning: Mean of empty slice\n",
      "  return np.nanmean(a, axis=axis, dtype=dtype)\n"
     ]
    },
    {
     "name": "stdout",
     "output_type": "stream",
     "text": [
      "1514\n",
      "./1028/saildrone-gen_5-west_coast_survey_2018-sd1028-20180918T080000-20180918T095959-1_minutes-v2.1537266615350.nc\n",
      "1515\n",
      "./1028/saildrone-gen_5-west_coast_survey_2018-sd1028-20180819T120000-20180819T175959-1_minutes-v2.1534705236446.nc\n",
      "1516\n",
      "./1028/saildrone-gen_5-west_coast_survey_2018-sd1028-20180921T080000-20180921T095959-1_minutes-v2.1537525828814.nc\n"
     ]
    },
    {
     "name": "stderr",
     "output_type": "stream",
     "text": [
      "/Users/senyastein/miniconda3/envs/satenv/lib/python3.7/site-packages/xarray/core/nanops.py:159: RuntimeWarning: Mean of empty slice\n",
      "  return np.nanmean(a, axis=axis, dtype=dtype)\n",
      "/Users/senyastein/miniconda3/envs/satenv/lib/python3.7/site-packages/xarray/core/nanops.py:159: RuntimeWarning: Mean of empty slice\n",
      "  return np.nanmean(a, axis=axis, dtype=dtype)\n"
     ]
    },
    {
     "name": "stdout",
     "output_type": "stream",
     "text": [
      "1517\n",
      "./1028/saildrone-gen_5-west_coast_survey_2018-sd1028-20180804T060000-20180804T115959-1_minutes-v2.1533387638910.nc\n",
      "1518\n",
      "./1028/saildrone-gen_5-west_coast_survey_2018-sd1028-20180927T040000-20180927T055959-1_minutes-v2.1538029815966.nc\n"
     ]
    },
    {
     "name": "stderr",
     "output_type": "stream",
     "text": [
      "/Users/senyastein/miniconda3/envs/satenv/lib/python3.7/site-packages/xarray/core/nanops.py:159: RuntimeWarning: Mean of empty slice\n",
      "  return np.nanmean(a, axis=axis, dtype=dtype)\n",
      "/Users/senyastein/miniconda3/envs/satenv/lib/python3.7/site-packages/xarray/core/nanops.py:159: RuntimeWarning: Mean of empty slice\n",
      "  return np.nanmean(a, axis=axis, dtype=dtype)\n"
     ]
    },
    {
     "name": "stdout",
     "output_type": "stream",
     "text": [
      "1519\n",
      "./1028/saildrone-gen_5-west_coast_survey_2018-sd1028-20180908T200000-20180908T215959-1_minutes-v2.1536445827992.nc\n",
      "1520\n",
      "./1028/saildrone-gen_5-west_coast_survey_2018-sd1028-20181003T040000-20181003T055959-1_minutes-v2.1538548213051.nc\n",
      "1521\n",
      "./1028/saildrone-gen_5-west_coast_survey_2018-sd1028-20180917T100000-20180917T115959-1_minutes-v2.1537187416087.nc\n"
     ]
    },
    {
     "name": "stderr",
     "output_type": "stream",
     "text": [
      "/Users/senyastein/miniconda3/envs/satenv/lib/python3.7/site-packages/xarray/core/nanops.py:159: RuntimeWarning: Mean of empty slice\n",
      "  return np.nanmean(a, axis=axis, dtype=dtype)\n",
      "/Users/senyastein/miniconda3/envs/satenv/lib/python3.7/site-packages/xarray/core/nanops.py:159: RuntimeWarning: Mean of empty slice\n",
      "  return np.nanmean(a, axis=axis, dtype=dtype)\n",
      "/Users/senyastein/miniconda3/envs/satenv/lib/python3.7/site-packages/xarray/core/nanops.py:159: RuntimeWarning: Mean of empty slice\n",
      "  return np.nanmean(a, axis=axis, dtype=dtype)\n"
     ]
    },
    {
     "name": "stdout",
     "output_type": "stream",
     "text": [
      "1522\n",
      "./1028/saildrone-gen_5-west_coast_survey_2018-sd1028-20180929T080000-20180929T095959-1_minutes-v2.1538217012950.nc\n",
      "1523\n",
      "./1028/saildrone-gen_5-west_coast_survey_2018-sd1028-20180914T040000-20180914T055959-1_minutes-v2.1536906626266.nc\n"
     ]
    },
    {
     "name": "stderr",
     "output_type": "stream",
     "text": [
      "/Users/senyastein/miniconda3/envs/satenv/lib/python3.7/site-packages/xarray/core/nanops.py:159: RuntimeWarning: Mean of empty slice\n",
      "  return np.nanmean(a, axis=axis, dtype=dtype)\n",
      "/Users/senyastein/miniconda3/envs/satenv/lib/python3.7/site-packages/xarray/core/nanops.py:159: RuntimeWarning: Mean of empty slice\n",
      "  return np.nanmean(a, axis=axis, dtype=dtype)\n",
      "/Users/senyastein/miniconda3/envs/satenv/lib/python3.7/site-packages/xarray/core/nanops.py:159: RuntimeWarning: Mean of empty slice\n",
      "  return np.nanmean(a, axis=axis, dtype=dtype)\n"
     ]
    },
    {
     "name": "stdout",
     "output_type": "stream",
     "text": [
      "1524\n",
      "./1028/saildrone-gen_5-west_coast_survey_2018-sd1028-20180830T220000-20180830T235959-1_minutes-v2.1535675415118.nc\n",
      "1525\n",
      "./1028/saildrone-gen_5-west_coast_survey_2018-sd1028-20180929T160000-20180929T175959-1_minutes-v2.1538245812662.nc\n",
      "1526\n",
      "./1028/saildrone-gen_5-west_coast_survey_2018-sd1028-20180831T200000-20180831T215959-1_minutes-v2.1535754615266.nc\n",
      "1527\n",
      "./1028/saildrone-gen_5-west_coast_survey_2018-sd1028-20180630T000000-20180630T055959-1_minutes-v2.1533313570210.nc\n",
      "1528\n"
     ]
    },
    {
     "name": "stderr",
     "output_type": "stream",
     "text": [
      "/Users/senyastein/miniconda3/envs/satenv/lib/python3.7/site-packages/xarray/core/nanops.py:159: RuntimeWarning: Mean of empty slice\n",
      "  return np.nanmean(a, axis=axis, dtype=dtype)\n",
      "/Users/senyastein/miniconda3/envs/satenv/lib/python3.7/site-packages/xarray/core/nanops.py:159: RuntimeWarning: Mean of empty slice\n",
      "  return np.nanmean(a, axis=axis, dtype=dtype)\n",
      "/Users/senyastein/miniconda3/envs/satenv/lib/python3.7/site-packages/xarray/core/nanops.py:159: RuntimeWarning: Mean of empty slice\n",
      "  return np.nanmean(a, axis=axis, dtype=dtype)\n"
     ]
    },
    {
     "name": "stdout",
     "output_type": "stream",
     "text": [
      "./1028/saildrone-gen_5-west_coast_survey_2018-sd1028-20180705T120000-20180705T175959-1_minutes-v2.1533314737292.nc\n",
      "1529\n",
      "./1028/saildrone-gen_5-west_coast_survey_2018-sd1028-20180812T000000-20180812T055959-1_minutes-v2.1534057241099.nc\n"
     ]
    },
    {
     "name": "stderr",
     "output_type": "stream",
     "text": [
      "/Users/senyastein/miniconda3/envs/satenv/lib/python3.7/site-packages/xarray/core/nanops.py:159: RuntimeWarning: Mean of empty slice\n",
      "  return np.nanmean(a, axis=axis, dtype=dtype)\n",
      "/Users/senyastein/miniconda3/envs/satenv/lib/python3.7/site-packages/xarray/core/nanops.py:159: RuntimeWarning: Mean of empty slice\n",
      "  return np.nanmean(a, axis=axis, dtype=dtype)\n"
     ]
    },
    {
     "name": "stdout",
     "output_type": "stream",
     "text": [
      "1530\n",
      "./1028/saildrone-gen_5-west_coast_survey_2018-sd1028-20181003T020000-20181003T035959-1_minutes-v2.1538541015306.nc\n",
      "1531\n",
      "./1028/saildrone-gen_5-west_coast_survey_2018-sd1028-20180922T020000-20180922T035959-1_minutes-v2.1537590615195.nc\n"
     ]
    },
    {
     "name": "stderr",
     "output_type": "stream",
     "text": [
      "/Users/senyastein/miniconda3/envs/satenv/lib/python3.7/site-packages/xarray/core/nanops.py:159: RuntimeWarning: Mean of empty slice\n",
      "  return np.nanmean(a, axis=axis, dtype=dtype)\n",
      "/Users/senyastein/miniconda3/envs/satenv/lib/python3.7/site-packages/xarray/core/nanops.py:159: RuntimeWarning: Mean of empty slice\n",
      "  return np.nanmean(a, axis=axis, dtype=dtype)\n"
     ]
    },
    {
     "name": "stdout",
     "output_type": "stream",
     "text": [
      "1532\n",
      "./1028/saildrone-gen_5-west_coast_survey_2018-sd1028-20180821T000000-20180821T055959-1_minutes-v2.1534834835531.nc\n",
      "1533\n",
      "./1028/saildrone-gen_5-west_coast_survey_2018-sd1028-20180803T000000-20180803T055959-1_minutes-v2.1533279675728.nc\n"
     ]
    },
    {
     "name": "stderr",
     "output_type": "stream",
     "text": [
      "/Users/senyastein/miniconda3/envs/satenv/lib/python3.7/site-packages/xarray/core/nanops.py:159: RuntimeWarning: Mean of empty slice\n",
      "  return np.nanmean(a, axis=axis, dtype=dtype)\n",
      "/Users/senyastein/miniconda3/envs/satenv/lib/python3.7/site-packages/xarray/core/nanops.py:159: RuntimeWarning: Mean of empty slice\n",
      "  return np.nanmean(a, axis=axis, dtype=dtype)\n"
     ]
    },
    {
     "name": "stdout",
     "output_type": "stream",
     "text": [
      "1534\n",
      "./1028/saildrone-gen_5-west_coast_survey_2018-sd1028-20180721T120000-20180721T175959-1_minutes-v2.1533318477758.nc\n",
      "1535\n",
      "./1028/saildrone-gen_5-west_coast_survey_2018-sd1028-20180831T140000-20180831T155959-1_minutes-v2.1535733015429.nc\n"
     ]
    },
    {
     "name": "stderr",
     "output_type": "stream",
     "text": [
      "/Users/senyastein/miniconda3/envs/satenv/lib/python3.7/site-packages/xarray/core/nanops.py:159: RuntimeWarning: Mean of empty slice\n",
      "  return np.nanmean(a, axis=axis, dtype=dtype)\n",
      "/Users/senyastein/miniconda3/envs/satenv/lib/python3.7/site-packages/xarray/core/nanops.py:159: RuntimeWarning: Mean of empty slice\n",
      "  return np.nanmean(a, axis=axis, dtype=dtype)\n"
     ]
    },
    {
     "name": "stdout",
     "output_type": "stream",
     "text": [
      "1536\n",
      "./1028/saildrone-gen_5-west_coast_survey_2018-sd1028-20180908T120000-20180908T135959-1_minutes-v2.1536417029260.nc\n",
      "1537\n",
      "./1028/saildrone-gen_5-west_coast_survey_2018-sd1028-20180907T160000-20180907T175959-1_minutes-v2.1536345028859.nc\n"
     ]
    },
    {
     "name": "stderr",
     "output_type": "stream",
     "text": [
      "/Users/senyastein/miniconda3/envs/satenv/lib/python3.7/site-packages/xarray/core/nanops.py:159: RuntimeWarning: Mean of empty slice\n",
      "  return np.nanmean(a, axis=axis, dtype=dtype)\n",
      "/Users/senyastein/miniconda3/envs/satenv/lib/python3.7/site-packages/xarray/core/nanops.py:159: RuntimeWarning: Mean of empty slice\n",
      "  return np.nanmean(a, axis=axis, dtype=dtype)\n"
     ]
    },
    {
     "name": "stdout",
     "output_type": "stream",
     "text": [
      "1538\n",
      "./1028/saildrone-gen_5-west_coast_survey_2018-sd1028-20180928T100000-20180928T115959-1_minutes-v2.1538137824847.nc\n",
      "1539\n",
      "./1028/saildrone-gen_5-west_coast_survey_2018-sd1028-20180907T120000-20180907T135959-1_minutes-v2.1536330615392.nc\n",
      "1540\n",
      "./1028/saildrone-gen_5-west_coast_survey_2018-sd1028-20180930T180000-20180930T195959-1_minutes-v2.1538339414121.nc\n"
     ]
    },
    {
     "name": "stderr",
     "output_type": "stream",
     "text": [
      "/Users/senyastein/miniconda3/envs/satenv/lib/python3.7/site-packages/xarray/core/nanops.py:159: RuntimeWarning: Mean of empty slice\n",
      "  return np.nanmean(a, axis=axis, dtype=dtype)\n",
      "/Users/senyastein/miniconda3/envs/satenv/lib/python3.7/site-packages/xarray/core/nanops.py:159: RuntimeWarning: Mean of empty slice\n",
      "  return np.nanmean(a, axis=axis, dtype=dtype)\n"
     ]
    },
    {
     "name": "stdout",
     "output_type": "stream",
     "text": [
      "1541\n",
      "./1028/saildrone-gen_5-west_coast_survey_2018-sd1028-20180828T000000-20180828T015959-1_minutes-v2.1535423415155.nc\n",
      "1542\n",
      "./1028/saildrone-gen_5-west_coast_survey_2018-sd1028-20180818T060000-20180818T115959-1_minutes-v2.1534597238230.nc\n",
      "1543\n"
     ]
    },
    {
     "name": "stderr",
     "output_type": "stream",
     "text": [
      "/Users/senyastein/miniconda3/envs/satenv/lib/python3.7/site-packages/xarray/core/nanops.py:159: RuntimeWarning: Mean of empty slice\n",
      "  return np.nanmean(a, axis=axis, dtype=dtype)\n",
      "/Users/senyastein/miniconda3/envs/satenv/lib/python3.7/site-packages/xarray/core/nanops.py:159: RuntimeWarning: Mean of empty slice\n",
      "  return np.nanmean(a, axis=axis, dtype=dtype)\n",
      "/Users/senyastein/miniconda3/envs/satenv/lib/python3.7/site-packages/xarray/core/nanops.py:159: RuntimeWarning: Mean of empty slice\n",
      "  return np.nanmean(a, axis=axis, dtype=dtype)\n"
     ]
    },
    {
     "name": "stdout",
     "output_type": "stream",
     "text": [
      "./1028/saildrone-gen_5-west_coast_survey_2018-sd1028-20180909T220000-20180909T235959-1_minutes-v2.1536539415993.nc\n",
      "1544\n",
      "./1028/saildrone-gen_5-west_coast_survey_2018-sd1028-20180922T000000-20180922T015959-1_minutes-v2.1537583415122.nc\n",
      "1545\n"
     ]
    },
    {
     "name": "stderr",
     "output_type": "stream",
     "text": [
      "/Users/senyastein/miniconda3/envs/satenv/lib/python3.7/site-packages/xarray/core/nanops.py:159: RuntimeWarning: Mean of empty slice\n",
      "  return np.nanmean(a, axis=axis, dtype=dtype)\n",
      "/Users/senyastein/miniconda3/envs/satenv/lib/python3.7/site-packages/xarray/core/nanops.py:159: RuntimeWarning: Mean of empty slice\n",
      "  return np.nanmean(a, axis=axis, dtype=dtype)\n"
     ]
    },
    {
     "name": "stdout",
     "output_type": "stream",
     "text": [
      "./1028/saildrone-gen_5-west_coast_survey_2018-sd1028-20180701T120000-20180701T175959-1_minutes-v2.1533313906104.nc\n",
      "1546\n",
      "./1028/saildrone-gen_5-west_coast_survey_2018-sd1028-20180928T040000-20180928T055959-1_minutes-v2.1538116214168.nc\n"
     ]
    },
    {
     "name": "stderr",
     "output_type": "stream",
     "text": [
      "/Users/senyastein/miniconda3/envs/satenv/lib/python3.7/site-packages/xarray/core/nanops.py:159: RuntimeWarning: Mean of empty slice\n",
      "  return np.nanmean(a, axis=axis, dtype=dtype)\n",
      "/Users/senyastein/miniconda3/envs/satenv/lib/python3.7/site-packages/xarray/core/nanops.py:159: RuntimeWarning: Mean of empty slice\n",
      "  return np.nanmean(a, axis=axis, dtype=dtype)\n"
     ]
    },
    {
     "name": "stdout",
     "output_type": "stream",
     "text": [
      "1547\n",
      "./1028/saildrone-gen_5-west_coast_survey_2018-sd1028-20180924T220000-20180924T235959-1_minutes-v2.1537835414890.nc\n",
      "1548\n",
      "./1028/saildrone-gen_5-west_coast_survey_2018-sd1028-20180908T160000-20180908T175959-1_minutes-v2.1536431429313.nc\n",
      "1549\n",
      "./1028/saildrone-gen_5-west_coast_survey_2018-sd1028-20180924T080000-20180924T095959-1_minutes-v2.1537785014913.nc\n"
     ]
    },
    {
     "name": "stderr",
     "output_type": "stream",
     "text": [
      "/Users/senyastein/miniconda3/envs/satenv/lib/python3.7/site-packages/xarray/core/nanops.py:159: RuntimeWarning: Mean of empty slice\n",
      "  return np.nanmean(a, axis=axis, dtype=dtype)\n",
      "/Users/senyastein/miniconda3/envs/satenv/lib/python3.7/site-packages/xarray/core/nanops.py:159: RuntimeWarning: Mean of empty slice\n",
      "  return np.nanmean(a, axis=axis, dtype=dtype)\n",
      "/Users/senyastein/miniconda3/envs/satenv/lib/python3.7/site-packages/xarray/core/nanops.py:159: RuntimeWarning: Mean of empty slice\n",
      "  return np.nanmean(a, axis=axis, dtype=dtype)\n"
     ]
    },
    {
     "name": "stdout",
     "output_type": "stream",
     "text": [
      "1550\n",
      "./1028/saildrone-gen_5-west_coast_survey_2018-sd1028-20180923T080000-20180923T095959-1_minutes-v2.1537698614778.nc\n",
      "1551\n",
      "./1028/saildrone-gen_5-west_coast_survey_2018-sd1028-20180709T000000-20180709T055959-1_minutes-v2.1533315544867.nc\n"
     ]
    },
    {
     "name": "stderr",
     "output_type": "stream",
     "text": [
      "/Users/senyastein/miniconda3/envs/satenv/lib/python3.7/site-packages/xarray/core/nanops.py:159: RuntimeWarning: Mean of empty slice\n",
      "  return np.nanmean(a, axis=axis, dtype=dtype)\n",
      "/Users/senyastein/miniconda3/envs/satenv/lib/python3.7/site-packages/xarray/core/nanops.py:159: RuntimeWarning: Mean of empty slice\n",
      "  return np.nanmean(a, axis=axis, dtype=dtype)\n",
      "/Users/senyastein/miniconda3/envs/satenv/lib/python3.7/site-packages/xarray/core/nanops.py:159: RuntimeWarning: Mean of empty slice\n",
      "  return np.nanmean(a, axis=axis, dtype=dtype)\n"
     ]
    },
    {
     "name": "stdout",
     "output_type": "stream",
     "text": [
      "1552\n",
      "./1028/saildrone-gen_5-west_coast_survey_2018-sd1028-20180912T040000-20180912T055959-1_minutes-v2.1536733815766.nc\n",
      "1553\n",
      "./1028/saildrone-gen_5-west_coast_survey_2018-sd1028-20180723T180000-20180723T235959-1_minutes-v2.1533319005395.nc\n",
      "1554\n",
      "./1028/saildrone-gen_5-west_coast_survey_2018-sd1028-20180710T180000-20180710T235959-1_minutes-v2.1533315920136.nc\n"
     ]
    },
    {
     "name": "stderr",
     "output_type": "stream",
     "text": [
      "/Users/senyastein/miniconda3/envs/satenv/lib/python3.7/site-packages/xarray/core/nanops.py:159: RuntimeWarning: Mean of empty slice\n",
      "  return np.nanmean(a, axis=axis, dtype=dtype)\n",
      "/Users/senyastein/miniconda3/envs/satenv/lib/python3.7/site-packages/xarray/core/nanops.py:159: RuntimeWarning: Mean of empty slice\n",
      "  return np.nanmean(a, axis=axis, dtype=dtype)\n",
      "/Users/senyastein/miniconda3/envs/satenv/lib/python3.7/site-packages/xarray/core/nanops.py:159: RuntimeWarning: Mean of empty slice\n",
      "  return np.nanmean(a, axis=axis, dtype=dtype)\n"
     ]
    },
    {
     "name": "stdout",
     "output_type": "stream",
     "text": [
      "1555\n",
      "./1028/saildrone-gen_5-west_coast_survey_2018-sd1028-20180712T180000-20180712T235959-1_minutes-v2.1533316367312.nc\n",
      "1556\n",
      "./1028/saildrone-gen_5-west_coast_survey_2018-sd1028-20180905T040000-20180905T055959-1_minutes-v2.1536129017118.nc\n",
      "1557\n",
      "./1028/saildrone-gen_5-west_coast_survey_2018-sd1028-20180915T120000-20180915T135959-1_minutes-v2.1537021817461.nc\n",
      "1558\n",
      "./1028/saildrone-gen_5-west_coast_survey_2018-sd1028-20180916T140000-20180916T155959-1_minutes-v2.1537115415286.nc\n",
      "1559\n",
      "./1028/saildrone-gen_5-west_coast_survey_2018-sd1028-20180907T100000-20180907T115959-1_minutes-v2.1536323414946.nc\n"
     ]
    },
    {
     "name": "stderr",
     "output_type": "stream",
     "text": [
      "/Users/senyastein/miniconda3/envs/satenv/lib/python3.7/site-packages/xarray/core/nanops.py:159: RuntimeWarning: Mean of empty slice\n",
      "  return np.nanmean(a, axis=axis, dtype=dtype)\n",
      "/Users/senyastein/miniconda3/envs/satenv/lib/python3.7/site-packages/xarray/core/nanops.py:159: RuntimeWarning: Mean of empty slice\n",
      "  return np.nanmean(a, axis=axis, dtype=dtype)\n",
      "/Users/senyastein/miniconda3/envs/satenv/lib/python3.7/site-packages/xarray/core/nanops.py:159: RuntimeWarning: Mean of empty slice\n",
      "  return np.nanmean(a, axis=axis, dtype=dtype)\n"
     ]
    },
    {
     "name": "stdout",
     "output_type": "stream",
     "text": [
      "1560\n",
      "./1028/saildrone-gen_5-west_coast_survey_2018-sd1028-20180918T020000-20180918T035959-1_minutes-v2.1537245016859.nc\n",
      "1561\n",
      "./1028/saildrone-gen_5-west_coast_survey_2018-sd1028-20180911T100000-20180911T115959-1_minutes-v2.1536669033505.nc\n",
      "1562\n"
     ]
    },
    {
     "name": "stderr",
     "output_type": "stream",
     "text": [
      "/Users/senyastein/miniconda3/envs/satenv/lib/python3.7/site-packages/xarray/core/nanops.py:159: RuntimeWarning: Mean of empty slice\n",
      "  return np.nanmean(a, axis=axis, dtype=dtype)\n",
      "/Users/senyastein/miniconda3/envs/satenv/lib/python3.7/site-packages/xarray/core/nanops.py:159: RuntimeWarning: Mean of empty slice\n",
      "  return np.nanmean(a, axis=axis, dtype=dtype)\n"
     ]
    },
    {
     "name": "stdout",
     "output_type": "stream",
     "text": [
      "./1028/saildrone-gen_5-west_coast_survey_2018-sd1028-20180811T000000-20180811T055959-1_minutes-v2.1533970842120.nc\n",
      "1563\n",
      "./1028/saildrone-gen_5-west_coast_survey_2018-sd1028-20180917T220000-20180917T235959-1_minutes-v2.1537230624690.nc\n",
      "1564\n",
      "./1028/saildrone-gen_5-west_coast_survey_2018-sd1028-20180706T060000-20180706T115959-1_minutes-v2.1533314934435.nc\n"
     ]
    },
    {
     "name": "stderr",
     "output_type": "stream",
     "text": [
      "/Users/senyastein/miniconda3/envs/satenv/lib/python3.7/site-packages/xarray/core/nanops.py:159: RuntimeWarning: Mean of empty slice\n",
      "  return np.nanmean(a, axis=axis, dtype=dtype)\n",
      "/Users/senyastein/miniconda3/envs/satenv/lib/python3.7/site-packages/xarray/core/nanops.py:159: RuntimeWarning: Mean of empty slice\n",
      "  return np.nanmean(a, axis=axis, dtype=dtype)\n",
      "/Users/senyastein/miniconda3/envs/satenv/lib/python3.7/site-packages/xarray/core/nanops.py:159: RuntimeWarning: Mean of empty slice\n",
      "  return np.nanmean(a, axis=axis, dtype=dtype)\n"
     ]
    },
    {
     "name": "stdout",
     "output_type": "stream",
     "text": [
      "1565\n",
      "./1028/saildrone-gen_5-west_coast_survey_2018-sd1028-20180702T000000-20180702T055959-1_minutes-v2.1533314026882.nc\n",
      "1566\n",
      "./1028/saildrone-gen_5-west_coast_survey_2018-sd1028-20180807T120000-20180807T175959-1_minutes-v2.1533668474411.nc\n",
      "1567"
     ]
    },
    {
     "name": "stderr",
     "output_type": "stream",
     "text": [
      "/Users/senyastein/miniconda3/envs/satenv/lib/python3.7/site-packages/xarray/core/nanops.py:159: RuntimeWarning: Mean of empty slice\n",
      "  return np.nanmean(a, axis=axis, dtype=dtype)\n",
      "/Users/senyastein/miniconda3/envs/satenv/lib/python3.7/site-packages/xarray/core/nanops.py:159: RuntimeWarning: Mean of empty slice\n",
      "  return np.nanmean(a, axis=axis, dtype=dtype)\n"
     ]
    },
    {
     "name": "stdout",
     "output_type": "stream",
     "text": [
      "\n",
      "./1028/saildrone-gen_5-west_coast_survey_2018-sd1028-20180723T060000-20180723T115959-1_minutes-v2.1533318876073.nc\n",
      "1568\n",
      "./1028/saildrone-gen_5-west_coast_survey_2018-sd1028-20180911T160000-20180911T175959-1_minutes-v2.1536690619913.nc\n"
     ]
    },
    {
     "name": "stderr",
     "output_type": "stream",
     "text": [
      "/Users/senyastein/miniconda3/envs/satenv/lib/python3.7/site-packages/xarray/core/nanops.py:159: RuntimeWarning: Mean of empty slice\n",
      "  return np.nanmean(a, axis=axis, dtype=dtype)\n",
      "/Users/senyastein/miniconda3/envs/satenv/lib/python3.7/site-packages/xarray/core/nanops.py:159: RuntimeWarning: Mean of empty slice\n",
      "  return np.nanmean(a, axis=axis, dtype=dtype)\n",
      "/Users/senyastein/miniconda3/envs/satenv/lib/python3.7/site-packages/xarray/core/nanops.py:159: RuntimeWarning: Mean of empty slice\n",
      "  return np.nanmean(a, axis=axis, dtype=dtype)\n"
     ]
    },
    {
     "name": "stdout",
     "output_type": "stream",
     "text": [
      "1569\n",
      "./1028/saildrone-gen_5-west_coast_survey_2018-sd1028-20180913T100000-20180913T115959-1_minutes-v2.1536841819968.nc\n",
      "1570\n",
      "./1028/saildrone-gen_5-west_coast_survey_2018-sd1028-20180801T060000-20180801T115959-1_minutes-v2.1533320960618.nc\n"
     ]
    },
    {
     "name": "stderr",
     "output_type": "stream",
     "text": [
      "/Users/senyastein/miniconda3/envs/satenv/lib/python3.7/site-packages/xarray/core/nanops.py:159: RuntimeWarning: Mean of empty slice\n",
      "  return np.nanmean(a, axis=axis, dtype=dtype)\n",
      "/Users/senyastein/miniconda3/envs/satenv/lib/python3.7/site-packages/xarray/core/nanops.py:159: RuntimeWarning: Mean of empty slice\n",
      "  return np.nanmean(a, axis=axis, dtype=dtype)\n"
     ]
    },
    {
     "name": "stdout",
     "output_type": "stream",
     "text": [
      "1571\n",
      "./1028/saildrone-gen_5-west_coast_survey_2018-sd1028-20180910T080000-20180910T095959-1_minutes-v2.1536575435956.nc\n",
      "1572\n",
      "./1028/saildrone-gen_5-west_coast_survey_2018-sd1028-20180717T180000-20180717T235959-1_minutes-v2.1533317637139.nc\n",
      "1573\n"
     ]
    },
    {
     "name": "stderr",
     "output_type": "stream",
     "text": [
      "/Users/senyastein/miniconda3/envs/satenv/lib/python3.7/site-packages/xarray/core/nanops.py:159: RuntimeWarning: Mean of empty slice\n",
      "  return np.nanmean(a, axis=axis, dtype=dtype)\n",
      "/Users/senyastein/miniconda3/envs/satenv/lib/python3.7/site-packages/xarray/core/nanops.py:159: RuntimeWarning: Mean of empty slice\n",
      "  return np.nanmean(a, axis=axis, dtype=dtype)\n",
      "/Users/senyastein/miniconda3/envs/satenv/lib/python3.7/site-packages/xarray/core/nanops.py:159: RuntimeWarning: Mean of empty slice\n",
      "  return np.nanmean(a, axis=axis, dtype=dtype)\n"
     ]
    },
    {
     "name": "stdout",
     "output_type": "stream",
     "text": [
      "./1028/saildrone-gen_5-west_coast_survey_2018-sd1028-20180728T000000-20180728T055959-1_minutes-v2.1533319979302.nc\n",
      "1574\n",
      "./1028/saildrone-gen_5-west_coast_survey_2018-sd1028-20180903T220000-20180903T235959-1_minutes-v2.1536021015453.nc\n",
      "1575\n",
      "./1028/saildrone-gen_5-west_coast_survey_2018-sd1028-20181005T060000-20181005T075959-1_minutes-v2.1538728213121.nc\n"
     ]
    },
    {
     "name": "stderr",
     "output_type": "stream",
     "text": [
      "/Users/senyastein/miniconda3/envs/satenv/lib/python3.7/site-packages/xarray/core/nanops.py:159: RuntimeWarning: Mean of empty slice\n",
      "  return np.nanmean(a, axis=axis, dtype=dtype)\n",
      "/Users/senyastein/miniconda3/envs/satenv/lib/python3.7/site-packages/xarray/core/nanops.py:159: RuntimeWarning: Mean of empty slice\n",
      "  return np.nanmean(a, axis=axis, dtype=dtype)\n",
      "/Users/senyastein/miniconda3/envs/satenv/lib/python3.7/site-packages/xarray/core/nanops.py:159: RuntimeWarning: Mean of empty slice\n",
      "  return np.nanmean(a, axis=axis, dtype=dtype)\n"
     ]
    },
    {
     "name": "stdout",
     "output_type": "stream",
     "text": [
      "1576\n",
      "./1028/saildrone-gen_5-west_coast_survey_2018-sd1028-20180828T060000-20180828T075959-1_minutes-v2.1535445015920.nc\n",
      "1577\n",
      "./1028/saildrone-gen_5-west_coast_survey_2018-sd1028-20180717T000000-20180717T055959-1_minutes-v2.1533317429056.nc\n",
      "1578\n",
      "./1028/saildrone-gen_5-west_coast_survey_2018-sd1028-20180830T000000-20180830T015959-1_minutes-v2.1535596215864.nc\n"
     ]
    },
    {
     "name": "stderr",
     "output_type": "stream",
     "text": [
      "/Users/senyastein/miniconda3/envs/satenv/lib/python3.7/site-packages/xarray/core/nanops.py:159: RuntimeWarning: Mean of empty slice\n",
      "  return np.nanmean(a, axis=axis, dtype=dtype)\n",
      "/Users/senyastein/miniconda3/envs/satenv/lib/python3.7/site-packages/xarray/core/nanops.py:159: RuntimeWarning: Mean of empty slice\n",
      "  return np.nanmean(a, axis=axis, dtype=dtype)\n",
      "/Users/senyastein/miniconda3/envs/satenv/lib/python3.7/site-packages/xarray/core/nanops.py:159: RuntimeWarning: Mean of empty slice\n",
      "  return np.nanmean(a, axis=axis, dtype=dtype)\n"
     ]
    },
    {
     "name": "stdout",
     "output_type": "stream",
     "text": [
      "1579\n",
      "./1028/saildrone-gen_5-west_coast_survey_2018-sd1028-20180723T000000-20180723T055959-1_minutes-v2.1533318820881.nc\n",
      "1580\n",
      "./1028/saildrone-gen_5-west_coast_survey_2018-sd1028-20180920T220000-20180920T235959-1_minutes-v2.1537489815366.nc\n",
      "1581\n",
      "./1028/saildrone-gen_5-west_coast_survey_2018-sd1028-20180720T120000-20180720T175959-1_minutes-v2.1533318260322.nc\n",
      "1582\n",
      "./1028/saildrone-gen_5-west_coast_survey_2018-sd1028-20180722T180000-20180722T235959-1_minutes-v2.1533318766309.nc\n"
     ]
    },
    {
     "name": "stderr",
     "output_type": "stream",
     "text": [
      "/Users/senyastein/miniconda3/envs/satenv/lib/python3.7/site-packages/xarray/core/nanops.py:159: RuntimeWarning: Mean of empty slice\n",
      "  return np.nanmean(a, axis=axis, dtype=dtype)\n",
      "/Users/senyastein/miniconda3/envs/satenv/lib/python3.7/site-packages/xarray/core/nanops.py:159: RuntimeWarning: Mean of empty slice\n",
      "  return np.nanmean(a, axis=axis, dtype=dtype)\n"
     ]
    },
    {
     "name": "stdout",
     "output_type": "stream",
     "text": [
      "1583\n",
      "./1028/saildrone-gen_5-west_coast_survey_2018-sd1028-20180901T000000-20180901T015959-1_minutes-v2.1535769015270.nc\n",
      "1584\n",
      "./1028/saildrone-gen_5-west_coast_survey_2018-sd1028-20180831T060000-20180831T075959-1_minutes-v2.1535704215568.nc\n"
     ]
    },
    {
     "name": "stderr",
     "output_type": "stream",
     "text": [
      "/Users/senyastein/miniconda3/envs/satenv/lib/python3.7/site-packages/xarray/core/nanops.py:159: RuntimeWarning: Mean of empty slice\n",
      "  return np.nanmean(a, axis=axis, dtype=dtype)\n",
      "/Users/senyastein/miniconda3/envs/satenv/lib/python3.7/site-packages/xarray/core/nanops.py:159: RuntimeWarning: Mean of empty slice\n",
      "  return np.nanmean(a, axis=axis, dtype=dtype)\n"
     ]
    },
    {
     "name": "stdout",
     "output_type": "stream",
     "text": [
      "1585\n",
      "./1028/saildrone-gen_5-west_coast_survey_2018-sd1028-20180926T180000-20180926T195959-1_minutes-v2.1537993816162.nc\n",
      "1586\n",
      "./1028/saildrone-gen_5-west_coast_survey_2018-sd1028-20180905T120000-20180905T135959-1_minutes-v2.1536157815413.nc\n"
     ]
    },
    {
     "name": "stderr",
     "output_type": "stream",
     "text": [
      "/Users/senyastein/miniconda3/envs/satenv/lib/python3.7/site-packages/xarray/core/nanops.py:159: RuntimeWarning: Mean of empty slice\n",
      "  return np.nanmean(a, axis=axis, dtype=dtype)\n",
      "/Users/senyastein/miniconda3/envs/satenv/lib/python3.7/site-packages/xarray/core/nanops.py:159: RuntimeWarning: Mean of empty slice\n",
      "  return np.nanmean(a, axis=axis, dtype=dtype)\n"
     ]
    },
    {
     "name": "stdout",
     "output_type": "stream",
     "text": [
      "1587\n",
      "./1028/saildrone-gen_5-west_coast_survey_2018-sd1028-20180628T060000-20180628T115959-1_minutes-v2.1533313146027.nc\n",
      "1588\n",
      "./1028/saildrone-gen_5-west_coast_survey_2018-sd1028-20180823T060000-20180823T075959-1_minutes-v2.1535013016565.nc\n"
     ]
    },
    {
     "name": "stderr",
     "output_type": "stream",
     "text": [
      "/Users/senyastein/miniconda3/envs/satenv/lib/python3.7/site-packages/xarray/core/nanops.py:159: RuntimeWarning: Mean of empty slice\n",
      "  return np.nanmean(a, axis=axis, dtype=dtype)\n",
      "/Users/senyastein/miniconda3/envs/satenv/lib/python3.7/site-packages/xarray/core/nanops.py:159: RuntimeWarning: Mean of empty slice\n",
      "  return np.nanmean(a, axis=axis, dtype=dtype)\n"
     ]
    },
    {
     "name": "stdout",
     "output_type": "stream",
     "text": [
      "1589\n",
      "./1028/saildrone-gen_5-west_coast_survey_2018-sd1028-20180923T180000-20180923T195959-1_minutes-v2.1537734615129.nc\n"
     ]
    },
    {
     "name": "stderr",
     "output_type": "stream",
     "text": [
      "/Users/senyastein/miniconda3/envs/satenv/lib/python3.7/site-packages/xarray/core/nanops.py:159: RuntimeWarning: Mean of empty slice\n",
      "  return np.nanmean(a, axis=axis, dtype=dtype)\n"
     ]
    },
    {
     "name": "stdout",
     "output_type": "stream",
     "text": [
      "1590\n",
      "./1028/saildrone-gen_5-west_coast_survey_2018-sd1028-20180908T020000-20180908T035959-1_minutes-v2.1536381015505.nc\n",
      "1591\n",
      "./1028/saildrone-gen_5-west_coast_survey_2018-sd1028-20180905T060000-20180905T075959-1_minutes-v2.1536136218163.nc\n"
     ]
    },
    {
     "name": "stderr",
     "output_type": "stream",
     "text": [
      "/Users/senyastein/miniconda3/envs/satenv/lib/python3.7/site-packages/xarray/core/nanops.py:159: RuntimeWarning: Mean of empty slice\n",
      "  return np.nanmean(a, axis=axis, dtype=dtype)\n",
      "/Users/senyastein/miniconda3/envs/satenv/lib/python3.7/site-packages/xarray/core/nanops.py:159: RuntimeWarning: Mean of empty slice\n",
      "  return np.nanmean(a, axis=axis, dtype=dtype)\n"
     ]
    },
    {
     "name": "stdout",
     "output_type": "stream",
     "text": [
      "1592\n",
      "./1028/saildrone-gen_5-west_coast_survey_2018-sd1028-20180831T100000-20180831T115959-1_minutes-v2.1535718614621.nc\n",
      "1593\n",
      "./1028/saildrone-gen_5-west_coast_survey_2018-sd1028-20180720T000000-20180720T055959-1_minutes-v2.1533318150623.nc\n",
      "1594\n",
      "./1028/saildrone-gen_5-west_coast_survey_2018-sd1028-20180923T000000-20180923T015959-1_minutes-v2.1537669815125.nc\n"
     ]
    },
    {
     "name": "stderr",
     "output_type": "stream",
     "text": [
      "/Users/senyastein/miniconda3/envs/satenv/lib/python3.7/site-packages/xarray/core/nanops.py:159: RuntimeWarning: Mean of empty slice\n",
      "  return np.nanmean(a, axis=axis, dtype=dtype)\n",
      "/Users/senyastein/miniconda3/envs/satenv/lib/python3.7/site-packages/xarray/core/nanops.py:159: RuntimeWarning: Mean of empty slice\n",
      "  return np.nanmean(a, axis=axis, dtype=dtype)\n",
      "/Users/senyastein/miniconda3/envs/satenv/lib/python3.7/site-packages/xarray/core/nanops.py:159: RuntimeWarning: Mean of empty slice\n",
      "  return np.nanmean(a, axis=axis, dtype=dtype)\n"
     ]
    },
    {
     "name": "stdout",
     "output_type": "stream",
     "text": [
      "1595\n",
      "./1028/saildrone-gen_5-west_coast_survey_2018-sd1028-20180711T060000-20180711T115959-1_minutes-v2.1533316016963.nc\n",
      "1596\n",
      "./1028/saildrone-gen_5-west_coast_survey_2018-sd1028-20180804T000000-20180804T055959-1_minutes-v2.1533366072158.nc\n"
     ]
    },
    {
     "name": "stderr",
     "output_type": "stream",
     "text": [
      "/Users/senyastein/miniconda3/envs/satenv/lib/python3.7/site-packages/xarray/core/nanops.py:159: RuntimeWarning: Mean of empty slice\n",
      "  return np.nanmean(a, axis=axis, dtype=dtype)\n",
      "/Users/senyastein/miniconda3/envs/satenv/lib/python3.7/site-packages/xarray/core/nanops.py:159: RuntimeWarning: Mean of empty slice\n",
      "  return np.nanmean(a, axis=axis, dtype=dtype)\n"
     ]
    },
    {
     "name": "stdout",
     "output_type": "stream",
     "text": [
      "1597\n",
      "./1028/saildrone-gen_5-west_coast_survey_2018-sd1028-20180908T220000-20180908T235959-1_minutes-v2.1536453014263.nc\n",
      "1598\n",
      "./1028/saildrone-gen_5-west_coast_survey_2018-sd1028-20180911T020000-20180911T035959-1_minutes-v2.1536640215285.nc\n",
      "1599\n",
      "./1028/saildrone-gen_5-west_coast_survey_2018-sd1028-20180824T020000-20180824T035959-1_minutes-v2.1535085015164.nc\n"
     ]
    },
    {
     "name": "stderr",
     "output_type": "stream",
     "text": [
      "/Users/senyastein/miniconda3/envs/satenv/lib/python3.7/site-packages/xarray/core/nanops.py:159: RuntimeWarning: Mean of empty slice\n",
      "  return np.nanmean(a, axis=axis, dtype=dtype)\n",
      "/Users/senyastein/miniconda3/envs/satenv/lib/python3.7/site-packages/xarray/core/nanops.py:159: RuntimeWarning: Mean of empty slice\n",
      "  return np.nanmean(a, axis=axis, dtype=dtype)\n",
      "/Users/senyastein/miniconda3/envs/satenv/lib/python3.7/site-packages/xarray/core/nanops.py:159: RuntimeWarning: Mean of empty slice\n",
      "  return np.nanmean(a, axis=axis, dtype=dtype)\n"
     ]
    },
    {
     "name": "stdout",
     "output_type": "stream",
     "text": [
      "1600\n",
      "./1028/saildrone-gen_5-west_coast_survey_2018-sd1028-20180911T080000-20180911T095959-1_minutes-v2.1536661815926.nc\n",
      "1601\n",
      "./1028/saildrone-gen_5-west_coast_survey_2018-sd1028-20180826T220000-20180826T235959-1_minutes-v2.1535329815943.nc\n"
     ]
    },
    {
     "name": "stderr",
     "output_type": "stream",
     "text": [
      "/Users/senyastein/miniconda3/envs/satenv/lib/python3.7/site-packages/xarray/core/nanops.py:159: RuntimeWarning: Mean of empty slice\n",
      "  return np.nanmean(a, axis=axis, dtype=dtype)\n",
      "/Users/senyastein/miniconda3/envs/satenv/lib/python3.7/site-packages/xarray/core/nanops.py:159: RuntimeWarning: Mean of empty slice\n",
      "  return np.nanmean(a, axis=axis, dtype=dtype)\n"
     ]
    },
    {
     "name": "stdout",
     "output_type": "stream",
     "text": [
      "1602\n",
      "./1028/saildrone-gen_5-west_coast_survey_2018-sd1028-20180919T180000-20180919T195959-1_minutes-v2.1537389014509.nc\n",
      "1603\n",
      "./1028/saildrone-gen_5-west_coast_survey_2018-sd1028-20180911T120000-20180911T135959-1_minutes-v2.1536676217168.nc\n",
      "1604\n"
     ]
    },
    {
     "name": "stderr",
     "output_type": "stream",
     "text": [
      "/Users/senyastein/miniconda3/envs/satenv/lib/python3.7/site-packages/xarray/core/nanops.py:159: RuntimeWarning: Mean of empty slice\n",
      "  return np.nanmean(a, axis=axis, dtype=dtype)\n",
      "/Users/senyastein/miniconda3/envs/satenv/lib/python3.7/site-packages/xarray/core/nanops.py:159: RuntimeWarning: Mean of empty slice\n",
      "  return np.nanmean(a, axis=axis, dtype=dtype)\n",
      "/Users/senyastein/miniconda3/envs/satenv/lib/python3.7/site-packages/xarray/core/nanops.py:159: RuntimeWarning: Mean of empty slice\n",
      "  return np.nanmean(a, axis=axis, dtype=dtype)\n"
     ]
    },
    {
     "name": "stdout",
     "output_type": "stream",
     "text": [
      "./1028/saildrone-gen_5-west_coast_survey_2018-sd1028-20180904T160000-20180904T175959-1_minutes-v2.1536085815133.nc\n",
      "1605\n",
      "./1028/saildrone-gen_5-west_coast_survey_2018-sd1028-20180809T120000-20180809T175959-1_minutes-v2.1533841241450.nc\n",
      "1606"
     ]
    },
    {
     "name": "stderr",
     "output_type": "stream",
     "text": [
      "/Users/senyastein/miniconda3/envs/satenv/lib/python3.7/site-packages/xarray/core/nanops.py:159: RuntimeWarning: Mean of empty slice\n",
      "  return np.nanmean(a, axis=axis, dtype=dtype)\n",
      "/Users/senyastein/miniconda3/envs/satenv/lib/python3.7/site-packages/xarray/core/nanops.py:159: RuntimeWarning: Mean of empty slice\n",
      "  return np.nanmean(a, axis=axis, dtype=dtype)\n"
     ]
    },
    {
     "name": "stdout",
     "output_type": "stream",
     "text": [
      "\n",
      "./1028/saildrone-gen_5-west_coast_survey_2018-sd1028-20180709T060000-20180709T115959-1_minutes-v2.1533315590072.nc\n",
      "1607\n",
      "./1028/saildrone-gen_5-west_coast_survey_2018-sd1028-20180913T020000-20180913T035959-1_minutes-v2.1536813016912.nc\n"
     ]
    },
    {
     "name": "stderr",
     "output_type": "stream",
     "text": [
      "/Users/senyastein/miniconda3/envs/satenv/lib/python3.7/site-packages/xarray/core/nanops.py:159: RuntimeWarning: Mean of empty slice\n",
      "  return np.nanmean(a, axis=axis, dtype=dtype)\n",
      "/Users/senyastein/miniconda3/envs/satenv/lib/python3.7/site-packages/xarray/core/nanops.py:159: RuntimeWarning: Mean of empty slice\n",
      "  return np.nanmean(a, axis=axis, dtype=dtype)\n",
      "/Users/senyastein/miniconda3/envs/satenv/lib/python3.7/site-packages/xarray/core/nanops.py:159: RuntimeWarning: Mean of empty slice\n",
      "  return np.nanmean(a, axis=axis, dtype=dtype)\n"
     ]
    },
    {
     "name": "stdout",
     "output_type": "stream",
     "text": [
      "1608\n",
      "./1028/saildrone-gen_5-west_coast_survey_2018-sd1028-20180630T180000-20180630T235959-1_minutes-v2.1533313745262.nc\n",
      "1609\n",
      "./1028/saildrone-gen_5-west_coast_survey_2018-sd1028-20180926T120000-20180926T135959-1_minutes-v2.1537972217332.nc\n",
      "1610\n",
      "./1028/saildrone-gen_5-west_coast_survey_2018-sd1028-20180825T000000-20180825T015959-1_minutes-v2.1535164220552.nc\n"
     ]
    },
    {
     "name": "stderr",
     "output_type": "stream",
     "text": [
      "/Users/senyastein/miniconda3/envs/satenv/lib/python3.7/site-packages/xarray/core/nanops.py:159: RuntimeWarning: Mean of empty slice\n",
      "  return np.nanmean(a, axis=axis, dtype=dtype)\n",
      "/Users/senyastein/miniconda3/envs/satenv/lib/python3.7/site-packages/xarray/core/nanops.py:159: RuntimeWarning: Mean of empty slice\n",
      "  return np.nanmean(a, axis=axis, dtype=dtype)\n",
      "/Users/senyastein/miniconda3/envs/satenv/lib/python3.7/site-packages/xarray/core/nanops.py:159: RuntimeWarning: Mean of empty slice\n",
      "  return np.nanmean(a, axis=axis, dtype=dtype)\n"
     ]
    },
    {
     "name": "stdout",
     "output_type": "stream",
     "text": [
      "1611\n",
      "./1028/saildrone-gen_5-west_coast_survey_2018-sd1028-20180810T180000-20180810T235959-1_minutes-v2.1533949237503.nc\n",
      "1612\n",
      "./1028/saildrone-gen_5-west_coast_survey_2018-sd1028-20180829T040000-20180829T055959-1_minutes-v2.1535524217918.nc\n",
      "1613\n",
      "./1028/saildrone-gen_5-west_coast_survey_2018-sd1028-20180901T180000-20180901T195959-1_minutes-v2.1535833815063.nc\n"
     ]
    },
    {
     "name": "stderr",
     "output_type": "stream",
     "text": [
      "/Users/senyastein/miniconda3/envs/satenv/lib/python3.7/site-packages/xarray/core/nanops.py:159: RuntimeWarning: Mean of empty slice\n",
      "  return np.nanmean(a, axis=axis, dtype=dtype)\n",
      "/Users/senyastein/miniconda3/envs/satenv/lib/python3.7/site-packages/xarray/core/nanops.py:159: RuntimeWarning: Mean of empty slice\n",
      "  return np.nanmean(a, axis=axis, dtype=dtype)\n",
      "/Users/senyastein/miniconda3/envs/satenv/lib/python3.7/site-packages/xarray/core/nanops.py:159: RuntimeWarning: Mean of empty slice\n",
      "  return np.nanmean(a, axis=axis, dtype=dtype)\n"
     ]
    },
    {
     "name": "stdout",
     "output_type": "stream",
     "text": [
      "1614\n",
      "./1028/saildrone-gen_5-west_coast_survey_2018-sd1028-20180903T140000-20180903T155959-1_minutes-v2.1535992215069.nc\n",
      "1615\n",
      "./1028/saildrone-gen_5-west_coast_survey_2018-sd1028-20180831T220000-20180831T235959-1_minutes-v2.1535761815256.nc\n",
      "1616\n",
      "./1028/saildrone-gen_5-west_coast_survey_2018-sd1028-20180905T220000-20180905T235959-1_minutes-v2.1536193830762.nc\n",
      "1617\n",
      "./1028/saildrone-gen_5-west_coast_survey_2018-sd1028-20181005T040000-20181005T055959-1_minutes-v2.1538721012358.nc\n",
      "1618\n",
      "./1028/saildrone-gen_5-west_coast_survey_2018-sd1028-20180901T140000-20180901T155959-1_minutes-v2.1535819415345.nc\n"
     ]
    },
    {
     "name": "stderr",
     "output_type": "stream",
     "text": [
      "/Users/senyastein/miniconda3/envs/satenv/lib/python3.7/site-packages/xarray/core/nanops.py:159: RuntimeWarning: Mean of empty slice\n",
      "  return np.nanmean(a, axis=axis, dtype=dtype)\n",
      "/Users/senyastein/miniconda3/envs/satenv/lib/python3.7/site-packages/xarray/core/nanops.py:159: RuntimeWarning: Mean of empty slice\n",
      "  return np.nanmean(a, axis=axis, dtype=dtype)\n",
      "/Users/senyastein/miniconda3/envs/satenv/lib/python3.7/site-packages/xarray/core/nanops.py:159: RuntimeWarning: Mean of empty slice\n",
      "  return np.nanmean(a, axis=axis, dtype=dtype)\n"
     ]
    },
    {
     "name": "stdout",
     "output_type": "stream",
     "text": [
      "1619\n",
      "./1028/saildrone-gen_5-west_coast_survey_2018-sd1028-20181001T140000-20181001T155959-1_minutes-v2.1538411419403.nc\n",
      "1620\n",
      "./1028/saildrone-gen_5-west_coast_survey_2018-sd1028-20180810T060000-20180810T115959-1_minutes-v2.1533906038348.nc\n",
      "1621"
     ]
    },
    {
     "name": "stderr",
     "output_type": "stream",
     "text": [
      "/Users/senyastein/miniconda3/envs/satenv/lib/python3.7/site-packages/xarray/core/nanops.py:159: RuntimeWarning: Mean of empty slice\n",
      "  return np.nanmean(a, axis=axis, dtype=dtype)\n",
      "/Users/senyastein/miniconda3/envs/satenv/lib/python3.7/site-packages/xarray/core/nanops.py:159: RuntimeWarning: Mean of empty slice\n",
      "  return np.nanmean(a, axis=axis, dtype=dtype)\n"
     ]
    },
    {
     "name": "stdout",
     "output_type": "stream",
     "text": [
      "\n",
      "./1028/saildrone-gen_5-west_coast_survey_2018-sd1028-20180726T060000-20180726T115959-1_minutes-v2.1533319588438.nc\n",
      "1622\n",
      "./1028/saildrone-gen_5-west_coast_survey_2018-sd1028-20180910T000000-20180910T015959-1_minutes-v2.1536546616346.nc\n"
     ]
    },
    {
     "name": "stderr",
     "output_type": "stream",
     "text": [
      "/Users/senyastein/miniconda3/envs/satenv/lib/python3.7/site-packages/xarray/core/nanops.py:159: RuntimeWarning: Mean of empty slice\n",
      "  return np.nanmean(a, axis=axis, dtype=dtype)\n",
      "/Users/senyastein/miniconda3/envs/satenv/lib/python3.7/site-packages/xarray/core/nanops.py:159: RuntimeWarning: Mean of empty slice\n",
      "  return np.nanmean(a, axis=axis, dtype=dtype)\n"
     ]
    },
    {
     "name": "stdout",
     "output_type": "stream",
     "text": [
      "1623\n",
      "./1028/saildrone-gen_5-west_coast_survey_2018-sd1028-20180920T140000-20180920T155959-1_minutes-v2.1537461014564.nc\n",
      "1624\n",
      "./1028/saildrone-gen_5-west_coast_survey_2018-sd1028-20180926T100000-20180926T115959-1_minutes-v2.1537965016279.nc\n",
      "1625\n",
      "./1028/saildrone-gen_5-west_coast_survey_2018-sd1028-20180916T040000-20180916T055959-1_minutes-v2.1537079415310.nc\n"
     ]
    },
    {
     "name": "stderr",
     "output_type": "stream",
     "text": [
      "/Users/senyastein/miniconda3/envs/satenv/lib/python3.7/site-packages/xarray/core/nanops.py:159: RuntimeWarning: Mean of empty slice\n",
      "  return np.nanmean(a, axis=axis, dtype=dtype)\n",
      "/Users/senyastein/miniconda3/envs/satenv/lib/python3.7/site-packages/xarray/core/nanops.py:159: RuntimeWarning: Mean of empty slice\n",
      "  return np.nanmean(a, axis=axis, dtype=dtype)\n",
      "/Users/senyastein/miniconda3/envs/satenv/lib/python3.7/site-packages/xarray/core/nanops.py:159: RuntimeWarning: Mean of empty slice\n",
      "  return np.nanmean(a, axis=axis, dtype=dtype)\n"
     ]
    },
    {
     "name": "stdout",
     "output_type": "stream",
     "text": [
      "1626\n",
      "./1028/saildrone-gen_5-west_coast_survey_2018-sd1028-20180929T120000-20180929T135959-1_minutes-v2.1538231412809.nc\n",
      "1627\n",
      "./1028/saildrone-gen_5-west_coast_survey_2018-sd1028-20180828T040000-20180828T055959-1_minutes-v2.1535437815992.nc\n"
     ]
    },
    {
     "name": "stderr",
     "output_type": "stream",
     "text": [
      "/Users/senyastein/miniconda3/envs/satenv/lib/python3.7/site-packages/xarray/core/nanops.py:159: RuntimeWarning: Mean of empty slice\n",
      "  return np.nanmean(a, axis=axis, dtype=dtype)\n",
      "/Users/senyastein/miniconda3/envs/satenv/lib/python3.7/site-packages/xarray/core/nanops.py:159: RuntimeWarning: Mean of empty slice\n",
      "  return np.nanmean(a, axis=axis, dtype=dtype)\n"
     ]
    },
    {
     "name": "stdout",
     "output_type": "stream",
     "text": [
      "1628\n",
      "./1028/saildrone-gen_5-west_coast_survey_2018-sd1028-20181005T120000-20181005T135959-1_minutes-v2.1538749813221.nc\n",
      "1629\n",
      "./1028/saildrone-gen_5-west_coast_survey_2018-sd1028-20180829T000000-20180829T015959-1_minutes-v2.1535509816375.nc\n",
      "1630\n",
      "./1028/saildrone-gen_5-west_coast_survey_2018-sd1028-20180913T120000-20180913T135959-1_minutes-v2.1536849019079.nc\n"
     ]
    },
    {
     "name": "stderr",
     "output_type": "stream",
     "text": [
      "/Users/senyastein/miniconda3/envs/satenv/lib/python3.7/site-packages/xarray/core/nanops.py:159: RuntimeWarning: Mean of empty slice\n",
      "  return np.nanmean(a, axis=axis, dtype=dtype)\n",
      "/Users/senyastein/miniconda3/envs/satenv/lib/python3.7/site-packages/xarray/core/nanops.py:159: RuntimeWarning: Mean of empty slice\n",
      "  return np.nanmean(a, axis=axis, dtype=dtype)\n",
      "/Users/senyastein/miniconda3/envs/satenv/lib/python3.7/site-packages/xarray/core/nanops.py:159: RuntimeWarning: Mean of empty slice\n",
      "  return np.nanmean(a, axis=axis, dtype=dtype)\n"
     ]
    },
    {
     "name": "stdout",
     "output_type": "stream",
     "text": [
      "1631\n",
      "./1028/saildrone-gen_5-west_coast_survey_2018-sd1028-20180921T200000-20180921T215959-1_minutes-v2.1537569014878.nc\n",
      "1632\n",
      "./1028/saildrone-gen_5-west_coast_survey_2018-sd1028-20181004T080000-20181004T095959-1_minutes-v2.1538649013146.nc\n"
     ]
    },
    {
     "name": "stderr",
     "output_type": "stream",
     "text": [
      "/Users/senyastein/miniconda3/envs/satenv/lib/python3.7/site-packages/xarray/core/nanops.py:159: RuntimeWarning: Mean of empty slice\n",
      "  return np.nanmean(a, axis=axis, dtype=dtype)\n",
      "/Users/senyastein/miniconda3/envs/satenv/lib/python3.7/site-packages/xarray/core/nanops.py:159: RuntimeWarning: Mean of empty slice\n",
      "  return np.nanmean(a, axis=axis, dtype=dtype)\n"
     ]
    },
    {
     "name": "stdout",
     "output_type": "stream",
     "text": [
      "1633\n",
      "./1028/saildrone-gen_5-west_coast_survey_2018-sd1028-20180916T120000-20180916T135959-1_minutes-v2.1537108215085.nc\n",
      "1634\n",
      "./1028/saildrone-gen_5-west_coast_survey_2018-sd1028-20180711T120000-20180711T175959-1_minutes-v2.1533316062001.nc\n",
      "1635\n",
      "./1028/saildrone-gen_5-west_coast_survey_2018-sd1028-20180824T040000-20180824T055959-1_minutes-v2.1535092214746.nc\n"
     ]
    },
    {
     "name": "stderr",
     "output_type": "stream",
     "text": [
      "/Users/senyastein/miniconda3/envs/satenv/lib/python3.7/site-packages/xarray/core/nanops.py:159: RuntimeWarning: Mean of empty slice\n",
      "  return np.nanmean(a, axis=axis, dtype=dtype)\n",
      "/Users/senyastein/miniconda3/envs/satenv/lib/python3.7/site-packages/xarray/core/nanops.py:159: RuntimeWarning: Mean of empty slice\n",
      "  return np.nanmean(a, axis=axis, dtype=dtype)\n",
      "/Users/senyastein/miniconda3/envs/satenv/lib/python3.7/site-packages/xarray/core/nanops.py:159: RuntimeWarning: Mean of empty slice\n",
      "  return np.nanmean(a, axis=axis, dtype=dtype)\n"
     ]
    },
    {
     "name": "stdout",
     "output_type": "stream",
     "text": [
      "1636\n",
      "./1028/saildrone-gen_5-west_coast_survey_2018-sd1028-20180906T000000-20180906T015959-1_minutes-v2.1536201016338.nc\n",
      "1637\n",
      "./1028/saildrone-gen_5-west_coast_survey_2018-sd1028-20180826T160000-20180826T175959-1_minutes-v2.1535308215959.nc\n",
      "1638\n",
      "./1028/saildrone-gen_5-west_coast_survey_2018-sd1028-20180724T000000-20180724T055959-1_minutes-v2.1533319055174.nc\n"
     ]
    },
    {
     "name": "stderr",
     "output_type": "stream",
     "text": [
      "/Users/senyastein/miniconda3/envs/satenv/lib/python3.7/site-packages/xarray/core/nanops.py:159: RuntimeWarning: Mean of empty slice\n",
      "  return np.nanmean(a, axis=axis, dtype=dtype)\n",
      "/Users/senyastein/miniconda3/envs/satenv/lib/python3.7/site-packages/xarray/core/nanops.py:159: RuntimeWarning: Mean of empty slice\n",
      "  return np.nanmean(a, axis=axis, dtype=dtype)\n",
      "/Users/senyastein/miniconda3/envs/satenv/lib/python3.7/site-packages/xarray/core/nanops.py:159: RuntimeWarning: Mean of empty slice\n",
      "  return np.nanmean(a, axis=axis, dtype=dtype)\n"
     ]
    },
    {
     "name": "stdout",
     "output_type": "stream",
     "text": [
      "1639\n",
      "./1028/saildrone-gen_5-west_coast_survey_2018-sd1028-20180825T060000-20180825T075959-1_minutes-v2.1535185814967.nc\n",
      "1640\n",
      "./1028/saildrone-gen_5-west_coast_survey_2018-sd1028-20180920T060000-20180920T075959-1_minutes-v2.1537432214959.nc\n",
      "1641\n",
      "./1028/saildrone-gen_5-west_coast_survey_2018-sd1028-20180924T020000-20180924T035959-1_minutes-v2.1537763415471.nc\n"
     ]
    },
    {
     "name": "stderr",
     "output_type": "stream",
     "text": [
      "/Users/senyastein/miniconda3/envs/satenv/lib/python3.7/site-packages/xarray/core/nanops.py:159: RuntimeWarning: Mean of empty slice\n",
      "  return np.nanmean(a, axis=axis, dtype=dtype)\n",
      "/Users/senyastein/miniconda3/envs/satenv/lib/python3.7/site-packages/xarray/core/nanops.py:159: RuntimeWarning: Mean of empty slice\n",
      "  return np.nanmean(a, axis=axis, dtype=dtype)\n",
      "/Users/senyastein/miniconda3/envs/satenv/lib/python3.7/site-packages/xarray/core/nanops.py:159: RuntimeWarning: Mean of empty slice\n",
      "  return np.nanmean(a, axis=axis, dtype=dtype)\n",
      "/Users/senyastein/miniconda3/envs/satenv/lib/python3.7/site-packages/xarray/core/nanops.py:159: RuntimeWarning: Mean of empty slice\n",
      "  return np.nanmean(a, axis=axis, dtype=dtype)\n"
     ]
    },
    {
     "name": "stdout",
     "output_type": "stream",
     "text": [
      "1642\n",
      "./1028/saildrone-gen_5-west_coast_survey_2018-sd1028-20180822T060000-20180822T115959-1_minutes-v2.1534942835896.nc\n",
      "1643\n",
      "./1028/saildrone-gen_5-west_coast_survey_2018-sd1028-20180905T160000-20180905T175959-1_minutes-v2.1536172215510.nc\n"
     ]
    },
    {
     "name": "stderr",
     "output_type": "stream",
     "text": [
      "/Users/senyastein/miniconda3/envs/satenv/lib/python3.7/site-packages/xarray/core/nanops.py:159: RuntimeWarning: Mean of empty slice\n",
      "  return np.nanmean(a, axis=axis, dtype=dtype)\n",
      "/Users/senyastein/miniconda3/envs/satenv/lib/python3.7/site-packages/xarray/core/nanops.py:159: RuntimeWarning: Mean of empty slice\n",
      "  return np.nanmean(a, axis=axis, dtype=dtype)\n"
     ]
    },
    {
     "name": "stdout",
     "output_type": "stream",
     "text": [
      "1644\n",
      "./1028/saildrone-gen_5-west_coast_survey_2018-sd1028-20180707T060000-20180707T115959-1_minutes-v2.1533315151928.nc\n",
      "1645\n",
      "./1028/saildrone-gen_5-west_coast_survey_2018-sd1028-20180906T080000-20180906T095959-1_minutes-v2.1536229815051.nc\n"
     ]
    },
    {
     "name": "stderr",
     "output_type": "stream",
     "text": [
      "/Users/senyastein/miniconda3/envs/satenv/lib/python3.7/site-packages/xarray/core/nanops.py:159: RuntimeWarning: Mean of empty slice\n",
      "  return np.nanmean(a, axis=axis, dtype=dtype)\n",
      "/Users/senyastein/miniconda3/envs/satenv/lib/python3.7/site-packages/xarray/core/nanops.py:159: RuntimeWarning: Mean of empty slice\n",
      "  return np.nanmean(a, axis=axis, dtype=dtype)\n"
     ]
    },
    {
     "name": "stdout",
     "output_type": "stream",
     "text": [
      "1646\n",
      "./1028/saildrone-gen_5-west_coast_survey_2018-sd1028-20180921T100000-20180921T115959-1_minutes-v2.1537533014469.nc\n",
      "1647\n",
      "./1028/saildrone-gen_5-west_coast_survey_2018-sd1028-20180722T060000-20180722T115959-1_minutes-v2.1533318657000.nc\n"
     ]
    },
    {
     "name": "stderr",
     "output_type": "stream",
     "text": [
      "/Users/senyastein/miniconda3/envs/satenv/lib/python3.7/site-packages/xarray/core/nanops.py:159: RuntimeWarning: Mean of empty slice\n",
      "  return np.nanmean(a, axis=axis, dtype=dtype)\n",
      "/Users/senyastein/miniconda3/envs/satenv/lib/python3.7/site-packages/xarray/core/nanops.py:159: RuntimeWarning: Mean of empty slice\n",
      "  return np.nanmean(a, axis=axis, dtype=dtype)\n",
      "/Users/senyastein/miniconda3/envs/satenv/lib/python3.7/site-packages/xarray/core/nanops.py:159: RuntimeWarning: Mean of empty slice\n",
      "  return np.nanmean(a, axis=axis, dtype=dtype)\n"
     ]
    },
    {
     "name": "stdout",
     "output_type": "stream",
     "text": [
      "1648\n",
      "./1028/saildrone-gen_5-west_coast_survey_2018-sd1028-20180908T180000-20180908T195959-1_minutes-v2.1536438615061.nc\n",
      "1649\n",
      "./1028/saildrone-gen_5-west_coast_survey_2018-sd1028-20180826T180000-20180826T195959-1_minutes-v2.1535315415808.nc\n",
      "1650\n",
      "./1028/saildrone-gen_5-west_coast_survey_2018-sd1028-20180903T040000-20180903T055959-1_minutes-v2.1535956215573.nc\n",
      "1651\n",
      "./1028/saildrone-gen_5-west_coast_survey_2018-sd1028-20180912T000000-20180912T015959-1_minutes-v2.1536719416632.nc\n",
      "1652\n",
      "./1028/saildrone-gen_5-west_coast_survey_2018-sd1028-20180830T160000-20180830T175959-1_minutes-v2.1535653831046.nc\n"
     ]
    },
    {
     "name": "stderr",
     "output_type": "stream",
     "text": [
      "/Users/senyastein/miniconda3/envs/satenv/lib/python3.7/site-packages/xarray/core/nanops.py:159: RuntimeWarning: Mean of empty slice\n",
      "  return np.nanmean(a, axis=axis, dtype=dtype)\n",
      "/Users/senyastein/miniconda3/envs/satenv/lib/python3.7/site-packages/xarray/core/nanops.py:159: RuntimeWarning: Mean of empty slice\n",
      "  return np.nanmean(a, axis=axis, dtype=dtype)\n",
      "/Users/senyastein/miniconda3/envs/satenv/lib/python3.7/site-packages/xarray/core/nanops.py:159: RuntimeWarning: Mean of empty slice\n",
      "  return np.nanmean(a, axis=axis, dtype=dtype)\n"
     ]
    },
    {
     "name": "stdout",
     "output_type": "stream",
     "text": [
      "1653\n",
      "./1028/saildrone-gen_5-west_coast_survey_2018-sd1028-20180828T140000-20180828T155959-1_minutes-v2.1535473815310.nc\n",
      "1654\n",
      "./1028/saildrone-gen_5-west_coast_survey_2018-sd1028-20180811T060000-20180811T115959-1_minutes-v2.1533992437242.nc\n"
     ]
    },
    {
     "name": "stderr",
     "output_type": "stream",
     "text": [
      "/Users/senyastein/miniconda3/envs/satenv/lib/python3.7/site-packages/xarray/core/nanops.py:159: RuntimeWarning: Mean of empty slice\n",
      "  return np.nanmean(a, axis=axis, dtype=dtype)\n",
      "/Users/senyastein/miniconda3/envs/satenv/lib/python3.7/site-packages/xarray/core/nanops.py:159: RuntimeWarning: Mean of empty slice\n",
      "  return np.nanmean(a, axis=axis, dtype=dtype)\n"
     ]
    },
    {
     "name": "stdout",
     "output_type": "stream",
     "text": [
      "1655\n",
      "./1028/saildrone-gen_5-west_coast_survey_2018-sd1028-20180926T200000-20180926T215959-1_minutes-v2.1538001014801.nc\n",
      "1656\n",
      "./1028/saildrone-gen_5-west_coast_survey_2018-sd1028-20180904T020000-20180904T035959-1_minutes-v2.1536035418062.nc\n",
      "1657\n",
      "./1028/saildrone-gen_5-west_coast_survey_2018-sd1028-20180929T180000-20180929T195959-1_minutes-v2.1538253013640.nc\n"
     ]
    },
    {
     "name": "stderr",
     "output_type": "stream",
     "text": [
      "/Users/senyastein/miniconda3/envs/satenv/lib/python3.7/site-packages/xarray/core/nanops.py:159: RuntimeWarning: Mean of empty slice\n",
      "  return np.nanmean(a, axis=axis, dtype=dtype)\n",
      "/Users/senyastein/miniconda3/envs/satenv/lib/python3.7/site-packages/xarray/core/nanops.py:159: RuntimeWarning: Mean of empty slice\n",
      "  return np.nanmean(a, axis=axis, dtype=dtype)\n",
      "/Users/senyastein/miniconda3/envs/satenv/lib/python3.7/site-packages/xarray/core/nanops.py:159: RuntimeWarning: Mean of empty slice\n",
      "  return np.nanmean(a, axis=axis, dtype=dtype)\n"
     ]
    },
    {
     "name": "stdout",
     "output_type": "stream",
     "text": [
      "1658\n",
      "./1028/saildrone-gen_5-west_coast_survey_2018-sd1028-20181005T100000-20181005T115959-1_minutes-v2.1538742613328.nc\n",
      "1659\n",
      "./1028/saildrone-gen_5-west_coast_survey_2018-sd1028-20180913T060000-20180913T075959-1_minutes-v2.1536827429403.nc\n"
     ]
    },
    {
     "name": "stderr",
     "output_type": "stream",
     "text": [
      "/Users/senyastein/miniconda3/envs/satenv/lib/python3.7/site-packages/xarray/core/nanops.py:159: RuntimeWarning: Mean of empty slice\n",
      "  return np.nanmean(a, axis=axis, dtype=dtype)\n",
      "/Users/senyastein/miniconda3/envs/satenv/lib/python3.7/site-packages/xarray/core/nanops.py:159: RuntimeWarning: Mean of empty slice\n",
      "  return np.nanmean(a, axis=axis, dtype=dtype)\n"
     ]
    },
    {
     "name": "stdout",
     "output_type": "stream",
     "text": [
      "1660\n",
      "./1028/saildrone-gen_5-west_coast_survey_2018-sd1028-20180909T080000-20180909T095959-1_minutes-v2.1536489015567.nc\n",
      "1661\n",
      "./1028/saildrone-gen_5-west_coast_survey_2018-sd1028-20180810T000000-20180810T055959-1_minutes-v2.1533884441334.nc\n"
     ]
    },
    {
     "name": "stderr",
     "output_type": "stream",
     "text": [
      "/Users/senyastein/miniconda3/envs/satenv/lib/python3.7/site-packages/xarray/core/nanops.py:159: RuntimeWarning: Mean of empty slice\n",
      "  return np.nanmean(a, axis=axis, dtype=dtype)\n",
      "/Users/senyastein/miniconda3/envs/satenv/lib/python3.7/site-packages/xarray/core/nanops.py:159: RuntimeWarning: Mean of empty slice\n",
      "  return np.nanmean(a, axis=axis, dtype=dtype)\n",
      "/Users/senyastein/miniconda3/envs/satenv/lib/python3.7/site-packages/xarray/core/nanops.py:159: RuntimeWarning: Mean of empty slice\n",
      "  return np.nanmean(a, axis=axis, dtype=dtype)\n"
     ]
    },
    {
     "name": "stdout",
     "output_type": "stream",
     "text": [
      "1662\n",
      "./1028/saildrone-gen_5-west_coast_survey_2018-sd1028-20180901T020000-20180901T035959-1_minutes-v2.1535776216053.nc\n",
      "1663\n",
      "./1028/saildrone-gen_5-west_coast_survey_2018-sd1028-20180925T060000-20180925T075959-1_minutes-v2.1537864216995.nc\n"
     ]
    },
    {
     "name": "stderr",
     "output_type": "stream",
     "text": [
      "/Users/senyastein/miniconda3/envs/satenv/lib/python3.7/site-packages/xarray/core/nanops.py:159: RuntimeWarning: Mean of empty slice\n",
      "  return np.nanmean(a, axis=axis, dtype=dtype)\n",
      "/Users/senyastein/miniconda3/envs/satenv/lib/python3.7/site-packages/xarray/core/nanops.py:159: RuntimeWarning: Mean of empty slice\n",
      "  return np.nanmean(a, axis=axis, dtype=dtype)\n"
     ]
    },
    {
     "name": "stdout",
     "output_type": "stream",
     "text": [
      "1664\n",
      "./1028/saildrone-gen_5-west_coast_survey_2018-sd1028-20181002T160000-20181002T175959-1_minutes-v2.1538505035035.nc\n",
      "1665\n",
      "./1028/saildrone-gen_5-west_coast_survey_2018-sd1028-20180908T080000-20180908T095959-1_minutes-v2.1536402629443.nc\n"
     ]
    },
    {
     "name": "stderr",
     "output_type": "stream",
     "text": [
      "/Users/senyastein/miniconda3/envs/satenv/lib/python3.7/site-packages/xarray/core/nanops.py:159: RuntimeWarning: Mean of empty slice\n",
      "  return np.nanmean(a, axis=axis, dtype=dtype)\n",
      "/Users/senyastein/miniconda3/envs/satenv/lib/python3.7/site-packages/xarray/core/nanops.py:159: RuntimeWarning: Mean of empty slice\n",
      "  return np.nanmean(a, axis=axis, dtype=dtype)\n"
     ]
    },
    {
     "name": "stdout",
     "output_type": "stream",
     "text": [
      "1666\n",
      "./1028/saildrone-gen_5-west_coast_survey_2018-sd1028-20180902T000000-20180902T015959-1_minutes-v2.1535855416257.nc\n",
      "1667\n",
      "./1028/saildrone-gen_5-west_coast_survey_2018-sd1028-20180930T000000-20180930T015959-1_minutes-v2.1538274613801.nc\n"
     ]
    },
    {
     "name": "stderr",
     "output_type": "stream",
     "text": [
      "/Users/senyastein/miniconda3/envs/satenv/lib/python3.7/site-packages/xarray/core/nanops.py:159: RuntimeWarning: Mean of empty slice\n",
      "  return np.nanmean(a, axis=axis, dtype=dtype)\n",
      "/Users/senyastein/miniconda3/envs/satenv/lib/python3.7/site-packages/xarray/core/nanops.py:159: RuntimeWarning: Mean of empty slice\n",
      "  return np.nanmean(a, axis=axis, dtype=dtype)\n",
      "/Users/senyastein/miniconda3/envs/satenv/lib/python3.7/site-packages/xarray/core/nanops.py:159: RuntimeWarning: Mean of empty slice\n",
      "  return np.nanmean(a, axis=axis, dtype=dtype)\n"
     ]
    },
    {
     "name": "stdout",
     "output_type": "stream",
     "text": [
      "1668\n",
      "./1028/saildrone-gen_5-west_coast_survey_2018-sd1028-20181001T120000-20181001T135959-1_minutes-v2.1538404213686.nc\n",
      "1669\n",
      "./1028/saildrone-gen_5-west_coast_survey_2018-sd1028-20180828T100000-20180828T115959-1_minutes-v2.1535459415101.nc\n",
      "1670\n",
      "./1028/saildrone-gen_5-west_coast_survey_2018-sd1028-20180715T120000-20180715T175959-1_minutes-v2.1533317062302.nc\n",
      "1671\n",
      "./1028/saildrone-gen_5-west_coast_survey_2018-sd1028-20180905T200000-20180905T215959-1_minutes-v2.1536186615171.nc\n"
     ]
    },
    {
     "name": "stderr",
     "output_type": "stream",
     "text": [
      "/Users/senyastein/miniconda3/envs/satenv/lib/python3.7/site-packages/xarray/core/nanops.py:159: RuntimeWarning: Mean of empty slice\n",
      "  return np.nanmean(a, axis=axis, dtype=dtype)\n",
      "/Users/senyastein/miniconda3/envs/satenv/lib/python3.7/site-packages/xarray/core/nanops.py:159: RuntimeWarning: Mean of empty slice\n",
      "  return np.nanmean(a, axis=axis, dtype=dtype)\n"
     ]
    },
    {
     "name": "stdout",
     "output_type": "stream",
     "text": [
      "1672\n",
      "./1028/saildrone-gen_5-west_coast_survey_2018-sd1028-20180909T140000-20180909T155959-1_minutes-v2.1536510615470.nc\n",
      "1673\n",
      "./1028/saildrone-gen_5-west_coast_survey_2018-sd1028-20180825T160000-20180825T175959-1_minutes-v2.1535221814938.nc\n"
     ]
    },
    {
     "name": "stderr",
     "output_type": "stream",
     "text": [
      "/Users/senyastein/miniconda3/envs/satenv/lib/python3.7/site-packages/xarray/core/nanops.py:159: RuntimeWarning: Mean of empty slice\n",
      "  return np.nanmean(a, axis=axis, dtype=dtype)\n",
      "/Users/senyastein/miniconda3/envs/satenv/lib/python3.7/site-packages/xarray/core/nanops.py:159: RuntimeWarning: Mean of empty slice\n",
      "  return np.nanmean(a, axis=axis, dtype=dtype)\n"
     ]
    },
    {
     "name": "stdout",
     "output_type": "stream",
     "text": [
      "1674\n",
      "./1028/saildrone-gen_5-west_coast_survey_2018-sd1028-20180902T020000-20180902T035959-1_minutes-v2.1535862614870.nc\n",
      "1675\n",
      "./1028/saildrone-gen_5-west_coast_survey_2018-sd1028-20180914T020000-20180914T035959-1_minutes-v2.1536899410996.nc\n"
     ]
    },
    {
     "name": "stderr",
     "output_type": "stream",
     "text": [
      "/Users/senyastein/miniconda3/envs/satenv/lib/python3.7/site-packages/xarray/core/nanops.py:159: RuntimeWarning: Mean of empty slice\n",
      "  return np.nanmean(a, axis=axis, dtype=dtype)\n",
      "/Users/senyastein/miniconda3/envs/satenv/lib/python3.7/site-packages/xarray/core/nanops.py:159: RuntimeWarning: Mean of empty slice\n",
      "  return np.nanmean(a, axis=axis, dtype=dtype)\n",
      "/Users/senyastein/miniconda3/envs/satenv/lib/python3.7/site-packages/xarray/core/nanops.py:159: RuntimeWarning: Mean of empty slice\n",
      "  return np.nanmean(a, axis=axis, dtype=dtype)\n"
     ]
    },
    {
     "name": "stdout",
     "output_type": "stream",
     "text": [
      "1676\n",
      "./1028/saildrone-gen_5-west_coast_survey_2018-sd1028-20181004T220000-20181004T235959-1_minutes-v2.1538699412774.nc\n",
      "1677\n",
      "./1028/saildrone-gen_5-west_coast_survey_2018-sd1028-20180924T120000-20180924T135959-1_minutes-v2.1537799415129.nc\n",
      "1678\n",
      "./1028/saildrone-gen_5-west_coast_survey_2018-sd1028-20180704T180000-20180704T235959-1_minutes-v2.1533314599664.nc\n"
     ]
    },
    {
     "name": "stderr",
     "output_type": "stream",
     "text": [
      "/Users/senyastein/miniconda3/envs/satenv/lib/python3.7/site-packages/xarray/core/nanops.py:159: RuntimeWarning: Mean of empty slice\n",
      "  return np.nanmean(a, axis=axis, dtype=dtype)\n",
      "/Users/senyastein/miniconda3/envs/satenv/lib/python3.7/site-packages/xarray/core/nanops.py:159: RuntimeWarning: Mean of empty slice\n",
      "  return np.nanmean(a, axis=axis, dtype=dtype)\n"
     ]
    },
    {
     "name": "stdout",
     "output_type": "stream",
     "text": [
      "1679\n",
      "./1028/saildrone-gen_5-west_coast_survey_2018-sd1028-20180818T180000-20180818T235959-1_minutes-v2.1534640434408.nc\n",
      "1680\n",
      "./1028/saildrone-gen_5-west_coast_survey_2018-sd1028-20180903T120000-20180903T135959-1_minutes-v2.1535985015891.nc\n",
      "1681\n",
      "./1028/saildrone-gen_5-west_coast_survey_2018-sd1028-20180718T180000-20180718T235959-1_minutes-v2.1533317867309.nc\n"
     ]
    },
    {
     "name": "stderr",
     "output_type": "stream",
     "text": [
      "/Users/senyastein/miniconda3/envs/satenv/lib/python3.7/site-packages/xarray/core/nanops.py:159: RuntimeWarning: Mean of empty slice\n",
      "  return np.nanmean(a, axis=axis, dtype=dtype)\n",
      "/Users/senyastein/miniconda3/envs/satenv/lib/python3.7/site-packages/xarray/core/nanops.py:159: RuntimeWarning: Mean of empty slice\n",
      "  return np.nanmean(a, axis=axis, dtype=dtype)\n",
      "/Users/senyastein/miniconda3/envs/satenv/lib/python3.7/site-packages/xarray/core/nanops.py:159: RuntimeWarning: Mean of empty slice\n",
      "  return np.nanmean(a, axis=axis, dtype=dtype)\n"
     ]
    },
    {
     "name": "stdout",
     "output_type": "stream",
     "text": [
      "1682\n",
      "./1028/saildrone-gen_5-west_coast_survey_2018-sd1028-20180903T060000-20180903T075959-1_minutes-v2.1535963415440.nc\n",
      "1683\n",
      "./1028/saildrone-gen_5-west_coast_survey_2018-sd1028-20180701T180000-20180701T235959-1_minutes-v2.1533313961648.nc\n",
      "1684\n",
      "./1028/saildrone-gen_5-west_coast_survey_2018-sd1028-20180828T220000-20180828T235959-1_minutes-v2.1535502615008.nc\n"
     ]
    },
    {
     "name": "stderr",
     "output_type": "stream",
     "text": [
      "/Users/senyastein/miniconda3/envs/satenv/lib/python3.7/site-packages/xarray/core/nanops.py:159: RuntimeWarning: Mean of empty slice\n",
      "  return np.nanmean(a, axis=axis, dtype=dtype)\n",
      "/Users/senyastein/miniconda3/envs/satenv/lib/python3.7/site-packages/xarray/core/nanops.py:159: RuntimeWarning: Mean of empty slice\n",
      "  return np.nanmean(a, axis=axis, dtype=dtype)\n",
      "/Users/senyastein/miniconda3/envs/satenv/lib/python3.7/site-packages/xarray/core/nanops.py:159: RuntimeWarning: Mean of empty slice\n",
      "  return np.nanmean(a, axis=axis, dtype=dtype)\n"
     ]
    },
    {
     "name": "stdout",
     "output_type": "stream",
     "text": [
      "1685\n",
      "./1028/saildrone-gen_5-west_coast_survey_2018-sd1028-20180910T100000-20180910T115959-1_minutes-v2.1536582634404.nc\n",
      "1686\n",
      "./1028/saildrone-gen_5-west_coast_survey_2018-sd1028-20180913T080000-20180913T095959-1_minutes-v2.1536834634753.nc\n",
      "1687\n"
     ]
    },
    {
     "name": "stderr",
     "output_type": "stream",
     "text": [
      "/Users/senyastein/miniconda3/envs/satenv/lib/python3.7/site-packages/xarray/core/nanops.py:159: RuntimeWarning: Mean of empty slice\n",
      "  return np.nanmean(a, axis=axis, dtype=dtype)\n",
      "/Users/senyastein/miniconda3/envs/satenv/lib/python3.7/site-packages/xarray/core/nanops.py:159: RuntimeWarning: Mean of empty slice\n",
      "  return np.nanmean(a, axis=axis, dtype=dtype)\n"
     ]
    },
    {
     "name": "stdout",
     "output_type": "stream",
     "text": [
      "./1028/saildrone-gen_5-west_coast_survey_2018-sd1028-20180921T060000-20180921T075959-1_minutes-v2.1537518614843.nc\n",
      "1688\n",
      "./1028/saildrone-gen_5-west_coast_survey_2018-sd1028-20180903T020000-20180903T035959-1_minutes-v2.1535949015360.nc\n"
     ]
    },
    {
     "name": "stderr",
     "output_type": "stream",
     "text": [
      "/Users/senyastein/miniconda3/envs/satenv/lib/python3.7/site-packages/xarray/core/nanops.py:159: RuntimeWarning: Mean of empty slice\n",
      "  return np.nanmean(a, axis=axis, dtype=dtype)\n",
      "/Users/senyastein/miniconda3/envs/satenv/lib/python3.7/site-packages/xarray/core/nanops.py:159: RuntimeWarning: Mean of empty slice\n",
      "  return np.nanmean(a, axis=axis, dtype=dtype)\n"
     ]
    },
    {
     "name": "stdout",
     "output_type": "stream",
     "text": [
      "1689\n",
      "./1028/saildrone-gen_5-west_coast_survey_2018-sd1028-20180829T220000-20180829T235959-1_minutes-v2.1535589015394.nc\n",
      "1690\n",
      "./1028/saildrone-gen_5-west_coast_survey_2018-sd1028-20180905T020000-20180905T035959-1_minutes-v2.1536121815007.nc\n"
     ]
    },
    {
     "name": "stderr",
     "output_type": "stream",
     "text": [
      "/Users/senyastein/miniconda3/envs/satenv/lib/python3.7/site-packages/xarray/core/nanops.py:159: RuntimeWarning: Mean of empty slice\n",
      "  return np.nanmean(a, axis=axis, dtype=dtype)\n",
      "/Users/senyastein/miniconda3/envs/satenv/lib/python3.7/site-packages/xarray/core/nanops.py:159: RuntimeWarning: Mean of empty slice\n",
      "  return np.nanmean(a, axis=axis, dtype=dtype)\n"
     ]
    },
    {
     "name": "stdout",
     "output_type": "stream",
     "text": [
      "1691\n",
      "./1028/saildrone-gen_5-west_coast_survey_2018-sd1028-20180725T120000-20180725T175959-1_minutes-v2.1533319407847.nc\n",
      "1692\n",
      "./1028/saildrone-gen_5-west_coast_survey_2018-sd1028-20180701T000000-20180701T055959-1_minutes-v2.1533313793647.nc\n"
     ]
    },
    {
     "name": "stderr",
     "output_type": "stream",
     "text": [
      "/Users/senyastein/miniconda3/envs/satenv/lib/python3.7/site-packages/xarray/core/nanops.py:159: RuntimeWarning: Mean of empty slice\n",
      "  return np.nanmean(a, axis=axis, dtype=dtype)\n",
      "/Users/senyastein/miniconda3/envs/satenv/lib/python3.7/site-packages/xarray/core/nanops.py:159: RuntimeWarning: Mean of empty slice\n",
      "  return np.nanmean(a, axis=axis, dtype=dtype)\n"
     ]
    },
    {
     "name": "stdout",
     "output_type": "stream",
     "text": [
      "1693\n",
      "./1028/saildrone-gen_5-west_coast_survey_2018-sd1028-20181004T200000-20181004T215959-1_minutes-v2.1538692212611.nc\n"
     ]
    },
    {
     "name": "stderr",
     "output_type": "stream",
     "text": [
      "/Users/senyastein/miniconda3/envs/satenv/lib/python3.7/site-packages/xarray/core/nanops.py:159: RuntimeWarning: Mean of empty slice\n",
      "  return np.nanmean(a, axis=axis, dtype=dtype)\n"
     ]
    },
    {
     "name": "stdout",
     "output_type": "stream",
     "text": [
      "1694\n",
      "./1028/saildrone-gen_5-west_coast_survey_2018-sd1028-20180819T000000-20180819T055959-1_minutes-v2.1534662047603.nc\n",
      "1695\n",
      "./1028/saildrone-gen_5-west_coast_survey_2018-sd1028-20180627T180000-20180627T235959-1_minutes-v2.1533313043287.nc\n"
     ]
    },
    {
     "name": "stderr",
     "output_type": "stream",
     "text": [
      "/Users/senyastein/miniconda3/envs/satenv/lib/python3.7/site-packages/xarray/core/nanops.py:159: RuntimeWarning: Mean of empty slice\n",
      "  return np.nanmean(a, axis=axis, dtype=dtype)\n",
      "/Users/senyastein/miniconda3/envs/satenv/lib/python3.7/site-packages/xarray/core/nanops.py:159: RuntimeWarning: Mean of empty slice\n",
      "  return np.nanmean(a, axis=axis, dtype=dtype)\n"
     ]
    },
    {
     "name": "stdout",
     "output_type": "stream",
     "text": [
      "1696\n",
      "./1028/saildrone-gen_5-west_coast_survey_2018-sd1028-20180703T120000-20180703T175959-1_minutes-v2.1533314351797.nc\n",
      "1697\n",
      "./1028/saildrone-gen_5-west_coast_survey_2018-sd1028-20180930T100000-20180930T115959-1_minutes-v2.1538310612885.nc\n"
     ]
    },
    {
     "name": "stderr",
     "output_type": "stream",
     "text": [
      "/Users/senyastein/miniconda3/envs/satenv/lib/python3.7/site-packages/xarray/core/nanops.py:159: RuntimeWarning: Mean of empty slice\n",
      "  return np.nanmean(a, axis=axis, dtype=dtype)\n",
      "/Users/senyastein/miniconda3/envs/satenv/lib/python3.7/site-packages/xarray/core/nanops.py:159: RuntimeWarning: Mean of empty slice\n",
      "  return np.nanmean(a, axis=axis, dtype=dtype)\n"
     ]
    },
    {
     "name": "stdout",
     "output_type": "stream",
     "text": [
      "1698\n",
      "./1028/saildrone-gen_5-west_coast_survey_2018-sd1028-20180914T140000-20180914T155959-1_minutes-v2.1536942615855.nc\n",
      "1699\n",
      "./1028/saildrone-gen_5-west_coast_survey_2018-sd1028-20180914T200000-20180914T215959-1_minutes-v2.1536964229305.nc\n"
     ]
    },
    {
     "name": "stderr",
     "output_type": "stream",
     "text": [
      "/Users/senyastein/miniconda3/envs/satenv/lib/python3.7/site-packages/xarray/core/nanops.py:159: RuntimeWarning: Mean of empty slice\n",
      "  return np.nanmean(a, axis=axis, dtype=dtype)\n",
      "/Users/senyastein/miniconda3/envs/satenv/lib/python3.7/site-packages/xarray/core/nanops.py:159: RuntimeWarning: Mean of empty slice\n",
      "  return np.nanmean(a, axis=axis, dtype=dtype)\n"
     ]
    },
    {
     "name": "stdout",
     "output_type": "stream",
     "text": [
      "1700\n",
      "./1028/saildrone-gen_5-west_coast_survey_2018-sd1028-20180915T200000-20180915T215959-1_minutes-v2.1537050615552.nc\n",
      "1701\n",
      "./1028/saildrone-gen_5-west_coast_survey_2018-sd1028-20180827T020000-20180827T035959-1_minutes-v2.1535344214308.nc\n"
     ]
    },
    {
     "name": "stderr",
     "output_type": "stream",
     "text": [
      "/Users/senyastein/miniconda3/envs/satenv/lib/python3.7/site-packages/xarray/core/nanops.py:159: RuntimeWarning: Mean of empty slice\n",
      "  return np.nanmean(a, axis=axis, dtype=dtype)\n",
      "/Users/senyastein/miniconda3/envs/satenv/lib/python3.7/site-packages/xarray/core/nanops.py:159: RuntimeWarning: Mean of empty slice\n",
      "  return np.nanmean(a, axis=axis, dtype=dtype)\n"
     ]
    },
    {
     "name": "stdout",
     "output_type": "stream",
     "text": [
      "1702\n",
      "./1028/saildrone-gen_5-west_coast_survey_2018-sd1028-20181002T140000-20181002T155959-1_minutes-v2.1538497813469.nc\n",
      "1703\n",
      "./1028/saildrone-gen_5-west_coast_survey_2018-sd1028-20180806T120000-20180806T175959-1_minutes-v2.1533582075142.nc\n"
     ]
    },
    {
     "name": "stderr",
     "output_type": "stream",
     "text": [
      "/Users/senyastein/miniconda3/envs/satenv/lib/python3.7/site-packages/xarray/core/nanops.py:159: RuntimeWarning: Mean of empty slice\n",
      "  return np.nanmean(a, axis=axis, dtype=dtype)\n",
      "/Users/senyastein/miniconda3/envs/satenv/lib/python3.7/site-packages/xarray/core/nanops.py:159: RuntimeWarning: Mean of empty slice\n",
      "  return np.nanmean(a, axis=axis, dtype=dtype)\n"
     ]
    },
    {
     "name": "stdout",
     "output_type": "stream",
     "text": [
      "1704\n",
      "./1028/saildrone-gen_5-west_coast_survey_2018-sd1028-20180912T140000-20180912T155959-1_minutes-v2.1536769816029.nc\n",
      "1705\n",
      "./1028/saildrone-gen_5-west_coast_survey_2018-sd1028-20180714T060000-20180714T115959-1_minutes-v2.1533316749309.nc\n"
     ]
    },
    {
     "name": "stderr",
     "output_type": "stream",
     "text": [
      "/Users/senyastein/miniconda3/envs/satenv/lib/python3.7/site-packages/xarray/core/nanops.py:159: RuntimeWarning: Mean of empty slice\n",
      "  return np.nanmean(a, axis=axis, dtype=dtype)\n",
      "/Users/senyastein/miniconda3/envs/satenv/lib/python3.7/site-packages/xarray/core/nanops.py:159: RuntimeWarning: Mean of empty slice\n",
      "  return np.nanmean(a, axis=axis, dtype=dtype)\n",
      "/Users/senyastein/miniconda3/envs/satenv/lib/python3.7/site-packages/xarray/core/nanops.py:159: RuntimeWarning: Mean of empty slice\n",
      "  return np.nanmean(a, axis=axis, dtype=dtype)\n"
     ]
    },
    {
     "name": "stdout",
     "output_type": "stream",
     "text": [
      "1706\n",
      "./1028/saildrone-gen_5-west_coast_survey_2018-sd1028-20180901T200000-20180901T215959-1_minutes-v2.1535841015039.nc\n",
      "1707\n",
      "./1028/saildrone-gen_5-west_coast_survey_2018-sd1028-20180917T060000-20180917T075959-1_minutes-v2.1537173015294.nc\n"
     ]
    },
    {
     "name": "stderr",
     "output_type": "stream",
     "text": [
      "/Users/senyastein/miniconda3/envs/satenv/lib/python3.7/site-packages/xarray/core/nanops.py:159: RuntimeWarning: Mean of empty slice\n",
      "  return np.nanmean(a, axis=axis, dtype=dtype)\n",
      "/Users/senyastein/miniconda3/envs/satenv/lib/python3.7/site-packages/xarray/core/nanops.py:159: RuntimeWarning: Mean of empty slice\n",
      "  return np.nanmean(a, axis=axis, dtype=dtype)\n",
      "/Users/senyastein/miniconda3/envs/satenv/lib/python3.7/site-packages/xarray/core/nanops.py:159: RuntimeWarning: Mean of empty slice\n",
      "  return np.nanmean(a, axis=axis, dtype=dtype)\n"
     ]
    },
    {
     "name": "stdout",
     "output_type": "stream",
     "text": [
      "1708\n",
      "./1028/saildrone-gen_5-west_coast_survey_2018-sd1028-20180918T120000-20180918T135959-1_minutes-v2.1537281016055.nc\n",
      "1709\n",
      "./1028/saildrone-gen_5-west_coast_survey_2018-sd1028-20180825T220000-20180825T235959-1_minutes-v2.1535243415673.nc\n",
      "1710\n",
      "./1028/saildrone-gen_5-west_coast_survey_2018-sd1028-20181001T020000-20181001T035959-1_minutes-v2.1538368213011.nc\n",
      "1711\n",
      "./1028/saildrone-gen_5-west_coast_survey_2018-sd1028-20180914T180000-20180914T195959-1_minutes-v2.1536957026714.nc\n",
      "1712\n",
      "./1028/saildrone-gen_5-west_coast_survey_2018-sd1028-20180806T180000-20180806T235959-1_minutes-v2.1533603674948.nc\n"
     ]
    },
    {
     "name": "stderr",
     "output_type": "stream",
     "text": [
      "/Users/senyastein/miniconda3/envs/satenv/lib/python3.7/site-packages/xarray/core/nanops.py:159: RuntimeWarning: Mean of empty slice\n",
      "  return np.nanmean(a, axis=axis, dtype=dtype)\n",
      "/Users/senyastein/miniconda3/envs/satenv/lib/python3.7/site-packages/xarray/core/nanops.py:159: RuntimeWarning: Mean of empty slice\n",
      "  return np.nanmean(a, axis=axis, dtype=dtype)\n",
      "/Users/senyastein/miniconda3/envs/satenv/lib/python3.7/site-packages/xarray/core/nanops.py:159: RuntimeWarning: Mean of empty slice\n",
      "  return np.nanmean(a, axis=axis, dtype=dtype)\n",
      "/Users/senyastein/miniconda3/envs/satenv/lib/python3.7/site-packages/xarray/core/nanops.py:159: RuntimeWarning: Mean of empty slice\n",
      "  return np.nanmean(a, axis=axis, dtype=dtype)\n"
     ]
    },
    {
     "name": "stdout",
     "output_type": "stream",
     "text": [
      "1713\n",
      "./1028/saildrone-gen_5-west_coast_survey_2018-sd1028-20180912T220000-20180912T235959-1_minutes-v2.1536798615921.nc\n",
      "1714\n",
      "./1028/saildrone-gen_5-west_coast_survey_2018-sd1028-20180928T080000-20180928T095959-1_minutes-v2.1538130616200.nc\n"
     ]
    },
    {
     "name": "stderr",
     "output_type": "stream",
     "text": [
      "/Users/senyastein/miniconda3/envs/satenv/lib/python3.7/site-packages/xarray/core/nanops.py:159: RuntimeWarning: Mean of empty slice\n",
      "  return np.nanmean(a, axis=axis, dtype=dtype)\n",
      "/Users/senyastein/miniconda3/envs/satenv/lib/python3.7/site-packages/xarray/core/nanops.py:159: RuntimeWarning: Mean of empty slice\n",
      "  return np.nanmean(a, axis=axis, dtype=dtype)\n"
     ]
    },
    {
     "name": "stdout",
     "output_type": "stream",
     "text": [
      "1715\n",
      "./1028/saildrone-gen_5-west_coast_survey_2018-sd1028-20180719T060000-20180719T115959-1_minutes-v2.1533317976958.nc\n",
      "1716\n",
      "./1028/saildrone-gen_5-west_coast_survey_2018-sd1028-20180923T060000-20180923T075959-1_minutes-v2.1537691414866.nc\n"
     ]
    },
    {
     "name": "stderr",
     "output_type": "stream",
     "text": [
      "/Users/senyastein/miniconda3/envs/satenv/lib/python3.7/site-packages/xarray/core/nanops.py:159: RuntimeWarning: Mean of empty slice\n",
      "  return np.nanmean(a, axis=axis, dtype=dtype)\n",
      "/Users/senyastein/miniconda3/envs/satenv/lib/python3.7/site-packages/xarray/core/nanops.py:159: RuntimeWarning: Mean of empty slice\n",
      "  return np.nanmean(a, axis=axis, dtype=dtype)\n"
     ]
    },
    {
     "name": "stdout",
     "output_type": "stream",
     "text": [
      "1717\n",
      "./1028/saildrone-gen_5-west_coast_survey_2018-sd1028-20180907T060000-20180907T075959-1_minutes-v2.1536309016253.nc\n",
      "1718\n",
      "./1028/saildrone-gen_5-west_coast_survey_2018-sd1028-20180925T040000-20180925T055959-1_minutes-v2.1537857016873.nc\n"
     ]
    },
    {
     "name": "stderr",
     "output_type": "stream",
     "text": [
      "/Users/senyastein/miniconda3/envs/satenv/lib/python3.7/site-packages/xarray/core/nanops.py:159: RuntimeWarning: Mean of empty slice\n",
      "  return np.nanmean(a, axis=axis, dtype=dtype)\n",
      "/Users/senyastein/miniconda3/envs/satenv/lib/python3.7/site-packages/xarray/core/nanops.py:159: RuntimeWarning: Mean of empty slice\n",
      "  return np.nanmean(a, axis=axis, dtype=dtype)\n",
      "/Users/senyastein/miniconda3/envs/satenv/lib/python3.7/site-packages/xarray/core/nanops.py:159: RuntimeWarning: Mean of empty slice\n",
      "  return np.nanmean(a, axis=axis, dtype=dtype)\n"
     ]
    },
    {
     "name": "stdout",
     "output_type": "stream",
     "text": [
      "1719\n",
      "./1028/saildrone-gen_5-west_coast_survey_2018-sd1028-20180803T060000-20180803T115959-1_minutes-v2.1533301237555.nc\n",
      "1720\n",
      "./1028/saildrone-gen_5-west_coast_survey_2018-sd1028-20180825T080000-20180825T095959-1_minutes-v2.1535193015809.nc\n",
      "1721\n",
      "./1028/saildrone-gen_5-west_coast_survey_2018-sd1028-20180926T160000-20180926T175959-1_minutes-v2.1537986615007.nc\n",
      "1722\n",
      "./1028/saildrone-gen_5-west_coast_survey_2018-sd1028-20181002T080000-20181002T095959-1_minutes-v2.1538476214000.nc\n",
      "1723\n"
     ]
    },
    {
     "name": "stderr",
     "output_type": "stream",
     "text": [
      "/Users/senyastein/miniconda3/envs/satenv/lib/python3.7/site-packages/xarray/core/nanops.py:159: RuntimeWarning: Mean of empty slice\n",
      "  return np.nanmean(a, axis=axis, dtype=dtype)\n",
      "/Users/senyastein/miniconda3/envs/satenv/lib/python3.7/site-packages/xarray/core/nanops.py:159: RuntimeWarning: Mean of empty slice\n",
      "  return np.nanmean(a, axis=axis, dtype=dtype)\n"
     ]
    },
    {
     "name": "stdout",
     "output_type": "stream",
     "text": [
      "./1028/saildrone-gen_5-west_coast_survey_2018-sd1028-20180917T120000-20180917T135959-1_minutes-v2.1537194615369.nc\n",
      "1724\n",
      "./1028/saildrone-gen_5-west_coast_survey_2018-sd1028-20180726T180000-20180726T235959-1_minutes-v2.1533319693458.nc\n"
     ]
    },
    {
     "name": "stderr",
     "output_type": "stream",
     "text": [
      "/Users/senyastein/miniconda3/envs/satenv/lib/python3.7/site-packages/xarray/core/nanops.py:159: RuntimeWarning: Mean of empty slice\n",
      "  return np.nanmean(a, axis=axis, dtype=dtype)\n",
      "/Users/senyastein/miniconda3/envs/satenv/lib/python3.7/site-packages/xarray/core/nanops.py:159: RuntimeWarning: Mean of empty slice\n",
      "  return np.nanmean(a, axis=axis, dtype=dtype)\n",
      "/Users/senyastein/miniconda3/envs/satenv/lib/python3.7/site-packages/xarray/core/nanops.py:159: RuntimeWarning: Mean of empty slice\n",
      "  return np.nanmean(a, axis=axis, dtype=dtype)\n"
     ]
    },
    {
     "name": "stdout",
     "output_type": "stream",
     "text": [
      "1725\n",
      "./1028/saildrone-gen_5-west_coast_survey_2018-sd1028-20180906T120000-20180906T135959-1_minutes-v2.1536244216069.nc\n",
      "1726\n"
     ]
    }
   ],
   "source": [
    "num = 0\n",
    "\n",
    "while(tf.next() != None):\n",
    "    url = (tf.next().name)\n",
    "    print(url)\n",
    "    if(tf.next() == None):\n",
    "        break;\n",
    "\n",
    "# swap obs for time\n",
    "    print(ds)\n",
    "    ds = ds.isel(trajectory=0)\n",
    "    ds = ds.swap_dims({'obs':'time'})\n",
    "\n",
    "#resample data to increments of 1 hr\n",
    "    dshr = ds.resample(time='1h', skipna=True, label='left').mean()\n",
    "   # dshr.to_netcdf('./../../data/saildrone_resampled.nc')\n",
    "\n",
    "    size = int(len(dshr['time'])) # set dataset size based on resample\n",
    "\n",
    "    #dshr = xr.open_dataset('./../../data/saildrone_resampled.nc')\n",
    "#define variables \n",
    "#'   ' corresponds to when incoming saildrone data doesnt include this variable\n",
    "    time_shift = dshr.time + np.timedelta64(30,'m')\n",
    "    lat_shift = ds.latitude\n",
    "    lon_shift = ds.longitude\n",
    "    IM = '01' #IMMA version\n",
    "    ATTC = ' ' #attm count\n",
    "    TI_var = '2' #time indicator\n",
    "    LI_var = '5' #latitude indicator\n",
    "    DSDV = '  ' #ship course and ship speed (within past three hours)\n",
    "    NID = '  ' #national source indicator\n",
    "    II = '  ' #ID indicator\n",
    "    ID = '         ' #callsign\n",
    "    C1 = '02' ### C1 is The country that recruited a ship, which may differ from the country of immediate receipt, see page 21, # 16 in IMMA documentation for full list of codes\n",
    "    VItoW1 = '      ' #VV indicator through past weather\n",
    "    AtoPPP = '  ' #characteristic of PPP through amt pressure tend\n",
    "    IT_var = '8' #indicator for temperatures\n",
    "    WBTItoDPT = '          ' #WBT indicator through dew-point temperature\n",
    "\n",
    "    SI_var = '04' #SST measure method\n",
    "    NtoCH = '       ' #total cloud amt though high cloud type\n",
    "    SDtoHDG = '' #swell direction through ship's heading (154 chars)\n",
    "    ALL_var = '' #the rest of the unused variables following SOG (458 chars)\n",
    "    for i in range(154-1):\n",
    "        SDtoHDG += ' '\n",
    "    for i in range(458-1):\n",
    "           ALL_var += ' '\n",
    "        \n",
    "    for i in range(size-1):\n",
    "    #format string output and put hours in correct units (.01hr)\n",
    "        HR = float(time_shift.dt.hour[i]+time_shift.dt.minute[i]/60)\n",
    "        HR = \"{0:.2f}\".format(HR).zfill(5)\n",
    "        HR = str(HR)\n",
    "           \n",
    "        time_str = str(time_shift.dt.year[i].data)+str(time_shift.dt.month[i].data).zfill(2)+str(time_shift.dt.day[i].data).zfill(2)+HR\n",
    "    #time_str is YR + MO + DY + HR\n",
    "    \n",
    "    #format and put lat and lon in correct units\n",
    "        LAT = float(lat_shift[i])\n",
    "        LAT = \"{0:.2f}\".format(LAT).zfill(6)\n",
    "        LON = float(lon_shift[i])\n",
    "        LON = \"{0:.2f}\".format(LON).zfill(7)\n",
    "        pos_str = str(LAT)+str(LON)\n",
    "    \n",
    "        DI_var = '6' #wind direction indicator\n",
    "        WI_var = '4' #wind speed indicator\n",
    "    \n",
    "        if np.isnan(ds.UWND_MEAN[i]) | np.isnan(ds.VWND_MEAN[i]):\n",
    "            D_var = '   ' #wind direction\n",
    "            W_var = '    ' #wind speed\n",
    "        else:\n",
    "        #convert U and V vectors to direction\n",
    "            D_var = float(np.arctan2(ds.VWND_MEAN[i].data, ds.UWND_MEAN[i].data)*180/np.pi) \n",
    "            D_var = \"{0:.0f}\".format(D_var).zfill(3)\n",
    "            D_var = str(D_var)\n",
    "        \n",
    "            WS_height=int(ds.UWND_MEAN.installed_height) #wind speed height\n",
    "        #saildrone measures at 4.5 m, buoys are at 5m. Following changes speed to account for a 10m height\n",
    "            UWND_MEAN = (ds.UWND_MEAN.data[i]*np.log(10./1e-4))/np.log(WS_height/1e-4)\n",
    "            VWND_MEAN = (ds.VWND_MEAN.data[i]*np.log(10./1e-4))/np.log(WS_height/1e-4)\n",
    "    \n",
    "        #W-var is wind speed\n",
    "            W_var = np.sqrt(ds.UWND_MEAN[i].data**2 + ds.VWND_MEAN[i].data**2) #convert vectors to speed\n",
    "            W_var = float(W_var/10) #unit conversion (1 m/s to .1 m/s)\n",
    "            W_var = \"{0:.1f}\".format(W_var).zfill(4) \n",
    "            W_var = str(W_var)\n",
    "    \n",
    "    #reformat the SLP and put in correct units\n",
    "        if np.isnan(ds.BARO_PRES_MEAN[i]):\n",
    "            SLP_var = '      ' #sea level pressure\n",
    "        else:\n",
    "            SLP_var = float(ds.BARO_PRES_MEAN[i].data*.1)\n",
    "            SLP_var = \"{0:.1f}\".format(SLP_var).zfill(6)\n",
    "            SLP_var = str(SLP_var)\n",
    "    \n",
    "        if np.isnan(ds.TEMP_AIR_MEAN[i]):\n",
    "            AT_var = '     ' #air temperature\n",
    "        else:\n",
    "            AT_var = ds.TEMP_AIR_MEAN[i]\n",
    "            AT_var = float(AT_var.data)*.1\n",
    "            AT_var = \"{0:.1f}\".format(AT_var).zfill(5)\n",
    "            AT_var = str(AT_var)\n",
    "        \n",
    "        if np.isnan(ds.TEMP_CTD_MEAN[i]):\n",
    "            SST_var = '     ' #sea surface temperature\n",
    "        else:\n",
    "            SST_var = ds.TEMP_CTD_MEAN[i]\n",
    "            SST_var = float(SST_var.data)*.1\n",
    "            SST_var = \"{0:.1f}\".format(SST_var).zfill(5)\n",
    "            SST_var = str(SST_var)\n",
    "        \n",
    "        if 'WAVE_DOMINANT_PERIOD' in locals(): #if this variable exists\n",
    "        #wave period\n",
    "            WD_var = '  '\n",
    "            WP_var = str(WAVE_DOMINANT_PERIOD[i].data)\n",
    "            WH_var = float((WAVE_SIGNIFICANT_HEIGHT[i].data)/2)\n",
    "            WH_var = str(WH_var)\n",
    "        else:\n",
    "            WD_var = '  ' #wave direction\n",
    "            WP_var = '  ' #wave period\n",
    "            WH_var = '  '#wave height\n",
    "        \n",
    "        COG_var = ds.COG #course over ground\n",
    "        SOG_var = ds.SOG #speed over ground\n",
    "    \n",
    "        COG_var = float(COG_var[i].data)\n",
    "        COG_var = \"{0:.0f}\".format(COG_var).zfill(3)\n",
    "        COG_var = str(COG_var)\n",
    "    \n",
    "        SOG_var = float((SOG_var[i].data)*1.944)\n",
    "        SOG_var = \"{0:.0f}\".format(SOG_var).zfill(2)\n",
    "        SOG_var = str(SOG_var)\n",
    "        \n",
    "    #combine all variables into one big string \n",
    "        Final_IMMA1_str = time_str + pos_str + IM + ATTC + TI_var + LI_var + DSDV + NID + II + ID + C1 + DI_var + D_var + WI_var + W_var + VItoW1 + SLP_var + AtoPPP + IT_var + AT_var + WBTItoDPT + SI_var + SST_var + NtoCH + WD_var + WP_var + WH_var + SDtoHDG + COG_var + SOG_var + ALL_var + '\\n' \n",
    "    \n",
    "    ###name or create your file to write IMMA data to:\n",
    "        f = open(\"./../../Data/IMMA_Data/IMMA_saildrone_test2.imma\", 'a+')\n",
    "    \n",
    "        f.write(Final_IMMA1_str)\n",
    "        f.close\n",
    "        num+=1\n",
    "        print(num)\n",
    "    "
   ]
  },
  {
   "cell_type": "code",
   "execution_count": null,
   "metadata": {},
   "outputs": [],
   "source": []
  }
 ],
 "metadata": {
  "kernelspec": {
   "display_name": "Python 3",
   "language": "python",
   "name": "python3"
  },
  "language_info": {
   "codemirror_mode": {
    "name": "ipython",
    "version": 3
   },
   "file_extension": ".py",
   "mimetype": "text/x-python",
   "name": "python",
   "nbconvert_exporter": "python",
   "pygments_lexer": "ipython3",
   "version": "3.7.3"
  }
 },
 "nbformat": 4,
 "nbformat_minor": 2
}
