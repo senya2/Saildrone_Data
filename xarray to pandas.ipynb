{
 "cells": [
  {
   "cell_type": "markdown",
   "metadata": {},
   "source": [
    "## converting data from xarray to pandas format"
   ]
  },
  {
   "cell_type": "code",
   "execution_count": 1,
   "metadata": {},
   "outputs": [],
   "source": [
    "import numpy as np\n",
    "import pandas as pn\n",
    "import xarray as xr\n",
    "import matplotlib.pyplot as plt\n"
   ]
  },
  {
   "cell_type": "markdown",
   "metadata": {},
   "source": [
    "### Saildrone data in xarray form"
   ]
  },
  {
   "cell_type": "code",
   "execution_count": 2,
   "metadata": {},
   "outputs": [
    {
     "data": {
      "text/plain": [
       "<xarray.Dataset>\n",
       "Dimensions:               (obs: 86839, trajectory: 1)\n",
       "Coordinates:\n",
       "  * trajectory            (trajectory) float32 1002.0\n",
       "    time                  (trajectory, obs) datetime64[ns] ...\n",
       "    latitude              (trajectory, obs) float64 ...\n",
       "    longitude             (trajectory, obs) float64 ...\n",
       "Dimensions without coordinates: obs\n",
       "Data variables:\n",
       "    SOG                   (trajectory, obs) float64 ...\n",
       "    COG                   (trajectory, obs) float64 ...\n",
       "    HDG                   (trajectory, obs) float64 ...\n",
       "    HDG_WING              (trajectory, obs) float64 ...\n",
       "    ROLL                  (trajectory, obs) float64 ...\n",
       "    PITCH                 (trajectory, obs) float64 ...\n",
       "    WING_ANGLE            (trajectory, obs) float64 ...\n",
       "    BARO_PRES_MEAN        (trajectory, obs) float64 ...\n",
       "    BARO_PRES_STDDEV      (trajectory, obs) float64 ...\n",
       "    TEMP_AIR_MEAN         (trajectory, obs) float64 ...\n",
       "    TEMP_AIR_STDDEV       (trajectory, obs) float64 ...\n",
       "    RH_MEAN               (trajectory, obs) float64 ...\n",
       "    RH_STDDEV             (trajectory, obs) float64 ...\n",
       "    TEMP_IR_UNCOR_MEAN    (trajectory, obs) float64 ...\n",
       "    TEMP_IR_UNCOR_STDDEV  (trajectory, obs) float64 ...\n",
       "    UWND_MEAN             (trajectory, obs) float64 ...\n",
       "    UWND_STDDEV           (trajectory, obs) float64 ...\n",
       "    VWND_MEAN             (trajectory, obs) float64 ...\n",
       "    VWND_STDDEV           (trajectory, obs) float64 ...\n",
       "    WWND_MEAN             (trajectory, obs) float64 ...\n",
       "    WWND_STDDEV           (trajectory, obs) float64 ...\n",
       "    GUST_WND_MEAN         (trajectory, obs) float64 ...\n",
       "    GUST_WND_STDDEV       (trajectory, obs) float64 ...\n",
       "    TEMP_CTD_MEAN         (trajectory, obs) float64 ...\n",
       "    TEMP_CTD_STDDEV       (trajectory, obs) float64 ...\n",
       "    COND_MEAN             (trajectory, obs) float64 ...\n",
       "    COND_STDDEV           (trajectory, obs) float64 ...\n",
       "    SAL_MEAN              (trajectory, obs) float64 ...\n",
       "    SAL_STDDEV            (trajectory, obs) float64 ...\n",
       "    O2_CONC_UNCOR_MEAN    (trajectory, obs) float64 ...\n",
       "    O2_CONC_UNCOR_STDDEV  (trajectory, obs) float64 ...\n",
       "    O2_SAT_MEAN           (trajectory, obs) float64 ...\n",
       "    O2_SAT_STDDEV         (trajectory, obs) float64 ...\n",
       "    TEMP_O2_MEAN          (trajectory, obs) float64 ...\n",
       "    TEMP_O2_STDDEV        (trajectory, obs) float64 ...\n",
       "    CHLOR_MEAN            (trajectory, obs) float64 ...\n",
       "    CHLOR_STDDEV          (trajectory, obs) float64 ...\n",
       "    CDOM_MEAN             (trajectory, obs) float64 ...\n",
       "    CDOM_STDDEV           (trajectory, obs) float64 ...\n",
       "    BKSCT_RED_MEAN        (trajectory, obs) float64 ...\n",
       "    BKSCT_RED_STDDEV      (trajectory, obs) float64 ...\n",
       "Attributes:\n",
       "    _NCProperties:             version=1|netcdflibversion=4.4.1.1|hdf5libvers...\n",
       "    title:                     Baja 2018 Near-Real-Time Mission Data\n",
       "    ncei_template_version:     NCEI_NetCDF_Trajectory_Template_v2.0\n",
       "    Conventions:               CF-1.6, ACDD-1.3\n",
       "    netcdf_version:            4.4.1.1\n",
       "    featureType:               trajectory\n",
       "    cdm_data_type:             Trajectory\n",
       "    standard_name_vocabulary:  CF Standard Name Table v58\n",
       "    description:               Saildrone NetCDF Format\n",
       "    creator_name:              Saildrone\n",
       "    platform:                  Saildrone\n",
       "    institution:               Saildrone\n",
       "    creator_email:             support@saildrone.com\n",
       "    creator_url:               http://saildrone.com/\n",
       "    date_created:              2018-08-29T21:02:49.774718Z\n",
       "    interval:                  60.0\n",
       "    time_coverage_resolution:  PT1M\n",
       "    time_coverage_start:       2018-04-11T18:00:00.000000Z\n",
       "    time_coverage_end:         2018-06-11T05:59:59.000000Z\n",
       "    time_coverage_duration:    P60DT11H59M59S\n",
       "    data_mode:                 realtime\n",
       "    drone_id:                  1002\n",
       "    id:                        3860\n",
       "    naming_authority:          com.saildrone\n",
       "    uuid:                      b98a9a81-d9f0-4751-aad6-8ea5b8cea963\n",
       "    geospatial_lat_min:        28.0176832\n",
       "    geospatial_lat_max:        37.8174912\n",
       "    geospatial_lat_units:      degrees_north\n",
       "    geospatial_lon_min:        -125.5529728\n",
       "    geospatial_lon_max:        -115.5226624\n",
       "    geospatial_lon_units:      degrees_east\n",
       "    area:                      Baja California Coast\n",
       "    project:                   baja_2018\n",
       "    product_version:           1\n",
       "    summary:                   The Saildrone unmanned surface vehicle (USV) c..."
      ]
     },
     "execution_count": 2,
     "metadata": {},
     "output_type": "execute_result"
    }
   ],
   "source": [
    "url = 'https://podaac-opendap.jpl.nasa.gov/opendap/hyrax/allData/insitu/L2/saildrone/Baja/saildrone-gen_4-baja_2018-sd1002-20180411T180000-20180611T055959-1_minutes-v1.nc'\n",
    "ds = xr.open_dataset(url)\n",
    "ds"
   ]
  },
  {
   "cell_type": "code",
   "execution_count": 3,
   "metadata": {},
   "outputs": [
    {
     "data": {
      "text/plain": [
       "<xarray.Dataset>\n",
       "Dimensions:               (time: 86839)\n",
       "Coordinates:\n",
       "    trajectory            float32 1002.0\n",
       "  * time                  (time) datetime64[ns] 2018-04-11T18:00:00 ... 2018-06-11T05:57:00\n",
       "    latitude              (time) float64 ...\n",
       "    longitude             (time) float64 ...\n",
       "Data variables:\n",
       "    SOG                   (time) float64 ...\n",
       "    COG                   (time) float64 ...\n",
       "    HDG                   (time) float64 ...\n",
       "    HDG_WING              (time) float64 ...\n",
       "    ROLL                  (time) float64 ...\n",
       "    PITCH                 (time) float64 ...\n",
       "    WING_ANGLE            (time) float64 ...\n",
       "    BARO_PRES_MEAN        (time) float64 ...\n",
       "    BARO_PRES_STDDEV      (time) float64 ...\n",
       "    TEMP_AIR_MEAN         (time) float64 ...\n",
       "    TEMP_AIR_STDDEV       (time) float64 ...\n",
       "    RH_MEAN               (time) float64 ...\n",
       "    RH_STDDEV             (time) float64 ...\n",
       "    TEMP_IR_UNCOR_MEAN    (time) float64 ...\n",
       "    TEMP_IR_UNCOR_STDDEV  (time) float64 ...\n",
       "    UWND_MEAN             (time) float64 ...\n",
       "    UWND_STDDEV           (time) float64 ...\n",
       "    VWND_MEAN             (time) float64 ...\n",
       "    VWND_STDDEV           (time) float64 ...\n",
       "    WWND_MEAN             (time) float64 ...\n",
       "    WWND_STDDEV           (time) float64 ...\n",
       "    GUST_WND_MEAN         (time) float64 ...\n",
       "    GUST_WND_STDDEV       (time) float64 ...\n",
       "    TEMP_CTD_MEAN         (time) float64 ...\n",
       "    TEMP_CTD_STDDEV       (time) float64 ...\n",
       "    COND_MEAN             (time) float64 ...\n",
       "    COND_STDDEV           (time) float64 ...\n",
       "    SAL_MEAN              (time) float64 ...\n",
       "    SAL_STDDEV            (time) float64 ...\n",
       "    O2_CONC_UNCOR_MEAN    (time) float64 ...\n",
       "    O2_CONC_UNCOR_STDDEV  (time) float64 ...\n",
       "    O2_SAT_MEAN           (time) float64 ...\n",
       "    O2_SAT_STDDEV         (time) float64 ...\n",
       "    TEMP_O2_MEAN          (time) float64 ...\n",
       "    TEMP_O2_STDDEV        (time) float64 ...\n",
       "    CHLOR_MEAN            (time) float64 ...\n",
       "    CHLOR_STDDEV          (time) float64 ...\n",
       "    CDOM_MEAN             (time) float64 ...\n",
       "    CDOM_STDDEV           (time) float64 ...\n",
       "    BKSCT_RED_MEAN        (time) float64 ...\n",
       "    BKSCT_RED_STDDEV      (time) float64 ...\n",
       "Attributes:\n",
       "    _NCProperties:             version=1|netcdflibversion=4.4.1.1|hdf5libvers...\n",
       "    title:                     Baja 2018 Near-Real-Time Mission Data\n",
       "    ncei_template_version:     NCEI_NetCDF_Trajectory_Template_v2.0\n",
       "    Conventions:               CF-1.6, ACDD-1.3\n",
       "    netcdf_version:            4.4.1.1\n",
       "    featureType:               trajectory\n",
       "    cdm_data_type:             Trajectory\n",
       "    standard_name_vocabulary:  CF Standard Name Table v58\n",
       "    description:               Saildrone NetCDF Format\n",
       "    creator_name:              Saildrone\n",
       "    platform:                  Saildrone\n",
       "    institution:               Saildrone\n",
       "    creator_email:             support@saildrone.com\n",
       "    creator_url:               http://saildrone.com/\n",
       "    date_created:              2018-08-29T21:02:49.774718Z\n",
       "    interval:                  60.0\n",
       "    time_coverage_resolution:  PT1M\n",
       "    time_coverage_start:       2018-04-11T18:00:00.000000Z\n",
       "    time_coverage_end:         2018-06-11T05:59:59.000000Z\n",
       "    time_coverage_duration:    P60DT11H59M59S\n",
       "    data_mode:                 realtime\n",
       "    drone_id:                  1002\n",
       "    id:                        3860\n",
       "    naming_authority:          com.saildrone\n",
       "    uuid:                      b98a9a81-d9f0-4751-aad6-8ea5b8cea963\n",
       "    geospatial_lat_min:        28.0176832\n",
       "    geospatial_lat_max:        37.8174912\n",
       "    geospatial_lat_units:      degrees_north\n",
       "    geospatial_lon_min:        -125.5529728\n",
       "    geospatial_lon_max:        -115.5226624\n",
       "    geospatial_lon_units:      degrees_east\n",
       "    area:                      Baja California Coast\n",
       "    project:                   baja_2018\n",
       "    product_version:           1\n",
       "    summary:                   The Saildrone unmanned surface vehicle (USV) c..."
      ]
     },
     "execution_count": 3,
     "metadata": {},
     "output_type": "execute_result"
    }
   ],
   "source": [
    "# swap obs for time\n",
    "ds=ds.isel(trajectory=0)\n",
    "ds = ds.swap_dims({'obs':'time'})\n",
    "ds"
   ]
  },
  {
   "cell_type": "code",
   "execution_count": null,
   "metadata": {},
   "outputs": [],
   "source": [
    "#resample to make time = 1 hr increments\n",
    "dshr=ds.SOG.resample(time='1h', skipna=True, label='left').mean()\n",
    "dshr\n",
    "# does data need to be averaged from beginning of hour to end, or from half way through one hour and half through the other??\n",
    "#for now, we will average hours from beginning of hour to the end, how resample defaults"
   ]
  },
  {
   "cell_type": "markdown",
   "metadata": {},
   "source": [
    "# do the math stuff in xarray\n",
    "#then save as a dataframe, then to strings of the data "
   ]
  },
  {
   "cell_type": "code",
   "execution_count": 15,
   "metadata": {},
   "outputs": [
    {
     "ename": "TypeError",
     "evalue": "ufunc multiply cannot use operands with types dtype('<M8[ns]') and dtype('float64')",
     "output_type": "error",
     "traceback": [
      "\u001b[0;31m---------------------------------------------------------------------------\u001b[0m",
      "\u001b[0;31mTypeError\u001b[0m                                 Traceback (most recent call last)",
      "\u001b[0;32m<ipython-input-15-e0ba0afd3ad2>\u001b[0m in \u001b[0;36m<module>\u001b[0;34m\u001b[0m\n\u001b[0;32m----> 1\u001b[0;31m \u001b[0mdshr\u001b[0m\u001b[0;34m.\u001b[0m\u001b[0mtime\u001b[0m \u001b[0;34m=\u001b[0m \u001b[0;34m(\u001b[0m\u001b[0mdshr\u001b[0m\u001b[0;34m.\u001b[0m\u001b[0mtime\u001b[0m\u001b[0;34m)\u001b[0m\u001b[0;34m*\u001b[0m\u001b[0;36m.01\u001b[0m\u001b[0;34m\u001b[0m\u001b[0;34m\u001b[0m\u001b[0m\n\u001b[0m\u001b[1;32m      2\u001b[0m \u001b[0mdshr\u001b[0m\u001b[0;34m.\u001b[0m\u001b[0mtime\u001b[0m\u001b[0;34m\u001b[0m\u001b[0;34m\u001b[0m\u001b[0m\n",
      "\u001b[0;32m~/miniconda3/envs/satenv/lib/python3.7/site-packages/xarray/core/dataarray.py\u001b[0m in \u001b[0;36mfunc\u001b[0;34m(self, other)\u001b[0m\n\u001b[1;32m   2007\u001b[0m \u001b[0;34m\u001b[0m\u001b[0m\n\u001b[1;32m   2008\u001b[0m             variable = (f(self.variable, other_variable)\n\u001b[0;32m-> 2009\u001b[0;31m                         \u001b[0;32mif\u001b[0m \u001b[0;32mnot\u001b[0m \u001b[0mreflexive\u001b[0m\u001b[0;34m\u001b[0m\u001b[0;34m\u001b[0m\u001b[0m\n\u001b[0m\u001b[1;32m   2010\u001b[0m                         else f(other_variable, self.variable))\n\u001b[1;32m   2011\u001b[0m             \u001b[0mcoords\u001b[0m \u001b[0;34m=\u001b[0m \u001b[0mself\u001b[0m\u001b[0;34m.\u001b[0m\u001b[0mcoords\u001b[0m\u001b[0;34m.\u001b[0m\u001b[0m_merge_raw\u001b[0m\u001b[0;34m(\u001b[0m\u001b[0mother_coords\u001b[0m\u001b[0;34m)\u001b[0m\u001b[0;34m\u001b[0m\u001b[0;34m\u001b[0m\u001b[0m\n",
      "\u001b[0;32m~/miniconda3/envs/satenv/lib/python3.7/site-packages/xarray/core/variable.py\u001b[0m in \u001b[0;36mfunc\u001b[0;34m(self, other)\u001b[0m\n\u001b[1;32m   1770\u001b[0m             \u001b[0;32mwith\u001b[0m \u001b[0mnp\u001b[0m\u001b[0;34m.\u001b[0m\u001b[0merrstate\u001b[0m\u001b[0;34m(\u001b[0m\u001b[0mall\u001b[0m\u001b[0;34m=\u001b[0m\u001b[0;34m'ignore'\u001b[0m\u001b[0;34m)\u001b[0m\u001b[0;34m:\u001b[0m\u001b[0;34m\u001b[0m\u001b[0;34m\u001b[0m\u001b[0m\n\u001b[1;32m   1771\u001b[0m                 new_data = (f(self_data, other_data)\n\u001b[0;32m-> 1772\u001b[0;31m                             \u001b[0;32mif\u001b[0m \u001b[0;32mnot\u001b[0m \u001b[0mreflexive\u001b[0m\u001b[0;34m\u001b[0m\u001b[0;34m\u001b[0m\u001b[0m\n\u001b[0m\u001b[1;32m   1773\u001b[0m                             else f(other_data, self_data))\n\u001b[1;32m   1774\u001b[0m             \u001b[0mresult\u001b[0m \u001b[0;34m=\u001b[0m \u001b[0mVariable\u001b[0m\u001b[0;34m(\u001b[0m\u001b[0mdims\u001b[0m\u001b[0;34m,\u001b[0m \u001b[0mnew_data\u001b[0m\u001b[0;34m,\u001b[0m \u001b[0mattrs\u001b[0m\u001b[0;34m=\u001b[0m\u001b[0mattrs\u001b[0m\u001b[0;34m)\u001b[0m\u001b[0;34m\u001b[0m\u001b[0;34m\u001b[0m\u001b[0m\n",
      "\u001b[0;31mTypeError\u001b[0m: ufunc multiply cannot use operands with types dtype('<M8[ns]') and dtype('float64')"
     ]
    }
   ],
   "source": [
    "dshr.time = (dshr.time)*.01\n",
    "dshr.time"
   ]
  },
  {
   "cell_type": "code",
   "execution_count": null,
   "metadata": {},
   "outputs": [],
   "source": []
  },
  {
   "cell_type": "markdown",
   "metadata": {},
   "source": [
    "### Decode and store data as Pandas"
   ]
  },
  {
   "cell_type": "code",
   "execution_count": null,
   "metadata": {},
   "outputs": [],
   "source": [
    "pd_ds = ds.to_dataframe()\n",
    "pd_ds"
   ]
  },
  {
   "cell_type": "code",
   "execution_count": null,
   "metadata": {},
   "outputs": [],
   "source": [
    "pd_ds[['time', 'PITCH']]"
   ]
  },
  {
   "cell_type": "code",
   "execution_count": null,
   "metadata": {},
   "outputs": [],
   "source": [
    "#write dataframe to file\n",
    "pd_ds.to_csv(\"test1.csv\")  \n",
    "#read it back\n",
    "pd.read_csv(\"test1.csv\").head()"
   ]
  },
  {
   "cell_type": "markdown",
   "metadata": {},
   "source": [
    "### Convert new csv file to a text file"
   ]
  },
  {
   "cell_type": "code",
   "execution_count": null,
   "metadata": {},
   "outputs": [],
   "source": [
    "# A simple program to create a formatted text file from a *.csv file.\n",
    "\n",
    "csv_file = input('test1.csv')\n",
    "txt_file = input('test1.txt')\n",
    "\n",
    "try:\n",
    "    my_input_file = open(csv_file, \"r\")\n",
    "except IOError as e:\n",
    "    print(\"I/O error({0}): {1}\".format(e.errno, e.strerror))\n",
    "\n",
    "if not my_input_file.closed:\n",
    "    text_list = [];\n",
    "    for line in my_input_file.readlines():\n",
    "        line = line.split(\",\", 2)\n",
    "        text_list.append(\" \".join(line))\n",
    "    my_input_file.close()\n",
    "\n",
    "try:\n",
    "    my_output_file = open(txt_file, \"w\")\n",
    "except IOError as e:\n",
    "    print(\"I/O error({0}): {1}\".format(e.errno, e.strerror))\n",
    "\n",
    "if not my_output_file.closed:\n",
    "    my_output_file.write(\"#1\\n\")\n",
    "    my_output_file.write(\"double({},{})\\n\".format(len(text_list), 2))\n",
    "    for line in text_list:\n",
    "        my_output_file.write(\"  \" + line)\n",
    "    print('File Successfully written.')\n",
    "    my_output_file.close()"
   ]
  },
  {
   "cell_type": "code",
   "execution_count": null,
   "metadata": {},
   "outputs": [],
   "source": []
  },
  {
   "cell_type": "code",
   "execution_count": null,
   "metadata": {},
   "outputs": [],
   "source": []
  },
  {
   "cell_type": "code",
   "execution_count": null,
   "metadata": {},
   "outputs": [],
   "source": []
  }
 ],
 "metadata": {
  "kernelspec": {
   "display_name": "Python 3",
   "language": "python",
   "name": "python3"
  },
  "language_info": {
   "codemirror_mode": {
    "name": "ipython",
    "version": 3
   },
   "file_extension": ".py",
   "mimetype": "text/x-python",
   "name": "python",
   "nbconvert_exporter": "python",
   "pygments_lexer": "ipython3",
   "version": "3.7.3"
  }
 },
 "nbformat": 4,
 "nbformat_minor": 2
}
