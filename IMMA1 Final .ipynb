{
 "cells": [
  {
   "cell_type": "markdown",
   "metadata": {},
   "source": [
    "#### Developed by Senya Stein (senyarocks11@gmail.com) in July 2019 for use with Saildrone data\n",
    "\n",
    "#### IMMA documentation is at https://rda.ucar.edu/datasets/ds548.0/#!docs\n",
    "\n",
    "#### Can be used with conversion from IMMA code developed by Zhankun Wang and Phillip Brohan: https://github.com/oldweather/IMMA/blob/master/Python/IMMA/icoads.py"
   ]
  },
  {
   "cell_type": "markdown",
   "metadata": {},
   "source": [
    "### Note: IMMA expects specific units and instrumentation, this program assumes the following incoming data, instruments, and country codes:\n",
    "\n",
    "Latitude- Degrees North (hundredths+)\n",
    "\n",
    "Longitude- Degrees East (hundredths+)\n",
    "\n",
    "Time- Hours plus minutes\n",
    "\n",
    "Country that recruited ship- United States (C1_var, will need manual change)\n",
    "\n",
    "Wind direction compass precision- Tenths+ of degrees\n",
    "\n",
    "Wind speed units- knots, obtained from anemometer (measured)\n",
    "\n",
    "Sea level pressure- Hpa\n",
    "\n",
    "Sea surface temperature- taken with a through hull sensor ASK IF CORRECT TO IMMA PPL (pumped CTD measurment)\n",
    "\n",
    "Wave period and wave height- don't exist at default, if data includes this, change WD_var, WH_var, WP_var (around line 70)\n",
    "\n",
    "\n",
    "\n"
   ]
  },
  {
   "cell_type": "code",
   "execution_count": 14,
   "metadata": {},
   "outputs": [],
   "source": [
    "import numpy as np\n",
    "import pandas as pn\n",
    "import xarray as xr\n",
    "import matplotlib.pyplot as plt\n",
    "import datetime as dt\n",
    "import netCDF4"
   ]
  },
  {
   "cell_type": "code",
   "execution_count": 15,
   "metadata": {},
   "outputs": [
    {
     "data": {
      "text/plain": [
       "<xarray.Dataset>\n",
       "Dimensions:             (obs: 86839, trajectory: 1)\n",
       "Coordinates:\n",
       "  * trajectory          (trajectory) float32 1002.0\n",
       "    time                (trajectory, obs) datetime64[ns] ...\n",
       "    latitude            (trajectory, obs) float64 ...\n",
       "    longitude           (trajectory, obs) float64 ...\n",
       "Dimensions without coordinates: obs\n",
       "Data variables:\n",
       "    SOG                 (trajectory, obs) float64 ...\n",
       "    COG                 (trajectory, obs) float64 ...\n",
       "    HDG                 (trajectory, obs) float64 ...\n",
       "    HDG_WING            (trajectory, obs) float64 ...\n",
       "    BARO_PRES_MEAN      (trajectory, obs) float64 ...\n",
       "    TEMP_AIR_MEAN       (trajectory, obs) float64 ...\n",
       "    RH_MEAN             (trajectory, obs) float64 ...\n",
       "    TEMP_IR_UNCOR_MEAN  (trajectory, obs) float64 ...\n",
       "    UWND_MEAN           (trajectory, obs) float64 ...\n",
       "    VWND_MEAN           (trajectory, obs) float64 ...\n",
       "    WWND_MEAN           (trajectory, obs) float64 ...\n",
       "    WWND_STDDEV         (trajectory, obs) float64 ...\n",
       "    GUST_WND_MEAN       (trajectory, obs) float64 ...\n",
       "    TEMP_CTD_MEAN       (trajectory, obs) float64 ...\n",
       "    COND_MEAN           (trajectory, obs) float64 ...\n",
       "    SAL_MEAN            (trajectory, obs) float64 ...\n",
       "    CDOM_MEAN           (trajectory, obs) float64 ...\n",
       "Attributes:\n",
       "    title:                     Baja 2018 Near-Real-Time Mission Data\n",
       "    ncei_template_version:     NCEI_NetCDF_Trajectory_Template_v2.0\n",
       "    Conventions:               CF-1.6, ACDD-1.3\n",
       "    netcdf_version:            4.4.1.1\n",
       "    featureType:               trajectory\n",
       "    cdm_data_type:             Trajectory\n",
       "    standard_name_vocabulary:  CF Standard Name Table v58\n",
       "    description:               Saildrone NetCDF Format\n",
       "    creator_name:              Saildrone\n",
       "    platform:                  Saildrone\n",
       "    institution:               Saildrone\n",
       "    creator_email:             support@saildrone.com\n",
       "    creator_url:               http://saildrone.com/\n",
       "    date_created:              2018-08-29T21:02:49.774718Z\n",
       "    interval:                  60.0\n",
       "    time_coverage_resolution:  PT1M\n",
       "    time_coverage_start:       2018-04-11T18:00:00.000000Z\n",
       "    time_coverage_end:         2018-06-11T05:59:59.000000Z\n",
       "    time_coverage_duration:    P60DT11H59M59S\n",
       "    data_mode:                 realtime\n",
       "    drone_id:                  1002\n",
       "    id:                        3860\n",
       "    naming_authority:          com.saildrone\n",
       "    uuid:                      b98a9a81-d9f0-4751-aad6-8ea5b8cea963\n",
       "    geospatial_lat_min:        28.0176832\n",
       "    geospatial_lat_max:        37.8174912\n",
       "    geospatial_lat_units:      degrees_north\n",
       "    geospatial_lon_min:        -125.55297279999999\n",
       "    geospatial_lon_max:        -115.5226624\n",
       "    geospatial_lon_units:      degrees_east\n",
       "    area:                      Baja California Coast\n",
       "    project:                   baja_2018\n",
       "    product_version:           1\n",
       "    summary:                   The Saildrone unmanned surface vehicle (USV) c..."
      ]
     },
     "execution_count": 15,
     "metadata": {},
     "output_type": "execute_result"
    }
   ],
   "source": [
    "#url = 'https://podaac-opendap.jpl.nasa.gov/opendap/hyrax/allData/insitu/L2/saildrone/Baja/saildrone-gen_4-baja_2018-sd1002-20180411T180000-20180611T055959-1_minutes-v1.nc'\n",
    "url = './../../data/saildrone-gen_4-baja_2018-sd1002-20180411T180000-20180611T055959-1_minutes-v1.nc'\n",
    "\n",
    "#change url variable, input your data opendap \n",
    "ds = xr.open_dataset(url, drop_variables = {'WING_ANGLE','BARO_PRES_STDDEV', 'ROLL', 'PITCH', 'TEMP_AIR_STDDEV', 'RH_STDDEV', 'UWND_STDDEV', 'VWND_STDDEV', 'GUST_WND_STDDEV', 'TEMP_CTD_STDDEV', 'COND_STDDEV', 'SAL_STDDEV', 'O2_CONC_UNCOR_MEAN', 'O2_CONC_UNCOR_STDDEV', 'O2_SAT_MEAN', 'O2_SAT_STDDEV', 'TEMP_O2_MEAN', 'TEMP_O2_STDDEV', 'CHLOR_MEAN', 'CHLOR_STDDEV', 'BKSCT_RED_MEAN', 'BKSCT_RED_STDDEV', 'CDOM_STDDEV', ' WWND_STDDEV', 'TEMP_IR_UNCOR_STDDEV' })\n",
    "ds"
   ]
  },
  {
   "cell_type": "code",
   "execution_count": 16,
   "metadata": {},
   "outputs": [
    {
     "name": "stdout",
     "output_type": "stream",
     "text": [
      "1452\n"
     ]
    }
   ],
   "source": [
    "# swap obs for time\n",
    "ds = ds.isel(trajectory=0)\n",
    "ds = ds.swap_dims({'obs':'time'})\n",
    "\n",
    "#pd_ds = ds.to_dataframe()\n",
    "#dshr = pd_ds.set_index('time').groupby(pd.Grouper(freq='1H')).mean()\n",
    "#dshr = ds\n",
    "#resample data to increments of 1 hr\n",
    "dshr = ds.resample(time='1h', skipna=True, label='left').mean()\n",
    "dshr.to_netcdf('./../../data/saildrone_resampled.nc')\n",
    "size = int(len(dshr['time']))\n",
    "print(size)"
   ]
  },
  {
   "cell_type": "code",
   "execution_count": 17,
   "metadata": {},
   "outputs": [],
   "source": [
    "dshr = xr.open_dataset('./../../data/saildrone_resampled.nc')\n",
    "#define variables \n",
    "time_shift = dshr.time + np.timedelta64(30,'m')\n",
    "lat_shift = ds.latitude\n",
    "lon_shift = ds.longitude\n",
    "IM = '01'\n",
    "ATTC = ' '\n",
    "TI_var = '2'\n",
    "LI_var = '5'\n",
    "DSDV = '  '\n",
    "#NID-2 \n",
    "NID = '  '\n",
    "II = '  '#2\n",
    "ID = '         '#9\n",
    "C1 = '02'\n",
    "### C1 is The country that recruited a ship, which may differ from the country of immediate receipt, see page 21, # 16 in IMMA documentation for full list of codes\n",
    "#VI-1 VV-2 WW-2 W1- 1\n",
    "VItoW1 = '      '\n",
    "AtoIT = '    '\n",
    "WBTItoDPT = '          '\n",
    "\n",
    "\n",
    "SI_var = '04'\n",
    "NtoCH = '       '\n",
    "SDtoHDG = ''#154\n",
    "ALL_var = ''#458\n",
    "for i in range(154-1):\n",
    "    SDtoHDG += ' '\n",
    "for i in range(458-1):\n",
    "       ALL_var += ' '\n",
    "        \n",
    "for i in range(size-1):\n",
    "    #format string output and put hours in correct units (.01hr)\n",
    "    HR = float(time_shift.dt.hour[i]+time_shift.dt.minute[i]/60)\n",
    "    HR = \"{0:.2f}\".format(HR).zfill(5)\n",
    "    HR = str(HR)\n",
    "           \n",
    "    time_str = str(time_shift.dt.year[i].data)+str(time_shift.dt.month[i].data).zfill(2)+str(time_shift.dt.day[i].data).zfill(2)+HR\n",
    "    #time_str is YR + MO + DY + HR\n",
    "    LAT = float(lat_shift[i])\n",
    "    LAT = \"{0:.2f}\".format(LAT).zfill(6)\n",
    "    LON = float(lon_shift[i])\n",
    "    LON = \"{0:.2f}\".format(LON).zfill(7)\n",
    "    pos_str = str(LAT)+str(LON)\n",
    "\n",
    "    #DSDV = str(DS_var[i].data)+str(DV_var[i].data)\n",
    "    \n",
    "    DI_var = '6'\n",
    "    D_var = float(np.arctan2(ds.VWND_MEAN[i].data, ds.UWND_MEAN[i].data)*180/np.pi) \n",
    "    D_var = \"{0:.0f}\".format(D_var).zfill(3)\n",
    "    D_var = str(D_var)\n",
    "    #this is wind TO direction, is imma wind FROM?\n",
    "    WI_var = '4'\n",
    "    W_var = np.sqrt(ds.UWND_MEAN[i].data**2 + ds.VWND_MEAN[i].data**2) #convert vectors to speed\n",
    "    W_var = float(W_var/.19444)\n",
    "    W_var = \"{0:.1f}\".format(W_var).zfill(4) #unit conversion (kn to .1 m/s)\n",
    "    W_var = str(W_var)\n",
    "    \n",
    "    #reformat the SLP and put in correcnt units\n",
    "    SLP_var = float(ds.BARO_PRES_MEAN[i].data*.1)\n",
    "    SLP_var = \"{0:.1f}\".format(SLP_var).zfill(6)\n",
    "    SLP_var = str(SLP_var)\n",
    "    IT_var = '8'\n",
    "\n",
    "    AT_var = ds.TEMP_AIR_MEAN[i]\n",
    "    AT_var = float(AT_var.data)*.1\n",
    "    AT_var = \"{0:.1f}\".format(AT_var).zfill(5)\n",
    "    AT_var = str(AT_var)\n",
    "    \n",
    "    SST_var = ds.TEMP_CTD_MEAN[i]\n",
    "    SST_var = float(SST_var.data)*.1\n",
    "    SST_var = \"{0:.1f}\".format(SST_var).zfill(5)\n",
    "    SST_var = str(SST_var)\n",
    "    \n",
    "    ##IF DS HAS WAVE PERIOD AND HEIGHT DATA, THIS WILL NEED CHANGING\n",
    "    #some sets have wave data, some don't:\n",
    "  #  WD_var = '  '\n",
    "  #  WP_var = str(WAVE_DOMINANT_PERIOD[i].data)\n",
    "  #  WH_var = str(WAVE_SIGNIFICANT_HEIGHT[i].data)\n",
    "\n",
    "        #WD-2 WP-2 WH-2\n",
    "    WD_var = '  '\n",
    "    WP_var = '  '\n",
    "    WH_var = '  '\n",
    "    \n",
    "    COG_var = ds.COG\n",
    "    SOG_var = ds.SOG\n",
    "    \n",
    "    COG_var = float(COG_var[i].data)\n",
    "    COG_var = \"{0:.0f}\".format(COG_var).zfill(3)\n",
    "    COG_var = str(COG_var)\n",
    "    \n",
    "    SOG_var = float((SOG_var[i].data)*1.944)\n",
    "    SOG_var = \"{0:.0f}\".format(SOG_var).zfill(2)\n",
    "    SOG_var = str(SOG_var)\n",
    "        \n",
    "    Final_IMMA1_str = time_str + pos_str + IM + ATTC + TI_var + LI_var + DSDV + NID + II + ID + C1 + DI_var + D_var + WI_var + W_var + VItoW1 + SLP_var + AtoIT + IT_var + AT_var + WBTItoDPT + SI_var + SST_var + NtoCH + WD_var + WP_var + WH_var + SDtoHDG + COG_var + SOG_var + ALL_var + '\\n' \n",
    "    \n",
    "    f = open(\"IMMA_saildrone_test.imma\", 'a+')\n",
    "    #name or create your file to write IMMA data to in above line\n",
    "    f.write(Final_IMMA1_str)\n",
    "    f.close\n",
    "    "
   ]
  },
  {
   "cell_type": "code",
   "execution_count": 60,
   "metadata": {},
   "outputs": [
    {
     "name": "stdout",
     "output_type": "stream",
     "text": [
      "6.2\n",
      "286.8000000000002\n"
     ]
    },
    {
     "data": {
      "text/plain": [
       "'m s-1'"
      ]
     },
     "execution_count": 60,
     "metadata": {},
     "output_type": "execute_result"
    }
   ],
   "source": [
    "HR = float(6.2)\n",
    "#HR = str(HR).format(HR, '%2.2f')#.zfill(5)\n",
    "#HR = HR.zfill(5)\n",
    "print(HR)\n",
    "\n",
    "\"{0:.2f}\".format(HR).zfill(5)\n",
    "\n",
    "LAT = float(lat_shift[i])\n",
    "LAT = \"{0:.2f}\".format(HR).zfill(6)\n",
    "\n",
    "print(str(DS_var[1].data))#+str(DV_var[1].data))\n",
    "ds.UWND_MEAN.units"
   ]
  },
  {
   "cell_type": "code",
   "execution_count": null,
   "metadata": {},
   "outputs": [],
   "source": [
    "## if data is nan, print('') for it \n",
    "## DS amd VS are wrong, what would it be acrually??\n",
    "#double check W_var calculation"
   ]
  }
 ],
 "metadata": {
  "kernelspec": {
   "display_name": "Python 3",
   "language": "python",
   "name": "python3"
  },
  "language_info": {
   "codemirror_mode": {
    "name": "ipython",
    "version": 3
   },
   "file_extension": ".py",
   "mimetype": "text/x-python",
   "name": "python",
   "nbconvert_exporter": "python",
   "pygments_lexer": "ipython3",
   "version": "3.7.3"
  }
 },
 "nbformat": 4,
 "nbformat_minor": 2
}
